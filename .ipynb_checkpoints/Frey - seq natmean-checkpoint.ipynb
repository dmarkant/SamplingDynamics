{
 "metadata": {
  "name": "",
  "signature": "sha256:a3000eb60ec7e89044d1d75ca5181be8074149dd1fa87091bfdbf615e918064b"
 },
 "nbformat": 3,
 "nbformat_minor": 0,
 "worksheets": [
  {
   "cells": [
    {
     "cell_type": "code",
     "collapsed": false,
     "input": [
      "import numpy as np\n",
      "import pandas as pd\n",
      "from mypy.explib.frey2014 import frey2014\n",
      "from model_natmean import model_natmean\n",
      "%load_ext autoreload\n",
      "%autoreload 2"
     ],
     "language": "python",
     "metadata": {},
     "outputs": [],
     "prompt_number": 1
    },
    {
     "cell_type": "code",
     "collapsed": false,
     "input": [
      "subjdata = frey2014.sampledata_by_subject()"
     ],
     "language": "python",
     "metadata": {},
     "outputs": [],
     "prompt_number": 15
    },
    {
     "cell_type": "code",
     "collapsed": false,
     "input": [
      "ret = model_natmean.fit_subject_across_gambles(subjdata[23], \n",
      "                                               {'ignorechoices': True}, \n",
      "                                               ['theta', 'eval_pow', 'eval_crit', 'z_sd', 'rho'])"
     ],
     "language": "python",
     "metadata": {},
     "outputs": [],
     "prompt_number": 28
    },
    {
     "cell_type": "code",
     "collapsed": false,
     "input": [
      "ret"
     ],
     "language": "python",
     "metadata": {},
     "outputs": [
      {
       "metadata": {},
       "output_type": "pyout",
       "prompt_number": 29,
       "text": [
        "{'bf_par': {'eval_crit': 1.1734646728506524,\n",
        "  'eval_pow': 3.5921913886039924e-08,\n",
        "  'rho': 0.27606101014165779,\n",
        "  'theta': 28.740262397740302,\n",
        "  'z_sd': 9.7039768375563185},\n",
        " 'bic': 2041.5183477263499,\n",
        " 'nllh': 1002.7450859221491,\n",
        " 'success': False}"
       ]
      }
     ],
     "prompt_number": 29
    },
    {
     "cell_type": "code",
     "collapsed": false,
     "input": [
      "pars = {'data': subjdata[23][0]}\n",
      "for p in ret['bf_par']:\n",
      "    pars[p] = ret['bf_par'][p]"
     ],
     "language": "python",
     "metadata": {},
     "outputs": [],
     "prompt_number": 32
    },
    {
     "cell_type": "code",
     "collapsed": false,
     "input": [
      "pars"
     ],
     "language": "python",
     "metadata": {},
     "outputs": [
      {
       "metadata": {},
       "output_type": "pyout",
       "prompt_number": 33,
       "text": [
        "{'data': {'choice': 1,\n",
        "  'gid': 'S1G1',\n",
        "  'outcomes': array([18,  0, 18, 12,  0,  0,  1,  0,  1,  0, 18, 18,  0,  4,  4,  4,  0,\n",
        "          1, 18]),\n",
        "  'sampledata': array([1, 0, 1, 0, 1, 0, 1, 0, 1, 0, 1, 1, 1, 0, 0, 0, 1, 1, 1]),\n",
        "  'sid': 23},\n",
        " 'eval_crit': 1.1734646728506524,\n",
        " 'eval_pow': 3.5921913886039924e-08,\n",
        " 'rho': 0.27606101014165779,\n",
        " 'theta': 28.740262397740302,\n",
        " 'z_sd': 9.7039768375563185}"
       ]
      }
     ],
     "prompt_number": 33
    },
    {
     "cell_type": "code",
     "collapsed": false,
     "input": [
      "states = []\n",
      "for sdata in subjdata[23]:\n",
      "    pars = {'data': sdata}\n",
      "    for p in ret['bf_par']:\n",
      "        pars[p] = ret['bf_par'][p]\n",
      "    result = model_natmean.run(pars)\n",
      "    states.append(result['pref'])"
     ],
     "language": "python",
     "metadata": {},
     "outputs": [],
     "prompt_number": 36
    },
    {
     "cell_type": "code",
     "collapsed": false,
     "input": [],
     "language": "python",
     "metadata": {},
     "outputs": []
    }
   ],
   "metadata": {}
  }
 ]
}