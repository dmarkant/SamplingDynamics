{
 "metadata": {
  "name": "",
  "signature": "sha256:cb0c2f1e1f54c9a783c6332d7045ed84b91b39171554f0d56cc6c2284b70275a"
 },
 "nbformat": 3,
 "nbformat_minor": 0,
 "worksheets": []
}