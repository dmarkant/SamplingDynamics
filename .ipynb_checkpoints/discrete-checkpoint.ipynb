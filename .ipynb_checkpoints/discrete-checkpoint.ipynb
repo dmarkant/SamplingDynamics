{
 "metadata": {
  "name": ""
 },
 "nbformat": 3,
 "nbformat_minor": 0,
 "worksheets": [
  {
   "cells": [
    {
     "cell_type": "code",
     "collapsed": false,
     "input": [
      "import numpy as np\n",
      "from scipy import linalg"
     ],
     "language": "python",
     "metadata": {},
     "outputs": [],
     "prompt_number": 110
    },
    {
     "cell_type": "code",
     "collapsed": false,
     "input": [
      "theta = 3 # criterion\n",
      "m = 2 * theta + 1 # total number of states"
     ],
     "language": "python",
     "metadata": {},
     "outputs": [],
     "prompt_number": 1
    },
    {
     "cell_type": "code",
     "collapsed": false,
     "input": [
      "p_up = 0.4\n",
      "p_down = 0.6"
     ],
     "language": "python",
     "metadata": {},
     "outputs": [],
     "prompt_number": 135
    },
    {
     "cell_type": "code",
     "collapsed": false,
     "input": [
      "dv = 1\n",
      "V = np.arange(-theta, theta+dv, dv)\n",
      "vi = range(len(V))\n",
      "m = len(V)"
     ],
     "language": "python",
     "metadata": {},
     "outputs": [],
     "prompt_number": 23
    },
    {
     "cell_type": "code",
     "collapsed": false,
     "input": [
      "print 'vector of states:', V\n",
      "print 'indices:', vi"
     ],
     "language": "python",
     "metadata": {},
     "outputs": [
      {
       "output_type": "stream",
       "stream": "stdout",
       "text": [
        "vector of states: [-3 -2 -1  0  1  2  3]\n",
        "indices: [0, 1, 2, 3, 4, 5, 6]\n"
       ]
      }
     ],
     "prompt_number": 22
    },
    {
     "cell_type": "code",
     "collapsed": false,
     "input": [
      "# starting position, not including absorbing states!\n",
      "Z = np.zeros(len(V) - 2)\n",
      "Z[len(Z)/2] = 1."
     ],
     "language": "python",
     "metadata": {},
     "outputs": [],
     "prompt_number": 132
    },
    {
     "cell_type": "code",
     "collapsed": false,
     "input": [
      "Z = np.array([0, 0, 0, 1, 0])"
     ],
     "language": "python",
     "metadata": {},
     "outputs": [],
     "prompt_number": 156
    },
    {
     "cell_type": "code",
     "collapsed": false,
     "input": [
      "# construct the transition probability matrix\n",
      "tm = np.zeros((m, m), float)\n",
      "tm[0,0] = 1.\n",
      "tm[m-1,m-1] = 1."
     ],
     "language": "python",
     "metadata": {},
     "outputs": [],
     "prompt_number": 35
    },
    {
     "cell_type": "code",
     "collapsed": false,
     "input": [
      "tm"
     ],
     "language": "python",
     "metadata": {},
     "outputs": [
      {
       "metadata": {},
       "output_type": "pyout",
       "prompt_number": 36,
       "text": [
        "array([[ 1.,  0.,  0.,  0.,  0.,  0.,  0.],\n",
        "       [ 0.,  0.,  0.,  0.,  0.,  0.,  0.],\n",
        "       [ 0.,  0.,  0.,  0.,  0.,  0.,  0.],\n",
        "       [ 0.,  0.,  0.,  0.,  0.,  0.,  0.],\n",
        "       [ 0.,  0.,  0.,  0.,  0.,  0.,  0.],\n",
        "       [ 0.,  0.,  0.,  0.,  0.,  0.,  0.],\n",
        "       [ 0.,  0.,  0.,  0.,  0.,  0.,  1.]])"
       ]
      }
     ],
     "prompt_number": 36
    },
    {
     "cell_type": "code",
     "collapsed": false,
     "input": [
      "for i in range(1, m - 1):\n",
      "    tm[i, (i-1):(i+2)] = [p_down, 1 - (p_up + p_down), p_up]"
     ],
     "language": "python",
     "metadata": {},
     "outputs": [],
     "prompt_number": 39
    },
    {
     "cell_type": "code",
     "collapsed": false,
     "input": [
      "tm_pqr = np.zeros((m, m), float)\n",
      "tm_pqr[0,0] = 1.\n",
      "tm_pqr[1,1] = 1."
     ],
     "language": "python",
     "metadata": {},
     "outputs": [],
     "prompt_number": 136
    },
    {
     "cell_type": "code",
     "collapsed": false,
     "input": [
      "vi_pqr = []\n",
      "start = np.array([[0, m - 1], range(1, m - 1)])\n",
      "for outer in start:\n",
      "    for inner in outer:\n",
      "        vi_pqr.append(inner)\n",
      "vi_pqr = np.array(vi_pqr)"
     ],
     "language": "python",
     "metadata": {},
     "outputs": [],
     "prompt_number": 137
    },
    {
     "cell_type": "code",
     "collapsed": false,
     "input": [
      "V_pqr = V[vi_pqr]"
     ],
     "language": "python",
     "metadata": {},
     "outputs": [
      {
       "output_type": "stream",
       "stream": "stdout",
       "text": [
        "[0 6 1 2 3 4 5]\n",
        "[-3  3 -2 -1  0  1  2]\n"
       ]
      }
     ],
     "prompt_number": 138
    },
    {
     "cell_type": "code",
     "collapsed": false,
     "input": [
      "for i in range(1, m - 1):\n",
      "    row = np.where(V_pqr==V[i])[0][0]\n",
      "    ind_pqr = np.array([np.where(V_pqr==V[i-1])[0][0], np.where(V_pqr==V[i])[0][0], np.where(V_pqr==V[i+1])[0][0]])\n",
      "    print ind_pqr\n",
      "    tm_pqr[row, ind_pqr] = [p_down, 1 - (p_down + p_up), p_up]"
     ],
     "language": "python",
     "metadata": {},
     "outputs": [
      {
       "output_type": "stream",
       "stream": "stdout",
       "text": [
        "[0 2 3]\n",
        "[2 3 4]\n",
        "[3 4 5]\n",
        "[4 5 6]\n",
        "[5 6 1]\n"
       ]
      }
     ],
     "prompt_number": 139
    },
    {
     "cell_type": "code",
     "collapsed": false,
     "input": [
      "tm_pqr"
     ],
     "language": "python",
     "metadata": {},
     "outputs": [
      {
       "metadata": {},
       "output_type": "pyout",
       "prompt_number": 141,
       "text": [
        "array([[ 1. ,  0. ,  0. ,  0. ,  0. ,  0. ,  0. ],\n",
        "       [ 0. ,  1. ,  0. ,  0. ,  0. ,  0. ,  0. ],\n",
        "       [ 0.6,  0. ,  0. ,  0.4,  0. ,  0. ,  0. ],\n",
        "       [ 0. ,  0. ,  0.6,  0. ,  0.4,  0. ,  0. ],\n",
        "       [ 0. ,  0. ,  0. ,  0.6,  0. ,  0.4,  0. ],\n",
        "       [ 0. ,  0. ,  0. ,  0. ,  0.6,  0. ,  0.4],\n",
        "       [ 0. ,  0.4,  0. ,  0. ,  0. ,  0.6,  0. ]])"
       ]
      }
     ],
     "prompt_number": 141
    },
    {
     "cell_type": "code",
     "collapsed": false,
     "input": [
      "Q = tm_pqr[2:,2:]\n",
      "R = np.matrix(tm_pqr[2:,:2])\n",
      "I = np.eye(m - 2)\n",
      "print Q\n",
      "print R"
     ],
     "language": "python",
     "metadata": {},
     "outputs": [
      {
       "output_type": "stream",
       "stream": "stdout",
       "text": [
        "[[ 0.   0.4  0.   0.   0. ]\n",
        " [ 0.6  0.   0.4  0.   0. ]\n",
        " [ 0.   0.6  0.   0.4  0. ]\n",
        " [ 0.   0.   0.6  0.   0.4]\n",
        " [ 0.   0.   0.   0.6  0. ]]\n",
        "[[ 0.6  0. ]\n",
        " [ 0.   0. ]\n",
        " [ 0.   0. ]\n",
        " [ 0.   0. ]\n",
        " [ 0.   0.4]]\n"
       ]
      }
     ],
     "prompt_number": 158
    },
    {
     "cell_type": "code",
     "collapsed": false,
     "input": [],
     "language": "python",
     "metadata": {},
     "outputs": [],
     "prompt_number": 150
    },
    {
     "cell_type": "code",
     "collapsed": false,
     "input": [
      "IQ = np.matrix(linalg.inv(I - Q))\n",
      "resp_prob = np.matrix(Z) * (IQ * R)\n",
      "dt = (np.matrix(Z) * (IQ * IQ) * R) / resp_prob"
     ],
     "language": "python",
     "metadata": {},
     "outputs": [],
     "prompt_number": 159
    },
    {
     "cell_type": "code",
     "collapsed": false,
     "input": [
      "print 'response prob:', resp_prob\n",
      "print 'decision time:', dt"
     ],
     "language": "python",
     "metadata": {},
     "outputs": [
      {
       "output_type": "stream",
       "stream": "stdout",
       "text": [
        "response prob: [[ 0.60902256  0.39097744]]\n",
        "decision time: [[ 9.77443609  5.92828224]]\n"
       ]
      }
     ],
     "prompt_number": 160
    },
    {
     "cell_type": "code",
     "collapsed": false,
     "input": [],
     "language": "python",
     "metadata": {},
     "outputs": []
    }
   ],
   "metadata": {}
  }
 ]
}