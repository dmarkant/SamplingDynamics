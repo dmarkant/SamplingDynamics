{
 "metadata": {
  "name": "",
  "signature": "sha256:9b2de8421e003f723957ba6857130b1d86fd80400d3ba869a207172e5124622c"
 },
 "nbformat": 3,
 "nbformat_minor": 0,
 "worksheets": [
  {
   "cells": [
    {
     "cell_type": "code",
     "collapsed": false,
     "input": [
      "import numpy as np\n",
      "import pandas as pd\n",
      "from mypy.explib.hau2008 import hau2008\n",
      "import model_fixed.model_fixed as model_f\n",
      "import model_fixed.model_fixed_streak as model_fs\n",
      "import model_fixed.model_fixed_per as model_fp\n",
      "%load_ext autoreload\n",
      "%autoreload 2"
     ],
     "language": "python",
     "metadata": {},
     "outputs": [],
     "prompt_number": 1
    },
    {
     "cell_type": "code",
     "collapsed": false,
     "input": [
      "subjdata = hau2008.sampledata_by_subject()\n",
      "SUBJ = np.sort(subjdata.keys())"
     ],
     "language": "python",
     "metadata": {},
     "outputs": [],
     "prompt_number": 3
    },
    {
     "cell_type": "code",
     "collapsed": false,
     "input": [
      "pars = {'data': subjdata[1][0],\n",
      "        't': 20,\n",
      "        's': .5,\n",
      "        'rho': .1}\n",
      "result = model_f.run(pars)"
     ],
     "language": "python",
     "metadata": {},
     "outputs": [],
     "prompt_number": 4
    },
    {
     "cell_type": "markdown",
     "metadata": {},
     "source": [
      "### Fixed total sample size + switching probability"
     ]
    },
    {
     "cell_type": "code",
     "collapsed": false,
     "input": [
      "fitresults_f = {}\n",
      "fitresults_f_table = pd.DataFrame(index=SUBJ, columns=['T', 's', 'rho', 'nllh_sampling', 'bic', 'success'])"
     ],
     "language": "python",
     "metadata": {},
     "outputs": [],
     "prompt_number": 7
    },
    {
     "cell_type": "code",
     "collapsed": false,
     "input": [
      "for sid in SUBJ:\n",
      "    print sid\n",
      "    fitresults_f[sid] = model_f.fit_subject_across_gambles(subjdata[sid])\n",
      "    fitresults_f_table.loc[sid] = [fitresults_f[sid]['bf_par']['target'], \n",
      "                                   fitresults_f[sid]['bf_par']['s'],\n",
      "                                   fitresults_f[sid]['bf_par']['rho'],\n",
      "                                   fitresults_f[sid]['nllh'], fitresults_f[sid]['bic'], fitresults_f[sid]['success']]"
     ],
     "language": "python",
     "metadata": {},
     "outputs": [
      {
       "output_type": "stream",
       "stream": "stdout",
       "text": [
        "1\n",
        "best fitting target size:"
       ]
      },
      {
       "output_type": "stream",
       "stream": "stdout",
       "text": [
        " 65\n",
        "bic: 206.017837123\n",
        "  status: 0\n",
        "    nfev: 69\n",
        " success: True\n",
        "     fun: 97.884954582118866\n",
        "       x: array([ 0.07648316,  0.16662168])\n",
        " message: 'Optimization terminated successfully.'\n",
        "     nit: 35\n",
        "2\n",
        "best fitting target size:"
       ]
      },
      {
       "output_type": "stream",
       "stream": "stdout",
       "text": [
        " 3\n",
        "bic: 28.2666743739\n",
        "  status: 0\n",
        "    nfev: 117\n",
        " success: True\n",
        "     fun: 11.188898207768501\n",
        "       x: array([ 9.99993476,  0.85714265])\n",
        " message: 'Optimization terminated successfully.'\n",
        "     nit: 63\n",
        "3\n",
        "best fitting target size:"
       ]
      },
      {
       "output_type": "stream",
       "stream": "stdout",
       "text": [
        " 28\n",
        "bic: 78.1597561929\n",
        "  status: 0\n",
        "    nfev: 53\n",
        " success: True\n",
        "     fun: 35.251236699953772\n",
        "       x: array([ 0.16938413,  0.72496149])\n",
        " message: 'Optimization terminated successfully.'\n",
        "     nit: 30\n",
        "4\n",
        "best fitting target size:"
       ]
      },
      {
       "output_type": "stream",
       "stream": "stdout",
       "text": [
        " 7\n",
        "bic: 61.8630486543\n",
        "  status: 0\n",
        "    nfev: 56\n",
        " success: True\n",
        "     fun: 27.49753712264652\n",
        "       x: array([ 0.72984693,  0.38095856])\n",
        " message: 'Optimization terminated successfully.'\n",
        "     nit: 28\n",
        "5\n",
        "best fitting target size:"
       ]
      },
      {
       "output_type": "stream",
       "stream": "stdout",
       "text": [
        " 11\n",
        "bic: 70.0876446158\n",
        "  status: 0\n",
        "    nfev: 65\n",
        " success: True\n",
        "     fun: 31.380260661775143\n",
        "       x: array([ 0.37536777,  0.241347  ])\n",
        " message: 'Optimization terminated successfully.'\n",
        "     nit: 33\n",
        "6\n",
        "best fitting target size:"
       ]
      },
      {
       "output_type": "stream",
       "stream": "stdout",
       "text": [
        " 3\n",
        "bic: 22.5250460024\n",
        "  status: 1\n",
        "    nfev: 400\n",
        " success: False\n",
        "     fun: 8.3180840220138261\n",
        "       x: array([ 9.99999005,  0.99999999])\n",
        " message: 'Maximum number of function evaluations has been exceeded.'\n",
        "     nit: 201\n",
        "7\n",
        "best fitting target size:"
       ]
      },
      {
       "output_type": "stream",
       "stream": "stdout",
       "text": [
        " 17\n",
        "bic: 120.70455295\n",
        "  status: 0\n",
        "    nfev: 98\n",
        " success: True\n",
        "     fun: 56.147583855476199\n",
        "       x: array([ 0.26798615,  0.34548784])\n",
        " message: 'Optimization terminated successfully.'\n",
        "     nit: 52\n",
        "8\n",
        "best fitting target size:"
       ]
      },
      {
       "output_type": "stream",
       "stream": "stdout",
       "text": [
        " 17\n",
        "bic: 57.8922884978\n",
        "  status: 0\n",
        "    nfev: 71\n",
        " success: True\n",
        "     fun: 25.054323950782077\n",
        "       x: array([ 0.1809446 ,  0.97297893])\n",
        " message: 'Optimization terminated successfully.'\n",
        "     nit: 38\n",
        "9\n",
        "best fitting target size:"
       ]
      },
      {
       "output_type": "stream",
       "stream": "stdout",
       "text": [
        " 18\n",
        "bic: 62.9913223137\n",
        "  status: 0\n",
        "    nfev: 74\n",
        " success: True\n",
        "     fun: 27.832099510718201\n",
        "       x: array([ 0.21006987,  0.16126636])\n",
        " message: 'Optimization terminated successfully.'\n",
        "     nit: 39\n",
        "10\n",
        "best fitting target size:"
       ]
      },
      {
       "output_type": "stream",
       "stream": "stdout",
       "text": [
        " 4\n",
        "bic: 36.5950385962\n",
        "  status: 0\n",
        "    nfev: 74\n",
        " success: True\n",
        "     fun: 15.206476844750183\n",
        "       x: array([ 1.93709215,  0.83332728])\n",
        " message: 'Optimization terminated successfully.'\n",
        "     nit: 40\n",
        "11\n",
        "best fitting target size:"
       ]
      },
      {
       "output_type": "stream",
       "stream": "stdout",
       "text": [
        " 103\n",
        "bic: 166.365258983\n",
        "  status: 0\n",
        "    nfev: 107\n",
        " success: True\n",
        "     fun: 77.478847016937934\n",
        "       x: array([ 0.0606293 ,  0.03817973])\n",
        " message: 'Optimization terminated successfully.'\n",
        "     nit: 56\n",
        "12\n",
        "best fitting target size:"
       ]
      },
      {
       "output_type": "stream",
       "stream": "stdout",
       "text": [
        " 58\n",
        "bic: 107.298644353\n",
        "  status: 0\n",
        "    nfev: 72\n",
        " success: True\n",
        "     fun: 49.106027394318076\n",
        "       x: array([ 0.06816344,  0.09521821])\n",
        " message: 'Optimization terminated successfully.'\n",
        "     nit: 36\n",
        "13\n",
        "best fitting target size:"
       ]
      },
      {
       "output_type": "stream",
       "stream": "stdout",
       "text": [
        " 13\n",
        "bic: 68.9392864431\n",
        "  status: 0\n",
        "    nfev: 76\n",
        " success: True\n",
        "     fun: 30.409200210979037\n",
        "       x: array([ 0.6121857 ,  0.10415568])\n",
        " message: 'Optimization terminated successfully.'\n",
        "     nit: 40\n",
        "14\n",
        "best fitting target size:"
       ]
      },
      {
       "output_type": "stream",
       "stream": "stdout",
       "text": [
        " 39\n",
        "bic: 170.791171147\n",
        "  status: 0\n",
        "    nfev: 81\n",
        " success: True\n",
        "     fun: 80.512783651075026\n",
        "       x: array([ 0.14029883,  0.17499416])\n",
        " message: 'Optimization terminated successfully.'\n",
        "     nit: 44\n",
        "15\n",
        "best fitting target size:"
       ]
      },
      {
       "output_type": "stream",
       "stream": "stdout",
       "text": [
        " 15\n",
        "bic: 98.4499532166\n",
        "  status: 0\n",
        "    nfev: 66\n",
        " success: True\n",
        "     fun: 45.164533597731179\n",
        "       x: array([ 0.38624173,  0.29164474])\n",
        " message: 'Optimization terminated successfully.'\n",
        "     nit: 34\n",
        "16\n",
        "best fitting target size:"
       ]
      },
      {
       "output_type": "stream",
       "stream": "stdout",
       "text": [
        " 63\n",
        "bic: 148.445509362\n",
        "  status: 0\n",
        "    nfev: 68\n",
        " success: True\n",
        "     fun: 69.160159648103402\n",
        "       x: array([ 0.07725742,  0.08216455])\n",
        " message: 'Optimization terminated successfully.'\n",
        "     nit: 35\n",
        "17\n",
        "best fitting target size:"
       ]
      },
      {
       "output_type": "stream",
       "stream": "stdout",
       "text": [
        " 12\n",
        "bic: 84.356905972\n",
        "  status: 0\n",
        "    nfev: 89\n",
        " success: True\n",
        "     fun: 38.019569902659939\n",
        "       x: array([ 0.61733304,  0.13459976])\n",
        " message: 'Optimization terminated successfully.'\n",
        "     nit: 46\n",
        "18\n",
        "best fitting target size:"
       ]
      },
      {
       "output_type": "stream",
       "stream": "stdout",
       "text": [
        " 14\n",
        "bic: 91.7938091078\n",
        "  status: 0\n",
        "    nfev: 62\n",
        " success: True\n",
        "     fun: 41.677396848726801\n",
        "       x: array([ 0.45347395,  0.14285858])\n",
        " message: 'Optimization terminated successfully.'\n",
        "     nit: 32\n",
        "19\n",
        "best fitting target size:"
       ]
      },
      {
       "output_type": "stream",
       "stream": "stdout",
       "text": [
        " 30\n",
        "bic: 117.125983269\n",
        "  status: 0\n",
        "    nfev: 90\n",
        " success: True\n",
        "     fun: 53.800817699479751\n",
        "       x: array([ 0.1976559 ,  0.08570097])\n",
        " message: 'Optimization terminated successfully.'\n",
        "     nit: 47\n",
        "20\n",
        "best fitting target size:"
       ]
      },
      {
       "output_type": "stream",
       "stream": "stdout",
       "text": [
        " 24\n",
        "bic: 107.077117296\n",
        "  status: 0\n",
        "    nfev: 82\n",
        " success: True\n",
        "     fun: 48.856427420906577\n",
        "       x: array([ 0.29214198,  0.08333019])\n",
        " message: 'Optimization terminated successfully.'\n",
        "     nit: 43\n",
        "21\n",
        "best fitting target size:"
       ]
      },
      {
       "output_type": "stream",
       "stream": "stdout",
       "text": [
        " 26\n",
        "bic: 128.97674618\n",
        "  status: 0\n",
        "    nfev: 57\n",
        " success: True\n",
        "     fun: 59.955773596759954\n",
        "       x: array([ 0.18618688,  0.17281823])\n",
        " message: 'Optimization terminated successfully.'\n",
        "     nit: 29\n",
        "22\n",
        "best fitting target size:"
       ]
      },
      {
       "output_type": "stream",
       "stream": "stdout",
       "text": [
        " 13\n",
        "bic: 93.1051803249\n",
        "  status: 0\n",
        "    nfev: 80\n",
        " success: True\n",
        "     fun: 42.347897543040574\n",
        "       x: array([ 0.52678224,  0.16363795])\n",
        " message: 'Optimization terminated successfully.'\n",
        "     nit: 41\n",
        "23\n",
        "best fitting target size:"
       ]
      },
      {
       "output_type": "stream",
       "stream": "stdout",
       "text": [
        " 34\n",
        "bic: 115.909656025\n",
        "  status: 0\n",
        "    nfev: 91\n",
        " success: True\n",
        "     fun: 53.349657826407594\n",
        "       x: array([ 0.13262086,  0.10228615])\n",
        " message: 'Optimization terminated successfully.'\n",
        "     nit: 48\n",
        "24\n",
        "best fitting target size:"
       ]
      },
      {
       "output_type": "stream",
       "stream": "stdout",
       "text": [
        " 4\n",
        "bic: 8.31785697542\n",
        "  status: 0\n",
        "    nfev: 118\n",
        " success: True\n",
        "     fun: 2.7726341265923993\n",
        "       x: array([ 9.99992793,  0.50000548])\n",
        " message: 'Optimization terminated successfully.'\n",
        "     nit: 62\n",
        "25\n",
        "best fitting target size:"
       ]
      },
      {
       "output_type": "stream",
       "stream": "stdout",
       "text": [
        " 3\n",
        "bic: 22.4168207275\n",
        "  status: 0\n",
        "    nfev: 387\n",
        " success: True\n",
        "     fun: 8.3180386058611546\n",
        "       x: array([ 9.99987932,  1.        ])\n",
        " message: 'Optimization terminated successfully.'\n",
        "     nit: 196\n",
        "26\n",
        "best fitting target size:"
       ]
      },
      {
       "output_type": "stream",
       "stream": "stdout",
       "text": [
        " 42\n",
        "bic: 114.96362111\n",
        "  status: 0\n",
        "    nfev: 91\n",
        " success: True\n",
        "     fun: 52.471175261100832\n",
        "       x: array([ 0.14003827,  0.05075374])\n",
        " message: 'Optimization terminated successfully.'\n",
        "     nit: 48\n",
        "27\n",
        "best fitting target size:"
       ]
      },
      {
       "output_type": "stream",
       "stream": "stdout",
       "text": [
        " 27\n",
        "bic: 142.168303525\n",
        "  status: 0\n",
        "    nfev: 85\n",
        " success: True\n",
        "     fun: 66.469031245882519\n",
        "       x: array([ 0.2030942 ,  0.19099553])\n",
        " message: 'Optimization terminated successfully.'\n",
        "     nit: 45\n",
        "28\n",
        "best fitting target size:"
       ]
      },
      {
       "output_type": "stream",
       "stream": "stdout",
       "text": [
        " 82\n",
        "bic: 168.156070738\n",
        "  status: 0\n",
        "    nfev: 59\n",
        " success: True\n",
        "     fun: 78.576777158583042\n",
        "       x: array([ 0.07273126,  0.05579901])\n",
        " message: 'Optimization terminated successfully.'\n",
        "     nit: 30\n",
        "29\n",
        "best fitting target size:"
       ]
      },
      {
       "output_type": "stream",
       "stream": "stdout",
       "text": [
        " 32\n",
        "bic: 125.973824872\n",
        "  status: 0\n",
        "    nfev: 82\n",
        " success: True\n",
        "     fun: 57.956474514379437\n",
        "       x: array([ 0.27529447,  0.07092702])\n",
        " message: 'Optimization terminated successfully.'\n",
        "     nit: 42\n",
        "30\n",
        "best fitting target size:"
       ]
      },
      {
       "output_type": "stream",
       "stream": "stdout",
       "text": [
        " 18\n",
        "bic: 102.108915392\n",
        "  status: 0\n",
        "    nfev: 142\n",
        " success: True\n",
        "     fun: 46.577120881647801\n",
        "       x: array([ 0.40241103,  0.11841882])\n",
        " message: 'Optimization terminated successfully.'\n",
        "     nit: 73\n",
        "31\n",
        "best fitting target size:"
       ]
      },
      {
       "output_type": "stream",
       "stream": "stdout",
       "text": [
        " 39\n",
        "bic: 119.676898178\n",
        "  status: 0\n",
        "    nfev: 107\n",
        " success: True\n",
        "     fun: 54.782203283758371\n",
        "       x: array([ 0.17103582,  0.05514505])\n",
        " message: 'Optimization terminated successfully.'\n",
        "     nit: 55\n",
        "32\n",
        "best fitting target size:"
       ]
      },
      {
       "output_type": "stream",
       "stream": "stdout",
       "text": [
        " 9\n",
        "bic: 57.6064623935\n",
        "  status: 0\n",
        "    nfev: 72\n",
        " success: True\n",
        "     fun: 24.9965687069894\n",
        "       x: array([ 0.5561837 ,  0.93939097])\n",
        " message: 'Optimization terminated successfully.'\n",
        "     nit: 38\n",
        "33\n",
        "best fitting target size:"
       ]
      },
      {
       "output_type": "stream",
       "stream": "stdout",
       "text": [
        " 45\n",
        "bic: 153.249453246\n",
        "  status: 0\n",
        "    nfev: 70\n",
        " success: True\n",
        "     fun: 72.193909824103457\n",
        "       x: array([ 0.07662808,  0.36108447])\n",
        " message: 'Optimization terminated successfully.'\n",
        "     nit: 35\n",
        "34\n",
        "best fitting target size:"
       ]
      },
      {
       "output_type": "stream",
       "stream": "stdout",
       "text": [
        " 14\n",
        "bic: 38.0026964458\n",
        "  status: 0\n",
        "    nfev: 72\n",
        " success: True\n",
        "     fun: 15.865854006990393\n",
        "       x: array([ 0.47514746,  0.21051103])\n",
        " message: 'Optimization terminated successfully.'\n",
        "     nit: 37\n",
        "35\n",
        "best fitting target size:"
       ]
      },
      {
       "output_type": "stream",
       "stream": "stdout",
       "text": [
        " 46\n",
        "bic: 110.70955957\n",
        "  status: 0\n",
        "    nfev: 74\n",
        " success: True\n",
        "     fun: 51.227645399736701\n",
        "       x: array([ 0.0582726 ,  0.23999605])\n",
        " message: 'Optimization terminated successfully.'\n",
        "     nit: 39\n",
        "36\n",
        "best fitting target size:"
       ]
      },
      {
       "output_type": "stream",
       "stream": "stdout",
       "text": [
        " 28\n",
        "bic: 116.342854358\n",
        "  status: 0\n",
        "    nfev: 81\n",
        " success: True\n",
        "     fun: 53.319396915005726\n",
        "       x: array([ 0.26620675,  0.07755966])\n",
        " message: 'Optimization terminated successfully.'\n",
        "     nit: 42\n",
        "37\n",
        "best fitting target size:"
       ]
      },
      {
       "output_type": "stream",
       "stream": "stdout",
       "text": [
        " 6\n",
        "bic: 40.071786589\n",
        "  status: 0\n",
        "    nfev: 103\n",
        " success: True\n",
        "     fun: 16.777796756493228\n",
        "       x: array([ 0.65748756,  0.93750262])\n",
        " message: 'Optimization terminated successfully.'\n",
        "     nit: 54\n",
        "38\n",
        "best fitting target size:"
       ]
      },
      {
       "output_type": "stream",
       "stream": "stdout",
       "text": [
        " 16\n",
        "bic: 132.614956838\n",
        "  status: 0\n",
        "    nfev: 62\n",
        " success: True\n",
        "     fun: 61.830141604759604\n",
        "       x: array([ 0.64728287,  0.72366491])\n",
        " message: 'Optimization terminated successfully.'\n",
        "     nit: 32\n",
        "39\n",
        "best fitting target size:"
       ]
      },
      {
       "output_type": "stream",
       "stream": "stdout",
       "text": [
        " 42\n",
        "bic: 118.005468262\n",
        "  status: 0\n",
        "    nfev: 64\n",
        " success: True\n",
        "     fun: 54.813079388983027\n",
        "       x: array([ 0.07976412,  0.30359884])\n",
        " message: 'Optimization terminated successfully.'\n",
        "     nit: 33\n",
        "40\n",
        "best fitting target size:"
       ]
      },
      {
       "output_type": "stream",
       "stream": "stdout",
       "text": [
        " 2\n",
        "bic: 22.4168207092\n",
        "  status: 0\n",
        "    nfev: 190\n",
        " success: True\n",
        "     fun: 8.3180385966843389\n",
        "       x: array([ 9.99993418,  1.        ])\n",
        " message: 'Optimization terminated successfully.'\n",
        "     nit: 97\n",
        "41\n",
        "best fitting target size:"
       ]
      },
      {
       "output_type": "stream",
       "stream": "stdout",
       "text": [
        " 5\n",
        "bic: 55.0291745906\n",
        "  status: 0\n",
        "    nfev: 62\n",
        " success: True\n",
        "     fun: 24.182382785144082\n",
        "       x: array([ 0.8816031 ,  0.68751014])\n",
        " message: 'Optimization terminated successfully.'\n",
        "     nit: 33\n",
        "42\n",
        "best fitting target size:"
       ]
      },
      {
       "output_type": "stream",
       "stream": "stdout",
       "text": [
        " 45\n",
        "bic: 106.576363955\n",
        "  status: 0\n",
        "    nfev: 95\n",
        " success: True\n",
        "     fun: 49.193837415486705\n",
        "       x: array([ 0.05814195,  0.22913631])\n",
        " message: 'Optimization terminated successfully.'\n",
        "     nit: 51\n"
       ]
      }
     ],
     "prompt_number": 20
    },
    {
     "cell_type": "code",
     "collapsed": false,
     "input": [
      "fitresults_f_table.to_csv('hau_fixed.csv')\n",
      "fitresults_f_table"
     ],
     "language": "python",
     "metadata": {},
     "outputs": [
      {
       "html": [
        "<div style=\"max-height:1000px;max-width:1500px;overflow:auto;\">\n",
        "<table border=\"1\" class=\"dataframe\">\n",
        "  <thead>\n",
        "    <tr style=\"text-align: right;\">\n",
        "      <th></th>\n",
        "      <th>T</th>\n",
        "      <th>s</th>\n",
        "      <th>rho</th>\n",
        "      <th>nllh_sampling</th>\n",
        "      <th>bic</th>\n",
        "      <th>success</th>\n",
        "    </tr>\n",
        "  </thead>\n",
        "  <tbody>\n",
        "    <tr>\n",
        "      <th>1 </th>\n",
        "      <td>  65</td>\n",
        "      <td> 0.07648316</td>\n",
        "      <td>  0.1666217</td>\n",
        "      <td> 97.88495</td>\n",
        "      <td> 206.0178</td>\n",
        "      <td>  True</td>\n",
        "    </tr>\n",
        "    <tr>\n",
        "      <th>2 </th>\n",
        "      <td>   3</td>\n",
        "      <td>   9.999935</td>\n",
        "      <td>  0.8571427</td>\n",
        "      <td>  11.1889</td>\n",
        "      <td> 28.26667</td>\n",
        "      <td>  True</td>\n",
        "    </tr>\n",
        "    <tr>\n",
        "      <th>3 </th>\n",
        "      <td>  28</td>\n",
        "      <td>  0.1693841</td>\n",
        "      <td>  0.7249615</td>\n",
        "      <td> 35.25124</td>\n",
        "      <td> 78.15976</td>\n",
        "      <td>  True</td>\n",
        "    </tr>\n",
        "    <tr>\n",
        "      <th>4 </th>\n",
        "      <td>   7</td>\n",
        "      <td>  0.7298469</td>\n",
        "      <td>  0.3809586</td>\n",
        "      <td> 27.49754</td>\n",
        "      <td> 61.86305</td>\n",
        "      <td>  True</td>\n",
        "    </tr>\n",
        "    <tr>\n",
        "      <th>5 </th>\n",
        "      <td>  11</td>\n",
        "      <td>  0.3753678</td>\n",
        "      <td>   0.241347</td>\n",
        "      <td> 31.38026</td>\n",
        "      <td> 70.08764</td>\n",
        "      <td>  True</td>\n",
        "    </tr>\n",
        "    <tr>\n",
        "      <th>6 </th>\n",
        "      <td>   3</td>\n",
        "      <td>    9.99999</td>\n",
        "      <td>          1</td>\n",
        "      <td> 8.318084</td>\n",
        "      <td> 22.52505</td>\n",
        "      <td> False</td>\n",
        "    </tr>\n",
        "    <tr>\n",
        "      <th>7 </th>\n",
        "      <td>  17</td>\n",
        "      <td>  0.2679862</td>\n",
        "      <td>  0.3454878</td>\n",
        "      <td> 56.14758</td>\n",
        "      <td> 120.7046</td>\n",
        "      <td>  True</td>\n",
        "    </tr>\n",
        "    <tr>\n",
        "      <th>8 </th>\n",
        "      <td>  17</td>\n",
        "      <td>  0.1809446</td>\n",
        "      <td>  0.9729789</td>\n",
        "      <td> 25.05432</td>\n",
        "      <td> 57.89229</td>\n",
        "      <td>  True</td>\n",
        "    </tr>\n",
        "    <tr>\n",
        "      <th>9 </th>\n",
        "      <td>  18</td>\n",
        "      <td>  0.2100699</td>\n",
        "      <td>  0.1612664</td>\n",
        "      <td>  27.8321</td>\n",
        "      <td> 62.99132</td>\n",
        "      <td>  True</td>\n",
        "    </tr>\n",
        "    <tr>\n",
        "      <th>10</th>\n",
        "      <td>   4</td>\n",
        "      <td>   1.937092</td>\n",
        "      <td>  0.8333273</td>\n",
        "      <td> 15.20648</td>\n",
        "      <td> 36.59504</td>\n",
        "      <td>  True</td>\n",
        "    </tr>\n",
        "    <tr>\n",
        "      <th>11</th>\n",
        "      <td> 103</td>\n",
        "      <td>  0.0606293</td>\n",
        "      <td> 0.03817973</td>\n",
        "      <td> 77.47885</td>\n",
        "      <td> 166.3653</td>\n",
        "      <td>  True</td>\n",
        "    </tr>\n",
        "    <tr>\n",
        "      <th>12</th>\n",
        "      <td>  58</td>\n",
        "      <td> 0.06816344</td>\n",
        "      <td> 0.09521821</td>\n",
        "      <td> 49.10603</td>\n",
        "      <td> 107.2986</td>\n",
        "      <td>  True</td>\n",
        "    </tr>\n",
        "    <tr>\n",
        "      <th>13</th>\n",
        "      <td>  13</td>\n",
        "      <td>  0.6121857</td>\n",
        "      <td>  0.1041557</td>\n",
        "      <td>  30.4092</td>\n",
        "      <td> 68.93929</td>\n",
        "      <td>  True</td>\n",
        "    </tr>\n",
        "    <tr>\n",
        "      <th>14</th>\n",
        "      <td>  39</td>\n",
        "      <td>  0.1402988</td>\n",
        "      <td>  0.1749942</td>\n",
        "      <td> 80.51278</td>\n",
        "      <td> 170.7912</td>\n",
        "      <td>  True</td>\n",
        "    </tr>\n",
        "    <tr>\n",
        "      <th>15</th>\n",
        "      <td>  15</td>\n",
        "      <td>  0.3862417</td>\n",
        "      <td>  0.2916447</td>\n",
        "      <td> 45.16453</td>\n",
        "      <td> 98.44995</td>\n",
        "      <td>  True</td>\n",
        "    </tr>\n",
        "    <tr>\n",
        "      <th>16</th>\n",
        "      <td>  63</td>\n",
        "      <td> 0.07725742</td>\n",
        "      <td> 0.08216455</td>\n",
        "      <td> 69.16016</td>\n",
        "      <td> 148.4455</td>\n",
        "      <td>  True</td>\n",
        "    </tr>\n",
        "    <tr>\n",
        "      <th>17</th>\n",
        "      <td>  12</td>\n",
        "      <td>   0.617333</td>\n",
        "      <td>  0.1345998</td>\n",
        "      <td> 38.01957</td>\n",
        "      <td> 84.35691</td>\n",
        "      <td>  True</td>\n",
        "    </tr>\n",
        "    <tr>\n",
        "      <th>18</th>\n",
        "      <td>  14</td>\n",
        "      <td>  0.4534739</td>\n",
        "      <td>  0.1428586</td>\n",
        "      <td>  41.6774</td>\n",
        "      <td> 91.79381</td>\n",
        "      <td>  True</td>\n",
        "    </tr>\n",
        "    <tr>\n",
        "      <th>19</th>\n",
        "      <td>  30</td>\n",
        "      <td>  0.1976559</td>\n",
        "      <td> 0.08570097</td>\n",
        "      <td> 53.80082</td>\n",
        "      <td>  117.126</td>\n",
        "      <td>  True</td>\n",
        "    </tr>\n",
        "    <tr>\n",
        "      <th>20</th>\n",
        "      <td>  24</td>\n",
        "      <td>   0.292142</td>\n",
        "      <td> 0.08333019</td>\n",
        "      <td> 48.85643</td>\n",
        "      <td> 107.0771</td>\n",
        "      <td>  True</td>\n",
        "    </tr>\n",
        "    <tr>\n",
        "      <th>21</th>\n",
        "      <td>  26</td>\n",
        "      <td>  0.1861869</td>\n",
        "      <td>  0.1728182</td>\n",
        "      <td> 59.95577</td>\n",
        "      <td> 128.9767</td>\n",
        "      <td>  True</td>\n",
        "    </tr>\n",
        "    <tr>\n",
        "      <th>22</th>\n",
        "      <td>  13</td>\n",
        "      <td>  0.5267822</td>\n",
        "      <td>  0.1636379</td>\n",
        "      <td>  42.3479</td>\n",
        "      <td> 93.10518</td>\n",
        "      <td>  True</td>\n",
        "    </tr>\n",
        "    <tr>\n",
        "      <th>23</th>\n",
        "      <td>  34</td>\n",
        "      <td>  0.1326209</td>\n",
        "      <td>  0.1022862</td>\n",
        "      <td> 53.34966</td>\n",
        "      <td> 115.9097</td>\n",
        "      <td>  True</td>\n",
        "    </tr>\n",
        "    <tr>\n",
        "      <th>24</th>\n",
        "      <td>   4</td>\n",
        "      <td>   9.999928</td>\n",
        "      <td>  0.5000055</td>\n",
        "      <td> 2.772634</td>\n",
        "      <td> 8.317857</td>\n",
        "      <td>  True</td>\n",
        "    </tr>\n",
        "    <tr>\n",
        "      <th>25</th>\n",
        "      <td>   3</td>\n",
        "      <td>   9.999879</td>\n",
        "      <td>          1</td>\n",
        "      <td> 8.318039</td>\n",
        "      <td> 22.41682</td>\n",
        "      <td>  True</td>\n",
        "    </tr>\n",
        "    <tr>\n",
        "      <th>26</th>\n",
        "      <td>  42</td>\n",
        "      <td>  0.1400383</td>\n",
        "      <td> 0.05075374</td>\n",
        "      <td> 52.47118</td>\n",
        "      <td> 114.9636</td>\n",
        "      <td>  True</td>\n",
        "    </tr>\n",
        "    <tr>\n",
        "      <th>27</th>\n",
        "      <td>  27</td>\n",
        "      <td>  0.2030942</td>\n",
        "      <td>  0.1909955</td>\n",
        "      <td> 66.46903</td>\n",
        "      <td> 142.1683</td>\n",
        "      <td>  True</td>\n",
        "    </tr>\n",
        "    <tr>\n",
        "      <th>28</th>\n",
        "      <td>  82</td>\n",
        "      <td> 0.07273126</td>\n",
        "      <td> 0.05579901</td>\n",
        "      <td> 78.57678</td>\n",
        "      <td> 168.1561</td>\n",
        "      <td>  True</td>\n",
        "    </tr>\n",
        "    <tr>\n",
        "      <th>29</th>\n",
        "      <td>  32</td>\n",
        "      <td>  0.2752945</td>\n",
        "      <td> 0.07092702</td>\n",
        "      <td> 57.95647</td>\n",
        "      <td> 125.9738</td>\n",
        "      <td>  True</td>\n",
        "    </tr>\n",
        "    <tr>\n",
        "      <th>30</th>\n",
        "      <td>  18</td>\n",
        "      <td>   0.402411</td>\n",
        "      <td>  0.1184188</td>\n",
        "      <td> 46.57712</td>\n",
        "      <td> 102.1089</td>\n",
        "      <td>  True</td>\n",
        "    </tr>\n",
        "    <tr>\n",
        "      <th>31</th>\n",
        "      <td>  39</td>\n",
        "      <td>  0.1710358</td>\n",
        "      <td> 0.05514505</td>\n",
        "      <td>  54.7822</td>\n",
        "      <td> 119.6769</td>\n",
        "      <td>  True</td>\n",
        "    </tr>\n",
        "    <tr>\n",
        "      <th>32</th>\n",
        "      <td>   9</td>\n",
        "      <td>  0.5561837</td>\n",
        "      <td>   0.939391</td>\n",
        "      <td> 24.99657</td>\n",
        "      <td> 57.60646</td>\n",
        "      <td>  True</td>\n",
        "    </tr>\n",
        "    <tr>\n",
        "      <th>33</th>\n",
        "      <td>  45</td>\n",
        "      <td> 0.07662808</td>\n",
        "      <td>  0.3610845</td>\n",
        "      <td> 72.19391</td>\n",
        "      <td> 153.2495</td>\n",
        "      <td>  True</td>\n",
        "    </tr>\n",
        "    <tr>\n",
        "      <th>34</th>\n",
        "      <td>  14</td>\n",
        "      <td>  0.4751475</td>\n",
        "      <td>   0.210511</td>\n",
        "      <td> 15.86585</td>\n",
        "      <td>  38.0027</td>\n",
        "      <td>  True</td>\n",
        "    </tr>\n",
        "    <tr>\n",
        "      <th>35</th>\n",
        "      <td>  46</td>\n",
        "      <td>  0.0582726</td>\n",
        "      <td>   0.239996</td>\n",
        "      <td> 51.22765</td>\n",
        "      <td> 110.7096</td>\n",
        "      <td>  True</td>\n",
        "    </tr>\n",
        "    <tr>\n",
        "      <th>36</th>\n",
        "      <td>  28</td>\n",
        "      <td>  0.2662068</td>\n",
        "      <td> 0.07755966</td>\n",
        "      <td>  53.3194</td>\n",
        "      <td> 116.3429</td>\n",
        "      <td>  True</td>\n",
        "    </tr>\n",
        "    <tr>\n",
        "      <th>37</th>\n",
        "      <td>   6</td>\n",
        "      <td>  0.6574876</td>\n",
        "      <td>  0.9375026</td>\n",
        "      <td>  16.7778</td>\n",
        "      <td> 40.07179</td>\n",
        "      <td>  True</td>\n",
        "    </tr>\n",
        "    <tr>\n",
        "      <th>38</th>\n",
        "      <td>  16</td>\n",
        "      <td>  0.6472829</td>\n",
        "      <td>  0.7236649</td>\n",
        "      <td> 61.83014</td>\n",
        "      <td>  132.615</td>\n",
        "      <td>  True</td>\n",
        "    </tr>\n",
        "    <tr>\n",
        "      <th>39</th>\n",
        "      <td>  42</td>\n",
        "      <td> 0.07976412</td>\n",
        "      <td>  0.3035988</td>\n",
        "      <td> 54.81308</td>\n",
        "      <td> 118.0055</td>\n",
        "      <td>  True</td>\n",
        "    </tr>\n",
        "    <tr>\n",
        "      <th>40</th>\n",
        "      <td>   2</td>\n",
        "      <td>   9.999934</td>\n",
        "      <td>          1</td>\n",
        "      <td> 8.318039</td>\n",
        "      <td> 22.41682</td>\n",
        "      <td>  True</td>\n",
        "    </tr>\n",
        "    <tr>\n",
        "      <th>41</th>\n",
        "      <td>   5</td>\n",
        "      <td>  0.8816031</td>\n",
        "      <td>  0.6875101</td>\n",
        "      <td> 24.18238</td>\n",
        "      <td> 55.02917</td>\n",
        "      <td>  True</td>\n",
        "    </tr>\n",
        "    <tr>\n",
        "      <th>42</th>\n",
        "      <td>  45</td>\n",
        "      <td> 0.05814195</td>\n",
        "      <td>  0.2291363</td>\n",
        "      <td> 49.19384</td>\n",
        "      <td> 106.5764</td>\n",
        "      <td>  True</td>\n",
        "    </tr>\n",
        "  </tbody>\n",
        "</table>\n",
        "</div>"
       ],
       "metadata": {},
       "output_type": "pyout",
       "prompt_number": 21,
       "text": [
        "      T           s         rho nllh_sampling       bic success\n",
        "1    65  0.07648316   0.1666217      97.88495  206.0178    True\n",
        "2     3    9.999935   0.8571427       11.1889  28.26667    True\n",
        "3    28   0.1693841   0.7249615      35.25124  78.15976    True\n",
        "4     7   0.7298469   0.3809586      27.49754  61.86305    True\n",
        "5    11   0.3753678    0.241347      31.38026  70.08764    True\n",
        "6     3     9.99999           1      8.318084  22.52505   False\n",
        "7    17   0.2679862   0.3454878      56.14758  120.7046    True\n",
        "8    17   0.1809446   0.9729789      25.05432  57.89229    True\n",
        "9    18   0.2100699   0.1612664       27.8321  62.99132    True\n",
        "10    4    1.937092   0.8333273      15.20648  36.59504    True\n",
        "11  103   0.0606293  0.03817973      77.47885  166.3653    True\n",
        "12   58  0.06816344  0.09521821      49.10603  107.2986    True\n",
        "13   13   0.6121857   0.1041557       30.4092  68.93929    True\n",
        "14   39   0.1402988   0.1749942      80.51278  170.7912    True\n",
        "15   15   0.3862417   0.2916447      45.16453  98.44995    True\n",
        "16   63  0.07725742  0.08216455      69.16016  148.4455    True\n",
        "17   12    0.617333   0.1345998      38.01957  84.35691    True\n",
        "18   14   0.4534739   0.1428586       41.6774  91.79381    True\n",
        "19   30   0.1976559  0.08570097      53.80082   117.126    True\n",
        "20   24    0.292142  0.08333019      48.85643  107.0771    True\n",
        "21   26   0.1861869   0.1728182      59.95577  128.9767    True\n",
        "22   13   0.5267822   0.1636379       42.3479  93.10518    True\n",
        "23   34   0.1326209   0.1022862      53.34966  115.9097    True\n",
        "24    4    9.999928   0.5000055      2.772634  8.317857    True\n",
        "25    3    9.999879           1      8.318039  22.41682    True\n",
        "26   42   0.1400383  0.05075374      52.47118  114.9636    True\n",
        "27   27   0.2030942   0.1909955      66.46903  142.1683    True\n",
        "28   82  0.07273126  0.05579901      78.57678  168.1561    True\n",
        "29   32   0.2752945  0.07092702      57.95647  125.9738    True\n",
        "30   18    0.402411   0.1184188      46.57712  102.1089    True\n",
        "31   39   0.1710358  0.05514505       54.7822  119.6769    True\n",
        "32    9   0.5561837    0.939391      24.99657  57.60646    True\n",
        "33   45  0.07662808   0.3610845      72.19391  153.2495    True\n",
        "34   14   0.4751475    0.210511      15.86585   38.0027    True\n",
        "35   46   0.0582726    0.239996      51.22765  110.7096    True\n",
        "36   28   0.2662068  0.07755966       53.3194  116.3429    True\n",
        "37    6   0.6574876   0.9375026       16.7778  40.07179    True\n",
        "38   16   0.6472829   0.7236649      61.83014   132.615    True\n",
        "39   42  0.07976412   0.3035988      54.81308  118.0055    True\n",
        "40    2    9.999934           1      8.318039  22.41682    True\n",
        "41    5   0.8816031   0.6875101      24.18238  55.02917    True\n",
        "42   45  0.05814195   0.2291363      49.19384  106.5764    True"
       ]
      }
     ],
     "prompt_number": 21
    },
    {
     "cell_type": "markdown",
     "metadata": {},
     "source": [
      "### Fixed sample size per option"
     ]
    },
    {
     "cell_type": "code",
     "collapsed": false,
     "input": [
      "fitresults_fp = {}\n",
      "fitresults_fp_table = pd.DataFrame(index=SUBJ, columns=['T', 's', 'nllh_sampling', 'bic', 'success'])"
     ],
     "language": "python",
     "metadata": {},
     "outputs": [],
     "prompt_number": 10
    },
    {
     "cell_type": "code",
     "collapsed": false,
     "input": [
      "for sid in SUBJ[10:]:\n",
      "    print sid\n",
      "    fitresults_fp[sid] = model_fp.fit_subject_across_gambles(subjdata[sid])\n",
      "    fitresults_fp_table.loc[sid] = [fitresults_fp[sid]['bf_par']['target'], \n",
      "                                    fitresults_fp[sid]['bf_par']['s'],\n",
      "                                    fitresults_fp[sid]['nllh'], fitresults_fp[sid]['bic'], fitresults_fp[sid]['success']]"
     ],
     "language": "python",
     "metadata": {},
     "outputs": [
      {
       "output_type": "stream",
       "stream": "stdout",
       "text": [
        "11\n",
        "(grid) target size: 0, nllh: 219.727824623"
       ]
      },
      {
       "output_type": "stream",
       "stream": "stdout",
       "text": [
        "\n",
        "(grid) target size: 1, nllh: 219.727811632"
       ]
      },
      {
       "output_type": "stream",
       "stream": "stdout",
       "text": [
        "\n",
        "(grid) target size: 2, nllh: 219.727788255"
       ]
      },
      {
       "output_type": "stream",
       "stream": "stdout",
       "text": [
        "\n",
        "(grid) target size: 3, nllh: 219.727781859"
       ]
      },
      {
       "output_type": "stream",
       "stream": "stdout",
       "text": [
        "\n",
        "(grid) target size: 4, nllh: 219.727656238"
       ]
      },
      {
       "output_type": "stream",
       "stream": "stdout",
       "text": [
        "\n",
        "(grid) target size: 5, nllh: 219.727833383"
       ]
      },
      {
       "output_type": "stream",
       "stream": "stdout",
       "text": [
        "\n",
        "(grid) target size: 6, nllh: 219.727656238"
       ]
      },
      {
       "output_type": "stream",
       "stream": "stdout",
       "text": [
        "\n",
        "(grid) target size: 7, nllh: 219.727656238"
       ]
      },
      {
       "output_type": "stream",
       "stream": "stdout",
       "text": [
        "\n",
        "(grid) target size: 8, nllh: 219.727656238"
       ]
      },
      {
       "output_type": "stream",
       "stream": "stdout",
       "text": [
        "\n",
        "(grid) target size: 9, nllh: 219.727656238"
       ]
      },
      {
       "output_type": "stream",
       "stream": "stdout",
       "text": [
        "\n",
        "(grid) target size: 10, nllh: 219.727656238"
       ]
      },
      {
       "output_type": "stream",
       "stream": "stdout",
       "text": [
        "\n",
        "(grid) target size: 11, nllh: 219.727765461"
       ]
      },
      {
       "output_type": "stream",
       "stream": "stdout",
       "text": [
        "\n",
        "(grid) target size: 12, nllh: 219.727656238"
       ]
      },
      {
       "output_type": "stream",
       "stream": "stdout",
       "text": [
        "\n",
        "(grid) target size: 13, nllh: 219.727832729"
       ]
      },
      {
       "output_type": "stream",
       "stream": "stdout",
       "text": [
        "\n",
        "(grid) target size: 14, nllh: 219.727822229"
       ]
      },
      {
       "output_type": "stream",
       "stream": "stdout",
       "text": [
        "\n",
        "(grid) target size: 15, nllh: 219.387895819"
       ]
      },
      {
       "output_type": "stream",
       "stream": "stdout",
       "text": [
        "\n",
        "(grid) target size: 16, nllh: 217.147335876"
       ]
      },
      {
       "output_type": "stream",
       "stream": "stdout",
       "text": [
        "\n",
        "(grid) target size: 17, nllh: 212.856367767"
       ]
      },
      {
       "output_type": "stream",
       "stream": "stdout",
       "text": [
        "\n",
        "(grid) target size: 18, nllh: 206.731185222"
       ]
      },
      {
       "output_type": "stream",
       "stream": "stdout",
       "text": [
        "\n",
        "(grid) target size: 19, nllh: 199.143004247"
       ]
      },
      {
       "output_type": "stream",
       "stream": "stdout",
       "text": [
        "\n",
        "(grid) target size: 20, nllh: 190.537793613"
       ]
      },
      {
       "output_type": "stream",
       "stream": "stdout",
       "text": [
        "\n",
        "(grid) target size: 21, nllh: 181.354107307"
       ]
      },
      {
       "output_type": "stream",
       "stream": "stdout",
       "text": [
        "\n",
        "(grid) target size: 22, nllh: 171.97295458"
       ]
      },
      {
       "output_type": "stream",
       "stream": "stdout",
       "text": [
        "\n",
        "(grid) target size: 23, nllh: 162.699622021"
       ]
      },
      {
       "output_type": "stream",
       "stream": "stdout",
       "text": [
        "\n",
        "(grid) target size: 24, nllh: 153.764112717"
       ]
      },
      {
       "output_type": "stream",
       "stream": "stdout",
       "text": [
        "\n",
        "(grid) target size: 25, nllh: 145.329485546"
       ]
      },
      {
       "output_type": "stream",
       "stream": "stdout",
       "text": [
        "\n",
        "(grid) target size: 26, nllh: 137.502391813"
       ]
      },
      {
       "output_type": "stream",
       "stream": "stdout",
       "text": [
        "\n",
        "(grid) target size: 27, nllh: 130.343438956"
       ]
      },
      {
       "output_type": "stream",
       "stream": "stdout",
       "text": [
        "\n",
        "(grid) target size: 28, nllh: 123.876741785"
       ]
      },
      {
       "output_type": "stream",
       "stream": "stdout",
       "text": [
        "\n",
        "(grid) target size: 29, nllh: 118.098295226"
       ]
      },
      {
       "output_type": "stream",
       "stream": "stdout",
       "text": [
        "\n",
        "(grid) target size: 30, nllh: 112.983346373"
       ]
      },
      {
       "output_type": "stream",
       "stream": "stdout",
       "text": [
        "\n",
        "(grid) target size: 31, nllh: 108.49266944"
       ]
      },
      {
       "output_type": "stream",
       "stream": "stdout",
       "text": [
        "\n",
        "(grid) target size: 32, nllh: 104.577854734"
       ]
      },
      {
       "output_type": "stream",
       "stream": "stdout",
       "text": [
        "\n",
        "(grid) target size: 33, nllh: 101.18559033"
       ]
      },
      {
       "output_type": "stream",
       "stream": "stdout",
       "text": [
        "\n",
        "(grid) target size: 34, nllh: 98.2610049541"
       ]
      },
      {
       "output_type": "stream",
       "stream": "stdout",
       "text": [
        "\n",
        "(grid) target size: 35, nllh: 95.7501631492"
       ]
      },
      {
       "output_type": "stream",
       "stream": "stdout",
       "text": [
        "\n",
        "(grid) target size: 36, nllh: 93.6018235761"
       ]
      },
      {
       "output_type": "stream",
       "stream": "stdout",
       "text": [
        "\n",
        "(grid) target size: 37, nllh: 91.7685286487"
       ]
      },
      {
       "output_type": "stream",
       "stream": "stdout",
       "text": [
        "\n",
        "(grid) target size: 38, nllh: 90.2072292214"
       ]
      },
      {
       "output_type": "stream",
       "stream": "stdout",
       "text": [
        "\n",
        "(grid) target size: 39, nllh: 88.8795114711"
       ]
      },
      {
       "output_type": "stream",
       "stream": "stdout",
       "text": [
        "\n",
        "(grid) target size: 40, nllh: 87.7515558456"
       ]
      },
      {
       "output_type": "stream",
       "stream": "stdout",
       "text": [
        "\n",
        "(grid) target size: 41, nllh: 86.7939126525"
       ]
      },
      {
       "output_type": "stream",
       "stream": "stdout",
       "text": [
        "\n",
        "(grid) target size: 42, nllh: 85.9811626707"
       ]
      },
      {
       "output_type": "stream",
       "stream": "stdout",
       "text": [
        "\n",
        "(grid) target size: 43, nllh: 85.2915243204"
       ]
      },
      {
       "output_type": "stream",
       "stream": "stdout",
       "text": [
        "\n",
        "(grid) target size: 44, nllh: 84.7064141197"
       ]
      },
      {
       "output_type": "stream",
       "stream": "stdout",
       "text": [
        "\n",
        "(grid) target size: 45, nllh: 84.210079043"
       ]
      },
      {
       "output_type": "stream",
       "stream": "stdout",
       "text": [
        "\n",
        "(grid) target size: 46, nllh: 83.789164226"
       ]
      },
      {
       "output_type": "stream",
       "stream": "stdout",
       "text": [
        "\n",
        "(grid) target size: 47, nllh: 83.4324000873"
       ]
      },
      {
       "output_type": "stream",
       "stream": "stdout",
       "text": [
        "\n",
        "(grid) target size: 48, nllh: 83.1302592201"
       ]
      },
      {
       "output_type": "stream",
       "stream": "stdout",
       "text": [
        "\n",
        "(grid) target size: 49, nllh: 82.8747060445"
       ]
      },
      {
       "output_type": "stream",
       "stream": "stdout",
       "text": [
        "\n",
        "(grid) target size: 50, nllh: 82.6589568364"
       ]
      },
      {
       "output_type": "stream",
       "stream": "stdout",
       "text": [
        "\n",
        "(grid) target size: 51, nllh: 82.4772671268"
       ]
      },
      {
       "output_type": "stream",
       "stream": "stdout",
       "text": [
        "\n",
        "(grid) target size: 52, nllh: 82.3247730402"
       ]
      },
      {
       "output_type": "stream",
       "stream": "stdout",
       "text": [
        "\n",
        "(grid) target size: 53, nllh: 199.881386002"
       ]
      },
      {
       "output_type": "stream",
       "stream": "stdout",
       "text": [
        "\n",
        "(grid) target size: 54, nllh: 199.881386002"
       ]
      },
      {
       "output_type": "stream",
       "stream": "stdout",
       "text": [
        "\n",
        "(grid) target size: 55, nllh: 82.0043527422"
       ]
      },
      {
       "output_type": "stream",
       "stream": "stdout",
       "text": [
        "\n",
        "(grid) target size: 56, nllh: 81.933196846"
       ]
      },
      {
       "output_type": "stream",
       "stream": "stdout",
       "text": [
        "\n",
        "(grid) target size: 57, nllh: 199.881386002"
       ]
      },
      {
       "output_type": "stream",
       "stream": "stdout",
       "text": [
        "\n",
        "(grid) target size: 58, nllh: 199.881386002"
       ]
      },
      {
       "output_type": "stream",
       "stream": "stdout",
       "text": [
        "\n",
        "(grid) target size: 59, nllh: 81.7958935245"
       ]
      },
      {
       "output_type": "stream",
       "stream": "stdout",
       "text": [
        "\n",
        "(grid) target size: 60, nllh: 81.7701198766"
       ]
      },
      {
       "output_type": "stream",
       "stream": "stdout",
       "text": [
        "\n",
        "(grid) target size: 61, nllh: 199.881386002"
       ]
      },
      {
       "output_type": "stream",
       "stream": "stdout",
       "text": [
        "\n",
        "(grid) target size: 62, nllh: 199.881386002"
       ]
      },
      {
       "output_type": "stream",
       "stream": "stdout",
       "text": [
        "\n",
        "(grid) target size: 63, nllh: 81.7359993185"
       ]
      },
      {
       "output_type": "stream",
       "stream": "stdout",
       "text": [
        "\n",
        "(grid) target size: 64, nllh: 81.7360321618"
       ]
      },
      {
       "output_type": "stream",
       "stream": "stdout",
       "text": [
        "\n",
        "(grid) target size: 65, nllh: 199.881386002"
       ]
      },
      {
       "output_type": "stream",
       "stream": "stdout",
       "text": [
        "\n",
        "(grid) target size: 66, nllh: 199.881386002"
       ]
      },
      {
       "output_type": "stream",
       "stream": "stdout",
       "text": [
        "\n",
        "(grid) target size: 67, nllh: 199.881386002"
       ]
      },
      {
       "output_type": "stream",
       "stream": "stdout",
       "text": [
        "\n",
        "(grid) target size: 68, nllh: 199.881386002"
       ]
      },
      {
       "output_type": "stream",
       "stream": "stdout",
       "text": [
        "\n",
        "(grid) target size: 69, nllh: 199.881386002"
       ]
      },
      {
       "output_type": "stream",
       "stream": "stdout",
       "text": [
        "\n",
        "(grid) target size: 70, nllh: 81.8124253892"
       ]
      },
      {
       "output_type": "stream",
       "stream": "stdout",
       "text": [
        "\n",
        "(grid) target size: 71, nllh: 199.881386002"
       ]
      },
      {
       "output_type": "stream",
       "stream": "stdout",
       "text": [
        "\n",
        "(grid) target size: 72, nllh: 199.881386002"
       ]
      },
      {
       "output_type": "stream",
       "stream": "stdout",
       "text": [
        "\n",
        "(grid) target size: 73, nllh: 199.881386002"
       ]
      },
      {
       "output_type": "stream",
       "stream": "stdout",
       "text": [
        "\n",
        "(grid) target size: 74, nllh: 199.881386002"
       ]
      },
      {
       "output_type": "stream",
       "stream": "stdout",
       "text": [
        "\n",
        "(grid) target size: 75, nllh: 199.881386002"
       ]
      },
      {
       "output_type": "stream",
       "stream": "stdout",
       "text": [
        "\n",
        "(grid) target size: 76, nllh: 199.881386002"
       ]
      },
      {
       "output_type": "stream",
       "stream": "stdout",
       "text": [
        "\n",
        "(grid) target size: 77, nllh: 199.881386002"
       ]
      },
      {
       "output_type": "stream",
       "stream": "stdout",
       "text": [
        "\n",
        "(grid) target size: 78, nllh: 199.881386002"
       ]
      },
      {
       "output_type": "stream",
       "stream": "stdout",
       "text": [
        "\n",
        "(grid) target size: 79, nllh: 199.881386002"
       ]
      },
      {
       "output_type": "stream",
       "stream": "stdout",
       "text": [
        "\n",
        "(grid) target size: 80, nllh: 199.881386002"
       ]
      },
      {
       "output_type": "stream",
       "stream": "stdout",
       "text": [
        "\n",
        "(grid) target size: 81, nllh: 199.881386002"
       ]
      },
      {
       "output_type": "stream",
       "stream": "stdout",
       "text": [
        "\n",
        "(grid) target size: 82, nllh: 82.1382386441"
       ]
      },
      {
       "output_type": "stream",
       "stream": "stdout",
       "text": [
        "\n",
        "(grid) target size: 83, nllh: 199.881386002"
       ]
      },
      {
       "output_type": "stream",
       "stream": "stdout",
       "text": [
        "\n",
        "(grid) target size: 84, nllh: 82.199248057"
       ]
      },
      {
       "output_type": "stream",
       "stream": "stdout",
       "text": [
        "\n",
        "(grid) target size: 85, nllh: 199.881386002"
       ]
      },
      {
       "output_type": "stream",
       "stream": "stdout",
       "text": [
        "\n",
        "(grid) target size: 86, nllh: 199.881386002"
       ]
      },
      {
       "output_type": "stream",
       "stream": "stdout",
       "text": [
        "\n",
        "(grid) target size: 87, nllh: 199.881386002"
       ]
      },
      {
       "output_type": "stream",
       "stream": "stdout",
       "text": [
        "\n",
        "(grid) target size: 88, nllh: 199.881386002"
       ]
      },
      {
       "output_type": "stream",
       "stream": "stdout",
       "text": [
        "\n",
        "(grid) target size: 89, nllh: 82.3518190282"
       ]
      },
      {
       "output_type": "stream",
       "stream": "stdout",
       "text": [
        "\n",
        "(grid) target size: 90, nllh: 199.881386002"
       ]
      },
      {
       "output_type": "stream",
       "stream": "stdout",
       "text": [
        "\n",
        "(grid) target size: 91, nllh: 199.881386002"
       ]
      },
      {
       "output_type": "stream",
       "stream": "stdout",
       "text": [
        "\n",
        "(grid) target size: 92, nllh: 199.881386002"
       ]
      },
      {
       "output_type": "stream",
       "stream": "stdout",
       "text": [
        "\n",
        "(grid) target size: 93, nllh: 199.881386002"
       ]
      },
      {
       "output_type": "stream",
       "stream": "stdout",
       "text": [
        "\n",
        "(grid) target size: 94, nllh: 199.881386002"
       ]
      },
      {
       "output_type": "stream",
       "stream": "stdout",
       "text": [
        "\n",
        "(grid) target size: 95, nllh: 82.5302143761"
       ]
      },
      {
       "output_type": "stream",
       "stream": "stdout",
       "text": [
        "\n",
        "best fitting target size: 63\n",
        "bic: 169.175781112\n",
        "  status: 0\n",
        "    nfev: 32\n",
        " success: True\n",
        "     fun: 81.735999318463087\n",
        "       x: array([ 0.05665361])\n",
        " message: 'Optimization terminated successfully.'\n",
        "     nit: 16\n",
        "12\n",
        "(grid) target size: 0, nllh: 74.1667483199"
       ]
      },
      {
       "output_type": "stream",
       "stream": "stdout",
       "text": [
        "\n",
        "(grid) target size: 1, nllh: 74.1669035309"
       ]
      },
      {
       "output_type": "stream",
       "stream": "stdout",
       "text": [
        "\n",
        "(grid) target size: 2, nllh: 74.1667483199"
       ]
      },
      {
       "output_type": "stream",
       "stream": "stdout",
       "text": [
        "\n",
        "(grid) target size: 3, nllh: 74.1668567744"
       ]
      },
      {
       "output_type": "stream",
       "stream": "stdout",
       "text": [
        "\n",
        "(grid) target size: 4, nllh: 74.1667483199"
       ]
      },
      {
       "output_type": "stream",
       "stream": "stdout",
       "text": [
        "\n",
        "(grid) target size: 5, nllh: 74.1667483199"
       ]
      },
      {
       "output_type": "stream",
       "stream": "stdout",
       "text": [
        "\n",
        "(grid) target size: 6, nllh: 74.1669052275"
       ]
      },
      {
       "output_type": "stream",
       "stream": "stdout",
       "text": [
        "\n",
        "(grid) target size: 7, nllh: 74.1669096434"
       ]
      },
      {
       "output_type": "stream",
       "stream": "stdout",
       "text": [
        "\n",
        "(grid) target size: 8, nllh: 73.9536549027"
       ]
      },
      {
       "output_type": "stream",
       "stream": "stdout",
       "text": [
        "\n",
        "(grid) target size: 9, nllh: 72.5986538581"
       ]
      },
      {
       "output_type": "stream",
       "stream": "stdout",
       "text": [
        "\n",
        "(grid) target size: 10, nllh: 70.2581871064"
       ]
      },
      {
       "output_type": "stream",
       "stream": "stdout",
       "text": [
        "\n",
        "(grid) target size: 11, nllh: 67.4207246943"
       ]
      },
      {
       "output_type": "stream",
       "stream": "stdout",
       "text": [
        "\n",
        "(grid) target size: 12, nllh: 64.5319938987"
       ]
      },
      {
       "output_type": "stream",
       "stream": "stdout",
       "text": [
        "\n",
        "(grid) target size: 13, nllh: 61.8750212665"
       ]
      },
      {
       "output_type": "stream",
       "stream": "stdout",
       "text": [
        "\n",
        "(grid) target size: 14, nllh: 59.5832311043"
       ]
      },
      {
       "output_type": "stream",
       "stream": "stdout",
       "text": [
        "\n",
        "(grid) target size: 15, nllh: 57.6895524865"
       ]
      },
      {
       "output_type": "stream",
       "stream": "stdout",
       "text": [
        "\n",
        "(grid) target size: 16, nllh: 56.1695975198"
       ]
      },
      {
       "output_type": "stream",
       "stream": "stdout",
       "text": [
        "\n",
        "(grid) target size: 17, nllh: 54.9721267296"
       ]
      },
      {
       "output_type": "stream",
       "stream": "stdout",
       "text": [
        "\n",
        "(grid) target size: 18, nllh: 54.0384723588"
       ]
      },
      {
       "output_type": "stream",
       "stream": "stdout",
       "text": [
        "\n",
        "(grid) target size: 19, nllh: 53.3134264711"
       ]
      },
      {
       "output_type": "stream",
       "stream": "stdout",
       "text": [
        "\n",
        "(grid) target size: 20, nllh: 52.7500309348"
       ]
      },
      {
       "output_type": "stream",
       "stream": "stdout",
       "text": [
        "\n",
        "(grid) target size: 21, nllh: 52.3106322734"
       ]
      },
      {
       "output_type": "stream",
       "stream": "stdout",
       "text": [
        "\n",
        "(grid) target size: 22, nllh: 51.9660559368"
       ]
      },
      {
       "output_type": "stream",
       "stream": "stdout",
       "text": [
        "\n",
        "(grid) target size: 23, nllh: 51.6941146607"
       ]
      },
      {
       "output_type": "stream",
       "stream": "stdout",
       "text": [
        "\n",
        "(grid) target size: 24, nllh: 51.4780713001"
       ]
      },
      {
       "output_type": "stream",
       "stream": "stdout",
       "text": [
        "\n",
        "(grid) target size: 25, nllh: 51.3053246863"
       ]
      },
      {
       "output_type": "stream",
       "stream": "stdout",
       "text": [
        "\n",
        "(grid) target size: 26, nllh: 51.1663630107"
       ]
      },
      {
       "output_type": "stream",
       "stream": "stdout",
       "text": [
        "\n",
        "(grid) target size: 27, nllh: 51.0539659749"
       ]
      },
      {
       "output_type": "stream",
       "stream": "stdout",
       "text": [
        "\n",
        "(grid) target size: 28, nllh: 50.9626172124"
       ]
      },
      {
       "output_type": "stream",
       "stream": "stdout",
       "text": [
        "\n",
        "(grid) target size: 29, nllh: 50.8880721081"
       ]
      },
      {
       "output_type": "stream",
       "stream": "stdout",
       "text": [
        "\n",
        "(grid) target size: 30, nllh: 50.8270393574"
       ]
      },
      {
       "output_type": "stream",
       "stream": "stdout",
       "text": [
        "\n",
        "(grid) target size: 31, nllh: 50.7769402469"
       ]
      },
      {
       "output_type": "stream",
       "stream": "stdout",
       "text": [
        "\n",
        "(grid) target size: 32, nllh: 50.7357522586"
       ]
      },
      {
       "output_type": "stream",
       "stream": "stdout",
       "text": [
        "\n",
        "(grid) target size: 33, nllh: 50.7018627606"
       ]
      },
      {
       "output_type": "stream",
       "stream": "stdout",
       "text": [
        "\n",
        "(grid) target size: 34, nllh: 50.6739885037"
       ]
      },
      {
       "output_type": "stream",
       "stream": "stdout",
       "text": [
        "\n",
        "(grid) target size: 35, nllh: 50.6510889039"
       ]
      },
      {
       "output_type": "stream",
       "stream": "stdout",
       "text": [
        "\n",
        "(grid) target size: 36, nllh: 153.134526951"
       ]
      },
      {
       "output_type": "stream",
       "stream": "stdout",
       "text": [
        "\n",
        "(grid) target size: 37, nllh: 153.134526951"
       ]
      },
      {
       "output_type": "stream",
       "stream": "stdout",
       "text": [
        "\n",
        "(grid) target size: 38, nllh: 153.134526951"
       ]
      },
      {
       "output_type": "stream",
       "stream": "stdout",
       "text": [
        "\n",
        "(grid) target size: 39, nllh: 50.5946659774"
       ]
      },
      {
       "output_type": "stream",
       "stream": "stdout",
       "text": [
        "\n",
        "(grid) target size: 40, nllh: 50.5867652367"
       ]
      },
      {
       "output_type": "stream",
       "stream": "stdout",
       "text": [
        "\n",
        "(grid) target size: 41, nllh: 50.5805985771"
       ]
      },
      {
       "output_type": "stream",
       "stream": "stdout",
       "text": [
        "\n",
        "best fitting target size: 41\n",
        "bic: 105.704491937\n",
        "  status: 0\n",
        "    nfev: 32\n",
        " success: True\n",
        "     fun: 50.580598577144059\n",
        "       x: array([ 0.04729968])\n",
        " message: 'Optimization terminated successfully.'\n",
        "     nit: 16\n",
        "13\n",
        "(grid) target size: 0, nllh: 47.1340082781"
       ]
      },
      {
       "output_type": "stream",
       "stream": "stdout",
       "text": [
        "\n",
        "(grid) target size: 1, nllh: 47.1340082781"
       ]
      },
      {
       "output_type": "stream",
       "stream": "stdout",
       "text": [
        "\n",
        "(grid) target size: 2, nllh: 47.1340082781"
       ]
      },
      {
       "output_type": "stream",
       "stream": "stdout",
       "text": [
        "\n",
        "(grid) target size: 3, nllh: 46.9134006848"
       ]
      },
      {
       "output_type": "stream",
       "stream": "stdout",
       "text": [
        "\n",
        "(grid) target size: 4, nllh: 43.6208609554"
       ]
      },
      {
       "output_type": "stream",
       "stream": "stdout",
       "text": [
        "\n",
        "(grid) target size: 5, nllh: 36.5765444341"
       ]
      },
      {
       "output_type": "stream",
       "stream": "stdout",
       "text": [
        "\n",
        "(grid) target size: 6, nllh: 31.3366388217"
       ]
      },
      {
       "output_type": "stream",
       "stream": "stdout",
       "text": [
        "\n",
        "(grid) target size: 7, nllh: 30.0596776715"
       ]
      },
      {
       "output_type": "stream",
       "stream": "stdout",
       "text": [
        "\n",
        "(grid) target size: 8, nllh: 30.6496652748"
       ]
      },
      {
       "output_type": "stream",
       "stream": "stdout",
       "text": [
        "\n",
        "(grid) target size: 9, nllh: 31.5945248186"
       ]
      },
      {
       "output_type": "stream",
       "stream": "stdout",
       "text": [
        "\n",
        "(grid) target size: 10, nllh: 32.4487522334"
       ]
      },
      {
       "output_type": "stream",
       "stream": "stdout",
       "text": [
        "\n",
        "(grid) target size: 11, nllh: 33.1466915852"
       ]
      },
      {
       "output_type": "stream",
       "stream": "stdout",
       "text": [
        "\n",
        "(grid) target size: 12, nllh: 33.7080192073"
       ]
      },
      {
       "output_type": "stream",
       "stream": "stdout",
       "text": [
        "\n",
        "(grid) target size: 13, nllh: 34.1625813522"
       ]
      },
      {
       "output_type": "stream",
       "stream": "stdout",
       "text": [
        "\n",
        "(grid) target size: 14, nllh: 34.5354574775"
       ]
      },
      {
       "output_type": "stream",
       "stream": "stdout",
       "text": [
        "\n",
        "(grid) target size: 15, nllh: 34.8455814656"
       ]
      },
      {
       "output_type": "stream",
       "stream": "stdout",
       "text": [
        "\n",
        "(grid) target size: 16, nllh: 35.1069121549"
       ]
      },
      {
       "output_type": "stream",
       "stream": "stdout",
       "text": [
        "\n",
        "(grid) target size: 17, nllh: 35.3297704488"
       ]
      },
      {
       "output_type": "stream",
       "stream": "stdout",
       "text": [
        "\n",
        "best fitting target size: 7\n",
        "bic: 64.1797983535\n",
        "  status: 0\n",
        "    nfev: 28\n",
        " success: True\n",
        "     fun: 30.059677671453485\n",
        "       x: array([ 0.58823364])\n",
        " message: 'Optimization terminated successfully.'\n",
        "     nit: 14\n",
        "14\n",
        "(grid) target size: 0, nllh: 110.210401709"
       ]
      },
      {
       "output_type": "stream",
       "stream": "stdout",
       "text": [
        "\n",
        "(grid) target size: 1, nllh: 110.210523833"
       ]
      },
      {
       "output_type": "stream",
       "stream": "stdout",
       "text": [
        "\n",
        "(grid) target size: 2, nllh: 110.210563306"
       ]
      },
      {
       "output_type": "stream",
       "stream": "stdout",
       "text": [
        "\n",
        "(grid) target size: 3, nllh: 110.210593699"
       ]
      },
      {
       "output_type": "stream",
       "stream": "stdout",
       "text": [
        "\n",
        "(grid) target size: 4, nllh: 110.210401709"
       ]
      },
      {
       "output_type": "stream",
       "stream": "stdout",
       "text": [
        "\n",
        "(grid) target size: 5, nllh: 110.210534514"
       ]
      },
      {
       "output_type": "stream",
       "stream": "stdout",
       "text": [
        "\n",
        "(grid) target size: 6, nllh: 110.210530841"
       ]
      },
      {
       "output_type": "stream",
       "stream": "stdout",
       "text": [
        "\n",
        "(grid) target size: 7, nllh: 109.079424781"
       ]
      },
      {
       "output_type": "stream",
       "stream": "stdout",
       "text": [
        "\n",
        "(grid) target size: 8, nllh: 105.235511135"
       ]
      },
      {
       "output_type": "stream",
       "stream": "stdout",
       "text": [
        "\n",
        "(grid) target size: 9, nllh: 99.7335819519"
       ]
      },
      {
       "output_type": "stream",
       "stream": "stdout",
       "text": [
        "\n",
        "(grid) target size: 10, nllh: 94.166096871"
       ]
      },
      {
       "output_type": "stream",
       "stream": "stdout",
       "text": [
        "\n",
        "(grid) target size: 11, nllh: 89.5659484364"
       ]
      },
      {
       "output_type": "stream",
       "stream": "stdout",
       "text": [
        "\n",
        "(grid) target size: 12, nllh: 86.2380117836"
       ]
      },
      {
       "output_type": "stream",
       "stream": "stdout",
       "text": [
        "\n",
        "(grid) target size: 13, nllh: 84.0365023842"
       ]
      },
      {
       "output_type": "stream",
       "stream": "stdout",
       "text": [
        "\n",
        "(grid) target size: 14, nllh: 82.6626264721"
       ]
      },
      {
       "output_type": "stream",
       "stream": "stdout",
       "text": [
        "\n",
        "(grid) target size: 15, nllh: 81.8385800714"
       ]
      },
      {
       "output_type": "stream",
       "stream": "stdout",
       "text": [
        "\n",
        "(grid) target size: 16, nllh: 81.3621802445"
       ]
      },
      {
       "output_type": "stream",
       "stream": "stdout",
       "text": [
        "\n",
        "(grid) target size: 17, nllh: 81.1014207487"
       ]
      },
      {
       "output_type": "stream",
       "stream": "stdout",
       "text": [
        "\n",
        "(grid) target size: 18, nllh: 80.9738968944"
       ]
      },
      {
       "output_type": "stream",
       "stream": "stdout",
       "text": [
        "\n",
        "(grid) target size: 19, nllh: 80.9288098291"
       ]
      },
      {
       "output_type": "stream",
       "stream": "stdout",
       "text": [
        "\n",
        "(grid) target size: 20, nllh: 80.9347393431"
       ]
      },
      {
       "output_type": "stream",
       "stream": "stdout",
       "text": [
        "\n",
        "(grid) target size: 21, nllh: 80.9720572531"
       ]
      },
      {
       "output_type": "stream",
       "stream": "stdout",
       "text": [
        "\n",
        "(grid) target size: 22, nllh: 81.0283600765"
       ]
      },
      {
       "output_type": "stream",
       "stream": "stdout",
       "text": [
        "\n",
        "(grid) target size: 23, nllh: 81.0957212513"
       ]
      },
      {
       "output_type": "stream",
       "stream": "stdout",
       "text": [
        "\n",
        "(grid) target size: 24, nllh: 81.1690301367"
       ]
      },
      {
       "output_type": "stream",
       "stream": "stdout",
       "text": [
        "\n",
        "(grid) target size: 25, nllh: 81.2449944687"
       ]
      },
      {
       "output_type": "stream",
       "stream": "stdout",
       "text": [
        "\n",
        "(grid) target size: 26, nllh: 81.3214701146"
       ]
      },
      {
       "output_type": "stream",
       "stream": "stdout",
       "text": [
        "\n",
        "(grid) target size: 27, nllh: 81.3970886943"
       ]
      },
      {
       "output_type": "stream",
       "stream": "stdout",
       "text": [
        "\n",
        "(grid) target size: 28, nllh: 81.4709837292"
       ]
      },
      {
       "output_type": "stream",
       "stream": "stdout",
       "text": [
        "\n",
        "(grid) target size: 29, nllh: 81.5426216996"
       ]
      },
      {
       "output_type": "stream",
       "stream": "stdout",
       "text": [
        "\n",
        "(grid) target size: 30, nllh: 81.6117028289"
       ]
      },
      {
       "output_type": "stream",
       "stream": "stdout",
       "text": [
        "\n",
        "(grid) target size: 31, nllh: 81.6780732511"
       ]
      },
      {
       "output_type": "stream",
       "stream": "stdout",
       "text": [
        "\n",
        "best fitting target size: 19\n",
        "bic: 166.740421581\n",
        "  status: 0\n",
        "    nfev: 32\n",
        " success: True\n",
        "     fun: 80.928809829063169\n",
        "       x: array([ 0.11582319])\n",
        " message: 'Optimization terminated successfully.'\n",
        "     nit: 16\n",
        "15\n",
        "(grid) target size: 0, nllh: 53.3723329031"
       ]
      },
      {
       "output_type": "stream",
       "stream": "stdout",
       "text": [
        "\n",
        "(grid) target size: 1, nllh: 53.3724414238"
       ]
      },
      {
       "output_type": "stream",
       "stream": "stdout",
       "text": [
        "\n",
        "(grid) target size: 2, nllh: 53.369694269"
       ]
      },
      {
       "output_type": "stream",
       "stream": "stdout",
       "text": [
        "\n",
        "(grid) target size: 3, nllh: 52.67807817"
       ]
      },
      {
       "output_type": "stream",
       "stream": "stdout",
       "text": [
        "\n",
        "(grid) target size: 4, nllh: 49.7842426181"
       ]
      },
      {
       "output_type": "stream",
       "stream": "stdout",
       "text": [
        "\n",
        "(grid) target size: 5, nllh: 45.7827978843"
       ]
      },
      {
       "output_type": "stream",
       "stream": "stdout",
       "text": [
        "\n",
        "(grid) target size: 6, nllh: 44.1090395641"
       ]
      },
      {
       "output_type": "stream",
       "stream": "stdout",
       "text": [
        "\n",
        "(grid) target size: 7, nllh: 44.2354629595"
       ]
      },
      {
       "output_type": "stream",
       "stream": "stdout",
       "text": [
        "\n",
        "(grid) target size: 8, nllh: 44.8579529081"
       ]
      },
      {
       "output_type": "stream",
       "stream": "stdout",
       "text": [
        "\n",
        "(grid) target size: 9, nllh: 45.4827494206"
       ]
      },
      {
       "output_type": "stream",
       "stream": "stdout",
       "text": [
        "\n",
        "(grid) target size: 10, nllh: 46.0030505076"
       ]
      },
      {
       "output_type": "stream",
       "stream": "stdout",
       "text": [
        "\n",
        "(grid) target size: 11, nllh: 46.4192477449"
       ]
      },
      {
       "output_type": "stream",
       "stream": "stdout",
       "text": [
        "\n",
        "(grid) target size: 12, nllh: 46.7518765182"
       ]
      },
      {
       "output_type": "stream",
       "stream": "stdout",
       "text": [
        "\n",
        "(grid) target size: 13, nllh: 47.0206513142"
       ]
      },
      {
       "output_type": "stream",
       "stream": "stdout",
       "text": [
        "\n",
        "(grid) target size: 14, nllh: 47.2409057267"
       ]
      },
      {
       "output_type": "stream",
       "stream": "stdout",
       "text": [
        "\n",
        "(grid) target size: 15, nllh: 47.4239654166"
       ]
      },
      {
       "output_type": "stream",
       "stream": "stdout",
       "text": [
        "\n",
        "(grid) target size: 16, nllh: 47.5781258071"
       ]
      },
      {
       "output_type": "stream",
       "stream": "stdout",
       "text": [
        "\n",
        "(grid) target size: 17, nllh: 47.709505426"
       ]
      },
      {
       "output_type": "stream",
       "stream": "stdout",
       "text": [
        "\n",
        "(grid) target size: 18, nllh: 47.822666314"
       ]
      },
      {
       "output_type": "stream",
       "stream": "stdout",
       "text": [
        "\n",
        "(grid) target size: 19, nllh: 47.9210710469"
       ]
      },
      {
       "output_type": "stream",
       "stream": "stdout",
       "text": [
        "\n",
        "best fitting target size: 6\n",
        "bic: 92.2785221387\n",
        "  status: 0\n",
        "    nfev: 32\n",
        " success: True\n",
        "     fun: 44.109039564098723\n",
        "       x: array([ 0.41642103])\n",
        " message: 'Optimization terminated successfully.'\n",
        "     nit: 16\n",
        "16\n",
        "(grid) target size: 0, nllh: 121.994010565"
       ]
      },
      {
       "output_type": "stream",
       "stream": "stdout",
       "text": [
        "\n",
        "(grid) target size: 1, nllh: 121.993903779"
       ]
      },
      {
       "output_type": "stream",
       "stream": "stdout",
       "text": [
        "\n",
        "(grid) target size: 2, nllh: 121.994046939"
       ]
      },
      {
       "output_type": "stream",
       "stream": "stdout",
       "text": [
        "\n",
        "(grid) target size: 3, nllh: 121.994005563"
       ]
      },
      {
       "output_type": "stream",
       "stream": "stdout",
       "text": [
        "\n",
        "(grid) target size: 4, nllh: 121.994056725"
       ]
      },
      {
       "output_type": "stream",
       "stream": "stdout",
       "text": [
        "\n",
        "(grid) target size: 5, nllh: 121.993903779"
       ]
      },
      {
       "output_type": "stream",
       "stream": "stdout",
       "text": [
        "\n",
        "(grid) target size: 6, nllh: 121.993903779"
       ]
      },
      {
       "output_type": "stream",
       "stream": "stdout",
       "text": [
        "\n",
        "(grid) target size: 7, nllh: 121.993903779"
       ]
      },
      {
       "output_type": "stream",
       "stream": "stdout",
       "text": [
        "\n",
        "(grid) target size: 8, nllh: 121.994016971"
       ]
      },
      {
       "output_type": "stream",
       "stream": "stdout",
       "text": [
        "\n",
        "(grid) target size: 9, nllh: 121.994033696"
       ]
      },
      {
       "output_type": "stream",
       "stream": "stdout",
       "text": [
        "\n",
        "(grid) target size: 10, nllh: 121.849519824"
       ]
      },
      {
       "output_type": "stream",
       "stream": "stdout",
       "text": [
        "\n",
        "(grid) target size: 11, nllh: 120.453159997"
       ]
      },
      {
       "output_type": "stream",
       "stream": "stdout",
       "text": [
        "\n",
        "(grid) target size: 12, nllh: 117.683012293"
       ]
      },
      {
       "output_type": "stream",
       "stream": "stdout",
       "text": [
        "\n",
        "(grid) target size: 13, nllh: 113.874065937"
       ]
      },
      {
       "output_type": "stream",
       "stream": "stdout",
       "text": [
        "\n",
        "(grid) target size: 14, nllh: 109.478150537"
       ]
      },
      {
       "output_type": "stream",
       "stream": "stdout",
       "text": [
        "\n",
        "(grid) target size: 15, nllh: 104.912862873"
       ]
      },
      {
       "output_type": "stream",
       "stream": "stdout",
       "text": [
        "\n",
        "(grid) target size: 16, nllh: 100.483953809"
       ]
      },
      {
       "output_type": "stream",
       "stream": "stdout",
       "text": [
        "\n",
        "(grid) target size: 17, nllh: 96.3801498958"
       ]
      },
      {
       "output_type": "stream",
       "stream": "stdout",
       "text": [
        "\n",
        "(grid) target size: 18, nllh: 92.6980698731"
       ]
      },
      {
       "output_type": "stream",
       "stream": "stdout",
       "text": [
        "\n",
        "(grid) target size: 19, nllh: 89.4707836906"
       ]
      },
      {
       "output_type": "stream",
       "stream": "stdout",
       "text": [
        "\n",
        "(grid) target size: 20, nllh: 86.691027105"
       ]
      },
      {
       "output_type": "stream",
       "stream": "stdout",
       "text": [
        "\n",
        "(grid) target size: 21, nllh: 84.3280031806"
       ]
      },
      {
       "output_type": "stream",
       "stream": "stdout",
       "text": [
        "\n",
        "(grid) target size: 22, nllh: 82.3388669876"
       ]
      },
      {
       "output_type": "stream",
       "stream": "stdout",
       "text": [
        "\n",
        "(grid) target size: 23, nllh: 80.6762976079"
       ]
      },
      {
       "output_type": "stream",
       "stream": "stdout",
       "text": [
        "\n",
        "(grid) target size: 24, nllh: 79.2933160881"
       ]
      },
      {
       "output_type": "stream",
       "stream": "stdout",
       "text": [
        "\n",
        "(grid) target size: 25, nllh: 78.1461363024"
       ]
      },
      {
       "output_type": "stream",
       "stream": "stdout",
       "text": [
        "\n",
        "(grid) target size: 26, nllh: 77.1956536744"
       ]
      },
      {
       "output_type": "stream",
       "stream": "stdout",
       "text": [
        "\n",
        "(grid) target size: 27, nllh: 76.4079926808"
       ]
      },
      {
       "output_type": "stream",
       "stream": "stdout",
       "text": [
        "\n",
        "(grid) target size: 28, nllh: 75.7544619088"
       ]
      },
      {
       "output_type": "stream",
       "stream": "stdout",
       "text": [
        "\n",
        "(grid) target size: 29, nllh: 75.2111433765"
       ]
      },
      {
       "output_type": "stream",
       "stream": "stdout",
       "text": [
        "\n",
        "(grid) target size: 30, nllh: 74.7583242997"
       ]
      },
      {
       "output_type": "stream",
       "stream": "stdout",
       "text": [
        "\n",
        "(grid) target size: 31, nllh: 74.3798784213"
       ]
      },
      {
       "output_type": "stream",
       "stream": "stdout",
       "text": [
        "\n",
        "(grid) target size: 32, nllh: 74.0626632638"
       ]
      },
      {
       "output_type": "stream",
       "stream": "stdout",
       "text": [
        "\n",
        "(grid) target size: 33, nllh: 73.7959992333"
       ]
      },
      {
       "output_type": "stream",
       "stream": "stdout",
       "text": [
        "\n",
        "(grid) target size: 34, nllh: 73.5712044284"
       ]
      },
      {
       "output_type": "stream",
       "stream": "stdout",
       "text": [
        "\n",
        "(grid) target size: 35, nllh: 73.3812015494"
       ]
      },
      {
       "output_type": "stream",
       "stream": "stdout",
       "text": [
        "\n",
        "(grid) target size: 36, nllh: 73.2202336693"
       ]
      },
      {
       "output_type": "stream",
       "stream": "stdout",
       "text": [
        "\n",
        "(grid) target size: 37, nllh: 73.0835794585"
       ]
      },
      {
       "output_type": "stream",
       "stream": "stdout",
       "text": [
        "\n",
        "(grid) target size: 38, nllh: 72.9673618749"
       ]
      },
      {
       "output_type": "stream",
       "stream": "stdout",
       "text": [
        "\n",
        "(grid) target size: 39, nllh: 72.8683988189"
       ]
      },
      {
       "output_type": "stream",
       "stream": "stdout",
       "text": [
        "\n",
        "(grid) target size: 40, nllh: 72.7840446321"
       ]
      },
      {
       "output_type": "stream",
       "stream": "stdout",
       "text": [
        "\n",
        "(grid) target size: 41, nllh: 72.7121024952"
       ]
      },
      {
       "output_type": "stream",
       "stream": "stdout",
       "text": [
        "\n",
        "(grid) target size: 42, nllh: 72.6507395008"
       ]
      },
      {
       "output_type": "stream",
       "stream": "stdout",
       "text": [
        "\n",
        "(grid) target size: 43, nllh: 72.5984494404"
       ]
      },
      {
       "output_type": "stream",
       "stream": "stdout",
       "text": [
        "\n",
        "(grid) target size: 44, nllh: 72.5539223581"
       ]
      },
      {
       "output_type": "stream",
       "stream": "stdout",
       "text": [
        "\n",
        "(grid) target size: 45, nllh: 72.5160876241"
       ]
      },
      {
       "output_type": "stream",
       "stream": "stdout",
       "text": [
        "\n",
        "(grid) target size: 46, nllh: 72.4840236328"
       ]
      },
      {
       "output_type": "stream",
       "stream": "stdout",
       "text": [
        "\n",
        "(grid) target size: 47, nllh: 72.4569588723"
       ]
      },
      {
       "output_type": "stream",
       "stream": "stdout",
       "text": [
        "\n",
        "(grid) target size: 48, nllh: 211.39288146"
       ]
      },
      {
       "output_type": "stream",
       "stream": "stdout",
       "text": [
        "\n",
        "(grid) target size: 49, nllh: 72.4152312488"
       ]
      },
      {
       "output_type": "stream",
       "stream": "stdout",
       "text": [
        "\n",
        "(grid) target size: 50, nllh: 72.3995113541"
       ]
      },
      {
       "output_type": "stream",
       "stream": "stdout",
       "text": [
        "\n",
        "(grid) target size: 51, nllh: 72.3866518331"
       ]
      },
      {
       "output_type": "stream",
       "stream": "stdout",
       "text": [
        "\n",
        "(grid) target size: 52, nllh: 72.3762630903"
       ]
      },
      {
       "output_type": "stream",
       "stream": "stdout",
       "text": [
        "\n",
        "(grid) target size: 53, nllh: 72.368103689"
       ]
      },
      {
       "output_type": "stream",
       "stream": "stdout",
       "text": [
        "\n",
        "(grid) target size: 54, nllh: 72.3617759362"
       ]
      },
      {
       "output_type": "stream",
       "stream": "stdout",
       "text": [
        "\n",
        "(grid) target size: 55, nllh: 72.3571756311"
       ]
      },
      {
       "output_type": "stream",
       "stream": "stdout",
       "text": [
        "\n",
        "(grid) target size: 56, nllh: 211.39288146"
       ]
      },
      {
       "output_type": "stream",
       "stream": "stdout",
       "text": [
        "\n",
        "(grid) target size: 57, nllh: 211.39288146"
       ]
      },
      {
       "output_type": "stream",
       "stream": "stdout",
       "text": [
        "\n",
        "(grid) target size: 58, nllh: 72.3513961211"
       ]
      },
      {
       "output_type": "stream",
       "stream": "stdout",
       "text": [
        "\n",
        "(grid) target size: 59, nllh: 72.3516388436"
       ]
      },
      {
       "output_type": "stream",
       "stream": "stdout",
       "text": [
        "\n",
        "(grid) target size: 60, nllh: 72.3527598502"
       ]
      },
      {
       "output_type": "stream",
       "stream": "stdout",
       "text": [
        "\n",
        "(grid) target size: 61, nllh: 72.3546435376"
       ]
      },
      {
       "output_type": "stream",
       "stream": "stdout",
       "text": [
        "\n",
        "best fitting target size: 58\n",
        "bic: 149.765387275\n",
        "  status: 0\n",
        "    nfev: 32\n",
        " success: True\n",
        "     fun: 72.351396121092165\n",
        "       x: array([ 0.03862708])\n",
        " message: 'Optimization terminated successfully.'\n",
        "     nit: 16\n",
        "17\n",
        "(grid) target size: 0, nllh: 53.3724359051"
       ]
      },
      {
       "output_type": "stream",
       "stream": "stdout",
       "text": [
        "\n",
        "(grid) target size: 1, nllh: 53.3724338176"
       ]
      },
      {
       "output_type": "stream",
       "stream": "stdout",
       "text": [
        "\n",
        "(grid) target size: 2, nllh: 53.3725287179"
       ]
      },
      {
       "output_type": "stream",
       "stream": "stdout",
       "text": [
        "\n",
        "(grid) target size: 3, nllh: 52.1704242685"
       ]
      },
      {
       "output_type": "stream",
       "stream": "stdout",
       "text": [
        "\n",
        "(grid) target size: 4, nllh: 45.6112235465"
       ]
      },
      {
       "output_type": "stream",
       "stream": "stdout",
       "text": [
        "\n",
        "(grid) target size: 5, nllh: 36.7107057202"
       ]
      },
      {
       "output_type": "stream",
       "stream": "stdout",
       "text": [
        "\n",
        "(grid) target size: 6, nllh: 33.8353474909"
       ]
      },
      {
       "output_type": "stream",
       "stream": "stdout",
       "text": [
        "\n",
        "(grid) target size: 7, nllh: 35.4310556948"
       ]
      },
      {
       "output_type": "stream",
       "stream": "stdout",
       "text": [
        "\n",
        "(grid) target size: 8, nllh: 37.3386797287"
       ]
      },
      {
       "output_type": "stream",
       "stream": "stdout",
       "text": [
        "\n",
        "(grid) target size: 9, nllh: 38.7671173187"
       ]
      },
      {
       "output_type": "stream",
       "stream": "stdout",
       "text": [
        "\n",
        "(grid) target size: 10, nllh: 39.8047339564"
       ]
      },
      {
       "output_type": "stream",
       "stream": "stdout",
       "text": [
        "\n",
        "(grid) target size: 11, nllh: 40.5769341453"
       ]
      },
      {
       "output_type": "stream",
       "stream": "stdout",
       "text": [
        "\n",
        "(grid) target size: 12, nllh: 41.1689674465"
       ]
      },
      {
       "output_type": "stream",
       "stream": "stdout",
       "text": [
        "\n",
        "(grid) target size: 13, nllh: 41.6352737437"
       ]
      },
      {
       "output_type": "stream",
       "stream": "stdout",
       "text": [
        "\n",
        "best fitting target size: 6\n",
        "bic: 71.8295780651\n",
        "  status: 0\n",
        "    nfev: 22\n",
        " success: True\n",
        "     fun: 33.835347490861778\n",
        "       x: array([ 0.80648156])\n",
        " message: 'Optimization terminated successfully.'\n",
        "     nit: 11\n",
        "18\n",
        "(grid) target size: 0, nllh: 56.8382140727"
       ]
      },
      {
       "output_type": "stream",
       "stream": "stdout",
       "text": [
        "\n",
        "(grid) target size: 1, nllh: 56.8380688059"
       ]
      },
      {
       "output_type": "stream",
       "stream": "stdout",
       "text": [
        "\n",
        "(grid) target size: 2, nllh: 56.838186141"
       ]
      },
      {
       "output_type": "stream",
       "stream": "stdout",
       "text": [
        "\n",
        "(grid) target size: 3, nllh: 55.5812707012"
       ]
      },
      {
       "output_type": "stream",
       "stream": "stdout",
       "text": [
        "\n",
        "(grid) target size: 4, nllh: 48.5492567238"
       ]
      },
      {
       "output_type": "stream",
       "stream": "stdout",
       "text": [
        "\n",
        "(grid) target size: 5, nllh: 38.0381596376"
       ]
      },
      {
       "output_type": "stream",
       "stream": "stdout",
       "text": [
        "\n",
        "(grid) target size: 6, nllh: 34.1176481961"
       ]
      },
      {
       "output_type": "stream",
       "stream": "stdout",
       "text": [
        "\n",
        "(grid) target size: 7, nllh: 35.8651732721"
       ]
      },
      {
       "output_type": "stream",
       "stream": "stdout",
       "text": [
        "\n",
        "(grid) target size: 8, nllh: 38.1752470856"
       ]
      },
      {
       "output_type": "stream",
       "stream": "stdout",
       "text": [
        "\n",
        "(grid) target size: 9, nllh: 39.9340513742"
       ]
      },
      {
       "output_type": "stream",
       "stream": "stdout",
       "text": [
        "\n",
        "(grid) target size: 10, nllh: 41.2120045562"
       ]
      },
      {
       "output_type": "stream",
       "stream": "stdout",
       "text": [
        "\n",
        "(grid) target size: 11, nllh: 42.159910031"
       ]
      },
      {
       "output_type": "stream",
       "stream": "stdout",
       "text": [
        "\n",
        "(grid) target size: 12, nllh: 42.8839135938"
       ]
      },
      {
       "output_type": "stream",
       "stream": "stdout",
       "text": [
        "\n",
        "(grid) target size: 13, nllh: 43.452181235"
       ]
      },
      {
       "output_type": "stream",
       "stream": "stdout",
       "text": [
        "\n",
        "(grid) target size: 14, nllh: 43.9088105335"
       ]
      },
      {
       "output_type": "stream",
       "stream": "stdout",
       "text": [
        "\n",
        "(grid) target size: 15, nllh: 44.2831100135"
       ]
      },
      {
       "output_type": "stream",
       "stream": "stdout",
       "text": [
        "\n",
        "best fitting target size: 6\n",
        "bic: 72.4548040973\n",
        "  status: 0\n",
        "    nfev: 36\n",
        " success: True\n",
        "     fun: 34.117648196066007\n",
        "       x: array([ 0.88852625])\n",
        " message: 'Optimization terminated successfully.'\n",
        "     nit: 18\n",
        "19\n",
        "(grid) target size: 0, nllh: 91.4955769979"
       ]
      },
      {
       "output_type": "stream",
       "stream": "stdout",
       "text": [
        "\n",
        "(grid) target size: 1, nllh: 91.4954278339"
       ]
      },
      {
       "output_type": "stream",
       "stream": "stdout",
       "text": [
        "\n",
        "(grid) target size: 2, nllh: 91.4956073101"
       ]
      },
      {
       "output_type": "stream",
       "stream": "stdout",
       "text": [
        "\n",
        "(grid) target size: 3, nllh: 91.4955441871"
       ]
      },
      {
       "output_type": "stream",
       "stream": "stdout",
       "text": [
        "\n",
        "(grid) target size: 4, nllh: 91.495609524"
       ]
      },
      {
       "output_type": "stream",
       "stream": "stdout",
       "text": [
        "\n",
        "(grid) target size: 5, nllh: 91.4955811915"
       ]
      },
      {
       "output_type": "stream",
       "stream": "stdout",
       "text": [
        "\n",
        "(grid) target size: 6, nllh: 90.8567715688"
       ]
      },
      {
       "output_type": "stream",
       "stream": "stdout",
       "text": [
        "\n",
        "(grid) target size: 7, nllh: 86.7641249943"
       ]
      },
      {
       "output_type": "stream",
       "stream": "stdout",
       "text": [
        "\n",
        "(grid) target size: 8, nllh: 79.492970245"
       ]
      },
      {
       "output_type": "stream",
       "stream": "stdout",
       "text": [
        "\n",
        "(grid) target size: 9, nllh: 71.2940432029"
       ]
      },
      {
       "output_type": "stream",
       "stream": "stdout",
       "text": [
        "\n",
        "(grid) target size: 10, nllh: 64.2051135247"
       ]
      },
      {
       "output_type": "stream",
       "stream": "stdout",
       "text": [
        "\n",
        "(grid) target size: 11, nllh: 59.1311385836"
       ]
      },
      {
       "output_type": "stream",
       "stream": "stdout",
       "text": [
        "\n",
        "(grid) target size: 12, nllh: 56.0350591162"
       ]
      },
      {
       "output_type": "stream",
       "stream": "stdout",
       "text": [
        "\n",
        "(grid) target size: 13, nllh: 54.4160083521"
       ]
      },
      {
       "output_type": "stream",
       "stream": "stdout",
       "text": [
        "\n",
        "(grid) target size: 14, nllh: 53.7230350049"
       ]
      },
      {
       "output_type": "stream",
       "stream": "stdout",
       "text": [
        "\n",
        "(grid) target size: 15, nllh: 53.5482679844"
       ]
      },
      {
       "output_type": "stream",
       "stream": "stdout",
       "text": [
        "\n",
        "(grid) target size: 16, nllh: 53.6424226862"
       ]
      },
      {
       "output_type": "stream",
       "stream": "stdout",
       "text": [
        "\n",
        "(grid) target size: 17, nllh: 53.8669994581"
       ]
      },
      {
       "output_type": "stream",
       "stream": "stdout",
       "text": [
        "\n",
        "(grid) target size: 18, nllh: 54.1482888842"
       ]
      },
      {
       "output_type": "stream",
       "stream": "stdout",
       "text": [
        "\n",
        "(grid) target size: 19, nllh: 54.4478419043"
       ]
      },
      {
       "output_type": "stream",
       "stream": "stdout",
       "text": [
        "\n",
        "(grid) target size: 20, nllh: 54.7459660384"
       ]
      },
      {
       "output_type": "stream",
       "stream": "stdout",
       "text": [
        "\n",
        "(grid) target size: 21, nllh: 55.0329244973"
       ]
      },
      {
       "output_type": "stream",
       "stream": "stdout",
       "text": [
        "\n",
        "(grid) target size: 22, nllh: 55.3042773098"
       ]
      },
      {
       "output_type": "stream",
       "stream": "stdout",
       "text": [
        "\n",
        "(grid) target size: 23, nllh: 55.558415804"
       ]
      },
      {
       "output_type": "stream",
       "stream": "stdout",
       "text": [
        "\n",
        "(grid) target size: 24, nllh: 55.795217068"
       ]
      },
      {
       "output_type": "stream",
       "stream": "stdout",
       "text": [
        "\n",
        "(grid) target size: 25, nllh: 56.0153214892"
       ]
      },
      {
       "output_type": "stream",
       "stream": "stdout",
       "text": [
        "\n",
        "(grid) target size: 26, nllh: 56.219740026"
       ]
      },
      {
       "output_type": "stream",
       "stream": "stdout",
       "text": [
        "\n",
        "(grid) target size: 27, nllh: 56.4096195029"
       ]
      },
      {
       "output_type": "stream",
       "stream": "stdout",
       "text": [
        "\n",
        "(grid) target size: 28, nllh: 56.5861334108"
       ]
      },
      {
       "output_type": "stream",
       "stream": "stdout",
       "text": [
        "\n",
        "(grid) target size: 29, nllh: 56.7504174786"
       ]
      },
      {
       "output_type": "stream",
       "stream": "stdout",
       "text": [
        "\n",
        "(grid) target size: 30, nllh: 56.9035281952"
       ]
      },
      {
       "output_type": "stream",
       "stream": "stdout",
       "text": [
        "\n",
        "(grid) target size: 31, nllh: 57.0464488338"
       ]
      },
      {
       "output_type": "stream",
       "stream": "stdout",
       "text": [
        "\n",
        "(grid) target size: 32, nllh: 57.1800765759"
       ]
      },
      {
       "output_type": "stream",
       "stream": "stdout",
       "text": [
        "\n",
        "(grid) target size: 33, nllh: 57.3052230769"
       ]
      },
      {
       "output_type": "stream",
       "stream": "stdout",
       "text": [
        "\n",
        "best fitting target size: 15\n",
        "bic: 111.858709904\n",
        "  status: 0\n",
        "    nfev: 18\n",
        " success: True\n",
        "     fun: 53.548267984384843\n",
        "       x: array([ 0.23322161])\n",
        " message: 'Optimization terminated successfully.'\n",
        "     nit: 9\n",
        "20\n",
        "(grid) target size: 0, nllh: 84.564143801"
       ]
      },
      {
       "output_type": "stream",
       "stream": "stdout",
       "text": [
        "\n",
        "(grid) target size: 1, nllh: 84.5641480399"
       ]
      },
      {
       "output_type": "stream",
       "stream": "stdout",
       "text": [
        "\n",
        "(grid) target size: 2, nllh: 84.5640861469"
       ]
      },
      {
       "output_type": "stream",
       "stream": "stdout",
       "text": [
        "\n",
        "(grid) target size: 3, nllh: 84.5640900785"
       ]
      },
      {
       "output_type": "stream",
       "stream": "stdout",
       "text": [
        "\n",
        "(grid) target size: 4, nllh: 84.5641277279"
       ]
      },
      {
       "output_type": "stream",
       "stream": "stdout",
       "text": [
        "\n",
        "(grid) target size: 5, nllh: 84.0094548938"
       ]
      },
      {
       "output_type": "stream",
       "stream": "stdout",
       "text": [
        "\n",
        "(grid) target size: 6, nllh: 79.3267897179"
       ]
      },
      {
       "output_type": "stream",
       "stream": "stdout",
       "text": [
        "\n",
        "(grid) target size: 7, nllh: 70.2768689794"
       ]
      },
      {
       "output_type": "stream",
       "stream": "stdout",
       "text": [
        "\n",
        "(grid) target size: 8, nllh: 60.2097853791"
       ]
      },
      {
       "output_type": "stream",
       "stream": "stdout",
       "text": [
        "\n",
        "(grid) target size: 9, nllh: 52.3084385544"
       ]
      },
      {
       "output_type": "stream",
       "stream": "stdout",
       "text": [
        "\n",
        "(grid) target size: 10, nllh: 47.7558605438"
       ]
      },
      {
       "output_type": "stream",
       "stream": "stdout",
       "text": [
        "\n",
        "(grid) target size: 11, nllh: 45.9996746404"
       ]
      },
      {
       "output_type": "stream",
       "stream": "stdout",
       "text": [
        "\n",
        "(grid) target size: 12, nllh: 45.8372951875"
       ]
      },
      {
       "output_type": "stream",
       "stream": "stdout",
       "text": [
        "\n",
        "(grid) target size: 13, nllh: 46.3505002601"
       ]
      },
      {
       "output_type": "stream",
       "stream": "stdout",
       "text": [
        "\n",
        "(grid) target size: 14, nllh: 47.074983786"
       ]
      },
      {
       "output_type": "stream",
       "stream": "stdout",
       "text": [
        "\n",
        "(grid) target size: 15, nllh: 47.8205087261"
       ]
      },
      {
       "output_type": "stream",
       "stream": "stdout",
       "text": [
        "\n",
        "(grid) target size: 16, nllh: 48.518918383"
       ]
      },
      {
       "output_type": "stream",
       "stream": "stdout",
       "text": [
        "\n",
        "(grid) target size: 17, nllh: 49.1507181697"
       ]
      },
      {
       "output_type": "stream",
       "stream": "stdout",
       "text": [
        "\n",
        "(grid) target size: 18, nllh: 49.7148546175"
       ]
      },
      {
       "output_type": "stream",
       "stream": "stdout",
       "text": [
        "\n",
        "(grid) target size: 19, nllh: 50.2167416392"
       ]
      },
      {
       "output_type": "stream",
       "stream": "stdout",
       "text": [
        "\n",
        "(grid) target size: 20, nllh: 50.6635569637"
       ]
      },
      {
       "output_type": "stream",
       "stream": "stdout",
       "text": [
        "\n",
        "(grid) target size: 21, nllh: 51.0624341603"
       ]
      },
      {
       "output_type": "stream",
       "stream": "stdout",
       "text": [
        "\n",
        "(grid) target size: 22, nllh: 51.4198272241"
       ]
      },
      {
       "output_type": "stream",
       "stream": "stdout",
       "text": [
        "\n",
        "(grid) target size: 23, nllh: 51.7413389582"
       ]
      },
      {
       "output_type": "stream",
       "stream": "stdout",
       "text": [
        "\n",
        "(grid) target size: 24, nllh: 52.0317710081"
       ]
      },
      {
       "output_type": "stream",
       "stream": "stdout",
       "text": [
        "\n",
        "(grid) target size: 25, nllh: 52.2951851872"
       ]
      },
      {
       "output_type": "stream",
       "stream": "stdout",
       "text": [
        "\n",
        "best fitting target size: 12\n",
        "bic: 96.3567216022\n",
        "  status: 0\n",
        "    nfev: 30\n",
        " success: True\n",
        "     fun: 45.837295187522471\n",
        "       x: array([ 0.3581686])\n",
        " message: 'Optimization terminated successfully.'\n",
        "     nit: 15\n",
        "21\n",
        "(grid) target size: 0, nllh: 78.3257322"
       ]
      },
      {
       "output_type": "stream",
       "stream": "stdout",
       "text": [
        "\n",
        "(grid) target size: 1, nllh: 78.3256314033"
       ]
      },
      {
       "output_type": "stream",
       "stream": "stdout",
       "text": [
        "\n",
        "(grid) target size: 2, nllh: 78.3257816684"
       ]
      },
      {
       "output_type": "stream",
       "stream": "stdout",
       "text": [
        "\n",
        "(grid) target size: 3, nllh: 78.3258146406"
       ]
      },
      {
       "output_type": "stream",
       "stream": "stdout",
       "text": [
        "\n",
        "(grid) target size: 4, nllh: 78.3153081607"
       ]
      },
      {
       "output_type": "stream",
       "stream": "stdout",
       "text": [
        "\n",
        "(grid) target size: 5, nllh: 76.4843572168"
       ]
      },
      {
       "output_type": "stream",
       "stream": "stdout",
       "text": [
        "\n",
        "(grid) target size: 6, nllh: 71.3151123931"
       ]
      },
      {
       "output_type": "stream",
       "stream": "stdout",
       "text": [
        "\n",
        "(grid) target size: 7, nllh: 65.3312693842"
       ]
      },
      {
       "output_type": "stream",
       "stream": "stdout",
       "text": [
        "\n",
        "(grid) target size: 8, nllh: 61.1555059876"
       ]
      },
      {
       "output_type": "stream",
       "stream": "stdout",
       "text": [
        "\n",
        "(grid) target size: 9, nllh: 59.0706834088"
       ]
      },
      {
       "output_type": "stream",
       "stream": "stdout",
       "text": [
        "\n",
        "(grid) target size: 10, nllh: 58.3273899983"
       ]
      },
      {
       "output_type": "stream",
       "stream": "stdout",
       "text": [
        "\n",
        "(grid) target size: 11, nllh: 58.2456225471"
       ]
      },
      {
       "output_type": "stream",
       "stream": "stdout",
       "text": [
        "\n",
        "(grid) target size: 12, nllh: 58.4405199191"
       ]
      },
      {
       "output_type": "stream",
       "stream": "stdout",
       "text": [
        "\n",
        "(grid) target size: 13, nllh: 58.731829763"
       ]
      },
      {
       "output_type": "stream",
       "stream": "stdout",
       "text": [
        "\n",
        "(grid) target size: 14, nllh: 59.0422512954"
       ]
      },
      {
       "output_type": "stream",
       "stream": "stdout",
       "text": [
        "\n",
        "(grid) target size: 15, nllh: 59.3406808995"
       ]
      },
      {
       "output_type": "stream",
       "stream": "stdout",
       "text": [
        "\n",
        "(grid) target size: 16, nllh: 59.6159856983"
       ]
      },
      {
       "output_type": "stream",
       "stream": "stdout",
       "text": [
        "\n",
        "(grid) target size: 17, nllh: 59.8655104096"
       ]
      },
      {
       "output_type": "stream",
       "stream": "stdout",
       "text": [
        "\n",
        "(grid) target size: 18, nllh: 60.0900907796"
       ]
      },
      {
       "output_type": "stream",
       "stream": "stdout",
       "text": [
        "\n",
        "(grid) target size: 19, nllh: 60.2918573013"
       ]
      },
      {
       "output_type": "stream",
       "stream": "stdout",
       "text": [
        "\n",
        "(grid) target size: 20, nllh: 60.4732930602"
       ]
      },
      {
       "output_type": "stream",
       "stream": "stdout",
       "text": [
        "\n",
        "(grid) target size: 21, nllh: 60.6368084777"
       ]
      },
      {
       "output_type": "stream",
       "stream": "stdout",
       "text": [
        "\n",
        "(grid) target size: 22, nllh: 60.7846230856"
       ]
      },
      {
       "output_type": "stream",
       "stream": "stdout",
       "text": [
        "\n",
        "(grid) target size: 23, nllh: 60.9186770071"
       ]
      },
      {
       "output_type": "stream",
       "stream": "stdout",
       "text": [
        "\n",
        "best fitting target size: 11\n",
        "bic: 121.023844587\n",
        "  status: 0\n",
        "    nfev: 32\n",
        " success: True\n",
        "     fun: 58.245622547123006\n",
        "       x: array([ 0.23162844])\n",
        " message: 'Optimization terminated successfully.'\n",
        "     nit: 16\n",
        "22\n",
        "(grid) target size: 0, nllh: 56.8382492831"
       ]
      },
      {
       "output_type": "stream",
       "stream": "stdout",
       "text": [
        "\n",
        "(grid) target size: 1, nllh: 56.8382330235"
       ]
      },
      {
       "output_type": "stream",
       "stream": "stdout",
       "text": [
        "\n",
        "(grid) target size: 2, nllh: 56.8251636774"
       ]
      },
      {
       "output_type": "stream",
       "stream": "stdout",
       "text": [
        "\n",
        "(grid) target size: 3, nllh: 54.8667108917"
       ]
      },
      {
       "output_type": "stream",
       "stream": "stdout",
       "text": [
        "\n",
        "(grid) target size: 4, nllh: 46.5720660881"
       ]
      },
      {
       "output_type": "stream",
       "stream": "stdout",
       "text": [
        "\n",
        "(grid) target size: 5, nllh: 36.4234856825"
       ]
      },
      {
       "output_type": "stream",
       "stream": "stdout",
       "text": [
        "\n",
        "(grid) target size: 6, nllh: 34.7027986486"
       ]
      },
      {
       "output_type": "stream",
       "stream": "stdout",
       "text": [
        "\n",
        "(grid) target size: 7, nllh: 37.3111457247"
       ]
      },
      {
       "output_type": "stream",
       "stream": "stdout",
       "text": [
        "\n",
        "(grid) target size: 8, nllh: 39.6957570418"
       ]
      },
      {
       "output_type": "stream",
       "stream": "stdout",
       "text": [
        "\n",
        "(grid) target size: 9, nllh: 41.4009978028"
       ]
      },
      {
       "output_type": "stream",
       "stream": "stdout",
       "text": [
        "\n",
        "(grid) target size: 10, nllh: 42.6179491754"
       ]
      },
      {
       "output_type": "stream",
       "stream": "stdout",
       "text": [
        "\n",
        "(grid) target size: 11, nllh: 43.5143282535"
       ]
      },
      {
       "output_type": "stream",
       "stream": "stdout",
       "text": [
        "\n",
        "(grid) target size: 12, nllh: 44.1966923636"
       ]
      },
      {
       "output_type": "stream",
       "stream": "stdout",
       "text": [
        "\n",
        "(grid) target size: 13, nllh: 44.7312872633"
       ]
      },
      {
       "output_type": "stream",
       "stream": "stdout",
       "text": [
        "\n",
        "(grid) target size: 14, nllh: 45.1603682692"
       ]
      },
      {
       "output_type": "stream",
       "stream": "stdout",
       "text": [
        "\n",
        "(grid) target size: 15, nllh: 45.5118194041"
       ]
      },
      {
       "output_type": "stream",
       "stream": "stdout",
       "text": [
        "\n",
        "best fitting target size: 6\n",
        "bic: 73.6102899167\n",
        "  status: 0\n",
        "    nfev: 38\n",
        " success: True\n",
        "     fun: 34.702798648630875\n",
        "       x: array([ 0.85533888])\n",
        " message: 'Optimization terminated successfully.'\n",
        "     nit: 19\n",
        "23\n",
        "(grid) target size: 0, nllh: 79.7119257644"
       ]
      },
      {
       "output_type": "stream",
       "stream": "stdout",
       "text": [
        "\n",
        "(grid) target size: 1, nllh: 79.7119257644"
       ]
      },
      {
       "output_type": "stream",
       "stream": "stdout",
       "text": [
        "\n",
        "(grid) target size: 2, nllh: 79.7120624927"
       ]
      },
      {
       "output_type": "stream",
       "stream": "stdout",
       "text": [
        "\n",
        "(grid) target size: 3, nllh: 79.7119257644"
       ]
      },
      {
       "output_type": "stream",
       "stream": "stdout",
       "text": [
        "\n",
        "(grid) target size: 4, nllh: 79.7119257644"
       ]
      },
      {
       "output_type": "stream",
       "stream": "stdout",
       "text": [
        "\n",
        "(grid) target size: 5, nllh: 79.7120684635"
       ]
      },
      {
       "output_type": "stream",
       "stream": "stdout",
       "text": [
        "\n",
        "(grid) target size: 6, nllh: 78.3304243016"
       ]
      },
      {
       "output_type": "stream",
       "stream": "stdout",
       "text": [
        "\n",
        "(grid) target size: 7, nllh: 74.0198861123"
       ]
      },
      {
       "output_type": "stream",
       "stream": "stdout",
       "text": [
        "\n",
        "(grid) target size: 8, nllh: 68.2507152447"
       ]
      },
      {
       "output_type": "stream",
       "stream": "stdout",
       "text": [
        "\n",
        "(grid) target size: 9, nllh: 62.9344058789"
       ]
      },
      {
       "output_type": "stream",
       "stream": "stdout",
       "text": [
        "\n",
        "(grid) target size: 10, nllh: 59.0067198988"
       ]
      },
      {
       "output_type": "stream",
       "stream": "stdout",
       "text": [
        "\n",
        "(grid) target size: 11, nllh: 56.5103636329"
       ]
      },
      {
       "output_type": "stream",
       "stream": "stdout",
       "text": [
        "\n",
        "(grid) target size: 12, nllh: 55.091160592"
       ]
      },
      {
       "output_type": "stream",
       "stream": "stdout",
       "text": [
        "\n",
        "(grid) target size: 13, nllh: 54.3590376467"
       ]
      },
      {
       "output_type": "stream",
       "stream": "stdout",
       "text": [
        "\n",
        "(grid) target size: 14, nllh: 54.0273659593"
       ]
      },
      {
       "output_type": "stream",
       "stream": "stdout",
       "text": [
        "\n",
        "(grid) target size: 15, nllh: 53.9185897852"
       ]
      },
      {
       "output_type": "stream",
       "stream": "stdout",
       "text": [
        "\n",
        "(grid) target size: 16, nllh: 53.9307382584"
       ]
      },
      {
       "output_type": "stream",
       "stream": "stdout",
       "text": [
        "\n",
        "(grid) target size: 17, nllh: 54.0068154038"
       ]
      },
      {
       "output_type": "stream",
       "stream": "stdout",
       "text": [
        "\n",
        "(grid) target size: 18, nllh: 54.1151070807"
       ]
      },
      {
       "output_type": "stream",
       "stream": "stdout",
       "text": [
        "\n",
        "(grid) target size: 19, nllh: 54.2379025094"
       ]
      },
      {
       "output_type": "stream",
       "stream": "stdout",
       "text": [
        "\n",
        "(grid) target size: 20, nllh: 54.3652936"
       ]
      },
      {
       "output_type": "stream",
       "stream": "stdout",
       "text": [
        "\n",
        "(grid) target size: 21, nllh: 54.4917762973"
       ]
      },
      {
       "output_type": "stream",
       "stream": "stdout",
       "text": [
        "\n",
        "(grid) target size: 22, nllh: 54.6143680959"
       ]
      },
      {
       "output_type": "stream",
       "stream": "stdout",
       "text": [
        "\n",
        "(grid) target size: 23, nllh: 54.7315373745"
       ]
      },
      {
       "output_type": "stream",
       "stream": "stdout",
       "text": [
        "\n",
        "(grid) target size: 24, nllh: 54.8426017389"
       ]
      },
      {
       "output_type": "stream",
       "stream": "stdout",
       "text": [
        "\n",
        "(grid) target size: 25, nllh: 54.9473570519"
       ]
      },
      {
       "output_type": "stream",
       "stream": "stdout",
       "text": [
        "\n",
        "(grid) target size: 26, nllh: 55.0458978716"
       ]
      },
      {
       "output_type": "stream",
       "stream": "stdout",
       "text": [
        "\n",
        "(grid) target size: 27, nllh: 55.1384557024"
       ]
      },
      {
       "output_type": "stream",
       "stream": "stdout",
       "text": [
        "\n",
        "(grid) target size: 28, nllh: 55.225356902"
       ]
      },
      {
       "output_type": "stream",
       "stream": "stdout",
       "text": [
        "\n",
        "(grid) target size: 29, nllh: 55.3069564728"
       ]
      },
      {
       "output_type": "stream",
       "stream": "stdout",
       "text": [
        "\n",
        "best fitting target size: 15\n",
        "bic: 112.442349756\n",
        "  status: 0\n",
        "    nfev: 28\n",
        " success: True\n",
        "     fun: 53.918589785243384\n",
        "       x: array([ 0.17854067])\n",
        " message: 'Optimization terminated successfully.'\n",
        "     nit: 14\n",
        "24\n",
        "(grid) target size: 0, nllh: 3.78252698071\n",
        "(grid) target size: 1, nllh: 3.45198049146"
       ]
      },
      {
       "output_type": "stream",
       "stream": "stdout",
       "text": [
        "\n",
        "(grid) target size: 2, nllh: 2.77267953001\n",
        "(grid) target size: 3, nllh: 4.08678311138"
       ]
      },
      {
       "output_type": "stream",
       "stream": "stdout",
       "text": [
        "\n",
        "best fitting target size: 2\n",
        "bic: 6.93165342114\n",
        "  status: 0\n",
        "    nfev: 66\n",
        " success: True\n",
        "     fun: 2.7726795300123275\n",
        "       x: array([ 9.99989015])\n",
        " message: 'Optimization terminated successfully.'\n",
        "     nit: 33\n",
        "25\n",
        "(grid) target size: 0, nllh: 14.3226431164"
       ]
      },
      {
       "output_type": "stream",
       "stream": "stdout",
       "text": [
        "\n",
        "(grid) target size: 1, nllh: 8.31858335225"
       ]
      },
      {
       "output_type": "stream",
       "stream": "stdout",
       "text": [
        "\n",
        "best fitting target size: 1\n",
        "bic: 19.5275384624\n",
        "  status: 0\n",
        "    nfev: 62\n",
        " success: True\n",
        "     fun: 8.3185833522467014\n",
        "       x: array([ 9.99999346])\n",
        " message: 'Optimization terminated successfully.'\n",
        "     nit: 31\n",
        "26\n",
        "(grid) target size: 0, nllh: 112.983159"
       ]
      },
      {
       "output_type": "stream",
       "stream": "stdout",
       "text": [
        "\n",
        "(grid) target size: 1, nllh: 112.983183396"
       ]
      },
      {
       "output_type": "stream",
       "stream": "stdout",
       "text": [
        "\n",
        "(grid) target size: 2, nllh: 112.98313188"
       ]
      },
      {
       "output_type": "stream",
       "stream": "stdout",
       "text": [
        "\n",
        "(grid) target size: 3, nllh: 112.982990431"
       ]
      },
      {
       "output_type": "stream",
       "stream": "stdout",
       "text": [
        "\n",
        "(grid) target size: 4, nllh: 112.983137852"
       ]
      },
      {
       "output_type": "stream",
       "stream": "stdout",
       "text": [
        "\n",
        "(grid) target size: 5, nllh: 112.983100831"
       ]
      },
      {
       "output_type": "stream",
       "stream": "stdout",
       "text": [
        "\n",
        "(grid) target size: 6, nllh: 112.983133084"
       ]
      },
      {
       "output_type": "stream",
       "stream": "stdout",
       "text": [
        "\n",
        "(grid) target size: 7, nllh: 112.942129716"
       ]
      },
      {
       "output_type": "stream",
       "stream": "stdout",
       "text": [
        "\n",
        "(grid) target size: 8, nllh: 110.661718932"
       ]
      },
      {
       "output_type": "stream",
       "stream": "stdout",
       "text": [
        "\n",
        "(grid) target size: 9, nllh: 104.802306143"
       ]
      },
      {
       "output_type": "stream",
       "stream": "stdout",
       "text": [
        "\n",
        "(grid) target size: 10, nllh: 96.3642071105"
       ]
      },
      {
       "output_type": "stream",
       "stream": "stdout",
       "text": [
        "\n",
        "(grid) target size: 11, nllh: 87.126727671"
       ]
      },
      {
       "output_type": "stream",
       "stream": "stdout",
       "text": [
        "\n",
        "(grid) target size: 12, nllh: 78.5476768338"
       ]
      },
      {
       "output_type": "stream",
       "stream": "stdout",
       "text": [
        "\n",
        "(grid) target size: 13, nllh: 71.393467029"
       ]
      },
      {
       "output_type": "stream",
       "stream": "stdout",
       "text": [
        "\n",
        "(grid) target size: 14, nllh: 65.8634595547"
       ]
      },
      {
       "output_type": "stream",
       "stream": "stdout",
       "text": [
        "\n",
        "(grid) target size: 15, nllh: 61.8258569078"
       ]
      },
      {
       "output_type": "stream",
       "stream": "stdout",
       "text": [
        "\n",
        "(grid) target size: 16, nllh: 59.0143888119"
       ]
      },
      {
       "output_type": "stream",
       "stream": "stdout",
       "text": [
        "\n",
        "(grid) target size: 17, nllh: 57.1434428609"
       ]
      },
      {
       "output_type": "stream",
       "stream": "stdout",
       "text": [
        "\n",
        "(grid) target size: 18, nllh: 55.959239562"
       ]
      },
      {
       "output_type": "stream",
       "stream": "stdout",
       "text": [
        "\n",
        "(grid) target size: 19, nllh: 55.2569644823"
       ]
      },
      {
       "output_type": "stream",
       "stream": "stdout",
       "text": [
        "\n",
        "(grid) target size: 20, nllh: 54.8820218882"
       ]
      },
      {
       "output_type": "stream",
       "stream": "stdout",
       "text": [
        "\n",
        "(grid) target size: 21, nllh: 54.7236707202"
       ]
      },
      {
       "output_type": "stream",
       "stream": "stdout",
       "text": [
        "\n",
        "(grid) target size: 22, nllh: 54.7056150737"
       ]
      },
      {
       "output_type": "stream",
       "stream": "stdout",
       "text": [
        "\n",
        "(grid) target size: 23, nllh: 54.7766216985"
       ]
      },
      {
       "output_type": "stream",
       "stream": "stdout",
       "text": [
        "\n",
        "(grid) target size: 24, nllh: 54.9028084787"
       ]
      },
      {
       "output_type": "stream",
       "stream": "stdout",
       "text": [
        "\n",
        "(grid) target size: 25, nllh: 55.0619260666"
       ]
      },
      {
       "output_type": "stream",
       "stream": "stdout",
       "text": [
        "\n",
        "(grid) target size: 26, nllh: 55.2394147166"
       ]
      },
      {
       "output_type": "stream",
       "stream": "stdout",
       "text": [
        "\n",
        "(grid) target size: 27, nllh: 55.4257805565"
       ]
      },
      {
       "output_type": "stream",
       "stream": "stdout",
       "text": [
        "\n",
        "(grid) target size: 28, nllh: 55.6148516937"
       ]
      },
      {
       "output_type": "stream",
       "stream": "stdout",
       "text": [
        "\n",
        "(grid) target size: 29, nllh: 55.8026529957"
       ]
      },
      {
       "output_type": "stream",
       "stream": "stdout",
       "text": [
        "\n",
        "(grid) target size: 30, nllh: 55.9866636845"
       ]
      },
      {
       "output_type": "stream",
       "stream": "stdout",
       "text": [
        "\n",
        "(grid) target size: 31, nllh: 56.1653373723"
       ]
      },
      {
       "output_type": "stream",
       "stream": "stdout",
       "text": [
        "\n",
        "(grid) target size: 32, nllh: 56.3377716677"
       ]
      },
      {
       "output_type": "stream",
       "stream": "stdout",
       "text": [
        "\n",
        "(grid) target size: 33, nllh: 56.5034917848"
       ]
      },
      {
       "output_type": "stream",
       "stream": "stdout",
       "text": [
        "\n",
        "(grid) target size: 34, nllh: 56.6623161404"
       ]
      },
      {
       "output_type": "stream",
       "stream": "stdout",
       "text": [
        "\n",
        "(grid) target size: 35, nllh: 56.8142581969"
       ]
      },
      {
       "output_type": "stream",
       "stream": "stdout",
       "text": [
        "\n",
        "(grid) target size: 36, nllh: 56.9594397252"
       ]
      },
      {
       "output_type": "stream",
       "stream": "stdout",
       "text": [
        "\n",
        "(grid) target size: 37, nllh: 57.0980760227"
       ]
      },
      {
       "output_type": "stream",
       "stream": "stdout",
       "text": [
        "\n",
        "(grid) target size: 38, nllh: 153.828224135"
       ]
      },
      {
       "output_type": "stream",
       "stream": "stdout",
       "text": [
        "\n",
        "(grid) target size: 39, nllh: 153.828224135"
       ]
      },
      {
       "output_type": "stream",
       "stream": "stdout",
       "text": [
        "\n",
        "(grid) target size: 40, nllh: 57.4773473738"
       ]
      },
      {
       "output_type": "stream",
       "stream": "stdout",
       "text": [
        "\n",
        "(grid) target size: 41, nllh: 57.5925272731"
       ]
      },
      {
       "output_type": "stream",
       "stream": "stdout",
       "text": [
        "\n",
        "(grid) target size: 42, nllh: 57.7025735414"
       ]
      },
      {
       "output_type": "stream",
       "stream": "stdout",
       "text": [
        "\n",
        "(grid) target size: 43, nllh: 57.8077629407"
       ]
      },
      {
       "output_type": "stream",
       "stream": "stdout",
       "text": [
        "\n",
        "best fitting target size: 22\n",
        "bic: 114.421865442\n",
        "  status: 0\n",
        "    nfev: 34\n",
        " success: True\n",
        "     fun: 54.705615073714732\n",
        "       x: array([ 0.16583925])\n",
        " message: 'Optimization terminated successfully.'\n",
        "     nit: 17\n",
        "27\n",
        "(grid) target size: 0, nllh: 85.9504193014"
       ]
      },
      {
       "output_type": "stream",
       "stream": "stdout",
       "text": [
        "\n",
        "(grid) target size: 1, nllh: 85.9502503894"
       ]
      },
      {
       "output_type": "stream",
       "stream": "stdout",
       "text": [
        "\n",
        "(grid) target size: 2, nllh: 85.9504442914"
       ]
      },
      {
       "output_type": "stream",
       "stream": "stdout",
       "text": [
        "\n",
        "(grid) target size: 3, nllh: 85.9502503894"
       ]
      },
      {
       "output_type": "stream",
       "stream": "stdout",
       "text": [
        "\n",
        "(grid) target size: 4, nllh: 85.9503793307"
       ]
      },
      {
       "output_type": "stream",
       "stream": "stdout",
       "text": [
        "\n",
        "(grid) target size: 5, nllh: 85.9503576124"
       ]
      },
      {
       "output_type": "stream",
       "stream": "stdout",
       "text": [
        "\n",
        "(grid) target size: 6, nllh: 84.9965455994"
       ]
      },
      {
       "output_type": "stream",
       "stream": "stdout",
       "text": [
        "\n",
        "(grid) target size: 7, nllh: 81.8804932232"
       ]
      },
      {
       "output_type": "stream",
       "stream": "stdout",
       "text": [
        "\n",
        "(grid) target size: 8, nllh: 77.7959679557"
       ]
      },
      {
       "output_type": "stream",
       "stream": "stdout",
       "text": [
        "\n",
        "(grid) target size: 9, nllh: 74.143178075"
       ]
      },
      {
       "output_type": "stream",
       "stream": "stdout",
       "text": [
        "\n",
        "(grid) target size: 10, nllh: 71.521586726"
       ]
      },
      {
       "output_type": "stream",
       "stream": "stdout",
       "text": [
        "\n",
        "(grid) target size: 11, nllh: 69.8790829705"
       ]
      },
      {
       "output_type": "stream",
       "stream": "stdout",
       "text": [
        "\n",
        "(grid) target size: 12, nllh: 68.9311005097"
       ]
      },
      {
       "output_type": "stream",
       "stream": "stdout",
       "text": [
        "\n",
        "(grid) target size: 13, nllh: 68.4127315604"
       ]
      },
      {
       "output_type": "stream",
       "stream": "stdout",
       "text": [
        "\n",
        "(grid) target size: 14, nllh: 68.1451599619"
       ]
      },
      {
       "output_type": "stream",
       "stream": "stdout",
       "text": [
        "\n",
        "(grid) target size: 15, nllh: 68.02145399"
       ]
      },
      {
       "output_type": "stream",
       "stream": "stdout",
       "text": [
        "\n",
        "(grid) target size: 16, nllh: 67.9801378374"
       ]
      },
      {
       "output_type": "stream",
       "stream": "stdout",
       "text": [
        "\n",
        "(grid) target size: 17, nllh: 67.9859963977"
       ]
      },
      {
       "output_type": "stream",
       "stream": "stdout",
       "text": [
        "\n",
        "(grid) target size: 18, nllh: 68.0186341858"
       ]
      },
      {
       "output_type": "stream",
       "stream": "stdout",
       "text": [
        "\n",
        "(grid) target size: 19, nllh: 68.0660633744"
       ]
      },
      {
       "output_type": "stream",
       "stream": "stdout",
       "text": [
        "\n",
        "(grid) target size: 20, nllh: 68.1211513452"
       ]
      },
      {
       "output_type": "stream",
       "stream": "stdout",
       "text": [
        "\n",
        "(grid) target size: 21, nllh: 68.1796133868"
       ]
      },
      {
       "output_type": "stream",
       "stream": "stdout",
       "text": [
        "\n",
        "(grid) target size: 22, nllh: 68.2388660447"
       ]
      },
      {
       "output_type": "stream",
       "stream": "stdout",
       "text": [
        "\n",
        "(grid) target size: 23, nllh: 68.2973702568"
       ]
      },
      {
       "output_type": "stream",
       "stream": "stdout",
       "text": [
        "\n",
        "(grid) target size: 24, nllh: 68.3542247843"
       ]
      },
      {
       "output_type": "stream",
       "stream": "stdout",
       "text": [
        "\n",
        "(grid) target size: 25, nllh: 68.4089233304"
       ]
      },
      {
       "output_type": "stream",
       "stream": "stdout",
       "text": [
        "\n",
        "(grid) target size: 26, nllh: 68.4612176657"
       ]
      },
      {
       "output_type": "stream",
       "stream": "stdout",
       "text": [
        "\n",
        "(grid) target size: 27, nllh: 68.511008016"
       ]
      },
      {
       "output_type": "stream",
       "stream": "stdout",
       "text": [
        "\n",
        "best fitting target size: 16\n",
        "bic: 140.575396192\n",
        "  status: 0\n",
        "    nfev: 32\n",
        " success: True\n",
        "     fun: 67.980137837377129\n",
        "       x: array([ 0.11905888])\n",
        " message: 'Optimization terminated successfully.'\n",
        "     nit: 16\n",
        "28\n",
        "(grid) target size: 0, nllh: 182.991051684"
       ]
      },
      {
       "output_type": "stream",
       "stream": "stdout",
       "text": [
        "\n",
        "(grid) target size: 1, nllh: 182.991015099"
       ]
      },
      {
       "output_type": "stream",
       "stream": "stdout",
       "text": [
        "\n",
        "(grid) target size: 2, nllh: 182.991053468"
       ]
      },
      {
       "output_type": "stream",
       "stream": "stdout",
       "text": [
        "\n",
        "(grid) target size: 3, nllh: 182.991025306"
       ]
      },
      {
       "output_type": "stream",
       "stream": "stdout",
       "text": [
        "\n",
        "(grid) target size: 4, nllh: 182.990960986"
       ]
      },
      {
       "output_type": "stream",
       "stream": "stdout",
       "text": [
        "\n",
        "(grid) target size: 5, nllh: 182.990855668"
       ]
      },
      {
       "output_type": "stream",
       "stream": "stdout",
       "text": [
        "\n",
        "(grid) target size: 6, nllh: 182.991052234"
       ]
      },
      {
       "output_type": "stream",
       "stream": "stdout",
       "text": [
        "\n",
        "(grid) target size: 7, nllh: 182.991009951"
       ]
      },
      {
       "output_type": "stream",
       "stream": "stdout",
       "text": [
        "\n",
        "(grid) target size: 8, nllh: 182.990855668"
       ]
      },
      {
       "output_type": "stream",
       "stream": "stdout",
       "text": [
        "\n",
        "(grid) target size: 9, nllh: 182.990855668"
       ]
      },
      {
       "output_type": "stream",
       "stream": "stdout",
       "text": [
        "\n",
        "(grid) target size: 10, nllh: 182.990855668"
       ]
      },
      {
       "output_type": "stream",
       "stream": "stdout",
       "text": [
        "\n",
        "(grid) target size: 11, nllh: 182.991029113"
       ]
      },
      {
       "output_type": "stream",
       "stream": "stdout",
       "text": [
        "\n",
        "(grid) target size: 12, nllh: 182.991007695"
       ]
      },
      {
       "output_type": "stream",
       "stream": "stdout",
       "text": [
        "\n",
        "(grid) target size: 13, nllh: 182.305984158"
       ]
      },
      {
       "output_type": "stream",
       "stream": "stdout",
       "text": [
        "\n",
        "(grid) target size: 14, nllh: 179.809932276"
       ]
      },
      {
       "output_type": "stream",
       "stream": "stdout",
       "text": [
        "\n",
        "(grid) target size: 15, nllh: 175.546712197"
       ]
      },
      {
       "output_type": "stream",
       "stream": "stdout",
       "text": [
        "\n",
        "(grid) target size: 16, nllh: 169.787705958"
       ]
      },
      {
       "output_type": "stream",
       "stream": "stdout",
       "text": [
        "\n",
        "(grid) target size: 17, nllh: 162.979524755"
       ]
      },
      {
       "output_type": "stream",
       "stream": "stdout",
       "text": [
        "\n",
        "(grid) target size: 18, nllh: 155.617965143"
       ]
      },
      {
       "output_type": "stream",
       "stream": "stdout",
       "text": [
        "\n",
        "(grid) target size: 19, nllh: 148.136295705"
       ]
      },
      {
       "output_type": "stream",
       "stream": "stdout",
       "text": [
        "\n",
        "(grid) target size: 20, nllh: 140.857907871"
       ]
      },
      {
       "output_type": "stream",
       "stream": "stdout",
       "text": [
        "\n",
        "(grid) target size: 21, nllh: 133.996064354"
       ]
      },
      {
       "output_type": "stream",
       "stream": "stdout",
       "text": [
        "\n",
        "(grid) target size: 22, nllh: 127.673276766"
       ]
      },
      {
       "output_type": "stream",
       "stream": "stdout",
       "text": [
        "\n",
        "(grid) target size: 23, nllh: 121.94466726"
       ]
      },
      {
       "output_type": "stream",
       "stream": "stdout",
       "text": [
        "\n",
        "(grid) target size: 24, nllh: 116.819006119"
       ]
      },
      {
       "output_type": "stream",
       "stream": "stdout",
       "text": [
        "\n",
        "(grid) target size: 25, nllh: 112.275511463"
       ]
      },
      {
       "output_type": "stream",
       "stream": "stdout",
       "text": [
        "\n",
        "(grid) target size: 26, nllh: 108.276265457"
       ]
      },
      {
       "output_type": "stream",
       "stream": "stdout",
       "text": [
        "\n",
        "(grid) target size: 27, nllh: 104.774830776"
       ]
      },
      {
       "output_type": "stream",
       "stream": "stdout",
       "text": [
        "\n",
        "(grid) target size: 28, nllh: 101.721894511"
       ]
      },
      {
       "output_type": "stream",
       "stream": "stdout",
       "text": [
        "\n",
        "(grid) target size: 29, nllh: 99.0687210213"
       ]
      },
      {
       "output_type": "stream",
       "stream": "stdout",
       "text": [
        "\n",
        "(grid) target size: 30, nllh: 96.7690944764"
       ]
      },
      {
       "output_type": "stream",
       "stream": "stdout",
       "text": [
        "\n",
        "(grid) target size: 31, nllh: 94.7803075487"
       ]
      },
      {
       "output_type": "stream",
       "stream": "stdout",
       "text": [
        "\n",
        "(grid) target size: 32, nllh: 93.0635711301"
       ]
      },
      {
       "output_type": "stream",
       "stream": "stdout",
       "text": [
        "\n",
        "(grid) target size: 33, nllh: 91.5840347136"
       ]
      },
      {
       "output_type": "stream",
       "stream": "stdout",
       "text": [
        "\n",
        "(grid) target size: 34, nllh: 90.3106574172"
       ]
      },
      {
       "output_type": "stream",
       "stream": "stdout",
       "text": [
        "\n",
        "(grid) target size: 35, nllh: 89.2159679545"
       ]
      },
      {
       "output_type": "stream",
       "stream": "stdout",
       "text": [
        "\n",
        "(grid) target size: 36, nllh: 88.2757993804"
       ]
      },
      {
       "output_type": "stream",
       "stream": "stdout",
       "text": [
        "\n",
        "(grid) target size: 37, nllh: 87.4689842727"
       ]
      },
      {
       "output_type": "stream",
       "stream": "stdout",
       "text": [
        "\n",
        "(grid) target size: 38, nllh: 86.7770491144"
       ]
      },
      {
       "output_type": "stream",
       "stream": "stdout",
       "text": [
        "\n",
        "(grid) target size: 39, nllh: 86.1839811842"
       ]
      },
      {
       "output_type": "stream",
       "stream": "stdout",
       "text": [
        "\n",
        "(grid) target size: 40, nllh: 85.6759056195"
       ]
      },
      {
       "output_type": "stream",
       "stream": "stdout",
       "text": [
        "\n",
        "(grid) target size: 41, nllh: 85.2408564505"
       ]
      },
      {
       "output_type": "stream",
       "stream": "stdout",
       "text": [
        "\n",
        "(grid) target size: 42, nllh: 84.8685560649"
       ]
      },
      {
       "output_type": "stream",
       "stream": "stdout",
       "text": [
        "\n",
        "(grid) target size: 43, nllh: 84.5501736673"
       ]
      },
      {
       "output_type": "stream",
       "stream": "stdout",
       "text": [
        "\n",
        "(grid) target size: 44, nllh: 84.2781238377"
       ]
      },
      {
       "output_type": "stream",
       "stream": "stdout",
       "text": [
        "\n",
        "(grid) target size: 45, nllh: 84.0459383247"
       ]
      },
      {
       "output_type": "stream",
       "stream": "stdout",
       "text": [
        "\n",
        "(grid) target size: 46, nllh: 83.8480815206"
       ]
      },
      {
       "output_type": "stream",
       "stream": "stdout",
       "text": [
        "\n",
        "(grid) target size: 47, nllh: 83.6798023822"
       ]
      },
      {
       "output_type": "stream",
       "stream": "stdout",
       "text": [
        "\n",
        "(grid) target size: 48, nllh: 212.898242745"
       ]
      },
      {
       "output_type": "stream",
       "stream": "stdout",
       "text": [
        "\n",
        "(grid) target size: 49, nllh: 83.4163394235"
       ]
      },
      {
       "output_type": "stream",
       "stream": "stdout",
       "text": [
        "\n",
        "(grid) target size: 50, nllh: 83.314709433"
       ]
      },
      {
       "output_type": "stream",
       "stream": "stdout",
       "text": [
        "\n",
        "(grid) target size: 51, nllh: 83.2295784175"
       ]
      },
      {
       "output_type": "stream",
       "stream": "stdout",
       "text": [
        "\n",
        "(grid) target size: 52, nllh: 83.1587886816"
       ]
      },
      {
       "output_type": "stream",
       "stream": "stdout",
       "text": [
        "\n",
        "(grid) target size: 53, nllh: 83.1004023149"
       ]
      },
      {
       "output_type": "stream",
       "stream": "stdout",
       "text": [
        "\n",
        "(grid) target size: 54, nllh: 83.052847349"
       ]
      },
      {
       "output_type": "stream",
       "stream": "stdout",
       "text": [
        "\n",
        "(grid) target size: 55, nllh: 83.0146626094"
       ]
      },
      {
       "output_type": "stream",
       "stream": "stdout",
       "text": [
        "\n",
        "(grid) target size: 56, nllh: 82.984679513"
       ]
      },
      {
       "output_type": "stream",
       "stream": "stdout",
       "text": [
        "\n",
        "(grid) target size: 57, nllh: 82.9618214809"
       ]
      },
      {
       "output_type": "stream",
       "stream": "stdout",
       "text": [
        "\n",
        "(grid) target size: 58, nllh: 82.9451863844"
       ]
      },
      {
       "output_type": "stream",
       "stream": "stdout",
       "text": [
        "\n",
        "(grid) target size: 59, nllh: 82.9340027026"
       ]
      },
      {
       "output_type": "stream",
       "stream": "stdout",
       "text": [
        "\n",
        "(grid) target size: 60, nllh: 82.9275068109"
       ]
      },
      {
       "output_type": "stream",
       "stream": "stdout",
       "text": [
        "\n",
        "(grid) target size: 61, nllh: 82.9251752666"
       ]
      },
      {
       "output_type": "stream",
       "stream": "stdout",
       "text": [
        "\n",
        "(grid) target size: 62, nllh: 82.9264450082"
       ]
      },
      {
       "output_type": "stream",
       "stream": "stdout",
       "text": [
        "\n",
        "(grid) target size: 63, nllh: 82.930855474"
       ]
      },
      {
       "output_type": "stream",
       "stream": "stdout",
       "text": [
        "\n",
        "(grid) target size: 64, nllh: 82.9380235747"
       ]
      },
      {
       "output_type": "stream",
       "stream": "stdout",
       "text": [
        "\n",
        "(grid) target size: 65, nllh: 82.9475739293"
       ]
      },
      {
       "output_type": "stream",
       "stream": "stdout",
       "text": [
        "\n",
        "(grid) target size: 66, nllh: 82.9592237833"
       ]
      },
      {
       "output_type": "stream",
       "stream": "stdout",
       "text": [
        "\n",
        "(grid) target size: 67, nllh: 222.906666929"
       ]
      },
      {
       "output_type": "stream",
       "stream": "stdout",
       "text": [
        "\n",
        "(grid) target size: 68, nllh: 222.906666929"
       ]
      },
      {
       "output_type": "stream",
       "stream": "stdout",
       "text": [
        "\n",
        "(grid) target size: 69, nllh: 83.0040488487"
       ]
      },
      {
       "output_type": "stream",
       "stream": "stdout",
       "text": [
        "\n",
        "(grid) target size: 70, nllh: 83.0215955259"
       ]
      },
      {
       "output_type": "stream",
       "stream": "stdout",
       "text": [
        "\n",
        "(grid) target size: 71, nllh: 222.906666929"
       ]
      },
      {
       "output_type": "stream",
       "stream": "stdout",
       "text": [
        "\n",
        "(grid) target size: 72, nllh: 83.0595621602"
       ]
      },
      {
       "output_type": "stream",
       "stream": "stdout",
       "text": [
        "\n",
        "(grid) target size: 73, nllh: 222.906666929"
       ]
      },
      {
       "output_type": "stream",
       "stream": "stdout",
       "text": [
        "\n",
        "(grid) target size: 74, nllh: 222.906666929"
       ]
      },
      {
       "output_type": "stream",
       "stream": "stdout",
       "text": [
        "\n",
        "(grid) target size: 75, nllh: 222.906666929"
       ]
      },
      {
       "output_type": "stream",
       "stream": "stdout",
       "text": [
        "\n",
        "(grid) target size: 76, nllh: 83.1434434933"
       ]
      },
      {
       "output_type": "stream",
       "stream": "stdout",
       "text": [
        "\n",
        "(grid) target size: 77, nllh: 222.906666929"
       ]
      },
      {
       "output_type": "stream",
       "stream": "stdout",
       "text": [
        "\n",
        "(grid) target size: 78, nllh: 83.1877825596"
       ]
      },
      {
       "output_type": "stream",
       "stream": "stdout",
       "text": [
        "\n",
        "(grid) target size: 79, nllh: 83.2103414138"
       ]
      },
      {
       "output_type": "stream",
       "stream": "stdout",
       "text": [
        "\n",
        "(grid) target size: 80, nllh: 222.906666929"
       ]
      },
      {
       "output_type": "stream",
       "stream": "stdout",
       "text": [
        "\n",
        "(grid) target size: 81, nllh: 222.906666929"
       ]
      },
      {
       "output_type": "stream",
       "stream": "stdout",
       "text": [
        "\n",
        "(grid) target size: 82, nllh: 83.2786645868"
       ]
      },
      {
       "output_type": "stream",
       "stream": "stdout",
       "text": [
        "\n",
        "(grid) target size: 83, nllh: 222.906666929"
       ]
      },
      {
       "output_type": "stream",
       "stream": "stdout",
       "text": [
        "\n",
        "(grid) target size: 84, nllh: 222.906666929"
       ]
      },
      {
       "output_type": "stream",
       "stream": "stdout",
       "text": [
        "\n",
        "(grid) target size: 85, nllh: 83.3472935035"
       ]
      },
      {
       "output_type": "stream",
       "stream": "stdout",
       "text": [
        "\n",
        "(grid) target size: 86, nllh: 222.906666929"
       ]
      },
      {
       "output_type": "stream",
       "stream": "stdout",
       "text": [
        "\n",
        "(grid) target size: 87, nllh: 83.3927792705"
       ]
      },
      {
       "output_type": "stream",
       "stream": "stdout",
       "text": [
        "\n",
        "(grid) target size: 88, nllh: 222.906666929"
       ]
      },
      {
       "output_type": "stream",
       "stream": "stdout",
       "text": [
        "\n",
        "(grid) target size: 89, nllh: 83.4378450717"
       ]
      },
      {
       "output_type": "stream",
       "stream": "stdout",
       "text": [
        "\n",
        "(grid) target size: 90, nllh: 222.906666929"
       ]
      },
      {
       "output_type": "stream",
       "stream": "stdout",
       "text": [
        "\n",
        "(grid) target size: 91, nllh: 222.906666929"
       ]
      },
      {
       "output_type": "stream",
       "stream": "stdout",
       "text": [
        "\n",
        "best fitting target size: 61\n",
        "bic: 171.351608744\n",
        "  status: 0\n",
        "    nfev: 34\n",
        " success: True\n",
        "     fun: 82.925175266619434\n",
        "       x: array([ 0.04890365])\n",
        " message: 'Optimization terminated successfully.'\n",
        "     nit: 17\n",
        "29\n",
        "(grid) target size: 0, nllh: 117.142068962"
       ]
      },
      {
       "output_type": "stream",
       "stream": "stdout",
       "text": [
        "\n",
        "(grid) target size: 1, nllh: 117.142027318"
       ]
      },
      {
       "output_type": "stream",
       "stream": "stdout",
       "text": [
        "\n",
        "(grid) target size: 2, nllh: 117.142024352"
       ]
      },
      {
       "output_type": "stream",
       "stream": "stdout",
       "text": [
        "\n",
        "(grid) target size: 3, nllh: 117.141995126"
       ]
      },
      {
       "output_type": "stream",
       "stream": "stdout",
       "text": [
        "\n",
        "(grid) target size: 4, nllh: 117.141873515"
       ]
      },
      {
       "output_type": "stream",
       "stream": "stdout",
       "text": [
        "\n",
        "(grid) target size: 5, nllh: 117.142066002"
       ]
      },
      {
       "output_type": "stream",
       "stream": "stdout",
       "text": [
        "\n",
        "(grid) target size: 6, nllh: 117.142049079"
       ]
      },
      {
       "output_type": "stream",
       "stream": "stdout",
       "text": [
        "\n",
        "(grid) target size: 7, nllh: 115.090169493"
       ]
      },
      {
       "output_type": "stream",
       "stream": "stdout",
       "text": [
        "\n",
        "(grid) target size: 8, nllh: 107.544071135"
       ]
      },
      {
       "output_type": "stream",
       "stream": "stdout",
       "text": [
        "\n",
        "(grid) target size: 9, nllh: 95.2889195569"
       ]
      },
      {
       "output_type": "stream",
       "stream": "stdout",
       "text": [
        "\n",
        "(grid) target size: 10, nllh: 81.0994070236"
       ]
      },
      {
       "output_type": "stream",
       "stream": "stdout",
       "text": [
        "\n",
        "(grid) target size: 11, nllh: 67.8934727061"
       ]
      },
      {
       "output_type": "stream",
       "stream": "stdout",
       "text": [
        "\n",
        "(grid) target size: 12, nllh: 57.9299448282"
       ]
      },
      {
       "output_type": "stream",
       "stream": "stdout",
       "text": [
        "\n",
        "(grid) target size: 13, nllh: 52.185268295"
       ]
      },
      {
       "output_type": "stream",
       "stream": "stdout",
       "text": [
        "\n",
        "(grid) target size: 14, nllh: 49.9667047615"
       ]
      },
      {
       "output_type": "stream",
       "stream": "stdout",
       "text": [
        "\n",
        "(grid) target size: 15, nllh: 49.8005902843"
       ]
      },
      {
       "output_type": "stream",
       "stream": "stdout",
       "text": [
        "\n",
        "(grid) target size: 16, nllh: 50.5322427359"
       ]
      },
      {
       "output_type": "stream",
       "stream": "stdout",
       "text": [
        "\n",
        "(grid) target size: 17, nllh: 51.5627362854"
       ]
      },
      {
       "output_type": "stream",
       "stream": "stdout",
       "text": [
        "\n",
        "(grid) target size: 18, nllh: 52.6380092328"
       ]
      },
      {
       "output_type": "stream",
       "stream": "stdout",
       "text": [
        "\n",
        "(grid) target size: 19, nllh: 53.661639569"
       ]
      },
      {
       "output_type": "stream",
       "stream": "stdout",
       "text": [
        "\n",
        "(grid) target size: 20, nllh: 54.6022881149"
       ]
      },
      {
       "output_type": "stream",
       "stream": "stdout",
       "text": [
        "\n",
        "(grid) target size: 21, nllh: 55.4545794069"
       ]
      },
      {
       "output_type": "stream",
       "stream": "stdout",
       "text": [
        "\n",
        "(grid) target size: 22, nllh: 56.2230702564"
       ]
      },
      {
       "output_type": "stream",
       "stream": "stdout",
       "text": [
        "\n",
        "(grid) target size: 23, nllh: 56.9156493962"
       ]
      },
      {
       "output_type": "stream",
       "stream": "stdout",
       "text": [
        "\n",
        "(grid) target size: 24, nllh: 57.5408326249"
       ]
      },
      {
       "output_type": "stream",
       "stream": "stdout",
       "text": [
        "\n",
        "(grid) target size: 25, nllh: 58.1066818055"
       ]
      },
      {
       "output_type": "stream",
       "stream": "stdout",
       "text": [
        "\n",
        "(grid) target size: 26, nllh: 58.6204380439"
       ]
      },
      {
       "output_type": "stream",
       "stream": "stdout",
       "text": [
        "\n",
        "(grid) target size: 27, nllh: 59.0884460013"
       ]
      },
      {
       "output_type": "stream",
       "stream": "stdout",
       "text": [
        "\n",
        "(grid) target size: 28, nllh: 59.5162010398"
       ]
      },
      {
       "output_type": "stream",
       "stream": "stdout",
       "text": [
        "\n",
        "(grid) target size: 29, nllh: 59.9084368234"
       ]
      },
      {
       "output_type": "stream",
       "stream": "stdout",
       "text": [
        "\n",
        "(grid) target size: 30, nllh: 60.2692279801"
       ]
      },
      {
       "output_type": "stream",
       "stream": "stdout",
       "text": [
        "\n",
        "(grid) target size: 31, nllh: 60.602087941"
       ]
      },
      {
       "output_type": "stream",
       "stream": "stdout",
       "text": [
        "\n",
        "(grid) target size: 32, nllh: 60.9100459618"
       ]
      },
      {
       "output_type": "stream",
       "stream": "stdout",
       "text": [
        "\n",
        "(grid) target size: 33, nllh: 61.195733324"
       ]
      },
      {
       "output_type": "stream",
       "stream": "stdout",
       "text": [
        "\n",
        "best fitting target size: 15\n",
        "bic: 104.63161849\n",
        "  status: 0\n",
        "    nfev: 30\n",
        " success: True\n",
        "     fun: 49.800590284281725\n",
        "       x: array([ 0.38701473])\n",
        " message: 'Optimization terminated successfully.'\n",
        "     nit: 15\n",
        "30\n",
        "(grid) target size: 0, nllh: 71.3942670602"
       ]
      },
      {
       "output_type": "stream",
       "stream": "stdout",
       "text": [
        "\n",
        "(grid) target size: 1, nllh: 71.394336614"
       ]
      },
      {
       "output_type": "stream",
       "stream": "stdout",
       "text": [
        "\n",
        "(grid) target size: 2, nllh: 71.3943306755"
       ]
      },
      {
       "output_type": "stream",
       "stream": "stdout",
       "text": [
        "\n",
        "(grid) target size: 3, nllh: 71.3942626741"
       ]
      },
      {
       "output_type": "stream",
       "stream": "stdout",
       "text": [
        "\n",
        "(grid) target size: 4, nllh: 69.842210383"
       ]
      },
      {
       "output_type": "stream",
       "stream": "stdout",
       "text": [
        "\n",
        "(grid) target size: 5, nllh: 61.9652204324"
       ]
      },
      {
       "output_type": "stream",
       "stream": "stdout",
       "text": [
        "\n",
        "(grid) target size: 6, nllh: 49.7511441495"
       ]
      },
      {
       "output_type": "stream",
       "stream": "stdout",
       "text": [
        "\n",
        "(grid) target size: 7, nllh: 41.1922443929"
       ]
      },
      {
       "output_type": "stream",
       "stream": "stdout",
       "text": [
        "\n",
        "(grid) target size: 8, nllh: 39.5876990681"
       ]
      },
      {
       "output_type": "stream",
       "stream": "stdout",
       "text": [
        "\n",
        "(grid) target size: 9, nllh: 41.0969304"
       ]
      },
      {
       "output_type": "stream",
       "stream": "stdout",
       "text": [
        "\n",
        "(grid) target size: 10, nllh: 42.9625304457"
       ]
      },
      {
       "output_type": "stream",
       "stream": "stdout",
       "text": [
        "\n",
        "(grid) target size: 11, nllh: 44.5492493694"
       ]
      },
      {
       "output_type": "stream",
       "stream": "stdout",
       "text": [
        "\n",
        "(grid) target size: 12, nllh: 45.819386401"
       ]
      },
      {
       "output_type": "stream",
       "stream": "stdout",
       "text": [
        "\n",
        "(grid) target size: 13, nllh: 46.834391004"
       ]
      },
      {
       "output_type": "stream",
       "stream": "stdout",
       "text": [
        "\n",
        "(grid) target size: 14, nllh: 47.6556045033"
       ]
      },
      {
       "output_type": "stream",
       "stream": "stdout",
       "text": [
        "\n",
        "(grid) target size: 15, nllh: 48.3301605169"
       ]
      },
      {
       "output_type": "stream",
       "stream": "stdout",
       "text": [
        "\n",
        "(grid) target size: 16, nllh: 48.8924594446"
       ]
      },
      {
       "output_type": "stream",
       "stream": "stdout",
       "text": [
        "\n",
        "(grid) target size: 17, nllh: 49.3675045896"
       ]
      },
      {
       "output_type": "stream",
       "stream": "stdout",
       "text": [
        "\n",
        "(grid) target size: 18, nllh: 49.7736582891"
       ]
      },
      {
       "output_type": "stream",
       "stream": "stdout",
       "text": [
        "\n",
        "(grid) target size: 19, nllh: 50.1246065552"
       ]
      },
      {
       "output_type": "stream",
       "stream": "stdout",
       "text": [
        "\n",
        "best fitting target size: 8\n",
        "bic: 83.6527349507\n",
        "  status: 0\n",
        "    nfev: 38\n",
        " success: True\n",
        "     fun: 39.587699068118134\n",
        "       x: array([ 0.67340442])\n",
        " message: 'Optimization terminated successfully.'\n",
        "     nit: 19\n",
        "31\n",
        "(grid) target size: 0, nllh: 118.528367498"
       ]
      },
      {
       "output_type": "stream",
       "stream": "stdout",
       "text": [
        "\n",
        "(grid) target size: 1, nllh: 118.528167876"
       ]
      },
      {
       "output_type": "stream",
       "stream": "stdout",
       "text": [
        "\n",
        "(grid) target size: 2, nllh: 118.528289903"
       ]
      },
      {
       "output_type": "stream",
       "stream": "stdout",
       "text": [
        "\n",
        "(grid) target size: 3, nllh: 118.528357249"
       ]
      },
      {
       "output_type": "stream",
       "stream": "stdout",
       "text": [
        "\n",
        "(grid) target size: 4, nllh: 118.528167876"
       ]
      },
      {
       "output_type": "stream",
       "stream": "stdout",
       "text": [
        "\n",
        "(grid) target size: 5, nllh: 118.528167876"
       ]
      },
      {
       "output_type": "stream",
       "stream": "stdout",
       "text": [
        "\n",
        "(grid) target size: 6, nllh: 118.528328158"
       ]
      },
      {
       "output_type": "stream",
       "stream": "stdout",
       "text": [
        "\n",
        "(grid) target size: 7, nllh: 118.438144521"
       ]
      },
      {
       "output_type": "stream",
       "stream": "stdout",
       "text": [
        "\n",
        "(grid) target size: 8, nllh: 115.752640585"
       ]
      },
      {
       "output_type": "stream",
       "stream": "stdout",
       "text": [
        "\n",
        "(grid) target size: 9, nllh: 109.093820453"
       ]
      },
      {
       "output_type": "stream",
       "stream": "stdout",
       "text": [
        "\n",
        "(grid) target size: 10, nllh: 99.451058675"
       ]
      },
      {
       "output_type": "stream",
       "stream": "stdout",
       "text": [
        "\n",
        "(grid) target size: 11, nllh: 88.8642371824"
       ]
      },
      {
       "output_type": "stream",
       "stream": "stdout",
       "text": [
        "\n",
        "(grid) target size: 12, nllh: 79.1101302488"
       ]
      },
      {
       "output_type": "stream",
       "stream": "stdout",
       "text": [
        "\n",
        "(grid) target size: 13, nllh: 71.1654161491"
       ]
      },
      {
       "output_type": "stream",
       "stream": "stdout",
       "text": [
        "\n",
        "(grid) target size: 14, nllh: 65.2601361111"
       ]
      },
      {
       "output_type": "stream",
       "stream": "stdout",
       "text": [
        "\n",
        "(grid) target size: 15, nllh: 61.1591567334"
       ]
      },
      {
       "output_type": "stream",
       "stream": "stdout",
       "text": [
        "\n",
        "(grid) target size: 16, nllh: 58.460688411"
       ]
      },
      {
       "output_type": "stream",
       "stream": "stdout",
       "text": [
        "\n",
        "(grid) target size: 17, nllh: 56.7766754069"
       ]
      },
      {
       "output_type": "stream",
       "stream": "stdout",
       "text": [
        "\n",
        "(grid) target size: 18, nllh: 55.7966233046"
       ]
      },
      {
       "output_type": "stream",
       "stream": "stdout",
       "text": [
        "\n",
        "(grid) target size: 19, nllh: 55.2917315561"
       ]
      },
      {
       "output_type": "stream",
       "stream": "stdout",
       "text": [
        "\n",
        "(grid) target size: 20, nllh: 55.1001515571"
       ]
      },
      {
       "output_type": "stream",
       "stream": "stdout",
       "text": [
        "\n",
        "(grid) target size: 21, nllh: 55.1102698502"
       ]
      },
      {
       "output_type": "stream",
       "stream": "stdout",
       "text": [
        "\n",
        "(grid) target size: 22, nllh: 55.246629218"
       ]
      },
      {
       "output_type": "stream",
       "stream": "stdout",
       "text": [
        "\n",
        "(grid) target size: 23, nllh: 55.4590709979"
       ]
      },
      {
       "output_type": "stream",
       "stream": "stdout",
       "text": [
        "\n",
        "(grid) target size: 24, nllh: 55.7147148441"
       ]
      },
      {
       "output_type": "stream",
       "stream": "stdout",
       "text": [
        "\n",
        "(grid) target size: 25, nllh: 55.9922726101"
       ]
      },
      {
       "output_type": "stream",
       "stream": "stdout",
       "text": [
        "\n",
        "(grid) target size: 26, nllh: 56.2781196876"
       ]
      },
      {
       "output_type": "stream",
       "stream": "stdout",
       "text": [
        "\n",
        "(grid) target size: 27, nllh: 56.5636666559"
       ]
      },
      {
       "output_type": "stream",
       "stream": "stdout",
       "text": [
        "\n",
        "(grid) target size: 28, nllh: 56.8436099365"
       ]
      },
      {
       "output_type": "stream",
       "stream": "stdout",
       "text": [
        "\n",
        "(grid) target size: 29, nllh: 57.1147879001"
       ]
      },
      {
       "output_type": "stream",
       "stream": "stdout",
       "text": [
        "\n",
        "(grid) target size: 30, nllh: 57.3754281525"
       ]
      },
      {
       "output_type": "stream",
       "stream": "stdout",
       "text": [
        "\n",
        "(grid) target size: 31, nllh: 57.6246652691"
       ]
      },
      {
       "output_type": "stream",
       "stream": "stdout",
       "text": [
        "\n",
        "(grid) target size: 32, nllh: 57.8622122093"
       ]
      },
      {
       "output_type": "stream",
       "stream": "stdout",
       "text": [
        "\n",
        "(grid) target size: 33, nllh: 58.0881492673"
       ]
      },
      {
       "output_type": "stream",
       "stream": "stdout",
       "text": [
        "\n",
        "(grid) target size: 34, nllh: 58.3027775578"
       ]
      },
      {
       "output_type": "stream",
       "stream": "stdout",
       "text": [
        "\n",
        "(grid) target size: 35, nllh: 58.5065295376"
       ]
      },
      {
       "output_type": "stream",
       "stream": "stdout",
       "text": [
        "\n",
        "(grid) target size: 36, nllh: 58.699934927"
       ]
      },
      {
       "output_type": "stream",
       "stream": "stdout",
       "text": [
        "\n",
        "(grid) target size: 37, nllh: 58.8835373928"
       ]
      },
      {
       "output_type": "stream",
       "stream": "stdout",
       "text": [
        "\n",
        "(grid) target size: 38, nllh: 59.0578950187"
       ]
      },
      {
       "output_type": "stream",
       "stream": "stdout",
       "text": [
        "\n",
        "(grid) target size: 39, nllh: 59.2235516042"
       ]
      },
      {
       "output_type": "stream",
       "stream": "stdout",
       "text": [
        "\n",
        "(grid) target size: 40, nllh: 59.3810483215"
       ]
      },
      {
       "output_type": "stream",
       "stream": "stdout",
       "text": [
        "\n",
        "(grid) target size: 41, nllh: 59.5308799978"
       ]
      },
      {
       "output_type": "stream",
       "stream": "stdout",
       "text": [
        "\n",
        "(grid) target size: 42, nllh: 165.3412096"
       ]
      },
      {
       "output_type": "stream",
       "stream": "stdout",
       "text": [
        "\n",
        "(grid) target size: 43, nllh: 165.3412096"
       ]
      },
      {
       "output_type": "stream",
       "stream": "stdout",
       "text": [
        "\n",
        "(grid) target size: 44, nllh: 59.9390932591"
       ]
      },
      {
       "output_type": "stream",
       "stream": "stdout",
       "text": [
        "\n",
        "(grid) target size: 45, nllh: 60.0628077499"
       ]
      },
      {
       "output_type": "stream",
       "stream": "stdout",
       "text": [
        "\n",
        "(grid) target size: 46, nllh: 165.3412096"
       ]
      },
      {
       "output_type": "stream",
       "stream": "stdout",
       "text": [
        "\n",
        "(grid) target size: 47, nllh: 60.2939382813"
       ]
      },
      {
       "output_type": "stream",
       "stream": "stdout",
       "text": [
        "\n",
        "best fitting target size: 20\n",
        "bic: 115.25654892\n",
        "  status: 0\n",
        "    nfev: 32\n",
        " success: True\n",
        "     fun: 55.100151557117719\n",
        "       x: array([ 0.20244771])\n",
        " message: 'Optimization terminated successfully.'\n",
        "     nit: 16\n",
        "32\n",
        "(grid) target size: 0, nllh: 54.1962711895"
       ]
      },
      {
       "output_type": "stream",
       "stream": "stdout",
       "text": [
        "\n",
        "(grid) target size: 1, nllh: 53.2188208246"
       ]
      },
      {
       "output_type": "stream",
       "stream": "stdout",
       "text": [
        "\n",
        "(grid) target size: 2, nllh: 51.3703352877"
       ]
      },
      {
       "output_type": "stream",
       "stream": "stdout",
       "text": [
        "\n",
        "(grid) target size: 3, nllh: 51.0573734824"
       ]
      },
      {
       "output_type": "stream",
       "stream": "stdout",
       "text": [
        "\n",
        "(grid) target size: 4, nllh: 54.969685028"
       ]
      },
      {
       "output_type": "stream",
       "stream": "stdout",
       "text": [
        "\n",
        "(grid) target size: 5, nllh: 56.5172781006"
       ]
      },
      {
       "output_type": "stream",
       "stream": "stdout",
       "text": [
        "\n",
        "(grid) target size: 6, nllh: 56.814627924"
       ]
      },
      {
       "output_type": "stream",
       "stream": "stdout",
       "text": [
        "\n",
        "(grid) target size: 7, nllh: 56.8381742919"
       ]
      },
      {
       "output_type": "stream",
       "stream": "stdout",
       "text": [
        "\n",
        "(grid) target size: 8, nllh: 56.8382311343"
       ]
      },
      {
       "output_type": "stream",
       "stream": "stdout",
       "text": [
        "\n",
        "(grid) target size: 9, nllh: 56.8381902994"
       ]
      },
      {
       "output_type": "stream",
       "stream": "stdout",
       "text": [
        "\n",
        "best fitting target size: 3\n",
        "bic: 105.921409455\n",
        "  status: 0\n",
        "    nfev: 26\n",
        " success: True\n",
        "     fun: 51.057373482377713\n",
        "       x: array([ 0.68981272])\n",
        " message: 'Optimization terminated successfully.'\n",
        "     nit: 13\n",
        "33\n",
        "(grid) target size: 0, nllh: 80.4051795712"
       ]
      },
      {
       "output_type": "stream",
       "stream": "stdout",
       "text": [
        "\n",
        "(grid) target size: 1, nllh: 80.405072945"
       ]
      },
      {
       "output_type": "stream",
       "stream": "stdout",
       "text": [
        "\n",
        "(grid) target size: 2, nllh: 80.405177966"
       ]
      },
      {
       "output_type": "stream",
       "stream": "stdout",
       "text": [
        "\n",
        "(grid) target size: 3, nllh: 80.405072945"
       ]
      },
      {
       "output_type": "stream",
       "stream": "stdout",
       "text": [
        "\n",
        "(grid) target size: 4, nllh: 80.40522312"
       ]
      },
      {
       "output_type": "stream",
       "stream": "stdout",
       "text": [
        "\n",
        "(grid) target size: 5, nllh: 80.4052553814"
       ]
      },
      {
       "output_type": "stream",
       "stream": "stdout",
       "text": [
        "\n",
        "(grid) target size: 6, nllh: 80.4051736316"
       ]
      },
      {
       "output_type": "stream",
       "stream": "stdout",
       "text": [
        "\n",
        "(grid) target size: 7, nllh: 80.405188563"
       ]
      },
      {
       "output_type": "stream",
       "stream": "stdout",
       "text": [
        "\n",
        "(grid) target size: 8, nllh: 80.3031557273"
       ]
      },
      {
       "output_type": "stream",
       "stream": "stdout",
       "text": [
        "\n",
        "(grid) target size: 9, nllh: 79.8707594085"
       ]
      },
      {
       "output_type": "stream",
       "stream": "stdout",
       "text": [
        "\n",
        "(grid) target size: 10, nllh: 79.2863488617"
       ]
      },
      {
       "output_type": "stream",
       "stream": "stdout",
       "text": [
        "\n",
        "(grid) target size: 11, nllh: 78.6980625968"
       ]
      },
      {
       "output_type": "stream",
       "stream": "stdout",
       "text": [
        "\n",
        "(grid) target size: 12, nllh: 78.1745903431"
       ]
      },
      {
       "output_type": "stream",
       "stream": "stdout",
       "text": [
        "\n",
        "(grid) target size: 13, nllh: 77.7341275998"
       ]
      },
      {
       "output_type": "stream",
       "stream": "stdout",
       "text": [
        "\n",
        "(grid) target size: 14, nllh: 77.3721352984"
       ]
      },
      {
       "output_type": "stream",
       "stream": "stdout",
       "text": [
        "\n",
        "(grid) target size: 15, nllh: 77.07669117"
       ]
      },
      {
       "output_type": "stream",
       "stream": "stdout",
       "text": [
        "\n",
        "(grid) target size: 16, nllh: 76.8351532236"
       ]
      },
      {
       "output_type": "stream",
       "stream": "stdout",
       "text": [
        "\n",
        "(grid) target size: 17, nllh: 76.6364777093"
       ]
      },
      {
       "output_type": "stream",
       "stream": "stdout",
       "text": [
        "\n",
        "(grid) target size: 18, nllh: 76.4717218293"
       ]
      },
      {
       "output_type": "stream",
       "stream": "stdout",
       "text": [
        "\n",
        "(grid) target size: 19, nllh: 76.3338642622"
       ]
      },
      {
       "output_type": "stream",
       "stream": "stdout",
       "text": [
        "\n",
        "(grid) target size: 20, nllh: 76.217458358"
       ]
      },
      {
       "output_type": "stream",
       "stream": "stdout",
       "text": [
        "\n",
        "(grid) target size: 21, nllh: 76.1183001437"
       ]
      },
      {
       "output_type": "stream",
       "stream": "stdout",
       "text": [
        "\n",
        "(grid) target size: 22, nllh: 76.033117607"
       ]
      },
      {
       "output_type": "stream",
       "stream": "stdout",
       "text": [
        "\n",
        "(grid) target size: 23, nllh: 75.9593723415"
       ]
      },
      {
       "output_type": "stream",
       "stream": "stdout",
       "text": [
        "\n",
        "(grid) target size: 24, nllh: 75.8950579825"
       ]
      },
      {
       "output_type": "stream",
       "stream": "stdout",
       "text": [
        "\n",
        "(grid) target size: 25, nllh: 75.8385760518"
       ]
      },
      {
       "output_type": "stream",
       "stream": "stdout",
       "text": [
        "\n",
        "(grid) target size: 26, nllh: 75.7886737309"
       ]
      },
      {
       "output_type": "stream",
       "stream": "stdout",
       "text": [
        "\n",
        "(grid) target size: 27, nllh: 75.7443250349"
       ]
      },
      {
       "output_type": "stream",
       "stream": "stdout",
       "text": [
        "\n",
        "(grid) target size: 28, nllh: 75.7046958749"
       ]
      },
      {
       "output_type": "stream",
       "stream": "stdout",
       "text": [
        "\n",
        "(grid) target size: 29, nllh: 75.6691143252"
       ]
      },
      {
       "output_type": "stream",
       "stream": "stdout",
       "text": [
        "\n",
        "(grid) target size: 30, nllh: 75.6370183458"
       ]
      },
      {
       "output_type": "stream",
       "stream": "stdout",
       "text": [
        "\n",
        "(grid) target size: 31, nllh: 372.572957965"
       ]
      },
      {
       "output_type": "stream",
       "stream": "stdout",
       "text": [
        "\n",
        "(grid) target size: 32, nllh: 372.572957965"
       ]
      },
      {
       "output_type": "stream",
       "stream": "stdout",
       "text": [
        "\n",
        "(grid) target size: 33, nllh: 75.5573467094"
       ]
      },
      {
       "output_type": "stream",
       "stream": "stdout",
       "text": [
        "\n",
        "(grid) target size: 34, nllh: 372.572957965"
       ]
      },
      {
       "output_type": "stream",
       "stream": "stdout",
       "text": [
        "\n",
        "(grid) target size: 35, nllh: 75.5149048472"
       ]
      },
      {
       "output_type": "stream",
       "stream": "stdout",
       "text": [
        "\n",
        "(grid) target size: 36, nllh: 372.572957965"
       ]
      },
      {
       "output_type": "stream",
       "stream": "stdout",
       "text": [
        "\n",
        "(grid) target size: 37, nllh: 75.4788547955"
       ]
      },
      {
       "output_type": "stream",
       "stream": "stdout",
       "text": [
        "\n",
        "best fitting target size: 37\n",
        "bic: 155.38852639\n",
        "  status: 0\n",
        "    nfev: 34\n",
        " success: True\n",
        "     fun: 75.47885479545964\n",
        "       x: array([ 0.01985702])\n",
        " message: 'Optimization terminated successfully.'\n",
        "     nit: 17\n",
        "34\n",
        "(grid) target size: 0, nllh: 20.1014378188"
       ]
      },
      {
       "output_type": "stream",
       "stream": "stdout",
       "text": [
        "\n",
        "(grid) target size: 1, nllh: 20.1014426746"
       ]
      },
      {
       "output_type": "stream",
       "stream": "stdout",
       "text": [
        "\n",
        "(grid) target size: 2, nllh: 20.1012682362"
       ]
      },
      {
       "output_type": "stream",
       "stream": "stdout",
       "text": [
        "\n",
        "(grid) target size: 3, nllh: 20.0985942393"
       ]
      },
      {
       "output_type": "stream",
       "stream": "stdout",
       "text": [
        "\n",
        "(grid) target size: 4, nllh: 19.5649987802"
       ]
      },
      {
       "output_type": "stream",
       "stream": "stdout",
       "text": [
        "\n",
        "(grid) target size: 5, nllh: 18.1108090731"
       ]
      },
      {
       "output_type": "stream",
       "stream": "stdout",
       "text": [
        "\n",
        "(grid) target size: 6, nllh: 16.8864679599"
       ]
      },
      {
       "output_type": "stream",
       "stream": "stdout",
       "text": [
        "\n",
        "(grid) target size: 7, nllh: 16.4711391694"
       ]
      },
      {
       "output_type": "stream",
       "stream": "stdout",
       "text": [
        "\n",
        "(grid) target size: 8, nllh: 16.4848439783"
       ]
      },
      {
       "output_type": "stream",
       "stream": "stdout",
       "text": [
        "\n",
        "(grid) target size: 9, nllh: 16.6087275345"
       ]
      },
      {
       "output_type": "stream",
       "stream": "stdout",
       "text": [
        "\n",
        "(grid) target size: 10, nllh: 16.7399706713"
       ]
      },
      {
       "output_type": "stream",
       "stream": "stdout",
       "text": [
        "\n",
        "(grid) target size: 11, nllh: 16.8552991173"
       ]
      },
      {
       "output_type": "stream",
       "stream": "stdout",
       "text": [
        "\n",
        "(grid) target size: 12, nllh: 16.9522880523"
       ]
      },
      {
       "output_type": "stream",
       "stream": "stdout",
       "text": [
        "\n",
        "(grid) target size: 13, nllh: 17.0332684674"
       ]
      },
      {
       "output_type": "stream",
       "stream": "stdout",
       "text": [
        "\n",
        "best fitting target size: 7\n",
        "bic: 36.0777725547\n",
        "  status: 0\n",
        "    nfev: 24\n",
        " success: True\n",
        "     fun: 16.47113916937495\n",
        "       x: array([ 0.3594069])\n",
        " message: 'Optimization terminated successfully.'\n",
        "     nit: 12\n",
        "35\n",
        "(grid) target size: 0, nllh: 55.4518779092"
       ]
      },
      {
       "output_type": "stream",
       "stream": "stdout",
       "text": [
        "\n",
        "(grid) target size: 1, nllh: 55.45192524"
       ]
      },
      {
       "output_type": "stream",
       "stream": "stdout",
       "text": [
        "\n",
        "(grid) target size: 2, nllh: 55.4517744448"
       ]
      },
      {
       "output_type": "stream",
       "stream": "stdout",
       "text": [
        "\n",
        "(grid) target size: 3, nllh: 55.4518766291"
       ]
      },
      {
       "output_type": "stream",
       "stream": "stdout",
       "text": [
        "\n",
        "(grid) target size: 4, nllh: 55.451923411"
       ]
      },
      {
       "output_type": "stream",
       "stream": "stdout",
       "text": [
        "\n",
        "(grid) target size: 5, nllh: 55.4519736782"
       ]
      },
      {
       "output_type": "stream",
       "stream": "stdout",
       "text": [
        "\n",
        "(grid) target size: 6, nllh: 55.450129699"
       ]
      },
      {
       "output_type": "stream",
       "stream": "stdout",
       "text": [
        "\n",
        "(grid) target size: 7, nllh: 55.1723531851"
       ]
      },
      {
       "output_type": "stream",
       "stream": "stdout",
       "text": [
        "\n",
        "(grid) target size: 8, nllh: 54.6110229211"
       ]
      },
      {
       "output_type": "stream",
       "stream": "stdout",
       "text": [
        "\n",
        "(grid) target size: 9, nllh: 54.0031838504"
       ]
      },
      {
       "output_type": "stream",
       "stream": "stdout",
       "text": [
        "\n",
        "(grid) target size: 10, nllh: 53.4646086574"
       ]
      },
      {
       "output_type": "stream",
       "stream": "stdout",
       "text": [
        "\n",
        "(grid) target size: 11, nllh: 53.0243789978"
       ]
      },
      {
       "output_type": "stream",
       "stream": "stdout",
       "text": [
        "\n",
        "(grid) target size: 12, nllh: 52.6751874334"
       ]
      },
      {
       "output_type": "stream",
       "stream": "stdout",
       "text": [
        "\n",
        "(grid) target size: 13, nllh: 52.3999755903"
       ]
      },
      {
       "output_type": "stream",
       "stream": "stdout",
       "text": [
        "\n",
        "(grid) target size: 14, nllh: 52.182024087"
       ]
      },
      {
       "output_type": "stream",
       "stream": "stdout",
       "text": [
        "\n",
        "(grid) target size: 15, nllh: 52.0076986673"
       ]
      },
      {
       "output_type": "stream",
       "stream": "stdout",
       "text": [
        "\n",
        "(grid) target size: 16, nllh: 51.8665954772"
       ]
      },
      {
       "output_type": "stream",
       "stream": "stdout",
       "text": [
        "\n",
        "(grid) target size: 17, nllh: 51.7509674655"
       ]
      },
      {
       "output_type": "stream",
       "stream": "stdout",
       "text": [
        "\n",
        "(grid) target size: 18, nllh: 51.6550719847"
       ]
      },
      {
       "output_type": "stream",
       "stream": "stdout",
       "text": [
        "\n",
        "(grid) target size: 19, nllh: 51.5746341179"
       ]
      },
      {
       "output_type": "stream",
       "stream": "stdout",
       "text": [
        "\n",
        "(grid) target size: 20, nllh: 51.5064563094"
       ]
      },
      {
       "output_type": "stream",
       "stream": "stdout",
       "text": [
        "\n",
        "(grid) target size: 21, nllh: 51.4481105825"
       ]
      },
      {
       "output_type": "stream",
       "stream": "stdout",
       "text": [
        "\n",
        "(grid) target size: 22, nllh: 51.3977389198"
       ]
      },
      {
       "output_type": "stream",
       "stream": "stdout",
       "text": [
        "\n",
        "(grid) target size: 23, nllh: 51.3538991398"
       ]
      },
      {
       "output_type": "stream",
       "stream": "stdout",
       "text": [
        "\n",
        "(grid) target size: 24, nllh: 51.3154652891"
       ]
      },
      {
       "output_type": "stream",
       "stream": "stdout",
       "text": [
        "\n",
        "(grid) target size: 25, nllh: 51.2815477547"
       ]
      },
      {
       "output_type": "stream",
       "stream": "stdout",
       "text": [
        "\n",
        "(grid) target size: 26, nllh: 51.2514214731"
       ]
      },
      {
       "output_type": "stream",
       "stream": "stdout",
       "text": [
        "\n",
        "(grid) target size: 27, nllh: 51.2245226707"
       ]
      },
      {
       "output_type": "stream",
       "stream": "stdout",
       "text": [
        "\n",
        "(grid) target size: 28, nllh: 51.2003725199"
       ]
      },
      {
       "output_type": "stream",
       "stream": "stdout",
       "text": [
        "\n",
        "(grid) target size: 29, nllh: 51.1785929681"
       ]
      },
      {
       "output_type": "stream",
       "stream": "stdout",
       "text": [
        "\n",
        "best fitting target size: 29\n",
        "bic: 106.484320321\n",
        "  status: 0\n",
        "    nfev: 26\n",
        " success: True\n",
        "     fun: 51.178592968097213\n",
        "       x: array([ 0.0291196])\n",
        " message: 'Optimization terminated successfully.'\n",
        "     nit: 13\n",
        "36\n",
        "(grid) target size: 0, nllh: 99.1201741165"
       ]
      },
      {
       "output_type": "stream",
       "stream": "stdout",
       "text": [
        "\n",
        "(grid) target size: 1, nllh: 99.1201762855"
       ]
      },
      {
       "output_type": "stream",
       "stream": "stdout",
       "text": [
        "\n",
        "(grid) target size: 2, nllh: 99.1202409123"
       ]
      },
      {
       "output_type": "stream",
       "stream": "stdout",
       "text": [
        "\n",
        "(grid) target size: 3, nllh: 99.1201996452"
       ]
      },
      {
       "output_type": "stream",
       "stream": "stdout",
       "text": [
        "\n",
        "(grid) target size: 4, nllh: 99.1202166692"
       ]
      },
      {
       "output_type": "stream",
       "stream": "stdout",
       "text": [
        "\n",
        "(grid) target size: 5, nllh: 99.1202275181"
       ]
      },
      {
       "output_type": "stream",
       "stream": "stdout",
       "text": [
        "\n",
        "(grid) target size: 6, nllh: 97.7884338038"
       ]
      },
      {
       "output_type": "stream",
       "stream": "stdout",
       "text": [
        "\n",
        "(grid) target size: 7, nllh: 91.263430996"
       ]
      },
      {
       "output_type": "stream",
       "stream": "stdout",
       "text": [
        "\n",
        "(grid) target size: 8, nllh: 80.3635297391"
       ]
      },
      {
       "output_type": "stream",
       "stream": "stdout",
       "text": [
        "\n",
        "(grid) target size: 9, nllh: 68.5510057108"
       ]
      },
      {
       "output_type": "stream",
       "stream": "stdout",
       "text": [
        "\n",
        "(grid) target size: 10, nllh: 58.955010373"
       ]
      },
      {
       "output_type": "stream",
       "stream": "stdout",
       "text": [
        "\n",
        "(grid) target size: 11, nllh: 53.0213608175"
       ]
      },
      {
       "output_type": "stream",
       "stream": "stdout",
       "text": [
        "\n",
        "(grid) target size: 12, nllh: 50.359420585"
       ]
      },
      {
       "output_type": "stream",
       "stream": "stdout",
       "text": [
        "\n",
        "(grid) target size: 13, nllh: 49.7053557552"
       ]
      },
      {
       "output_type": "stream",
       "stream": "stdout",
       "text": [
        "\n",
        "(grid) target size: 14, nllh: 49.9966474069"
       ]
      },
      {
       "output_type": "stream",
       "stream": "stdout",
       "text": [
        "\n",
        "(grid) target size: 15, nllh: 50.6483482471"
       ]
      },
      {
       "output_type": "stream",
       "stream": "stdout",
       "text": [
        "\n",
        "(grid) target size: 16, nllh: 51.3970941177"
       ]
      },
      {
       "output_type": "stream",
       "stream": "stdout",
       "text": [
        "\n",
        "(grid) target size: 17, nllh: 52.1357913648"
       ]
      },
      {
       "output_type": "stream",
       "stream": "stdout",
       "text": [
        "\n",
        "(grid) target size: 18, nllh: 52.8249567854"
       ]
      },
      {
       "output_type": "stream",
       "stream": "stdout",
       "text": [
        "\n",
        "(grid) target size: 19, nllh: 53.4532703153"
       ]
      },
      {
       "output_type": "stream",
       "stream": "stdout",
       "text": [
        "\n",
        "(grid) target size: 20, nllh: 54.0208420305"
       ]
      },
      {
       "output_type": "stream",
       "stream": "stdout",
       "text": [
        "\n",
        "(grid) target size: 21, nllh: 54.5321187181"
       ]
      },
      {
       "output_type": "stream",
       "stream": "stdout",
       "text": [
        "\n",
        "(grid) target size: 22, nllh: 54.9928735238"
       ]
      },
      {
       "output_type": "stream",
       "stream": "stdout",
       "text": [
        "\n",
        "(grid) target size: 23, nllh: 55.4089374479"
       ]
      },
      {
       "output_type": "stream",
       "stream": "stdout",
       "text": [
        "\n",
        "(grid) target size: 24, nllh: 55.7857060025"
       ]
      },
      {
       "output_type": "stream",
       "stream": "stdout",
       "text": [
        "\n",
        "(grid) target size: 25, nllh: 56.1279768827"
       ]
      },
      {
       "output_type": "stream",
       "stream": "stdout",
       "text": [
        "\n",
        "(grid) target size: 26, nllh: 56.439937188"
       ]
      },
      {
       "output_type": "stream",
       "stream": "stdout",
       "text": [
        "\n",
        "(grid) target size: 27, nllh: 56.7252056606"
       ]
      },
      {
       "output_type": "stream",
       "stream": "stdout",
       "text": [
        "\n",
        "(grid) target size: 28, nllh: 56.9869053887"
       ]
      },
      {
       "output_type": "stream",
       "stream": "stdout",
       "text": [
        "\n",
        "(grid) target size: 29, nllh: 57.2277225517"
       ]
      },
      {
       "output_type": "stream",
       "stream": "stdout",
       "text": [
        "\n",
        "best fitting target size: 13\n",
        "bic: 104.262741774\n",
        "  status: 0\n",
        "    nfev: 20\n",
        " success: True\n",
        "     fun: 49.705355755163431\n",
        "       x: array([ 0.37219147])\n",
        " message: 'Optimization terminated successfully.'\n",
        "     nit: 10\n",
        "37\n",
        "(grid) target size: 0, nllh: 29.2742528682"
       ]
      },
      {
       "output_type": "stream",
       "stream": "stdout",
       "text": [
        "\n",
        "(grid) target size: 1, nllh: 28.2010399163"
       ]
      },
      {
       "output_type": "stream",
       "stream": "stdout",
       "text": [
        "\n",
        "(grid) target size: 2, nllh: 26.3946716424"
       ]
      },
      {
       "output_type": "stream",
       "stream": "stdout",
       "text": [
        "\n",
        "(grid) target size: 3, nllh: 30.7749905706"
       ]
      },
      {
       "output_type": "stream",
       "stream": "stdout",
       "text": [
        "\n",
        "(grid) target size: 4, nllh: 31.8810664402"
       ]
      },
      {
       "output_type": "stream",
       "stream": "stdout",
       "text": [
        "\n",
        "(grid) target size: 5, nllh: 31.8849394188"
       ]
      },
      {
       "output_type": "stream",
       "stream": "stdout",
       "text": [
        "\n",
        "(grid) target size: 6, nllh: 31.8849167712"
       ]
      },
      {
       "output_type": "stream",
       "stream": "stdout",
       "text": [
        "\n",
        "(grid) target size: 7, nllh: 31.8849262425"
       ]
      },
      {
       "output_type": "stream",
       "stream": "stdout",
       "text": [
        "\n",
        "best fitting target size: 2\n",
        "bic: 56.0474398229\n",
        "  status: 0\n",
        "    nfev: 32\n",
        " success: True\n",
        "     fun: 26.394671642424409\n",
        "       x: array([ 1.38604075])\n",
        " message: 'Optimization terminated successfully.'\n",
        "     nit: 16\n",
        "38\n",
        "(grid) target size: 0, nllh: 103.07847556"
       ]
      },
      {
       "output_type": "stream",
       "stream": "stdout",
       "text": [
        "\n",
        "(grid) target size: 1, nllh: 102.843283567"
       ]
      },
      {
       "output_type": "stream",
       "stream": "stdout",
       "text": [
        "\n",
        "(grid) target size: 2, nllh: 102.347153097"
       ]
      },
      {
       "output_type": "stream",
       "stream": "stdout",
       "text": [
        "\n",
        "(grid) target size: 3, nllh: 101.308772413"
       ]
      },
      {
       "output_type": "stream",
       "stream": "stdout",
       "text": [
        "\n",
        "(grid) target size: 4, nllh: 99.48159507"
       ]
      },
      {
       "output_type": "stream",
       "stream": "stdout",
       "text": [
        "\n",
        "(grid) target size: 5, nllh: 97.8920653402"
       ]
      },
      {
       "output_type": "stream",
       "stream": "stdout",
       "text": [
        "\n",
        "(grid) target size: 6, nllh: 98.1603237749"
       ]
      },
      {
       "output_type": "stream",
       "stream": "stdout",
       "text": [
        "\n",
        "(grid) target size: 7, nllh: 99.3275008869"
       ]
      },
      {
       "output_type": "stream",
       "stream": "stdout",
       "text": [
        "\n",
        "(grid) target size: 8, nllh: 100.306631969"
       ]
      },
      {
       "output_type": "stream",
       "stream": "stdout",
       "text": [
        "\n",
        "(grid) target size: 9, nllh: 100.965521068"
       ]
      },
      {
       "output_type": "stream",
       "stream": "stdout",
       "text": [
        "\n",
        "(grid) target size: 10, nllh: 101.402932523"
       ]
      },
      {
       "output_type": "stream",
       "stream": "stdout",
       "text": [
        "\n",
        "(grid) target size: 11, nllh: 101.702909602"
       ]
      },
      {
       "output_type": "stream",
       "stream": "stdout",
       "text": [
        "\n",
        "(grid) target size: 12, nllh: 101.916848267"
       ]
      },
      {
       "output_type": "stream",
       "stream": "stdout",
       "text": [
        "\n",
        "(grid) target size: 13, nllh: 102.075035882"
       ]
      },
      {
       "output_type": "stream",
       "stream": "stdout",
       "text": [
        "\n",
        "(grid) target size: 14, nllh: 102.195705927"
       ]
      },
      {
       "output_type": "stream",
       "stream": "stdout",
       "text": [
        "\n",
        "(grid) target size: 15, nllh: 102.290219566"
       ]
      },
      {
       "output_type": "stream",
       "stream": "stdout",
       "text": [
        "\n",
        "(grid) target size: 16, nllh: 102.365924057"
       ]
      },
      {
       "output_type": "stream",
       "stream": "stdout",
       "text": [
        "\n",
        "(grid) target size: 17, nllh: 102.427732236"
       ]
      },
      {
       "output_type": "stream",
       "stream": "stdout",
       "text": [
        "\n",
        "best fitting target size: 5\n",
        "bic: 200.261467495\n",
        "  status: 0\n",
        "    nfev: 22\n",
        " success: True\n",
        "     fun: 97.892065340150239\n",
        "       x: array([ 0.26060891])\n",
        " message: 'Optimization terminated successfully.'\n",
        "     nit: 11\n",
        "39\n",
        "(grid) target size: 0, nllh: 60.9969518893"
       ]
      },
      {
       "output_type": "stream",
       "stream": "stdout",
       "text": [
        "\n",
        "(grid) target size: 1, nllh: 60.9971001488"
       ]
      },
      {
       "output_type": "stream",
       "stream": "stdout",
       "text": [
        "\n",
        "(grid) target size: 2, nllh: 60.9970800228"
       ]
      },
      {
       "output_type": "stream",
       "stream": "stdout",
       "text": [
        "\n",
        "(grid) target size: 3, nllh: 60.9970621476"
       ]
      },
      {
       "output_type": "stream",
       "stream": "stdout",
       "text": [
        "\n",
        "(grid) target size: 4, nllh: 60.9970626668"
       ]
      },
      {
       "output_type": "stream",
       "stream": "stdout",
       "text": [
        "\n",
        "(grid) target size: 5, nllh: 60.9928195033"
       ]
      },
      {
       "output_type": "stream",
       "stream": "stdout",
       "text": [
        "\n",
        "(grid) target size: 6, nllh: 60.5109181699"
       ]
      },
      {
       "output_type": "stream",
       "stream": "stdout",
       "text": [
        "\n",
        "(grid) target size: 7, nllh: 59.4196164052"
       ]
      },
      {
       "output_type": "stream",
       "stream": "stdout",
       "text": [
        "\n",
        "(grid) target size: 8, nllh: 58.2338329679"
       ]
      },
      {
       "output_type": "stream",
       "stream": "stdout",
       "text": [
        "\n",
        "(grid) target size: 9, nllh: 57.2919811267"
       ]
      },
      {
       "output_type": "stream",
       "stream": "stdout",
       "text": [
        "\n",
        "(grid) target size: 10, nllh: 56.6468657007"
       ]
      },
      {
       "output_type": "stream",
       "stream": "stdout",
       "text": [
        "\n",
        "(grid) target size: 11, nllh: 56.2320203951"
       ]
      },
      {
       "output_type": "stream",
       "stream": "stdout",
       "text": [
        "\n",
        "(grid) target size: 12, nllh: 55.9705580988"
       ]
      },
      {
       "output_type": "stream",
       "stream": "stdout",
       "text": [
        "\n",
        "(grid) target size: 13, nllh: 55.8059380764"
       ]
      },
      {
       "output_type": "stream",
       "stream": "stdout",
       "text": [
        "\n",
        "(grid) target size: 14, nllh: 55.7018167387"
       ]
      },
      {
       "output_type": "stream",
       "stream": "stdout",
       "text": [
        "\n",
        "(grid) target size: 15, nllh: 55.6357957416"
       ]
      },
      {
       "output_type": "stream",
       "stream": "stdout",
       "text": [
        "\n",
        "(grid) target size: 16, nllh: 55.5941354854"
       ]
      },
      {
       "output_type": "stream",
       "stream": "stdout",
       "text": [
        "\n",
        "(grid) target size: 17, nllh: 55.5683049349"
       ]
      },
      {
       "output_type": "stream",
       "stream": "stdout",
       "text": [
        "\n",
        "(grid) target size: 18, nllh: 55.552927198"
       ]
      },
      {
       "output_type": "stream",
       "stream": "stdout",
       "text": [
        "\n",
        "(grid) target size: 19, nllh: 55.5445388631"
       ]
      },
      {
       "output_type": "stream",
       "stream": "stdout",
       "text": [
        "\n",
        "(grid) target size: 20, nllh: 55.5408695454"
       ]
      },
      {
       "output_type": "stream",
       "stream": "stdout",
       "text": [
        "\n",
        "(grid) target size: 21, nllh: 55.5404034283"
       ]
      },
      {
       "output_type": "stream",
       "stream": "stdout",
       "text": [
        "\n",
        "(grid) target size: 22, nllh: 55.5421178373"
       ]
      },
      {
       "output_type": "stream",
       "stream": "stdout",
       "text": [
        "\n",
        "(grid) target size: 23, nllh: 55.5453036162"
       ]
      },
      {
       "output_type": "stream",
       "stream": "stdout",
       "text": [
        "\n",
        "(grid) target size: 24, nllh: 55.5494757792"
       ]
      },
      {
       "output_type": "stream",
       "stream": "stdout",
       "text": [
        "\n",
        "(grid) target size: 25, nllh: 55.5542949655"
       ]
      },
      {
       "output_type": "stream",
       "stream": "stdout",
       "text": [
        "\n",
        "(grid) target size: 26, nllh: 256.750486134"
       ]
      },
      {
       "output_type": "stream",
       "stream": "stdout",
       "text": [
        "\n",
        "(grid) target size: 27, nllh: 256.750486134"
       ]
      },
      {
       "output_type": "stream",
       "stream": "stdout",
       "text": [
        "\n",
        "best fitting target size: 21\n",
        "bic: 115.270461599\n",
        "  status: 0\n",
        "    nfev: 20\n",
        " success: True\n",
        "     fun: 55.540403428266615\n",
        "       x: array([ 0.0480066])\n",
        " message: 'Optimization terminated successfully.'\n",
        "     nit: 10\n",
        "40\n",
        "(grid) target size: 0, nllh: 14.3226431175"
       ]
      },
      {
       "output_type": "stream",
       "stream": "stdout",
       "text": [
        "\n",
        "(grid) target size: 1, nllh: 8.31858336453"
       ]
      },
      {
       "output_type": "stream",
       "stream": "stdout",
       "text": [
        "\n",
        "best fitting target size: 1\n",
        "bic: 19.527538487\n",
        "  status: 0\n",
        "    nfev: 60\n",
        " success: True\n",
        "     fun: 8.3185833645345912\n",
        "       x: array([ 9.99997843])\n",
        " message: 'Optimization terminated successfully.'\n",
        "     nit: 30\n",
        "41\n",
        "(grid) target size: 0, nllh: 29.3394212016"
       ]
      },
      {
       "output_type": "stream",
       "stream": "stdout",
       "text": [
        "\n",
        "(grid) target size: 1, nllh: 28.45418137"
       ]
      },
      {
       "output_type": "stream",
       "stream": "stdout",
       "text": [
        "\n",
        "(grid) target size: 2, nllh: 27.2331323856"
       ]
      },
      {
       "output_type": "stream",
       "stream": "stdout",
       "text": [
        "\n",
        "(grid) target size: 3, nllh: 30.5441411469"
       ]
      },
      {
       "output_type": "stream",
       "stream": "stdout",
       "text": [
        "\n",
        "(grid) target size: 4, nllh: 31.1881746961"
       ]
      },
      {
       "output_type": "stream",
       "stream": "stdout",
       "text": [
        "\n",
        "(grid) target size: 5, nllh: 31.1918132825"
       ]
      },
      {
       "output_type": "stream",
       "stream": "stdout",
       "text": [
        "\n",
        "(grid) target size: 6, nllh: 31.1917557591"
       ]
      },
      {
       "output_type": "stream",
       "stream": "stdout",
       "text": [
        "\n",
        "(grid) target size: 7, nllh: 31.1917555851"
       ]
      },
      {
       "output_type": "stream",
       "stream": "stdout",
       "text": [
        "\n",
        "best fitting target size: 2\n",
        "bic: 57.7984692814\n",
        "  status: 0\n",
        "    nfev: 32\n",
        " success: True\n",
        "     fun: 27.233132385635489\n",
        "       x: array([ 1.23192817])\n",
        " message: 'Optimization terminated successfully.'\n",
        "     nit: 16\n",
        "42\n",
        "(grid) target size: 0, nllh: 53.372490576"
       ]
      },
      {
       "output_type": "stream",
       "stream": "stdout",
       "text": [
        "\n",
        "(grid) target size: 1, nllh: 53.3723329031"
       ]
      },
      {
       "output_type": "stream",
       "stream": "stdout",
       "text": [
        "\n",
        "(grid) target size: 2, nllh: 53.3723329031"
       ]
      },
      {
       "output_type": "stream",
       "stream": "stdout",
       "text": [
        "\n",
        "(grid) target size: 3, nllh: 53.3724790234"
       ]
      },
      {
       "output_type": "stream",
       "stream": "stdout",
       "text": [
        "\n",
        "(grid) target size: 4, nllh: 53.3724459211"
       ]
      },
      {
       "output_type": "stream",
       "stream": "stdout",
       "text": [
        "\n",
        "(grid) target size: 5, nllh: 53.3725158289"
       ]
      },
      {
       "output_type": "stream",
       "stream": "stdout",
       "text": [
        "\n",
        "(grid) target size: 6, nllh: 53.359152798"
       ]
      },
      {
       "output_type": "stream",
       "stream": "stdout",
       "text": [
        "\n",
        "(grid) target size: 7, nllh: 53.0569344392"
       ]
      },
      {
       "output_type": "stream",
       "stream": "stdout",
       "text": [
        "\n",
        "(grid) target size: 8, nllh: 52.5113477195"
       ]
      },
      {
       "output_type": "stream",
       "stream": "stdout",
       "text": [
        "\n",
        "(grid) target size: 9, nllh: 51.919829075"
       ]
      },
      {
       "output_type": "stream",
       "stream": "stdout",
       "text": [
        "\n",
        "(grid) target size: 10, nllh: 51.3898002704"
       ]
      },
      {
       "output_type": "stream",
       "stream": "stdout",
       "text": [
        "\n",
        "(grid) target size: 11, nllh: 50.9528645206"
       ]
      },
      {
       "output_type": "stream",
       "stream": "stdout",
       "text": [
        "\n",
        "(grid) target size: 12, nllh: 50.6049976132"
       ]
      },
      {
       "output_type": "stream",
       "stream": "stdout",
       "text": [
        "\n",
        "(grid) target size: 13, nllh: 50.3310430397"
       ]
      },
      {
       "output_type": "stream",
       "stream": "stdout",
       "text": [
        "\n",
        "(grid) target size: 14, nllh: 50.1150278851"
       ]
      },
      {
       "output_type": "stream",
       "stream": "stdout",
       "text": [
        "\n",
        "(grid) target size: 15, nllh: 49.9434467725"
       ]
      },
      {
       "output_type": "stream",
       "stream": "stdout",
       "text": [
        "\n",
        "(grid) target size: 16, nllh: 49.8057690954"
       ]
      },
      {
       "output_type": "stream",
       "stream": "stdout",
       "text": [
        "\n",
        "(grid) target size: 17, nllh: 49.6940491461"
       ]
      },
      {
       "output_type": "stream",
       "stream": "stdout",
       "text": [
        "\n",
        "(grid) target size: 18, nllh: 49.6023545786"
       ]
      },
      {
       "output_type": "stream",
       "stream": "stdout",
       "text": [
        "\n",
        "(grid) target size: 19, nllh: 49.5262666366"
       ]
      },
      {
       "output_type": "stream",
       "stream": "stdout",
       "text": [
        "\n",
        "(grid) target size: 20, nllh: 49.4624722593"
       ]
      },
      {
       "output_type": "stream",
       "stream": "stdout",
       "text": [
        "\n",
        "(grid) target size: 21, nllh: 49.4084585371"
       ]
      },
      {
       "output_type": "stream",
       "stream": "stdout",
       "text": [
        "\n",
        "(grid) target size: 22, nllh: 49.3623175125"
       ]
      },
      {
       "output_type": "stream",
       "stream": "stdout",
       "text": [
        "\n",
        "(grid) target size: 23, nllh: 49.3225785727"
       ]
      },
      {
       "output_type": "stream",
       "stream": "stdout",
       "text": [
        "\n",
        "(grid) target size: 24, nllh: 49.2880837272"
       ]
      },
      {
       "output_type": "stream",
       "stream": "stdout",
       "text": [
        "\n",
        "(grid) target size: 25, nllh: 199.87898599"
       ]
      },
      {
       "output_type": "stream",
       "stream": "stdout",
       "text": [
        "\n",
        "(grid) target size: 26, nllh: 49.2314144556"
       ]
      },
      {
       "output_type": "stream",
       "stream": "stdout",
       "text": [
        "\n",
        "(grid) target size: 27, nllh: 49.2079474492"
       ]
      },
      {
       "output_type": "stream",
       "stream": "stdout",
       "text": [
        "\n",
        "(grid) target size: 28, nllh: 49.1870671431"
       ]
      },
      {
       "output_type": "stream",
       "stream": "stdout",
       "text": [
        "\n",
        "(grid) target size: 29, nllh: 49.1683994133"
       ]
      },
      {
       "output_type": "stream",
       "stream": "stdout",
       "text": [
        "\n",
        "(grid) target size: 30, nllh: 49.1516196644"
       ]
      },
      {
       "output_type": "stream",
       "stream": "stdout",
       "text": [
        "\n",
        "(grid) target size: 31, nllh: 199.87898599"
       ]
      },
      {
       "output_type": "stream",
       "stream": "stdout",
       "text": [
        "\n",
        "(grid) target size: 32, nllh: 49.1227588807"
       ]
      },
      {
       "output_type": "stream",
       "stream": "stdout",
       "text": [
        "\n",
        "(grid) target size: 33, nllh: 199.87898599"
       ]
      },
      {
       "output_type": "stream",
       "stream": "stdout",
       "text": [
        "\n",
        "(grid) target size: 34, nllh: 49.0988965304"
       ]
      },
      {
       "output_type": "stream",
       "stream": "stdout",
       "text": [
        "\n",
        "(grid) target size: 35, nllh: 199.87898599"
       ]
      },
      {
       "output_type": "stream",
       "stream": "stdout",
       "text": [
        "\n",
        "best fitting target size: 34\n",
        "bic: 102.292137623\n",
        "  status: 0\n",
        "    nfev: 30\n",
        " success: True\n",
        "     fun: 49.098896530425414\n",
        "       x: array([ 0.02477066])\n",
        " message: 'Optimization terminated successfully.'\n",
        "     nit: 15\n"
       ]
      }
     ],
     "prompt_number": 17
    },
    {
     "cell_type": "code",
     "collapsed": false,
     "input": [
      "fitresults_fp_table.to_csv('hau_fixedperoption.csv')\n",
      "fitresults_fp_table"
     ],
     "language": "python",
     "metadata": {},
     "outputs": [
      {
       "html": [
        "<div style=\"max-height:1000px;max-width:1500px;overflow:auto;\">\n",
        "<table border=\"1\" class=\"dataframe\">\n",
        "  <thead>\n",
        "    <tr style=\"text-align: right;\">\n",
        "      <th></th>\n",
        "      <th>T</th>\n",
        "      <th>s</th>\n",
        "      <th>nllh_sampling</th>\n",
        "      <th>bic</th>\n",
        "      <th>success</th>\n",
        "    </tr>\n",
        "  </thead>\n",
        "  <tbody>\n",
        "    <tr>\n",
        "      <th>1 </th>\n",
        "      <td> 25</td>\n",
        "      <td>  0.1051892</td>\n",
        "      <td> 92.56602</td>\n",
        "      <td>  190.256</td>\n",
        "      <td> True</td>\n",
        "    </tr>\n",
        "    <tr>\n",
        "      <th>2 </th>\n",
        "      <td>  1</td>\n",
        "      <td>   2.788696</td>\n",
        "      <td> 12.12865</td>\n",
        "      <td> 27.20173</td>\n",
        "      <td> True</td>\n",
        "    </tr>\n",
        "    <tr>\n",
        "      <th>3 </th>\n",
        "      <td>  8</td>\n",
        "      <td> 0.05125619</td>\n",
        "      <td> 53.70803</td>\n",
        "      <td> 111.2447</td>\n",
        "      <td> True</td>\n",
        "    </tr>\n",
        "    <tr>\n",
        "      <th>4 </th>\n",
        "      <td>  3</td>\n",
        "      <td>  0.9773453</td>\n",
        "      <td> 25.60924</td>\n",
        "      <td> 54.65247</td>\n",
        "      <td> True</td>\n",
        "    </tr>\n",
        "    <tr>\n",
        "      <th>5 </th>\n",
        "      <td>  4</td>\n",
        "      <td>  0.7830061</td>\n",
        "      <td> 28.09971</td>\n",
        "      <td> 59.86298</td>\n",
        "      <td> True</td>\n",
        "    </tr>\n",
        "    <tr>\n",
        "      <th>6 </th>\n",
        "      <td>  1</td>\n",
        "      <td>   2.896781</td>\n",
        "      <td> 12.23848</td>\n",
        "      <td> 27.42139</td>\n",
        "      <td> True</td>\n",
        "    </tr>\n",
        "    <tr>\n",
        "      <th>7 </th>\n",
        "      <td>  6</td>\n",
        "      <td>  0.4891266</td>\n",
        "      <td> 50.67276</td>\n",
        "      <td> 105.5502</td>\n",
        "      <td> True</td>\n",
        "    </tr>\n",
        "    <tr>\n",
        "      <th>8 </th>\n",
        "      <td>  2</td>\n",
        "      <td>   0.216633</td>\n",
        "      <td> 60.56394</td>\n",
        "      <td> 125.0197</td>\n",
        "      <td> True</td>\n",
        "    </tr>\n",
        "    <tr>\n",
        "      <th>9 </th>\n",
        "      <td>  7</td>\n",
        "      <td>  0.3458562</td>\n",
        "      <td> 26.93753</td>\n",
        "      <td> 57.53862</td>\n",
        "      <td> True</td>\n",
        "    </tr>\n",
        "    <tr>\n",
        "      <th>10</th>\n",
        "      <td>  2</td>\n",
        "      <td>   2.431797</td>\n",
        "      <td> 19.40032</td>\n",
        "      <td> 41.89169</td>\n",
        "      <td> True</td>\n",
        "    </tr>\n",
        "    <tr>\n",
        "      <th>11</th>\n",
        "      <td> 63</td>\n",
        "      <td> 0.05665361</td>\n",
        "      <td>   81.736</td>\n",
        "      <td> 169.1758</td>\n",
        "      <td> True</td>\n",
        "    </tr>\n",
        "    <tr>\n",
        "      <th>12</th>\n",
        "      <td> 41</td>\n",
        "      <td> 0.04729968</td>\n",
        "      <td>  50.5806</td>\n",
        "      <td> 105.7045</td>\n",
        "      <td> True</td>\n",
        "    </tr>\n",
        "    <tr>\n",
        "      <th>13</th>\n",
        "      <td>  7</td>\n",
        "      <td>  0.5882336</td>\n",
        "      <td> 30.05968</td>\n",
        "      <td>  64.1798</td>\n",
        "      <td> True</td>\n",
        "    </tr>\n",
        "    <tr>\n",
        "      <th>14</th>\n",
        "      <td> 19</td>\n",
        "      <td>  0.1158232</td>\n",
        "      <td> 80.92881</td>\n",
        "      <td> 166.7404</td>\n",
        "      <td> True</td>\n",
        "    </tr>\n",
        "    <tr>\n",
        "      <th>15</th>\n",
        "      <td>  6</td>\n",
        "      <td>   0.416421</td>\n",
        "      <td> 44.10904</td>\n",
        "      <td> 92.27852</td>\n",
        "      <td> True</td>\n",
        "    </tr>\n",
        "    <tr>\n",
        "      <th>16</th>\n",
        "      <td> 58</td>\n",
        "      <td> 0.03862708</td>\n",
        "      <td>  72.3514</td>\n",
        "      <td> 149.7654</td>\n",
        "      <td> True</td>\n",
        "    </tr>\n",
        "    <tr>\n",
        "      <th>17</th>\n",
        "      <td>  6</td>\n",
        "      <td>  0.8064816</td>\n",
        "      <td> 33.83535</td>\n",
        "      <td> 71.82958</td>\n",
        "      <td> True</td>\n",
        "    </tr>\n",
        "    <tr>\n",
        "      <th>18</th>\n",
        "      <td>  6</td>\n",
        "      <td>  0.8885262</td>\n",
        "      <td> 34.11765</td>\n",
        "      <td>  72.4548</td>\n",
        "      <td> True</td>\n",
        "    </tr>\n",
        "    <tr>\n",
        "      <th>19</th>\n",
        "      <td> 15</td>\n",
        "      <td>  0.2332216</td>\n",
        "      <td> 53.54827</td>\n",
        "      <td> 111.8587</td>\n",
        "      <td> True</td>\n",
        "    </tr>\n",
        "    <tr>\n",
        "      <th>20</th>\n",
        "      <td> 12</td>\n",
        "      <td>  0.3581686</td>\n",
        "      <td>  45.8373</td>\n",
        "      <td> 96.35672</td>\n",
        "      <td> True</td>\n",
        "    </tr>\n",
        "    <tr>\n",
        "      <th>21</th>\n",
        "      <td> 11</td>\n",
        "      <td>  0.2316284</td>\n",
        "      <td> 58.24562</td>\n",
        "      <td> 121.0238</td>\n",
        "      <td> True</td>\n",
        "    </tr>\n",
        "    <tr>\n",
        "      <th>22</th>\n",
        "      <td>  6</td>\n",
        "      <td>  0.8553389</td>\n",
        "      <td>  34.7028</td>\n",
        "      <td> 73.61029</td>\n",
        "      <td> True</td>\n",
        "    </tr>\n",
        "    <tr>\n",
        "      <th>23</th>\n",
        "      <td> 15</td>\n",
        "      <td>  0.1785407</td>\n",
        "      <td> 53.91859</td>\n",
        "      <td> 112.4423</td>\n",
        "      <td> True</td>\n",
        "    </tr>\n",
        "    <tr>\n",
        "      <th>24</th>\n",
        "      <td>  2</td>\n",
        "      <td>    9.99989</td>\n",
        "      <td>  2.77268</td>\n",
        "      <td> 6.931653</td>\n",
        "      <td> True</td>\n",
        "    </tr>\n",
        "    <tr>\n",
        "      <th>25</th>\n",
        "      <td>  1</td>\n",
        "      <td>   9.999993</td>\n",
        "      <td> 8.318583</td>\n",
        "      <td> 19.52754</td>\n",
        "      <td> True</td>\n",
        "    </tr>\n",
        "    <tr>\n",
        "      <th>26</th>\n",
        "      <td> 22</td>\n",
        "      <td>  0.1658392</td>\n",
        "      <td> 54.70562</td>\n",
        "      <td> 114.4219</td>\n",
        "      <td> True</td>\n",
        "    </tr>\n",
        "    <tr>\n",
        "      <th>27</th>\n",
        "      <td> 16</td>\n",
        "      <td>  0.1190589</td>\n",
        "      <td> 67.98014</td>\n",
        "      <td> 140.5754</td>\n",
        "      <td> True</td>\n",
        "    </tr>\n",
        "    <tr>\n",
        "      <th>28</th>\n",
        "      <td> 61</td>\n",
        "      <td> 0.04890365</td>\n",
        "      <td> 82.92518</td>\n",
        "      <td> 171.3516</td>\n",
        "      <td> True</td>\n",
        "    </tr>\n",
        "    <tr>\n",
        "      <th>29</th>\n",
        "      <td> 15</td>\n",
        "      <td>  0.3870147</td>\n",
        "      <td> 49.80059</td>\n",
        "      <td> 104.6316</td>\n",
        "      <td> True</td>\n",
        "    </tr>\n",
        "    <tr>\n",
        "      <th>30</th>\n",
        "      <td>  8</td>\n",
        "      <td>  0.6734044</td>\n",
        "      <td>  39.5877</td>\n",
        "      <td> 83.65273</td>\n",
        "      <td> True</td>\n",
        "    </tr>\n",
        "    <tr>\n",
        "      <th>31</th>\n",
        "      <td> 20</td>\n",
        "      <td>  0.2024477</td>\n",
        "      <td> 55.10015</td>\n",
        "      <td> 115.2565</td>\n",
        "      <td> True</td>\n",
        "    </tr>\n",
        "    <tr>\n",
        "      <th>32</th>\n",
        "      <td>  3</td>\n",
        "      <td>  0.6898127</td>\n",
        "      <td> 51.05737</td>\n",
        "      <td> 105.9214</td>\n",
        "      <td> True</td>\n",
        "    </tr>\n",
        "    <tr>\n",
        "      <th>33</th>\n",
        "      <td> 37</td>\n",
        "      <td> 0.01985702</td>\n",
        "      <td> 75.47885</td>\n",
        "      <td> 155.3885</td>\n",
        "      <td> True</td>\n",
        "    </tr>\n",
        "    <tr>\n",
        "      <th>34</th>\n",
        "      <td>  7</td>\n",
        "      <td>  0.3594069</td>\n",
        "      <td> 16.47114</td>\n",
        "      <td> 36.07777</td>\n",
        "      <td> True</td>\n",
        "    </tr>\n",
        "    <tr>\n",
        "      <th>35</th>\n",
        "      <td> 29</td>\n",
        "      <td>  0.0291196</td>\n",
        "      <td> 51.17859</td>\n",
        "      <td> 106.4843</td>\n",
        "      <td> True</td>\n",
        "    </tr>\n",
        "    <tr>\n",
        "      <th>36</th>\n",
        "      <td> 13</td>\n",
        "      <td>  0.3721915</td>\n",
        "      <td> 49.70536</td>\n",
        "      <td> 104.2627</td>\n",
        "      <td> True</td>\n",
        "    </tr>\n",
        "    <tr>\n",
        "      <th>37</th>\n",
        "      <td>  2</td>\n",
        "      <td>   1.386041</td>\n",
        "      <td> 26.39467</td>\n",
        "      <td> 56.04744</td>\n",
        "      <td> True</td>\n",
        "    </tr>\n",
        "    <tr>\n",
        "      <th>38</th>\n",
        "      <td>  5</td>\n",
        "      <td>  0.2606089</td>\n",
        "      <td> 97.89207</td>\n",
        "      <td> 200.2615</td>\n",
        "      <td> True</td>\n",
        "    </tr>\n",
        "    <tr>\n",
        "      <th>39</th>\n",
        "      <td> 21</td>\n",
        "      <td>  0.0480066</td>\n",
        "      <td>  55.5404</td>\n",
        "      <td> 115.2705</td>\n",
        "      <td> True</td>\n",
        "    </tr>\n",
        "    <tr>\n",
        "      <th>40</th>\n",
        "      <td>  1</td>\n",
        "      <td>   9.999978</td>\n",
        "      <td> 8.318583</td>\n",
        "      <td> 19.52754</td>\n",
        "      <td> True</td>\n",
        "    </tr>\n",
        "    <tr>\n",
        "      <th>41</th>\n",
        "      <td>  2</td>\n",
        "      <td>   1.231928</td>\n",
        "      <td> 27.23313</td>\n",
        "      <td> 57.79847</td>\n",
        "      <td> True</td>\n",
        "    </tr>\n",
        "    <tr>\n",
        "      <th>42</th>\n",
        "      <td> 34</td>\n",
        "      <td> 0.02477066</td>\n",
        "      <td>  49.0989</td>\n",
        "      <td> 102.2921</td>\n",
        "      <td> True</td>\n",
        "    </tr>\n",
        "  </tbody>\n",
        "</table>\n",
        "</div>"
       ],
       "metadata": {},
       "output_type": "pyout",
       "prompt_number": 19,
       "text": [
        "     T           s nllh_sampling       bic success\n",
        "1   25   0.1051892      92.56602   190.256    True\n",
        "2    1    2.788696      12.12865  27.20173    True\n",
        "3    8  0.05125619      53.70803  111.2447    True\n",
        "4    3   0.9773453      25.60924  54.65247    True\n",
        "5    4   0.7830061      28.09971  59.86298    True\n",
        "6    1    2.896781      12.23848  27.42139    True\n",
        "7    6   0.4891266      50.67276  105.5502    True\n",
        "8    2    0.216633      60.56394  125.0197    True\n",
        "9    7   0.3458562      26.93753  57.53862    True\n",
        "10   2    2.431797      19.40032  41.89169    True\n",
        "11  63  0.05665361        81.736  169.1758    True\n",
        "12  41  0.04729968       50.5806  105.7045    True\n",
        "13   7   0.5882336      30.05968   64.1798    True\n",
        "14  19   0.1158232      80.92881  166.7404    True\n",
        "15   6    0.416421      44.10904  92.27852    True\n",
        "16  58  0.03862708       72.3514  149.7654    True\n",
        "17   6   0.8064816      33.83535  71.82958    True\n",
        "18   6   0.8885262      34.11765   72.4548    True\n",
        "19  15   0.2332216      53.54827  111.8587    True\n",
        "20  12   0.3581686       45.8373  96.35672    True\n",
        "21  11   0.2316284      58.24562  121.0238    True\n",
        "22   6   0.8553389       34.7028  73.61029    True\n",
        "23  15   0.1785407      53.91859  112.4423    True\n",
        "24   2     9.99989       2.77268  6.931653    True\n",
        "25   1    9.999993      8.318583  19.52754    True\n",
        "26  22   0.1658392      54.70562  114.4219    True\n",
        "27  16   0.1190589      67.98014  140.5754    True\n",
        "28  61  0.04890365      82.92518  171.3516    True\n",
        "29  15   0.3870147      49.80059  104.6316    True\n",
        "30   8   0.6734044       39.5877  83.65273    True\n",
        "31  20   0.2024477      55.10015  115.2565    True\n",
        "32   3   0.6898127      51.05737  105.9214    True\n",
        "33  37  0.01985702      75.47885  155.3885    True\n",
        "34   7   0.3594069      16.47114  36.07777    True\n",
        "35  29   0.0291196      51.17859  106.4843    True\n",
        "36  13   0.3721915      49.70536  104.2627    True\n",
        "37   2    1.386041      26.39467  56.04744    True\n",
        "38   5   0.2606089      97.89207  200.2615    True\n",
        "39  21   0.0480066       55.5404  115.2705    True\n",
        "40   1    9.999978      8.318583  19.52754    True\n",
        "41   2    1.231928      27.23313  57.79847    True\n",
        "42  34  0.02477066       49.0989  102.2921    True"
       ]
      }
     ],
     "prompt_number": 19
    },
    {
     "cell_type": "markdown",
     "metadata": {},
     "source": [
      "## Comparison (nLLH for sampling decisions)"
     ]
    },
    {
     "cell_type": "code",
     "collapsed": false,
     "input": [
      "fitresults_nm_table = pd.read_csv('hau_natmean.csv')"
     ],
     "language": "python",
     "metadata": {},
     "outputs": [],
     "prompt_number": 37
    },
    {
     "cell_type": "code",
     "collapsed": false,
     "input": [
      "pd.DataFrame(np.transpose([fitresults_f_table['nllh_sampling'].values, \n",
      "                           fitresults_fp_table['nllh_sampling'].values,\n",
      "                           fitresults_nm_table['nllh_sampling'].values\n",
      "                           ]), columns=['fixed', 'fixed_per', 'natmean'])"
     ],
     "language": "python",
     "metadata": {},
     "outputs": [
      {
       "html": [
        "<div style=\"max-height:1000px;max-width:1500px;overflow:auto;\">\n",
        "<table border=\"1\" class=\"dataframe\">\n",
        "  <thead>\n",
        "    <tr style=\"text-align: right;\">\n",
        "      <th></th>\n",
        "      <th>fixed</th>\n",
        "      <th>fixed_per</th>\n",
        "      <th>natmean</th>\n",
        "    </tr>\n",
        "  </thead>\n",
        "  <tbody>\n",
        "    <tr>\n",
        "      <th>0 </th>\n",
        "      <td> 97.88495</td>\n",
        "      <td> 92.56602</td>\n",
        "      <td> 477.9718</td>\n",
        "    </tr>\n",
        "    <tr>\n",
        "      <th>1 </th>\n",
        "      <td>  11.1889</td>\n",
        "      <td> 12.12865</td>\n",
        "      <td> 13.53097</td>\n",
        "    </tr>\n",
        "    <tr>\n",
        "      <th>2 </th>\n",
        "      <td> 35.25124</td>\n",
        "      <td> 53.70803</td>\n",
        "      <td> 37.24529</td>\n",
        "    </tr>\n",
        "    <tr>\n",
        "      <th>3 </th>\n",
        "      <td> 27.49754</td>\n",
        "      <td> 25.60924</td>\n",
        "      <td> 31.15213</td>\n",
        "    </tr>\n",
        "    <tr>\n",
        "      <th>4 </th>\n",
        "      <td> 31.38026</td>\n",
        "      <td> 28.09971</td>\n",
        "      <td> 337.3406</td>\n",
        "    </tr>\n",
        "    <tr>\n",
        "      <th>5 </th>\n",
        "      <td> 8.318084</td>\n",
        "      <td> 12.23848</td>\n",
        "      <td> 16.17873</td>\n",
        "    </tr>\n",
        "    <tr>\n",
        "      <th>6 </th>\n",
        "      <td> 56.14758</td>\n",
        "      <td> 50.67276</td>\n",
        "      <td> 58.84434</td>\n",
        "    </tr>\n",
        "    <tr>\n",
        "      <th>7 </th>\n",
        "      <td> 25.05432</td>\n",
        "      <td> 60.56394</td>\n",
        "      <td> 430.1372</td>\n",
        "    </tr>\n",
        "    <tr>\n",
        "      <th>8 </th>\n",
        "      <td>  27.8321</td>\n",
        "      <td> 26.93753</td>\n",
        "      <td> 28.17131</td>\n",
        "    </tr>\n",
        "    <tr>\n",
        "      <th>9 </th>\n",
        "      <td> 15.20648</td>\n",
        "      <td> 19.40032</td>\n",
        "      <td> 19.58545</td>\n",
        "    </tr>\n",
        "    <tr>\n",
        "      <th>10</th>\n",
        "      <td> 77.47885</td>\n",
        "      <td>   81.736</td>\n",
        "      <td> 107.7738</td>\n",
        "    </tr>\n",
        "    <tr>\n",
        "      <th>11</th>\n",
        "      <td> 49.10603</td>\n",
        "      <td>  50.5806</td>\n",
        "      <td> 76.74431</td>\n",
        "    </tr>\n",
        "    <tr>\n",
        "      <th>12</th>\n",
        "      <td>  30.4092</td>\n",
        "      <td> 30.05968</td>\n",
        "      <td>  35.8401</td>\n",
        "    </tr>\n",
        "    <tr>\n",
        "      <th>13</th>\n",
        "      <td> 80.51278</td>\n",
        "      <td> 80.92881</td>\n",
        "      <td> 84.81853</td>\n",
        "    </tr>\n",
        "    <tr>\n",
        "      <th>14</th>\n",
        "      <td> 45.16453</td>\n",
        "      <td> 44.10904</td>\n",
        "      <td> 183.7784</td>\n",
        "    </tr>\n",
        "    <tr>\n",
        "      <th>15</th>\n",
        "      <td> 69.16016</td>\n",
        "      <td>  72.3514</td>\n",
        "      <td>  70.6733</td>\n",
        "    </tr>\n",
        "    <tr>\n",
        "      <th>16</th>\n",
        "      <td> 38.01957</td>\n",
        "      <td> 33.83535</td>\n",
        "      <td> 41.60778</td>\n",
        "    </tr>\n",
        "    <tr>\n",
        "      <th>17</th>\n",
        "      <td>  41.6774</td>\n",
        "      <td> 34.11765</td>\n",
        "      <td> 44.73582</td>\n",
        "    </tr>\n",
        "    <tr>\n",
        "      <th>18</th>\n",
        "      <td> 53.80082</td>\n",
        "      <td> 53.54827</td>\n",
        "      <td> 56.83546</td>\n",
        "    </tr>\n",
        "    <tr>\n",
        "      <th>19</th>\n",
        "      <td> 48.85643</td>\n",
        "      <td>  45.8373</td>\n",
        "      <td> 57.22723</td>\n",
        "    </tr>\n",
        "    <tr>\n",
        "      <th>20</th>\n",
        "      <td> 59.95577</td>\n",
        "      <td> 58.24562</td>\n",
        "      <td> 63.58513</td>\n",
        "    </tr>\n",
        "    <tr>\n",
        "      <th>21</th>\n",
        "      <td>  42.3479</td>\n",
        "      <td>  34.7028</td>\n",
        "      <td> 45.48857</td>\n",
        "    </tr>\n",
        "    <tr>\n",
        "      <th>22</th>\n",
        "      <td> 53.34966</td>\n",
        "      <td> 53.91859</td>\n",
        "      <td> 56.04849</td>\n",
        "    </tr>\n",
        "    <tr>\n",
        "      <th>23</th>\n",
        "      <td> 2.772634</td>\n",
        "      <td>  2.77268</td>\n",
        "      <td> 2.079452</td>\n",
        "    </tr>\n",
        "    <tr>\n",
        "      <th>24</th>\n",
        "      <td> 8.318039</td>\n",
        "      <td> 8.318583</td>\n",
        "      <td> 16.00371</td>\n",
        "    </tr>\n",
        "    <tr>\n",
        "      <th>25</th>\n",
        "      <td> 52.47118</td>\n",
        "      <td> 54.70562</td>\n",
        "      <td>  1471.27</td>\n",
        "    </tr>\n",
        "    <tr>\n",
        "      <th>26</th>\n",
        "      <td> 66.46903</td>\n",
        "      <td> 67.98014</td>\n",
        "      <td> 91.87071</td>\n",
        "    </tr>\n",
        "    <tr>\n",
        "      <th>27</th>\n",
        "      <td> 78.57678</td>\n",
        "      <td> 82.92518</td>\n",
        "      <td>  81.4911</td>\n",
        "    </tr>\n",
        "    <tr>\n",
        "      <th>28</th>\n",
        "      <td> 57.95647</td>\n",
        "      <td> 49.80059</td>\n",
        "      <td> 53.94102</td>\n",
        "    </tr>\n",
        "    <tr>\n",
        "      <th>29</th>\n",
        "      <td> 46.57712</td>\n",
        "      <td>  39.5877</td>\n",
        "      <td> 42.18141</td>\n",
        "    </tr>\n",
        "    <tr>\n",
        "      <th>30</th>\n",
        "      <td>  54.7822</td>\n",
        "      <td> 55.10015</td>\n",
        "      <td> 56.97861</td>\n",
        "    </tr>\n",
        "    <tr>\n",
        "      <th>31</th>\n",
        "      <td> 24.99657</td>\n",
        "      <td> 51.05737</td>\n",
        "      <td> 27.73805</td>\n",
        "    </tr>\n",
        "    <tr>\n",
        "      <th>32</th>\n",
        "      <td> 72.19391</td>\n",
        "      <td> 75.47885</td>\n",
        "      <td> 89.24246</td>\n",
        "    </tr>\n",
        "    <tr>\n",
        "      <th>33</th>\n",
        "      <td> 15.86585</td>\n",
        "      <td> 16.47114</td>\n",
        "      <td> 11.16472</td>\n",
        "    </tr>\n",
        "    <tr>\n",
        "      <th>34</th>\n",
        "      <td> 51.22765</td>\n",
        "      <td> 51.17859</td>\n",
        "      <td> 49.48299</td>\n",
        "    </tr>\n",
        "    <tr>\n",
        "      <th>35</th>\n",
        "      <td>  53.3194</td>\n",
        "      <td> 49.70536</td>\n",
        "      <td> 59.33147</td>\n",
        "    </tr>\n",
        "    <tr>\n",
        "      <th>36</th>\n",
        "      <td>  16.7778</td>\n",
        "      <td> 26.39467</td>\n",
        "      <td>  97.5994</td>\n",
        "    </tr>\n",
        "    <tr>\n",
        "      <th>37</th>\n",
        "      <td> 61.83014</td>\n",
        "      <td> 97.89207</td>\n",
        "      <td> 69.65184</td>\n",
        "    </tr>\n",
        "    <tr>\n",
        "      <th>38</th>\n",
        "      <td> 54.81308</td>\n",
        "      <td>  55.5404</td>\n",
        "      <td> 55.26546</td>\n",
        "    </tr>\n",
        "    <tr>\n",
        "      <th>39</th>\n",
        "      <td> 8.318039</td>\n",
        "      <td> 8.318583</td>\n",
        "      <td> 15.55348</td>\n",
        "    </tr>\n",
        "    <tr>\n",
        "      <th>40</th>\n",
        "      <td> 24.18238</td>\n",
        "      <td> 27.23313</td>\n",
        "      <td> 27.91757</td>\n",
        "    </tr>\n",
        "    <tr>\n",
        "      <th>41</th>\n",
        "      <td> 49.19384</td>\n",
        "      <td>  49.0989</td>\n",
        "      <td> 48.80521</td>\n",
        "    </tr>\n",
        "  </tbody>\n",
        "</table>\n",
        "</div>"
       ],
       "metadata": {},
       "output_type": "pyout",
       "prompt_number": 40,
       "text": [
        "       fixed fixed_per   natmean\n",
        "0   97.88495  92.56602  477.9718\n",
        "1    11.1889  12.12865  13.53097\n",
        "2   35.25124  53.70803  37.24529\n",
        "3   27.49754  25.60924  31.15213\n",
        "4   31.38026  28.09971  337.3406\n",
        "5   8.318084  12.23848  16.17873\n",
        "6   56.14758  50.67276  58.84434\n",
        "7   25.05432  60.56394  430.1372\n",
        "8    27.8321  26.93753  28.17131\n",
        "9   15.20648  19.40032  19.58545\n",
        "10  77.47885    81.736  107.7738\n",
        "11  49.10603   50.5806  76.74431\n",
        "12   30.4092  30.05968   35.8401\n",
        "13  80.51278  80.92881  84.81853\n",
        "14  45.16453  44.10904  183.7784\n",
        "15  69.16016   72.3514   70.6733\n",
        "16  38.01957  33.83535  41.60778\n",
        "17   41.6774  34.11765  44.73582\n",
        "18  53.80082  53.54827  56.83546\n",
        "19  48.85643   45.8373  57.22723\n",
        "20  59.95577  58.24562  63.58513\n",
        "21   42.3479   34.7028  45.48857\n",
        "22  53.34966  53.91859  56.04849\n",
        "23  2.772634   2.77268  2.079452\n",
        "24  8.318039  8.318583  16.00371\n",
        "25  52.47118  54.70562   1471.27\n",
        "26  66.46903  67.98014  91.87071\n",
        "27  78.57678  82.92518   81.4911\n",
        "28  57.95647  49.80059  53.94102\n",
        "29  46.57712   39.5877  42.18141\n",
        "30   54.7822  55.10015  56.97861\n",
        "31  24.99657  51.05737  27.73805\n",
        "32  72.19391  75.47885  89.24246\n",
        "33  15.86585  16.47114  11.16472\n",
        "34  51.22765  51.17859  49.48299\n",
        "35   53.3194  49.70536  59.33147\n",
        "36   16.7778  26.39467   97.5994\n",
        "37  61.83014  97.89207  69.65184\n",
        "38  54.81308   55.5404  55.26546\n",
        "39  8.318039  8.318583  15.55348\n",
        "40  24.18238  27.23313  27.91757\n",
        "41  49.19384   49.0989  48.80521"
       ]
      }
     ],
     "prompt_number": 40
    },
    {
     "cell_type": "code",
     "collapsed": false,
     "input": [],
     "language": "python",
     "metadata": {},
     "outputs": []
    }
   ],
   "metadata": {}
  }
 ]
}