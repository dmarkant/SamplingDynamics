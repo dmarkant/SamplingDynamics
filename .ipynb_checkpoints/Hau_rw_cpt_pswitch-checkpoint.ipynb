{
 "metadata": {
  "name": "",
  "signature": "sha256:1ed367d35fde7bd8dcb8c537ffb410aa32e9b2d9ed4e1fceae19737b284a7f04"
 },
 "nbformat": 3,
 "nbformat_minor": 0,
 "worksheets": [
  {
   "cells": [
    {
     "cell_type": "code",
     "collapsed": false,
     "input": [
      "%matplotlib inline\n",
      "import matplotlib.pyplot as plt\n",
      "import numpy as np\n",
      "import pandas as pd\n",
      "from helpers import *\n",
      "from scipy.stats import norm, gamma, lognorm\n",
      "\n",
      "from mypy.explib.hau2008 import hau2008\n",
      "from model_rw_cpt_pswitch import model_rw_cpt_pswitch\n",
      "%load_ext autoreload\n",
      "%autoreload 2"
     ],
     "language": "python",
     "metadata": {},
     "outputs": [],
     "prompt_number": 1
    },
    {
     "cell_type": "code",
     "collapsed": false,
     "input": [
      "subjdata = hau2008.sampledata_by_subject(study=1)\n",
      "data = subjdata[7][0]"
     ],
     "language": "python",
     "metadata": {},
     "outputs": [],
     "prompt_number": 3
    },
    {
     "cell_type": "code",
     "collapsed": false,
     "input": [
      "result = model_rw_cpt_pswitch.run(pars={'options': data['options'],\n",
      "                               'data': data,\n",
      "                               'theta': 5,\n",
      "                               'delta': .2,\n",
      "                               'p_switch': .8,\n",
      "                               'prelec_gamma': .8,\n",
      "                               'prelec_elevation': .8,\n",
      "                               'z_temp': 1.})"
     ],
     "language": "python",
     "metadata": {},
     "outputs": [],
     "prompt_number": 100
    },
    {
     "cell_type": "code",
     "collapsed": false,
     "input": [
      "fig, ax = plt.subplots()\n",
      "ax.plot(result['T'], result['p_stop_t'][0])\n",
      "ax.plot(result['T'], result['p_stop_t'][1])\n",
      "plt.show()"
     ],
     "language": "python",
     "metadata": {},
     "outputs": [
      {
       "metadata": {},
       "output_type": "display_data",
       "png": "[encoded data removed]",
       "text": [
        "<matplotlib.figure.Figure at 0x109471110>"
       ]
      }
     ],
     "prompt_number": 101
    },
    {
     "cell_type": "code",
     "collapsed": false,
     "input": [
      "result"
     ],
     "language": "python",
     "metadata": {},
     "outputs": [
      {
       "metadata": {},
       "output_type": "pyout",
       "prompt_number": 102,
       "text": [
        "{'T': array([   1.,    2.,    3.,    4.,    5.,    6.,    7.,    8.,    9.,\n",
        "          10.,   11.,   12.,   13.,   14.,   15.,   16.,   17.,   18.,\n",
        "          19.,   20.,   21.,   22.,   23.,   24.,   25.,   26.,   27.,\n",
        "          28.,   29.,   30.,   31.,   32.,   33.,   34.,   35.,   36.,\n",
        "          37.,   38.,   39.,   40.,   41.,   42.,   43.,   44.,   45.,\n",
        "          46.,   47.,   48.,   49.,   50.,   51.,   52.,   53.,   54.,\n",
        "          55.,   56.,   57.,   58.,   59.,   60.,   61.,   62.,   63.,\n",
        "          64.,   65.,   66.,   67.,   68.,   69.,   70.,   71.,   72.,\n",
        "          73.,   74.,   75.,   76.,   77.,   78.,   79.,   80.,   81.,\n",
        "          82.,   83.,   84.,   85.,   86.,   87.,   88.,   89.,   90.,\n",
        "          91.,   92.,   93.,   94.,   95.,   96.,   97.,   98.,   99.,  100.]),\n",
        " 'p_stop_t': array([[ 0.0027543 ,  0.00289408,  0.00308361,  0.00328454,  0.00351822,\n",
        "          0.00377137,  0.00405062,  0.00434751,  0.00466384,  0.00499183,\n",
        "          0.00533159,  0.00567599,  0.0060245 ,  0.00637116,  0.00671527,\n",
        "          0.00705227,  0.00738154,  0.00769984,  0.00800673,  0.00830015,\n",
        "          0.00857986,  0.00884471,  0.00909466,  0.00932924,  0.0095486 ,\n",
        "          0.00975271,  0.00994187,  0.01011637,  0.0102766 ,  0.01042304,\n",
        "          0.01055616,  0.01067651,  0.01078461,  0.01088107,  0.01096639,\n",
        "          0.01104121,  0.01110601,  0.0111614 ,  0.01120787,  0.01124596,\n",
        "          0.01127616,  0.01129896,  0.01131479,  0.01132414,  0.01132738,\n",
        "          0.01132495,  0.01131719,  0.01130449,  0.01128717,  0.01126558,\n",
        "          0.01123998,  0.0112107 ,  0.01117797,  0.01114208,  0.01110324,\n",
        "          0.01106169,  0.01101763,  0.01097126,  0.01092278,  0.01087234,\n",
        "          0.01082012,  0.01076626,  0.01071092,  0.01065421,  0.01059627,\n",
        "          0.01053722,  0.01047716,  0.01041619,  0.01035441,  0.0102919 ,\n",
        "          0.01022876,  0.01016506,  0.01010086,  0.01003625,  0.00997127,\n",
        "          0.00990599,  0.00984046,  0.00977474,  0.00970886,  0.00964288,\n",
        "          0.00957684,  0.00951076,  0.0094447 ,  0.00937867,  0.00931271,\n",
        "          0.00924685,  0.00918112,  0.00911553,  0.00905012,  0.00898489,\n",
        "          0.00891987,  0.00885509,  0.00879054,  0.00872625,  0.00866224,\n",
        "          0.00859851,  0.00853507,  0.00847194,  0.00840913,  0.00834664],\n",
        "        [ 0.00258564,  0.00272644,  0.00291475,  0.00311531,  0.00334795,\n",
        "          0.00360061,  0.00387941,  0.00417637,  0.0044931 ,  0.00482202,\n",
        "          0.00516313,  0.00550937,  0.00586013,  0.00620947,  0.0065566 ,\n",
        "          0.00689697,  0.00722985,  0.00755204,  0.007863  ,  0.00816067,\n",
        "          0.00844473,  0.00871404,  0.00896852,  0.00920766,  0.00943159,\n",
        "          0.00964027,  0.00983398,  0.01001299,  0.01017768,  0.01032852,\n",
        "          0.01046595,  0.01059054,  0.01070279,  0.0108033 ,  0.01089259,\n",
        "          0.01097126,  0.01103982,  0.01109886,  0.01114887,  0.01119042,\n",
        "          0.01122394,  0.01124998,  0.01126895,  0.01128132,  0.01128749,\n",
        "          0.01128789,  0.01128286,  0.01127281,  0.01125804,  0.01123889,\n",
        "          0.01121567,  0.01118867,  0.01115815,  0.01112437,  0.01108758,\n",
        "          0.01104799,  0.01100583,  0.01096128,  0.01091455,  0.0108658 ,\n",
        "          0.0108152 ,  0.0107629 ,  0.01070905,  0.01065378,  0.01059723,\n",
        "          0.0105395 ,  0.01048071,  0.01042096,  0.01036035,  0.01029898,\n",
        "          0.01023692,  0.01017425,  0.01011104,  0.01004738,  0.00998331,\n",
        "          0.0099189 ,  0.00985421,  0.00978928,  0.00972417,  0.00965892,\n",
        "          0.00959357,  0.00952816,  0.00946273,  0.00939731,  0.00933193,\n",
        "          0.00926662,  0.00920141,  0.00913632,  0.00907138,  0.00900661,\n",
        "          0.00894202,  0.00887764,  0.00881348,  0.00874956,  0.00868589,\n",
        "          0.00862248,  0.00855936,  0.00849652,  0.00843398,  0.00837175]]),\n",
        " 'p_stop_t_cump': None,\n",
        " 'p_tsteps': None,\n",
        " 'resp_prob': 0.47995996571477312,\n",
        " 'resp_prob_t': array([[ 0.0006518 ,  0.0007059 ,  0.0007404 ,  0.00079608,  0.00084848,\n",
        "          0.00091239,  0.0009783 ,  0.00105077,  0.00112678,  0.0012055 ,\n",
        "          0.00128781,  0.00136962,  0.00145441,  0.00153621,  0.00162011,\n",
        "          0.0016993 ,  0.00177964,  0.00185424,  0.00192911,  0.00199777,\n",
        "          0.00206596,  0.00212788,  0.00218875,  0.00224357,  0.00229693,\n",
        "          0.00234462,  0.00239057,  0.00243133,  0.0024702 ,  0.00250439,\n",
        "          0.00253665,  0.00256473,  0.00259088,  0.00261336,  0.00263398,\n",
        "          0.00265137,  0.00266701,  0.00267984,  0.00269104,  0.00269979,\n",
        "          0.00270706,  0.00271221,  0.00271601,  0.00271798,  0.00271875,\n",
        "          0.00271794,  0.00271606,  0.00271283,  0.00270864,  0.00270331,\n",
        "          0.00269714,  0.00268998,  0.0026821 ,  0.00267338,  0.00266403,\n",
        "          0.00265397,  0.00264337,  0.00263217,  0.00262051,  0.00260834,\n",
        "          0.00259579,  0.00258281,  0.00256951,  0.00255586,  0.00254194,\n",
        "          0.00252774,  0.00251331,  0.00249865,  0.00248381,  0.00246879,\n",
        "          0.00245362,  0.00243832,  0.00242291,  0.00240739,  0.00239179,\n",
        "          0.00237611,  0.00236038,  0.0023446 ,  0.00232879,  0.00231295,\n",
        "          0.0022971 ,  0.00228124,  0.00226538,  0.00224954,  0.00223371,\n",
        "          0.0022179 ,  0.00220213,  0.00218639,  0.00217069,  0.00215504,\n",
        "          0.00213944,  0.0021239 ,  0.00210841,  0.00209299,  0.00207763,\n",
        "          0.00206234,  0.00204712,  0.00203198,  0.00201691,  0.00200192],\n",
        "        [ 0.0006633 ,  0.00072044,  0.00075853,  0.00081809,  0.00087499,\n",
        "          0.00094383,  0.00101529,  0.00109371,  0.00117624,  0.00126173,\n",
        "          0.0013513 ,  0.00144041,  0.00153288,  0.00162223,  0.00171392,\n",
        "          0.00180063,  0.0018886 ,  0.00197048,  0.00205264,  0.00212819,\n",
        "          0.00220318,  0.00227148,  0.00233859,  0.00239922,  0.0024582 ,\n",
        "          0.00251111,  0.00256206,  0.00260743,  0.00265069,  0.00268892,\n",
        "          0.00272497,  0.00275652,  0.00278593,  0.00281136,  0.00283473,\n",
        "          0.00285459,  0.00287251,  0.00288737,  0.00290042,  0.00291082,\n",
        "          0.00291955,  0.00292599,  0.00293091,  0.00293385,  0.00293544,\n",
        "          0.00293531,  0.00293397,  0.00293117,  0.00292729,  0.00292215,\n",
        "          0.00291608,  0.00290893,  0.00290095,  0.00289206,  0.00288246,\n",
        "          0.00287208,  0.00286108,  0.00284942,  0.00283724,  0.0028245 ,\n",
        "          0.00281132,  0.00279767,  0.00278364,  0.00276923,  0.0027545 ,\n",
        "          0.00273945,  0.00272415,  0.00270859,  0.00269281,  0.00267683,\n",
        "          0.00266068,  0.00264437,  0.00262792,  0.00261135,  0.00259469,\n",
        "          0.00257793,  0.0025611 ,  0.00254421,  0.00252728,  0.0025103 ,\n",
        "          0.00249331,  0.0024763 ,  0.00245928,  0.00244227,  0.00242527,\n",
        "          0.00240829,  0.00239133,  0.00237441,  0.00235753,  0.00234068,\n",
        "          0.00232389,  0.00230716,  0.00229048,  0.00227386,  0.00225731,\n",
        "          0.00224083,  0.00222442,  0.00220808,  0.00219183,  0.00217565]]),\n",
        " 'states_t': array([[ 0.00427409,  0.01161819,  0.03158151, ...,  0.03158151,\n",
        "          0.01161819,  0.00427409],\n",
        "        [ 0.00416783,  0.01178407,  0.03203243, ...,  0.03213228,\n",
        "          0.01182081,  0.00418346],\n",
        "        [ 0.00462115,  0.01319286,  0.0359103 , ...,  0.03611316,\n",
        "          0.01326794,  0.00465202],\n",
        "        ..., \n",
        "        [ 0.01272996,  0.02473771,  0.0345851 , ...,  0.0357549 ,\n",
        "          0.02600129,  0.01360719],\n",
        "        [ 0.01263563,  0.02455164,  0.03432023, ...,  0.03548225,\n",
        "          0.02580691,  0.01350709],\n",
        "        [ 0.01254178,  0.02436672,  0.03405731, ...,  0.03521157,\n",
        "          0.02561367,  0.01340748]])}"
       ]
      }
     ],
     "prompt_number": 102
    },
    {
     "cell_type": "code",
     "collapsed": false,
     "input": [
      "data = {'choice': 1, \n",
      "        'gid': 4, \n",
      "        'options': [np.array([[-4. ,  0.8], [ 0. ,  0.2]]), np.array([[-3.,  1.], [ 0.,  0.]])], \n",
      "        'outcomes': np.array([-3, -3, -4, -3, -3,  0, -4, -3, -3]), \n",
      "        'samples': np.array([0, 0, 1, 0, 0, 1, 1, 0, 0]), \n",
      "        'sid': 7}"
     ],
     "language": "python",
     "metadata": {},
     "outputs": [],
     "prompt_number": 6
    },
    {
     "cell_type": "code",
     "collapsed": false,
     "input": [],
     "language": "python",
     "metadata": {},
     "outputs": []
    }
   ],
   "metadata": {}
  }
 ]
}