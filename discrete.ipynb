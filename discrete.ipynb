{
 "metadata": {
  "name": "",
  "signature": "sha256:d421e7f6d3d4b2b50ebe6a6f3baa31356edb5c8a724d43281e369170e1fc7b35"
 },
 "nbformat": 3,
 "nbformat_minor": 0,
 "worksheets": [
  {
   "cells": [
    {
     "cell_type": "code",
     "collapsed": false,
     "input": [
      "import numpy as np\n",
      "from scipy import linalg"
     ],
     "language": "python",
     "metadata": {},
     "outputs": [],
     "prompt_number": 19
    },
    {
     "cell_type": "code",
     "collapsed": false,
     "input": [
      "def transition_probs(delta, sigma, tau):\n",
      "    p_down = .5 * (1 - (delta/sigma) * np.sqrt(tau))\n",
      "    p_up = .5 * (1 + (delta/sigma) * np.sqrt(tau))\n",
      "    p_stay = 1 - p_down - p_up\n",
      "    return [p_down, p_stay, p_up]"
     ],
     "language": "python",
     "metadata": {},
     "outputs": [],
     "prompt_number": 76
    },
    {
     "cell_type": "code",
     "collapsed": false,
     "input": [
      "# free parameters\n",
      "theta = 4   # criterion\n",
      "dv = 1      # step size between states\n",
      "delta = 0.2  # drift parameter\n",
      "sigma = 2.  # diffusion parameter\n",
      "\n",
      "tau = (dv**2)/(sigma**2)\n",
      "\n",
      "# state space\n",
      "V = np.arange(-theta, theta+dv, dv)\n",
      "vi = range(len(V))\n",
      "m = len(V)\n",
      "\n",
      "# starting position, not including absorbing states!\n",
      "Z = np.zeros(len(V) - 2)\n",
      "Z[len(Z)/2] = 1.\n",
      "\n",
      "# transition probabilities based on drift\n",
      "# and diffusion parameters\n",
      "tr_p = transition_probs(delta, sigma, tau)\n",
      "\n",
      "# construct the transition probability matrix\n",
      "tm = np.zeros((m, m), float)\n",
      "tm[0,0] = 1.\n",
      "tm[m-1,m-1] = 1.\n",
      "for i in range(1, m - 1):\n",
      "    tm[i, (i-1):(i+2)] = [p_down, 1 - (p_up + p_down), p_up]\n",
      "\n",
      "# reorganize matrix to PQR form\n",
      "tm_pqr = np.zeros((m, m), float)\n",
      "tm_pqr[0,0] = 1.\n",
      "tm_pqr[1,1] = 1.\n",
      "vi_pqr = []\n",
      "start = np.array([[0, m - 1], range(1, m - 1)])\n",
      "for outer in start:\n",
      "    for inner in outer:\n",
      "        vi_pqr.append(inner)\n",
      "vi_pqr = np.array(vi_pqr)\n",
      "V_pqr = V[vi_pqr]\n",
      "for i in range(1, m - 1):\n",
      "    row = np.where(V_pqr==V[i])[0][0]\n",
      "    ind_pqr = np.array([np.where(V_pqr==V[i-1])[0][0], np.where(V_pqr==V[i])[0][0], np.where(V_pqr==V[i+1])[0][0]])\n",
      "    tm_pqr[row, ind_pqr] = tr_p\n",
      "\n",
      "Q = tm_pqr[2:,2:]\n",
      "R = np.matrix(tm_pqr[2:,:2])\n",
      "I = np.eye(m - 2)"
     ],
     "language": "python",
     "metadata": {},
     "outputs": [],
     "prompt_number": 77
    },
    {
     "cell_type": "code",
     "collapsed": false,
     "input": [
      "tm_pqr"
     ],
     "language": "python",
     "metadata": {},
     "outputs": [
      {
       "metadata": {},
       "output_type": "pyout",
       "prompt_number": 78,
       "text": [
        "array([[ 1.   ,  0.   ,  0.   ,  0.   ,  0.   ,  0.   ,  0.   ,  0.   ,  0.   ],\n",
        "       [ 0.   ,  1.   ,  0.   ,  0.   ,  0.   ,  0.   ,  0.   ,  0.   ,  0.   ],\n",
        "       [ 0.475,  0.   ,  0.   ,  0.525,  0.   ,  0.   ,  0.   ,  0.   ,  0.   ],\n",
        "       [ 0.   ,  0.   ,  0.475,  0.   ,  0.525,  0.   ,  0.   ,  0.   ,  0.   ],\n",
        "       [ 0.   ,  0.   ,  0.   ,  0.475,  0.   ,  0.525,  0.   ,  0.   ,  0.   ],\n",
        "       [ 0.   ,  0.   ,  0.   ,  0.   ,  0.475,  0.   ,  0.525,  0.   ,  0.   ],\n",
        "       [ 0.   ,  0.   ,  0.   ,  0.   ,  0.   ,  0.475,  0.   ,  0.525,  0.   ],\n",
        "       [ 0.   ,  0.   ,  0.   ,  0.   ,  0.   ,  0.   ,  0.475,  0.   ,\n",
        "         0.525],\n",
        "       [ 0.   ,  0.525,  0.   ,  0.   ,  0.   ,  0.   ,  0.   ,  0.475,  0.   ]])"
       ]
      }
     ],
     "prompt_number": 78
    },
    {
     "cell_type": "code",
     "collapsed": false,
     "input": [
      "IQ = np.matrix(linalg.inv(I - Q))\n",
      "resp_prob = np.matrix(Z) * (IQ * R)\n",
      "dt = (np.matrix(Z) * (IQ * IQ) * R) / resp_prob\n",
      "\n",
      "print 'response prob:', resp_prob\n",
      "print 'decision time:', dt"
     ],
     "language": "python",
     "metadata": {},
     "outputs": [
      {
       "output_type": "stream",
       "stream": "stdout",
       "text": [
        "response prob: [[ 0.40123214  0.59876786]]\n",
        "decision time: [[ 15.80285836  15.80285836]]\n"
       ]
      }
     ],
     "prompt_number": 79
    },
    {
     "cell_type": "code",
     "collapsed": false,
     "input": [],
     "language": "python",
     "metadata": {},
     "outputs": []
    }
   ],
   "metadata": {}
  }
 ]
}