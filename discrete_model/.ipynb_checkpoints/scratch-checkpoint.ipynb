{
 "metadata": {
  "name": "",
  "signature": "sha256:cd5f4468a1ef597542fea89d848e7459aa2c7bd53ac7374afae912f97de53350"
 },
 "nbformat": 3,
 "nbformat_minor": 0,
 "worksheets": [
  {
   "cells": [
    {
     "cell_type": "code",
     "collapsed": false,
     "input": [
      "from scipy.stats import binom, bernoulli\n",
      "%matplotlib inline\n",
      "import matplotlib.pylab as plt\n",
      "import numpy as np"
     ],
     "language": "python",
     "metadata": {},
     "outputs": [],
     "prompt_number": 36
    },
    {
     "cell_type": "code",
     "collapsed": false,
     "input": [
      "true_p = .1\n",
      "N = 1 # sample size\n",
      "plt.plot(range(N+1), [binom.pmf(x, N, true_p) for x in range(N+1)])"
     ],
     "language": "python",
     "metadata": {},
     "outputs": [
      {
       "metadata": {},
       "output_type": "pyout",
       "prompt_number": 26,
       "text": [
        "[<matplotlib.lines.Line2D at 0x10756aa50>]"
       ]
      },
      {
       "metadata": {},
       "output_type": "display_data",
       "png": "[encoded data removed]",
       "text": [
        "<matplotlib.figure.Figure at 0x106460050>"
       ]
      }
     ],
     "prompt_number": 26
    },
    {
     "cell_type": "code",
     "collapsed": false,
     "input": [
      "binom.pmf(x, N, true_p) * (x/float(N))"
     ],
     "language": "python",
     "metadata": {},
     "outputs": [
      {
       "metadata": {},
       "output_type": "pyout",
       "prompt_number": 24,
       "text": [
        "0.29999999999999999"
       ]
      }
     ],
     "prompt_number": 24
    },
    {
     "cell_type": "code",
     "collapsed": false,
     "input": [
      "# what is the observed frequency for sample size N?\n",
      "[binom.pmf(x, N, true_p) * (true_p - (x/float(N))) for x in range(N+1)]"
     ],
     "language": "python",
     "metadata": {},
     "outputs": [
      {
       "metadata": {},
       "output_type": "pyout",
       "prompt_number": 27,
       "text": [
        "[0.090000000000000011, -0.090000000000000024]"
       ]
      }
     ],
     "prompt_number": 27
    },
    {
     "cell_type": "code",
     "collapsed": false,
     "input": [
      "# the prob of seeing zero times out of a single observation\n",
      "true_p = 0.2\n",
      "print binom.pmf(0, 1, true_p)\n",
      "\n",
      "# the deviation of the observed sample frequency from the true probability\n",
      "print 0 - true_p\n",
      "\n",
      "# weighted by the probability of it occurring\n",
      "print binom.pmf(0, 1, true_p) * (0 - true_p)"
     ],
     "language": "python",
     "metadata": {},
     "outputs": [
      {
       "output_type": "stream",
       "stream": "stdout",
       "text": [
        "0.8\n",
        "-0.2\n",
        "-0.16\n"
       ]
      }
     ],
     "prompt_number": 34
    },
    {
     "cell_type": "code",
     "collapsed": false,
     "input": [
      "print binom.pmf(1, 1, true_p)\n",
      "\n",
      "# the deviation of the observed sample frequency from the true probability\n",
      "print 1 - true_p\n",
      "\n",
      "# weighted by the probability of it occurring\n",
      "print binom.pmf(1, 1, true_p) * (1 - true_p)\n"
     ],
     "language": "python",
     "metadata": {},
     "outputs": [
      {
       "output_type": "stream",
       "stream": "stdout",
       "text": [
        "0.2\n",
        "0.8\n",
        "0.16\n"
       ]
      }
     ],
     "prompt_number": 35
    },
    {
     "cell_type": "code",
     "collapsed": false,
     "input": [],
     "language": "python",
     "metadata": {},
     "outputs": []
    },
    {
     "cell_type": "code",
     "collapsed": false,
     "input": [
      "bernoulli.rvs(.2, size=10)"
     ],
     "language": "python",
     "metadata": {},
     "outputs": [
      {
       "metadata": {},
       "output_type": "pyout",
       "prompt_number": 42,
       "text": [
        "array([1, 1, 0, 0, 0, 0, 0, 0, 0, 1])"
       ]
      }
     ],
     "prompt_number": 42
    },
    {
     "cell_type": "code",
     "collapsed": false,
     "input": [
      "true_p = .1\n",
      "N = 10 # number of participants\n",
      "ss = 1. # sample size\n",
      "it = 100\n",
      "mns = [np.mean(binom.rvs(ss, true_p, size=N) / ss) for _ in range(it)]"
     ],
     "language": "python",
     "metadata": {},
     "outputs": [],
     "prompt_number": 62
    },
    {
     "cell_type": "code",
     "collapsed": false,
     "input": [
      "np.mean(mns)"
     ],
     "language": "python",
     "metadata": {},
     "outputs": [
      {
       "metadata": {},
       "output_type": "pyout",
       "prompt_number": 63,
       "text": [
        "0.10199999999999991"
       ]
      }
     ],
     "prompt_number": 63
    },
    {
     "cell_type": "code",
     "collapsed": false,
     "input": [
      "plt.hist(mns)"
     ],
     "language": "python",
     "metadata": {},
     "outputs": [
      {
       "metadata": {},
       "output_type": "pyout",
       "prompt_number": 64,
       "text": [
        "(array([ 29.,   0.,  50.,   0.,   0.,  15.,   0.,   2.,   0.,   4.]),\n",
        " array([ 0.  ,  0.04,  0.08,  0.12,  0.16,  0.2 ,  0.24,  0.28,  0.32,\n",
        "         0.36,  0.4 ]),\n",
        " <a list of 10 Patch objects>)"
       ]
      },
      {
       "metadata": {},
       "output_type": "display_data",
       "png": "[encoded data removed]",
       "text": [
        "<matplotlib.figure.Figure at 0x107253390>"
       ]
      }
     ],
     "prompt_number": 64
    },
    {
     "cell_type": "code",
     "collapsed": false,
     "input": [
      "%matplotlib inline\n",
      "import matplotlib.pylab as plt\n",
      "import numpy as np\n",
      "from scipy import linalg\n",
      "from numpy.linalg import matrix_power\n",
      "import pandas as pd\n",
      "from scipy.optimize import minimize\n",
      "\n",
      "from model import *\n",
      "from helpers import add_problem_labels, plot_model, bic\n",
      "from fitting import *\n",
      "%load_ext autoreload\n",
      "%autoreload 2\n",
      "\n",
      "FIGDEST = '/Users/doug/code/SamplingDynamics/doc/'"
     ],
     "language": "python",
     "metadata": {},
     "outputs": [],
     "prompt_number": 1
    },
    {
     "cell_type": "code",
     "collapsed": false,
     "input": [
      "theta = 5\n",
      "results = run(pars = {'theta': theta,\n",
      "                     'delta': .5,\n",
      "                     'z_temp': 3})"
     ],
     "language": "python",
     "metadata": {},
     "outputs": [],
     "prompt_number": 22
    },
    {
     "cell_type": "code",
     "collapsed": false,
     "input": [
      "from matplotlib import gridspec\n",
      "ymax = np.max(results['resp_prob_t']) + .01\n",
      "\n",
      "fig = plt.figure(figsize=(4, 6))\n",
      "gs = gridspec.GridSpec(2, 1, height_ratios=[1,1])\n",
      "gs.update(hspace=0.05) \n",
      "ax_top = plt.subplot(gs[0,0])\n",
      "ax_mid = plt.subplot(gs[1,0], sharex=ax_top)\n",
      "#ax_bot = plt.subplot(gs[2,0], sharex=ax_top)\n",
      "\n",
      "ax_mid.plot(results['resp_prob_t'][:,0], label='L')\n",
      "ax_mid.plot(results['resp_prob_t'][:,1], label='H')\n",
      "ax_mid.set_ylabel('response prob')\n",
      "#ax_mid.get_xaxis().set_visible(False)\n",
      "ax_mid.set_ylim(0, ymax) \n",
      "ax_mid.set_xlabel('sample index')\n",
      "ax_mid.legend()\n",
      "\n",
      "ax_top.imshow(results['states_t'].transpose())\n",
      "ax_top.set_axis_bgcolor('white')\n",
      "ax_top.grid(False)\n",
      "ax_top.get_xaxis().set_visible(False)\n",
      "ax_top.set_ylim(0, theta*2-2)\n",
      "\n",
      "\n",
      "#ax_bot.plot(results['resp_prob_t'][:,1], label='B')\n",
      "#ax_bot.set_ylabel('response prob')\n",
      "#ax_bot.set_xlabel('time')\n",
      "#ax_bot.set_ylim(0, ymax) \n",
      "\n",
      "ax_top.set_xlim(0, 50)\n",
      "ax_mid.set_xlim(0, 50)\n",
      "#ax_bot.set_xlim(0, 100)"
     ],
     "language": "python",
     "metadata": {},
     "outputs": [
      {
       "metadata": {},
       "output_type": "pyout",
       "prompt_number": 23,
       "text": [
        "(0, 50)"
       ]
      },
      {
       "metadata": {},
       "output_type": "display_data",
       "png": "[encoded data removed]",
       "text": [
        "<matplotlib.figure.Figure at 0x1089e52d0>"
       ]
      }
     ],
     "prompt_number": 23
    },
    {
     "cell_type": "code",
     "collapsed": false,
     "input": [
      "fig.savefig(FIGDEST+'model_example_th5_hightemp.pdf')"
     ],
     "language": "python",
     "metadata": {},
     "outputs": [],
     "prompt_number": 24
    },
    {
     "cell_type": "markdown",
     "metadata": {},
     "source": [
      "$\\alpha_{pr}$\n",
      "$\\beta_{pr}$"
     ]
    },
    {
     "cell_type": "code",
     "collapsed": false,
     "input": [
      "from model_cpt import pweight_prelec, util"
     ],
     "language": "python",
     "metadata": {},
     "outputs": [],
     "prompt_number": 54
    },
    {
     "cell_type": "code",
     "collapsed": false,
     "input": [
      "plt.rc('text', usetex=True)\n",
      "plt.rc('font', family='serif')"
     ],
     "language": "python",
     "metadata": {},
     "outputs": [],
     "prompt_number": 35
    },
    {
     "cell_type": "code",
     "collapsed": false,
     "input": [
      "ps = np.arange(0, 1, .01)\n",
      "fig, ax = plt.subplots(figsize=(4,4))\n",
      "\n",
      "ax.plot(ps, ps, '--')\n",
      "ax.plot(ps, [pweight_prelec(p, 1, .5) for p in ps], label=r'${\\delta}_{pr}=1, \\gamma_{pr}=.5$')\n",
      "ax.plot(ps, [pweight_prelec(p, 1, 1.5) for p in ps], label=r'${\\delta}_{pr}=1, \\gamma_{pr}=1.5$')\n",
      "ax.plot(ps, [pweight_prelec(p, 1.5, 1.5) for p in ps], label=r'${\\delta}_{pr}=1.5, \\gamma_{pr}=1.5$')\n",
      "\n",
      "ax.set_aspect(1)\n",
      "ax.set_xlabel('true')\n",
      "ax.set_ylabel('weighted')\n",
      "ax.set_title('Probability weighting fcn')\n",
      "ax.legend(loc='lower right')\n",
      "plt.show()"
     ],
     "language": "python",
     "metadata": {},
     "outputs": [
      {
       "metadata": {},
       "output_type": "display_data",
       "png": "[encoded data removed]",
       "text": [
        "<matplotlib.figure.Figure at 0x1083d3810>"
       ]
      }
     ],
     "prompt_number": 50
    },
    {
     "cell_type": "code",
     "collapsed": false,
     "input": [
      "fig.savefig(FIGDEST+'prelec.pdf')"
     ],
     "language": "python",
     "metadata": {},
     "outputs": [],
     "prompt_number": 51
    },
    {
     "cell_type": "code",
     "collapsed": false,
     "input": [
      "xs = np.arange(-30, 30, .05)\n",
      "fig, ax = plt.subplots()\n",
      "ax.plot(xs, xs, '--')\n",
      "ax.plot(xs, [util(x, 1, 1, 1) for x in xs], label=r'$\\alpha=\\beta=1$')\n",
      "ax.plot(xs, [util(x, .8, .8, 1) for x in xs], label=r'$\\alpha=\\beta=.5$')\n",
      "ax.set_aspect(1)\n",
      "ax.set_xlabel('true')\n",
      "ax.set_ylabel('weighted')\n",
      "ax.set_title('Value weighting fcn')\n",
      "\n",
      "ax.legend(loc='lower right')\n",
      "plt.show()"
     ],
     "language": "python",
     "metadata": {},
     "outputs": [
      {
       "metadata": {},
       "output_type": "display_data",
       "png": "[encoded data removed]",
       "text": [
        "<matplotlib.figure.Figure at 0x10a24b7d0>"
       ]
      }
     ],
     "prompt_number": 65
    },
    {
     "cell_type": "code",
     "collapsed": false,
     "input": [
      "fig.savefig(FIGDEST+'value_fcn.pdf')"
     ],
     "language": "python",
     "metadata": {},
     "outputs": [],
     "prompt_number": 66
    },
    {
     "cell_type": "code",
     "collapsed": false,
     "input": [],
     "language": "python",
     "metadata": {},
     "outputs": []
    }
   ],
   "metadata": {}
  }
 ]
}