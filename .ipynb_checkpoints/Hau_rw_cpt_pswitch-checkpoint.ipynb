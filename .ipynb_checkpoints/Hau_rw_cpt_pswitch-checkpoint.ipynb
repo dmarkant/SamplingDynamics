{
 "metadata": {
  "name": "",
  "signature": "sha256:9021e7caa8688d60feeabfd12f2bc7e80461106ab3bfb10e07dfeb16a9338dc5"
 },
 "nbformat": 3,
 "nbformat_minor": 0,
 "worksheets": [
  {
   "cells": [
    {
     "cell_type": "code",
     "collapsed": false,
     "input": [
      "%matplotlib inline\n",
      "import matplotlib.pyplot as plt\n",
      "import numpy as np\n",
      "import pandas as pd\n",
      "from helpers import *\n",
      "from scipy.stats import norm, gamma, lognorm\n",
      "\n",
      "from mypy.explib.hau2008 import hau2008\n",
      "from model_rw_cpt_pswitch import model_rw_cpt_pswitch\n",
      "%load_ext autoreload\n",
      "%autoreload 2"
     ],
     "language": "python",
     "metadata": {},
     "outputs": [
      {
       "output_type": "stream",
       "stream": "stdout",
       "text": [
        "The autoreload extension is already loaded. To reload it, use:\n",
        "  %reload_ext autoreload\n"
       ]
      }
     ],
     "prompt_number": 8
    },
    {
     "cell_type": "code",
     "collapsed": false,
     "input": [
      "subjdata = hau2008.sampledata_by_subject(study=1)"
     ],
     "language": "python",
     "metadata": {},
     "outputs": [],
     "prompt_number": 9
    },
    {
     "cell_type": "code",
     "collapsed": false,
     "input": [
      "data = subjdata[7][0]\n",
      "model_rw_cpt_pswitch.run(pars={'options': data['options'],\n",
      "                               'data': data,\n",
      "                               'theta': 3,\n",
      "                               'delta': .1,\n",
      "                               'z_temp': 1.})"
     ],
     "language": "python",
     "metadata": {},
     "outputs": [
      {
       "output_type": "stream",
       "stream": "stdout",
       "text": [
        "[[ 0.5         0.          0.          0.          0.          0.          0.        ]\n",
        " [ 0.          0.5         0.          0.          0.          0.          0.        ]\n",
        " [ 0.15384615  0.          0.11538462  0.23076923  0.          0.          0.        ]\n",
        " [ 0.          0.          0.15384615  0.11538462  0.23076923  0.          0.        ]\n",
        " [ 0.          0.          0.          0.15384615  0.11538462  0.23076923\n",
        "   0.        ]\n",
        " [ 0.          0.          0.          0.          0.15384615  0.11538462\n",
        "   0.23076923]\n",
        " [ 0.          0.23076923  0.          0.          0.          0.15384615\n",
        "   0.11538462]]\n",
        "[[ 0.5         0.          0.          0.          0.          0.          0.        ]\n",
        " [ 0.          0.5         0.          0.          0.          0.          0.        ]\n",
        " [ 0.22836538  0.          0.11538462  0.15625     0.          0.          0.        ]\n",
        " [ 0.          0.          0.22836538  0.11538462  0.15625     0.          0.        ]\n",
        " [ 0.          0.          0.          0.22836538  0.11538462  0.15625     0.        ]\n",
        " [ 0.          0.          0.          0.          0.22836538  0.11538462\n",
        "   0.15625   ]\n",
        " [ 0.          0.15625     0.          0.          0.          0.22836538\n",
        "   0.11538462]]\n",
        "[[ 0.5         0.          0.          0.          0.          0.          0.\n",
        "   0.          0.5         0.          0.          0.          0.          0.        ]\n",
        " [ 0.15384615  0.          0.11538462  0.23076923  0.          0.          0.\n",
        "   0.          0.          0.15384615  0.11538462  0.23076923  0.          0.        ]\n",
        " [ 0.          0.          0.          0.15384615  0.11538462  0.23076923\n",
        "   0.          0.          0.          0.          0.          0.15384615\n",
        "   0.11538462  0.23076923]\n",
        " [ 0.          0.23076923  0.          0.          0.          0.15384615\n",
        "   0.11538462  0.          0.          0.          0.          0.          0.\n",
        "   0.        ]\n",
        " [ 0.          0.5         0.          0.          0.          0.          0.\n",
        "   0.          0.          0.5         0.          0.          0.          0.        ]\n",
        " [ 0.          0.          0.          0.5         0.          0.          0.\n",
        "   0.          0.          0.          0.          0.5         0.          0.        ]\n",
        " [ 0.          0.          0.          0.          0.          0.5         0.\n",
        "   0.          0.          0.          0.          0.          0.          0.        ]\n",
        " [ 0.          0.          0.          0.          0.          0.          0.\n",
        "   0.          0.5         0.          0.          0.          0.          0.        ]\n",
        " [ 0.          0.          0.5         0.          0.          0.          0.\n",
        "   0.          0.          0.          0.5         0.          0.          0.        ]\n",
        " [ 0.          0.          0.          0.          0.5         0.          0.\n",
        "   0.          0.          0.          0.          0.          0.5         0.        ]\n",
        " [ 0.          0.          0.          0.          0.          0.          0.\n",
        "   0.5         0.          0.          0.          0.          0.          0.        ]\n",
        " [ 0.          0.5         0.          0.          0.          0.          0.\n",
        "   0.22836538  0.          0.11538462  0.15625     0.          0.          0.        ]\n",
        " [ 0.          0.          0.22836538  0.11538462  0.15625     0.          0.\n",
        "   0.          0.          0.          0.22836538  0.11538462  0.15625     0.        ]\n",
        " [ 0.          0.          0.          0.          0.22836538  0.11538462\n",
        "   0.15625     0.          0.15625     0.          0.          0.\n",
        "   0.22836538  0.11538462]]\n"
       ]
      },
      {
       "ename": "NameError",
       "evalue": "global name 'dummy' is not defined",
       "output_type": "pyerr",
       "traceback": [
        "\u001b[0;31m---------------------------------------------------------------------------\u001b[0m\n\u001b[0;31mNameError\u001b[0m                                 Traceback (most recent call last)",
        "\u001b[0;32m<ipython-input-31-96dc31a85fe8>\u001b[0m in \u001b[0;36m<module>\u001b[0;34m()\u001b[0m\n\u001b[1;32m      4\u001b[0m                                \u001b[0;34m'theta'\u001b[0m\u001b[0;34m:\u001b[0m \u001b[0;36m3\u001b[0m\u001b[0;34m,\u001b[0m\u001b[0;34m\u001b[0m\u001b[0m\n\u001b[1;32m      5\u001b[0m                                \u001b[0;34m'delta'\u001b[0m\u001b[0;34m:\u001b[0m \u001b[0;36m.1\u001b[0m\u001b[0;34m,\u001b[0m\u001b[0;34m\u001b[0m\u001b[0m\n\u001b[0;32m----> 6\u001b[0;31m                                'z_temp': 1.})\n\u001b[0m",
        "\u001b[0;32m/Users/markant/code/SamplingDynamics/model_rw_cpt_pswitch/model_rw_cpt_pswitch.py\u001b[0m in \u001b[0;36mrun\u001b[0;34m(pars)\u001b[0m\n\u001b[1;32m    189\u001b[0m \u001b[0;34m\u001b[0m\u001b[0m\n\u001b[1;32m    190\u001b[0m \u001b[0;34m\u001b[0m\u001b[0m\n\u001b[0;32m--> 191\u001b[0;31m     \u001b[0;32mprint\u001b[0m \u001b[0mdummy\u001b[0m\u001b[0;34m\u001b[0m\u001b[0m\n\u001b[0m\u001b[1;32m    192\u001b[0m \u001b[0;34m\u001b[0m\u001b[0m\n\u001b[1;32m    193\u001b[0m \u001b[0;34m\u001b[0m\u001b[0m\n",
        "\u001b[0;31mNameError\u001b[0m: global name 'dummy' is not defined"
       ]
      }
     ],
     "prompt_number": 31
    },
    {
     "cell_type": "code",
     "collapsed": false,
     "input": [
      "subjdata[7][0]"
     ],
     "language": "python",
     "metadata": {},
     "outputs": [
      {
       "metadata": {},
       "output_type": "pyout",
       "prompt_number": 12,
       "text": [
        "{'choice': 1, 'gid': 4, 'options': [array([[-4. ,  0.8],\n",
        "         [ 0. ,  0.2]]), array([[-3.,  1.],\n",
        "         [ 0.,  0.]])], 'outcomes': array([-3, -3, -4, -3, -3,  0, -4, -3, -3]), 'samples': array([0, 0, 1, 0, 0, 1, 1, 0, 0]), 'sid': 7}"
       ]
      }
     ],
     "prompt_number": 12
    },
    {
     "cell_type": "code",
     "collapsed": false,
     "input": [],
     "language": "python",
     "metadata": {},
     "outputs": []
    }
   ],
   "metadata": {}
  }
 ]
}