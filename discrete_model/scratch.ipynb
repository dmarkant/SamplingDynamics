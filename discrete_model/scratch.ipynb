{
 "metadata": {
  "name": "",
  "signature": "sha256:aa2521a5a47f717cb8b7415e8c9fd3bc1701f4d50826cd4d8dfd760acd0bf8e3"
 },
 "nbformat": 3,
 "nbformat_minor": 0,
 "worksheets": [
  {
   "cells": [
    {
     "cell_type": "code",
     "collapsed": false,
     "input": [
      "from scipy.stats import binom, bernoulli\n",
      "%matplotlib inline\n",
      "import matplotlib.pylab as plt\n",
      "import numpy as np"
     ],
     "language": "python",
     "metadata": {},
     "outputs": [],
     "prompt_number": 36
    },
    {
     "cell_type": "code",
     "collapsed": false,
     "input": [
      "true_p = .1\n",
      "N = 1 # sample size\n",
      "plt.plot(range(N+1), [binom.pmf(x, N, true_p) for x in range(N+1)])"
     ],
     "language": "python",
     "metadata": {},
     "outputs": [
      {
       "metadata": {},
       "output_type": "pyout",
       "prompt_number": 26,
       "text": [
        "[<matplotlib.lines.Line2D at 0x10756aa50>]"
       ]
      },
      {
       "metadata": {},
       "output_type": "display_data",
       "png": "[encoded data removed]",
       "text": [
        "<matplotlib.figure.Figure at 0x106460050>"
       ]
      }
     ],
     "prompt_number": 26
    },
    {
     "cell_type": "code",
     "collapsed": false,
     "input": [
      "binom.pmf(x, N, true_p) * (x/float(N))"
     ],
     "language": "python",
     "metadata": {},
     "outputs": [
      {
       "metadata": {},
       "output_type": "pyout",
       "prompt_number": 24,
       "text": [
        "0.29999999999999999"
       ]
      }
     ],
     "prompt_number": 24
    },
    {
     "cell_type": "code",
     "collapsed": false,
     "input": [
      "# what is the observed frequency for sample size N?\n",
      "[binom.pmf(x, N, true_p) * (true_p - (x/float(N))) for x in range(N+1)]"
     ],
     "language": "python",
     "metadata": {},
     "outputs": [
      {
       "metadata": {},
       "output_type": "pyout",
       "prompt_number": 27,
       "text": [
        "[0.090000000000000011, -0.090000000000000024]"
       ]
      }
     ],
     "prompt_number": 27
    },
    {
     "cell_type": "code",
     "collapsed": false,
     "input": [
      "# the prob of seeing zero times out of a single observation\n",
      "true_p = 0.2\n",
      "print binom.pmf(0, 1, true_p)\n",
      "\n",
      "# the deviation of the observed sample frequency from the true probability\n",
      "print 0 - true_p\n",
      "\n",
      "# weighted by the probability of it occurring\n",
      "print binom.pmf(0, 1, true_p) * (0 - true_p)"
     ],
     "language": "python",
     "metadata": {},
     "outputs": [
      {
       "output_type": "stream",
       "stream": "stdout",
       "text": [
        "0.8\n",
        "-0.2\n",
        "-0.16\n"
       ]
      }
     ],
     "prompt_number": 34
    },
    {
     "cell_type": "code",
     "collapsed": false,
     "input": [
      "print binom.pmf(1, 1, true_p)\n",
      "\n",
      "# the deviation of the observed sample frequency from the true probability\n",
      "print 1 - true_p\n",
      "\n",
      "# weighted by the probability of it occurring\n",
      "print binom.pmf(1, 1, true_p) * (1 - true_p)\n"
     ],
     "language": "python",
     "metadata": {},
     "outputs": [
      {
       "output_type": "stream",
       "stream": "stdout",
       "text": [
        "0.2\n",
        "0.8\n",
        "0.16\n"
       ]
      }
     ],
     "prompt_number": 35
    },
    {
     "cell_type": "code",
     "collapsed": false,
     "input": [],
     "language": "python",
     "metadata": {},
     "outputs": []
    },
    {
     "cell_type": "code",
     "collapsed": false,
     "input": [
      "bernoulli.rvs(.2, size=10)"
     ],
     "language": "python",
     "metadata": {},
     "outputs": [
      {
       "metadata": {},
       "output_type": "pyout",
       "prompt_number": 42,
       "text": [
        "array([1, 1, 0, 0, 0, 0, 0, 0, 0, 1])"
       ]
      }
     ],
     "prompt_number": 42
    },
    {
     "cell_type": "code",
     "collapsed": false,
     "input": [
      "true_p = .1\n",
      "N = 10 # number of participants\n",
      "ss = 1. # sample size\n",
      "it = 100\n",
      "mns = [np.mean(binom.rvs(ss, true_p, size=N) / ss) for _ in range(it)]"
     ],
     "language": "python",
     "metadata": {},
     "outputs": [],
     "prompt_number": 62
    },
    {
     "cell_type": "code",
     "collapsed": false,
     "input": [
      "np.mean(mns)"
     ],
     "language": "python",
     "metadata": {},
     "outputs": [
      {
       "metadata": {},
       "output_type": "pyout",
       "prompt_number": 63,
       "text": [
        "0.10199999999999991"
       ]
      }
     ],
     "prompt_number": 63
    },
    {
     "cell_type": "code",
     "collapsed": false,
     "input": [
      "plt.hist(mns)"
     ],
     "language": "python",
     "metadata": {},
     "outputs": [
      {
       "metadata": {},
       "output_type": "pyout",
       "prompt_number": 64,
       "text": [
        "(array([ 29.,   0.,  50.,   0.,   0.,  15.,   0.,   2.,   0.,   4.]),\n",
        " array([ 0.  ,  0.04,  0.08,  0.12,  0.16,  0.2 ,  0.24,  0.28,  0.32,\n",
        "         0.36,  0.4 ]),\n",
        " <a list of 10 Patch objects>)"
       ]
      },
      {
       "metadata": {},
       "output_type": "display_data",
       "png": "[encoded data removed]",
       "text": [
        "<matplotlib.figure.Figure at 0x107253390>"
       ]
      }
     ],
     "prompt_number": 64
    },
    {
     "cell_type": "code",
     "collapsed": false,
     "input": [],
     "language": "python",
     "metadata": {},
     "outputs": []
    }
   ],
   "metadata": {}
  }
 ]
}