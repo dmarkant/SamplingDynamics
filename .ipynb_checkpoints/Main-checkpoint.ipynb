{
 "metadata": {
  "name": "",
  "signature": "sha256:5afd9fc27c72801c0bb392c3b0433bdb691be2b37acee6bebb90e62632bc78d5"
 },
 "nbformat": 3,
 "nbformat_minor": 0,
 "worksheets": [
  {
   "cells": [
    {
     "cell_type": "code",
     "collapsed": false,
     "input": [
      "from IPython.display import display, Image"
     ],
     "language": "python",
     "metadata": {},
     "outputs": [],
     "prompt_number": 1
    },
    {
     "cell_type": "markdown",
     "metadata": {},
     "source": [
      "# Modeling search in the sampling paradigm\n",
      "\n",
      "## What is the basic decisions from experience task?\n",
      "\n",
      "\n",
      "## Relating sample size and choice\n",
      "\n",
      "Existing models of choice.\n",
      "\n",
      "What affects sample size?\n",
      "\n",
      "Informal theories about how task properties affect sample size, and therefore choices. \n",
      "\n",
      "\n",
      "\n",
      "### Towards a model \n",
      "\n",
      "Existing models might be able to capture the relationship between sample size and choice (e.g., can simulate what will be difference in a learning model under different sample sizes), but don't explain how sample size changes based on the task properties. \n",
      "\n",
      "To explain sample size, need a theory that includes a stopping rule. Can then evaluate the implications of a stopping rule across different problems, or can theorize about how that stopping rule may change in different circumstances. \n",
      "\n",
      "Speed accuracy tradeoffs. \n",
      "\n",
      "\n",
      "### Two types of stopping rules: Planned vs. optional stopping\n",
      "\n",
      "Approach 1. Fixed sampling strategies. \n",
      "\n",
      "Approach 2. Optional stopping. Evidence accumulation models. \n",
      "\n",
      "\n",
      "## Switching between options: Does allocation matter? \n",
      "\n",
      "When switches occur. \n",
      "\n",
      "\n",
      "### What do we know about switching?\n",
      "\n",
      "Tends to be a distinction between two strategies -- frequent and rare switching.\n",
      "\n",
      "Does it matter? Does it have any effects on behavior?\n",
      "\n",
      "\n",
      "### What are some existing models of switching?\n",
      "\n",
      "There aren't many.\n",
      "\n",
      "Could assume a fixed switching frequency. This is the inertia thing in IBL (sort of). \n",
      "\n",
      "Could assume a target number of samples per option -- but this won't capture high switching people.\n",
      "\n",
      "Could assume a batch sampling process in combination with another stopping rule.\n",
      "\n",
      "\n",
      "### Which comes first, stopping or leaving?\n",
      "\n",
      "If leaving comes before stopping, then can capture the negative relationship between sample size and switching frequency.\n",
      "\n",
      "Alternatively, it could be that stopping decisions come first, but frequent switchers are evaluating evidence in a different way (a la Hills and Hertwig) -- note that individual fits should be able to capture this; what is the pow_gain parameter?"
     ]
    },
    {
     "cell_type": "code",
     "collapsed": false,
     "input": [
      "Image(filename='doc/images/switching_models.png')"
     ],
     "language": "python",
     "metadata": {},
     "outputs": [
      {
       "metadata": {},
       "output_type": "pyout",
       "png": "[encoded data removed]",
       "prompt_number": 2,
       "text": [
        "<IPython.core.display.Image at 0x10683e710>"
       ]
      }
     ],
     "prompt_number": 2
    },
    {
     "cell_type": "markdown",
     "metadata": {},
     "source": [
      "# Part I. Modeling total sample size and choice\n",
      "\n",
      "## Predictive model -- Ignoring the observed sampling sequence\n",
      "\n",
      "## Descriptive model -- Taking into account sampling sequence"
     ]
    },
    {
     "cell_type": "markdown",
     "metadata": {},
     "source": [
      "# Part II. Modeling switching behavior and its effects on sample size and choice\n",
      "\n",
      "Can the random walk model, with the right switching frequency, capture the relationship seen in the data?\n",
      "\n",
      "Can the process model, for that matter?\n",
      "\n",
      "Can any model where stop decisions are made on every trial--assuming everything else is the same--capture change in sample size with switching frequency? Maybe for certain kinds of problems?\n",
      "\n",
      "Could probably simulate this with the current process model as well, generate different datasets at the extremes of either interleaved or blocked. But doesn't seem possible on average... same reason as with the drift diffusion model--if the drift rate towards an option is higher then the other option, then should only get to a decision faster..."
     ]
    },
    {
     "cell_type": "code",
     "collapsed": false,
     "input": [],
     "language": "python",
     "metadata": {},
     "outputs": []
    },
    {
     "cell_type": "markdown",
     "metadata": {},
     "source": [
      "# Sampling dynamics and choice\n",
      "\n",
      "The goal of this project is to understand how the dynamics of information sampling interact with choice. \n",
      "\n",
      "Some alternative models will need to consider:\n",
      "\n",
      "1. Explorative sampler\n",
      "\n",
      "2. IBL\n",
      "\n",
      "\n",
      "\n",
      "\n",
      "\n",
      "#### Sampling (switching)\n",
      "\n",
      "In binary tasks, on successive trials people can either continue sampling the same option or switch to the other option. There is some evidence that switch rate is related to overall sample size (Hills and Hertwig, 2010; Frey, in press). Is switch rate related to accuracy?\n",
      "\n",
      "One large open question is how a person's sampling policy comes about. In the models below we will consider a few alternatives:\n",
      "\n",
      "1. __Fixed switch rate__: On every trial, there is a fixed probability of switching to the other option. \n",
      "\n",
      "2. __Batch sampling__: Samples are collected from a single option until reaching a fixed 'batch' size. Thus switches are not equally likely at any point during sampling, but rather sampling becomes 'streaky'. \n",
      "\n",
      "3. __Value-dependent__: Whether an option is sampled depends on its estimated value, with higher value leading to higher likelihood of sampling. \n",
      "\n",
      "4. __Uncertainty/information-dependent__: Whether an option is sampled depends on uncertainty about its value, with higher uncertainty leading to greater probability of sampling. Will need to consider whether uncertainty-based sampling is distinct from information-based sampling.\n",
      "\n",
      "Note that the \"inertia\" mechanism in IBL is like a combination of a fixed switch rate (in their terms, $p(inertia)$) and value-dependent switching (i.e., when a choice is not repeated, the option with the higher estimated value is selected).\n",
      "\n",
      "\n",
      "#### Stopping (sample size)\n",
      "\n",
      "The next component of the model is the stopping process or rule.\n",
      "\n",
      "1. __Fixed sample size__: A target sample size is set prior to beginning a problem, and sampling ends (probabilistically) depending on the distance from that sample size.\n",
      "\n",
      "2. __Fixed sample size per option__: A target sample size for each option is set prior to beginning of problem. (Note this is a combined stopping and switching rule, since switches occur--probabilistically--when the number of samples seen for an option nears the target size.)\n",
      "\n",
      "2. __Relative value threshold__: The estimated values of the two options are compared on every trial, and when the difference exceeds a threshold, sampling ends and a choice is made.\n",
      "\n",
      "3. __Independent value threshold__: The estimated values of the two options are compared against a threshold, and when either threshold is reached, sampling ends and a choice is made.\n",
      "\n",
      "4. __Uncertainty/information threshold__: Sampling ends when uncertainty or expected information of both options drops below a threshold.\n",
      "\n",
      "One further question is whether stopping decisions are made on every trial, or if they are only made at switch points (i.e., when an option is 'left'). If stopping decisions are made on every trial, then there shouldn't be any relationship between the switch process and sample size. However, if stopping decisions are contingent on switch decisions, then that dependence will occur. For example, if there is a high switch rate, there are more opportunities to stop sampling.\n",
      "\n",
      "\n",
      "\n",
      "In IBL, stop trials are sampled from geometric distribution which is based on previous empirical results in the sampling paradigm. Thus there is no sensitivity to outcomes and no predictions about stop trials in other problems.\n",
      "\n",
      "\n",
      "#### Choice\n",
      "\n",
      "The final aspect of the data we wish to account for is the final choice. Some of the combinations of processes above are independent of the final choice, and as such any choice model that has previously been applied to the sampling paradigm could be used. The more interesting possibilities are those processes which jointly determine both the sampling dynamics and the choice.\n",
      "\n",
      "1. __Estimated value__: Given the estimated value of each option, a probabilistic choice is made (softmax). This would be used for fixed sample size and uncertainty/information threshold stopping rules.\n",
      "\n",
      "2. __Noisy thresholds__: For any threshold-based stopping rules, the choice is determined by which threshold is crossed. Thresholds are assumed to be noisy rather than deterministic.\n",
      "\n",
      "\n",
      "#### How is value estimated?\n",
      "\n",
      "\n",
      "\n",
      "\n",
      "\n"
     ]
    },
    {
     "cell_type": "markdown",
     "metadata": {},
     "source": [
      "# Search in the sampling paradigm"
     ]
    },
    {
     "cell_type": "markdown",
     "metadata": {},
     "source": [
      "## Hau et al. (2008)\n",
      "\n",
      "Start with data from Hau et al. (2008). "
     ]
    },
    {
     "cell_type": "code",
     "collapsed": false,
     "input": [],
     "language": "python",
     "metadata": {},
     "outputs": []
    }
   ],
   "metadata": {}
  }
 ]
}