{
 "metadata": {
  "name": "",
  "signature": "sha256:63e952d82c7aa9ce73964616a3e2ae4e7809bf5a6eedfc9e09778c251ca89f0b"
 },
 "nbformat": 3,
 "nbformat_minor": 0,
 "worksheets": [
  {
   "cells": [
    {
     "cell_type": "code",
     "collapsed": false,
     "input": [
      "from cpt import *"
     ],
     "language": "python",
     "metadata": {},
     "outputs": [],
     "prompt_number": 1
    },
    {
     "cell_type": "code",
     "collapsed": false,
     "input": [
      "options = get_options('S1G1')"
     ],
     "language": "python",
     "metadata": {},
     "outputs": []
    },
    {
     "cell_type": "code",
     "collapsed": false,
     "input": [
      "cpt_pars = {'pow_gain': .97,\n",
      "            'pow_loss': 1.,\n",
      "            'w_p': 2.,\n",
      "            's': .2}"
     ],
     "language": "python",
     "metadata": {},
     "outputs": []
    },
    {
     "cell_type": "code",
     "collapsed": false,
     "input": [
      "plt.plot([choice_prob(get_options(gid), cpt_pars) for gid in gamble_lab_srt])"
     ],
     "language": "python",
     "metadata": {},
     "outputs": []
    }
   ],
   "metadata": {}
  }
 ]
}