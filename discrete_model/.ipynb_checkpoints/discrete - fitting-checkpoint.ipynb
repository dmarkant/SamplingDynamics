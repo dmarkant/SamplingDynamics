{
 "metadata": {
  "name": "",
  "signature": "sha256:cb43362be25fb4c195336b58256aa012432c5b54debc800b49940ccbc13679b5"
 },
 "nbformat": 3,
 "nbformat_minor": 0,
 "worksheets": [
  {
   "cells": [
    {
     "cell_type": "code",
     "collapsed": false,
     "input": [
      "%matplotlib inline\n",
      "import matplotlib.pylab as plt\n",
      "import numpy as np\n",
      "from scipy import linalg\n",
      "from numpy.linalg import matrix_power\n",
      "from model import *\n",
      "import pandas as pd\n",
      "%load_ext autoreload\n",
      "%autoreload 2"
     ],
     "language": "python",
     "metadata": {},
     "outputs": [
      {
       "output_type": "stream",
       "stream": "stdout",
       "text": [
        "The autoreload extension is already loaded. To reload it, use:\n",
        "  %reload_ext autoreload\n"
       ]
      }
     ],
     "prompt_number": 51
    },
    {
     "cell_type": "code",
     "collapsed": false,
     "input": [
      "# create an artificial dataset, then try to fit it\n",
      "pars = {'theta': 10.,\n",
      "        'delta': 0.1}\n",
      "predicted = run(pars)"
     ],
     "language": "python",
     "metadata": {},
     "outputs": [],
     "prompt_number": 171
    },
    {
     "cell_type": "code",
     "collapsed": false,
     "input": [
      "T = predicted['T']\n",
      "p_A = predicted['resp_prob'][0]\n",
      "print p_A\n",
      "N = 5000\n",
      "prop_A = np.random.binomial(N, p_A)\n",
      "prop_B = N - prop_A"
     ],
     "language": "python",
     "metadata": {},
     "outputs": [
      {
       "output_type": "stream",
       "stream": "stdout",
       "text": [
        "0.122714991143\n"
       ]
      }
     ],
     "prompt_number": 172
    },
    {
     "cell_type": "code",
     "collapsed": false,
     "input": [
      "pred = predicted['p_stop_t'].transpose()\n",
      "plt.plot(pred[0,:])\n",
      "plt.plot(pred[1,:])\n",
      "plt.show()"
     ],
     "language": "python",
     "metadata": {},
     "outputs": [
      {
       "metadata": {},
       "output_type": "display_data",
       "png": "[encoded data removed]",
       "text": [
        "<matplotlib.figure.Figure at 0x107765a90>"
       ]
      }
     ],
     "prompt_number": 173
    },
    {
     "cell_type": "code",
     "collapsed": false,
     "input": [
      "# for A choices, sample corresponding sample size\n",
      "cs_A = predicted['p_stop_t_cump'][:,0]\n",
      "ss_A = [np.sum(np.random.random() > cs_A)-1 for _ in range(prop_A)]\n",
      "\n",
      "cs_B = predicted['p_stop_t_cump'][:,1]\n",
      "ss_B = [np.sum(np.random.random() > cs_B)-1 for _ in range(prop_B)]"
     ],
     "language": "python",
     "metadata": {},
     "outputs": [],
     "prompt_number": 163
    },
    {
     "cell_type": "code",
     "collapsed": false,
     "input": [
      "fig, ax = plt.subplots(1, 2)\n",
      "ax[0].plot(T, cs_A)\n",
      "ax[1].hist(ss_A, bins=30)\n",
      "plt.show()"
     ],
     "language": "python",
     "metadata": {},
     "outputs": [
      {
       "ename": "IndexError",
       "evalue": "list index out of range",
       "output_type": "pyerr",
       "traceback": [
        "\u001b[0;31m---------------------------------------------------------------------------\u001b[0m\n\u001b[0;31mIndexError\u001b[0m                                Traceback (most recent call last)",
        "\u001b[0;32m<ipython-input-164-08a8cb67cf74>\u001b[0m in \u001b[0;36m<module>\u001b[0;34m()\u001b[0m\n\u001b[1;32m      1\u001b[0m \u001b[0mfig\u001b[0m\u001b[0;34m,\u001b[0m \u001b[0max\u001b[0m \u001b[0;34m=\u001b[0m \u001b[0mplt\u001b[0m\u001b[0;34m.\u001b[0m\u001b[0msubplots\u001b[0m\u001b[0;34m(\u001b[0m\u001b[0;36m1\u001b[0m\u001b[0;34m,\u001b[0m \u001b[0;36m2\u001b[0m\u001b[0;34m)\u001b[0m\u001b[0;34m\u001b[0m\u001b[0m\n\u001b[1;32m      2\u001b[0m \u001b[0max\u001b[0m\u001b[0;34m[\u001b[0m\u001b[0;36m0\u001b[0m\u001b[0;34m]\u001b[0m\u001b[0;34m.\u001b[0m\u001b[0mplot\u001b[0m\u001b[0;34m(\u001b[0m\u001b[0mT\u001b[0m\u001b[0;34m,\u001b[0m \u001b[0mcs_A\u001b[0m\u001b[0;34m)\u001b[0m\u001b[0;34m\u001b[0m\u001b[0m\n\u001b[0;32m----> 3\u001b[0;31m \u001b[0max\u001b[0m\u001b[0;34m[\u001b[0m\u001b[0;36m1\u001b[0m\u001b[0;34m]\u001b[0m\u001b[0;34m.\u001b[0m\u001b[0mhist\u001b[0m\u001b[0;34m(\u001b[0m\u001b[0mss_A\u001b[0m\u001b[0;34m,\u001b[0m \u001b[0mbins\u001b[0m\u001b[0;34m=\u001b[0m\u001b[0;36m30\u001b[0m\u001b[0;34m)\u001b[0m\u001b[0;34m\u001b[0m\u001b[0m\n\u001b[0m\u001b[1;32m      4\u001b[0m \u001b[0mplt\u001b[0m\u001b[0;34m.\u001b[0m\u001b[0mshow\u001b[0m\u001b[0;34m(\u001b[0m\u001b[0;34m)\u001b[0m\u001b[0;34m\u001b[0m\u001b[0m\n",
        "\u001b[0;32m/Users/doug/anaconda/lib/python2.7/site-packages/matplotlib/axes.pyc\u001b[0m in \u001b[0;36mhist\u001b[0;34m(self, x, bins, range, normed, weights, cumulative, bottom, histtype, align, orientation, rwidth, log, color, label, stacked, **kwargs)\u001b[0m\n\u001b[1;32m   8247\u001b[0m         \u001b[0;31m# Massage 'x' for processing.\u001b[0m\u001b[0;34m\u001b[0m\u001b[0;34m\u001b[0m\u001b[0m\n\u001b[1;32m   8248\u001b[0m         \u001b[0;31m# NOTE: Be sure any changes here is also done below to 'weights'\u001b[0m\u001b[0;34m\u001b[0m\u001b[0;34m\u001b[0m\u001b[0m\n\u001b[0;32m-> 8249\u001b[0;31m         \u001b[0;32mif\u001b[0m \u001b[0misinstance\u001b[0m\u001b[0;34m(\u001b[0m\u001b[0mx\u001b[0m\u001b[0;34m,\u001b[0m \u001b[0mnp\u001b[0m\u001b[0;34m.\u001b[0m\u001b[0mndarray\u001b[0m\u001b[0;34m)\u001b[0m \u001b[0;32mor\u001b[0m \u001b[0;32mnot\u001b[0m \u001b[0miterable\u001b[0m\u001b[0;34m(\u001b[0m\u001b[0mx\u001b[0m\u001b[0;34m[\u001b[0m\u001b[0;36m0\u001b[0m\u001b[0;34m]\u001b[0m\u001b[0;34m)\u001b[0m\u001b[0;34m:\u001b[0m\u001b[0;34m\u001b[0m\u001b[0m\n\u001b[0m\u001b[1;32m   8250\u001b[0m             \u001b[0;31m# TODO: support masked arrays;\u001b[0m\u001b[0;34m\u001b[0m\u001b[0;34m\u001b[0m\u001b[0m\n\u001b[1;32m   8251\u001b[0m             \u001b[0mx\u001b[0m \u001b[0;34m=\u001b[0m \u001b[0mnp\u001b[0m\u001b[0;34m.\u001b[0m\u001b[0masarray\u001b[0m\u001b[0;34m(\u001b[0m\u001b[0mx\u001b[0m\u001b[0;34m)\u001b[0m\u001b[0;34m\u001b[0m\u001b[0m\n",
        "\u001b[0;31mIndexError\u001b[0m: list index out of range"
       ]
      },
      {
       "metadata": {},
       "output_type": "display_data",
       "png": "[encoded data removed]",
       "text": [
        "<matplotlib.figure.Figure at 0x10a50f250>"
       ]
      }
     ],
     "prompt_number": 164
    },
    {
     "cell_type": "code",
     "collapsed": false,
     "input": [
      "fig, ax = plt.subplots(1, 2)\n",
      "ax[0].plot(T, cs_B)\n",
      "ax[1].hist(ss_B, bins=30)\n",
      "plt.show()"
     ],
     "language": "python",
     "metadata": {},
     "outputs": [
      {
       "metadata": {},
       "output_type": "display_data",
       "png": "[encoded data removed]",
       "text": [
        "<matplotlib.figure.Figure at 0x10759a9d0>"
       ]
      }
     ],
     "prompt_number": 124
    },
    {
     "cell_type": "code",
     "collapsed": false,
     "input": [
      "data = np.concatenate(([[0, s] for s in ss_A],\n",
      "                       [[1, s] for s in ss_B]))"
     ],
     "language": "python",
     "metadata": {},
     "outputs": [],
     "prompt_number": 125
    },
    {
     "cell_type": "code",
     "collapsed": false,
     "input": [
      "pars = {'data': data,\n",
      "        'fitting':['theta', 'delta'],\n",
      "        'verbose': False}"
     ],
     "language": "python",
     "metadata": {},
     "outputs": [],
     "prompt_number": 126
    },
    {
     "cell_type": "code",
     "collapsed": false,
     "input": [
      "loglik([3., .1], pars)"
     ],
     "language": "python",
     "metadata": {},
     "outputs": [
      {
       "metadata": {},
       "output_type": "pyout",
       "prompt_number": 127,
       "text": [
        "41901.782973362351"
       ]
      }
     ],
     "prompt_number": 127
    },
    {
     "cell_type": "code",
     "collapsed": false,
     "input": [
      "# simple grid search first\n",
      "th_dim = np.arange(1, 10)\n",
      "delta_dim = np.arange(0., .1, .01)\n",
      "llh = []\n",
      "for th in th_dim:\n",
      "    for delta in delta_dim:\n",
      "        l = loglik([th, delta], pars)\n",
      "        llh.append([th, delta, l])\n",
      "llh = np.array(llh)"
     ],
     "language": "python",
     "metadata": {},
     "outputs": [],
     "prompt_number": 12
    },
    {
     "cell_type": "code",
     "collapsed": false,
     "input": [
      "# best-fit parameters from grid search\n",
      "llh[np.where(llh[:,2]==min(llh[:,2]))[0][0]][:2]"
     ],
     "language": "python",
     "metadata": {},
     "outputs": [
      {
       "metadata": {},
       "output_type": "pyout",
       "prompt_number": 13,
       "text": [
        "array([ 6.  ,  0.09])"
       ]
      }
     ],
     "prompt_number": 13
    },
    {
     "cell_type": "code",
     "collapsed": false,
     "input": [
      "from scipy.optimize import minimize"
     ],
     "language": "python",
     "metadata": {},
     "outputs": [],
     "prompt_number": 128
    },
    {
     "cell_type": "code",
     "collapsed": false,
     "input": [
      "pars = {'delta': -.1,\n",
      "        'data': data,\n",
      "        'fitting': ['theta'],\n",
      "        'verbose': False}"
     ],
     "language": "python",
     "metadata": {},
     "outputs": [],
     "prompt_number": 132
    },
    {
     "cell_type": "code",
     "collapsed": false,
     "input": [
      "# fitting just theta\n",
      "f = minimize(loglik, 5., (pars,), method='Nelder-Mead')"
     ],
     "language": "python",
     "metadata": {},
     "outputs": [],
     "prompt_number": 133
    },
    {
     "cell_type": "code",
     "collapsed": false,
     "input": [
      "f"
     ],
     "language": "python",
     "metadata": {},
     "outputs": [
      {
       "metadata": {},
       "output_type": "pyout",
       "prompt_number": 134,
       "text": [
        "  status: 0\n",
        "    nfev: 41\n",
        " success: True\n",
        "     fun: 40568.362995715128\n",
        "       x: array([ 3.90625])\n",
        " message: 'Optimization terminated successfully.'\n",
        "     nit: 16"
       ]
      }
     ],
     "prompt_number": 134
    },
    {
     "cell_type": "code",
     "collapsed": false,
     "input": [
      "# fitting theta and delta\n",
      "pars = {'data': data,\n",
      "        'fitting': ['theta', 'delta'],\n",
      "        'verbose': True}\n",
      "\n",
      "f = minimize(loglik, [5., 0.], (pars,), method='Nelder-Mead')"
     ],
     "language": "python",
     "metadata": {},
     "outputs": [
      {
       "output_type": "stream",
       "stream": "stdout",
       "text": [
        "evaluating:\n",
        "  theta=5.0\n",
        "  delta=0.0\n",
        "  llh: 42482.8071753"
       ]
      },
      {
       "output_type": "stream",
       "stream": "stdout",
       "text": [
        "\n",
        "evaluating:\n",
        "  theta=5.25\n",
        "  delta=0.0\n",
        "  llh: 42762.4554349"
       ]
      },
      {
       "output_type": "stream",
       "stream": "stdout",
       "text": [
        "\n",
        "evaluating:\n",
        "  theta=5.0\n",
        "  delta=0.00025\n",
        "  llh: 42482.7830118"
       ]
      },
      {
       "output_type": "stream",
       "stream": "stdout",
       "text": [
        "\n",
        "evaluating:\n",
        "  theta=4.75\n",
        "  delta=0.00025\n",
        "  llh: 41914.6003617"
       ]
      },
      {
       "output_type": "stream",
       "stream": "stdout",
       "text": [
        "\n",
        "evaluating:\n",
        "  theta=4.5\n",
        "  delta=0.000375\n",
        "  llh: 41773.2621457"
       ]
      },
      {
       "output_type": "stream",
       "stream": "stdout",
       "text": [
        "\n",
        "evaluating:\n",
        "  theta=4.5\n",
        "  delta=0.000625\n",
        "  llh: 41773.2498848"
       ]
      },
      {
       "output_type": "stream",
       "stream": "stdout",
       "text": [
        "\n",
        "evaluating:\n",
        "  theta=4.25\n",
        "  delta=0.0009375\n",
        "  llh: 41322.4748223"
       ]
      },
      {
       "output_type": "stream",
       "stream": "stdout",
       "text": [
        "\n",
        "evaluating:\n",
        "  theta=3.75\n",
        "  delta=0.0010625\n",
        "  llh: 41005.070923"
       ]
      },
      {
       "output_type": "stream",
       "stream": "stdout",
       "text": [
        "\n",
        "evaluating:\n",
        "  theta=3.125\n",
        "  delta=0.00146875\n",
        "  llh: 41600.1141202"
       ]
      },
      {
       "output_type": "stream",
       "stream": "stdout",
       "text": [
        "\n",
        "evaluating:\n",
        "  theta=3.5\n",
        "  delta=0.001625\n",
        "  llh: 41268.3782591"
       ]
      },
      {
       "output_type": "stream",
       "stream": "stdout",
       "text": [
        "\n",
        "evaluating:\n",
        "  theta=3.0\n",
        "  delta=0.00175\n",
        "  llh: 41819.8061839"
       ]
      },
      {
       "output_type": "stream",
       "stream": "stdout",
       "text": [
        "\n",
        "evaluating:\n",
        "  theta=3.9375\n",
        "  delta=0.001140625\n",
        "  llh: 41097.0252041"
       ]
      },
      {
       "output_type": "stream",
       "stream": "stdout",
       "text": [
        "\n",
        "evaluating:\n",
        "  theta=4.1875\n",
        "  delta=0.000578125\n",
        "  llh: 40835.9306576"
       ]
      },
      {
       "output_type": "stream",
       "stream": "stdout",
       "text": [
        "\n",
        "evaluating:\n",
        "  theta=4.53125\n",
        "  delta=5.46875e-05\n",
        "  llh: 41632.5028756"
       ]
      },
      {
       "output_type": "stream",
       "stream": "stdout",
       "text": [
        "\n",
        "evaluating:\n",
        "  theta=4.0\n",
        "  delta=0.0005\n",
        "  llh: 41330.7194999"
       ]
      },
      {
       "output_type": "stream",
       "stream": "stdout",
       "text": [
        "\n",
        "evaluating:\n",
        "  theta=3.953125\n",
        "  delta=0.00098046875\n",
        "  llh: 41097.0243575"
       ]
      },
      {
       "output_type": "stream",
       "stream": "stdout",
       "text": [
        "\n",
        "evaluating:\n",
        "  theta=3.984375\n",
        "  delta=0.00066015625\n",
        "  llh: 41330.7177137"
       ]
      },
      {
       "output_type": "stream",
       "stream": "stdout",
       "text": [
        "\n",
        "evaluating:\n",
        "  theta=3.9609375\n",
        "  delta=0.000900390625\n",
        "  llh: 41097.0238515"
       ]
      },
      {
       "output_type": "stream",
       "stream": "stdout",
       "text": [
        "\n",
        "evaluating:\n",
        "  theta=3.9765625\n",
        "  delta=0.000740234375\n",
        "  llh: 41330.7167233"
       ]
      },
      {
       "output_type": "stream",
       "stream": "stdout",
       "text": [
        "\n",
        "evaluating:\n",
        "  theta=3.96484375\n",
        "  delta=0.0008603515625\n",
        "  llh: 41097.0235779"
       ]
      },
      {
       "output_type": "stream",
       "stream": "stdout",
       "text": [
        "\n",
        "evaluating:\n",
        "  theta=3.97265625\n",
        "  delta=0.0007802734375\n",
        "  llh: 41097.0229893"
       ]
      },
      {
       "output_type": "stream",
       "stream": "stdout",
       "text": [
        "\n",
        "evaluating:\n",
        "  theta=3.970703125\n",
        "  delta=0.00080029296875\n",
        "  llh: 41097.0231416"
       ]
      },
      {
       "output_type": "stream",
       "stream": "stdout",
       "text": [
        "\n",
        "evaluating:\n",
        "  theta=3.96875\n",
        "  delta=0.0008203125\n",
        "  llh: 41097.0232905"
       ]
      },
      {
       "output_type": "stream",
       "stream": "stdout",
       "text": [
        "\n",
        "evaluating:\n",
        "  theta=4.076171875\n",
        "  delta=0.00071923828125\n",
        "  llh: 41349.9772019"
       ]
      },
      {
       "output_type": "stream",
       "stream": "stdout",
       "text": [
        "\n",
        "evaluating:\n",
        "  theta=4.080078125\n",
        "  delta=0.00067919921875\n",
        "  llh: 41349.9781949"
       ]
      },
      {
       "output_type": "stream",
       "stream": "stdout",
       "text": [
        "\n",
        "evaluating:\n",
        "  theta=4.0771484375\n",
        "  delta=0.000709228515625\n",
        "  llh: 41349.9774522"
       ]
      },
      {
       "output_type": "stream",
       "stream": "stdout",
       "text": [
        "\n",
        "evaluating:\n",
        "  theta=4.078125\n",
        "  delta=0.00069921875\n",
        "  llh: 41349.9777012"
       ]
      },
      {
       "output_type": "stream",
       "stream": "stdout",
       "text": [
        "\n",
        "evaluating:\n",
        "  theta=4.1318359375\n",
        "  delta=0.000648681640625\n",
        "  llh: 40982.5148591"
       ]
      },
      {
       "output_type": "stream",
       "stream": "stdout",
       "text": [
        "\n",
        "evaluating:\n",
        "  theta=4.2412109375\n",
        "  delta=0.000527587890625\n",
        "  llh: 41322.4739178"
       ]
      },
      {
       "output_type": "stream",
       "stream": "stdout",
       "text": [
        "\n",
        "evaluating:\n",
        "  theta=4.20043945312\n",
        "  delta=0.000570495605469\n",
        "  llh: 40835.9311635"
       ]
      },
      {
       "output_type": "stream",
       "stream": "stdout",
       "text": [
        "\n",
        "evaluating:\n",
        "  theta=4.25610351562\n",
        "  delta=0.000499938964844\n",
        "  llh: 41322.4737428"
       ]
      },
      {
       "output_type": "stream",
       "stream": "stdout",
       "text": [
        "\n",
        "evaluating:\n",
        "  theta=4.16290283203\n",
        "  delta=0.00061149597168\n",
        "  llh: 40982.5184393"
       ]
      },
      {
       "output_type": "stream",
       "stream": "stdout",
       "text": [
        "\n",
        "evaluating:\n",
        "  theta=4.19396972656\n",
        "  delta=0.000574310302734\n",
        "  llh: 40835.9309106"
       ]
      },
      {
       "output_type": "stream",
       "stream": "stdout",
       "text": [
        "\n",
        "evaluating:\n",
        "  theta=4.15966796875\n",
        "  delta=0.000613403320312\n",
        "  llh: 40982.5182562"
       ]
      },
      {
       "output_type": "stream",
       "stream": "stdout",
       "text": [
        "\n",
        "evaluating:\n",
        "  theta=4.22180175781\n",
        "  delta=0.000539031982422\n",
        "  llh: 40835.9332389"
       ]
      },
      {
       "output_type": "stream",
       "stream": "stdout",
       "text": [
        "\n",
        "evaluating:\n",
        "  theta=4.20626831055\n",
        "  delta=0.000557624816895\n",
        "  llh: 40835.9320145"
       ]
      },
      {
       "output_type": "stream",
       "stream": "stdout",
       "text": [
        "\n",
        "evaluating:\n",
        "  theta=4.17520141602\n",
        "  delta=0.00059481048584\n",
        "  llh: 40835.9295477"
       ]
      },
      {
       "output_type": "stream",
       "stream": "stdout",
       "text": [
        "\n",
        "evaluating:\n",
        "  theta=4.15966796875\n",
        "  delta=0.000613403320312\n",
        "  llh: 40982.5182562"
       ]
      },
      {
       "output_type": "stream",
       "stream": "stdout",
       "text": [
        "\n",
        "evaluating:\n",
        "  theta=4.16873168945\n",
        "  delta=0.000598625183105\n",
        "  llh: 40982.5196734"
       ]
      },
      {
       "output_type": "stream",
       "stream": "stdout",
       "text": [
        "\n",
        "evaluating:\n",
        "  theta=4.18766021729\n",
        "  delta=0.000580389022827\n",
        "  llh: 40835.9305073"
       ]
      },
      {
       "output_type": "stream",
       "stream": "stdout",
       "text": [
        "\n",
        "evaluating:\n",
        "  theta=4.1753616333\n",
        "  delta=0.000597074508667\n",
        "  llh: 40835.9293967"
       ]
      },
      {
       "output_type": "stream",
       "stream": "stdout",
       "text": [
        "\n",
        "evaluating:\n",
        "  theta=4.16929244995\n",
        "  delta=0.000606549263\n",
        "  llh: 40982.5189139"
       ]
      },
      {
       "output_type": "stream",
       "stream": "stdout",
       "text": [
        "\n",
        "evaluating:\n",
        "  theta=4.16290283203\n",
        "  delta=0.00061149597168\n",
        "  llh: 40982.5184393"
       ]
      },
      {
       "output_type": "stream",
       "stream": "stdout",
       "text": [
        "\n",
        "evaluating:\n",
        "  theta=4.18147087097\n",
        "  delta=0.00058816576004\n",
        "  llh: 40835.9299903"
       ]
      },
      {
       "output_type": "stream",
       "stream": "stdout",
       "text": [
        "\n",
        "evaluating:\n",
        "  theta=4.16909217834\n",
        "  delta=0.000603719234467\n",
        "  llh: 40982.5191853"
       ]
      },
      {
       "output_type": "stream",
       "stream": "stdout",
       "text": [
        "\n",
        "evaluating:\n",
        "  theta=4.17837619781\n",
        "  delta=0.000592054128647\n",
        "  llh: 40835.9297314"
       ]
      },
      {
       "output_type": "stream",
       "stream": "stdout",
       "text": [
        "\n",
        "evaluating:\n",
        "  theta=4.1721868515\n",
        "  delta=0.00059983086586\n",
        "  llh: 40982.5195579"
       ]
      },
      {
       "output_type": "stream",
       "stream": "stdout",
       "text": [
        "\n",
        "evaluating:\n",
        "  theta=4.17682886124\n",
        "  delta=0.00059399831295\n",
        "  llh: 40835.9296018"
       ]
      },
      {
       "output_type": "stream",
       "stream": "stdout",
       "text": [
        "\n",
        "evaluating:\n",
        "  theta=4.17373418808\n",
        "  delta=0.000597886681557\n",
        "  llh: 40982.5197442"
       ]
      },
      {
       "output_type": "stream",
       "stream": "stdout",
       "text": [
        "\n",
        "evaluating:\n",
        "  theta=4.17605519295\n",
        "  delta=0.000594970405102\n",
        "  llh: 40835.929537"
       ]
      },
      {
       "output_type": "stream",
       "stream": "stdout",
       "text": [
        "\n",
        "evaluating:\n",
        "  theta=4.17621541023\n",
        "  delta=0.000597234427929\n",
        "  llh: 40835.9293861"
       ]
      },
      {
       "output_type": "stream",
       "stream": "stdout",
       "text": [
        "\n",
        "evaluating:\n",
        "  theta=4.17672240734\n",
        "  delta=0.000598446398973\n",
        "  llh: 40835.9293052"
       ]
      },
      {
       "output_type": "stream",
       "stream": "stdout",
       "text": [
        "\n",
        "evaluating:\n",
        "  theta=4.17602884769\n",
        "  delta=0.000600550502539\n",
        "  llh: 40835.9291648"
       ]
      },
      {
       "output_type": "stream",
       "stream": "stdout",
       "text": [
        "\n",
        "evaluating:\n",
        "  theta=4.17601567507\n",
        "  delta=0.000603340551257\n",
        "  llh: 40835.9289784"
       ]
      },
      {
       "output_type": "stream",
       "stream": "stdout",
       "text": [
        "\n",
        "evaluating:\n",
        "  theta=4.17737644911\n",
        "  delta=0.000604712441564\n",
        "  llh: 40835.9288868"
       ]
      },
      {
       "output_type": "stream",
       "stream": "stdout",
       "text": [
        "\n",
        "evaluating:\n",
        "  theta=4.17838385701\n",
        "  delta=0.000608531408012\n",
        "  llh: 40835.9286314"
       ]
      },
      {
       "output_type": "stream",
       "stream": "stdout",
       "text": [
        "\n",
        "evaluating:\n",
        "  theta=4.17767712474\n",
        "  delta=0.000613425560296\n",
        "  llh: 40835.9283037"
       ]
      },
      {
       "output_type": "stream",
       "stream": "stdout",
       "text": [
        "\n",
        "evaluating:\n",
        "  theta=4.17815448344\n",
        "  delta=0.000620915140957\n",
        "  llh: 40835.9278015"
       ]
      },
      {
       "output_type": "stream",
       "stream": "stdout",
       "text": [
        "\n",
        "evaluating:\n",
        "  theta=4.18052266538\n",
        "  delta=0.000626105997711\n",
        "  llh: 40835.9274529"
       ]
      },
      {
       "output_type": "stream",
       "stream": "stdout",
       "text": [
        "\n",
        "evaluating:\n",
        "  theta=4.18277616054\n",
        "  delta=0.000637488720939\n",
        "  llh: 40835.9266867"
       ]
      },
      {
       "output_type": "stream",
       "stream": "stdout",
       "text": [
        "\n",
        "evaluating:\n",
        "  theta=4.18254678696\n",
        "  delta=0.000649872453883\n",
        "  llh: 40835.9258506"
       ]
      },
      {
       "output_type": "stream",
       "stream": "stdout",
       "text": [
        "\n",
        "evaluating:\n",
        "  theta=4.18462825194\n",
        "  delta=0.000670542976819\n",
        "  llh: 40835.924449"
       ]
      },
      {
       "output_type": "stream",
       "stream": "stdout",
       "text": [
        "\n",
        "evaluating:\n",
        "  theta=4.18924992904\n",
        "  delta=0.000687116556801\n",
        "  llh: 40835.9233198"
       ]
      },
      {
       "output_type": "stream",
       "stream": "stdout",
       "text": [
        "\n",
        "evaluating:\n",
        "  theta=4.19479765184\n",
        "  delta=0.000720217264723\n",
        "  llh: 40835.9210503"
       ]
      },
      {
       "output_type": "stream",
       "stream": "stdout",
       "text": [
        "\n",
        "evaluating:\n",
        "  theta=4.19664974324\n",
        "  delta=0.000753271520603\n",
        "  llh: 40835.9187648"
       ]
      },
      {
       "output_type": "stream",
       "stream": "stdout",
       "text": [
        "\n",
        "evaluating:\n",
        "  theta=4.2035865346\n",
        "  delta=0.000811162920436\n",
        "  llh: 40835.914716"
       ]
      },
      {
       "output_type": "stream",
       "stream": "stdout",
       "text": [
        "\n",
        "evaluating:\n",
        "  theta=4.2137559345\n",
        "  delta=0.00086083720834\n",
        "  llh: 40835.9111952"
       ]
      },
      {
       "output_type": "stream",
       "stream": "stdout",
       "text": [
        "\n",
        "evaluating:\n",
        "  theta=4.22831977578\n",
        "  delta=0.0009559843241\n",
        "  llh: 41322.4747885"
       ]
      },
      {
       "output_type": "stream",
       "stream": "stdout",
       "text": [
        "\n",
        "evaluating:\n",
        "  theta=4.22254481725\n",
        "  delta=0.000951782864053\n",
        "  llh: 40835.9046375"
       ]
      },
      {
       "output_type": "stream",
       "stream": "stdout",
       "text": [
        "\n",
        "evaluating:\n",
        "  theta=4.23641839996\n",
        "  delta=0.00106756566372\n",
        "  llh: 41322.4744477"
       ]
      },
      {
       "output_type": "stream",
       "stream": "stdout",
       "text": [
        "\n",
        "evaluating:\n",
        "  theta=4.23271421716\n",
        "  delta=0.00100145715196\n",
        "  llh: 41322.474678"
       ]
      },
      {
       "output_type": "stream",
       "stream": "stdout",
       "text": [
        "\n",
        "evaluating:\n",
        "  theta=4.21086845524\n",
        "  delta=0.000858736478316\n",
        "  llh: 40835.911345"
       ]
      },
      {
       "output_type": "stream",
       "stream": "stdout",
       "text": [
        "\n",
        "evaluating:\n",
        "  theta=4.22543229652\n",
        "  delta=0.000953883594077\n",
        "  llh: 41322.4747927"
       ]
      },
      {
       "output_type": "stream",
       "stream": "stdout",
       "text": [
        "\n",
        "evaluating:\n",
        "  theta=4.21450941556\n",
        "  delta=0.000882523257256\n",
        "  llh: 40835.9096447"
       ]
      },
      {
       "output_type": "stream",
       "stream": "stdout",
       "text": [
        "\n",
        "evaluating:\n",
        "  theta=4.22329829831\n",
        "  delta=0.000973468912969\n",
        "  llh: 40835.9030525"
       ]
      },
      {
       "output_type": "stream",
       "stream": "stdout",
       "text": [
        "\n",
        "evaluating:\n",
        "  theta=4.22806948022\n",
        "  delta=0.00102978476528\n",
        "  llh: 41322.4745894"
       ]
      },
      {
       "output_type": "stream",
       "stream": "stdout",
       "text": [
        "\n",
        "evaluating:\n",
        "  theta=4.23133370001\n",
        "  delta=0.00104272851977\n",
        "  llh: 41322.4745439"
       ]
      },
      {
       "output_type": "stream",
       "stream": "stdout",
       "text": [
        "\n",
        "evaluating:\n",
        "  theta=4.21871548667\n",
        "  delta=0.000922574572884\n",
        "  llh: 40835.9067594"
       ]
      },
      {
       "output_type": "stream",
       "stream": "stdout",
       "text": [
        "\n",
        "evaluating:\n",
        "  theta=4.2271276289\n",
        "  delta=0.00100267720414\n",
        "  llh: 41322.4746745"
       ]
      },
      {
       "output_type": "stream",
       "stream": "stdout",
       "text": [
        "\n",
        "evaluating:\n",
        "  theta=4.22081852223\n",
        "  delta=0.000942600230697\n",
        "  llh: 40835.9053062"
       ]
      },
      {
       "output_type": "stream",
       "stream": "stdout",
       "text": [
        "\n",
        "evaluating:\n",
        "  theta=4.22502459334\n",
        "  delta=0.000982651546325\n",
        "  llh: 41322.4747284"
       ]
      },
      {
       "output_type": "stream",
       "stream": "stdout",
       "text": [
        "\n",
        "evaluating:\n",
        "  theta=4.22187004\n",
        "  delta=0.000952613059604\n",
        "  llh: 40835.904577"
       ]
      },
      {
       "output_type": "stream",
       "stream": "stdout",
       "text": [
        "\n",
        "evaluating:\n",
        "  theta=4.22262352106\n",
        "  delta=0.00097429910852\n",
        "  llh: 40835.9029917"
       ]
      },
      {
       "output_type": "stream",
       "stream": "stdout",
       "text": [
        "\n",
        "evaluating:\n",
        "  theta=4.22266287297\n",
        "  delta=0.000985557230754\n",
        "  llh: 40835.9021654"
       ]
      },
      {
       "output_type": "stream",
       "stream": "stdout",
       "text": [
        "\n",
        "evaluating:\n",
        "  theta=4.22409113127\n",
        "  delta=0.00100641308412\n",
        "  llh: 40835.9006289"
       ]
      },
      {
       "output_type": "stream",
       "stream": "stdout",
       "text": [
        "\n",
        "evaluating:\n",
        "  theta=4.22520167691\n",
        "  delta=0.00103331309638\n",
        "  llh: 41322.4745773"
       ]
      },
      {
       "output_type": "stream",
       "stream": "stdout",
       "text": [
        "\n",
        "evaluating:\n",
        "  theta=4.22345570593\n",
        "  delta=0.0010185014019\n",
        "  llh: 40835.8997349"
       ]
      },
      {
       "output_type": "stream",
       "stream": "stdout",
       "text": [
        "\n",
        "evaluating:\n",
        "  theta=4.22353440974\n",
        "  delta=0.00104101764637\n",
        "  llh: 40835.8980628"
       ]
      },
      {
       "output_type": "stream",
       "stream": "stdout",
       "text": [
        "\n",
        "evaluating:\n",
        "  theta=4.22496266804\n",
        "  delta=0.00106187349974\n",
        "  llh: 40835.8965061"
       ]
      },
      {
       "output_type": "stream",
       "stream": "stdout",
       "text": [
        "\n",
        "evaluating:\n",
        "  theta=4.22611256558\n",
        "  delta=0.00110003163423\n",
        "  llh: 41322.4743045"
       ]
      },
      {
       "output_type": "stream",
       "stream": "stdout",
       "text": [
        "\n",
        "evaluating:\n",
        "  theta=4.2244059465\n",
        "  delta=0.00109647806199\n",
        "  llh: 40835.8939064"
       ]
      },
      {
       "output_type": "stream",
       "stream": "stdout",
       "text": [
        "\n",
        "evaluating:\n",
        "  theta=4.22456335412\n",
        "  delta=0.00114151055092\n",
        "  llh: 40835.890492"
       ]
      },
      {
       "output_type": "stream",
       "stream": "stdout",
       "text": [
        "\n",
        "evaluating:\n",
        "  theta=4.22599161243\n",
        "  delta=0.00116236640429\n",
        "  llh: 41322.4739738"
       ]
      },
      {
       "output_type": "stream",
       "stream": "stdout",
       "text": [
        "\n",
        "evaluating:\n",
        "  theta=4.22414871041\n",
        "  delta=0.00107135483585\n",
        "  llh: 40835.8957959"
       ]
      },
      {
       "output_type": "stream",
       "stream": "stdout",
       "text": [
        "\n",
        "evaluating:\n",
        "  theta=4.22374939649\n",
        "  delta=0.00115099188704\n",
        "  llh: 40835.8897686"
       ]
      },
      {
       "output_type": "stream",
       "stream": "stdout",
       "text": [
        "\n",
        "evaluating:\n",
        "  theta=4.22314276071\n",
        "  delta=0.00119555108069\n",
        "  llh: 40835.8863478"
       ]
      },
      {
       "output_type": "stream",
       "stream": "stdout",
       "text": [
        "\n",
        "evaluating:\n",
        "  theta=4.22355740442\n",
        "  delta=0.00126570679576\n",
        "  llh: 40835.8808917"
       ]
      },
      {
       "output_type": "stream",
       "stream": "stdout",
       "text": [
        "\n",
        "evaluating:\n",
        "  theta=4.22326175143\n",
        "  delta=0.00136288277572\n",
        "  llh: 40835.8731922"
       ]
      },
      {
       "output_type": "stream",
       "stream": "stdout",
       "text": [
        "\n",
        "evaluating:\n",
        "  theta=4.22184115802\n",
        "  delta=0.00141692330549\n",
        "  llh: 40835.868839"
       ]
      },
      {
       "output_type": "stream",
       "stream": "stdout",
       "text": [
        "\n",
        "evaluating:\n",
        "  theta=4.22048005996\n",
        "  delta=0.00155462968277\n",
        "  llh: 40835.8575158"
       ]
      },
      {
       "output_type": "stream",
       "stream": "stdout",
       "text": [
        "\n",
        "evaluating:\n",
        "  theta=4.22059905068\n",
        "  delta=0.0017219613778\n",
        "  llh: 40835.8433107"
       ]
      },
      {
       "output_type": "stream",
       "stream": "stdout",
       "text": [
        "\n",
        "evaluating:\n",
        "  theta=4.21932719567\n",
        "  delta=0.00198516652635\n",
        "  llh: 40835.8199773"
       ]
      },
      {
       "output_type": "stream",
       "stream": "stdout",
       "text": [
        "\n",
        "evaluating:\n",
        "  theta=4.2165455042\n",
        "  delta=0.0021769134334\n",
        "  llh: 40835.8022171"
       ]
      },
      {
       "output_type": "stream",
       "stream": "stdout",
       "text": [
        "\n",
        "evaluating:\n",
        "  theta=4.21318738059\n",
        "  delta=0.00258392876223\n",
        "  llh: 40835.7623908"
       ]
      },
      {
       "output_type": "stream",
       "stream": "stdout",
       "text": [
        "\n",
        "evaluating:\n",
        "  theta=4.2120345163\n",
        "  delta=0.00301446560582\n",
        "  llh: 40835.7171159"
       ]
      },
      {
       "output_type": "stream",
       "stream": "stdout",
       "text": [
        "\n",
        "evaluating:\n",
        "  theta=4.20781174447\n",
        "  delta=0.00374438356734\n",
        "  llh: 40835.6329687"
       ]
      },
      {
       "output_type": "stream",
       "stream": "stdout",
       "text": [
        "\n",
        "evaluating:\n",
        "  theta=4.20167192939\n",
        "  delta=0.00434314580323\n",
        "  llh: 40835.5570046"
       ]
      },
      {
       "output_type": "stream",
       "stream": "stdout",
       "text": [
        "\n",
        "evaluating:\n",
        "  theta=4.19284429625\n",
        "  delta=0.00552213544167\n",
        "  llh: 40835.3891663"
       ]
      },
      {
       "output_type": "stream",
       "stream": "stdout",
       "text": [
        "\n",
        "evaluating:\n",
        "  theta=4.18746866012\n",
        "  delta=0.00668259024677\n",
        "  llh: 40835.2003392"
       ]
      },
      {
       "output_type": "stream",
       "stream": "stdout",
       "text": [
        "\n",
        "evaluating:\n",
        "  theta=4.17460929989\n",
        "  delta=0.00873192098904\n",
        "  llh: 40981.2199298"
       ]
      },
      {
       "output_type": "stream",
       "stream": "stdout",
       "text": [
        "\n",
        "evaluating:\n",
        "  theta=4.17250121191\n",
        "  delta=0.0084603421211\n",
        "  llh: 40981.2800877"
       ]
      },
      {
       "output_type": "stream",
       "stream": "stdout",
       "text": [
        "\n",
        "evaluating:\n",
        "  theta=4.19898411133\n",
        "  delta=0.00492337320578\n",
        "  llh: 40835.4774304"
       ]
      },
      {
       "output_type": "stream",
       "stream": "stdout",
       "text": [
        "\n",
        "evaluating:\n",
        "  theta=4.18132884505\n",
        "  delta=0.00728135248266\n",
        "  llh: 40835.0937537"
       ]
      },
      {
       "output_type": "stream",
       "stream": "stdout",
       "text": [
        "\n",
        "evaluating:\n",
        "  theta=4.17250121191\n",
        "  delta=0.0084603421211\n",
        "  llh: 40981.2800877"
       ]
      },
      {
       "output_type": "stream",
       "stream": "stdout",
       "text": [
        "\n",
        "evaluating:\n",
        "  theta=4.17595320892\n",
        "  delta=0.00844180728777\n",
        "  llh: 40834.8694616"
       ]
      },
      {
       "output_type": "stream",
       "stream": "stdout",
       "text": [
        "\n",
        "evaluating:\n",
        "  theta=4.16750766526\n",
        "  delta=0.00990164321082\n",
        "  llh: 40980.9476529"
       ]
      },
      {
       "output_type": "stream",
       "stream": "stdout",
       "text": [
        "\n",
        "evaluating:\n",
        "  theta=4.16981339385\n",
        "  delta=0.00904056952365\n",
        "  llh: 40981.1501609"
       ]
      },
      {
       "output_type": "stream",
       "stream": "stdout",
       "text": [
        "\n",
        "evaluating:\n",
        "  theta=4.18305484355\n",
        "  delta=0.00727208506599\n",
        "  llh: 40835.0954508"
       ]
      },
      {
       "output_type": "stream",
       "stream": "stdout",
       "text": [
        "\n",
        "evaluating:\n",
        "  theta=4.17422721042\n",
        "  delta=0.00845107470443\n",
        "  llh: 40981.2821202"
       ]
      },
      {
       "output_type": "stream",
       "stream": "stdout",
       "text": [
        "\n",
        "evaluating:\n",
        "  theta=4.18084793527\n",
        "  delta=0.0075668324756\n",
        "  llh: 40835.0407434"
       ]
      },
      {
       "output_type": "stream",
       "stream": "stdout",
       "text": [
        "\n",
        "evaluating:\n",
        "  theta=4.17547229914\n",
        "  delta=0.00872728728071\n",
        "  llh: 40834.8107052"
       ]
      },
      {
       "output_type": "stream",
       "stream": "stdout",
       "text": [
        "\n",
        "evaluating:\n",
        "  theta=4.17254402619\n",
        "  delta=0.00945025467974\n",
        "  llh: 40981.0552541"
       ]
      },
      {
       "output_type": "stream",
       "stream": "stdout",
       "text": [
        "\n",
        "evaluating:\n",
        "  theta=4.17057757279\n",
        "  delta=0.00960226209287\n",
        "  llh: 40981.0193739"
       ]
      },
      {
       "output_type": "stream",
       "stream": "stdout",
       "text": [
        "\n",
        "evaluating:\n",
        "  theta=4.17828034465\n",
        "  delta=0.00807568987992\n",
        "  llh: 40834.942747"
       ]
      },
      {
       "output_type": "stream",
       "stream": "stdout",
       "text": [
        "\n",
        "evaluating:\n",
        "  theta=4.17314516341\n",
        "  delta=0.00909340468856\n",
        "  llh: 40981.1380684"
       ]
      },
      {
       "output_type": "stream",
       "stream": "stdout",
       "text": [
        "\n",
        "evaluating:\n",
        "  theta=4.17699654934\n",
        "  delta=0.00833011858208\n",
        "  llh: 40834.8920645"
       ]
      },
      {
       "output_type": "stream",
       "stream": "stdout",
       "text": [
        "\n",
        "evaluating:\n",
        "  theta=4.17442895872\n",
        "  delta=0.0088389759864\n",
        "  llh: 40981.1958991"
       ]
      },
      {
       "output_type": "stream",
       "stream": "stdout",
       "text": [
        "\n",
        "evaluating:\n",
        "  theta=4.17635465169\n",
        "  delta=0.00845733293316\n",
        "  llh: 40834.8663025"
       ]
      },
      {
       "output_type": "stream",
       "stream": "stdout",
       "text": [
        "\n",
        "evaluating:\n",
        "  theta=4.17587374191\n",
        "  delta=0.0087428129261\n",
        "  llh: 40834.8074692"
       ]
      },
      {
       "output_type": "stream",
       "stream": "stdout",
       "text": [
        "\n",
        "evaluating:\n",
        "  theta=4.1758340084\n",
        "  delta=0.00889331574527\n",
        "  llh: 40834.7758844"
       ]
      },
      {
       "output_type": "stream",
       "stream": "stdout",
       "text": [
        "\n",
        "evaluating:\n",
        "  theta=4.17495165586\n",
        "  delta=0.00916327009282\n",
        "  llh: 40981.1220113"
       ]
      },
      {
       "output_type": "stream",
       "stream": "stdout",
       "text": [
        "\n",
        "evaluating:\n",
        "  theta=4.17600390273\n",
        "  delta=0.00863381722307\n",
        "  llh: 40834.8300983"
       ]
      },
      {
       "output_type": "stream",
       "stream": "stdout",
       "text": [
        "\n",
        "evaluating:\n",
        "  theta=4.17530240481\n",
        "  delta=0.00898678580291\n",
        "  llh: 40834.7560712"
       ]
      },
      {
       "output_type": "stream",
       "stream": "stdout",
       "text": [
        "\n",
        "evaluating:\n",
        "  theta=4.17495165586\n",
        "  delta=0.00916327009282\n",
        "  llh: 40981.1220113"
       ]
      },
      {
       "output_type": "stream",
       "stream": "stdout",
       "text": [
        "\n",
        "evaluating:\n",
        "  theta=4.17566411407\n",
        "  delta=0.00915281426747\n",
        "  llh: 40834.7205044"
       ]
      },
      {
       "output_type": "stream",
       "stream": "stdout",
       "text": [
        "\n",
        "evaluating:\n",
        "  theta=4.17576002154\n",
        "  delta=0.00936557776085\n",
        "  llh: 40834.6742284"
       ]
      },
      {
       "output_type": "stream",
       "stream": "stdout",
       "text": [
        "\n",
        "evaluating:\n",
        "  theta=4.17522841795\n",
        "  delta=0.00945904781848\n",
        "  llh: 40834.6536511"
       ]
      },
      {
       "output_type": "stream",
       "stream": "stdout",
       "text": [
        "\n",
        "evaluating:\n",
        "  theta=4.17492562273\n",
        "  delta=0.00974191385509\n",
        "  llh: 40980.9860924"
       ]
      },
      {
       "output_type": "stream",
       "stream": "stdout",
       "text": [
        "\n",
        "evaluating:\n",
        "  theta=4.17568603468\n",
        "  delta=0.00983783977642\n",
        "  llh: 40834.5687132"
       ]
      },
      {
       "output_type": "stream",
       "stream": "stdout",
       "text": [
        "\n",
        "evaluating:\n",
        "  theta=4.17587784961\n",
        "  delta=0.0102633667632\n",
        "  llh: 40834.4703375"
       ]
      },
      {
       "output_type": "stream",
       "stream": "stdout",
       "text": [
        "\n",
        "evaluating:\n",
        "  theta=4.17534624602\n",
        "  delta=0.0103568368208\n",
        "  llh: 40834.4483095"
       ]
      },
      {
       "output_type": "stream",
       "stream": "stdout",
       "text": [
        "\n",
        "evaluating:\n",
        "  theta=4.17513935826\n",
        "  delta=0.0108524663508\n",
        "  llh: 40834.3289846"
       ]
      },
      {
       "output_type": "stream",
       "stream": "stdout",
       "text": [
        "\n",
        "evaluating:\n",
        "  theta=4.17578878991\n",
        "  delta=0.0116567852955\n",
        "  llh: 40834.1263248"
       ]
      },
      {
       "output_type": "stream",
       "stream": "stdout",
       "text": [
        "\n",
        "evaluating:\n",
        "  theta=4.17606897589\n",
        "  delta=0.012755654034\n",
        "  llh: 40833.8314464"
       ]
      },
      {
       "output_type": "stream",
       "stream": "stdout",
       "text": [
        "\n",
        "evaluating:\n",
        "  theta=4.17533048455\n",
        "  delta=0.0133447536216\n",
        "  llh: 40833.6648205"
       ]
      },
      {
       "output_type": "stream",
       "stream": "stdout",
       "text": [
        "\n",
        "evaluating:\n",
        "  theta=4.17505680202\n",
        "  delta=0.0148854470509\n",
        "  llh: 40833.2009261"
       ]
      },
      {
       "output_type": "stream",
       "stream": "stdout",
       "text": [
        "\n",
        "evaluating:\n",
        "  theta=4.17598641965\n",
        "  delta=0.0167886347341\n",
        "  llh: 40832.5719475"
       ]
      },
      {
       "output_type": "stream",
       "stream": "stdout",
       "text": [
        "\n",
        "evaluating:\n",
        "  theta=4.17640995035\n",
        "  delta=0.0197567189257\n",
        "  llh: 40831.4684653"
       ]
      },
      {
       "output_type": "stream",
       "stream": "stdout",
       "text": [
        "\n",
        "evaluating:\n",
        "  theta=4.17539777648\n",
        "  delta=0.0218865119425\n",
        "  llh: 40830.5853624"
       ]
      },
      {
       "output_type": "stream",
       "stream": "stdout",
       "text": [
        "\n",
        "evaluating:\n",
        "  theta=4.17506217677\n",
        "  delta=0.0264519408968\n",
        "  llh: 40828.4387357"
       ]
      },
      {
       "output_type": "stream",
       "stream": "stdout",
       "text": [
        "\n",
        "evaluating:\n",
        "  theta=4.1764153251\n",
        "  delta=0.0313232127716\n",
        "  llh: 40825.77395"
       ]
      },
      {
       "output_type": "stream",
       "stream": "stdout",
       "text": [
        "\n",
        "evaluating:\n",
        "  theta=4.17709458664\n",
        "  delta=0.039542095632\n",
        "  llh: 40820.4314537"
       ]
      },
      {
       "output_type": "stream",
       "stream": "stdout",
       "text": [
        "\n",
        "evaluating:\n",
        "  theta=4.17574681306\n",
        "  delta=0.0462373176031\n",
        "  llh: 40815.328848"
       ]
      },
      {
       "output_type": "stream",
       "stream": "stdout",
       "text": [
        "\n",
        "evaluating:\n",
        "  theta=4.17541524441\n",
        "  delta=0.0594776169419\n",
        "  llh: 40803.3934382"
       ]
      },
      {
       "output_type": "stream",
       "stream": "stdout",
       "text": [
        "\n",
        "evaluating:\n",
        "  theta=4.17744765428\n",
        "  delta=0.0725677716771\n",
        "  llh: 40789.5123039"
       ]
      },
      {
       "output_type": "stream",
       "stream": "stdout",
       "text": [
        "\n",
        "evaluating:\n",
        "  theta=4.17864039304\n",
        "  delta=0.0956256870672\n",
        "  llh: 40760.9816791"
       ]
      },
      {
       "output_type": "stream",
       "stream": "stdout",
       "text": [
        "\n",
        "evaluating:\n",
        "  theta=4.17696105081\n",
        "  delta=0.115561208377\n",
        "  llh: 40733.8804263"
       ]
      },
      {
       "output_type": "stream",
       "stream": "stdout",
       "text": [
        "\n",
        "evaluating:\n",
        "  theta=4.17689428289\n",
        "  delta=0.15357076475\n",
        "  llh: 40683.1307824"
       ]
      },
      {
       "output_type": "stream",
       "stream": "stdout",
       "text": [
        "\n",
        "evaluating:\n",
        "  theta=4.18011943152\n",
        "  delta=0.189718834875\n",
        "  llh: 40644.3679744"
       ]
      },
      {
       "output_type": "stream",
       "stream": "stdout",
       "text": [
        "\n",
        "evaluating:\n",
        "  theta=4.18247152508\n",
        "  delta=0.254839443841\n",
        "  llh: 40631.5978322"
       ]
      },
      {
       "output_type": "stream",
       "stream": "stdout",
       "text": [
        "\n",
        "evaluating:\n",
        "  theta=4.18072541493\n",
        "  delta=0.312784521524\n",
        "  llh: 40711.4556904"
       ]
      },
      {
       "output_type": "stream",
       "stream": "stdout",
       "text": [
        "\n",
        "evaluating:\n",
        "  theta=4.18020415946\n",
        "  delta=0.25849481291\n",
        "  llh: 40633.8552036"
       ]
      },
      {
       "output_type": "stream",
       "stream": "stdout",
       "text": [
        "\n",
        "evaluating:\n",
        "  theta=4.18578140164\n",
        "  delta=0.359763492002\n",
        "  llh: 40851.3168369"
       ]
      },
      {
       "output_type": "stream",
       "stream": "stdout",
       "text": [
        "\n",
        "evaluating:\n",
        "  theta=4.17911606258\n",
        "  delta=0.205118946563\n",
        "  llh: 40633.3723398"
       ]
      },
      {
       "output_type": "stream",
       "stream": "stdout",
       "text": [
        "\n",
        "evaluating:\n",
        "  theta=4.1813834282\n",
        "  delta=0.201463577494\n",
        "  llh: 40635.5879656"
       ]
      },
      {
       "output_type": "stream",
       "stream": "stdout",
       "text": [
        "\n",
        "evaluating:\n",
        "  theta=4.18049897664\n",
        "  delta=0.244237004056\n",
        "  llh: 40627.0144038"
       ]
      },
      {
       "output_type": "stream",
       "stream": "stdout",
       "text": [
        "\n",
        "evaluating:\n",
        "  theta=4.18385443914\n",
        "  delta=0.293957501335\n",
        "  llh: 40675.3607987"
       ]
      },
      {
       "output_type": "stream",
       "stream": "stdout",
       "text": [
        "\n",
        "evaluating:\n",
        "  theta=4.18030065672\n",
        "  delta=0.227328585256\n",
        "  llh: 40625.4816786"
       ]
      },
      {
       "output_type": "stream",
       "stream": "stdout",
       "text": [
        "\n",
        "evaluating:\n",
        "  theta=4.17832810829\n",
        "  delta=0.21672614547\n",
        "  llh: 40628.0358897"
       ]
      },
      {
       "output_type": "stream",
       "stream": "stdout",
       "text": [
        "\n",
        "evaluating:\n",
        "  theta=4.17936396248\n",
        "  delta=0.226254470063\n",
        "  llh: 40625.6207226"
       ]
      },
      {
       "output_type": "stream",
       "stream": "stdout",
       "text": [
        "\n",
        "evaluating:\n",
        "  theta=4.17916564256\n",
        "  delta=0.209346051263\n",
        "  llh: 40631.123591"
       ]
      },
      {
       "output_type": "stream",
       "stream": "stdout",
       "text": [
        "\n",
        "evaluating:\n",
        "  theta=4.18016564312\n",
        "  delta=0.235514265858\n",
        "  llh: 40625.2940354"
       ]
      },
      {
       "output_type": "stream",
       "stream": "stdout",
       "text": [
        "\n",
        "evaluating:\n",
        "  theta=4.18110233736\n",
        "  delta=0.23658838105\n",
        "  llh: 40625.3989284"
       ]
      },
      {
       "output_type": "stream",
       "stream": "stdout",
       "text": [
        "\n",
        "evaluating:\n",
        "  theta=4.18096732376\n",
        "  delta=0.244774061652\n",
        "  llh: 40627.1827723"
       ]
      },
      {
       "output_type": "stream",
       "stream": "stdout",
       "text": [
        "\n",
        "evaluating:\n",
        "  theta=4.18046732348\n",
        "  delta=0.231689954355\n",
        "  llh: 40625.1845988"
       ]
      },
      {
       "output_type": "stream",
       "stream": "stdout",
       "text": [
        "\n",
        "evaluating:\n",
        "  theta=4.17953062924\n",
        "  delta=0.230615839162\n",
        "  llh: 40625.226621"
       ]
      },
      {
       "output_type": "stream",
       "stream": "stdout",
       "text": [
        "\n",
        "evaluating:\n",
        "  theta=4.1798323096\n",
        "  delta=0.226791527659\n",
        "  llh: 40625.5471263"
       ]
      },
      {
       "output_type": "stream",
       "stream": "stdout",
       "text": [
        "\n",
        "evaluating:\n",
        "  theta=4.18008230974\n",
        "  delta=0.233333581308\n",
        "  llh: 40625.1857569"
       ]
      },
      {
       "output_type": "stream",
       "stream": "stdout",
       "text": [
        "\n",
        "evaluating:\n",
        "  theta=4.18101900398\n",
        "  delta=0.234407696501\n",
        "  llh: 40625.2223246"
       ]
      },
      {
       "output_type": "stream",
       "stream": "stdout",
       "text": [
        "\n",
        "evaluating:\n",
        "  theta=4.1806469103\n",
        "  delta=0.233459732166\n",
        "  llh: 40625.1891429"
       ]
      },
      {
       "output_type": "stream",
       "stream": "stdout",
       "text": [
        "\n",
        "evaluating:\n",
        "  theta=4.17990272293\n",
        "  delta=0.231563803497\n",
        "  llh: 40625.1877902"
       ]
      },
      {
       "output_type": "stream",
       "stream": "stdout",
       "text": [
        "\n",
        "evaluating:\n",
        "  theta=4.18008876977\n",
        "  delta=0.232037785664\n",
        "  llh: 40625.1782132"
       ]
      },
      {
       "output_type": "stream",
       "stream": "stdout",
       "text": [
        "\n",
        "evaluating:\n",
        "  theta=4.18047378351\n",
        "  delta=0.230394158711\n",
        "  llh: 40625.2394695"
       ]
      },
      {
       "output_type": "stream",
       "stream": "stdout",
       "text": [
        "\n",
        "evaluating:\n",
        "  theta=4.18018017818\n",
        "  delta=0.232598725659\n",
        "  llh: 40625.1753997"
       ]
      },
      {
       "output_type": "stream",
       "stream": "stdout",
       "text": [
        "\n",
        "evaluating:\n",
        "  theta=4.17980162447\n",
        "  delta=0.232946556968\n",
        "  llh: 40625.178312"
       ]
      },
      {
       "output_type": "stream",
       "stream": "stdout",
       "text": [
        "\n",
        "evaluating:\n",
        "  theta=4.17996804922\n",
        "  delta=0.232632406315\n",
        "  llh: 40625.1755256"
       ]
      },
      {
       "output_type": "stream",
       "stream": "stdout",
       "text": [
        "\n",
        "evaluating:\n",
        "  theta=4.18005945764\n",
        "  delta=0.233193346309\n",
        "  llh: 40625.1825468"
       ]
      },
      {
       "output_type": "stream",
       "stream": "stdout",
       "text": [
        "\n",
        "evaluating:\n",
        "  theta=4.18008144174\n",
        "  delta=0.232326675825\n",
        "  llh: 40625.1756084"
       ]
      },
      {
       "output_type": "stream",
       "stream": "stdout",
       "text": [
        "\n",
        "evaluating:\n",
        "  theta=4.18006678567\n",
        "  delta=0.232904456148\n",
        "  llh: 40625.1777694"
       ]
      },
      {
       "output_type": "stream",
       "stream": "stdout",
       "text": [
        "\n",
        "evaluating:\n",
        "  theta=4.18007777772\n",
        "  delta=0.232471120906\n",
        "  llh: 40625.1752262"
       ]
      },
      {
       "output_type": "stream",
       "stream": "stdout",
       "text": [
        "\n",
        "evaluating:\n",
        "  theta=4.18028990668\n",
        "  delta=0.23243744025\n",
        "  llh: 40625.1752604"
       ]
      },
      {
       "output_type": "stream",
       "stream": "stdout",
       "text": [
        "\n",
        "evaluating:\n",
        "  theta=4.18018750622\n",
        "  delta=0.232309835497\n",
        "  llh: 40625.1756929"
       ]
      },
      {
       "output_type": "stream",
       "stream": "stdout",
       "text": [
        "\n",
        "evaluating:\n",
        "  theta=4.18018201019\n",
        "  delta=0.232526503118\n",
        "  llh: 40625.1752426"
       ]
      },
      {
       "output_type": "stream",
       "stream": "stdout",
       "text": [
        "\n",
        "evaluating:\n",
        "  theta=4.17996988123\n",
        "  delta=0.232560183774\n",
        "  llh: 40625.1752967"
       ]
      },
      {
       "output_type": "stream",
       "stream": "stdout",
       "text": [
        "\n",
        "evaluating:\n",
        "  theta=4.18020990032\n",
        "  delta=0.232468126131\n",
        "  llh: 40625.1752279"
       ]
      },
      {
       "output_type": "stream",
       "stream": "stdout",
       "text": [
        "\n",
        "evaluating:\n",
        "  theta=4.18010566785\n",
        "  delta=0.232412743919\n",
        "  llh: 40625.1753067"
       ]
      },
      {
       "output_type": "stream",
       "stream": "stdout",
       "text": [
        "\n",
        "evaluating:\n",
        "  theta=4.18016292461\n",
        "  delta=0.232498063318\n",
        "  llh: 40625.1752229"
       ]
      },
      {
       "output_type": "stream",
       "stream": "stdout",
       "text": [
        "\n"
       ]
      }
     ],
     "prompt_number": 135
    },
    {
     "cell_type": "code",
     "collapsed": false,
     "input": [
      "f"
     ],
     "language": "python",
     "metadata": {},
     "outputs": [
      {
       "metadata": {},
       "output_type": "pyout",
       "prompt_number": 136,
       "text": [
        "  status: 0\n",
        "    nfev: 197\n",
        " success: True\n",
        "     fun: 40625.175222874786\n",
        "       x: array([ 4.18016292,  0.23249806])\n",
        " message: 'Optimization terminated successfully.'\n",
        "     nit: 97"
       ]
      }
     ],
     "prompt_number": 136
    },
    {
     "cell_type": "code",
     "collapsed": false,
     "input": [
      "m = 13\n",
      "theta = 6"
     ],
     "language": "python",
     "metadata": {},
     "outputs": [],
     "prompt_number": 46
    },
    {
     "cell_type": "code",
     "collapsed": false,
     "input": [
      "dv = (2*theta)/float(m-1)\n",
      "print dv"
     ],
     "language": "python",
     "metadata": {},
     "outputs": [
      {
       "output_type": "stream",
       "stream": "stdout",
       "text": [
        "1.0\n"
       ]
      }
     ],
     "prompt_number": 58
    },
    {
     "cell_type": "code",
     "collapsed": false,
     "input": [
      "V = np.arange(-theta, theta+(dv/2), dv)"
     ],
     "language": "python",
     "metadata": {},
     "outputs": [],
     "prompt_number": 48
    },
    {
     "cell_type": "code",
     "collapsed": false,
     "input": [
      "np.round(V, 4)"
     ],
     "language": "python",
     "metadata": {},
     "outputs": [
      {
       "metadata": {},
       "output_type": "pyout",
       "prompt_number": 49,
       "text": [
        "array([-6., -5., -4., -3., -2., -1.,  0.,  1.,  2.,  3.,  4.,  5.,  6.])"
       ]
      }
     ],
     "prompt_number": 49
    },
    {
     "cell_type": "code",
     "collapsed": false,
     "input": [
      "len(V)"
     ],
     "language": "python",
     "metadata": {},
     "outputs": [
      {
       "metadata": {},
       "output_type": "pyout",
       "prompt_number": 50,
       "text": [
        "13"
       ]
      }
     ],
     "prompt_number": 50
    },
    {
     "cell_type": "code",
     "collapsed": false,
     "input": [],
     "language": "python",
     "metadata": {},
     "outputs": []
    }
   ],
   "metadata": {}
  }
 ]
}