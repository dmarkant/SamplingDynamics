{
 "metadata": {
  "name": "",
  "signature": "sha256:33fa5b3704dfd6725b1be02e69a379a54f5485e26348f8fa95a347c728b96a24"
 },
 "nbformat": 3,
 "nbformat_minor": 0,
 "worksheets": [
  {
   "cells": [
    {
     "cell_type": "code",
     "collapsed": false,
     "input": [
      "all_results = []\n",
      "p_resp = []\n",
      "simdata = {}\n",
      "\n",
      "for theta in [10]:\n",
      "    for i, fd in enumerate(fitdata):\n",
      "        simdata[(theta, i)] = []\n",
      "        \n",
      "        pars = {'max_T': 300,\n",
      "                'options': fd['options'],\n",
      "                'z_temp': 1.,\n",
      "                'delta': 1.,\n",
      "                'theta': theta}\n",
      "        result = run(pars)\n",
      "        p_resp = result['resp_prob']\n",
      "        p_stop_t_cum = result['p_stop_t_cump']\n",
      "\n",
      "        # simulate some data\n",
      "        for xi in range(200):\n",
      "            resp = 0 if np.random.random() < p_resp[0] else 1\n",
      "            t = np.sum(p_stop_t_cum[:,resp] < np.random.random())\n",
      "            simdata[(theta, i)].append([t, resp])"
     ],
     "language": "python",
     "metadata": {},
     "outputs": []
    },
    {
     "cell_type": "code",
     "collapsed": false,
     "input": [
      "fig, ax = plt.subplots(figsize=(20,4))\n",
      "ax.plot([np.mean(np.array(simdata[(10, prob)])[:,1]) for prob in range(len(fitdata))])"
     ],
     "language": "python",
     "metadata": {},
     "outputs": []
    },
    {
     "cell_type": "code",
     "collapsed": false,
     "input": [
      "fitdata = []\n",
      "for gid in gamble_lab_srt:\n",
      "    gdata = data[data['gamble_lab']==gid]\n",
      "\n",
      "    tofit = []\n",
      "    for obs in gdata[['decision', 'samplesize', 'group']].values:\n",
      "        choice = 0 if obs[0]=='L' else 1\n",
      "        group = 0 if obs[2]=='old' else 1\n",
      "        samplesize = obs[1]\n",
      "        tofit.append([choice, samplesize, group])\n",
      "    tofit = np.array(tofit)\n",
      "    \n",
      "    ss_A = tofit[np.where(tofit[:,0]==0)[0],1]\n",
      "    ss_B = tofit[np.where(tofit[:,0]==1)[0],1]\n",
      "    max_t = np.max([np.max(ss_A), np.max(ss_B)]) + 1\n",
      "    \n",
      "    fitdata.append({'options': get_options(gid),\n",
      "                    'max_t': max_t,\n",
      "                    'samplesize': tofit})"
     ],
     "language": "python",
     "metadata": {},
     "outputs": []
    }
   ],
   "metadata": {}
  }
 ]
}