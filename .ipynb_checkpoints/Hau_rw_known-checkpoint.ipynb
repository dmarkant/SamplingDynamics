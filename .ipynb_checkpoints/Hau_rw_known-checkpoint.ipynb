{
 "metadata": {
  "name": "",
  "signature": "sha256:8aba807efd9ef0642a43b79935a3d9622d552d4156ec4d8a83e6a853af516db4"
 },
 "nbformat": 3,
 "nbformat_minor": 0,
 "worksheets": [
  {
   "cells": [
    {
     "cell_type": "code",
     "collapsed": false,
     "input": [
      "%matplotlib inline\n",
      "import matplotlib.pyplot as plt\n",
      "import numpy as np\n",
      "import pandas as pd\n",
      "from helpers import *\n",
      "from scipy.stats import norm, gamma, lognorm\n",
      "\n",
      "from mypy.explib.hau2008 import hau2008\n",
      "from model_rw_known import model_rw_known\n",
      "%load_ext autoreload\n",
      "%autoreload 2"
     ],
     "language": "python",
     "metadata": {},
     "outputs": [
      {
       "output_type": "stream",
       "stream": "stdout",
       "text": [
        "The autoreload extension is already loaded. To reload it, use:\n",
        "  %reload_ext autoreload\n"
       ]
      }
     ],
     "prompt_number": 18
    },
    {
     "cell_type": "code",
     "collapsed": false,
     "input": [
      "subjdata = hau2008.sampledata_by_subject(study=1)"
     ],
     "language": "python",
     "metadata": {},
     "outputs": [],
     "prompt_number": 2
    },
    {
     "cell_type": "code",
     "collapsed": false,
     "input": [
      "data = subjdata[7][0]\n",
      "model_rw_known.run(pars={'options': data['options'],\n",
      "                         'data': data,\n",
      "                         'z_temp': 1.})"
     ],
     "language": "python",
     "metadata": {},
     "outputs": [
      {
       "output_type": "stream",
       "stream": "stdout",
       "text": [
        "{'outcomes': array([-3, -3, -4, -3, -3,  0, -4, -3, -3]), 'gid': 4, 'samples': array([0, 0, 1, 0, 0, 1, 1, 0, 0]), 'sid': 7, 'choice': 1, 'options': [array([[-4. ,  0.8],\n",
        "       [ 0. ,  0.2]]), array([[-3.,  1.],\n",
        "       [ 0.,  0.]])]}\n",
        "-3\n",
        "diff: 0.2\n",
        "2.56\n",
        "1.1\n",
        "-3\n",
        "diff: 0.2\n",
        "2.56\n",
        "1.1\n",
        "-3\n",
        "diff: 0.2\n",
        "2.56\n",
        "1.1\n",
        "-3\n",
        "diff: 0.2\n",
        "2.56\n",
        "1.1\n",
        "-3\n",
        "diff: 0.2\n",
        "2.56\n",
        "1.1\n",
        "-3\n",
        "diff: 0.2\n",
        "2.56\n",
        "1.1\n",
        "-3\n",
        "diff: 0.2\n",
        "2.56\n",
        "1.1\n",
        "-3\n",
        "diff: 0.2\n",
        "2.56\n",
        "1.1\n",
        "-3\n",
        "diff: 0.2\n",
        "2.56\n",
        "1.1\n",
        "[[ 1.          0.          0.          0.          0.          0.          0.\n",
        "   0.          0.          0.          0.        ]\n",
        " [ 0.          1.          0.          0.          0.          0.          0.\n",
        "   0.          0.          0.          0.        ]\n",
        " [-0.03846154  0.          0.23076923  0.80769231  0.          0.          0.\n",
        "   0.          0.          0.          0.        ]\n",
        " [ 0.          0.         -0.03846154  0.23076923  0.80769231  0.          0.\n",
        "   0.          0.          0.          0.        ]\n",
        " [ 0.          0.          0.         -0.03846154  0.23076923  0.80769231\n",
        "   0.          0.          0.          0.          0.        ]\n",
        " [ 0.          0.          0.          0.         -0.03846154  0.23076923\n",
        "   0.80769231  0.          0.          0.          0.        ]\n",
        " [ 0.          0.          0.          0.          0.         -0.03846154\n",
        "   0.23076923  0.80769231  0.          0.          0.        ]\n",
        " [ 0.          0.          0.          0.          0.          0.\n",
        "  -0.03846154  0.23076923  0.80769231  0.          0.        ]\n",
        " [ 0.          0.          0.          0.          0.          0.          0.\n",
        "  -0.03846154  0.23076923  0.80769231  0.        ]\n",
        " [ 0.          0.          0.          0.          0.          0.          0.\n",
        "   0.         -0.03846154  0.23076923  0.80769231]\n",
        " [ 0.          0.80769231  0.          0.          0.          0.          0.\n",
        "   0.          0.         -0.03846154  0.23076923]]\n"
       ]
      },
      {
       "ename": "NameError",
       "evalue": "global name 'dummy' is not defined",
       "output_type": "pyerr",
       "traceback": [
        "\u001b[0;31m---------------------------------------------------------------------------\u001b[0m\n\u001b[0;31mNameError\u001b[0m                                 Traceback (most recent call last)",
        "\u001b[0;32m<ipython-input-39-17739df618ce>\u001b[0m in \u001b[0;36m<module>\u001b[0;34m()\u001b[0m\n\u001b[1;32m      2\u001b[0m model_rw_known.run(pars={'options': data['options'],\n\u001b[1;32m      3\u001b[0m                          \u001b[0;34m'data'\u001b[0m\u001b[0;34m:\u001b[0m \u001b[0mdata\u001b[0m\u001b[0;34m,\u001b[0m\u001b[0;34m\u001b[0m\u001b[0m\n\u001b[0;32m----> 4\u001b[0;31m                          'z_temp': 1.})\n\u001b[0m",
        "\u001b[0;32m/Users/markant/code/SamplingDynamics/model_rw_known/model_rw_known.py\u001b[0m in \u001b[0;36mrun\u001b[0;34m(pars)\u001b[0m\n\u001b[1;32m    312\u001b[0m \u001b[0;34m\u001b[0m\u001b[0m\n\u001b[1;32m    313\u001b[0m \u001b[0;34m\u001b[0m\u001b[0m\n\u001b[0;32m--> 314\u001b[0;31m         \u001b[0mtransition_matrix_PQR\u001b[0m\u001b[0;34m(\u001b[0m\u001b[0mV\u001b[0m\u001b[0;34m,\u001b[0m \u001b[0mdv\u001b[0m\u001b[0;34m,\u001b[0m \u001b[0;34m[\u001b[0m\u001b[0msampled\u001b[0m\u001b[0;34m,\u001b[0m \u001b[0moutcome\u001b[0m\u001b[0;34m]\u001b[0m\u001b[0;34m,\u001b[0m \u001b[0mdelta\u001b[0m\u001b[0;34m,\u001b[0m \u001b[0mtau\u001b[0m\u001b[0;34m,\u001b[0m \u001b[0mgamma\u001b[0m\u001b[0;34m,\u001b[0m \u001b[0malpha\u001b[0m\u001b[0;34m,\u001b[0m \u001b[0moptions\u001b[0m\u001b[0;34m,\u001b[0m \u001b[0mpow_gain\u001b[0m\u001b[0;34m,\u001b[0m \u001b[0mpow_loss\u001b[0m\u001b[0;34m,\u001b[0m \u001b[0mw_loss\u001b[0m\u001b[0;34m)\u001b[0m\u001b[0;34m\u001b[0m\u001b[0m\n\u001b[0m\u001b[1;32m    315\u001b[0m \u001b[0;34m\u001b[0m\u001b[0m\n\u001b[1;32m    316\u001b[0m         \u001b[0;32mprint\u001b[0m \u001b[0msampled\u001b[0m\u001b[0;34m,\u001b[0m \u001b[0moutcome\u001b[0m\u001b[0;34m\u001b[0m\u001b[0m\n",
        "\u001b[0;32m/Users/markant/code/SamplingDynamics/model_rw_known/model_rw_known.py\u001b[0m in \u001b[0;36mtransition_matrix_PQR\u001b[0;34m(V, dv, obs, delta, tau, gamma, alpha, options, pow_gain, pow_loss, w_loss)\u001b[0m\n\u001b[1;32m    126\u001b[0m \u001b[0;34m\u001b[0m\u001b[0m\n\u001b[1;32m    127\u001b[0m     \u001b[0;32mprint\u001b[0m \u001b[0mtm_pqr\u001b[0m\u001b[0;34m\u001b[0m\u001b[0m\n\u001b[0;32m--> 128\u001b[0;31m     \u001b[0;32mprint\u001b[0m \u001b[0mdummy\u001b[0m\u001b[0;34m\u001b[0m\u001b[0m\n\u001b[0m\u001b[1;32m    129\u001b[0m \u001b[0;34m\u001b[0m\u001b[0m\n\u001b[1;32m    130\u001b[0m     \u001b[0;32mreturn\u001b[0m \u001b[0mtm_pqr\u001b[0m\u001b[0;34m\u001b[0m\u001b[0m\n",
        "\u001b[0;31mNameError\u001b[0m: global name 'dummy' is not defined"
       ]
      }
     ],
     "prompt_number": 39
    },
    {
     "cell_type": "code",
     "collapsed": false,
     "input": [
      "subjdata[7][0]"
     ],
     "language": "python",
     "metadata": {},
     "outputs": [
      {
       "metadata": {},
       "output_type": "pyout",
       "prompt_number": 12,
       "text": [
        "{'choice': 1, 'gid': 4, 'options': [array([[-4. ,  0.8],\n",
        "         [ 0. ,  0.2]]), array([[-3.,  1.],\n",
        "         [ 0.,  0.]])], 'outcomes': array([-3, -3, -4, -3, -3,  0, -4, -3, -3]), 'samples': array([0, 0, 1, 0, 0, 1, 1, 0, 0]), 'sid': 7}"
       ]
      }
     ],
     "prompt_number": 12
    },
    {
     "cell_type": "code",
     "collapsed": false,
     "input": [],
     "language": "python",
     "metadata": {},
     "outputs": []
    }
   ],
   "metadata": {}
  }
 ]
}