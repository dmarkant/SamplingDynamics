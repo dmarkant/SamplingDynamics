{
 "metadata": {
  "name": "",
  "signature": "sha256:c3c47f71b183868136ff7eeffb326b4cbe9828032cea716103c2ca95d1f22291"
 },
 "nbformat": 3,
 "nbformat_minor": 0,
 "worksheets": [
  {
   "cells": [
    {
     "cell_type": "code",
     "collapsed": false,
     "input": [
      "%matplotlib inline\n",
      "import matplotlib.pyplot as plt\n",
      "import numpy as np\n",
      "import pandas as pd\n",
      "from helpers import *\n",
      "from scipy.stats import norm, gamma, lognorm\n",
      "from scipy.optimize import minimize\n",
      "\n",
      "from mypy.explib.hau2008 import hau2008\n",
      "from model_rw_cpt_pswitch import model_rw_cpt_pswitch\n",
      "%load_ext autoreload\n",
      "%autoreload 2\n",
      "\n",
      "data_by_gamble = pd.read_csv('dfe_by_gamble.csv')\n",
      "\n",
      "def get_options(gid):\n",
      "    gdata = data_by_gamble[data_by_gamble['gid']==gid]\n",
      "    L = np.array([gdata[['L_x1', 'L_p1']].values, gdata[['L_x2', 'L_p2']].values, gdata[['L_x3', 'L_p3']].values]).reshape((3,2))\n",
      "    H = np.array([gdata[['H_x1', 'H_p1']].values, gdata[['H_x2', 'H_p2']].values, gdata[['H_x3', 'H_p3']].values]).reshape((3,2))\n",
      "    return [L, H]"
     ],
     "language": "python",
     "metadata": {},
     "outputs": [
      {
       "output_type": "stream",
       "stream": "stdout",
       "text": [
        "The autoreload extension is already loaded. To reload it, use:\n",
        "  %reload_ext autoreload\n"
       ]
      }
     ],
     "prompt_number": 34
    },
    {
     "cell_type": "code",
     "collapsed": false,
     "input": [
      "data = pd.read_csv('dfe_by_game.csv')\n",
      "gamble_lab = data['gamble_lab'].unique()\n",
      "\n",
      "# sort by problem type\n",
      "gambles = data[data['partid']==1]\n",
      "gambles_srt = gambles.sort(['domain', 'pairtype', 'session'])\n",
      "gamble_lab_srt = gambles_srt['gamble_lab']"
     ],
     "language": "python",
     "metadata": {},
     "outputs": [],
     "prompt_number": 2
    },
    {
     "cell_type": "code",
     "collapsed": false,
     "input": [
      "data.head(10)"
     ],
     "language": "python",
     "metadata": {},
     "outputs": [
      {
       "html": [
        "<div style=\"max-height:1000px;max-width:1500px;overflow:auto;\">\n",
        "<table border=\"1\" class=\"dataframe\">\n",
        "  <thead>\n",
        "    <tr style=\"text-align: right;\">\n",
        "      <th></th>\n",
        "      <th>Unnamed: 0</th>\n",
        "      <th>partid</th>\n",
        "      <th>gamble_lab</th>\n",
        "      <th>samplesize</th>\n",
        "      <th>switchfreq</th>\n",
        "      <th>switchcount</th>\n",
        "      <th>decision</th>\n",
        "      <th>group</th>\n",
        "      <th>domain</th>\n",
        "      <th>session</th>\n",
        "      <th>switch_grp</th>\n",
        "      <th>pairtype</th>\n",
        "      <th>ev_diff</th>\n",
        "      <th>L_id</th>\n",
        "      <th>L_ev</th>\n",
        "      <th>L_ev_var</th>\n",
        "      <th>H_id</th>\n",
        "      <th>H_ev</th>\n",
        "      <th>H_ev_var</th>\n",
        "    </tr>\n",
        "  </thead>\n",
        "  <tbody>\n",
        "    <tr>\n",
        "      <th>0</th>\n",
        "      <td> 0</td>\n",
        "      <td> 1</td>\n",
        "      <td> S10G1</td>\n",
        "      <td> 10</td>\n",
        "      <td> 0.111111</td>\n",
        "      <td> 1</td>\n",
        "      <td> L</td>\n",
        "      <td> old</td>\n",
        "      <td> gain</td>\n",
        "      <td> 10</td>\n",
        "      <td> freq</td>\n",
        "      <td> HH-LL</td>\n",
        "      <td> 0.925789</td>\n",
        "      <td> 28</td>\n",
        "      <td> 5.052105</td>\n",
        "      <td> 24.244486</td>\n",
        "      <td> 41</td>\n",
        "      <td> 5.977895</td>\n",
        "      <td> 71.864564</td>\n",
        "    </tr>\n",
        "    <tr>\n",
        "      <th>1</th>\n",
        "      <td> 1</td>\n",
        "      <td> 1</td>\n",
        "      <td> S10G2</td>\n",
        "      <td> 10</td>\n",
        "      <td> 0.111111</td>\n",
        "      <td> 1</td>\n",
        "      <td> H</td>\n",
        "      <td> old</td>\n",
        "      <td> gain</td>\n",
        "      <td> 10</td>\n",
        "      <td> freq</td>\n",
        "      <td> HL-LH</td>\n",
        "      <td> 0.883158</td>\n",
        "      <td> 23</td>\n",
        "      <td> 5.134211</td>\n",
        "      <td> 60.238301</td>\n",
        "      <td> 31</td>\n",
        "      <td> 6.017368</td>\n",
        "      <td> 23.293342</td>\n",
        "    </tr>\n",
        "    <tr>\n",
        "      <th>2</th>\n",
        "      <td> 2</td>\n",
        "      <td> 1</td>\n",
        "      <td> S10G3</td>\n",
        "      <td> 10</td>\n",
        "      <td> 0.111111</td>\n",
        "      <td> 1</td>\n",
        "      <td> L</td>\n",
        "      <td> old</td>\n",
        "      <td> loss</td>\n",
        "      <td> 10</td>\n",
        "      <td> freq</td>\n",
        "      <td> HH-LL</td>\n",
        "      <td> 0.715789</td>\n",
        "      <td> 15</td>\n",
        "      <td>-5.905263</td>\n",
        "      <td> 27.303855</td>\n",
        "      <td>  7</td>\n",
        "      <td>-5.189474</td>\n",
        "      <td> 77.873869</td>\n",
        "    </tr>\n",
        "    <tr>\n",
        "      <th>3</th>\n",
        "      <td> 3</td>\n",
        "      <td> 1</td>\n",
        "      <td> S10G4</td>\n",
        "      <td> 10</td>\n",
        "      <td> 0.111111</td>\n",
        "      <td> 1</td>\n",
        "      <td> L</td>\n",
        "      <td> old</td>\n",
        "      <td> loss</td>\n",
        "      <td> 10</td>\n",
        "      <td> freq</td>\n",
        "      <td> HL-LH</td>\n",
        "      <td> 1.034737</td>\n",
        "      <td>  2</td>\n",
        "      <td>-6.081053</td>\n",
        "      <td> 77.712637</td>\n",
        "      <td> 10</td>\n",
        "      <td>-5.046316</td>\n",
        "      <td> 11.397032</td>\n",
        "    </tr>\n",
        "    <tr>\n",
        "      <th>4</th>\n",
        "      <td> 4</td>\n",
        "      <td> 1</td>\n",
        "      <td> S11G1</td>\n",
        "      <td> 10</td>\n",
        "      <td> 0.111111</td>\n",
        "      <td> 1</td>\n",
        "      <td> L</td>\n",
        "      <td> old</td>\n",
        "      <td> gain</td>\n",
        "      <td> 11</td>\n",
        "      <td> freq</td>\n",
        "      <td> HH-LL</td>\n",
        "      <td> 0.960000</td>\n",
        "      <td> 37</td>\n",
        "      <td> 5.067000</td>\n",
        "      <td> 24.030000</td>\n",
        "      <td> 26</td>\n",
        "      <td> 6.027000</td>\n",
        "      <td> 60.560000</td>\n",
        "    </tr>\n",
        "    <tr>\n",
        "      <th>5</th>\n",
        "      <td> 5</td>\n",
        "      <td> 1</td>\n",
        "      <td> S11G2</td>\n",
        "      <td> 10</td>\n",
        "      <td> 0.100000</td>\n",
        "      <td> 1</td>\n",
        "      <td> H</td>\n",
        "      <td> old</td>\n",
        "      <td> gain</td>\n",
        "      <td> 11</td>\n",
        "      <td> freq</td>\n",
        "      <td> HL-LH</td>\n",
        "      <td> 1.150526</td>\n",
        "      <td> 24</td>\n",
        "      <td> 4.808421</td>\n",
        "      <td> 74.442383</td>\n",
        "      <td> 38</td>\n",
        "      <td> 5.958947</td>\n",
        "      <td> 25.897959</td>\n",
        "    </tr>\n",
        "    <tr>\n",
        "      <th>6</th>\n",
        "      <td> 6</td>\n",
        "      <td> 1</td>\n",
        "      <td> S11G3</td>\n",
        "      <td> 19</td>\n",
        "      <td> 0.117647</td>\n",
        "      <td> 2</td>\n",
        "      <td> L</td>\n",
        "      <td> old</td>\n",
        "      <td> loss</td>\n",
        "      <td> 11</td>\n",
        "      <td> freq</td>\n",
        "      <td> HH-LL</td>\n",
        "      <td> 0.948947</td>\n",
        "      <td> 16</td>\n",
        "      <td>-5.835789</td>\n",
        "      <td> 14.428159</td>\n",
        "      <td>  7</td>\n",
        "      <td>-4.886842</td>\n",
        "      <td> 74.788975</td>\n",
        "    </tr>\n",
        "    <tr>\n",
        "      <th>7</th>\n",
        "      <td> 7</td>\n",
        "      <td> 1</td>\n",
        "      <td> S11G4</td>\n",
        "      <td>  8</td>\n",
        "      <td> 0.000000</td>\n",
        "      <td> 0</td>\n",
        "      <td> L</td>\n",
        "      <td> old</td>\n",
        "      <td> loss</td>\n",
        "      <td> 11</td>\n",
        "      <td> freq</td>\n",
        "      <td> HL-LH</td>\n",
        "      <td> 0.827368</td>\n",
        "      <td>  3</td>\n",
        "      <td>-5.977895</td>\n",
        "      <td> 71.864564</td>\n",
        "      <td> 16</td>\n",
        "      <td>-5.150526</td>\n",
        "      <td> 10.721707</td>\n",
        "    </tr>\n",
        "    <tr>\n",
        "      <th>8</th>\n",
        "      <td> 8</td>\n",
        "      <td> 1</td>\n",
        "      <td> S12G1</td>\n",
        "      <td> 12</td>\n",
        "      <td> 0.090909</td>\n",
        "      <td> 1</td>\n",
        "      <td> L</td>\n",
        "      <td> old</td>\n",
        "      <td> gain</td>\n",
        "      <td> 12</td>\n",
        "      <td> freq</td>\n",
        "      <td> HH-LL</td>\n",
        "      <td> 0.964211</td>\n",
        "      <td> 30</td>\n",
        "      <td> 5.000000</td>\n",
        "      <td> 14.479489</td>\n",
        "      <td> 27</td>\n",
        "      <td> 5.964211</td>\n",
        "      <td> 79.530818</td>\n",
        "    </tr>\n",
        "    <tr>\n",
        "      <th>9</th>\n",
        "      <td> 9</td>\n",
        "      <td> 1</td>\n",
        "      <td> S12G2</td>\n",
        "      <td> 10</td>\n",
        "      <td> 0.111111</td>\n",
        "      <td> 1</td>\n",
        "      <td> H</td>\n",
        "      <td> old</td>\n",
        "      <td> gain</td>\n",
        "      <td> 12</td>\n",
        "      <td> freq</td>\n",
        "      <td> HL-LH</td>\n",
        "      <td> 1.094737</td>\n",
        "      <td> 24</td>\n",
        "      <td> 4.892632</td>\n",
        "      <td> 73.911152</td>\n",
        "      <td> 33</td>\n",
        "      <td> 5.987368</td>\n",
        "      <td> 15.792208</td>\n",
        "    </tr>\n",
        "  </tbody>\n",
        "</table>\n",
        "</div>"
       ],
       "metadata": {},
       "output_type": "pyout",
       "prompt_number": 35,
       "text": [
        "   Unnamed: 0  partid gamble_lab  samplesize  switchfreq  switchcount  \\\n",
        "0           0       1      S10G1          10    0.111111            1   \n",
        "1           1       1      S10G2          10    0.111111            1   \n",
        "2           2       1      S10G3          10    0.111111            1   \n",
        "3           3       1      S10G4          10    0.111111            1   \n",
        "4           4       1      S11G1          10    0.111111            1   \n",
        "5           5       1      S11G2          10    0.100000            1   \n",
        "6           6       1      S11G3          19    0.117647            2   \n",
        "7           7       1      S11G4           8    0.000000            0   \n",
        "8           8       1      S12G1          12    0.090909            1   \n",
        "9           9       1      S12G2          10    0.111111            1   \n",
        "\n",
        "  decision group domain  session switch_grp pairtype   ev_diff  L_id  \\\n",
        "0        L   old   gain       10       freq    HH-LL  0.925789    28   \n",
        "1        H   old   gain       10       freq    HL-LH  0.883158    23   \n",
        "2        L   old   loss       10       freq    HH-LL  0.715789    15   \n",
        "3        L   old   loss       10       freq    HL-LH  1.034737     2   \n",
        "4        L   old   gain       11       freq    HH-LL  0.960000    37   \n",
        "5        H   old   gain       11       freq    HL-LH  1.150526    24   \n",
        "6        L   old   loss       11       freq    HH-LL  0.948947    16   \n",
        "7        L   old   loss       11       freq    HL-LH  0.827368     3   \n",
        "8        L   old   gain       12       freq    HH-LL  0.964211    30   \n",
        "9        H   old   gain       12       freq    HL-LH  1.094737    24   \n",
        "\n",
        "       L_ev   L_ev_var  H_id      H_ev   H_ev_var  \n",
        "0  5.052105  24.244486    41  5.977895  71.864564  \n",
        "1  5.134211  60.238301    31  6.017368  23.293342  \n",
        "2 -5.905263  27.303855     7 -5.189474  77.873869  \n",
        "3 -6.081053  77.712637    10 -5.046316  11.397032  \n",
        "4  5.067000  24.030000    26  6.027000  60.560000  \n",
        "5  4.808421  74.442383    38  5.958947  25.897959  \n",
        "6 -5.835789  14.428159     7 -4.886842  74.788975  \n",
        "7 -5.977895  71.864564    16 -5.150526  10.721707  \n",
        "8  5.000000  14.479489    27  5.964211  79.530818  \n",
        "9  4.892632  73.911152    33  5.987368  15.792208  "
       ]
      }
     ],
     "prompt_number": 35
    },
    {
     "cell_type": "markdown",
     "metadata": {},
     "source": [
      "### Observed switching frequency"
     ]
    },
    {
     "cell_type": "code",
     "collapsed": false,
     "input": [
      "switchfreq = data.groupby('partid').apply(lambda x: np.mean(x['switchfreq']))"
     ],
     "language": "python",
     "metadata": {},
     "outputs": [],
     "prompt_number": 3
    },
    {
     "cell_type": "code",
     "collapsed": false,
     "input": [
      "# corrected for geometric distribution parameter\n",
      "switchfreq = data.groupby('partid').apply(lambda x: np.mean((1 + x['switchcount'])/x['samplesize']))"
     ],
     "language": "python",
     "metadata": {},
     "outputs": [],
     "prompt_number": 44
    },
    {
     "cell_type": "code",
     "collapsed": false,
     "input": [
      "fitdata = []\n",
      "for gid in gamble_lab_srt:\n",
      "    gdata = data[data['gamble_lab']==gid]\n",
      "    \n",
      "    tofit = []\n",
      "    for obs in gdata[['decision', 'samplesize', 'group', 'partid']].values:\n",
      "        choice = 0 if obs[0]=='L' else 1\n",
      "        group = 0 if obs[2]=='old' else 1\n",
      "        samplesize = obs[1]\n",
      "        p_switch = switchfreq[obs[3]]\n",
      "        tofit.append([choice, samplesize, group, p_switch])\n",
      "    tofit = np.array(tofit)\n",
      "    \n",
      "    ss_A = tofit[np.where(tofit[:,0]==0)[0],1]\n",
      "    ss_B = tofit[np.where(tofit[:,0]==1)[0],1]\n",
      "    max_t = np.max([np.max(ss_A), np.max(ss_B)]) + 1\n",
      "    \n",
      "    fitdata.append({'gid': gid,\n",
      "                    'options': get_options(gid),\n",
      "                    'max_t': max_t,\n",
      "                    'data': tofit})"
     ],
     "language": "python",
     "metadata": {},
     "outputs": [],
     "prompt_number": 24
    },
    {
     "cell_type": "code",
     "collapsed": false,
     "input": [
      "gid = 'S1G1'\n",
      "pars = {'options': get_options(gid),\n",
      "        'gid': gid,\n",
      "        'p_switch': .2,\n",
      "        'max_t': 100,\n",
      "        'delta': .5,\n",
      "        'theta': 5}\n",
      "result = model_rw_cpt_pswitch.run(pars)"
     ],
     "language": "python",
     "metadata": {},
     "outputs": [],
     "prompt_number": 47
    },
    {
     "cell_type": "code",
     "collapsed": false,
     "input": [
      "result['resp_prob']"
     ],
     "language": "python",
     "metadata": {},
     "outputs": [
      {
       "metadata": {},
       "output_type": "pyout",
       "prompt_number": 48,
       "text": [
        "array([ 0.36671593,  0.1076411 ,  0.08098423,  0.44465874])"
       ]
      }
     ],
     "prompt_number": 48
    },
    {
     "cell_type": "code",
     "collapsed": false,
     "input": [
      "pars = {'data': fitdata,\n",
      "        'z_temp': 1.,\n",
      "        'fitting': ['delta', 'theta', 'pow_gain'],\n",
      "        'verbose': True}\n",
      "init = [1., 5., 1.]\n",
      "model_rw_cpt_pswitch.loglik_across_gambles_measured_switching(init, pars)"
     ],
     "language": "python",
     "metadata": {},
     "outputs": [
      {
       "output_type": "stream",
       "stream": "stdout",
       "text": [
        "evaluating:\n",
        "  delta=1.0\n",
        "  theta=5.0\n",
        "  pow_gain=1.0\n",
        "  llh: 43014.9006401"
       ]
      },
      {
       "output_type": "stream",
       "stream": "stdout",
       "text": [
        "\n",
        "time to evaluate: 202.340723038\n"
       ]
      },
      {
       "metadata": {},
       "output_type": "pyout",
       "prompt_number": 49,
       "text": [
        "43014.900640082778"
       ]
      }
     ],
     "prompt_number": 49
    },
    {
     "cell_type": "code",
     "collapsed": false,
     "input": [
      "f = minimize(model_rw_cpt_pswitch.loglik_across_gambles_measured_switching, init, (pars,), method='Nelder-Mead')\n",
      "print f\n",
      "print bic(f, pars)"
     ],
     "language": "python",
     "metadata": {},
     "outputs": [
      {
       "output_type": "stream",
       "stream": "stdout",
       "text": [
        "evaluating:\n",
        "  delta=1.0\n",
        "  theta=5.0\n",
        "  pow_gain=1.0\n",
        "  llh: 33444.6633689"
       ]
      },
      {
       "output_type": "stream",
       "stream": "stdout",
       "text": [
        "\n",
        "time to evaluate: 208.437556982\n",
        "evaluating:\n",
        "  delta=1.05\n",
        "  theta=5.0\n",
        "  pow_gain=1.0\n",
        "  llh: 33836.697515"
       ]
      },
      {
       "output_type": "stream",
       "stream": "stdout",
       "text": [
        "\n",
        "time to evaluate: 208.403973103\n",
        "evaluating:\n",
        "  delta=1.0\n",
        "  theta=5.25\n",
        "  pow_gain=1.0\n",
        "  llh: 33444.6633689"
       ]
      },
      {
       "output_type": "stream",
       "stream": "stdout",
       "text": [
        "\n",
        "time to evaluate: 207.84405899\n",
        "evaluating:\n",
        "  delta=1.0\n",
        "  theta=5.0\n",
        "  pow_gain=1.05\n",
        "  llh: 33134.9156722"
       ]
      },
      {
       "output_type": "stream",
       "stream": "stdout",
       "text": [
        "\n",
        "time to evaluate: 205.666394949\n",
        "evaluating:\n",
        "  delta=0.95\n",
        "  theta=5.16666666667\n",
        "  pow_gain=1.03333333333\n",
        "  llh: 32862.2003848"
       ]
      },
      {
       "output_type": "stream",
       "stream": "stdout",
       "text": [
        "\n",
        "time to evaluate: 211.55795908\n",
        "evaluating:\n",
        "  delta=0.9\n",
        "  theta=5.25\n",
        "  pow_gain=1.05\n",
        "  llh: 32415.1325286"
       ]
      },
      {
       "output_type": "stream",
       "stream": "stdout",
       "text": [
        "\n",
        "time to evaluate: 210.643759012\n",
        "evaluating:\n",
        "  delta=0.933333333333\n",
        "  theta=4.91666666667\n",
        "  pow_gain=1.06666666667\n",
        "  llh: 32566.69747"
       ]
      },
      {
       "output_type": "stream",
       "stream": "stdout",
       "text": [
        "\n",
        "time to evaluate: 215.969218969\n",
        "evaluating:\n",
        "  delta=0.888888888889\n",
        "  theta=5.11111111111\n",
        "  pow_gain=1.11111111111\n",
        "  llh: 32058.790465"
       ]
      },
      {
       "output_type": "stream",
       "stream": "stdout",
       "text": [
        "\n",
        "time to evaluate: 214.178615093\n",
        "evaluating:\n",
        "  delta=0.833333333333\n",
        "  theta=5.16666666667\n",
        "  pow_gain=1.16666666667\n",
        "  llh: 31498.3830091"
       ]
      },
      {
       "output_type": "stream",
       "stream": "stdout",
       "text": [
        "\n",
        "time to evaluate: 256.110758066\n",
        "evaluating:\n",
        "  delta=0.777777777778\n",
        "  theta=5.22222222222\n",
        "  pow_gain=1.13888888889\n",
        "  llh: 31255.9943862"
       ]
      },
      {
       "output_type": "stream",
       "stream": "stdout",
       "text": [
        "\n",
        "time to evaluate: 219.725638151\n",
        "evaluating:\n",
        "  delta=0.666666666667\n",
        "  theta=5.33333333333\n",
        "  pow_gain=1.18333333333\n",
        "  llh: 30604.665018"
       ]
      },
      {
       "output_type": "stream",
       "stream": "stdout",
       "text": [
        "\n",
        "time to evaluate: 232.272145033\n",
        "evaluating:\n",
        "  delta=0.666666666667\n",
        "  theta=5.58333333333\n",
        "  pow_gain=1.2\n",
        "  llh: 31093.0748586"
       ]
      },
      {
       "output_type": "stream",
       "stream": "stdout",
       "text": [
        "\n",
        "time to evaluate: 253.076983929\n",
        "evaluating:\n",
        "  delta=0.544444444444\n",
        "  theta=5.47222222222\n",
        "  pow_gain=1.31666666667\n",
        "  llh: 30108.6390731"
       ]
      },
      {
       "output_type": "stream",
       "stream": "stdout",
       "text": [
        "\n",
        "time to evaluate: 234.244293928\n",
        "evaluating:\n",
        "  delta=0.366666666667\n",
        "  theta=5.58333333333\n",
        "  pow_gain=1.45\n",
        "  llh: 31075.0965259"
       ]
      },
      {
       "output_type": "stream",
       "stream": "stdout",
       "text": [
        "\n",
        "time to evaluate: 248.782622099\n",
        "evaluating:\n",
        "  delta=0.418518518519\n",
        "  theta=5.75925925926\n",
        "  pow_gain=1.3\n",
        "  llh: 30977.7357714"
       ]
      },
      {
       "output_type": "stream",
       "stream": "stdout",
       "text": [
        "\n",
        "time to evaluate: 264.610301971\n",
        "evaluating:\n",
        "  delta=0.41975308642\n",
        "  theta=5.45987654321\n",
        "  pow_gain=1.33333333333\n",
        "  llh: 29865.8027772"
       ]
      },
      {
       "output_type": "stream",
       "stream": "stdout",
       "text": [
        "\n",
        "time to evaluate: 233.967872858\n",
        "evaluating:\n",
        "  delta=0.296296296296\n",
        "  theta=5.39814814815\n",
        "  pow_gain=1.4\n",
        "  llh: 29734.3259307"
       ]
      },
      {
       "output_type": "stream",
       "stream": "stdout",
       "text": [
        "\n",
        "time to evaluate: 221.637789965\n",
        "evaluating:\n",
        "  delta=0.586419753086\n",
        "  theta=5.04320987654\n",
        "  pow_gain=1.3\n",
        "  llh: 30222.8677257"
       ]
      },
      {
       "output_type": "stream",
       "stream": "stdout",
       "text": [
        "\n",
        "time to evaluate: 220.658643961\n",
        "evaluating:\n",
        "  delta=0.284773662551\n",
        "  theta=5.27572016461\n",
        "  pow_gain=1.49444444444\n",
        "  llh: 29746.2451374"
       ]
      },
      {
       "output_type": "stream",
       "stream": "stdout",
       "text": [
        "\n",
        "time to evaluate: 228.600723982\n",
        "evaluating:\n",
        "  delta=0.163923182442\n",
        "  theta=5.72085048011\n",
        "  pow_gain=1.50740740741\n",
        "  llh: 31143.2466636"
       ]
      },
      {
       "output_type": "stream",
       "stream": "stdout",
       "text": [
        "\n",
        "time to evaluate: 256.671573877\n",
        "evaluating:\n",
        "  delta=0.480795610425\n",
        "  theta=5.21262002743\n",
        "  pow_gain=1.35185185185\n",
        "  llh: 29970.446154"
       ]
      },
      {
       "output_type": "stream",
       "stream": "stdout",
       "text": [
        "\n",
        "time to evaluate: 224.705214024\n",
        "evaluating:\n",
        "  delta=0.163465935071\n",
        "  theta=5.11877000457\n",
        "  pow_gain=1.51419753086\n",
        "  llh: 29663.302108"
       ]
      },
      {
       "output_type": "stream",
       "stream": "stdout",
       "text": [
        "\n",
        "time to evaluate: 220.70676589\n",
        "evaluating:\n",
        "  delta=-0.0270233196159\n",
        "  theta=4.94204389575\n",
        "  pow_gain=1.61296296296\n",
        "evaluating:\n",
        "  delta=0.0155616521872\n",
        "  theta=5.31580551745\n",
        "  pow_gain=1.58724279835\n",
        "  llh: 29598.2958514"
       ]
      },
      {
       "output_type": "stream",
       "stream": "stdout",
       "text": [
        "\n",
        "time to evaluate: 228.265143871\n",
        "evaluating:\n",
        "  delta=-0.217055326932\n",
        "  theta=5.36739826246\n",
        "  pow_gain=1.7049382716\n",
        "evaluating:\n",
        "  delta=0.0321089264848\n",
        "  theta=5.27942894884\n",
        "  pow_gain=1.50651577503\n",
        "  llh: 29602.5009395"
       ]
      },
      {
       "output_type": "stream",
       "stream": "stdout",
       "text": [
        "\n",
        "time to evaluate: 221.764417171\n",
        "evaluating:\n",
        "  delta=-0.155538620468\n",
        "  theta=5.07785483243\n",
        "  pow_gain=1.67197073617\n",
        "evaluating:\n",
        "  delta=0.183337567105\n",
        "  theta=5.31807481922\n",
        "  pow_gain=1.46799268404\n",
        "  llh: 29667.5403858"
       ]
      },
      {
       "output_type": "stream",
       "stream": "stdout",
       "text": [
        "\n",
        "time to evaluate: 228.6841681\n",
        "evaluating:\n",
        "  delta=-0.0425798912767\n",
        "  theta=5.15792816136\n",
        "  pow_gain=1.60397805213\n",
        "evaluating:\n",
        "  delta=0.12685820251\n",
        "  theta=5.27803815475\n",
        "  pow_gain=1.50198902606\n",
        "  llh: 29641.8059141"
       ]
      },
      {
       "output_type": "stream",
       "stream": "stdout",
       "text": [
        "\n",
        "time to evaluate: 224.665915966\n",
        "evaluating:\n",
        "  delta=-0.0471134142831\n",
        "  theta=5.46341174279\n",
        "  pow_gain=1.5496342021\n",
        "evaluating:\n",
        "  delta=0.110821097732\n",
        "  theta=5.20493043913\n",
        "  pow_gain=1.52305669867\n",
        "  llh: 29636.0960805"
       ]
      },
      {
       "output_type": "stream",
       "stream": "stdout",
       "text": [
        "\n",
        "time to evaluate: 218.140596867\n",
        "evaluating:\n",
        "  delta=-0.0211970849069\n",
        "  theta=5.25540511553\n",
        "  pow_gain=1.57588782198\n",
        "evaluating:\n",
        "  delta=0.0898443806556\n",
        "  theta=5.27237989495\n",
        "  pow_gain=1.52046372504\n",
        "  llh: 29625.9387629"
       ]
      },
      {
       "output_type": "stream",
       "stream": "stdout",
       "text": [
        "\n",
        "time to evaluate: 217.463953018\n",
        "evaluating:\n",
        "  delta=-0.0191444581807\n",
        "  theta=5.37347913503\n",
        "  pow_gain=1.55309150028\n",
        "evaluating:\n",
        "  delta=0.0783297087541\n",
        "  theta=5.2470676131\n",
        "  pow_gain=1.53056539908\n",
        "  llh: 29621.5518493"
       ]
      },
      {
       "output_type": "stream",
       "stream": "stdout",
       "text": [
        "\n",
        "time to evaluate: 217.242717028\n",
        "evaluating:\n",
        "  delta=-0.00584418903823\n",
        "  theta=5.28915482465\n",
        "  pow_gain=1.56241892327\n",
        "evaluating:\n",
        "  delta=0.0659222382322\n",
        "  theta=5.27657362737\n",
        "  pow_gain=1.5309525246\n",
        "  llh: 29616.2510475"
       ]
      },
      {
       "output_type": "stream",
       "stream": "stdout",
       "text": [
        "\n",
        "time to evaluate: 221.607781172\n",
        "evaluating:\n",
        "  delta=-0.00260116415139\n",
        "  theta=5.33413778267\n",
        "  pow_gain=1.55257533292\n",
        "evaluating:\n",
        "  delta=0.0580969905277\n",
        "  theta=5.2688351555\n",
        "  pow_gain=1.53606788254\n"
       ]
      },
      {
       "ename": "KeyboardInterrupt",
       "evalue": "",
       "output_type": "pyerr",
       "traceback": [
        "\u001b[0;31m---------------------------------------------------------------------------\u001b[0m\n\u001b[0;31mKeyboardInterrupt\u001b[0m                         Traceback (most recent call last)",
        "\u001b[0;32m<ipython-input-27-8e515db07b06>\u001b[0m in \u001b[0;36m<module>\u001b[0;34m()\u001b[0m\n\u001b[0;32m----> 1\u001b[0;31m \u001b[0mf\u001b[0m \u001b[0;34m=\u001b[0m \u001b[0mminimize\u001b[0m\u001b[0;34m(\u001b[0m\u001b[0mmodel_rw_cpt_pswitch\u001b[0m\u001b[0;34m.\u001b[0m\u001b[0mloglik_across_gambles_measured_switching\u001b[0m\u001b[0;34m,\u001b[0m \u001b[0minit\u001b[0m\u001b[0;34m,\u001b[0m \u001b[0;34m(\u001b[0m\u001b[0mpars\u001b[0m\u001b[0;34m,\u001b[0m\u001b[0;34m)\u001b[0m\u001b[0;34m,\u001b[0m \u001b[0mmethod\u001b[0m\u001b[0;34m=\u001b[0m\u001b[0;34m'Nelder-Mead'\u001b[0m\u001b[0;34m)\u001b[0m\u001b[0;34m\u001b[0m\u001b[0m\n\u001b[0m\u001b[1;32m      2\u001b[0m \u001b[0;32mprint\u001b[0m \u001b[0mf\u001b[0m\u001b[0;34m\u001b[0m\u001b[0m\n\u001b[1;32m      3\u001b[0m \u001b[0;32mprint\u001b[0m \u001b[0mbic\u001b[0m\u001b[0;34m(\u001b[0m\u001b[0mf\u001b[0m\u001b[0;34m,\u001b[0m \u001b[0mpars\u001b[0m\u001b[0;34m)\u001b[0m\u001b[0;34m\u001b[0m\u001b[0m\n",
        "\u001b[0;32m/Users/doug/anaconda/lib/python2.7/site-packages/scipy/optimize/_minimize.pyc\u001b[0m in \u001b[0;36mminimize\u001b[0;34m(fun, x0, args, method, jac, hess, hessp, bounds, constraints, tol, callback, options)\u001b[0m\n\u001b[1;32m    411\u001b[0m                       callback=callback, **options)\n\u001b[1;32m    412\u001b[0m     \u001b[0;32melif\u001b[0m \u001b[0mmeth\u001b[0m \u001b[0;34m==\u001b[0m \u001b[0;34m'nelder-mead'\u001b[0m\u001b[0;34m:\u001b[0m\u001b[0;34m\u001b[0m\u001b[0m\n\u001b[0;32m--> 413\u001b[0;31m         \u001b[0;32mreturn\u001b[0m \u001b[0m_minimize_neldermead\u001b[0m\u001b[0;34m(\u001b[0m\u001b[0mfun\u001b[0m\u001b[0;34m,\u001b[0m \u001b[0mx0\u001b[0m\u001b[0;34m,\u001b[0m \u001b[0margs\u001b[0m\u001b[0;34m,\u001b[0m \u001b[0mcallback\u001b[0m\u001b[0;34m,\u001b[0m \u001b[0;34m**\u001b[0m\u001b[0moptions\u001b[0m\u001b[0;34m)\u001b[0m\u001b[0;34m\u001b[0m\u001b[0m\n\u001b[0m\u001b[1;32m    414\u001b[0m     \u001b[0;32melif\u001b[0m \u001b[0mmeth\u001b[0m \u001b[0;34m==\u001b[0m \u001b[0;34m'powell'\u001b[0m\u001b[0;34m:\u001b[0m\u001b[0;34m\u001b[0m\u001b[0m\n\u001b[1;32m    415\u001b[0m         \u001b[0;32mreturn\u001b[0m \u001b[0m_minimize_powell\u001b[0m\u001b[0;34m(\u001b[0m\u001b[0mfun\u001b[0m\u001b[0;34m,\u001b[0m \u001b[0mx0\u001b[0m\u001b[0;34m,\u001b[0m \u001b[0margs\u001b[0m\u001b[0;34m,\u001b[0m \u001b[0mcallback\u001b[0m\u001b[0;34m,\u001b[0m \u001b[0;34m**\u001b[0m\u001b[0moptions\u001b[0m\u001b[0;34m)\u001b[0m\u001b[0;34m\u001b[0m\u001b[0m\n",
        "\u001b[0;32m/Users/doug/anaconda/lib/python2.7/site-packages/scipy/optimize/optimize.pyc\u001b[0m in \u001b[0;36m_minimize_neldermead\u001b[0;34m(func, x0, args, callback, xtol, ftol, maxiter, maxfev, disp, return_all, **unknown_options)\u001b[0m\n\u001b[1;32m    495\u001b[0m                     \u001b[0;31m# Perform an inside contraction\u001b[0m\u001b[0;34m\u001b[0m\u001b[0;34m\u001b[0m\u001b[0m\n\u001b[1;32m    496\u001b[0m                     \u001b[0mxcc\u001b[0m \u001b[0;34m=\u001b[0m \u001b[0;34m(\u001b[0m\u001b[0;36m1\u001b[0m \u001b[0;34m-\u001b[0m \u001b[0mpsi\u001b[0m\u001b[0;34m)\u001b[0m \u001b[0;34m*\u001b[0m \u001b[0mxbar\u001b[0m \u001b[0;34m+\u001b[0m \u001b[0mpsi\u001b[0m \u001b[0;34m*\u001b[0m \u001b[0msim\u001b[0m\u001b[0;34m[\u001b[0m\u001b[0;34m-\u001b[0m\u001b[0;36m1\u001b[0m\u001b[0;34m]\u001b[0m\u001b[0;34m\u001b[0m\u001b[0m\n\u001b[0;32m--> 497\u001b[0;31m                     \u001b[0mfxcc\u001b[0m \u001b[0;34m=\u001b[0m \u001b[0mfunc\u001b[0m\u001b[0;34m(\u001b[0m\u001b[0mxcc\u001b[0m\u001b[0;34m)\u001b[0m\u001b[0;34m\u001b[0m\u001b[0m\n\u001b[0m\u001b[1;32m    498\u001b[0m \u001b[0;34m\u001b[0m\u001b[0m\n\u001b[1;32m    499\u001b[0m                     \u001b[0;32mif\u001b[0m \u001b[0mfxcc\u001b[0m \u001b[0;34m<\u001b[0m \u001b[0mfsim\u001b[0m\u001b[0;34m[\u001b[0m\u001b[0;34m-\u001b[0m\u001b[0;36m1\u001b[0m\u001b[0;34m]\u001b[0m\u001b[0;34m:\u001b[0m\u001b[0;34m\u001b[0m\u001b[0m\n",
        "\u001b[0;32m/Users/doug/anaconda/lib/python2.7/site-packages/scipy/optimize/optimize.pyc\u001b[0m in \u001b[0;36mfunction_wrapper\u001b[0;34m(*wrapper_args)\u001b[0m\n\u001b[1;32m    279\u001b[0m     \u001b[0;32mdef\u001b[0m \u001b[0mfunction_wrapper\u001b[0m\u001b[0;34m(\u001b[0m\u001b[0;34m*\u001b[0m\u001b[0mwrapper_args\u001b[0m\u001b[0;34m)\u001b[0m\u001b[0;34m:\u001b[0m\u001b[0;34m\u001b[0m\u001b[0m\n\u001b[1;32m    280\u001b[0m         \u001b[0mncalls\u001b[0m\u001b[0;34m[\u001b[0m\u001b[0;36m0\u001b[0m\u001b[0;34m]\u001b[0m \u001b[0;34m+=\u001b[0m \u001b[0;36m1\u001b[0m\u001b[0;34m\u001b[0m\u001b[0m\n\u001b[0;32m--> 281\u001b[0;31m         \u001b[0;32mreturn\u001b[0m \u001b[0mfunction\u001b[0m\u001b[0;34m(\u001b[0m\u001b[0;34m*\u001b[0m\u001b[0;34m(\u001b[0m\u001b[0mwrapper_args\u001b[0m \u001b[0;34m+\u001b[0m \u001b[0margs\u001b[0m\u001b[0;34m)\u001b[0m\u001b[0;34m)\u001b[0m\u001b[0;34m\u001b[0m\u001b[0m\n\u001b[0m\u001b[1;32m    282\u001b[0m \u001b[0;34m\u001b[0m\u001b[0m\n\u001b[1;32m    283\u001b[0m     \u001b[0;32mreturn\u001b[0m \u001b[0mncalls\u001b[0m\u001b[0;34m,\u001b[0m \u001b[0mfunction_wrapper\u001b[0m\u001b[0;34m\u001b[0m\u001b[0m\n",
        "\u001b[0;32m/Users/doug/code/SamplingDynamics/model_rw_cpt_pswitch/model_rw_cpt_pswitch.py\u001b[0m in \u001b[0;36mloglik_across_gambles_measured_switching\u001b[0;34m(value, args)\u001b[0m\n\u001b[1;32m    338\u001b[0m             \u001b[0mgpars\u001b[0m\u001b[0;34m[\u001b[0m\u001b[0;34m'p_switch'\u001b[0m\u001b[0;34m]\u001b[0m \u001b[0;34m=\u001b[0m \u001b[0mpswitch\u001b[0m\u001b[0;34m\u001b[0m\u001b[0m\n\u001b[1;32m    339\u001b[0m \u001b[0;34m\u001b[0m\u001b[0m\n\u001b[0;32m--> 340\u001b[0;31m             \u001b[0mresult\u001b[0m \u001b[0;34m=\u001b[0m \u001b[0mrun\u001b[0m\u001b[0;34m(\u001b[0m\u001b[0mgpars\u001b[0m\u001b[0;34m)\u001b[0m\u001b[0;34m\u001b[0m\u001b[0m\n\u001b[0m\u001b[1;32m    341\u001b[0m             \u001b[0mg_llh\u001b[0m \u001b[0;34m+=\u001b[0m \u001b[0;34m-\u001b[0m\u001b[0;36m1\u001b[0m \u001b[0;34m*\u001b[0m \u001b[0;34m(\u001b[0m\u001b[0mnp\u001b[0m\u001b[0;34m.\u001b[0m\u001b[0mlog\u001b[0m\u001b[0;34m(\u001b[0m\u001b[0mpfix\u001b[0m\u001b[0;34m(\u001b[0m\u001b[0mresult\u001b[0m\u001b[0;34m[\u001b[0m\u001b[0;34m'p_stop_t'\u001b[0m\u001b[0;34m]\u001b[0m\u001b[0;34m[\u001b[0m\u001b[0mchoice\u001b[0m\u001b[0;34m,\u001b[0m \u001b[0mt\u001b[0m\u001b[0;34m]\u001b[0m\u001b[0;34m)\u001b[0m\u001b[0;34m)\u001b[0m \u001b[0;34m+\u001b[0m \u001b[0mnp\u001b[0m\u001b[0;34m.\u001b[0m\u001b[0mlog\u001b[0m\u001b[0;34m(\u001b[0m\u001b[0mpfix\u001b[0m\u001b[0;34m(\u001b[0m\u001b[0mresult\u001b[0m\u001b[0;34m[\u001b[0m\u001b[0;34m'resp_prob'\u001b[0m\u001b[0;34m]\u001b[0m\u001b[0;34m[\u001b[0m\u001b[0mchoice\u001b[0m\u001b[0;34m]\u001b[0m\u001b[0;34m)\u001b[0m\u001b[0;34m)\u001b[0m\u001b[0;34m)\u001b[0m\u001b[0;34m\u001b[0m\u001b[0m\n\u001b[1;32m    342\u001b[0m \u001b[0;34m\u001b[0m\u001b[0m\n",
        "\u001b[0;32m/Users/doug/code/SamplingDynamics/model_rw_cpt_pswitch/model_rw_cpt_pswitch.py\u001b[0m in \u001b[0;36mrun\u001b[0;34m(pars)\u001b[0m\n\u001b[1;32m    148\u001b[0m     \u001b[0mdelta\u001b[0m \u001b[0;34m=\u001b[0m \u001b[0mpars\u001b[0m\u001b[0;34m.\u001b[0m\u001b[0mget\u001b[0m\u001b[0;34m(\u001b[0m\u001b[0;34m'delta'\u001b[0m\u001b[0;34m,\u001b[0m \u001b[0;36m1.\u001b[0m\u001b[0;34m)\u001b[0m    \u001b[0;31m# drift scaling factor\u001b[0m\u001b[0;34m\u001b[0m\u001b[0m\n\u001b[1;32m    149\u001b[0m \u001b[0;34m\u001b[0m\u001b[0m\n\u001b[0;32m--> 150\u001b[0;31m     \u001b[0mtheta\u001b[0m \u001b[0;34m=\u001b[0m \u001b[0mnp\u001b[0m\u001b[0;34m.\u001b[0m\u001b[0mfloat\u001b[0m\u001b[0;34m(\u001b[0m\u001b[0mnp\u001b[0m\u001b[0;34m.\u001b[0m\u001b[0mround\u001b[0m\u001b[0;34m(\u001b[0m\u001b[0mpars\u001b[0m\u001b[0;34m.\u001b[0m\u001b[0mget\u001b[0m\u001b[0;34m(\u001b[0m\u001b[0;34m'theta'\u001b[0m\u001b[0;34m,\u001b[0m \u001b[0;36m5\u001b[0m\u001b[0;34m)\u001b[0m\u001b[0;34m)\u001b[0m\u001b[0;34m)\u001b[0m     \u001b[0;31m# boundaries\u001b[0m\u001b[0;34m\u001b[0m\u001b[0m\n\u001b[0m\u001b[1;32m    151\u001b[0m \u001b[0;34m\u001b[0m\u001b[0m\n\u001b[1;32m    152\u001b[0m     \u001b[0msigma\u001b[0m \u001b[0;34m=\u001b[0m \u001b[0mpars\u001b[0m\u001b[0;34m.\u001b[0m\u001b[0mget\u001b[0m\u001b[0;34m(\u001b[0m\u001b[0;34m'sigma'\u001b[0m\u001b[0;34m,\u001b[0m \u001b[0;36m1.\u001b[0m\u001b[0;34m)\u001b[0m    \u001b[0;31m# diffusion parameter\u001b[0m\u001b[0;34m\u001b[0m\u001b[0m\n",
        "\u001b[0;32m/Users/doug/anaconda/lib/python2.7/site-packages/numpy/core/fromnumeric.pyc\u001b[0m in \u001b[0;36mround_\u001b[0;34m(a, decimals, out)\u001b[0m\n\u001b[1;32m   2627\u001b[0m     \u001b[0;32mexcept\u001b[0m \u001b[0mAttributeError\u001b[0m\u001b[0;34m:\u001b[0m\u001b[0;34m\u001b[0m\u001b[0m\n\u001b[1;32m   2628\u001b[0m         \u001b[0;32mreturn\u001b[0m \u001b[0m_wrapit\u001b[0m\u001b[0;34m(\u001b[0m\u001b[0ma\u001b[0m\u001b[0;34m,\u001b[0m \u001b[0;34m'round'\u001b[0m\u001b[0;34m,\u001b[0m \u001b[0mdecimals\u001b[0m\u001b[0;34m,\u001b[0m \u001b[0mout\u001b[0m\u001b[0;34m)\u001b[0m\u001b[0;34m\u001b[0m\u001b[0m\n\u001b[0;32m-> 2629\u001b[0;31m     \u001b[0;32mreturn\u001b[0m \u001b[0mround\u001b[0m\u001b[0;34m(\u001b[0m\u001b[0mdecimals\u001b[0m\u001b[0;34m,\u001b[0m \u001b[0mout\u001b[0m\u001b[0;34m)\u001b[0m\u001b[0;34m\u001b[0m\u001b[0m\n\u001b[0m\u001b[1;32m   2630\u001b[0m \u001b[0;34m\u001b[0m\u001b[0m\n\u001b[1;32m   2631\u001b[0m \u001b[0;34m\u001b[0m\u001b[0m\n",
        "\u001b[0;31mKeyboardInterrupt\u001b[0m: "
       ]
      }
     ],
     "prompt_number": 27
    },
    {
     "cell_type": "code",
     "collapsed": false,
     "input": [],
     "language": "python",
     "metadata": {},
     "outputs": []
    }
   ],
   "metadata": {}
  }
 ]
}