{
 "metadata": {
  "name": "",
  "signature": "sha256:f4d0dcfbc656b7067d35197244fa2d13a163d89e3c0905fb6ddbd31a7b23fd56"
 },
 "nbformat": 3,
 "nbformat_minor": 0,
 "worksheets": [
  {
   "cells": [
    {
     "cell_type": "markdown",
     "metadata": {},
     "source": [
      "# Sampling dynamics and choice\n",
      "\n",
      "The goal of this project is to understand how the dynamics of information sampling interact with choice. \n",
      "\n",
      "Some alternative models will need to consider:\n",
      "\n",
      "1. Explorative sampler\n",
      "\n",
      "2. IBL\n",
      "\n",
      "\n",
      "\n",
      "\n",
      "\n",
      "#### Sampling (switch rate)\n",
      "\n",
      "In binary tasks, on successive trials people can either continue sampling the same option or switch to the other option. There is some evidence that switch rate is related to overall sample size (Hills and Hertwig, 2010; Frey, in press). Is switch rate related to accuracy?\n",
      "\n",
      "One large open question is how a person's sampling policy comes about. In the models below we will consider a few alternatives:\n",
      "\n",
      "1. __Fixed switch rate__: On every trial, there is a fixed probability of switching to the other option. \n",
      "\n",
      "2. __Batch sampling__: Samples are collected from a single option until reaching a fixed 'batch' size. Thus switches are not equally likely at any point during sampling, but rather sampling becomes 'streaky'. \n",
      "\n",
      "3. __Value-dependent__: Whether an option is sampled depends on its estimated value, with higher value leading to higher likelihood of sampling. \n",
      "\n",
      "4. __Uncertainty/information-dependent__: Whether an option is sampled depends on uncertainty about its value, with higher uncertainty leading to greater probability of sampling. Will need to consider whether uncertainty-based sampling is distinct from information-based sampling.\n",
      "\n",
      "Note that the \"inertia\" mechanism in IBL is like a combination of a fixed switch rate (in their terms, $p(inertia)$) and value-dependent switching (i.e., when a choice is not repeated, the option with the higher estimated value is selected).\n",
      "\n",
      "\n",
      "#### Stopping (sample size)\n",
      "\n",
      "The next component of the model is the stopping process or rule.\n",
      "\n",
      "1. __Fixed sample size__: A target sample size is set prior to beginning a problem, and sampling ends (probabilistically) depending on the distance from that sample size.\n",
      "\n",
      "2. __Relative value threshold__: The estimated values of the two options are compared, and when the difference exceeds a threshold, sampling ends and a choice is made.\n",
      "\n",
      "3. __Independent value threshold__: The estimated values of the two options are compared against a threshold, and when either threshold is reached, sampling ends and a choice is made.\n",
      "\n",
      "4. __Uncertainty/information threshold__: Sampling ends when uncertainty or expected information of both options drops below a threshold.\n",
      "\n",
      "\n",
      "In IBL, stop trials are sampled from geometric distribution which is based on previous empirical results in the sampling paradigm. Thus there is no sensitivity to outcomes and no predictions about stop trials in other problems.\n",
      "\n",
      "\n",
      "#### Choice\n",
      "\n",
      "The final aspect of the data we wish to account for is the final choice. Some of the combinations of processes above are independent of the final choice, and as such any choice model that has previously been applied to the sampling paradigm could be used. The more interesting possibilities are those processes which jointly determine both the sampling dynamics and the choice.\n",
      "\n",
      "1. __Estimated value__: Given the estimated value of each option, a probabilistic choice is made (softmax). This would be used for fixed sample size and uncertainty/information threshold stopping rules.\n",
      "\n",
      "2. __Noisy thresholds__: For any threshold-based stopping rules, the choice is determined by which threshold is crossed. Thresholds are assumed to be noisy rather than deterministic.\n",
      "\n",
      "\n",
      "#### How is value estimated?\n",
      "\n",
      "\n",
      "\n",
      "\n",
      "\n"
     ]
    },
    {
     "cell_type": "markdown",
     "metadata": {},
     "source": [
      "## Type 1: Independent sampling and evaluation\n",
      "\n",
      "In the first class of models, the "
     ]
    },
    {
     "cell_type": "code",
     "collapsed": false,
     "input": [],
     "language": "python",
     "metadata": {},
     "outputs": []
    }
   ],
   "metadata": {}
  }
 ]
}