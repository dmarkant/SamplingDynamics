{
 "metadata": {
  "name": "",
  "signature": "sha256:c3c47f71b183868136ff7eeffb326b4cbe9828032cea716103c2ca95d1f22291"
 },
 "nbformat": 3,
 "nbformat_minor": 0,
 "worksheets": [
  {
   "cells": [
    {
     "cell_type": "code",
     "collapsed": false,
     "input": [
      "%matplotlib inline\n",
      "import matplotlib.pyplot as plt\n",
      "import numpy as np\n",
      "import pandas as pd\n",
      "from helpers import *\n",
      "from scipy.stats import norm, gamma, lognorm\n",
      "from scipy.optimize import minimize\n",
      "\n",
      "from mypy.explib.hau2008 import hau2008\n",
      "from model_rw_cpt_pswitch import model_rw_cpt_pswitch\n",
      "from model_rw_cpt_pswitch.fitting import *\n",
      "%load_ext autoreload\n",
      "%autoreload 2\n",
      "\n",
      "data_by_gamble = pd.read_csv('dfe_by_gamble.csv')\n",
      "\n",
      "def get_options(gid):\n",
      "    gdata = data_by_gamble[data_by_gamble['gid']==gid]\n",
      "    L = np.array([gdata[['L_x1', 'L_p1']].values, gdata[['L_x2', 'L_p2']].values, gdata[['L_x3', 'L_p3']].values]).reshape((3,2))\n",
      "    H = np.array([gdata[['H_x1', 'H_p1']].values, gdata[['H_x2', 'H_p2']].values, gdata[['H_x3', 'H_p3']].values]).reshape((3,2))\n",
      "    return [L, H]"
     ],
     "language": "python",
     "metadata": {},
     "outputs": [
      {
       "output_type": "stream",
       "stream": "stdout",
       "text": [
        "The autoreload extension is already loaded. To reload it, use:\n",
        "  %reload_ext autoreload\n"
       ]
      }
     ],
     "prompt_number": 50
    },
    {
     "cell_type": "code",
     "collapsed": false,
     "input": [
      "data = pd.read_csv('dfe_by_game.csv')\n",
      "gamble_lab = data['gamble_lab'].unique()\n",
      "\n",
      "# sort by problem type\n",
      "gambles = data[data['partid']==1]\n",
      "gambles_srt = gambles.sort(['domain', 'pairtype', 'session'])\n",
      "gamble_lab_srt = gambles_srt['gamble_lab']"
     ],
     "language": "python",
     "metadata": {},
     "outputs": [],
     "prompt_number": 2
    },
    {
     "cell_type": "code",
     "collapsed": false,
     "input": [
      "data.head(10)"
     ],
     "language": "python",
     "metadata": {},
     "outputs": [
      {
       "html": [
        "<div style=\"max-height:1000px;max-width:1500px;overflow:auto;\">\n",
        "<table border=\"1\" class=\"dataframe\">\n",
        "  <thead>\n",
        "    <tr style=\"text-align: right;\">\n",
        "      <th></th>\n",
        "      <th>Unnamed: 0</th>\n",
        "      <th>partid</th>\n",
        "      <th>gamble_lab</th>\n",
        "      <th>samplesize</th>\n",
        "      <th>switchfreq</th>\n",
        "      <th>switchcount</th>\n",
        "      <th>decision</th>\n",
        "      <th>group</th>\n",
        "      <th>domain</th>\n",
        "      <th>session</th>\n",
        "      <th>switch_grp</th>\n",
        "      <th>pairtype</th>\n",
        "      <th>ev_diff</th>\n",
        "      <th>L_id</th>\n",
        "      <th>L_ev</th>\n",
        "      <th>L_ev_var</th>\n",
        "      <th>H_id</th>\n",
        "      <th>H_ev</th>\n",
        "      <th>H_ev_var</th>\n",
        "    </tr>\n",
        "  </thead>\n",
        "  <tbody>\n",
        "    <tr>\n",
        "      <th>0</th>\n",
        "      <td> 0</td>\n",
        "      <td> 1</td>\n",
        "      <td> S10G1</td>\n",
        "      <td> 10</td>\n",
        "      <td> 0.111111</td>\n",
        "      <td> 1</td>\n",
        "      <td> L</td>\n",
        "      <td> old</td>\n",
        "      <td> gain</td>\n",
        "      <td> 10</td>\n",
        "      <td> freq</td>\n",
        "      <td> HH-LL</td>\n",
        "      <td> 0.925789</td>\n",
        "      <td> 28</td>\n",
        "      <td> 5.052105</td>\n",
        "      <td> 24.244486</td>\n",
        "      <td> 41</td>\n",
        "      <td> 5.977895</td>\n",
        "      <td> 71.864564</td>\n",
        "    </tr>\n",
        "    <tr>\n",
        "      <th>1</th>\n",
        "      <td> 1</td>\n",
        "      <td> 1</td>\n",
        "      <td> S10G2</td>\n",
        "      <td> 10</td>\n",
        "      <td> 0.111111</td>\n",
        "      <td> 1</td>\n",
        "      <td> H</td>\n",
        "      <td> old</td>\n",
        "      <td> gain</td>\n",
        "      <td> 10</td>\n",
        "      <td> freq</td>\n",
        "      <td> HL-LH</td>\n",
        "      <td> 0.883158</td>\n",
        "      <td> 23</td>\n",
        "      <td> 5.134211</td>\n",
        "      <td> 60.238301</td>\n",
        "      <td> 31</td>\n",
        "      <td> 6.017368</td>\n",
        "      <td> 23.293342</td>\n",
        "    </tr>\n",
        "    <tr>\n",
        "      <th>2</th>\n",
        "      <td> 2</td>\n",
        "      <td> 1</td>\n",
        "      <td> S10G3</td>\n",
        "      <td> 10</td>\n",
        "      <td> 0.111111</td>\n",
        "      <td> 1</td>\n",
        "      <td> L</td>\n",
        "      <td> old</td>\n",
        "      <td> loss</td>\n",
        "      <td> 10</td>\n",
        "      <td> freq</td>\n",
        "      <td> HH-LL</td>\n",
        "      <td> 0.715789</td>\n",
        "      <td> 15</td>\n",
        "      <td>-5.905263</td>\n",
        "      <td> 27.303855</td>\n",
        "      <td>  7</td>\n",
        "      <td>-5.189474</td>\n",
        "      <td> 77.873869</td>\n",
        "    </tr>\n",
        "    <tr>\n",
        "      <th>3</th>\n",
        "      <td> 3</td>\n",
        "      <td> 1</td>\n",
        "      <td> S10G4</td>\n",
        "      <td> 10</td>\n",
        "      <td> 0.111111</td>\n",
        "      <td> 1</td>\n",
        "      <td> L</td>\n",
        "      <td> old</td>\n",
        "      <td> loss</td>\n",
        "      <td> 10</td>\n",
        "      <td> freq</td>\n",
        "      <td> HL-LH</td>\n",
        "      <td> 1.034737</td>\n",
        "      <td>  2</td>\n",
        "      <td>-6.081053</td>\n",
        "      <td> 77.712637</td>\n",
        "      <td> 10</td>\n",
        "      <td>-5.046316</td>\n",
        "      <td> 11.397032</td>\n",
        "    </tr>\n",
        "    <tr>\n",
        "      <th>4</th>\n",
        "      <td> 4</td>\n",
        "      <td> 1</td>\n",
        "      <td> S11G1</td>\n",
        "      <td> 10</td>\n",
        "      <td> 0.111111</td>\n",
        "      <td> 1</td>\n",
        "      <td> L</td>\n",
        "      <td> old</td>\n",
        "      <td> gain</td>\n",
        "      <td> 11</td>\n",
        "      <td> freq</td>\n",
        "      <td> HH-LL</td>\n",
        "      <td> 0.960000</td>\n",
        "      <td> 37</td>\n",
        "      <td> 5.067000</td>\n",
        "      <td> 24.030000</td>\n",
        "      <td> 26</td>\n",
        "      <td> 6.027000</td>\n",
        "      <td> 60.560000</td>\n",
        "    </tr>\n",
        "    <tr>\n",
        "      <th>5</th>\n",
        "      <td> 5</td>\n",
        "      <td> 1</td>\n",
        "      <td> S11G2</td>\n",
        "      <td> 10</td>\n",
        "      <td> 0.100000</td>\n",
        "      <td> 1</td>\n",
        "      <td> H</td>\n",
        "      <td> old</td>\n",
        "      <td> gain</td>\n",
        "      <td> 11</td>\n",
        "      <td> freq</td>\n",
        "      <td> HL-LH</td>\n",
        "      <td> 1.150526</td>\n",
        "      <td> 24</td>\n",
        "      <td> 4.808421</td>\n",
        "      <td> 74.442383</td>\n",
        "      <td> 38</td>\n",
        "      <td> 5.958947</td>\n",
        "      <td> 25.897959</td>\n",
        "    </tr>\n",
        "    <tr>\n",
        "      <th>6</th>\n",
        "      <td> 6</td>\n",
        "      <td> 1</td>\n",
        "      <td> S11G3</td>\n",
        "      <td> 19</td>\n",
        "      <td> 0.117647</td>\n",
        "      <td> 2</td>\n",
        "      <td> L</td>\n",
        "      <td> old</td>\n",
        "      <td> loss</td>\n",
        "      <td> 11</td>\n",
        "      <td> freq</td>\n",
        "      <td> HH-LL</td>\n",
        "      <td> 0.948947</td>\n",
        "      <td> 16</td>\n",
        "      <td>-5.835789</td>\n",
        "      <td> 14.428159</td>\n",
        "      <td>  7</td>\n",
        "      <td>-4.886842</td>\n",
        "      <td> 74.788975</td>\n",
        "    </tr>\n",
        "    <tr>\n",
        "      <th>7</th>\n",
        "      <td> 7</td>\n",
        "      <td> 1</td>\n",
        "      <td> S11G4</td>\n",
        "      <td>  8</td>\n",
        "      <td> 0.000000</td>\n",
        "      <td> 0</td>\n",
        "      <td> L</td>\n",
        "      <td> old</td>\n",
        "      <td> loss</td>\n",
        "      <td> 11</td>\n",
        "      <td> freq</td>\n",
        "      <td> HL-LH</td>\n",
        "      <td> 0.827368</td>\n",
        "      <td>  3</td>\n",
        "      <td>-5.977895</td>\n",
        "      <td> 71.864564</td>\n",
        "      <td> 16</td>\n",
        "      <td>-5.150526</td>\n",
        "      <td> 10.721707</td>\n",
        "    </tr>\n",
        "    <tr>\n",
        "      <th>8</th>\n",
        "      <td> 8</td>\n",
        "      <td> 1</td>\n",
        "      <td> S12G1</td>\n",
        "      <td> 12</td>\n",
        "      <td> 0.090909</td>\n",
        "      <td> 1</td>\n",
        "      <td> L</td>\n",
        "      <td> old</td>\n",
        "      <td> gain</td>\n",
        "      <td> 12</td>\n",
        "      <td> freq</td>\n",
        "      <td> HH-LL</td>\n",
        "      <td> 0.964211</td>\n",
        "      <td> 30</td>\n",
        "      <td> 5.000000</td>\n",
        "      <td> 14.479489</td>\n",
        "      <td> 27</td>\n",
        "      <td> 5.964211</td>\n",
        "      <td> 79.530818</td>\n",
        "    </tr>\n",
        "    <tr>\n",
        "      <th>9</th>\n",
        "      <td> 9</td>\n",
        "      <td> 1</td>\n",
        "      <td> S12G2</td>\n",
        "      <td> 10</td>\n",
        "      <td> 0.111111</td>\n",
        "      <td> 1</td>\n",
        "      <td> H</td>\n",
        "      <td> old</td>\n",
        "      <td> gain</td>\n",
        "      <td> 12</td>\n",
        "      <td> freq</td>\n",
        "      <td> HL-LH</td>\n",
        "      <td> 1.094737</td>\n",
        "      <td> 24</td>\n",
        "      <td> 4.892632</td>\n",
        "      <td> 73.911152</td>\n",
        "      <td> 33</td>\n",
        "      <td> 5.987368</td>\n",
        "      <td> 15.792208</td>\n",
        "    </tr>\n",
        "  </tbody>\n",
        "</table>\n",
        "</div>"
       ],
       "metadata": {},
       "output_type": "pyout",
       "prompt_number": 35,
       "text": [
        "   Unnamed: 0  partid gamble_lab  samplesize  switchfreq  switchcount  \\\n",
        "0           0       1      S10G1          10    0.111111            1   \n",
        "1           1       1      S10G2          10    0.111111            1   \n",
        "2           2       1      S10G3          10    0.111111            1   \n",
        "3           3       1      S10G4          10    0.111111            1   \n",
        "4           4       1      S11G1          10    0.111111            1   \n",
        "5           5       1      S11G2          10    0.100000            1   \n",
        "6           6       1      S11G3          19    0.117647            2   \n",
        "7           7       1      S11G4           8    0.000000            0   \n",
        "8           8       1      S12G1          12    0.090909            1   \n",
        "9           9       1      S12G2          10    0.111111            1   \n",
        "\n",
        "  decision group domain  session switch_grp pairtype   ev_diff  L_id  \\\n",
        "0        L   old   gain       10       freq    HH-LL  0.925789    28   \n",
        "1        H   old   gain       10       freq    HL-LH  0.883158    23   \n",
        "2        L   old   loss       10       freq    HH-LL  0.715789    15   \n",
        "3        L   old   loss       10       freq    HL-LH  1.034737     2   \n",
        "4        L   old   gain       11       freq    HH-LL  0.960000    37   \n",
        "5        H   old   gain       11       freq    HL-LH  1.150526    24   \n",
        "6        L   old   loss       11       freq    HH-LL  0.948947    16   \n",
        "7        L   old   loss       11       freq    HL-LH  0.827368     3   \n",
        "8        L   old   gain       12       freq    HH-LL  0.964211    30   \n",
        "9        H   old   gain       12       freq    HL-LH  1.094737    24   \n",
        "\n",
        "       L_ev   L_ev_var  H_id      H_ev   H_ev_var  \n",
        "0  5.052105  24.244486    41  5.977895  71.864564  \n",
        "1  5.134211  60.238301    31  6.017368  23.293342  \n",
        "2 -5.905263  27.303855     7 -5.189474  77.873869  \n",
        "3 -6.081053  77.712637    10 -5.046316  11.397032  \n",
        "4  5.067000  24.030000    26  6.027000  60.560000  \n",
        "5  4.808421  74.442383    38  5.958947  25.897959  \n",
        "6 -5.835789  14.428159     7 -4.886842  74.788975  \n",
        "7 -5.977895  71.864564    16 -5.150526  10.721707  \n",
        "8  5.000000  14.479489    27  5.964211  79.530818  \n",
        "9  4.892632  73.911152    33  5.987368  15.792208  "
       ]
      }
     ],
     "prompt_number": 35
    },
    {
     "cell_type": "markdown",
     "metadata": {},
     "source": [
      "For each problem, compare the predictions for high and low switching frequency "
     ]
    },
    {
     "cell_type": "code",
     "collapsed": false,
     "input": [
      "results = {}\n",
      "for pswitch in [.1, .5]:\n",
      "        \n",
      "    for gid in gamble_lab_srt:\n",
      "        \n",
      "        pars = {'delta': .5,\n",
      "                'theta': 5,\n",
      "                'pow_gain': .8,\n",
      "                'p_switch': pswitch,\n",
      "                'options': get_options(gid)}\n",
      "\n",
      "        results[(gid,pswitch)] = model_rw_cpt_pswitch.run(pars)"
     ],
     "language": "python",
     "metadata": {},
     "outputs": [],
     "prompt_number": 231
    },
    {
     "cell_type": "code",
     "collapsed": false,
     "input": [
      "fig, ax = plt.subplots()\n",
      "ax.plot(results[(gid, .1)]['p_stop_t'][0], label='r=.1')\n",
      "ax.plot(results[(gid, .5)]['p_stop_t'][0], label='r=.5')\n",
      "ax.legend()\n",
      "plt.show()"
     ],
     "language": "python",
     "metadata": {},
     "outputs": [
      {
       "metadata": {},
       "output_type": "display_data",
       "png": "[encoded data removed]",
       "text": [
        "<matplotlib.figure.Figure at 0x1110a2c10>"
       ]
      }
     ],
     "prompt_number": 235
    },
    {
     "cell_type": "code",
     "collapsed": false,
     "input": [
      "fig, ax = plt.subplots()\n",
      "ax.plot([results[(gid, .1)]['resp_prob'][1] for gid in gamble_lab_srt], label='r=.1')\n",
      "ax.plot([results[(gid, .5)]['resp_prob'][1] for gid in gamble_lab_srt], label='r=.5')\n",
      "ax.legend()\n",
      "plt.show()"
     ],
     "language": "python",
     "metadata": {},
     "outputs": [
      {
       "metadata": {},
       "output_type": "display_data",
       "png": "[encoded data removed]",
       "text": [
        "<matplotlib.figure.Figure at 0x110664310>"
       ]
      }
     ],
     "prompt_number": 236
    },
    {
     "cell_type": "markdown",
     "metadata": {},
     "source": [
      "### Observed switching frequency"
     ]
    },
    {
     "cell_type": "code",
     "collapsed": false,
     "input": [
      "switchfreq = data.groupby('partid').apply(lambda x: np.mean(x['switchfreq']))"
     ],
     "language": "python",
     "metadata": {},
     "outputs": [],
     "prompt_number": 3
    },
    {
     "cell_type": "code",
     "collapsed": false,
     "input": [
      "# corrected for geometric distribution parameter\n",
      "switchfreq = data.groupby('partid').apply(lambda x: np.mean((1 + x['switchcount'])/x['samplesize']))"
     ],
     "language": "python",
     "metadata": {},
     "outputs": [],
     "prompt_number": 21
    },
    {
     "cell_type": "markdown",
     "metadata": {},
     "source": [
      "### Try to fit switching probability"
     ]
    },
    {
     "cell_type": "code",
     "collapsed": false,
     "input": [
      "sid = 23\n",
      "fitdata = []\n",
      "for gid in gamble_lab_srt:\n",
      "    gdata = data[(data['partid']==sid) & (data['gamble_lab']==gid)]\n",
      "    tofit = []\n",
      "    for obs in gdata[['decision', 'samplesize', 'group']].values:\n",
      "        choice = 0 if obs[0]=='L' else 1\n",
      "        group = 0 if obs[2]=='old' else 1\n",
      "        samplesize = obs[1]\n",
      "        tofit.append([choice, samplesize, group])\n",
      "    tofit = np.array(tofit)\n",
      "    \n",
      "    max_t = tofit[0][1] + 1\n",
      "    \n",
      "    fitdata.append({'gid': gid,\n",
      "                    'options': get_options(gid),\n",
      "                    'max_t': max_t,\n",
      "                    'data': tofit})"
     ],
     "language": "python",
     "metadata": {},
     "outputs": [],
     "prompt_number": 237
    },
    {
     "cell_type": "code",
     "collapsed": false,
     "input": [
      "np.mean([1 if dec=='H' else 0 for dec in data[data['partid']==sid]['decision'].values])"
     ],
     "language": "python",
     "metadata": {},
     "outputs": [
      {
       "metadata": {},
       "output_type": "pyout",
       "prompt_number": 238,
       "text": [
        "0.5714285714285714"
       ]
      }
     ],
     "prompt_number": 238
    },
    {
     "cell_type": "code",
     "collapsed": false,
     "input": [
      "pars = {'data': fitdata,\n",
      "        'p_switch': .5,\n",
      "        'fitting': ['delta', 'theta', 'z_temp', 'pow_gain'],\n",
      "        'verbose': True}\n",
      "init = [randstart(p) for p in pars['fitting']]\n",
      "model_rw_cpt_pswitch.loglik_across_gambles(init, pars)"
     ],
     "language": "python",
     "metadata": {},
     "outputs": [
      {
       "output_type": "stream",
       "stream": "stdout",
       "text": [
        "evaluating:\n",
        "  delta=1.0\n",
        "  theta=2\n",
        "  z_temp=0.306783952333\n",
        "  pow_gain=0.388076093406\n",
        "  llh: 336.658273783"
       ]
      },
      {
       "output_type": "stream",
       "stream": "stdout",
       "text": [
        "\n"
       ]
      },
      {
       "metadata": {},
       "output_type": "pyout",
       "prompt_number": 239,
       "text": [
        "336.65827378261093"
       ]
      }
     ],
     "prompt_number": 239
    },
    {
     "cell_type": "code",
     "collapsed": false,
     "input": [
      "f = minimize(model_rw_cpt_pswitch.loglik_across_gambles, init, (pars,), method='Nelder-Mead')\n",
      "print f\n",
      "#print bic(f, pars)"
     ],
     "language": "python",
     "metadata": {},
     "outputs": [
      {
       "output_type": "stream",
       "stream": "stdout",
       "text": [
        "evaluating:\n",
        "  delta=1.0\n",
        "  theta=2.0\n",
        "  z_temp=0.306783952333\n",
        "  pow_gain=0.388076093406\n",
        "  llh: 336.658273783"
       ]
      },
      {
       "output_type": "stream",
       "stream": "stdout",
       "text": [
        "\n",
        "evaluating:\n",
        "  delta=1.05\n",
        "  theta=2.0\n",
        "  z_temp=0.306783952333\n",
        "  pow_gain=0.388076093406\n",
        "  llh: 336.994851479"
       ]
      },
      {
       "output_type": "stream",
       "stream": "stdout",
       "text": [
        "\n",
        "evaluating:\n",
        "  delta=1.0\n",
        "  theta=2.1\n",
        "  z_temp=0.306783952333\n",
        "  pow_gain=0.388076093406\n",
        "  llh: 336.658273783"
       ]
      },
      {
       "output_type": "stream",
       "stream": "stdout",
       "text": [
        "\n",
        "evaluating:\n",
        "  delta=1.0\n",
        "  theta=2.0\n",
        "  z_temp=0.32212314995\n",
        "  pow_gain=0.388076093406\n",
        "  llh: 337.035749167"
       ]
      },
      {
       "output_type": "stream",
       "stream": "stdout",
       "text": [
        "\n",
        "evaluating:\n",
        "  delta=1.0\n",
        "  theta=2.0\n",
        "  z_temp=0.306783952333\n",
        "  pow_gain=0.407479898076\n",
        "  llh: 336.536230557"
       ]
      },
      {
       "output_type": "stream",
       "stream": "stdout",
       "text": [
        "\n",
        "evaluating:\n",
        "  delta=1.025\n",
        "  theta=2.05\n",
        "  z_temp=0.291444754716\n",
        "  pow_gain=0.397777995741\n",
        "  llh: 336.421254332"
       ]
      },
      {
       "output_type": "stream",
       "stream": "stdout",
       "text": [
        "\n",
        "evaluating:\n",
        "  delta=1.0375\n",
        "  theta=2.075\n",
        "  z_temp=0.2761055571\n",
        "  pow_gain=0.402628946908\n",
        "  llh: 336.140098399"
       ]
      },
      {
       "output_type": "stream",
       "stream": "stdout",
       "text": [
        "\n",
        "evaluating:\n",
        "  delta=0.96875\n",
        "  theta=2.0875\n",
        "  z_temp=0.291444754716\n",
        "  pow_gain=0.405054422492\n",
        "  llh: 335.924875393"
       ]
      },
      {
       "output_type": "stream",
       "stream": "stdout",
       "text": [
        "\n",
        "evaluating:\n",
        "  delta=0.928125\n",
        "  theta=2.13125\n",
        "  z_temp=0.283775155908\n",
        "  pow_gain=0.413543587035\n",
        "  llh: 335.288332112"
       ]
      },
      {
       "output_type": "stream",
       "stream": "stdout",
       "text": [
        "\n",
        "evaluating:\n",
        "  delta=0.9828125\n",
        "  theta=2.003125\n",
        "  z_temp=0.279940356504\n",
        "  pow_gain=0.417788169307\n",
        "  llh: 335.715980835"
       ]
      },
      {
       "output_type": "stream",
       "stream": "stdout",
       "text": [
        "\n",
        "evaluating:\n",
        "  delta=0.97421875\n",
        "  theta=2.1046875\n",
        "  z_temp=0.266518558589\n",
        "  pow_gain=0.432644207258\n",
        "  llh: 335.268429655"
       ]
      },
      {
       "output_type": "stream",
       "stream": "stdout",
       "text": [
        "\n",
        "evaluating:\n",
        "  delta=0.961328125\n",
        "  theta=2.15703125\n",
        "  z_temp=0.246385861717\n",
        "  pow_gain=0.454928264184\n",
        "  llh: 334.493021998"
       ]
      },
      {
       "output_type": "stream",
       "stream": "stdout",
       "text": [
        "\n",
        "evaluating:\n",
        "  delta=0.9548828125\n",
        "  theta=2.183203125\n",
        "  z_temp=0.236319513282\n",
        "  pow_gain=0.436964585641\n",
        "  llh: 334.46337346"
       ]
      },
      {
       "output_type": "stream",
       "stream": "stdout",
       "text": [
        "\n",
        "evaluating:\n",
        "  delta=0.93232421875\n",
        "  theta=2.2748046875\n",
        "  z_temp=0.201087293756\n",
        "  pow_gain=0.451706929424\n",
        "  llh: 333.407257454"
       ]
      },
      {
       "output_type": "stream",
       "stream": "stdout",
       "text": [
        "\n",
        "evaluating:\n",
        "  delta=0.864794921875\n",
        "  theta=2.20810546875\n",
        "  z_temp=0.229488776843\n",
        "  pow_gain=0.466354528067\n",
        "  llh: 332.367383729"
       ]
      },
      {
       "output_type": "stream",
       "stream": "stdout",
       "text": [
        "\n",
        "evaluating:\n",
        "  delta=0.778442382812\n",
        "  theta=2.27465820312\n",
        "  z_temp=0.206180386714\n",
        "  pow_gain=0.498217318646\n",
        "  llh: 329.507907083"
       ]
      },
      {
       "output_type": "stream",
       "stream": "stdout",
       "text": [
        "\n",
        "evaluating:\n",
        "  delta=0.817297363281\n",
        "  theta=2.41574707031\n",
        "  z_temp=0.188773992544\n",
        "  pow_gain=0.491409880337\n",
        "  llh: 330.453211327"
       ]
      },
      {
       "output_type": "stream",
       "stream": "stdout",
       "text": [
        "\n",
        "evaluating:\n",
        "  delta=0.816571044922\n",
        "  theta=2.42987060547\n",
        "  z_temp=0.137438611458\n",
        "  pow_gain=0.53458760926\n",
        "  llh: 328.945275176"
       ]
      },
      {
       "output_type": "stream",
       "stream": "stdout",
       "text": [
        "\n",
        "evaluating:\n",
        "  delta=0.760794067383\n",
        "  theta=2.5791809082\n",
        "  z_temp=0.0642703392327\n",
        "  pow_gain=0.595109620372\n",
        "  llh: 287.472333451"
       ]
      },
      {
       "output_type": "stream",
       "stream": "stdout",
       "text": [
        "\n",
        "evaluating:\n",
        "  delta=0.683100891113\n",
        "  theta=2.61516418457\n",
        "  z_temp=0.083770144406\n",
        "  pow_gain=0.563293610206\n",
        "  llh: 286.861619197"
       ]
      },
      {
       "output_type": "stream",
       "stream": "stdout",
       "text": [
        "\n",
        "evaluating:\n",
        "  delta=0.54398727417\n",
        "  theta=2.84423065186\n",
        "  z_temp=0.00246228575023\n",
        "  pow_gain=0.617476283217\n",
        "  llh: 285.200642609"
       ]
      },
      {
       "output_type": "stream",
       "stream": "stdout",
       "text": [
        "\n",
        "evaluating:\n",
        "  delta=0.517936325073\n",
        "  theta=2.78210372925\n",
        "  z_temp=0.0297562083649\n",
        "  pow_gain=0.649399621863\n",
        "  llh: 285.22570609"
       ]
      },
      {
       "output_type": "stream",
       "stream": "stdout",
       "text": [
        "\n",
        "evaluating:\n",
        "  delta=0.483282661438\n",
        "  theta=2.8243396759\n",
        "  z_temp=-0.0374393825129\n",
        "  pow_gain=0.688691541712\n",
        "evaluating:\n",
        "  delta=0.73379368782\n",
        "  theta=2.51789522171\n",
        "  z_temp=0.13222064878\n",
        "  pow_gain=0.540730295681\n",
        "  llh: 287.955042588"
       ]
      },
      {
       "output_type": "stream",
       "stream": "stdout",
       "text": [
        "\n",
        "evaluating:\n",
        "  delta=0.499813294411\n",
        "  theta=3.08704705238\n",
        "  z_temp=-0.0918256456507\n",
        "  pow_gain=0.703140591921\n",
        "evaluating:\n",
        "  delta=0.708785110712\n",
        "  theta=2.47775541544\n",
        "  z_temp=0.131678878623\n",
        "  pow_gain=0.549448136965\n",
        "  llh: 325.735754258"
       ]
      },
      {
       "output_type": "stream",
       "stream": "stdout",
       "text": [
        "\n",
        "evaluating:\n",
        "  delta=0.569470566511\n",
        "  theta=2.88394984007\n",
        "  z_temp=-0.0173241375594\n",
        "  pow_gain=0.651909773602\n",
        "evaluating:\n",
        "  delta=0.673956474662\n",
        "  theta=2.5793040216\n",
        "  z_temp=0.0944281245775\n",
        "  pow_gain=0.575063546124\n",
        "  llh: 286.636017295"
       ]
      },
      {
       "output_type": "stream",
       "stream": "stdout",
       "text": [
        "\n",
        "evaluating:\n",
        "  delta=0.514543382823\n",
        "  theta=2.87451443374\n",
        "  z_temp=-0.0367621698171\n",
        "  pow_gain=0.677794240107\n",
        "evaluating:\n",
        "  delta=0.678981111571\n",
        "  theta=2.60705002472\n",
        "  z_temp=0.0899749441305\n",
        "  pow_gain=0.574996281788\n",
        "  llh: 286.685685113"
       ]
      },
      {
       "output_type": "stream",
       "stream": "stdout",
       "text": [
        "\n",
        "evaluating:\n",
        "  delta=0.446636525355\n",
        "  theta=2.82716330551\n",
        "  z_temp=0.0440404421789\n",
        "  pow_gain=0.613358246123\n",
        "  llh: 285.719710281"
       ]
      },
      {
       "output_type": "stream",
       "stream": "stdout",
       "text": [
        "\n",
        "evaluating:\n",
        "  delta=0.412277188059\n",
        "  theta=2.90935082939\n",
        "  z_temp=-0.00463141369477\n",
        "  pow_gain=0.652652566876\n",
        "evaluating:\n",
        "  delta=0.612305130693\n",
        "  theta=2.68262522588\n",
        "  z_temp=0.0663233546742\n",
        "  pow_gain=0.59441035306\n",
        "  llh: 285.845874773"
       ]
      },
      {
       "output_type": "stream",
       "stream": "stdout",
       "text": [
        "\n",
        "evaluating:\n",
        "  delta=0.386476152984\n",
        "  theta=2.98875743465\n",
        "  z_temp=-0.0231369790934\n",
        "  pow_gain=0.662258706007\n",
        "evaluating:\n",
        "  delta=0.602086394242\n",
        "  theta=2.68166737486\n",
        "  z_temp=0.0650368486598\n",
        "  pow_gain=0.596862336095\n",
        "  llh: 285.746599856"
       ]
      },
      {
       "output_type": "stream",
       "stream": "stdout",
       "text": [
        "\n",
        "evaluating:\n",
        "  delta=0.443018128727\n",
        "  theta=2.88495730485\n",
        "  z_temp=0.00432453780269\n",
        "  pow_gain=0.644137890589\n",
        "  llh: 285.744385697"
       ]
      },
      {
       "output_type": "stream",
       "stream": "stdout",
       "text": [
        "\n",
        "evaluating:\n",
        "  delta=0.37370273242\n",
        "  theta=2.98756012087\n",
        "  z_temp=-0.0247451116114\n",
        "  pow_gain=0.665323684801\n",
        "evaluating:\n",
        "  delta=0.544990478787\n",
        "  theta=2.75814056136\n",
        "  z_temp=0.042591358592\n",
        "  pow_gain=0.613977673271\n",
        "  llh: 285.219770294"
       ]
      },
      {
       "output_type": "stream",
       "stream": "stdout",
       "text": [
        "\n",
        "evaluating:\n",
        "  delta=0.583757172965\n",
        "  theta=2.72086181914\n",
        "  z_temp=0.0551006096403\n",
        "  pow_gain=0.602968021648\n",
        "  llh: 285.570256497"
       ]
      },
      {
       "output_type": "stream",
       "stream": "stdout",
       "text": [
        "\n",
        "evaluating:\n",
        "  delta=0.648699100142\n",
        "  theta=2.72550507529\n",
        "  z_temp=0.0209147889948\n",
        "  pow_gain=0.628552553876\n",
        "  llh: 286.000615929"
       ]
      },
      {
       "output_type": "stream",
       "stream": "stdout",
       "text": [
        "\n",
        "evaluating:\n",
        "  delta=0.497152169052\n",
        "  theta=2.80174874795\n",
        "  z_temp=0.0382590288829\n",
        "  pow_gain=0.617156823062\n",
        "  llh: 285.386216178"
       ]
      },
      {
       "output_type": "stream",
       "stream": "stdout",
       "text": [
        "\n",
        "evaluating:\n",
        "  delta=0.468275950576\n",
        "  theta=2.87225002607\n",
        "  z_temp=0.00143383115467\n",
        "  pow_gain=0.646037179059\n",
        "  llh: 285.506912573"
       ]
      },
      {
       "output_type": "stream",
       "stream": "stdout",
       "text": [
        "\n",
        "evaluating:\n",
        "  delta=0.497146256173\n",
        "  theta=2.83440297434\n",
        "  z_temp=0.0148505257761\n",
        "  pow_gain=0.635269889706\n",
        "  llh: 285.340961688"
       ]
      },
      {
       "output_type": "stream",
       "stream": "stdout",
       "text": [
        "\n",
        "evaluating:\n",
        "  delta=0.55487799805\n",
        "  theta=2.80769021045\n",
        "  z_temp=0.0065711603587\n",
        "  pow_gain=0.640904910967\n",
        "  llh: 285.173427989"
       ]
      },
      {
       "output_type": "stream",
       "stream": "stdout",
       "text": [
        "\n",
        "evaluating:\n",
        "  delta=0.583740912548\n",
        "  theta=2.8106609417\n",
        "  z_temp=-0.0092727739034\n",
        "  pow_gain=0.65277895492\n",
        "evaluating:\n",
        "  delta=0.583749781867\n",
        "  theta=2.76167960212\n",
        "  z_temp=0.0258399807568\n",
        "  pow_gain=0.625609354953\n",
        "  llh: 285.465519286"
       ]
      },
      {
       "output_type": "stream",
       "stream": "stdout",
       "text": [
        "\n",
        "evaluating:\n",
        "  delta=0.518797137596\n",
        "  theta=2.81622213128\n",
        "  z_temp=0.0175978895213\n",
        "  pow_gain=0.632854756018\n",
        "  llh: 285.252740292"
       ]
      },
      {
       "output_type": "stream",
       "stream": "stdout",
       "text": [
        "\n",
        "evaluating:\n",
        "  delta=0.562098900443\n",
        "  theta=2.77986044517\n",
        "  z_temp=0.0230926170116\n",
        "  pow_gain=0.628024488641\n",
        "  llh: 285.284895258"
       ]
      },
      {
       "output_type": "stream",
       "stream": "stdout",
       "text": [
        "\n",
        "evaluating:\n",
        "  delta=0.529622578308\n",
        "  theta=2.80713170976\n",
        "  z_temp=0.0189715713939\n",
        "  pow_gain=0.631647189174\n",
        "  llh: 285.196645167"
       ]
      },
      {
       "output_type": "stream",
       "stream": "stdout",
       "text": [
        "\n",
        "evaluating:\n",
        "  delta=0.568802839584\n",
        "  theta=2.82649283746\n",
        "  z_temp=0.00554197968252\n",
        "  pow_gain=0.602603406452\n",
        "  llh: 285.449616653"
       ]
      },
      {
       "output_type": "stream",
       "stream": "stdout",
       "text": [
        "\n",
        "evaluating:\n",
        "  delta=0.530652953701\n",
        "  theta=2.7932010063\n",
        "  z_temp=0.0237026511943\n",
        "  pow_gain=0.63770056801\n",
        "  llh: 285.193719014"
       ]
      },
      {
       "output_type": "stream",
       "stream": "stdout",
       "text": [
        "\n",
        "evaluating:\n",
        "  delta=0.534579923327\n",
        "  theta=2.86798622782\n",
        "  z_temp=-0.0167375242435\n",
        "  pow_gain=0.649886802413\n",
        "evaluating:\n",
        "  delta=0.542387839922\n",
        "  theta=2.78560197798\n",
        "  z_temp=0.0277591378831\n",
        "  pow_gain=0.622954955557\n",
        "  llh: 285.179086353"
       ]
      },
      {
       "output_type": "stream",
       "stream": "stdout",
       "text": [
        "\n",
        "evaluating:\n",
        "  delta=0.53478341082\n",
        "  theta=2.75258180039\n",
        "  z_temp=0.0360399746648\n",
        "  pow_gain=0.649127528636\n",
        "  llh: 285.181030239"
       ]
      },
      {
       "output_type": "stream",
       "stream": "stdout",
       "text": [
        "\n",
        "evaluating:\n",
        "  delta=0.551728522938\n",
        "  theta=2.7624057878\n",
        "  z_temp=0.0280648906566\n",
        "  pow_gain=0.643696792411\n",
        "  llh: 285.151106092"
       ]
      },
      {
       "output_type": "stream",
       "stream": "stdout",
       "text": [
        "\n",
        "evaluating:\n",
        "  delta=0.562781495253\n",
        "  theta=2.74004282682\n",
        "  z_temp=0.0326115502879\n",
        "  pow_gain=0.64972159403\n",
        "  llh: 285.203627647"
       ]
      },
      {
       "output_type": "stream",
       "stream": "stdout",
       "text": [
        "\n",
        "evaluating:\n",
        "  delta=0.561235932164\n",
        "  theta=2.760938882\n",
        "  z_temp=0.0255149305873\n",
        "  pow_gain=0.640641525776\n",
        "  llh: 285.226155791"
       ]
      },
      {
       "output_type": "stream",
       "stream": "stdout",
       "text": [
        "\n",
        "evaluating:\n",
        "  delta=0.538298698317\n",
        "  theta=2.78513547523\n",
        "  z_temp=0.0241557210425\n",
        "  pow_gain=0.638435807451\n",
        "  llh: 285.164129332"
       ]
      },
      {
       "output_type": "stream",
       "stream": "stdout",
       "text": [
        "\n",
        "evaluating:\n",
        "  delta=0.558863118793\n",
        "  theta=2.81783492534\n",
        "  z_temp=0.00723548030572\n",
        "  pow_gain=0.623868704557\n",
        "  llh: 285.27782335"
       ]
      },
      {
       "output_type": "stream",
       "stream": "stdout",
       "text": [
        "\n",
        "evaluating:\n",
        "  delta=0.540803337814\n",
        "  theta=2.76889508163\n",
        "  z_temp=0.028838851075\n",
        "  pow_gain=0.642812822617\n",
        "  llh: 285.158037431"
       ]
      },
      {
       "output_type": "stream",
       "stream": "stdout",
       "text": [
        "\n",
        "evaluating:\n",
        "  delta=0.550466438637\n",
        "  theta=2.77646129957\n",
        "  z_temp=0.0160561736833\n",
        "  pow_gain=0.659970211166\n",
        "  llh: 285.141257188"
       ]
      },
      {
       "output_type": "stream",
       "stream": "stdout",
       "text": [
        "\n",
        "evaluating:\n",
        "  delta=0.554505737994\n",
        "  theta=2.77189096037\n",
        "  z_temp=0.0102046915833\n",
        "  pow_gain=0.678477838971\n",
        "  llh: 285.119967019"
       ]
      },
      {
       "output_type": "stream",
       "stream": "stdout",
       "text": [
        "\n",
        "evaluating:\n",
        "  delta=0.537790150482\n",
        "  theta=2.73647344206\n",
        "  z_temp=0.03906091682\n",
        "  pow_gain=0.660806719758\n",
        "  llh: 285.154046335"
       ]
      },
      {
       "output_type": "stream",
       "stream": "stdout",
       "text": [
        "\n",
        "evaluating:\n",
        "  delta=0.554115176297\n",
        "  theta=2.7346971607\n",
        "  z_temp=0.0289289540249\n",
        "  pow_gain=0.674461279427\n",
        "  llh: 285.127456954"
       ]
      },
      {
       "output_type": "stream",
       "stream": "stdout",
       "text": [
        "\n",
        "evaluating:\n",
        "  delta=0.558266456042\n",
        "  theta=2.73383859385\n",
        "  z_temp=0.0242908754674\n",
        "  pow_gain=0.685908492668\n",
        "  llh: 285.113549738"
       ]
      },
      {
       "output_type": "stream",
       "stream": "stdout",
       "text": [
        "\n",
        "evaluating:\n",
        "  delta=0.566998015157\n",
        "  theta=2.71631034996\n",
        "  z_temp=0.0220168876637\n",
        "  pow_gain=0.707456327693\n",
        "  llh: 285.106330449"
       ]
      },
      {
       "output_type": "stream",
       "stream": "stdout",
       "text": [
        "\n",
        "evaluating:\n",
        "  delta=0.575883575712\n",
        "  theta=2.75617868735\n",
        "  z_temp=0.00554679514424\n",
        "  pow_gain=0.691239399493\n",
        "  llh: 285.206828558"
       ]
      },
      {
       "output_type": "stream",
       "stream": "stdout",
       "text": [
        "\n",
        "evaluating:\n",
        "  delta=0.547313506789\n",
        "  theta=2.74139975339\n",
        "  z_temp=0.0306823864011\n",
        "  pow_gain=0.668414889692\n",
        "  llh: 285.134705383"
       ]
      },
      {
       "output_type": "stream",
       "stream": "stdout",
       "text": [
        "\n",
        "evaluating:\n",
        "  delta=0.559737695181\n",
        "  theta=2.71974332441\n",
        "  z_temp=0.0178515691799\n",
        "  pow_gain=0.720708375481\n",
        "  llh: 285.112398389"
       ]
      },
      {
       "output_type": "stream",
       "stream": "stdout",
       "text": [
        "\n",
        "evaluating:\n",
        "  delta=0.570364805525\n",
        "  theta=2.72992114434\n",
        "  z_temp=0.00881866482487\n",
        "  pow_gain=0.722137021094\n",
        "  llh: 285.100145133"
       ]
      },
      {
       "output_type": "stream",
       "stream": "stdout",
       "text": [
        "\n",
        "evaluating:\n",
        "  delta=0.581890454894\n",
        "  theta=2.72418183981\n",
        "  z_temp=-0.00211319596324\n",
        "  pow_gain=0.748998086795\n",
        "evaluating:\n",
        "  delta=0.571687950632\n",
        "  theta=2.73423572884\n",
        "  z_temp=0.000516952600977\n",
        "  pow_gain=0.739928502192\n",
        "  llh: 285.123400422"
       ]
      },
      {
       "output_type": "stream",
       "stream": "stdout",
       "text": [
        "\n",
        "evaluating:\n",
        "  delta=0.567294757048\n",
        "  theta=2.7343510868\n",
        "  z_temp=0.00761995295697\n",
        "  pow_gain=0.723561696501\n",
        "  llh: 285.103618622"
       ]
      },
      {
       "output_type": "stream",
       "stream": "stdout",
       "text": [
        "\n",
        "evaluating:\n",
        "  delta=0.577691898461\n",
        "  theta=2.67827199238\n",
        "  z_temp=0.0179488457294\n",
        "  pow_gain=0.758453871413\n",
        "  llh: 285.151396666"
       ]
      },
      {
       "output_type": "stream",
       "stream": "stdout",
       "text": [
        "\n",
        "evaluating:\n",
        "  delta=0.560302278111\n",
        "  theta=2.74848621838\n",
        "  z_temp=0.0121407301199\n",
        "  pow_gain=0.698471847082\n",
        "  llh: 285.105428459"
       ]
      },
      {
       "output_type": "stream",
       "stream": "stdout",
       "text": [
        "\n",
        "evaluating:\n",
        "  delta=0.57274223274\n",
        "  theta=2.74479107533\n",
        "  z_temp=0.00744654860274\n",
        "  pow_gain=0.705105070705\n",
        "  llh: 285.145349423"
       ]
      },
      {
       "output_type": "stream",
       "stream": "stdout",
       "text": [
        "\n",
        "evaluating:\n",
        "  delta=0.562988829571\n",
        "  theta=2.72600526214\n",
        "  z_temp=0.0152503140356\n",
        "  pow_gain=0.716807549287\n",
        "  llh: 285.099793718"
       ]
      },
      {
       "output_type": "stream",
       "stream": "stdout",
       "text": [
        "\n",
        "evaluating:\n",
        "  delta=0.563477319971\n",
        "  theta=2.75307150587\n",
        "  z_temp=-0.00010205669501\n",
        "  pow_gain=0.723032729289\n",
        "evaluating:\n",
        "  delta=0.56611784136\n",
        "  theta=2.72550063894\n",
        "  z_temp=0.016487151574\n",
        "  pow_gain=0.711350428092\n",
        "  llh: 285.09842568"
       ]
      },
      {
       "output_type": "stream",
       "stream": "stdout",
       "text": [
        "\n",
        "evaluating:\n",
        "  delta=0.573080838641\n",
        "  theta=2.70940284773\n",
        "  z_temp=0.0119473115759\n",
        "  pow_gain=0.738456500405\n",
        "  llh: 285.11973112"
       ]
      },
      {
       "output_type": "stream",
       "stream": "stdout",
       "text": [
        "\n",
        "evaluating:\n",
        "  delta=0.563496918244\n",
        "  theta=2.73871537571\n",
        "  z_temp=0.0120923754839\n",
        "  pow_gain=0.708468010413\n",
        "  llh: 285.098437365"
       ]
      },
      {
       "output_type": "stream",
       "stream": "stdout",
       "text": [
        "\n",
        "evaluating:\n",
        "  delta=0.564189440302\n",
        "  theta=2.72572012376\n",
        "  z_temp=0.0187043000022\n",
        "  pow_gain=0.705819807942\n",
        "  llh: 285.100229972"
       ]
      },
      {
       "output_type": "stream",
       "stream": "stdout",
       "text": [
        "\n",
        "evaluating:\n",
        "  delta=0.564965769489\n",
        "  theta=2.72787786452\n",
        "  z_temp=0.0159332132409\n",
        "  pow_gain=0.710255280082\n",
        "  llh: 285.098335422"
       ]
      },
      {
       "output_type": "stream",
       "stream": "stdout",
       "text": [
        "\n",
        "evaluating:\n",
        "  delta=0.558419873806\n",
        "  theta=2.72912842632\n",
        "  z_temp=0.0210628623423\n",
        "  pow_gain=0.701303612842\n",
        "  llh: 285.100247092"
       ]
      },
      {
       "output_type": "stream",
       "stream": "stdout",
       "text": [
        "\n",
        "evaluating:\n",
        "  delta=0.567378572596\n",
        "  theta=2.72972296483\n",
        "  z_temp=0.0118797142042\n",
        "  pow_gain=0.716928669031\n",
        "  llh: 285.09785677"
       ]
      },
      {
       "output_type": "stream",
       "stream": "stdout",
       "text": [
        "\n",
        "evaluating:\n",
        "  delta=0.567990721273\n",
        "  theta=2.73490315986\n",
        "  z_temp=0.0129459132159\n",
        "  pow_gain=0.706693644522\n",
        "  llh: 285.114280727"
       ]
      },
      {
       "output_type": "stream",
       "stream": "stdout",
       "text": [
        "\n",
        "evaluating:\n",
        "  delta=0.564239302496\n",
        "  theta=2.72822973657\n",
        "  z_temp=0.0146742138307\n",
        "  pow_gain=0.714279073095\n",
        "  llh: 285.097376212"
       ]
      },
      {
       "output_type": "stream",
       "stream": "stdout",
       "text": [
        "\n",
        "evaluating:\n",
        "  delta=0.567853824727\n",
        "  theta=2.71695022672\n",
        "  z_temp=0.0173947709411\n",
        "  pow_gain=0.717938714737\n",
        "  llh: 285.097917824"
       ]
      },
      {
       "output_type": "stream",
       "stream": "stdout",
       "text": [
        "\n",
        "evaluating:\n",
        "  delta=0.566100893293\n",
        "  theta=2.72588975738\n",
        "  z_temp=0.0134538045344\n",
        "  pow_gain=0.718350440381\n",
        "  llh: 285.098390503"
       ]
      },
      {
       "output_type": "stream",
       "stream": "stdout",
       "text": [
        "\n",
        "evaluating:\n",
        "  delta=0.56610513031\n",
        "  theta=2.72579247777\n",
        "  z_temp=0.0142121412943\n",
        "  pow_gain=0.716600437309\n",
        "  llh: 285.097523786"
       ]
      },
      {
       "output_type": "stream",
       "stream": "stdout",
       "text": [
        "\n",
        "evaluating:\n",
        "  delta=0.567822645576\n",
        "  theta=2.72246983842\n",
        "  z_temp=0.0131472068943\n",
        "  pow_gain=0.722618167005\n",
        "  llh: 285.101926355"
       ]
      },
      {
       "output_type": "stream",
       "stream": "stdout",
       "text": [
        "\n",
        "evaluating:\n",
        "  delta=0.56567998851\n",
        "  theta=2.726525858\n",
        "  z_temp=0.0152367116542\n",
        "  pow_gain=0.713346001812\n",
        "  llh: 285.097853857"
       ]
      },
      {
       "output_type": "stream",
       "stream": "stdout",
       "text": [
        "\n",
        "evaluating:\n",
        "  delta=0.563847672229\n",
        "  theta=2.73818529187\n",
        "  z_temp=0.0106066195507\n",
        "  pow_gain=0.712638375886\n",
        "  llh: 285.097548194"
       ]
      },
      {
       "output_type": "stream",
       "stream": "stdout",
       "text": [
        "\n",
        "evaluating:\n",
        "  delta=0.562557474177\n",
        "  theta=2.72964371727\n",
        "  z_temp=0.0154851289607\n",
        "  pow_gain=0.71150327502\n",
        "  llh: 285.09754651"
       ]
      },
      {
       "output_type": "stream",
       "stream": "stdout",
       "text": [
        "\n",
        "evaluating:\n",
        "  delta=0.562694801096\n",
        "  theta=2.73439975375\n",
        "  z_temp=0.012252340164\n",
        "  pow_gain=0.714164578843\n",
        "  llh: 285.097122219"
       ]
      },
      {
       "output_type": "stream",
       "stream": "stdout",
       "text": [
        "\n",
        "evaluating:\n",
        "  delta=0.561202207389\n",
        "  theta=2.73833670162\n",
        "  z_temp=0.0107601544189\n",
        "  pow_gain=0.714573867358\n",
        "  llh: 285.099793104"
       ]
      },
      {
       "output_type": "stream",
       "stream": "stdout",
       "text": [
        "\n",
        "evaluating:\n",
        "  delta=0.563950681811\n",
        "  theta=2.72084755081\n",
        "  z_temp=0.0177052925742\n",
        "  pow_gain=0.715635306247\n",
        "  llh: 285.097424579"
       ]
      },
      {
       "output_type": "stream",
       "stream": "stdout",
       "text": [
        "\n",
        "evaluating:\n",
        "  delta=0.565937483679\n",
        "  theta=2.72499104218\n",
        "  z_temp=0.0139368649709\n",
        "  pow_gain=0.718836422727\n",
        "  llh: 285.099112852"
       ]
      },
      {
       "output_type": "stream",
       "stream": "stdout",
       "text": [
        "\n",
        "evaluating:\n",
        "  delta=0.563402476553\n",
        "  theta=2.7284805485\n",
        "  z_temp=0.0150980629633\n",
        "  pow_gain=0.713336561947\n",
        "  llh: 285.097366892"
       ]
      },
      {
       "output_type": "stream",
       "stream": "stdout",
       "text": [
        "\n",
        "evaluating:\n",
        "  delta=0.561038500668\n",
        "  theta=2.73018631704\n",
        "  z_temp=0.0156528134717\n",
        "  pow_gain=0.712107322758\n",
        "  llh: 285.097340031"
       ]
      },
      {
       "output_type": "stream",
       "stream": "stdout",
       "text": [
        "\n",
        "evaluating:\n",
        "  delta=0.561736858596\n",
        "  theta=2.73980062712\n",
        "  z_temp=0.0111334226407\n",
        "  pow_gain=0.711308462074\n",
        "  llh: 285.097496742"
       ]
      },
      {
       "output_type": "stream",
       "stream": "stdout",
       "text": [
        "\n",
        "evaluating:\n",
        "  delta=0.563397226007\n",
        "  theta=2.72558581989\n",
        "  z_temp=0.0160623250908\n",
        "  pow_gain=0.714553595204\n",
        "  llh: 285.097218405"
       ]
      },
      {
       "output_type": "stream",
       "stream": "stdout",
       "text": [
        "\n",
        "evaluating:\n",
        "  delta=0.561027199666\n",
        "  theta=2.73109648301\n",
        "  z_temp=0.0148585570142\n",
        "  pow_gain=0.71280195628\n",
        "  llh: 285.097666775"
       ]
      },
      {
       "output_type": "stream",
       "stream": "stdout",
       "text": [
        "\n",
        "evaluating:\n",
        "  delta=0.563436276789\n",
        "  theta=2.72894642318\n",
        "  z_temp=0.0147202996266\n",
        "  pow_gain=0.713909793892\n",
        "  llh: 285.0972962"
       ]
      },
      {
       "output_type": "stream",
       "stream": "stdout",
       "text": [
        "\n",
        "evaluating:\n",
        "  delta=0.561880925727\n",
        "  theta=2.73107860843\n",
        "  z_temp=0.0142458262133\n",
        "  pow_gain=0.714031083401\n",
        "  llh: 285.097874618"
       ]
      },
      {
       "output_type": "stream",
       "stream": "stdout",
       "text": [
        "\n",
        "evaluating:\n",
        "  delta=0.563022088846\n",
        "  theta=2.72913006348\n",
        "  z_temp=0.0148850037758\n",
        "  pow_gain=0.71351019231\n",
        "  llh: 285.097293864"
       ]
      },
      {
       "output_type": "stream",
       "stream": "stdout",
       "text": [
        "\n",
        "evaluating:\n",
        "  delta=0.565236695701\n",
        "  theta=2.72884471311\n",
        "  z_temp=0.0133071708568\n",
        "  pow_gain=0.715961757367\n",
        "  llh: 285.097383462"
       ]
      },
      {
       "output_type": "stream",
       "stream": "stdout",
       "text": [
        "\n",
        "evaluating:\n",
        "  delta=0.562088049426\n",
        "  theta=2.72985091606\n",
        "  z_temp=0.015066402818\n",
        "  pow_gain=0.71307093141\n",
        "  llh: 285.097262465"
       ]
      },
      {
       "output_type": "stream",
       "stream": "stdout",
       "text": [
        "\n",
        "evaluating:\n",
        "  delta=0.562164805899\n",
        "  theta=2.7305368534\n",
        "  z_temp=0.0144127362977\n",
        "  pow_gain=0.713739854992\n",
        "  llh: 285.097236895"
       ]
      },
      {
       "output_type": "stream",
       "stream": "stdout",
       "text": [
        "\n",
        "evaluating:\n",
        "  delta=0.562150352368\n",
        "  theta=2.73105660807\n",
        "  z_temp=0.0140118984095\n",
        "  pow_gain=0.714254287914\n",
        "  llh: 285.097819291"
       ]
      },
      {
       "output_type": "stream",
       "stream": "stdout",
       "text": [
        "\n",
        "evaluating:\n",
        "  delta=0.562804154727\n",
        "  theta=2.72961169963\n",
        "  z_temp=0.0146667274342\n",
        "  pow_gain=0.713696216211\n",
        "  llh: 285.097247237"
       ]
      },
      {
       "output_type": "stream",
       "stream": "stdout",
       "text": [
        "\n",
        "evaluating:\n",
        "  delta=0.563442444438\n",
        "  theta=2.73021614727\n",
        "  z_temp=0.0136306616753\n",
        "  pow_gain=0.715006191215\n",
        "  llh: 285.097253133"
       ]
      },
      {
       "output_type": "stream",
       "stream": "stdout",
       "text": [
        "\n",
        "evaluating:\n",
        "  delta=0.563103845685\n",
        "  theta=2.73012483947\n",
        "  z_temp=0.013989596961\n",
        "  pow_gain=0.714522376264\n",
        "  llh: 285.097188481"
       ]
      },
      {
       "output_type": "stream",
       "stream": "stdout",
       "text": [
        "\n",
        "evaluating:\n",
        "  delta=0.562876184617\n",
        "  theta=2.73071193363\n",
        "  z_temp=0.0136917718226\n",
        "  pow_gain=0.71479398644\n",
        "  llh: 285.097620819"
       ]
      },
      {
       "output_type": "stream",
       "stream": "stdout",
       "text": [
        "\n",
        "evaluating:\n",
        "  delta=0.562822162199\n",
        "  theta=2.72988675813\n",
        "  z_temp=0.0144229885313\n",
        "  pow_gain=0.713970658769\n",
        "  llh: 285.097217727"
       ]
      },
      {
       "output_type": "stream",
       "stream": "stdout",
       "text": [
        "\n",
        "evaluating:\n",
        "  delta=0.563844211595\n",
        "  theta=2.72946173221\n",
        "  z_temp=0.0139508890758\n",
        "  pow_gain=0.714865749548\n",
        "  llh: 285.097245637"
       ]
      },
      {
       "output_type": "stream",
       "stream": "stdout",
       "text": [
        "\n",
        "evaluating:\n",
        "  delta=0.562584657323\n",
        "  theta=2.73026807311\n",
        "  z_temp=0.0142972744922\n",
        "  pow_gain=0.714021328631\n",
        "  llh: 285.097191183"
       ]
      },
      {
       "output_type": "stream",
       "stream": "stdout",
       "text": [
        "\n",
        "evaluating:\n",
        "  delta=0.562205507145\n",
        "  theta=2.73675389234\n",
        "  z_temp=0.0114187749835\n",
        "  pow_gain=0.713785876049\n",
        "  llh: 285.09724222"
       ]
      },
      {
       "output_type": "stream",
       "stream": "stdout",
       "text": [
        "\n",
        "evaluating:\n",
        "  delta=0.563099296292\n",
        "  theta=2.728377838\n",
        "  z_temp=0.014901437564\n",
        "  pow_gain=0.714361665415\n",
        "  llh: 285.097204213"
       ]
      },
      {
       "output_type": "stream",
       "stream": "stdout",
       "text": [
        "\n",
        "evaluating:\n",
        "  delta=0.562919137999\n",
        "  theta=2.73169849403\n",
        "  z_temp=0.0132973360593\n",
        "  pow_gain=0.714564315808\n",
        "  llh: 285.097320168"
       ]
      },
      {
       "output_type": "stream",
       "stream": "stdout",
       "text": [
        "\n",
        "evaluating:\n",
        "  delta=0.562846406149\n",
        "  theta=2.7303396921\n",
        "  z_temp=0.0141415754133\n",
        "  pow_gain=0.714119073028\n",
        "  llh: 285.097204032"
       ]
      },
      {
       "output_type": "stream",
       "stream": "stdout",
       "text": [
        "\n",
        "evaluating:\n",
        "  delta=0.562515558835\n",
        "  theta=2.73418834121\n",
        "  z_temp=0.0124389559513\n",
        "  pow_gain=0.714052012968\n",
        "  llh: 285.097193385"
       ]
      },
      {
       "output_type": "stream",
       "stream": "stdout",
       "text": [
        "\n",
        "evaluating:\n",
        "  delta=0.562603025321\n",
        "  theta=2.73415081166\n",
        "  z_temp=0.012347508371\n",
        "  pow_gain=0.714261075324\n",
        "  llh: 285.097327713"
       ]
      },
      {
       "output_type": "stream",
       "stream": "stdout",
       "text": [
        "\n",
        "evaluating:\n",
        "  delta=0.562785560942\n",
        "  theta=2.73129247199\n",
        "  z_temp=0.0136930586527\n",
        "  pow_gain=0.714154573602\n",
        "  llh: 285.097194634"
       ]
      },
      {
       "output_type": "stream",
       "stream": "stdout",
       "text": [
        "\n",
        "evaluating:\n",
        "  delta=0.562663870528\n",
        "  theta=2.73319803177\n",
        "  z_temp=0.0127960251316\n",
        "  pow_gain=0.71422557475\n",
        "  llh: 285.097222607"
       ]
      },
      {
       "output_type": "stream",
       "stream": "stdout",
       "text": [
        "\n",
        "evaluating:\n",
        "  delta=0.562755138339\n",
        "  theta=2.73176886194\n",
        "  z_temp=0.0134688002724\n",
        "  pow_gain=0.714172323889\n",
        "  llh: 285.097190065"
       ]
      },
      {
       "output_type": "stream",
       "stream": "stdout",
       "text": [
        "\n",
        "evaluating:\n",
        "  delta=0.563053662386\n",
        "  theta=2.72909242292\n",
        "  z_temp=0.0145650499935\n",
        "  pow_gain=0.714388290846\n",
        "  llh: 285.097196695"
       ]
      },
      {
       "output_type": "stream",
       "stream": "stdout",
       "text": [
        "\n",
        "evaluating:\n",
        "  delta=0.562650084723\n",
        "  theta=2.73291436164\n",
        "  z_temp=0.0129704794619\n",
        "  pow_gain=0.714136082437\n",
        "  llh: 285.097139364"
       ]
      },
      {
       "output_type": "stream",
       "stream": "stdout",
       "text": [
        "\n",
        "evaluating:\n",
        "  delta=0.563017277599\n",
        "  theta=2.73433583529\n",
        "  z_temp=0.0120433339374\n",
        "  pow_gain=0.714476352086\n",
        "  llh: 285.097184204"
       ]
      },
      {
       "output_type": "stream",
       "stream": "stdout",
       "text": [
        "\n",
        "evaluating:\n",
        "  delta=0.562977866213\n",
        "  theta=2.73411853313\n",
        "  z_temp=0.0121590749897\n",
        "  pow_gain=0.714477370926\n",
        "  llh: 285.097161457"
       ]
      },
      {
       "output_type": "stream",
       "stream": "stdout",
       "text": [
        "\n",
        "evaluating:\n",
        "  delta=0.56256616913\n",
        "  theta=2.73775940243\n",
        "  z_temp=0.0107230173155\n",
        "  pow_gain=0.714104815882\n",
        "  llh: 285.097196163"
       ]
      },
      {
       "output_type": "stream",
       "stream": "stdout",
       "text": [
        "\n",
        "evaluating:\n",
        "  delta=0.562969426547\n",
        "  theta=2.73203348021\n",
        "  z_temp=0.0131729520496\n",
        "  pow_gain=0.714417986168\n",
        "  llh: 285.097185252"
       ]
      },
      {
       "output_type": "stream",
       "stream": "stdout",
       "text": [
        "\n",
        "evaluating:\n",
        "  delta=0.562700588269\n",
        "  theta=2.73585076169\n",
        "  z_temp=0.0115396622269\n",
        "  pow_gain=0.714209205977\n",
        "  llh: 285.097164896"
       ]
      },
      {
       "output_type": "stream",
       "stream": "stdout",
       "text": [
        "\n",
        "evaluating:\n",
        "  delta=0.562494392552\n",
        "  theta=2.73430586982\n",
        "  z_temp=0.0124174444838\n",
        "  pow_gain=0.714017267006\n",
        "  llh: 285.097178396"
       ]
      },
      {
       "output_type": "stream",
       "stream": "stdout",
       "text": [
        "\n",
        "evaluating:\n",
        "  delta=0.562625113814\n",
        "  theta=2.73431336118\n",
        "  z_temp=0.0123239168472\n",
        "  pow_gain=0.714132038276\n",
        "  llh: 285.097161992"
       ]
      },
      {
       "output_type": "stream",
       "stream": "stdout",
       "text": [
        "\n",
        "evaluating:\n",
        "  delta=0.562773344654\n",
        "  theta=2.73202224316\n",
        "  z_temp=0.0133132435045\n",
        "  pow_gain=0.714245829263\n",
        "  llh: 285.097126557"
       ]
      },
      {
       "output_type": "stream",
       "stream": "stdout",
       "text": [
        "\n",
        "evaluating:\n",
        "  delta=0.56292293453\n",
        "  theta=2.73241408465\n",
        "  z_temp=0.0130236522128\n",
        "  pow_gain=0.714379892459\n",
        "  llh: 285.097184549"
       ]
      },
      {
       "output_type": "stream",
       "stream": "stdout",
       "text": [
        "\n",
        "evaluating:\n",
        "  delta=0.562699568993\n",
        "  theta=2.73383854205\n",
        "  z_temp=0.0124988506886\n",
        "  pow_gain=0.714194001822\n",
        "  llh: 285.097149321"
       ]
      },
      {
       "output_type": "stream",
       "stream": "stdout",
       "text": [
        "\n",
        "evaluating:\n",
        "  delta=0.56243103352\n",
        "  theta=2.73246891716\n",
        "  z_temp=0.0133583819198\n",
        "  pow_gain=0.713892875257\n",
        "  llh: 285.097192707"
       ]
      },
      {
       "output_type": "stream",
       "stream": "stdout",
       "text": [
        "\n",
        "evaluating:\n",
        "  delta=0.56284115804\n",
        "  theta=2.73370612914\n",
        "  z_temp=0.0124589017222\n",
        "  pow_gain=0.714331247008\n",
        "  llh: 285.097147346"
       ]
      },
      {
       "output_type": "stream",
       "stream": "stdout",
       "text": [
        "\n",
        "evaluating:\n",
        "  delta=0.562780125264\n",
        "  theta=2.73268270179\n",
        "  z_temp=0.0129986317377\n",
        "  pow_gain=0.714244866954\n",
        "  llh: 285.097184904"
       ]
      },
      {
       "output_type": "stream",
       "stream": "stdout",
       "text": [
        "\n",
        "evaluating:\n",
        "  delta=0.562719708061\n",
        "  theta=2.73354958199\n",
        "  z_temp=0.0126237959509\n",
        "  pow_gain=0.714206718105\n",
        "  llh: 285.097141509"
       ]
      },
      {
       "output_type": "stream",
       "stream": "stdout",
       "text": [
        "\n",
        "evaluating:\n",
        "  delta=0.562577811227\n",
        "  theta=2.73273684112\n",
        "  z_temp=0.0131210278184\n",
        "  pow_gain=0.714045357316\n",
        "  llh: 285.097188139"
       ]
      },
      {
       "output_type": "stream",
       "stream": "stdout",
       "text": [
        "\n",
        "evaluating:\n",
        "  delta=0.562775321337\n",
        "  theta=2.73346380714\n",
        "  z_temp=0.0126244332463\n",
        "  pow_gain=0.714259774585\n",
        "  llh: 285.097139726"
       ]
      },
      {
       "output_type": "stream",
       "stream": "stdout",
       "text": [
        "\n",
        "evaluating:\n",
        "  delta=0.562727067845\n",
        "  theta=2.73285050085\n",
        "  z_temp=0.0129564522374\n",
        "  pow_gain=0.71419641446\n",
        "  llh: 285.097122267"
       ]
      },
      {
       "output_type": "stream",
       "stream": "stdout",
       "text": [
        "\n",
        "evaluating:\n",
        "  delta=0.562647327822\n",
        "  theta=2.73262962256\n",
        "  z_temp=0.0131218244376\n",
        "  pow_gain=0.714111677916\n",
        "  llh: 285.097187003"
       ]
      },
      {
       "output_type": "stream",
       "stream": "stdout",
       "text": [
        "\n",
        "evaluating:\n",
        "  delta=0.562743322958\n",
        "  theta=2.73325526099\n",
        "  z_temp=0.0127487810441\n",
        "  pow_gain=0.714222750418\n",
        "  llh: 285.097133605"
       ]
      },
      {
       "output_type": "stream",
       "stream": "stdout",
       "text": [
        "\n",
        "evaluating:\n",
        "  delta=0.562819183553\n",
        "  theta=2.73334951774\n",
        "  z_temp=0.0126649290132\n",
        "  pow_gain=0.714278704055\n",
        "  llh: 285.097185008"
       ]
      },
      {
       "output_type": "stream",
       "stream": "stdout",
       "text": [
        "\n",
        "evaluating:\n",
        "  delta=0.562692359431\n",
        "  theta=2.73302315066\n",
        "  z_temp=0.0128940918497\n",
        "  pow_gain=0.714171737842\n",
        "  llh: 285.097132704"
       ]
      },
      {
       "output_type": "stream",
       "stream": "stdout",
       "text": [
        "\n",
        "evaluating:\n",
        "  delta=0.562700463555\n",
        "  theta=2.73289256322\n",
        "  z_temp=0.0129592828337\n",
        "  pow_gain=0.714166529786\n",
        "  llh: 285.097185887"
       ]
      },
      {
       "output_type": "stream",
       "stream": "stdout",
       "text": [
        "\n",
        "evaluating:\n",
        "  delta=0.562732608107\n",
        "  theta=2.73316458655\n",
        "  z_temp=0.0128014064915\n",
        "  pow_gain=0.71420869526\n",
        "  llh: 285.097129752"
       ]
      },
      {
       "output_type": "stream",
       "stream": "stdout",
       "text": [
        "\n",
        "evaluating:\n",
        "  delta=0.56277155142\n",
        "  theta=2.73319539149\n",
        "  z_temp=0.012767629349\n",
        "  pow_gain=0.714236021071\n",
        "  llh: 285.097185035"
       ]
      },
      {
       "output_type": "stream",
       "stream": "stdout",
       "text": [
        "\n",
        "evaluating:\n",
        "  delta=0.562712157428\n",
        "  theta=2.73306621087\n",
        "  z_temp=0.0128624762245\n",
        "  pow_gain=0.714187808649\n",
        "  llh: 285.09712893"
       ]
      },
      {
       "output_type": "stream",
       "stream": "stdout",
       "text": [
        "\n",
        "evaluating:\n",
        "  delta=0.562721077404\n",
        "  theta=2.73300476776\n",
        "  z_temp=0.0128908495737\n",
        "  pow_gain=0.714188620348\n",
        "  llh: 285.097120189"
       ]
      },
      {
       "output_type": "stream",
       "stream": "stdout",
       "text": [
        "\n",
        "evaluating:\n",
        "  delta=0.562715312053\n",
        "  theta=2.73292485837\n",
        "  z_temp=0.0129355711148\n",
        "  pow_gain=0.714178582891\n",
        "  llh: 285.097185937"
       ]
      },
      {
       "output_type": "stream",
       "stream": "stdout",
       "text": [
        "\n",
        "evaluating:\n",
        "  delta=0.562745988071\n",
        "  theta=2.73307242189\n",
        "  z_temp=0.0128439665153\n",
        "  pow_gain=0.714209912808\n",
        "  llh: 285.097185423"
       ]
      },
      {
       "output_type": "stream",
       "stream": "stdout",
       "text": [
        "\n",
        "evaluating:\n",
        "  delta=0.562720615089\n",
        "  theta=2.73306776362\n",
        "  z_temp=0.0128578487972\n",
        "  pow_gain=0.714193334689\n",
        "  llh: 285.097125856"
       ]
      },
      {
       "output_type": "stream",
       "stream": "stdout",
       "text": [
        "\n",
        "evaluating:\n",
        "  delta=0.562658436063\n",
        "  theta=2.73463914984\n",
        "  z_temp=0.0121655018817\n",
        "  pow_gain=0.714125644906\n",
        "  llh: 285.097186501"
       ]
      },
      {
       "output_type": "stream",
       "stream": "stdout",
       "text": [
        "\n",
        "evaluating:\n",
        "  delta=0.562744617506\n",
        "  theta=2.73267646983\n",
        "  z_temp=0.0130263080988\n",
        "  pow_gain=0.714215783174\n",
        "  llh: 285.097124569"
       ]
      },
      {
       "output_type": "stream",
       "stream": "stdout",
       "text": [
        "\n",
        "evaluating:\n",
        "  delta=0.562723166837\n",
        "  theta=2.73339798247\n",
        "  z_temp=0.0127051262398\n",
        "  pow_gain=0.714189363723\n",
        "  llh: 285.09718552"
       ]
      },
      {
       "output_type": "stream",
       "stream": "stdout",
       "text": [
        "\n",
        "evaluating:\n",
        "  delta=0.562721253026\n",
        "  theta=2.73315031834\n",
        "  z_temp=0.0128196681579\n",
        "  pow_gain=0.714192341947\n",
        "  llh: 285.097124079"
       ]
      },
      {
       "output_type": "stream",
       "stream": "stdout",
       "text": [
        "\n",
        "evaluating:\n",
        "  delta=0.562687482179\n",
        "  theta=2.73402620052\n",
        "  z_temp=0.0124333469677\n",
        "  pow_gain=0.714155194625\n",
        "  llh: 285.097185935"
       ]
      },
      {
       "output_type": "stream",
       "stream": "stdout",
       "text": [
        "\n",
        "evaluating:\n",
        "  delta=0.562730333675\n",
        "  theta=2.7330139025\n",
        "  z_temp=0.012878067816\n",
        "  pow_gain=0.714200636037\n",
        "  llh: 285.097123371"
       ]
      },
      {
       "output_type": "stream",
       "stream": "stdout",
       "text": [
        "\n",
        "evaluating:\n",
        "  delta=0.562715386984\n",
        "  theta=2.7334841441\n",
        "  z_temp=0.0126691867377\n",
        "  pow_gain=0.714182782896\n",
        "  llh: 285.097119934"
       ]
      },
      {
       "output_type": "stream",
       "stream": "stdout",
       "text": [
        "\n",
        "evaluating:\n",
        "  delta=0.562712453963\n",
        "  theta=2.73365105698\n",
        "  z_temp=0.0125939460277\n",
        "  pow_gain=0.71417800337\n",
        "  llh: 285.097185749"
       ]
      },
      {
       "output_type": "stream",
       "stream": "stdout",
       "text": [
        "\n",
        "evaluating:\n",
        "  delta=0.56269883299\n",
        "  theta=2.73385568073\n",
        "  z_temp=0.0125063465404\n",
        "  pow_gain=0.714165562236\n",
        "  llh: 285.097185846"
       ]
      },
      {
       "output_type": "stream",
       "stream": "stdout",
       "text": [
        "\n",
        "evaluating:\n",
        "  delta=0.562722458503\n",
        "  theta=2.73322434706\n",
        "  z_temp=0.0127851374971\n",
        "  pow_gain=0.714191867587\n",
        "  llh: 285.097122258"
       ]
      },
      {
       "output_type": "stream",
       "stream": "stdout",
       "text": [
        "\n",
        "evaluating:\n",
        "  delta=0.562699794149\n",
        "  theta=2.73420600548\n",
        "  z_temp=0.0123423047489\n",
        "  pow_gain=0.714167510377\n",
        "  llh: 285.09718573"
       ]
      },
      {
       "output_type": "stream",
       "stream": "stdout",
       "text": [
        "\n",
        "evaluating:\n",
        "  delta=0.562720249421\n",
        "  theta=2.73318937701\n",
        "  z_temp=0.0128029153653\n",
        "  pow_gain=0.714189188439\n",
        "  llh: 285.097121705"
       ]
      },
      {
       "output_type": "stream",
       "stream": "stdout",
       "text": [
        "\n",
        "evaluating:\n",
        "  delta=0.562703298949\n",
        "  theta=2.73381467425\n",
        "  z_temp=0.0125225084233\n",
        "  pow_gain=0.714170717676\n",
        "  llh: 285.097185704"
       ]
      },
      {
       "output_type": "stream",
       "stream": "stdout",
       "text": [
        "\n",
        "evaluating:\n",
        "  delta=0.562717668615\n",
        "  theta=2.73337192886\n",
        "  z_temp=0.0127194802287\n",
        "  pow_gain=0.714186580109\n",
        "  llh: 285.097121632"
       ]
      },
      {
       "output_type": "stream",
       "stream": "stdout",
       "text": [
        "\n",
        "evaluating:\n",
        "  delta=0.562742390116\n",
        "  theta=2.73212535512\n",
        "  z_temp=0.0132888757887\n",
        "  pow_gain=0.714209007053\n",
        "  llh: 285.0971852"
       ]
      },
      {
       "output_type": "stream",
       "stream": "stdout",
       "text": [
        "\n",
        "evaluating:\n",
        "  delta=0.562706698351\n",
        "  theta=2.73383115409\n",
        "  z_temp=0.0125114740702\n",
        "  pow_gain=0.714175685895\n",
        "  llh: 285.097121538"
       ]
      },
      {
       "output_type": "stream",
       "stream": "stdout",
       "text": [
        "\n",
        "evaluating:\n",
        "  delta=0.562710166256\n",
        "  theta=2.73365662039\n",
        "  z_temp=0.0125925799399\n",
        "  pow_gain=0.714177646185\n",
        "  llh: 285.097185589"
       ]
      },
      {
       "output_type": "stream",
       "stream": "stdout",
       "text": [
        "\n",
        "evaluating:\n",
        "  delta=0.56271772863\n",
        "  theta=2.73330618786\n",
        "  z_temp=0.0127503315089\n",
        "  pow_gain=0.714186302875\n",
        "  llh: 285.097121264"
       ]
      },
      {
       "output_type": "stream",
       "stream": "stdout",
       "text": [
        "\n",
        "evaluating:\n",
        "  delta=0.56271277707\n",
        "  theta=2.73344119805\n",
        "  z_temp=0.0126914407166\n",
        "  pow_gain=0.714180115898\n",
        "  llh: 285.097185562"
       ]
      },
      {
       "output_type": "stream",
       "stream": "stdout",
       "text": [
        "\n",
        "evaluating:\n",
        "  delta=0.562716445729\n",
        "  theta=2.73338924615\n",
        "  z_temp=0.0127124703507\n",
        "  pow_gain=0.714184964056\n",
        "  llh: 285.097121181"
       ]
      },
      {
       "output_type": "stream",
       "stream": "stdout",
       "text": [
        "\n",
        "evaluating:\n",
        "  delta=0.562728621022\n",
        "  theta=2.73276101885\n",
        "  z_temp=0.0129999450154\n",
        "  pow_gain=0.714195649192\n",
        "  llh: 285.097119752"
       ]
      },
      {
       "output_type": "stream",
       "stream": "stdout",
       "text": [
        "\n",
        "evaluating:\n",
        "  delta=0.562739582358\n",
        "  theta=2.73222595122\n",
        "  z_temp=0.013244180488\n",
        "  pow_gain=0.714205630841\n",
        "  llh: 285.097185297"
       ]
      },
      {
       "output_type": "stream",
       "stream": "stdout",
       "text": [
        "\n",
        "evaluating:\n",
        "  delta=0.56272303694\n",
        "  theta=2.73301340057\n",
        "  z_temp=0.0128858943298\n",
        "  pow_gain=0.714189705371\n",
        "  llh: 285.097185474"
       ]
      },
      {
       "output_type": "stream",
       "stream": "stdout",
       "text": [
        "\n",
        "evaluating:\n",
        "  delta=0.562719055707\n",
        "  theta=2.73323299104\n",
        "  z_temp=0.0127842222142\n",
        "  pow_gain=0.714187153499\n",
        "  llh: 285.097120763"
       ]
      },
      {
       "output_type": "stream",
       "stream": "stdout",
       "text": [
        "\n",
        "evaluating:\n",
        "  delta=0.56272562483\n",
        "  theta=2.73285221472\n",
        "  z_temp=0.0129596314198\n",
        "  pow_gain=0.714192138911\n",
        "  llh: 285.097185451"
       ]
      },
      {
       "output_type": "stream",
       "stream": "stdout",
       "text": [
        "\n",
        "evaluating:\n",
        "  delta=0.562718740504\n",
        "  theta=2.73325498829\n",
        "  z_temp=0.012774260618\n",
        "  pow_gain=0.71418675777\n",
        "  llh: 285.09712067"
       ]
      },
      {
       "output_type": "stream",
       "stream": "stdout",
       "text": [
        "\n",
        "evaluating:\n",
        "  delta=0.56272285725\n",
        "  theta=2.73301946847\n",
        "  z_temp=0.0128828987582\n",
        "  pow_gain=0.714189751604\n",
        "  llh: 285.097185454"
       ]
      },
      {
       "output_type": "stream",
       "stream": "stdout",
       "text": [
        "\n",
        "evaluating:\n",
        "  delta=0.562720006093\n",
        "  theta=2.73317961039\n",
        "  z_temp=0.0128088913502\n",
        "  pow_gain=0.714187803025\n",
        "  llh: 285.097120449"
       ]
      },
      {
       "output_type": "stream",
       "stream": "stdout",
       "text": [
        "\n",
        "evaluating:\n",
        "  delta=0.562723805248\n",
        "  theta=2.73295978225\n",
        "  z_temp=0.0129101757206\n",
        "  pow_gain=0.714190669961\n",
        "  llh: 285.097185442"
       ]
      },
      {
       "output_type": "stream",
       "stream": "stdout",
       "text": [
        "\n",
        "evaluating:\n",
        "  delta=0.56272000669\n",
        "  theta=2.73318118678\n",
        "  z_temp=0.0128082393936\n",
        "  pow_gain=0.714187735818\n",
        "  llh: 285.097120375"
       ]
      },
      {
       "output_type": "stream",
       "stream": "stdout",
       "text": [
        "\n",
        "evaluating:\n",
        "  delta=0.562722539957\n",
        "  theta=2.73303594835\n",
        "  z_temp=0.01287521901\n",
        "  pow_gain=0.714189591101\n",
        "  llh: 285.097185442"
       ]
      },
      {
       "output_type": "stream",
       "stream": "stdout",
       "text": [
        "\n",
        "evaluating:\n",
        "  delta=0.562720639559\n",
        "  theta=2.73314369488\n",
        "  z_temp=0.0128254732651\n",
        "  pow_gain=0.714188250044\n",
        "  llh: 285.097120256"
       ]
      },
      {
       "output_type": "stream",
       "stream": "stdout",
       "text": [
        "\n",
        "evaluating:\n",
        "  delta=0.562722855795\n",
        "  theta=2.73301562601\n",
        "  z_temp=0.0128844879024\n",
        "  pow_gain=0.714189915422\n",
        "  llh: 285.097185437"
       ]
      },
      {
       "output_type": "stream",
       "stream": "stdout",
       "text": [
        "\n",
        "evaluating:\n",
        "  delta=0.562720718966\n",
        "  theta=2.73313979659\n",
        "  z_temp=0.0128273015208\n",
        "  pow_gain=0.714188280719\n",
        "  llh: 285.097120204"
       ]
      },
      {
       "output_type": "stream",
       "stream": "stdout",
       "text": [
        "\n",
        "evaluating:\n",
        "  delta=0.562722262629\n",
        "  theta=2.73305116877\n",
        "  z_temp=0.0128681681587\n",
        "  pow_gain=0.714189416533\n",
        "  llh: 285.097185436"
       ]
      },
      {
       "output_type": "stream",
       "stream": "stdout",
       "text": [
        "\n",
        "evaluating:\n",
        "  delta=0.562721045327\n",
        "  theta=2.73312056335\n",
        "  z_temp=0.0128361469885\n",
        "  pow_gain=0.714188541667\n",
        "  llh: 285.097120137"
       ]
      },
      {
       "output_type": "stream",
       "stream": "stdout",
       "text": [
        "\n",
        "evaluating:\n",
        "  delta=0.562722346402\n",
        "  theta=2.73304545044\n",
        "  z_temp=0.0128707626369\n",
        "  pow_gain=0.714189516332\n",
        "  llh: 285.097185433"
       ]
      },
      {
       "output_type": "stream",
       "stream": "stdout",
       "text": [
        "\n",
        "evaluating:\n",
        "  delta=0.562721125825\n",
        "  theta=2.73311621005\n",
        "  z_temp=0.0128381667998\n",
        "  pow_gain=0.714188589622\n",
        "  llh: 285.097120103"
       ]
      },
      {
       "output_type": "stream",
       "stream": "stdout",
       "text": [
        "\n",
        "evaluating:\n",
        "  delta=0.562722012175\n",
        "  theta=2.73323620041\n",
        "  z_temp=0.012780873197\n",
        "  pow_gain=0.714189161341\n",
        "  llh: 285.09718544"
       ]
      },
      {
       "output_type": "stream",
       "stream": "stdout",
       "text": [
        "\n",
        "evaluating:\n",
        "  delta=0.562721311097\n",
        "  theta=2.73306262593\n",
        "  z_temp=0.0128633554795\n",
        "  pow_gain=0.714188755596\n",
        "  llh: 285.097120085"
       ]
      },
      {
       "output_type": "stream",
       "stream": "stdout",
       "text": [
        "\n",
        "evaluating:\n",
        "  delta=0.562722177137\n",
        "  theta=2.73309143611\n",
        "  z_temp=0.0128491800277\n",
        "  pow_gain=0.714189346987\n",
        "  llh: 285.097185436"
       ]
      },
      {
       "output_type": "stream",
       "stream": "stdout",
       "text": [
        "\n",
        "evaluating:\n",
        "  delta=0.562721328279\n",
        "  theta=2.73311328154\n",
        "  z_temp=0.0128394052483\n",
        "  pow_gain=0.714188742997\n",
        "  llh: 285.097120053"
       ]
      },
      {
       "output_type": "stream",
       "stream": "stdout",
       "text": [
        "\n",
        "evaluating:\n",
        "  delta=0.562722197866\n",
        "  theta=2.73309432515\n",
        "  z_temp=0.0128477794407\n",
        "  pow_gain=0.714189375718\n",
        "  llh: 285.097185435"
       ]
      },
      {
       "output_type": "stream",
       "stream": "stdout",
       "text": [
        "\n",
        "evaluating:\n",
        "  delta=0.562721393835\n",
        "  theta=2.73311073883\n",
        "  z_temp=0.01284056996\n",
        "  pow_gain=0.714188786146\n",
        "  llh: 285.097120029"
       ]
      },
      {
       "output_type": "stream",
       "stream": "stdout",
       "text": [
        "\n",
        "evaluating:\n",
        "  delta=0.562722053963\n",
        "  theta=2.73317196573\n",
        "  z_temp=0.0128111980012\n",
        "  pow_gain=0.71418922502\n",
        "  llh: 285.097185438"
       ]
      },
      {
       "output_type": "stream",
       "stream": "stdout",
       "text": [
        "\n",
        "evaluating:\n",
        "  delta=0.562721496814\n",
        "  theta=2.73308996088\n",
        "  z_temp=0.01285031611\n",
        "  pow_gain=0.714188872952\n",
        "  llh: 285.097120013"
       ]
      },
      {
       "output_type": "stream",
       "stream": "stdout",
       "text": [
        "\n",
        "evaluating:\n",
        "  delta=0.562722121048\n",
        "  theta=2.73310964978\n",
        "  z_temp=0.0128406036632\n",
        "  pow_gain=0.714189302597\n",
        "  llh: 285.097185435"
       ]
      },
      {
       "output_type": "stream",
       "stream": "stdout",
       "text": [
        "\n",
        "evaluating:\n",
        "  delta=0.562721526471\n",
        "  theta=2.7331123736\n",
        "  z_temp=0.012839704852\n",
        "  pow_gain=0.714188882897\n",
        "  llh: 285.097119992"
       ]
      },
      {
       "output_type": "stream",
       "stream": "stdout",
       "text": [
        "\n",
        "evaluating:\n",
        "  delta=0.56272212181\n",
        "  theta=2.73311300988\n",
        "  z_temp=0.0128390063975\n",
        "  pow_gain=0.714189307822\n",
        "  llh: 285.097185435"
       ]
      },
      {
       "output_type": "stream",
       "stream": "stdout",
       "text": [
        "\n",
        "evaluating:\n",
        "  delta=0.562721575829\n",
        "  theta=2.73311130659\n",
        "  z_temp=0.0128401790694\n",
        "  pow_gain=0.714188916565\n",
        "  llh: 285.097119976"
       ]
      },
      {
       "output_type": "stream",
       "stream": "stdout",
       "text": [
        "\n",
        "evaluating:\n",
        "  delta=0.56272205834\n",
        "  theta=2.73314446069\n",
        "  z_temp=0.0128241917273\n",
        "  pow_gain=0.714189242823\n",
        "  llh: 285.097185436"
       ]
      },
      {
       "output_type": "stream",
       "stream": "stdout",
       "text": [
        "\n",
        "evaluating:\n",
        "  delta=0.562721637195\n",
        "  theta=2.73310358583\n",
        "  z_temp=0.0128437850143\n",
        "  pow_gain=0.71418896542\n",
        "  llh: 285.097119963"
       ]
      },
      {
       "output_type": "stream",
       "stream": "stdout",
       "text": [
        "\n",
        "evaluating:\n",
        "  delta=0.562722084044\n",
        "  theta=2.73311765408\n",
        "  z_temp=0.0128368430664\n",
        "  pow_gain=0.71418927414\n",
        "  llh: 285.097185435"
       ]
      },
      {
       "output_type": "stream",
       "stream": "stdout",
       "text": [
        "\n",
        "evaluating:\n",
        "  delta=0.562721665865\n",
        "  theta=2.73311369372\n",
        "  z_temp=0.0128389894056\n",
        "  pow_gain=0.714188980707\n",
        "  llh: 285.097119949"
       ]
      },
      {
       "output_type": "stream",
       "stream": "stdout",
       "text": [
        "\n",
        "evaluating:\n",
        "  delta=0.562722079704\n",
        "  theta=2.73311991466\n",
        "  z_temp=0.0128357740171\n",
        "  pow_gain=0.714189272543\n",
        "  llh: 285.097185435"
       ]
      },
      {
       "output_type": "stream",
       "stream": "stdout",
       "text": [
        "\n",
        "evaluating:\n",
        "  delta=0.562721701798\n",
        "  theta=2.73311345861\n",
        "  z_temp=0.0128390778063\n",
        "  pow_gain=0.71418900556\n",
        "  llh: 285.097119937"
       ]
      },
      {
       "output_type": "stream",
       "stream": "stdout",
       "text": [
        "\n",
        "evaluating:\n",
        "  delta=0.562722050639\n",
        "  theta=2.7331325718\n",
        "  z_temp=0.0128298144682\n",
        "  pow_gain=0.714189243758\n",
        "  llh: 285.097185435"
       ]
      },
      {
       "output_type": "stream",
       "stream": "stdout",
       "text": [
        "\n",
        "evaluating:\n",
        "  delta=0.562721740556\n",
        "  theta=2.73311083232\n",
        "  z_temp=0.0128402923778\n",
        "  pow_gain=0.714189035004\n",
        "  llh: 285.097119928"
       ]
      },
      {
       "output_type": "stream",
       "stream": "stdout",
       "text": [
        "\n",
        "evaluating:\n",
        "  delta=0.562722059315\n",
        "  theta=2.73312103322\n",
        "  z_temp=0.012835261563\n",
        "  pow_gain=0.714189255619\n",
        "  llh: 285.097185435"
       ]
      },
      {
       "output_type": "stream",
       "stream": "stdout",
       "text": [
        "\n",
        "evaluating:\n",
        "  delta=0.562721764227\n",
        "  theta=2.73311552859\n",
        "  z_temp=0.012838057445\n",
        "  pow_gain=0.714189049435\n",
        "  llh: 285.097119918"
       ]
      },
      {
       "output_type": "stream",
       "stream": "stdout",
       "text": [
        "\n",
        "evaluating:\n",
        "  delta=0.562722054597\n",
        "  theta=2.73312230332\n",
        "  z_temp=0.0128346629816\n",
        "  pow_gain=0.714189252704\n",
        "  llh: 285.097119827"
       ]
      },
      {
       "output_type": "stream",
       "stream": "stdout",
       "text": [
        "\n",
        "evaluating:\n",
        "  delta=0.562731703217\n",
        "  theta=2.73257069745\n",
        "  z_temp=0.0130872921721\n",
        "  pow_gain=0.714198710272\n",
        "  llh: 285.097119782"
       ]
      },
      {
       "output_type": "stream",
       "stream": "stdout",
       "text": [
        "\n",
        "evaluating:\n",
        "  delta=0.562730330976\n",
        "  theta=2.73267394178\n",
        "  z_temp=0.0130396864292\n",
        "  pow_gain=0.714197295798\n",
        "  llh: 285.097185336"
       ]
      },
      {
       "output_type": "stream",
       "stream": "stdout",
       "text": [
        "\n",
        "evaluating:\n",
        "  delta=0.562723888161\n",
        "  theta=2.73300160969\n",
        "  z_temp=0.0128901408906\n",
        "  pow_gain=0.714191100203\n",
        "  llh: 285.097119873"
       ]
      },
      {
       "output_type": "stream",
       "stream": "stdout",
       "text": [
        "\n",
        "evaluating:\n",
        "  delta=0.562731369271\n",
        "  theta=2.73261228606\n",
        "  z_temp=0.0130679630849\n",
        "  pow_gain=0.71419830675\n",
        "  llh: 285.097185324"
       ]
      },
      {
       "output_type": "stream",
       "stream": "stdout",
       "text": [
        "\n",
        "evaluating:\n",
        "  delta=0.562724165488\n",
        "  theta=2.73298971796\n",
        "  z_temp=0.0128955338549\n",
        "  pow_gain=0.714191363764\n",
        "  llh: 285.097119863"
       ]
      },
      {
       "output_type": "stream",
       "stream": "stdout",
       "text": [
        "\n",
        "evaluating:\n",
        "  delta=0.562729384001\n",
        "  theta=2.7327202591\n",
        "  z_temp=0.0130185761214\n",
        "  pow_gain=0.714196387764\n",
        "  llh: 285.097119738"
       ]
      },
      {
       "output_type": "stream",
       "stream": "stdout",
       "text": [
        "\n",
        "evaluating:\n",
        "  delta=0.562732131921\n",
        "  theta=2.73257958381\n",
        "  z_temp=0.0130827937367\n",
        "  pow_gain=0.714199031544\n",
        "  llh: 285.097185317"
       ]
      },
      {
       "output_type": "stream",
       "stream": "stdout",
       "text": [
        "\n",
        "evaluating:\n",
        "  delta=0.562731715931\n",
        "  theta=2.7325974214\n",
        "  z_temp=0.0130747042903\n",
        "  pow_gain=0.714198636202\n",
        "  llh: 285.09718532"
       ]
      },
      {
       "output_type": "stream",
       "stream": "stdout",
       "text": [
        "\n",
        "evaluating:\n",
        "  delta=0.562726053099\n",
        "  theta=2.73289164382\n",
        "  z_temp=0.0129403264638\n",
        "  pow_gain=0.714193181874\n",
        "  llh: 285.097119819"
       ]
      },
      {
       "output_type": "stream",
       "stream": "stdout",
       "text": [
        "\n",
        "evaluating:\n",
        "  delta=0.562735826073\n",
        "  theta=2.73234950628\n",
        "  z_temp=0.0131884069047\n",
        "  pow_gain=0.714202711846\n",
        "  llh: 285.097119721"
       ]
      },
      {
       "output_type": "stream",
       "stream": "stdout",
       "text": [
        "\n",
        "evaluating:\n",
        "  delta=0.562742711811\n",
        "  theta=2.73196310776\n",
        "  z_temp=0.0133652788663\n",
        "  pow_gain=0.714209441417\n",
        "  llh: 285.097119671"
       ]
      },
      {
       "output_type": "stream",
       "stream": "stdout",
       "text": [
        "\n",
        "evaluating:\n",
        "  delta=0.562740156927\n",
        "  theta=2.73211589776\n",
        "  z_temp=0.0132952196238\n",
        "  pow_gain=0.714206912449\n",
        "  llh: 285.097119654"
       ]
      },
      {
       "output_type": "stream",
       "stream": "stdout",
       "text": [
        "\n",
        "evaluating:\n",
        "  delta=0.562747208841\n",
        "  theta=2.73172802473\n",
        "  z_temp=0.0134726662038\n",
        "  pow_gain=0.714213777737\n",
        "  llh: 285.097119576"
       ]
      },
      {
       "output_type": "stream",
       "stream": "stdout",
       "text": [
        "\n",
        "evaluating:\n",
        "  delta=0.56274225962\n",
        "  theta=2.73201550777\n",
        "  z_temp=0.0133409409313\n",
        "  pow_gain=0.714208917783\n",
        "  llh: 285.097185197"
       ]
      },
      {
       "output_type": "stream",
       "stream": "stdout",
       "text": [
        "\n",
        "evaluating:\n",
        "  delta=0.562734342318\n",
        "  theta=2.73243190003\n",
        "  z_temp=0.0131507043619\n",
        "  pow_gain=0.71420126215\n",
        "  llh: 285.097119732"
       ]
      },
      {
       "output_type": "stream",
       "stream": "stdout",
       "text": [
        "\n",
        "evaluating:\n",
        "  delta=0.562748202463\n",
        "  theta=2.73166062697\n",
        "  z_temp=0.0135036677613\n",
        "  pow_gain=0.714214785342\n",
        "  llh: 285.097119609"
       ]
      },
      {
       "output_type": "stream",
       "stream": "stdout",
       "text": [
        "\n",
        "evaluating:\n",
        "  delta=0.562756848715\n",
        "  theta=2.73117157064\n",
        "  z_temp=0.0137275824752\n",
        "  pow_gain=0.714223245559\n",
        "  llh: 285.097119565"
       ]
      },
      {
       "output_type": "stream",
       "stream": "stdout",
       "text": [
        "\n",
        "evaluating:\n",
        "  delta=0.562770581072\n",
        "  theta=2.73039722642\n",
        "  z_temp=0.0140820856522\n",
        "  pow_gain=0.714236674457\n",
        "  llh: 285.097119493"
       ]
      },
      {
       "output_type": "stream",
       "stream": "stdout",
       "text": [
        "\n",
        "evaluating:\n",
        "  delta=0.562770009776\n",
        "  theta=2.73044259291\n",
        "  z_temp=0.0140611448799\n",
        "  pow_gain=0.714236077327\n",
        "  llh: 285.097119454"
       ]
      },
      {
       "output_type": "stream",
       "stream": "stdout",
       "text": [
        "\n",
        "evaluating:\n",
        "  delta=0.562787843504\n",
        "  theta=2.72944793935\n",
        "  z_temp=0.0145163651388\n",
        "  pow_gain=0.714253484915\n",
        "  llh: 285.097119342"
       ]
      },
      {
       "output_type": "stream",
       "stream": "stdout",
       "text": [
        "\n",
        "evaluating:\n",
        "  delta=0.56278420613\n",
        "  theta=2.72965380097\n",
        "  z_temp=0.0144221135118\n",
        "  pow_gain=0.714249919808\n",
        "  llh: 285.097119347"
       ]
      },
      {
       "output_type": "stream",
       "stream": "stdout",
       "text": [
        "\n",
        "evaluating:\n",
        "  delta=0.56279671731\n",
        "  theta=2.72895286876\n",
        "  z_temp=0.014742947492\n",
        "  pow_gain=0.714262143117\n",
        "  llh: 285.097119288"
       ]
      },
      {
       "output_type": "stream",
       "stream": "stdout",
       "text": [
        "\n",
        "evaluating:\n",
        "  delta=0.562820974734\n",
        "  theta=2.72759898966\n",
        "  z_temp=0.0153625873574\n",
        "  pow_gain=0.714285822005\n",
        "  llh: 285.097119177"
       ]
      },
      {
       "output_type": "stream",
       "stream": "stdout",
       "text": [
        "\n",
        "evaluating:\n",
        "  delta=0.562834593879\n",
        "  theta=2.72682095347\n",
        "  z_temp=0.0157189096263\n",
        "  pow_gain=0.714299172855\n",
        "  llh: 285.09711919"
       ]
      },
      {
       "output_type": "stream",
       "stream": "stdout",
       "text": [
        "\n",
        "evaluating:\n",
        "  delta=0.562843228051\n",
        "  theta=2.72636361531\n",
        "  z_temp=0.0159279021649\n",
        "  pow_gain=0.714307525335\n",
        "  llh: 285.097119082"
       ]
      },
      {
       "output_type": "stream",
       "stream": "stdout",
       "text": [
        "\n",
        "evaluating:\n",
        "  delta=0.562879551541\n",
        "  theta=2.72434680975\n",
        "  z_temp=0.0168508104213\n",
        "  pow_gain=0.714342950773\n",
        "  llh: 285.097118985"
       ]
      },
      {
       "output_type": "stream",
       "stream": "stdout",
       "text": [
        "\n",
        "evaluating:\n",
        "  delta=0.562877275699\n",
        "  theta=2.72445354515\n",
        "  z_temp=0.0168022227601\n",
        "  pow_gain=0.714340795466\n",
        "  llh: 285.09711906"
       ]
      },
      {
       "output_type": "stream",
       "stream": "stdout",
       "text": [
        "\n",
        "evaluating:\n",
        "  delta=0.562918354422\n",
        "  theta=2.72216220967\n",
        "  z_temp=0.0178508999437\n",
        "  pow_gain=0.714380885635\n",
        "  llh: 285.097119063"
       ]
      },
      {
       "output_type": "stream",
       "stream": "stdout",
       "text": [
        "\n",
        "evaluating:\n",
        "  delta=0.562913484319\n",
        "  theta=2.72245982365\n",
        "  z_temp=0.017714350615\n",
        "  pow_gain=0.714376054084\n",
        "  llh: 285.097118971"
       ]
      },
      {
       "output_type": "stream",
       "stream": "stdout",
       "text": [
        "\n",
        "evaluating:\n",
        "  delta=0.562952929538\n",
        "  theta=2.72027925874\n",
        "  z_temp=0.0187120711093\n",
        "  pow_gain=0.714414494698\n",
        "  llh: 285.097118991"
       ]
      },
      {
       "output_type": "stream",
       "stream": "stdout",
       "text": [
        "\n",
        "evaluating:\n",
        "  delta=0.562973358257\n",
        "  theta=2.71911220445\n",
        "  z_temp=0.0192465545127\n",
        "  pow_gain=0.714434520975\n",
        "  llh: 285.097119165"
       ]
      },
      {
       "output_type": "stream",
       "stream": "stdout",
       "text": [
        "\n",
        "evaluating:\n",
        "  delta=0.562935262376\n",
        "  theta=2.72123390075\n",
        "  z_temp=0.0182755627239\n",
        "  pow_gain=0.714397346232\n",
        "  llh: 285.097119047"
       ]
      },
      {
       "output_type": "stream",
       "stream": "stdout",
       "text": [
        "\n",
        "evaluating:\n",
        "  delta=0.562884432545\n",
        "  theta=2.72408482998\n",
        "  z_temp=0.0169705733164\n",
        "  pow_gain=0.714347687643\n",
        "  llh: 285.097118952"
       ]
      },
      {
       "output_type": "stream",
       "stream": "stdout",
       "text": [
        "\n",
        "evaluating:\n",
        "  delta=0.562867471607\n",
        "  theta=2.72504614014\n",
        "  z_temp=0.0165304100028\n",
        "  pow_gain=0.714331088648\n",
        "  llh: 285.09711892"
       ]
      },
      {
       "output_type": "stream",
       "stream": "stdout",
       "text": [
        "\n",
        "evaluating:\n",
        "  delta=0.562920609222\n",
        "  theta=2.722089792\n",
        "  z_temp=0.0178833441213\n",
        "  pow_gain=0.714382924402\n",
        "  llh: 285.097118888"
       ]
      },
      {
       "output_type": "stream",
       "stream": "stdout",
       "text": [
        "\n",
        "evaluating:\n",
        "  delta=0.562942275983\n",
        "  theta=2.72090791542\n",
        "  z_temp=0.0184239048019\n",
        "  pow_gain=0.71440398887\n",
        "  llh: 285.097118842"
       ]
      },
      {
       "output_type": "stream",
       "stream": "stdout",
       "text": [
        "\n",
        "evaluating:\n",
        "  delta=0.562866129349\n",
        "  theta=2.72514644373\n",
        "  z_temp=0.0164841751966\n",
        "  pow_gain=0.714329694956\n",
        "  llh: 285.097118831"
       ]
      },
      {
       "output_type": "stream",
       "stream": "stdout",
       "text": [
        "\n",
        "evaluating:\n",
        "  delta=0.562831562836\n",
        "  theta=2.72710271522\n",
        "  z_temp=0.015588481433\n",
        "  pow_gain=0.714295869317\n",
        "  llh: 285.097118822"
       ]
      },
      {
       "output_type": "stream",
       "stream": "stdout",
       "text": [
        "\n",
        "evaluating:\n",
        "  delta=0.562897845832\n",
        "  theta=2.72341148746\n",
        "  z_temp=0.017277763005\n",
        "  pow_gain=0.714360549686\n",
        "  llh: 285.097118697"
       ]
      },
      {
       "output_type": "stream",
       "stream": "stdout",
       "text": [
        "\n",
        "evaluating:\n",
        "  delta=0.562906992977\n",
        "  theta=2.72294382632\n",
        "  z_temp=0.0174912392968\n",
        "  pow_gain=0.714369349143\n",
        "  llh: 285.09711856"
       ]
      },
      {
       "output_type": "stream",
       "stream": "stdout",
       "text": [
        "\n",
        "evaluating:\n",
        "  delta=0.562860667383\n",
        "  theta=2.7255404749\n",
        "  z_temp=0.0163026671523\n",
        "  pow_gain=0.714324093905\n",
        "  llh: 285.097184261"
       ]
      },
      {
       "output_type": "stream",
       "stream": "stdout",
       "text": [
        "\n",
        "evaluating:\n",
        "  delta=0.562900280085\n",
        "  theta=2.72322998646\n",
        "  z_temp=0.0173614297493\n",
        "  pow_gain=0.714363064039\n",
        "  llh: 285.09711885"
       ]
      },
      {
       "output_type": "stream",
       "stream": "stdout",
       "text": [
        "\n",
        "evaluating:\n",
        "  delta=0.562923084333\n",
        "  theta=2.72204608157\n",
        "  z_temp=0.0179021176377\n",
        "  pow_gain=0.714385047037\n",
        "  llh: 285.09711857"
       ]
      },
      {
       "output_type": "stream",
       "stream": "stdout",
       "text": [
        "\n",
        "evaluating:\n",
        "  delta=0.56290167798\n",
        "  theta=2.7232702828\n",
        "  z_temp=0.0173414418354\n",
        "  pow_gain=0.714364063144\n",
        "  llh: 285.097184107"
       ]
      },
      {
       "output_type": "stream",
       "stream": "stdout",
       "text": [
        "\n",
        "evaluating:\n",
        "  delta=0.562900629559\n",
        "  theta=2.72324006055\n",
        "  z_temp=0.0173564327708\n",
        "  pow_gain=0.714363313816\n",
        "  llh: 285.09711875"
       ]
      },
      {
       "output_type": "stream",
       "stream": "stdout",
       "text": [
        "\n",
        "evaluating:\n",
        "  delta=0.562838858869\n",
        "  theta=2.72675842641\n",
        "  z_temp=0.0157452307673\n",
        "  pow_gain=0.714302800786\n",
        "  llh: 285.097184384"
       ]
      },
      {
       "output_type": "stream",
       "stream": "stdout",
       "text": [
        "\n",
        "evaluating:\n",
        "  delta=0.562916421705\n",
        "  theta=2.72237054317\n",
        "  z_temp=0.0177542362933\n",
        "  pow_gain=0.714378691849\n",
        "  llh: 285.097118723"
       ]
      },
      {
       "output_type": "stream",
       "stream": "stdout",
       "text": [
        "\n",
        "evaluating:\n",
        "  delta=0.562992001451\n",
        "  theta=2.71819754058\n",
        "  z_temp=0.0196635315664\n",
        "  pow_gain=0.714452331605\n",
        "  llh: 285.097118832"
       ]
      },
      {
       "output_type": "stream",
       "stream": "stdout",
       "text": [
        "\n",
        "evaluating:\n",
        "  delta=0.562871672489\n",
        "  theta=2.72487642156\n",
        "  z_temp=0.0166072439663\n",
        "  pow_gain=0.714334984889\n",
        "  llh: 285.097118691"
       ]
      },
      {
       "output_type": "stream",
       "stream": "stdout",
       "text": [
        "\n",
        "evaluating:\n",
        "  delta=0.562908456194\n",
        "  theta=2.72287837576\n",
        "  z_temp=0.0175209858263\n",
        "  pow_gain=0.714370722644\n",
        "  llh: 285.097118501"
       ]
      },
      {
       "output_type": "stream",
       "stream": "stdout",
       "text": [
        "\n",
        "evaluating:\n",
        "  delta=0.562912369511\n",
        "  theta=2.72269753336\n",
        "  z_temp=0.017603262354\n",
        "  pow_gain=0.714374427058\n",
        "  llh: 285.097184087"
       ]
      },
      {
       "output_type": "stream",
       "stream": "stdout",
       "text": [
        "\n",
        "evaluating:\n",
        "  delta=0.562888681292\n",
        "  theta=2.72400180944\n",
        "  z_temp=0.0170065570703\n",
        "  pow_gain=0.714351360007\n",
        "  llh: 285.097184149"
       ]
      },
      {
       "output_type": "stream",
       "stream": "stdout",
       "text": [
        "\n",
        "evaluating:\n",
        "  delta=0.562909486602\n",
        "  theta=2.72277835973\n",
        "  z_temp=0.0175673164875\n",
        "  pow_gain=0.714371858889\n",
        "  llh: 285.097118646"
       ]
      },
      {
       "output_type": "stream",
       "stream": "stdout",
       "text": [
        "\n",
        "evaluating:\n",
        "  delta=0.562952337563\n",
        "  theta=2.72044690013\n",
        "  z_temp=0.0186335856579\n",
        "  pow_gain=0.714413503967\n",
        "  llh: 285.097118536"
       ]
      },
      {
       "output_type": "stream",
       "stream": "stdout",
       "text": [
        "\n",
        "evaluating:\n",
        "  delta=0.562935948932\n",
        "  theta=2.72137923215\n",
        "  z_temp=0.0182066477218\n",
        "  pow_gain=0.714397452506\n",
        "  llh: 285.09718405"
       ]
      },
      {
       "output_type": "stream",
       "stream": "stdout",
       "text": [
        "\n",
        "evaluating:\n",
        "  delta=0.562916102184\n",
        "  theta=2.72242857784\n",
        "  z_temp=0.0177271492961\n",
        "  pow_gain=0.714378257293\n",
        "  llh: 285.097118588"
       ]
      },
      {
       "output_type": "stream",
       "stream": "stdout",
       "text": [
        "\n",
        "evaluating:\n",
        "  delta=0.562929333349\n",
        "  theta=2.72172901405\n",
        "  z_temp=0.0180468149132\n",
        "  pow_gain=0.714391054102\n",
        "  llh: 285.09711848"
       ]
      },
      {
       "output_type": "stream",
       "stream": "stdout",
       "text": [
        "\n",
        "evaluating:\n",
        "  delta=0.562935948932\n",
        "  theta=2.72137923215\n",
        "  z_temp=0.0182066477218\n",
        "  pow_gain=0.714397452506\n",
        "  llh: 285.09718405"
       ]
      },
      {
       "output_type": "stream",
       "stream": "stdout",
       "text": [
        "\n",
        "evaluating:\n",
        "  delta=0.562925475709\n",
        "  theta=2.72195297656\n",
        "  z_temp=0.0179441952093\n",
        "  pow_gain=0.71438726789\n",
        "  llh: 285.09711845"
       ]
      },
      {
       "output_type": "stream",
       "stream": "stdout",
       "text": [
        "\n",
        "evaluating:\n",
        "  delta=0.562926671396\n",
        "  theta=2.72190642405\n",
        "  z_temp=0.0179652339951\n",
        "  pow_gain=0.714388378317\n",
        "  llh: 285.097184062"
       ]
      },
      {
       "output_type": "stream",
       "stream": "stdout",
       "text": [
        "\n",
        "evaluating:\n",
        "  delta=0.56295080843\n",
        "  theta=2.72055980693\n",
        "  z_temp=0.0185815515065\n",
        "  pow_gain=0.714411925159\n",
        "  llh: 285.097118436"
       ]
      },
      {
       "output_type": "stream",
       "stream": "stdout",
       "text": [
        "\n",
        "evaluating:\n",
        "  delta=0.562972716157\n",
        "  theta=2.71936779724\n",
        "  z_temp=0.0191267076114\n",
        "  pow_gain=0.714433213167\n",
        "  llh: 285.097184066"
       ]
      },
      {
       "output_type": "stream",
       "stream": "stdout",
       "text": [
        "\n",
        "evaluating:\n",
        "  delta=0.562904699278\n",
        "  theta=2.72311318652\n",
        "  z_temp=0.0174131880698\n",
        "  pow_gain=0.71436698093\n",
        "  llh: 285.097184102"
       ]
      },
      {
       "output_type": "stream",
       "stream": "stdout",
       "text": [
        "\n",
        "evaluating:\n",
        "  delta=0.562940427992\n",
        "  theta=2.72111347173\n",
        "  z_temp=0.0183284862608\n",
        "  pow_gain=0.714401873208\n",
        "  llh: 285.097118494"
       ]
      },
      {
       "output_type": "stream",
       "stream": "stdout",
       "text": [
        "\n",
        "evaluating:\n",
        "  delta=0.562964566546\n",
        "  theta=2.71979925887\n",
        "  z_temp=0.0189295381187\n",
        "  pow_gain=0.714425337536\n",
        "  llh: 285.097118467"
       ]
      },
      {
       "output_type": "stream",
       "stream": "stdout",
       "text": [
        "\n",
        "evaluating:\n",
        "  delta=0.562944664026\n",
        "  theta=2.72090705648\n",
        "  z_temp=0.0184225636131\n",
        "  pow_gain=0.714405919136\n",
        "  llh: 285.097184048"
       ]
      },
      {
       "output_type": "stream",
       "stream": "stdout",
       "text": [
        "\n",
        "evaluating:\n",
        "  delta=0.562941487\n",
        "  theta=2.72106186791\n",
        "  z_temp=0.0183520055989\n",
        "  pow_gain=0.71440288469\n",
        "  llh: 285.097118473"
       ]
      },
      {
       "output_type": "stream",
       "stream": "stdout",
       "text": [
        "\n",
        "evaluating:\n",
        "  delta=0.562961835493\n",
        "  theta=2.71995794109\n",
        "  z_temp=0.0188568303035\n",
        "  pow_gain=0.714422653535\n",
        "  llh: 285.097118436"
       ]
      },
      {
       "output_type": "stream",
       "stream": "stdout",
       "text": [
        "\n",
        "evaluating:\n",
        "  delta=0.562978086565\n",
        "  theta=2.71907240461\n",
        "  z_temp=0.0192618379986\n",
        "  pow_gain=0.714438453252\n",
        "  llh: 285.097184073"
       ]
      },
      {
       "output_type": "stream",
       "stream": "stdout",
       "text": [
        "\n",
        "evaluating:\n",
        "  delta=0.562959856089\n",
        "  theta=2.72007312381\n",
        "  z_temp=0.0188040519701\n",
        "  pow_gain=0.71442070737\n",
        "  llh: 285.097184052"
       ]
      },
      {
       "output_type": "stream",
       "stream": "stdout",
       "text": [
        "\n",
        "evaluating:\n",
        "  delta=0.562946079272\n",
        "  theta=2.72081468189\n",
        "  z_temp=0.0184650171917\n",
        "  pow_gain=0.71440734036\n",
        "  llh: 285.097118456"
       ]
      },
      {
       "output_type": "stream",
       "stream": "stdout",
       "text": [
        "\n",
        "evaluating:\n",
        "  delta=0.562927532906\n",
        "  theta=2.72184344436\n",
        "  z_temp=0.0179942589868\n",
        "  pow_gain=0.714389255936\n",
        "  llh: 285.097184058"
       ]
      },
      {
       "output_type": "stream",
       "stream": "stdout",
       "text": [
        "\n",
        "evaluating:\n",
        "  delta=0.562955308136\n",
        "  theta=2.72031030524\n",
        "  z_temp=0.0186957183357\n",
        "  pow_gain=0.714416317136\n",
        "  llh: 285.097118451"
       ]
      },
      {
       "output_type": "stream",
       "stream": "stdout",
       "text": [
        "\n",
        "evaluating:\n",
        "  delta=0.562950634612\n",
        "  theta=2.72057583302\n",
        "  z_temp=0.0185741304858\n",
        "  pow_gain=0.7144117415\n",
        "  llh: 285.097184047"
       ]
      },
      {
       "output_type": "stream",
       "stream": "stdout",
       "text": [
        "\n",
        "evaluating:\n",
        "  delta=0.562947218107\n",
        "  theta=2.72075496967\n",
        "  z_temp=0.0184922955152\n",
        "  pow_gain=0.714408440645\n",
        "  llh: 285.097118447"
       ]
      },
      {
       "output_type": "stream",
       "stream": "stdout",
       "text": [
        "\n",
        "evaluating:\n",
        "  delta=0.562937360734\n",
        "  theta=2.72130254188\n",
        "  z_temp=0.0182417179316\n",
        "  pow_gain=0.714398826479\n",
        "  llh: 285.097184049"
       ]
      },
      {
       "output_type": "stream",
       "stream": "stdout",
       "text": [
        "\n",
        "evaluating:\n",
        "  delta=0.562950821286\n",
        "  theta=2.7205583644\n",
        "  z_temp=0.0185822182347\n",
        "  pow_gain=0.714411944472\n",
        "  llh: 285.097118444"
       ]
      },
      {
       "output_type": "stream",
       "stream": "stdout",
       "text": [
        "\n",
        "evaluating:\n",
        "  delta=0.56297986595\n",
        "  theta=2.71896256449\n",
        "  z_temp=0.0193122525706\n",
        "  pow_gain=0.714440214015\n",
        "  llh: 285.097118471"
       ]
      },
      {
       "output_type": "stream",
       "stream": "stdout",
       "text": [
        "\n",
        "evaluating:\n",
        "  delta=0.562939073269\n",
        "  theta=2.72120537354\n",
        "  z_temp=0.0182862095497\n",
        "  pow_gain=0.714400504421\n",
        "  llh: 285.09711844"
       ]
      },
      {
       "output_type": "stream",
       "stream": "stdout",
       "text": [
        "\n",
        "evaluating:\n",
        "  delta=0.562954051132\n",
        "  theta=2.72038577331\n",
        "  z_temp=0.0186611092819\n",
        "  pow_gain=0.714415073148\n",
        "  llh: 285.097118428"
       ]
      },
      {
       "output_type": "stream",
       "stream": "stdout",
       "text": [
        "\n",
        "evaluating:\n",
        "  delta=0.562957467644\n",
        "  theta=2.72020117513\n",
        "  z_temp=0.0187455161653\n",
        "  pow_gain=0.7144183894\n",
        "  llh: 285.09718405"
       ]
      },
      {
       "output_type": "stream",
       "stream": "stdout",
       "text": [
        "\n",
        "evaluating:\n",
        "  delta=0.562952062877\n",
        "  theta=2.72049608303\n",
        "  z_temp=0.0186106320861\n",
        "  pow_gain=0.71441313366\n",
        "  llh: 285.097184047"
       ]
      },
      {
       "output_type": "stream",
       "stream": "stdout",
       "text": [
        "\n",
        "evaluating:\n",
        "  delta=0.562951131683\n",
        "  theta=2.72054279406\n",
        "  z_temp=0.0185893216976\n",
        "  pow_gain=0.714412241769\n",
        "  llh: 285.097118438"
       ]
      },
      {
       "output_type": "stream",
       "stream": "stdout",
       "text": [
        "\n",
        "evaluating:\n",
        "  delta=0.562969840101\n",
        "  theta=2.71951778415\n",
        "  z_temp=0.0190581968451\n",
        "  pow_gain=0.714430442384\n",
        "  llh: 285.097118441"
       ]
      },
      {
       "output_type": "stream",
       "stream": "stdout",
       "text": [
        "\n",
        "evaluating:\n",
        "  delta=0.562946764977\n",
        "  theta=2.72078347619\n",
        "  z_temp=0.0184792063735\n",
        "  pow_gain=0.714407988912\n",
        "  llh: 285.097118435"
       ]
      },
      {
       "output_type": "stream",
       "stream": "stdout",
       "text": [
        "\n",
        "evaluating:\n",
        "  delta=0.562955598333\n",
        "  theta=2.7203007047\n",
        "  z_temp=0.0187000270352\n",
        "  pow_gain=0.714416578608\n",
        "  llh: 285.097118428"
       ]
      },
      {
       "output_type": "stream",
       "stream": "stdout",
       "text": [
        "\n",
        "evaluating:\n",
        "  delta=0.562958316537\n",
        "  theta=2.72015414072\n",
        "  z_temp=0.0187670349906\n",
        "  pow_gain=0.714419221944\n",
        "  llh: 285.09718405"
       ]
      },
      {
       "output_type": "stream",
       "stream": "stdout",
       "text": [
        "\n",
        "evaluating:\n",
        "  delta=0.562952685457\n",
        "  theta=2.72045839038\n",
        "  z_temp=0.0186279223775\n",
        "  pow_gain=0.714413749355\n",
        "  llh: 285.097118433"
       ]
      },
      {
       "output_type": "stream",
       "stream": "stdout",
       "text": [
        "\n",
        "evaluating:\n",
        "  delta=0.562942714456\n",
        "  theta=2.7210062312\n",
        "  z_temp=0.0183773022306\n",
        "  pow_gain=0.714404041477\n",
        "  llh: 285.097118431"
       ]
      },
      {
       "output_type": "stream",
       "stream": "stdout",
       "text": [
        "\n",
        "evaluating:\n",
        "  delta=0.562955759712\n",
        "  theta=2.7202920736\n",
        "  z_temp=0.0187039740891\n",
        "  pow_gain=0.714416732382\n",
        "  llh: 285.097184048"
       ]
      },
      {
       "output_type": "stream",
       "stream": "stdout",
       "text": [
        "\n",
        "evaluating:\n",
        "  delta=0.562949013661\n",
        "  theta=2.72066062555\n",
        "  z_temp=0.0185353983024\n",
        "  pow_gain=0.71441017478\n",
        "  llh: 285.097118432"
       ]
      },
      {
       "output_type": "stream",
       "stream": "stdout",
       "text": [
        "\n",
        "evaluating:\n",
        "  delta=0.562948003334\n",
        "  theta=2.720718277\n",
        "  z_temp=0.0185089960475\n",
        "  pow_gain=0.714409184652\n",
        "  llh: 285.097184046"
       ]
      },
      {
       "output_type": "stream",
       "stream": "stdout",
       "text": [
        "\n",
        "evaluating:\n",
        "  delta=0.562951514926\n",
        "  theta=2.72052336203\n",
        "  z_temp=0.018598190795\n",
        "  pow_gain=0.714412608179\n",
        "  llh: 285.097118431"
       ]
      },
      {
       "output_type": "stream",
       "stream": "stdout",
       "text": [
        "\n",
        "evaluating:\n",
        "  delta=0.562952925763\n",
        "  theta=2.72044741008\n",
        "  z_temp=0.018632916369\n",
        "  pow_gain=0.714413975927\n",
        "  llh: 285.097184047"
       ]
      },
      {
       "output_type": "stream",
       "stream": "stdout",
       "text": [
        "\n",
        "evaluating:\n",
        "  delta=0.562949991686\n",
        "  theta=2.72060732168\n",
        "  z_temp=0.0185597778191\n",
        "  pow_gain=0.714411125066\n",
        "  llh: 285.09711843"
       ]
      },
      {
       "output_type": "stream",
       "stream": "stdout",
       "text": [
        "\n",
        "evaluating:\n",
        "  delta=0.562949662877\n",
        "  theta=2.72062665341\n",
        "  z_temp=0.0185509173884\n",
        "  pow_gain=0.714410800971\n",
        "  llh: 285.097184046"
       ]
      },
      {
       "output_type": "stream",
       "stream": "stdout",
       "text": [
        "\n",
        "evaluating:\n",
        "  delta=0.562951051914\n",
        "  theta=2.72054918488\n",
        "  z_temp=0.0185863724434\n",
        "  pow_gain=0.714412156377\n",
        "  llh: 285.09711843"
       ]
      },
      {
       "output_type": "stream",
       "stream": "stdout",
       "text": [
        "\n",
        "evaluating:\n",
        "  delta=0.562962632076\n",
        "  theta=2.71991526108\n",
        "  z_temp=0.0188763410592\n",
        "  pow_gain=0.714423425123\n",
        "  llh: 285.097118433"
       ]
      },
      {
       "output_type": "stream",
       "stream": "stdout",
       "text": [
        "\n",
        "evaluating:\n",
        "  delta=0.562947693861\n",
        "  theta=2.72073348867\n",
        "  z_temp=0.0185020619377\n",
        "  pow_gain=0.714408887388\n",
        "  llh: 285.097118429"
       ]
      },
      {
       "output_type": "stream",
       "stream": "stdout",
       "text": [
        "\n",
        "evaluating:\n",
        "  delta=0.562954205934\n",
        "  theta=2.7203772541\n",
        "  z_temp=0.0186650075301\n",
        "  pow_gain=0.714415222695\n",
        "  llh: 285.097184047"
       ]
      },
      {
       "output_type": "stream",
       "stream": "stdout",
       "text": [
        "\n",
        "evaluating:\n",
        "  delta=0.562951045248\n",
        "  theta=2.72054980478\n",
        "  z_temp=0.0185860852468\n",
        "  pow_gain=0.714412149474\n",
        "  llh: 285.097118429"
       ]
      },
      {
       "output_type": "stream",
       "stream": "stdout",
       "text": [
        "\n",
        "evaluating:\n",
        "  delta=0.562953142373\n",
        "  theta=2.72043570086\n",
        "  z_temp=0.0186382693075\n",
        "  pow_gain=0.714414187932\n",
        "  llh: 285.097118427"
       ]
      },
      {
       "output_type": "stream",
       "stream": "stdout",
       "text": [
        "\n",
        "evaluating:\n",
        "  delta=0.562954187602\n",
        "  theta=2.72037895884\n",
        "  z_temp=0.0186642177395\n",
        "  pow_gain=0.71441520371\n",
        "  llh: 285.097184048"
       ]
      },
      {
       "output_type": "stream",
       "stream": "stdout",
       "text": [
        "\n",
        "evaluating:\n",
        "  delta=0.562954197601\n",
        "  theta=2.72037802899\n",
        "  z_temp=0.0186646485344\n",
        "  pow_gain=0.714415214065\n",
        "  llh: 285.097184047"
       ]
      },
      {
       "output_type": "stream",
       "stream": "stdout",
       "text": [
        "\n",
        "evaluating:\n",
        "  delta=0.562951833336\n",
        "  theta=2.72050686083\n",
        "  z_temp=0.0186057260687\n",
        "  pow_gain=0.714412915621\n",
        "  llh: 285.097118428"
       ]
      },
      {
       "output_type": "stream",
       "stream": "stdout",
       "text": [
        "\n",
        "evaluating:\n",
        "  delta=0.562959618726\n",
        "  theta=2.72008103118\n",
        "  z_temp=0.0188005039089\n",
        "  pow_gain=0.714420490267\n",
        "  llh: 285.09718405"
       ]
      },
      {
       "output_type": "stream",
       "stream": "stdout",
       "text": [
        "\n",
        "evaluating:\n",
        "  delta=0.562950675077\n",
        "  theta=2.7205703743\n",
        "  z_temp=0.0185766724305\n",
        "  pow_gain=0.714411788108\n",
        "  llh: 285.097118428"
       ]
      },
      {
       "output_type": "stream",
       "stream": "stdout",
       "text": [
        "\n",
        "evaluating:\n",
        "  delta=0.562954900121\n",
        "  theta=2.72033941575\n",
        "  z_temp=0.0186823129589\n",
        "  pow_gain=0.714415898277\n",
        "  llh: 285.097184048"
       ]
      },
      {
       "output_type": "stream",
       "stream": "stdout",
       "text": [
        "\n",
        "evaluating:\n",
        "  delta=0.562952600033\n",
        "  theta=2.72046499956\n",
        "  z_temp=0.0186248727912\n",
        "  pow_gain=0.714413661285\n",
        "  llh: 285.097118428"
       ]
      },
      {
       "output_type": "stream",
       "stream": "stdout",
       "text": [
        "\n",
        "evaluating:\n",
        "  delta=0.562957020858\n",
        "  theta=2.72022321492\n",
        "  z_temp=0.0187354667774\n",
        "  pow_gain=0.714417962379\n",
        "  llh: 285.097184049"
       ]
      },
      {
       "output_type": "stream",
       "stream": "stdout",
       "text": [
        "\n",
        "evaluating:\n",
        "  delta=0.562952261522\n",
        "  theta=2.72048358445\n",
        "  z_temp=0.0186163710172\n",
        "  pow_gain=0.714413331676\n",
        "  llh: 285.097118428"
       ]
      },
      {
       "output_type": "stream",
       "stream": "stdout",
       "text": [
        "\n",
        "evaluating:\n",
        "  delta=0.562954926647\n",
        "  theta=2.7203378821\n",
        "  z_temp=0.0186830155297\n",
        "  pow_gain=0.714415924397\n",
        "  llh: 285.097184048"
       ]
      },
      {
       "output_type": "stream",
       "stream": "stdout",
       "text": [
        "\n",
        "evaluating:\n",
        "  delta=0.562953181686\n",
        "  theta=2.7204332202\n",
        "  z_temp=0.0186394084759\n",
        "  pow_gain=0.714414227063\n",
        "  llh: 285.097118428"
       ]
      },
      {
       "output_type": "stream",
       "stream": "stdout",
       "text": [
        "\n",
        "evaluating:\n",
        "  delta=0.562950720024\n",
        "  theta=2.72056843471\n",
        "  z_temp=0.0185775520061\n",
        "  pow_gain=0.714411831302\n",
        "  llh: 285.097118427"
       ]
      },
      {
       "output_type": "stream",
       "stream": "stdout",
       "text": [
        "\n",
        "evaluating:\n",
        "  delta=0.562950601671\n",
        "  theta=2.7205746968\n",
        "  z_temp=0.0185746911214\n",
        "  pow_gain=0.714411715838\n",
        "  llh: 285.097118427"
       ]
      },
      {
       "output_type": "stream",
       "stream": "stdout",
       "text": [
        "\n",
        "evaluating:\n",
        "  delta=0.562951561355\n",
        "  theta=2.72052244182\n",
        "  z_temp=0.0185985894381\n",
        "  pow_gain=0.714412649392\n",
        "  llh: 285.097118427"
       ]
      },
      {
       "output_type": "stream",
       "stream": "stdout",
       "text": [
        "\n",
        "evaluating:\n",
        "  delta=0.562951211271\n",
        "  theta=2.72054187051\n",
        "  z_temp=0.0185896986486\n",
        "  pow_gain=0.71441230825\n",
        "  llh: 285.097184047"
       ]
      },
      {
       "output_type": "stream",
       "stream": "stdout",
       "text": [
        "\n",
        "  status: 0\n",
        "    nfev: 335\n",
        " success: True\n",
        "     fun: 285.09711842675171\n",
        "       x: array([ 0.56295156,  2.72052244,  0.01859859,  0.71441265])\n",
        " message: 'Optimization terminated successfully.'\n",
        "     nit: 184\n"
       ]
      }
     ],
     "prompt_number": 240
    },
    {
     "cell_type": "code",
     "collapsed": false,
     "input": [
      "switchfreq[sid] "
     ],
     "language": "python",
     "metadata": {},
     "outputs": [
      {
       "metadata": {},
       "output_type": "pyout",
       "prompt_number": 128,
       "text": [
        "0.32974241478151511"
       ]
      }
     ],
     "prompt_number": 128
    },
    {
     "cell_type": "code",
     "collapsed": false,
     "input": [
      "pars = {'data': fitdata,\n",
      "        'p_switch': switchfreq[sid],\n",
      "        'fitting': ['delta', 'theta', 'z_temp', 'pow_gain'],\n",
      "        'verbose': True}\n",
      "init = [randstart(p) for p in pars['fitting']]\n",
      "model_rw_cpt_pswitch.loglik_across_gambles(init, pars)"
     ],
     "language": "python",
     "metadata": {},
     "outputs": [
      {
       "output_type": "stream",
       "stream": "stdout",
       "text": [
        "evaluating:\n",
        "  delta=1.0\n",
        "  theta=3\n",
        "  z_temp=0.43453054655\n",
        "  pow_gain=0.586756004748\n",
        "  llh: 310.610826901"
       ]
      },
      {
       "output_type": "stream",
       "stream": "stdout",
       "text": [
        "\n"
       ]
      },
      {
       "metadata": {},
       "output_type": "pyout",
       "prompt_number": 242,
       "text": [
        "310.61082690071851"
       ]
      }
     ],
     "prompt_number": 242
    },
    {
     "cell_type": "code",
     "collapsed": false,
     "input": [
      "f = minimize(model_rw_cpt_pswitch.loglik_across_gambles, init, (pars,), method='Nelder-Mead')\n",
      "print f"
     ],
     "language": "python",
     "metadata": {},
     "outputs": [
      {
       "output_type": "stream",
       "stream": "stdout",
       "text": [
        "evaluating:\n",
        "  delta=1.0\n",
        "  theta=3.0\n",
        "  z_temp=0.43453054655\n",
        "  pow_gain=0.586756004748\n",
        "  llh: 310.610826901"
       ]
      },
      {
       "output_type": "stream",
       "stream": "stdout",
       "text": [
        "\n",
        "evaluating:\n",
        "  delta=1.05\n",
        "  theta=3.0\n",
        "  z_temp=0.43453054655\n",
        "  pow_gain=0.586756004748\n",
        "  llh: 311.71727886"
       ]
      },
      {
       "output_type": "stream",
       "stream": "stdout",
       "text": [
        "\n",
        "evaluating:\n",
        "  delta=1.0\n",
        "  theta=3.15\n",
        "  z_temp=0.43453054655\n",
        "  pow_gain=0.586756004748\n",
        "  llh: 310.610826901"
       ]
      },
      {
       "output_type": "stream",
       "stream": "stdout",
       "text": [
        "\n",
        "evaluating:\n",
        "  delta=1.0\n",
        "  theta=3.0\n",
        "  z_temp=0.456257073877\n",
        "  pow_gain=0.586756004748\n",
        "  llh: 310.940364104"
       ]
      },
      {
       "output_type": "stream",
       "stream": "stdout",
       "text": [
        "\n",
        "evaluating:\n",
        "  delta=1.0\n",
        "  theta=3.0\n",
        "  z_temp=0.43453054655\n",
        "  pow_gain=0.616093804986\n",
        "  llh: 309.849032973"
       ]
      },
      {
       "output_type": "stream",
       "stream": "stdout",
       "text": [
        "\n",
        "evaluating:\n",
        "  delta=0.95\n",
        "  theta=3.075\n",
        "  z_temp=0.445393810213\n",
        "  pow_gain=0.601424904867\n",
        "  llh: 308.942051146"
       ]
      },
      {
       "output_type": "stream",
       "stream": "stdout",
       "text": [
        "\n",
        "evaluating:\n",
        "  delta=0.9\n",
        "  theta=3.1125\n",
        "  z_temp=0.450825442045\n",
        "  pow_gain=0.608759354926\n",
        "  llh: 307.07776425"
       ]
      },
      {
       "output_type": "stream",
       "stream": "stdout",
       "text": [
        "\n",
        "evaluating:\n",
        "  delta=0.95\n",
        "  theta=3.13125\n",
        "  z_temp=0.42095146697\n",
        "  pow_gain=0.612426579956\n",
        "  llh: 308.184865653"
       ]
      },
      {
       "output_type": "stream",
       "stream": "stdout",
       "text": [
        "\n",
        "evaluating:\n",
        "  delta=0.925\n",
        "  theta=2.971875\n",
        "  z_temp=0.435888454508\n",
        "  pow_gain=0.62526186756\n",
        "  llh: 307.1329456"
       ]
      },
      {
       "output_type": "stream",
       "stream": "stdout",
       "text": [
        "\n",
        "evaluating:\n",
        "  delta=0.8875\n",
        "  theta=3.1078125\n",
        "  z_temp=0.436567408487\n",
        "  pow_gain=0.644514798966\n",
        "  llh: 305.412530758"
       ]
      },
      {
       "output_type": "stream",
       "stream": "stdout",
       "text": [
        "\n",
        "evaluating:\n",
        "  delta=0.83125\n",
        "  theta=3.16171875\n",
        "  z_temp=0.437585839455\n",
        "  pow_gain=0.673394196074\n",
        "  llh: 303.184817003"
       ]
      },
      {
       "output_type": "stream",
       "stream": "stdout",
       "text": [
        "\n",
        "evaluating:\n",
        "  delta=0.803125\n",
        "  theta=3.188671875\n",
        "  z_temp=0.438095054939\n",
        "  pow_gain=0.643827194273\n",
        "  llh: 303.012926844"
       ]
      },
      {
       "output_type": "stream",
       "stream": "stdout",
       "text": [
        "\n",
        "evaluating:\n",
        "  delta=0.7046875\n",
        "  theta=3.2830078125\n",
        "  z_temp=0.439877309134\n",
        "  pow_gain=0.657693888916\n",
        "  llh: 300.250351275"
       ]
      },
      {
       "output_type": "stream",
       "stream": "stdout",
       "text": [
        "\n",
        "evaluating:\n",
        "  delta=0.73046875\n",
        "  theta=3.13330078125\n",
        "  z_temp=0.461137055601\n",
        "  pow_gain=0.670128073782\n",
        "  llh: 301.020795106"
       ]
      },
      {
       "output_type": "stream",
       "stream": "stdout",
       "text": [
        "\n",
        "evaluating:\n",
        "  delta=0.658203125\n",
        "  theta=3.37338867188\n",
        "  z_temp=0.45882436861\n",
        "  pow_gain=0.67972588929\n",
        "  llh: 299.113808563"
       ]
      },
      {
       "output_type": "stream",
       "stream": "stdout",
       "text": [
        "\n",
        "evaluating:\n",
        "  delta=0.5248046875\n",
        "  theta=3.57414550781\n",
        "  z_temp=0.470292325661\n",
        "  pow_gain=0.706957900154\n",
        "  llh: 285.712553312"
       ]
      },
      {
       "output_type": "stream",
       "stream": "stdout",
       "text": [
        "\n",
        "evaluating:\n",
        "  delta=0.49560546875\n",
        "  theta=3.46358642578\n",
        "  z_temp=0.453620822881\n",
        "  pow_gain=0.745327674537\n",
        "  llh: 294.26829108"
       ]
      },
      {
       "output_type": "stream",
       "stream": "stdout",
       "text": [
        "\n",
        "evaluating:\n",
        "  delta=0.396533203125\n",
        "  theta=3.56530151367\n",
        "  z_temp=0.474877917184\n",
        "  pow_gain=0.716659572621\n",
        "  llh: 288.446796775"
       ]
      },
      {
       "output_type": "stream",
       "stream": "stdout",
       "text": [
        "\n",
        "evaluating:\n",
        "  delta=0.330346679687\n",
        "  theta=3.80971984863\n",
        "  z_temp=0.458197131829\n",
        "  pow_gain=0.743191444332\n",
        "  llh: 290.638610547"
       ]
      },
      {
       "output_type": "stream",
       "stream": "stdout",
       "text": [
        "\n",
        "evaluating:\n",
        "  delta=0.168957519531\n",
        "  theta=3.92336883545\n",
        "  z_temp=0.488616789643\n",
        "  pow_gain=0.798374406906\n",
        "  llh: 298.373308382"
       ]
      },
      {
       "output_type": "stream",
       "stream": "stdout",
       "text": [
        "\n",
        "evaluating:\n",
        "  delta=0.302890014648\n",
        "  theta=3.76327857971\n",
        "  z_temp=0.476431919516\n",
        "  pow_gain=0.763204277409\n",
        "  llh: 291.996700071"
       ]
      },
      {
       "output_type": "stream",
       "stream": "stdout",
       "text": [
        "\n",
        "evaluating:\n",
        "  delta=0.28168182373\n",
        "  theta=3.89263629913\n",
        "  z_temp=0.486278824214\n",
        "  pow_gain=0.719678922721\n",
        "  llh: 292.697701078"
       ]
      },
      {
       "output_type": "stream",
       "stream": "stdout",
       "text": [
        "\n",
        "evaluating:\n",
        "  delta=0.335162734985\n",
        "  theta=3.7853738308\n",
        "  z_temp=0.478114323881\n",
        "  pow_gain=0.726091110675\n",
        "  llh: 290.548572635"
       ]
      },
      {
       "output_type": "stream",
       "stream": "stdout",
       "text": [
        "\n",
        "evaluating:\n",
        "  delta=0.490533638\n",
        "  theta=3.60399177074\n",
        "  z_temp=0.464308929762\n",
        "  pow_gain=0.683245736482\n",
        "  llh: 286.018982829"
       ]
      },
      {
       "output_type": "stream",
       "stream": "stdout",
       "text": [
        "\n",
        "evaluating:\n",
        "  delta=0.543170452118\n",
        "  theta=3.45468646288\n",
        "  z_temp=0.485599616415\n",
        "  pow_gain=0.673285715634\n",
        "  llh: 296.602242167"
       ]
      },
      {
       "output_type": "stream",
       "stream": "stdout",
       "text": [
        "\n",
        "evaluating:\n",
        "  delta=0.383552622795\n",
        "  theta=3.72096150219\n",
        "  z_temp=0.465047752975\n",
        "  pow_gain=0.725715012158\n",
        "  llh: 288.792383035"
       ]
      },
      {
       "output_type": "stream",
       "stream": "stdout",
       "text": [
        "\n",
        "evaluating:\n",
        "  delta=0.562549340725\n",
        "  theta=3.44682631642\n",
        "  z_temp=0.45914913891\n",
        "  pow_gain=0.690198000033\n",
        "  llh: 296.538247652"
       ]
      },
      {
       "output_type": "stream",
       "stream": "stdout",
       "text": [
        "\n",
        "evaluating:\n",
        "  delta=0.39200938642\n",
        "  theta=3.7007369522\n",
        "  z_temp=0.473373027638\n",
        "  pow_gain=0.717117833014\n",
        "  llh: 288.567305627"
       ]
      },
      {
       "output_type": "stream",
       "stream": "stdout",
       "text": [
        "\n",
        "evaluating:\n",
        "  delta=0.518387834728\n",
        "  theta=3.50112637002\n",
        "  z_temp=0.476378347147\n",
        "  pow_gain=0.686275508978\n",
        "  llh: 285.764402514"
       ]
      },
      {
       "output_type": "stream",
       "stream": "stdout",
       "text": [
        "\n",
        "evaluating:\n",
        "  delta=0.573120295256\n",
        "  theta=3.42154562892\n",
        "  z_temp=0.469555732239\n",
        "  pow_gain=0.679451526104\n",
        "  llh: 297.084944444"
       ]
      },
      {
       "output_type": "stream",
       "stream": "stdout",
       "text": [
        "\n",
        "evaluating:\n",
        "  delta=0.437287113629\n",
        "  theta=3.63093912138\n",
        "  z_temp=0.472418703788\n",
        "  pow_gain=0.707701256287\n",
        "  llh: 287.298481837"
       ]
      },
      {
       "output_type": "stream",
       "stream": "stdout",
       "text": [
        "\n",
        "evaluating:\n",
        "  delta=0.588973433804\n",
        "  theta=3.58979987131\n",
        "  z_temp=0.466821235996\n",
        "  pow_gain=0.67543062833\n",
        "  llh: 285.33735282"
       ]
      },
      {
       "output_type": "stream",
       "stream": "stdout",
       "text": [
        "\n",
        "evaluating:\n",
        "  delta=0.685193549143\n",
        "  theta=3.60204905013\n",
        "  z_temp=0.462792895402\n",
        "  pow_gain=0.654816156185\n",
        "  llh: 285.765137848"
       ]
      },
      {
       "output_type": "stream",
       "stream": "stdout",
       "text": [
        "\n",
        "evaluating:\n",
        "  delta=0.624062683387\n",
        "  theta=3.50359263856\n",
        "  z_temp=0.466481715495\n",
        "  pow_gain=0.668253630686\n",
        "  llh: 285.401468645"
       ]
      },
      {
       "output_type": "stream",
       "stream": "stdout",
       "text": [
        "\n",
        "evaluating:\n",
        "  delta=0.637580681709\n",
        "  theta=3.48034042311\n",
        "  z_temp=0.475677882388\n",
        "  pow_gain=0.685213097592\n",
        "  llh: 298.781564426"
       ]
      },
      {
       "output_type": "stream",
       "stream": "stdout",
       "text": [
        "\n",
        "evaluating:\n",
        "  delta=0.527295398928\n",
        "  theta=3.57307893383\n",
        "  z_temp=0.467151167918\n",
        "  pow_gain=0.68373757676\n",
        "  llh: 285.558798585"
       ]
      },
      {
       "output_type": "stream",
       "stream": "stdout",
       "text": [
        "\n",
        "evaluating:\n",
        "  delta=0.614180267081\n",
        "  theta=3.61918210574\n",
        "  z_temp=0.458994875388\n",
        "  pow_gain=0.680914358987\n",
        "  llh: 285.305177614"
       ]
      },
      {
       "output_type": "stream",
       "stream": "stdout",
       "text": [
        "\n",
        "evaluating:\n",
        "  delta=0.662076483258\n",
        "  theta=3.6782099736\n",
        "  z_temp=0.450303139508\n",
        "  pow_gain=0.678233783991\n",
        "  llh: 285.434029163"
       ]
      },
      {
       "output_type": "stream",
       "stream": "stdout",
       "text": [
        "\n",
        "evaluating:\n",
        "  delta=0.6524512041\n",
        "  theta=3.56868126691\n",
        "  z_temp=0.459432171736\n",
        "  pow_gain=0.647210197227\n",
        "  llh: 285.574933318"
       ]
      },
      {
       "output_type": "stream",
       "stream": "stdout",
       "text": [
        "\n",
        "evaluating:\n",
        "  delta=0.62053957495\n",
        "  theta=3.57004732713\n",
        "  z_temp=0.462147210218\n",
        "  pow_gain=0.662147122959\n",
        "  llh: 285.363686604"
       ]
      },
      {
       "output_type": "stream",
       "stream": "stdout",
       "text": [
        "\n",
        "evaluating:\n",
        "  delta=0.696582580683\n",
        "  theta=3.56823203753\n",
        "  z_temp=0.46007135063\n",
        "  pow_gain=0.659635293721\n",
        "  llh: 285.797677297"
       ]
      },
      {
       "output_type": "stream",
       "stream": "stdout",
       "text": [
        "\n",
        "evaluating:\n",
        "  delta=0.569617194366\n",
        "  theta=3.57186720976\n",
        "  z_temp=0.465381213596\n",
        "  pow_gain=0.677712006\n",
        "  llh: 285.27873656"
       ]
      },
      {
       "output_type": "stream",
       "stream": "stdout",
       "text": [
        "\n",
        "evaluating:\n",
        "  delta=0.572592551714\n",
        "  theta=3.67185561841\n",
        "  z_temp=0.460190552104\n",
        "  pow_gain=0.679848427452\n",
        "  llh: 285.237162583"
       ]
      },
      {
       "output_type": "stream",
       "stream": "stdout",
       "text": [
        "\n",
        "evaluating:\n",
        "  delta=0.546857485877\n",
        "  theta=3.75598710833\n",
        "  z_temp=0.457044970409\n",
        "  pow_gain=0.685645825835\n",
        "  llh: 285.288414984"
       ]
      },
      {
       "output_type": "stream",
       "stream": "stdout",
       "text": [
        "\n",
        "evaluating:\n",
        "  delta=0.552142148533\n",
        "  theta=3.65630507547\n",
        "  z_temp=0.463546728324\n",
        "  pow_gain=0.694805587426\n",
        "  llh: 285.324617944"
       ]
      },
      {
       "output_type": "stream",
       "stream": "stdout",
       "text": [
        "\n",
        "evaluating:\n",
        "  delta=0.565292647043\n",
        "  theta=3.66980513338\n",
        "  z_temp=0.45723544871\n",
        "  pow_gain=0.691209561602\n",
        "  llh: 285.202315981"
       ]
      },
      {
       "output_type": "stream",
       "stream": "stdout",
       "text": [
        "\n",
        "evaluating:\n",
        "  delta=0.553452253663\n",
        "  theta=3.70980776442\n",
        "  z_temp=0.452442555068\n",
        "  pow_gain=0.699099028238\n",
        "  llh: 285.223737611"
       ]
      },
      {
       "output_type": "stream",
       "stream": "stdout",
       "text": [
        "\n",
        "evaluating:\n",
        "  delta=0.60869918157\n",
        "  theta=3.61004995817\n",
        "  z_temp=0.457354316575\n",
        "  pow_gain=0.670036589595\n",
        "  llh: 285.290729064"
       ]
      },
      {
       "output_type": "stream",
       "stream": "stdout",
       "text": [
        "\n",
        "evaluating:\n",
        "  delta=0.543920520265\n",
        "  theta=3.64260685412\n",
        "  z_temp=0.461085890105\n",
        "  pow_gain=0.678488933338\n",
        "  llh: 285.337883919"
       ]
      },
      {
       "output_type": "stream",
       "stream": "stdout",
       "text": [
        "\n",
        "evaluating:\n",
        "  delta=0.596615330377\n",
        "  theta=3.62503829283\n",
        "  z_temp=0.459517629067\n",
        "  pow_gain=0.680308002575\n",
        "  llh: 285.282520338"
       ]
      },
      {
       "output_type": "stream",
       "stream": "stdout",
       "text": [
        "\n",
        "evaluating:\n",
        "  delta=0.543359680181\n",
        "  theta=3.65923316902\n",
        "  z_temp=0.463808105164\n",
        "  pow_gain=0.69450240922\n",
        "  llh: 285.394224753"
       ]
      },
      {
       "output_type": "stream",
       "stream": "stdout",
       "text": [
        "\n",
        "evaluating:\n",
        "  delta=0.592364306222\n",
        "  theta=3.62234576088\n",
        "  z_temp=0.458967763722\n",
        "  pow_gain=0.676153044501\n",
        "  llh: 285.274778093"
       ]
      },
      {
       "output_type": "stream",
       "stream": "stdout",
       "text": [
        "\n",
        "evaluating:\n",
        "  delta=0.553318019296\n",
        "  theta=3.64289856838\n",
        "  z_temp=0.461369859999\n",
        "  pow_gain=0.682153517203\n",
        "  llh: 285.279346685"
       ]
      },
      {
       "output_type": "stream",
       "stream": "stdout",
       "text": [
        "\n",
        "evaluating:\n",
        "  delta=0.564142347066\n",
        "  theta=3.6384334995\n",
        "  z_temp=0.460906802266\n",
        "  pow_gain=0.681692138546\n",
        "  llh: 285.242887517"
       ]
      },
      {
       "output_type": "stream",
       "stream": "stdout",
       "text": [
        "\n",
        "evaluating:\n",
        "  delta=0.577578731657\n",
        "  theta=3.72935279633\n",
        "  z_temp=0.453269069805\n",
        "  pow_gain=0.686739580051\n",
        "  llh: 285.185995122"
       ]
      },
      {
       "output_type": "stream",
       "stream": "stdout",
       "text": [
        "\n",
        "evaluating:\n",
        "  delta=0.581559500302\n",
        "  theta=3.80809558961\n",
        "  z_temp=0.44721299791\n",
        "  pow_gain=0.691253367076\n",
        "  llh: 285.142265619"
       ]
      },
      {
       "output_type": "stream",
       "stream": "stdout",
       "text": [
        "\n",
        "evaluating:\n",
        "  delta=0.54942921684\n",
        "  theta=3.77174915956\n",
        "  z_temp=0.453805136773\n",
        "  pow_gain=0.695848702837\n",
        "  llh: 285.258527016"
       ]
      },
      {
       "output_type": "stream",
       "stream": "stdout",
       "text": [
        "\n",
        "evaluating:\n",
        "  delta=0.560162989186\n",
        "  theta=3.73439830989\n",
        "  z_temp=0.45509579351\n",
        "  pow_gain=0.690924788253\n",
        "  llh: 285.194393674"
       ]
      },
      {
       "output_type": "stream",
       "stream": "stdout",
       "text": [
        "\n",
        "evaluating:\n",
        "  delta=0.575661497056\n",
        "  theta=3.80364382615\n",
        "  z_temp=0.448960593851\n",
        "  pow_gain=0.694925933645\n",
        "  llh: 285.138829168"
       ]
      },
      {
       "output_type": "stream",
       "stream": "stdout",
       "text": [
        "\n",
        "evaluating:\n",
        "  delta=0.581421072051\n",
        "  theta=3.88624898948\n",
        "  z_temp=0.442987489644\n",
        "  pow_gain=0.701542831195\n",
        "  llh: 285.093879046"
       ]
      },
      {
       "output_type": "stream",
       "stream": "stdout",
       "text": [
        "\n",
        "evaluating:\n",
        "  delta=0.571625552577\n",
        "  theta=3.87741839277\n",
        "  z_temp=0.441075312783\n",
        "  pow_gain=0.707616846611\n",
        "  llh: 285.063126014"
       ]
      },
      {
       "output_type": "stream",
       "stream": "stdout",
       "text": [
        "\n",
        "evaluating:\n",
        "  delta=0.571142053009\n",
        "  theta=3.98019977995\n",
        "  z_temp=0.431517693123\n",
        "  pow_gain=0.72150105619\n",
        "  llh: 284.986732703"
       ]
      },
      {
       "output_type": "stream",
       "stream": "stdout",
       "text": [
        "\n",
        "evaluating:\n",
        "  delta=0.58185016023\n",
        "  theta=4.03466620108\n",
        "  z_temp=0.431171538383\n",
        "  pow_gain=0.711401459755\n",
        "  llh: 284.988130116"
       ]
      },
      {
       "output_type": "stream",
       "stream": "stdout",
       "text": [
        "\n",
        "evaluating:\n",
        "  delta=0.59782340361\n",
        "  theta=4.12020697017\n",
        "  z_temp=0.42134906602\n",
        "  pow_gain=0.721924568855\n",
        "  llh: 284.951995167"
       ]
      },
      {
       "output_type": "stream",
       "stream": "stdout",
       "text": [
        "\n",
        "evaluating:\n",
        "  delta=0.616653610822\n",
        "  theta=4.3131113003\n",
        "  z_temp=0.404475702274\n",
        "  pow_gain=0.737424459156\n",
        "  llh: 284.859742663"
       ]
      },
      {
       "output_type": "stream",
       "stream": "stdout",
       "text": [
        "\n",
        "evaluating:\n",
        "  delta=0.593973947754\n",
        "  theta=4.2990175458\n",
        "  z_temp=0.407863213802\n",
        "  pow_gain=0.744681536073\n",
        "  llh: 284.829917423"
       ]
      },
      {
       "output_type": "stream",
       "stream": "stdout",
       "text": [
        "\n",
        "evaluating:\n",
        "  delta=0.600181171481\n",
        "  theta=4.5444785239\n",
        "  z_temp=0.388188321748\n",
        "  pow_gain=0.771395620571\n",
        "  llh: 293.099089115"
       ]
      },
      {
       "output_type": "stream",
       "stream": "stdout",
       "text": [
        "\n",
        "evaluating:\n",
        "  delta=0.600388813857\n",
        "  theta=4.42724842409\n",
        "  z_temp=0.394526584147\n",
        "  pow_gain=0.755961424392\n",
        "  llh: 284.753222383"
       ]
      },
      {
       "output_type": "stream",
       "stream": "stdout",
       "text": [
        "\n",
        "evaluating:\n",
        "  delta=0.609872684759\n",
        "  theta=4.6977481414\n",
        "  z_temp=0.370296131399\n",
        "  pow_gain=0.78317072099\n",
        "  llh: 292.938518885"
       ]
      },
      {
       "output_type": "stream",
       "stream": "stdout",
       "text": [
        "\n",
        "evaluating:\n",
        "  delta=0.609229052491\n",
        "  theta=4.47512232399\n",
        "  z_temp=0.38802005829\n",
        "  pow_gain=0.768382778151\n",
        "  llh: 284.737361811"
       ]
      },
      {
       "output_type": "stream",
       "stream": "stdout",
       "text": [
        "\n",
        "evaluating:\n",
        "  delta=0.622918498621\n",
        "  theta=4.69535038545\n",
        "  z_temp=0.366444318243\n",
        "  pow_gain=0.796873437349\n",
        "  llh: 292.767688713"
       ]
      },
      {
       "output_type": "stream",
       "stream": "stdout",
       "text": [
        "\n",
        "evaluating:\n",
        "  delta=0.638980659453\n",
        "  theta=4.77705001714\n",
        "  z_temp=0.365925086134\n",
        "  pow_gain=0.781724042695\n",
        "  llh: 292.215144361"
       ]
      },
      {
       "output_type": "stream",
       "stream": "stdout",
       "text": [
        "\n",
        "evaluating:\n",
        "  delta=0.58810170462\n",
        "  theta=4.17941233925\n",
        "  z_temp=0.415119541376\n",
        "  pow_gain=0.736556802817\n",
        "  llh: 284.873042963"
       ]
      },
      {
       "output_type": "stream",
       "stream": "stdout",
       "text": [
        "\n",
        "evaluating:\n",
        "  delta=0.622021007842\n",
        "  theta=4.57783745785\n",
        "  z_temp=0.382323237881\n",
        "  pow_gain=0.766668296069\n",
        "  llh: 292.494955261"
       ]
      },
      {
       "output_type": "stream",
       "stream": "stdout",
       "text": [
        "\n",
        "evaluating:\n",
        "  delta=0.596581530425\n",
        "  theta=4.2790186189\n",
        "  z_temp=0.406920465502\n",
        "  pow_gain=0.74408467613\n",
        "  llh: 284.826063503"
       ]
      },
      {
       "output_type": "stream",
       "stream": "stdout",
       "text": [
        "\n",
        "evaluating:\n",
        "  delta=0.583433061441\n",
        "  theta=4.42709215609\n",
        "  z_temp=0.394189458596\n",
        "  pow_gain=0.769130748216\n",
        "  llh: 284.794280758"
       ]
      },
      {
       "output_type": "stream",
       "stream": "stdout",
       "text": [
        "\n",
        "evaluating:\n",
        "  delta=0.600842281353\n",
        "  theta=4.50522321574\n",
        "  z_temp=0.383965069466\n",
        "  pow_gain=0.774098277372\n",
        "  llh: 293.100484816"
       ]
      },
      {
       "output_type": "stream",
       "stream": "stdout",
       "text": [
        "\n",
        "evaluating:\n",
        "  delta=0.595691031154\n",
        "  theta=4.35056896329\n",
        "  z_temp=0.401888677718\n",
        "  pow_gain=0.752035721397\n",
        "  llh: 284.798736621"
       ]
      },
      {
       "output_type": "stream",
       "stream": "stdout",
       "text": [
        "\n",
        "evaluating:\n",
        "  delta=0.597789449046\n",
        "  theta=4.56099731483\n",
        "  z_temp=0.382391923874\n",
        "  pow_gain=0.778670659948\n",
        "  llh: 293.231341039"
       ]
      },
      {
       "output_type": "stream",
       "stream": "stdout",
       "text": [
        "\n",
        "evaluating:\n",
        "  delta=0.596883510081\n",
        "  theta=4.34951329288\n",
        "  z_temp=0.400788330095\n",
        "  pow_gain=0.752731172084\n",
        "  llh: 284.792187532"
       ]
      },
      {
       "output_type": "stream",
       "stream": "stdout",
       "text": [
        "\n",
        "evaluating:\n",
        "  delta=0.599276187781\n",
        "  theta=4.48891913524\n",
        "  z_temp=0.386873537846\n",
        "  pow_gain=0.771067340024\n",
        "  llh: 284.730137976"
       ]
      },
      {
       "output_type": "stream",
       "stream": "stdout",
       "text": [
        "\n",
        "evaluating:\n",
        "  delta=0.601068766094\n",
        "  theta=4.55809422122\n",
        "  z_temp=0.37936596791\n",
        "  pow_gain=0.780583149338\n",
        "  llh: 293.160587959"
       ]
      },
      {
       "output_type": "stream",
       "stream": "stdout",
       "text": [
        "\n",
        "evaluating:\n",
        "  delta=0.619455720663\n",
        "  theta=4.44330943202\n",
        "  z_temp=0.390914796593\n",
        "  pow_gain=0.754940609109\n",
        "  llh: 284.764067184"
       ]
      },
      {
       "output_type": "stream",
       "stream": "stdout",
       "text": [
        "\n",
        "evaluating:\n",
        "  delta=0.617291377315\n",
        "  theta=4.56778636479\n",
        "  z_temp=0.379379158343\n",
        "  pow_gain=0.772444903754\n",
        "  llh: 292.647212122"
       ]
      },
      {
       "output_type": "stream",
       "stream": "stdout",
       "text": [
        "\n",
        "evaluating:\n",
        "  delta=0.601985476889\n",
        "  theta=4.40408156086\n",
        "  z_temp=0.395436037157\n",
        "  pow_gain=0.757659605002\n",
        "  llh: 284.764432969"
       ]
      },
      {
       "output_type": "stream",
       "stream": "stdout",
       "text": [
        "\n",
        "evaluating:\n",
        "  delta=0.612189410506\n",
        "  theta=4.51321809681\n",
        "  z_temp=0.384731451281\n",
        "  pow_gain=0.767516470836\n",
        "  llh: 292.734123807"
       ]
      },
      {
       "output_type": "stream",
       "stream": "stdout",
       "text": [
        "\n",
        "evaluating:\n",
        "  delta=0.604536460293\n",
        "  theta=4.43136569485\n",
        "  z_temp=0.392759890688\n",
        "  pow_gain=0.76012382146\n",
        "  llh: 284.751306039"
       ]
      },
      {
       "output_type": "stream",
       "stream": "stdout",
       "text": [
        "\n",
        "evaluating:\n",
        "  delta=0.587259536548\n",
        "  theta=4.46801835707\n",
        "  z_temp=0.390175238893\n",
        "  pow_gain=0.772827072904\n",
        "  llh: 284.763971"
       ]
      },
      {
       "output_type": "stream",
       "stream": "stdout",
       "text": [
        "\n",
        "evaluating:\n",
        "  delta=0.595308582577\n",
        "  theta=4.46184112581\n",
        "  z_temp=0.390360128318\n",
        "  pow_gain=0.768355456956\n",
        "  llh: 284.749084038"
       ]
      },
      {
       "output_type": "stream",
       "stream": "stdout",
       "text": [
        "\n",
        "evaluating:\n",
        "  delta=0.603786327714\n",
        "  theta=4.50137571585\n",
        "  z_temp=0.384480223424\n",
        "  pow_gain=0.778003273904\n",
        "  llh: 293.078158619"
       ]
      },
      {
       "output_type": "stream",
       "stream": "stdout",
       "text": [
        "\n",
        "evaluating:\n",
        "  delta=0.601238192321\n",
        "  theta=4.44578024703\n",
        "  z_temp=0.392014993966\n",
        "  pow_gain=0.76147188677\n",
        "  llh: 284.746434041"
       ]
      },
      {
       "output_type": "stream",
       "stream": "stdout",
       "text": [
        "\n",
        "evaluating:\n",
        "  delta=0.597989547291\n",
        "  theta=4.50446572119\n",
        "  z_temp=0.385874468522\n",
        "  pow_gain=0.77451490949\n",
        "  llh: 293.186024053"
       ]
      },
      {
       "output_type": "stream",
       "stream": "stdout",
       "text": [
        "\n",
        "evaluating:\n",
        "  delta=0.602899732043\n",
        "  theta=4.44964070143\n",
        "  z_temp=0.391038535147\n",
        "  pow_gain=0.763721593468\n",
        "  llh: 284.744927623"
       ]
      },
      {
       "output_type": "stream",
       "stream": "stdout",
       "text": [
        "\n",
        "evaluating:\n",
        "  delta=0.611012999741\n",
        "  theta=4.46789007804\n",
        "  z_temp=0.388613434307\n",
        "  pow_gain=0.763966342251\n",
        "  llh: 284.732463458"
       ]
      },
      {
       "output_type": "stream",
       "stream": "stdout",
       "text": [
        "\n",
        "evaluating:\n",
        "  delta=0.609970793707\n",
        "  theta=4.49500587232\n",
        "  z_temp=0.385257788828\n",
        "  pow_gain=0.772097140177\n",
        "  llh: 284.725899065"
       ]
      },
      {
       "output_type": "stream",
       "stream": "stdout",
       "text": [
        "\n",
        "evaluating:\n",
        "  delta=0.6143370944\n",
        "  theta=4.51961868497\n",
        "  z_temp=0.381879186259\n",
        "  pow_gain=0.77740976688\n",
        "  llh: 292.795493159"
       ]
      },
      {
       "output_type": "stream",
       "stream": "stdout",
       "text": [
        "\n",
        "evaluating:\n",
        "  delta=0.611844784817\n",
        "  theta=4.51382800337\n",
        "  z_temp=0.383343874489\n",
        "  pow_gain=0.774035206834\n",
        "  llh: 292.822795892"
       ]
      },
      {
       "output_type": "stream",
       "stream": "stdout",
       "text": [
        "\n",
        "evaluating:\n",
        "  delta=0.605135995236\n",
        "  theta=4.46568752692\n",
        "  z_temp=0.389114869982\n",
        "  pow_gain=0.766299996809\n",
        "  llh: 284.737715558"
       ]
      },
      {
       "output_type": "stream",
       "stream": "stdout",
       "text": [
        "\n",
        "evaluating:\n",
        "  delta=0.609608521623\n",
        "  theta=4.49778117788\n",
        "  z_temp=0.385267539653\n",
        "  pow_gain=0.771456803492\n",
        "  llh: 284.72427587"
       ]
      },
      {
       "output_type": "stream",
       "stream": "stdout",
       "text": [
        "\n",
        "evaluating:\n",
        "  delta=0.611844784817\n",
        "  theta=4.51382800337\n",
        "  z_temp=0.383343874489\n",
        "  pow_gain=0.774035206834\n",
        "  llh: 292.822795892"
       ]
      },
      {
       "output_type": "stream",
       "stream": "stdout",
       "text": [
        "\n",
        "evaluating:\n",
        "  delta=0.605705198935\n",
        "  theta=4.49967580776\n",
        "  z_temp=0.384986092027\n",
        "  pow_gain=0.770911034821\n",
        "  llh: 284.718242958"
       ]
      },
      {
       "output_type": "stream",
       "stream": "stdout",
       "text": [
        "\n",
        "evaluating:\n",
        "  delta=0.603943272157\n",
        "  theta=4.51195254964\n",
        "  z_temp=0.383469108896\n",
        "  pow_gain=0.772175163157\n",
        "  llh: 292.995612275"
       ]
      },
      {
       "output_type": "stream",
       "stream": "stdout",
       "text": [
        "\n",
        "evaluating:\n",
        "  delta=0.601267351282\n",
        "  theta=4.52280091856\n",
        "  z_temp=0.382579044871\n",
        "  pow_gain=0.778799817007\n",
        "  llh: 293.14482256"
       ]
      },
      {
       "output_type": "stream",
       "stream": "stdout",
       "text": [
        "\n",
        "evaluating:\n",
        "  delta=0.608576587626\n",
        "  theta=4.48161778817\n",
        "  z_temp=0.387104836948\n",
        "  pow_gain=0.76767471094\n",
        "  llh: 284.728647911"
       ]
      },
      {
       "output_type": "stream",
       "stream": "stdout",
       "text": [
        "\n",
        "evaluating:\n",
        "  delta=0.617654363165\n",
        "  theta=4.49812118782\n",
        "  z_temp=0.384434590882\n",
        "  pow_gain=0.770002504691\n",
        "  llh: 284.716667128"
       ]
      },
      {
       "output_type": "stream",
       "stream": "stdout",
       "text": [
        "\n",
        "evaluating:\n",
        "  delta=0.626843450857\n",
        "  theta=4.50272221411\n",
        "  z_temp=0.3832151174\n",
        "  pow_gain=0.769470087024\n",
        "  llh: 292.42821241"
       ]
      },
      {
       "output_type": "stream",
       "stream": "stdout",
       "text": [
        "\n",
        "evaluating:\n",
        "  delta=0.612892851089\n",
        "  theta=4.51367423472\n",
        "  z_temp=0.382868168748\n",
        "  pow_gain=0.774559030651\n",
        "  llh: 292.800310628"
       ]
      },
      {
       "output_type": "stream",
       "stream": "stdout",
       "text": [
        "\n",
        "evaluating:\n",
        "  delta=0.609655653492\n",
        "  theta=4.48963189981\n",
        "  z_temp=0.386045669898\n",
        "  pow_gain=0.769395790867\n",
        "  llh: 284.725551295"
       ]
      },
      {
       "output_type": "stream",
       "stream": "stdout",
       "text": [
        "\n",
        "evaluating:\n",
        "  delta=0.611341074901\n",
        "  theta=4.49759916431\n",
        "  z_temp=0.385109157402\n",
        "  pow_gain=0.768785926759\n",
        "  llh: 284.718385014"
       ]
      },
      {
       "output_type": "stream",
       "stream": "stdout",
       "text": [
        "\n",
        "evaluating:\n",
        "  delta=0.61249892582\n",
        "  theta=4.50695676908\n",
        "  z_temp=0.383853020085\n",
        "  pow_gain=0.771182344014\n",
        "  llh: 292.77037075"
       ]
      },
      {
       "output_type": "stream",
       "stream": "stdout",
       "text": [
        "\n",
        "evaluating:\n",
        "  delta=0.610366471574\n",
        "  theta=4.49396311713\n",
        "  z_temp=0.385497507445\n",
        "  pow_gain=0.769842429154\n",
        "  llh: 284.723197716"
       ]
      },
      {
       "output_type": "stream",
       "stream": "stdout",
       "text": [
        "\n",
        "evaluating:\n",
        "  delta=0.612925032664\n",
        "  theta=4.49689846063\n",
        "  z_temp=0.384746134225\n",
        "  pow_gain=0.76831414422\n",
        "  llh: 284.712944115"
       ]
      },
      {
       "output_type": "stream",
       "stream": "stdout",
       "text": [
        "\n",
        "evaluating:\n",
        "  delta=0.614583288185\n",
        "  theta=4.496457102\n",
        "  z_temp=0.38448543151\n",
        "  pow_gain=0.766742814585\n",
        "  llh: 284.708856338"
       ]
      },
      {
       "output_type": "stream",
       "stream": "stdout",
       "text": [
        "\n",
        "evaluating:\n",
        "  delta=0.614275491019\n",
        "  theta=4.50196351382\n",
        "  z_temp=0.384010128467\n",
        "  pow_gain=0.768378711274\n",
        "  llh: 292.688356839"
       ]
      },
      {
       "output_type": "stream",
       "stream": "stdout",
       "text": [
        "\n",
        "evaluating:\n",
        "  delta=0.611343726435\n",
        "  theta=4.4959632163\n",
        "  z_temp=0.3851256627\n",
        "  pow_gain=0.769476499684\n",
        "  llh: 284.720220457"
       ]
      },
      {
       "output_type": "stream",
       "stream": "stdout",
       "text": [
        "\n",
        "evaluating:\n",
        "  delta=0.613298236158\n",
        "  theta=4.49996341464\n",
        "  z_temp=0.384381973211\n",
        "  pow_gain=0.768744640744\n",
        "  llh: 284.71100587"
       ]
      },
      {
       "output_type": "stream",
       "stream": "stdout",
       "text": [
        "\n",
        "evaluating:\n",
        "  delta=0.61427946832\n",
        "  theta=4.4995095918\n",
        "  z_temp=0.384034886413\n",
        "  pow_gain=0.769414570661\n",
        "  llh: 284.709211115"
       ]
      },
      {
       "output_type": "stream",
       "stream": "stdout",
       "text": [
        "\n",
        "evaluating:\n",
        "  delta=0.624202478979\n",
        "  theta=4.49734984037\n",
        "  z_temp=0.383682348981\n",
        "  pow_gain=0.766541230519\n",
        "  llh: 284.722956497"
       ]
      },
      {
       "output_type": "stream",
       "stream": "stdout",
       "text": [
        "\n",
        "evaluating:\n",
        "  delta=0.610329518946\n",
        "  theta=4.49909431591\n",
        "  z_temp=0.384660156266\n",
        "  pow_gain=0.769818583746\n",
        "  llh: 284.717084127"
       ]
      },
      {
       "output_type": "stream",
       "stream": "stdout",
       "text": [
        "\n",
        "evaluating:\n",
        "  delta=0.619578158968\n",
        "  theta=4.49793133222\n",
        "  z_temp=0.384008284743\n",
        "  pow_gain=0.767633681594\n",
        "  llh: 284.714781768"
       ]
      },
      {
       "output_type": "stream",
       "stream": "stdout",
       "text": [
        "\n",
        "evaluating:\n",
        "  delta=0.61321521265\n",
        "  theta=4.4988095325\n",
        "  z_temp=0.384020697057\n",
        "  pow_gain=0.766265349101\n",
        "  llh: 284.70325941"
       ]
      },
      {
       "output_type": "stream",
       "stream": "stdout",
       "text": [
        "\n",
        "evaluating:\n",
        "  delta=0.610995637393\n",
        "  theta=4.49915370484\n",
        "  z_temp=0.383813750144\n",
        "  pow_gain=0.764396771307\n",
        "  llh: 284.698824273"
       ]
      },
      {
       "output_type": "stream",
       "stream": "stdout",
       "text": [
        "\n",
        "evaluating:\n",
        "  delta=0.60700015606\n",
        "  theta=4.49961057442\n",
        "  z_temp=0.384349735897\n",
        "  pow_gain=0.767015717054\n",
        "  llh: 284.706050062"
       ]
      },
      {
       "output_type": "stream",
       "stream": "stdout",
       "text": [
        "\n",
        "evaluating:\n",
        "  delta=0.610131038821\n",
        "  theta=4.49740207188\n",
        "  z_temp=0.383959928771\n",
        "  pow_gain=0.765040296059\n",
        "  llh: 284.702181401"
       ]
      },
      {
       "output_type": "stream",
       "stream": "stdout",
       "text": [
        "\n",
        "evaluating:\n",
        "  delta=0.607075591909\n",
        "  theta=4.49680213478\n",
        "  z_temp=0.384269536748\n",
        "  pow_gain=0.762183228841\n",
        "  llh: 284.695675014"
       ]
      },
      {
       "output_type": "stream",
       "stream": "stdout",
       "text": [
        "\n",
        "evaluating:\n",
        "  delta=0.603473653703\n",
        "  theta=4.49544840627\n",
        "  z_temp=0.384386861915\n",
        "  pow_gain=0.75856755793\n",
        "  llh: 284.68627481"
       ]
      },
      {
       "output_type": "stream",
       "stream": "stdout",
       "text": [
        "\n",
        "evaluating:\n",
        "  delta=0.601216954804\n",
        "  theta=4.49935027671\n",
        "  z_temp=0.383769706853\n",
        "  pow_gain=0.76076735659\n",
        "  llh: 284.684848721"
       ]
      },
      {
       "output_type": "stream",
       "stream": "stdout",
       "text": [
        "\n",
        "evaluating:\n",
        "  delta=0.594533788113\n",
        "  theta=4.50079686407\n",
        "  z_temp=0.383411844524\n",
        "  pow_gain=0.757779627593\n",
        "  llh: 293.05035472"
       ]
      },
      {
       "output_type": "stream",
       "stream": "stdout",
       "text": [
        "\n",
        "evaluating:\n",
        "  delta=0.6059084863\n",
        "  theta=4.49606665543\n",
        "  z_temp=0.383615387945\n",
        "  pow_gain=0.75737027389\n",
        "  llh: 284.680610439"
       ]
      },
      {
       "output_type": "stream",
       "stream": "stdout",
       "text": [
        "\n",
        "evaluating:\n",
        "  delta=0.605362651421\n",
        "  theta=4.49429469594\n",
        "  z_temp=0.383248213969\n",
        "  pow_gain=0.752547552308\n",
        "  llh: 284.671760801"
       ]
      },
      {
       "output_type": "stream",
       "stream": "stdout",
       "text": [
        "\n",
        "evaluating:\n",
        "  delta=0.600393409839\n",
        "  theta=4.49672147\n",
        "  z_temp=0.383649337669\n",
        "  pow_gain=0.753099323008\n",
        "  llh: 284.668058265"
       ]
      },
      {
       "output_type": "stream",
       "stream": "stdout",
       "text": [
        "\n",
        "evaluating:\n",
        "  delta=0.595524595348\n",
        "  theta=4.49638116905\n",
        "  z_temp=0.383494042118\n",
        "  pow_gain=0.747128836483\n",
        "  llh: 284.652638255"
       ]
      },
      {
       "output_type": "stream",
       "stream": "stdout",
       "text": [
        "\n",
        "evaluating:\n",
        "  delta=0.591793290245\n",
        "  theta=4.49358356914\n",
        "  z_temp=0.383635662283\n",
        "  pow_gain=0.745108880349\n",
        "  llh: 284.648296124"
       ]
      },
      {
       "output_type": "stream",
       "stream": "stdout",
       "text": [
        "\n",
        "evaluating:\n",
        "  delta=0.582192116671\n",
        "  theta=4.49079850129\n",
        "  z_temp=0.383546618353\n",
        "  pow_gain=0.73546493487\n",
        "  llh: 284.628418846"
       ]
      },
      {
       "output_type": "stream",
       "stream": "stdout",
       "text": [
        "\n",
        "evaluating:\n",
        "  delta=0.588674505419\n",
        "  theta=4.49496391523\n",
        "  z_temp=0.382642428731\n",
        "  pow_gain=0.739386782195\n",
        "  llh: 284.62954315"
       ]
      },
      {
       "output_type": "stream",
       "stream": "stdout",
       "text": [
        "\n",
        "evaluating:\n",
        "  delta=0.584659979625\n",
        "  theta=4.48886886404\n",
        "  z_temp=0.382695944732\n",
        "  pow_gain=0.726496696338\n",
        "  llh: 284.618309455"
       ]
      },
      {
       "output_type": "stream",
       "stream": "stdout",
       "text": [
        "\n",
        "evaluating:\n",
        "  delta=0.576381492036\n",
        "  theta=4.48362815771\n",
        "  z_temp=0.382159063672\n",
        "  pow_gain=0.709361366211\n",
        "  llh: 284.599672369"
       ]
      },
      {
       "output_type": "stream",
       "stream": "stdout",
       "text": [
        "\n",
        "evaluating:\n",
        "  delta=0.566023703316\n",
        "  theta=4.4885911757\n",
        "  z_temp=0.382672862468\n",
        "  pow_gain=0.713123407572\n",
        "  llh: 284.609772404"
       ]
      },
      {
       "output_type": "stream",
       "stream": "stdout",
       "text": [
        "\n",
        "evaluating:\n",
        "  delta=0.561111313373\n",
        "  theta=4.48260970591\n",
        "  z_temp=0.382016444494\n",
        "  pow_gain=0.701539408942\n",
        "  llh: 284.611729563"
       ]
      },
      {
       "output_type": "stream",
       "stream": "stdout",
       "text": [
        "\n",
        "evaluating:\n",
        "  delta=0.55417980728\n",
        "  theta=4.47784985507\n",
        "  z_temp=0.382555065763\n",
        "  pow_gain=0.690357776602\n",
        "  llh: 284.640439959"
       ]
      },
      {
       "output_type": "stream",
       "stream": "stdout",
       "text": [
        "\n",
        "evaluating:\n",
        "  delta=0.580050830884\n",
        "  theta=4.49068540019\n",
        "  z_temp=0.382620587989\n",
        "  pow_gain=0.727129530797\n",
        "  llh: 284.611259352"
       ]
      },
      {
       "output_type": "stream",
       "stream": "stdout",
       "text": [
        "\n",
        "evaluating:\n",
        "  delta=0.559591553134\n",
        "  theta=4.48195871846\n",
        "  z_temp=0.381187860959\n",
        "  pow_gain=0.690111921891\n",
        "  llh: 284.598422053"
       ]
      },
      {
       "output_type": "stream",
       "stream": "stdout",
       "text": [
        "\n",
        "evaluating:\n",
        "  delta=0.548291271365\n",
        "  theta=4.47753882705\n",
        "  z_temp=0.380008482262\n",
        "  pow_gain=0.667435415401\n",
        "  llh: 284.633598683"
       ]
      },
      {
       "output_type": "stream",
       "stream": "stdout",
       "text": [
        "\n",
        "evaluating:\n",
        "  delta=0.579912476312\n",
        "  theta=4.48982202012\n",
        "  z_temp=0.38230374305\n",
        "  pow_gain=0.718323704294\n",
        "  llh: 284.606907383"
       ]
      },
      {
       "output_type": "stream",
       "stream": "stdout",
       "text": [
        "\n",
        "evaluating:\n",
        "  delta=0.560903781515\n",
        "  theta=4.4813146358\n",
        "  z_temp=0.381541177086\n",
        "  pow_gain=0.688330669187\n",
        "  llh: 284.594984816"
       ]
      },
      {
       "output_type": "stream",
       "stream": "stdout",
       "text": [
        "\n",
        "evaluating:\n",
        "  delta=0.551330256831\n",
        "  theta=4.47662925361\n",
        "  z_temp=0.381001471634\n",
        "  pow_gain=0.668931238382\n",
        "  llh: 284.625325468"
       ]
      },
      {
       "output_type": "stream",
       "stream": "stdout",
       "text": [
        "\n",
        "evaluating:\n",
        "  delta=0.572370948183\n",
        "  theta=4.47977059035\n",
        "  z_temp=0.380923059915\n",
        "  pow_gain=0.689940423219\n",
        "  llh: 284.594289639"
       ]
      },
      {
       "output_type": "stream",
       "stream": "stdout",
       "text": [
        "\n",
        "evaluating:\n",
        "  delta=0.575544570616\n",
        "  theta=4.47536029767\n",
        "  z_temp=0.380048158638\n",
        "  pow_gain=0.678348931043\n",
        "  llh: 284.594670232"
       ]
      },
      {
       "output_type": "stream",
       "stream": "stdout",
       "text": [
        "\n",
        "evaluating:\n",
        "  delta=0.554711411122\n",
        "  theta=4.47351403104\n",
        "  z_temp=0.380601837766\n",
        "  pow_gain=0.67054848596\n",
        "  llh: 284.608290757"
       ]
      },
      {
       "output_type": "stream",
       "stream": "stdout",
       "text": [
        "\n",
        "evaluating:\n",
        "  delta=0.573612210015\n",
        "  theta=4.48574502285\n",
        "  z_temp=0.381878266729\n",
        "  pow_gain=0.70637989971\n",
        "  llh: 284.594879777"
       ]
      },
      {
       "output_type": "stream",
       "stream": "stdout",
       "text": [
        "\n",
        "evaluating:\n",
        "  delta=0.556857754387\n",
        "  theta=4.48076632603\n",
        "  z_temp=0.380606118672\n",
        "  pow_gain=0.678020090792\n",
        "  llh: 284.598238219"
       ]
      },
      {
       "output_type": "stream",
       "stream": "stdout",
       "text": [
        "\n",
        "evaluating:\n",
        "  delta=0.572280793916\n",
        "  theta=4.48183956905\n",
        "  z_temp=0.381286450242\n",
        "  pow_gain=0.691223619564\n",
        "  llh: 284.594940575"
       ]
      },
      {
       "output_type": "stream",
       "stream": "stdout",
       "text": [
        "\n",
        "evaluating:\n",
        "  delta=0.582726112427\n",
        "  theta=4.483568583\n",
        "  z_temp=0.382208358313\n",
        "  pow_gain=0.709917215048\n",
        "  llh: 284.608625"
       ]
      },
      {
       "output_type": "stream",
       "stream": "stdout",
       "text": [
        "\n",
        "evaluating:\n",
        "  delta=0.563324843897\n",
        "  theta=4.48146689027\n",
        "  z_temp=0.381006678583\n",
        "  pow_gain=0.685994371856\n",
        "  llh: 284.586529357"
       ]
      },
      {
       "output_type": "stream",
       "stream": "stdout",
       "text": [
        "\n",
        "evaluating:\n",
        "  delta=0.579890616489\n",
        "  theta=4.48309640046\n",
        "  z_temp=0.381006050649\n",
        "  pow_gain=0.698438487988\n",
        "  llh: 284.603583612"
       ]
      },
      {
       "output_type": "stream",
       "stream": "stdout",
       "text": [
        "\n",
        "evaluating:\n",
        "  delta=0.565650490259\n",
        "  theta=4.48176007697\n",
        "  z_temp=0.381407395476\n",
        "  pow_gain=0.690857623887\n",
        "  llh: 284.587747368"
       ]
      },
      {
       "output_type": "stream",
       "stream": "stdout",
       "text": [
        "\n",
        "evaluating:\n",
        "  delta=0.565198452261\n",
        "  theta=4.48253172117\n",
        "  z_temp=0.38132125011\n",
        "  pow_gain=0.695362539773\n",
        "  llh: 284.587582237"
       ]
      },
      {
       "output_type": "stream",
       "stream": "stdout",
       "text": [
        "\n",
        "evaluating:\n",
        "  delta=0.559660157285\n",
        "  theta=4.47701961653\n",
        "  z_temp=0.380450925313\n",
        "  pow_gain=0.674697579657\n",
        "  llh: 284.594628474"
       ]
      },
      {
       "output_type": "stream",
       "stream": "stdout",
       "text": [
        "\n",
        "evaluating:\n",
        "  delta=0.563148170467\n",
        "  theta=4.47920096811\n",
        "  z_temp=0.380807760667\n",
        "  pow_gain=0.68261815967\n",
        "  llh: 284.588634438"
       ]
      },
      {
       "output_type": "stream",
       "stream": "stdout",
       "text": [
        "\n",
        "evaluating:\n",
        "  delta=0.55629003026\n",
        "  theta=4.48270923791\n",
        "  z_temp=0.381348482503\n",
        "  pow_gain=0.687475924374\n",
        "  llh: 284.61482453"
       ]
      },
      {
       "output_type": "stream",
       "stream": "stdout",
       "text": [
        "\n",
        "evaluating:\n",
        "  delta=0.568350718702\n",
        "  theta=4.48050525224\n",
        "  z_temp=0.381029415562\n",
        "  pow_gain=0.689324298508\n",
        "  llh: 284.588814141"
       ]
      },
      {
       "output_type": "stream",
       "stream": "stdout",
       "text": [
        "\n",
        "evaluating:\n",
        "  delta=0.56031025974\n",
        "  theta=4.48197457602\n",
        "  z_temp=0.381242126856\n",
        "  pow_gain=0.688092049085\n",
        "  llh: 284.594562054"
       ]
      },
      {
       "output_type": "stream",
       "stream": "stdout",
       "text": [
        "\n",
        "evaluating:\n",
        "  delta=0.566340603961\n",
        "  theta=4.48087258318\n",
        "  z_temp=0.381082593385\n",
        "  pow_gain=0.689016236152\n",
        "  llh: 284.586798519"
       ]
      },
      {
       "output_type": "stream",
       "stream": "stdout",
       "text": [
        "\n",
        "evaluating:\n",
        "  delta=0.567109024722\n",
        "  theta=4.48411466769\n",
        "  z_temp=0.38160119811\n",
        "  pow_gain=0.697997226164\n",
        "  llh: 284.589676658"
       ]
      },
      {
       "output_type": "stream",
       "stream": "stdout",
       "text": [
        "\n",
        "evaluating:\n",
        "  delta=0.564138384031\n",
        "  theta=4.480429393\n",
        "  z_temp=0.381006120028\n",
        "  pow_gain=0.686462926294\n",
        "  llh: 284.586470346"
       ]
      },
      {
       "output_type": "stream",
       "stream": "stdout",
       "text": [
        "\n",
        "evaluating:\n",
        "  delta=0.563850651816\n",
        "  theta=4.48089021684\n",
        "  z_temp=0.380800925576\n",
        "  pow_gain=0.68756041315\n",
        "  llh: 284.583762123"
       ]
      },
      {
       "output_type": "stream",
       "stream": "stdout",
       "text": [
        "\n",
        "evaluating:\n",
        "  delta=0.562950732595\n",
        "  theta=4.48045528678\n",
        "  z_temp=0.380497690626\n",
        "  pow_gain=0.685911807782\n",
        "  llh: 284.583041118"
       ]
      },
      {
       "output_type": "stream",
       "stream": "stdout",
       "text": [
        "\n",
        "evaluating:\n",
        "  delta=0.563178829981\n",
        "  theta=4.47908035545\n",
        "  z_temp=0.380475291201\n",
        "  pow_gain=0.678330131269\n",
        "  llh: 284.591790084"
       ]
      },
      {
       "output_type": "stream",
       "stream": "stdout",
       "text": [
        "\n",
        "evaluating:\n",
        "  delta=0.564693546691\n",
        "  theta=4.48166887974\n",
        "  z_temp=0.381109760383\n",
        "  pow_gain=0.691104437647\n",
        "  llh: 284.585696446"
       ]
      },
      {
       "output_type": "stream",
       "stream": "stdout",
       "text": [
        "\n",
        "evaluating:\n",
        "  delta=0.561213149645\n",
        "  theta=4.48113764171\n",
        "  z_temp=0.380727531424\n",
        "  pow_gain=0.685720535637\n",
        "  llh: 284.586727267"
       ]
      },
      {
       "output_type": "stream",
       "stream": "stdout",
       "text": [
        "\n",
        "evaluating:\n",
        "  delta=0.562495013224\n",
        "  theta=4.48107137708\n",
        "  z_temp=0.380816296915\n",
        "  pow_gain=0.686544460766\n",
        "  llh: 284.585266381"
       ]
      },
      {
       "output_type": "stream",
       "stream": "stdout",
       "text": [
        "\n",
        "evaluating:\n",
        "  delta=0.563813994374\n",
        "  theta=4.48034557803\n",
        "  z_temp=0.380708255393\n",
        "  pow_gain=0.689017444388\n",
        "  llh: 284.583241246"
       ]
      },
      {
       "output_type": "stream",
       "stream": "stdout",
       "text": [
        "\n",
        "evaluating:\n",
        "  delta=0.562838259411\n",
        "  theta=4.48134116781\n",
        "  z_temp=0.38055988163\n",
        "  pow_gain=0.689826148998\n",
        "  llh: 284.583561968"
       ]
      },
      {
       "output_type": "stream",
       "stream": "stdout",
       "text": [
        "\n",
        "evaluating:\n",
        "  delta=0.561355453111\n",
        "  theta=4.47993782512\n",
        "  z_temp=0.3801813019\n",
        "  pow_gain=0.68454549332\n",
        "  llh: 284.582384413"
       ]
      },
      {
       "output_type": "stream",
       "stream": "stdout",
       "text": [
        "\n",
        "evaluating:\n",
        "  delta=0.559686406321\n",
        "  theta=4.4790722978\n",
        "  z_temp=0.379717072658\n",
        "  pow_gain=0.681266021156\n",
        "  llh: 284.584020773"
       ]
      },
      {
       "output_type": "stream",
       "stream": "stdout",
       "text": [
        "\n",
        "evaluating:\n",
        "  delta=0.562984206521\n",
        "  theta=4.47996855179\n",
        "  z_temp=0.38015726786\n",
        "  pow_gain=0.688105986478\n",
        "  llh: 284.580182938"
       ]
      },
      {
       "output_type": "stream",
       "stream": "stdout",
       "text": [
        "\n",
        "evaluating:\n",
        "  delta=0.563228803169\n",
        "  theta=4.47941713914\n",
        "  z_temp=0.379827753333\n",
        "  pow_gain=0.688886749334\n",
        "  llh: 284.577670794"
       ]
      },
      {
       "output_type": "stream",
       "stream": "stdout",
       "text": [
        "\n",
        "evaluating:\n",
        "  delta=0.562836232213\n",
        "  theta=4.47873674672\n",
        "  z_temp=0.380047618995\n",
        "  pow_gain=0.684354598414\n",
        "  llh: 284.581295338"
       ]
      },
      {
       "output_type": "stream",
       "stream": "stdout",
       "text": [
        "\n",
        "evaluating:\n",
        "  delta=0.56137161617\n",
        "  theta=4.47892792085\n",
        "  z_temp=0.379568927034\n",
        "  pow_gain=0.682831880037\n",
        "  llh: 284.57962726"
       ]
      },
      {
       "output_type": "stream",
       "stream": "stdout",
       "text": [
        "\n",
        "evaluating:\n",
        "  delta=0.561445319737\n",
        "  theta=4.47805452913\n",
        "  z_temp=0.379315110005\n",
        "  pow_gain=0.68439755277\n",
        "  llh: 284.576346693"
       ]
      },
      {
       "output_type": "stream",
       "stream": "stdout",
       "text": [
        "\n",
        "evaluating:\n",
        "  delta=0.560692613308\n",
        "  theta=4.47685415031\n",
        "  z_temp=0.378723819694\n",
        "  pow_gain=0.683640425265\n",
        "  llh: 284.573666975"
       ]
      },
      {
       "output_type": "stream",
       "stream": "stdout",
       "text": [
        "\n",
        "evaluating:\n",
        "  delta=0.562709179319\n",
        "  theta=4.4770301534\n",
        "  z_temp=0.378902757629\n",
        "  pow_gain=0.685311333205\n",
        "  llh: 284.572314094"
       ]
      },
      {
       "output_type": "stream",
       "stream": "stdout",
       "text": [
        "\n",
        "evaluating:\n",
        "  delta=0.563386042423\n",
        "  theta=4.47557631754\n",
        "  z_temp=0.378263485493\n",
        "  pow_gain=0.685694253147\n",
        "  llh: 284.567342063"
       ]
      },
      {
       "output_type": "stream",
       "stream": "stdout",
       "text": [
        "\n",
        "evaluating:\n",
        "  delta=0.561503305322\n",
        "  theta=4.4766510172\n",
        "  z_temp=0.378144373782\n",
        "  pow_gain=0.686172055477\n",
        "  llh: 284.56778042"
       ]
      },
      {
       "output_type": "stream",
       "stream": "stdout",
       "text": [
        "\n",
        "evaluating:\n",
        "  delta=0.56303376594\n",
        "  theta=4.47532139125\n",
        "  z_temp=0.377910789117\n",
        "  pow_gain=0.689364861574\n",
        "  llh: 284.564448854"
       ]
      },
      {
       "output_type": "stream",
       "stream": "stdout",
       "text": [
        "\n",
        "evaluating:\n",
        "  delta=0.563864840825\n",
        "  theta=4.47351812644\n",
        "  z_temp=0.377081720158\n",
        "  pow_gain=0.692631352343\n",
        "  llh: 284.558368534"
       ]
      },
      {
       "output_type": "stream",
       "stream": "stdout",
       "text": [
        "\n",
        "evaluating:\n",
        "  delta=0.56149459777\n",
        "  theta=4.4718826666\n",
        "  z_temp=0.376278946231\n",
        "  pow_gain=0.685182293782\n",
        "  llh: 284.554331136"
       ]
      },
      {
       "output_type": "stream",
       "stream": "stdout",
       "text": [
        "\n",
        "evaluating:\n",
        "  delta=0.560627495071\n",
        "  theta=4.46811543034\n",
        "  z_temp=0.37450454268\n",
        "  pow_gain=0.683330066007\n",
        "  llh: 284.544369427"
       ]
      },
      {
       "output_type": "stream",
       "stream": "stdout",
       "text": [
        "\n",
        "evaluating:\n",
        "  delta=0.563998228513\n",
        "  theta=4.47007629545\n",
        "  z_temp=0.375273241363\n",
        "  pow_gain=0.690273438223\n",
        "  llh: 284.544952704"
       ]
      },
      {
       "output_type": "stream",
       "stream": "stdout",
       "text": [
        "\n",
        "evaluating:\n",
        "  delta=0.564434998094\n",
        "  theta=4.46699206768\n",
        "  z_temp=0.374417121065\n",
        "  pow_gain=0.689792499383\n",
        "  llh: 284.538616049"
       ]
      },
      {
       "output_type": "stream",
       "stream": "stdout",
       "text": [
        "\n",
        "evaluating:\n",
        "  delta=0.56590084448\n",
        "  theta=4.46216259293\n",
        "  z_temp=0.372553494707\n",
        "  pow_gain=0.691602721336\n",
        "  llh: 284.525630493"
       ]
      },
      {
       "output_type": "stream",
       "stream": "stdout",
       "text": [
        "\n",
        "evaluating:\n",
        "  delta=0.563809662022\n",
        "  theta=4.46135990504\n",
        "  z_temp=0.37144301396\n",
        "  pow_gain=0.693224535807\n",
        "  llh: 284.519447647"
       ]
      },
      {
       "output_type": "stream",
       "stream": "stdout",
       "text": [
        "\n",
        "evaluating:\n",
        "  delta=0.564021471821\n",
        "  theta=4.45425169879\n",
        "  z_temp=0.368032778194\n",
        "  pow_gain=0.696989677137\n",
        "  llh: 284.497710514"
       ]
      },
      {
       "output_type": "stream",
       "stream": "stdout",
       "text": [
        "\n",
        "evaluating:\n",
        "  delta=0.563409179117\n",
        "  theta=4.4537848823\n",
        "  z_temp=0.368100308313\n",
        "  pow_gain=0.688466599008\n",
        "  llh: 284.496021409"
       ]
      },
      {
       "output_type": "stream",
       "stream": "stdout",
       "text": [
        "\n",
        "evaluating:\n",
        "  delta=0.563181348263\n",
        "  theta=4.44391826023\n",
        "  z_temp=0.36360960239\n",
        "  pow_gain=0.68638422234\n",
        "  llh: 284.466320526"
       ]
      },
      {
       "output_type": "stream",
       "stream": "stdout",
       "text": [
        "\n",
        "evaluating:\n",
        "  delta=0.562867351305\n",
        "  theta=4.44414769569\n",
        "  z_temp=0.364076967623\n",
        "  pow_gain=0.688879905187\n",
        "  llh: 284.469704849"
       ]
      },
      {
       "output_type": "stream",
       "stream": "stdout",
       "text": [
        "\n",
        "evaluating:\n",
        "  delta=0.567358012864\n",
        "  theta=4.43412469348\n",
        "  z_temp=0.359631878777\n",
        "  pow_gain=0.698598196994\n",
        "  llh: 284.439464679"
       ]
      },
      {
       "output_type": "stream",
       "stream": "stdout",
       "text": [
        "\n",
        "evaluating:\n",
        "  delta=0.570723271761\n",
        "  theta=4.41712932506\n",
        "  z_temp=0.352195546826\n",
        "  pow_gain=0.706232262487\n",
        "  llh: 284.394002075"
       ]
      },
      {
       "output_type": "stream",
       "stream": "stdout",
       "text": [
        "\n",
        "evaluating:\n",
        "  delta=0.564495877094\n",
        "  theta=4.41756089696\n",
        "  z_temp=0.351403952809\n",
        "  pow_gain=0.69764031224\n",
        "  llh: 284.388120657"
       ]
      },
      {
       "output_type": "stream",
       "stream": "stdout",
       "text": [
        "\n",
        "evaluating:\n",
        "  delta=0.563793393401\n",
        "  theta=4.39526004897\n",
        "  z_temp=0.340829181861\n",
        "  pow_gain=0.700659107692\n",
        "  llh: 284.327725438"
       ]
      },
      {
       "output_type": "stream",
       "stream": "stdout",
       "text": [
        "\n",
        "evaluating:\n",
        "  delta=0.566261210544\n",
        "  theta=4.39597596619\n",
        "  z_temp=0.342322871156\n",
        "  pow_gain=0.694088071716\n",
        "  llh: 284.329937046"
       ]
      },
      {
       "output_type": "stream",
       "stream": "stdout",
       "text": [
        "\n",
        "evaluating:\n",
        "  delta=0.569112260679\n",
        "  theta=4.38199410454\n",
        "  z_temp=0.335401633494\n",
        "  pow_gain=0.70480192693\n",
        "  llh: 284.291040321"
       ]
      },
      {
       "output_type": "stream",
       "stream": "stdout",
       "text": [
        "\n",
        "evaluating:\n",
        "  delta=0.572234715367\n",
        "  theta=4.35091730896\n",
        "  z_temp=0.321063966429\n",
        "  pow_gain=0.712762937801\n",
        "  llh: 284.2126796"
       ]
      },
      {
       "output_type": "stream",
       "stream": "stdout",
       "text": [
        "\n",
        "evaluating:\n",
        "  delta=0.573324947273\n",
        "  theta=4.33572306436\n",
        "  z_temp=0.314596180745\n",
        "  pow_gain=0.720486967508\n",
        "  llh: 284.180752859"
       ]
      },
      {
       "output_type": "stream",
       "stream": "stdout",
       "text": [
        "\n",
        "evaluating:\n",
        "  delta=0.578396746778\n",
        "  theta=4.28162546642\n",
        "  z_temp=0.290089469923\n",
        "  pow_gain=0.737538340091\n",
        "  llh: 284.085770454"
       ]
      },
      {
       "output_type": "stream",
       "stream": "stdout",
       "text": [
        "\n",
        "evaluating:\n",
        "  delta=0.569619761284\n",
        "  theta=4.29476007022\n",
        "  z_temp=0.294957197859\n",
        "  pow_gain=0.716291966163\n",
        "  llh: 284.080542395"
       ]
      },
      {
       "output_type": "stream",
       "stream": "stdout",
       "text": [
        "\n",
        "evaluating:\n",
        "  delta=0.569068006046\n",
        "  theta=4.2335754428\n",
        "  z_temp=0.266338023375\n",
        "  pow_gain=0.721321818001\n",
        "  llh: 283.969358861"
       ]
      },
      {
       "output_type": "stream",
       "stream": "stdout",
       "text": [
        "\n",
        "evaluating:\n",
        "  delta=0.575485220252\n",
        "  theta=4.23471316738\n",
        "  z_temp=0.266837449638\n",
        "  pow_gain=0.742053030077\n",
        "  llh: 284.005709744"
       ]
      },
      {
       "output_type": "stream",
       "stream": "stdout",
       "text": [
        "\n",
        "evaluating:\n",
        "  delta=0.58379895082\n",
        "  theta=4.15515564381\n",
        "  z_temp=0.231335272822\n",
        "  pow_gain=0.756178955294\n",
        "  llh: 283.912224638"
       ]
      },
      {
       "output_type": "stream",
       "stream": "stdout",
       "text": [
        "\n",
        "evaluating:\n",
        "  delta=0.59380172953\n",
        "  theta=4.03510344122\n",
        "  z_temp=0.176588318303\n",
        "  pow_gain=0.783938879095\n",
        "  llh: 283.875616619"
       ]
      },
      {
       "output_type": "stream",
       "stream": "stdout",
       "text": [
        "\n",
        "evaluating:\n",
        "  delta=0.586141135936\n",
        "  theta=4.04159144995\n",
        "  z_temp=0.178862664191\n",
        "  pow_gain=0.779663095831\n",
        "  llh: 283.880724441"
       ]
      },
      {
       "output_type": "stream",
       "stream": "stdout",
       "text": [
        "\n",
        "evaluating:\n",
        "  delta=0.583851299104\n",
        "  theta=3.99086628425\n",
        "  z_temp=0.154223757831\n",
        "  pow_gain=0.775950071411\n",
        "  llh: 283.853740982"
       ]
      },
      {
       "output_type": "stream",
       "stream": "stdout",
       "text": [
        "\n",
        "evaluating:\n",
        "  delta=0.586578575267\n",
        "  theta=3.84548669317\n",
        "  z_temp=0.0862909017844\n",
        "  pow_gain=0.79515593707\n",
        "  llh: 283.910302437"
       ]
      },
      {
       "output_type": "stream",
       "stream": "stdout",
       "text": [
        "\n",
        "evaluating:\n",
        "  delta=0.590945865056\n",
        "  theta=3.91585514173\n",
        "  z_temp=0.121168932212\n",
        "  pow_gain=0.788383902092\n",
        "  llh: 283.860421325"
       ]
      },
      {
       "output_type": "stream",
       "stream": "stdout",
       "text": [
        "\n",
        "evaluating:\n",
        "  delta=0.608302008767\n",
        "  theta=3.75813271578\n",
        "  z_temp=0.0490838128927\n",
        "  pow_gain=0.842646156213\n",
        "  llh: 284.028655843"
       ]
      },
      {
       "output_type": "stream",
       "stream": "stdout",
       "text": [
        "\n",
        "evaluating:\n",
        "  delta=0.578876506726\n",
        "  theta=4.11471476104\n",
        "  z_temp=0.212024470755\n",
        "  pow_gain=0.751652902554\n",
        "  llh: 283.861426076"
       ]
      },
      {
       "output_type": "stream",
       "stream": "stdout",
       "text": [
        "\n",
        "evaluating:\n",
        "  delta=0.587596564272\n",
        "  theta=3.98667836417\n",
        "  z_temp=0.153140075359\n",
        "  pow_gain=0.770299781745\n",
        "  llh: 283.820055244"
       ]
      },
      {
       "output_type": "stream",
       "stream": "stdout",
       "text": [
        "\n",
        "evaluating:\n",
        "  delta=0.588324278439\n",
        "  theta=3.95922182129\n",
        "  z_temp=0.140278780944\n",
        "  pow_gain=0.765618124702\n",
        "  llh: 283.800847451"
       ]
      },
      {
       "output_type": "stream",
       "stream": "stdout",
       "text": [
        "\n",
        "evaluating:\n",
        "  delta=0.577197245133\n",
        "  theta=3.95522556293\n",
        "  z_temp=0.137259652567\n",
        "  pow_gain=0.756863621285\n",
        "  llh: 283.80269873"
       ]
      },
      {
       "output_type": "stream",
       "stream": "stdout",
       "text": [
        "\n",
        "evaluating:\n",
        "  delta=0.59128283714\n",
        "  theta=3.79586964406\n",
        "  z_temp=0.064441091022\n",
        "  pow_gain=0.79175495719\n",
        "  llh: 283.869688167"
       ]
      },
      {
       "output_type": "stream",
       "stream": "stdout",
       "text": [
        "\n",
        "evaluating:\n",
        "  delta=0.58197808933\n",
        "  theta=4.0350034818\n",
        "  z_temp=0.175128625821\n",
        "  pow_gain=0.761678416213\n",
        "  llh: 283.824765136"
       ]
      },
      {
       "output_type": "stream",
       "stream": "stdout",
       "text": [
        "\n",
        "evaluating:\n",
        "  delta=0.574729590947\n",
        "  theta=4.05430343341\n",
        "  z_temp=0.18227647637\n",
        "  pow_gain=0.741671214713\n",
        "  llh: 283.794582241"
       ]
      },
      {
       "output_type": "stream",
       "stream": "stdout",
       "text": [
        "\n",
        "evaluating:\n",
        "  delta=0.566621453892\n",
        "  theta=4.12352757925\n",
        "  z_temp=0.212830248449\n",
        "  pow_gain=0.718314871023\n",
        "  llh: 283.816063477"
       ]
      },
      {
       "output_type": "stream",
       "stream": "stdout",
       "text": [
        "\n",
        "evaluating:\n",
        "  delta=0.57726330282\n",
        "  theta=4.01101086546\n",
        "  z_temp=0.163248010021\n",
        "  pow_gain=0.736965617046\n",
        "  llh: 283.755125907"
       ]
      },
      {
       "output_type": "stream",
       "stream": "stdout",
       "text": [
        "\n",
        "evaluating:\n",
        "  delta=0.573969304678\n",
        "  theta=4.02108315606\n",
        "  z_temp=0.167760136116\n",
        "  pow_gain=0.717473389863\n",
        "  llh: 283.733869361"
       ]
      },
      {
       "output_type": "stream",
       "stream": "stdout",
       "text": [
        "\n",
        "evaluating:\n",
        "  delta=0.575132120269\n",
        "  theta=3.95991350505\n",
        "  z_temp=0.138658897177\n",
        "  pow_gain=0.729134759068\n",
        "  llh: 283.725883762"
       ]
      },
      {
       "output_type": "stream",
       "stream": "stdout",
       "text": [
        "\n",
        "evaluating:\n",
        "  delta=0.571709135739\n",
        "  theta=3.92236851667\n",
        "  z_temp=0.120424032855\n",
        "  pow_gain=0.712862930496\n",
        "  llh: 283.707881684"
       ]
      },
      {
       "output_type": "stream",
       "stream": "stdout",
       "text": [
        "\n",
        "evaluating:\n",
        "  delta=0.577168909769\n",
        "  theta=4.02326290078\n",
        "  z_temp=0.168110060575\n",
        "  pow_gain=0.711949208602\n",
        "  llh: 283.737662923"
       ]
      },
      {
       "output_type": "stream",
       "stream": "stdout",
       "text": [
        "\n",
        "evaluating:\n",
        "  delta=0.560464192127\n",
        "  theta=4.05128718217\n",
        "  z_temp=0.179006572014\n",
        "  pow_gain=0.676360247135\n",
        "  llh: 283.751778968"
       ]
      },
      {
       "output_type": "stream",
       "stream": "stdout",
       "text": [
        "\n",
        "evaluating:\n",
        "  delta=0.566926180209\n",
        "  theta=3.95469744444\n",
        "  z_temp=0.13537392441\n",
        "  pow_gain=0.667651673335\n",
        "  llh: 283.708637522"
       ]
      },
      {
       "output_type": "stream",
       "stream": "stdout",
       "text": [
        "\n",
        "evaluating:\n",
        "  delta=0.584422573071\n",
        "  theta=3.9094188268\n",
        "  z_temp=0.116827504964\n",
        "  pow_gain=0.728608354013\n",
        "  llh: 283.726085182"
       ]
      },
      {
       "output_type": "stream",
       "stream": "stdout",
       "text": [
        "\n",
        "evaluating:\n",
        "  delta=0.57134468708\n",
        "  theta=3.8805210712\n",
        "  z_temp=0.102082738597\n",
        "  pow_gain=0.701348965251\n",
        "  llh: 283.70452064"
       ]
      },
      {
       "output_type": "stream",
       "stream": "stdout",
       "text": [
        "\n",
        "evaluating:\n",
        "  delta=0.568432575735\n",
        "  theta=3.80915015642\n",
        "  z_temp=0.0690690776079\n",
        "  pow_gain=0.696048843576\n",
        "  llh: 283.702199839"
       ]
      },
      {
       "output_type": "stream",
       "stream": "stdout",
       "text": [
        "\n",
        "evaluating:\n",
        "  delta=0.571775927699\n",
        "  theta=3.7767343161\n",
        "  z_temp=0.0530871338021\n",
        "  pow_gain=0.685112510846\n",
        "  llh: 283.713868138"
       ]
      },
      {
       "output_type": "stream",
       "stream": "stdout",
       "text": [
        "\n",
        "evaluating:\n",
        "  delta=0.55499933662\n",
        "  theta=3.82205639001\n",
        "  z_temp=0.0721495793734\n",
        "  pow_gain=0.652229625113\n",
        "  llh: 283.700349238"
       ]
      },
      {
       "output_type": "stream",
       "stream": "stdout",
       "text": [
        "\n",
        "evaluating:\n",
        "  delta=0.540287718395\n",
        "  theta=3.77837517162\n",
        "  z_temp=0.0498106165783\n",
        "  pow_gain=0.614040260663\n",
        "  llh: 283.757100546"
       ]
      },
      {
       "output_type": "stream",
       "stream": "stdout",
       "text": [
        "\n",
        "evaluating:\n",
        "  delta=0.559257686453\n",
        "  theta=3.97740193767\n",
        "  z_temp=0.145421173321\n",
        "  pow_gain=0.679284025413\n",
        "  llh: 283.721303346"
       ]
      },
      {
       "output_type": "stream",
       "stream": "stdout",
       "text": [
        "\n",
        "evaluating:\n",
        "  delta=0.568646367387\n",
        "  theta=3.8269012215\n",
        "  z_temp=0.0761706436817\n",
        "  pow_gain=0.683655389488\n",
        "  llh: 283.713463181"
       ]
      },
      {
       "output_type": "stream",
       "stream": "stdout",
       "text": [
        "\n",
        "evaluating:\n",
        "  delta=0.562387246765\n",
        "  theta=3.92723503228\n",
        "  z_temp=0.122337663441\n",
        "  pow_gain=0.680741146772\n",
        "  llh: 283.710868069"
       ]
      },
      {
       "output_type": "stream",
       "stream": "stdout",
       "text": [
        "\n",
        "evaluating:\n",
        "  delta=0.56395202692\n",
        "  theta=3.90215157958\n",
        "  z_temp=0.110795908501\n",
        "  pow_gain=0.681469707451\n",
        "  llh: 283.710104264"
       ]
      },
      {
       "output_type": "stream",
       "stream": "stdout",
       "text": [
        "\n",
        "evaluating:\n",
        "  delta=0.567081587232\n",
        "  theta=3.85198467419\n",
        "  z_temp=0.0877123986215\n",
        "  pow_gain=0.682926828809\n",
        "  llh: 283.71215017"
       ]
      },
      {
       "output_type": "stream",
       "stream": "stdout",
       "text": [
        "\n",
        "evaluating:\n",
        "  delta=0.564734416998\n",
        "  theta=3.88960985323\n",
        "  z_temp=0.105025031031\n",
        "  pow_gain=0.68183398779\n",
        "  llh: 283.710355654"
       ]
      },
      {
       "output_type": "stream",
       "stream": "stdout",
       "text": [
        "\n",
        "evaluating:\n",
        "  delta=0.561715956178\n",
        "  theta=3.81560327322\n",
        "  z_temp=0.0706093284907\n",
        "  pow_gain=0.674139234344\n",
        "  llh: 283.708820028"
       ]
      },
      {
       "output_type": "stream",
       "stream": "stdout",
       "text": [
        "\n",
        "evaluating:\n",
        "  delta=0.563354236179\n",
        "  theta=3.87221245334\n",
        "  z_temp=0.096286806114\n",
        "  pow_gain=0.682546277804\n",
        "  llh: 283.70690663"
       ]
      },
      {
       "output_type": "stream",
       "stream": "stdout",
       "text": [
        "\n",
        "evaluating:\n",
        "  delta=0.560962758415\n",
        "  theta=3.88837691723\n",
        "  z_temp=0.103761751891\n",
        "  pow_gain=0.659940649224\n",
        "  llh: 283.696944775"
       ]
      },
      {
       "output_type": "stream",
       "stream": "stdout",
       "text": [
        "\n",
        "evaluating:\n",
        "  delta=0.55947568177\n",
        "  theta=3.8621039848\n",
        "  z_temp=0.0914727439373\n",
        "  pow_gain=0.666849666282\n",
        "  llh: 283.704587135"
       ]
      },
      {
       "output_type": "stream",
       "stream": "stdout",
       "text": [
        "\n",
        "evaluating:\n",
        "  delta=0.557680050315\n",
        "  theta=3.90677159948\n",
        "  z_temp=0.111226112167\n",
        "  pow_gain=0.656643874868\n",
        "  llh: 283.699125798"
       ]
      },
      {
       "output_type": "stream",
       "stream": "stdout",
       "text": [
        "\n",
        "evaluating:\n",
        "  delta=0.553204677381\n",
        "  theta=3.86744199241\n",
        "  z_temp=0.0930182875708\n",
        "  pow_gain=0.635285629939\n",
        "  llh: 283.712102547"
       ]
      },
      {
       "output_type": "stream",
       "stream": "stdout",
       "text": [
        "\n",
        "evaluating:\n",
        "  delta=0.56081684648\n",
        "  theta=3.87101983811\n",
        "  z_temp=0.0954696764782\n",
        "  pow_gain=0.670731115838\n",
        "  llh: 283.70649595"
       ]
      },
      {
       "output_type": "stream",
       "stream": "stdout",
       "text": [
        "\n",
        "evaluating:\n",
        "  delta=0.55574206708\n",
        "  theta=3.86863460765\n",
        "  z_temp=0.0938354172066\n",
        "  pow_gain=0.647100791905\n",
        "  llh: 283.695231687"
       ]
      },
      {
       "output_type": "stream",
       "stream": "stdout",
       "text": [
        "\n",
        "evaluating:\n",
        "  delta=0.553204677381\n",
        "  theta=3.86744199241\n",
        "  z_temp=0.0930182875708\n",
        "  pow_gain=0.635285629939\n",
        "  llh: 283.712102547"
       ]
      },
      {
       "output_type": "stream",
       "stream": "stdout",
       "text": [
        "\n",
        "evaluating:\n",
        "  delta=0.555216424445\n",
        "  theta=3.88081577238\n",
        "  z_temp=0.0990136863822\n",
        "  pow_gain=0.641107804273\n",
        "  llh: 283.704226703"
       ]
      },
      {
       "output_type": "stream",
       "stream": "stdout",
       "text": [
        "\n",
        "evaluating:\n",
        "  delta=0.556281238776\n",
        "  theta=3.87613782549\n",
        "  z_temp=0.0971284507709\n",
        "  pow_gain=0.647543269775\n",
        "  llh: 283.695051083"
       ]
      },
      {
       "output_type": "stream",
       "stream": "stdout",
       "text": [
        "\n",
        "evaluating:\n",
        "  delta=0.560333720673\n",
        "  theta=3.9479040849\n",
        "  z_temp=0.130826286645\n",
        "  pow_gain=0.653384667773\n",
        "  llh: 283.701763259"
       ]
      },
      {
       "output_type": "stream",
       "stream": "stdout",
       "text": [
        "\n",
        "evaluating:\n",
        "  delta=0.556332932634\n",
        "  theta=3.85351831374\n",
        "  z_temp=0.0868187561913\n",
        "  pow_gain=0.652518385778\n",
        "  llh: 283.697537838"
       ]
      },
      {
       "output_type": "stream",
       "stream": "stdout",
       "text": [
        "\n",
        "evaluating:\n",
        "  delta=0.556979448138\n",
        "  theta=3.83656223257\n",
        "  z_temp=0.0795460758627\n",
        "  pow_gain=0.646907673474\n",
        "  llh: 283.696979298"
       ]
      },
      {
       "output_type": "stream",
       "stream": "stdout",
       "text": [
        "\n",
        "evaluating:\n",
        "  delta=0.558649823571\n",
        "  theta=3.88133747773\n",
        "  z_temp=0.100317091675\n",
        "  pow_gain=0.648227806411\n",
        "  llh: 283.699612981"
       ]
      },
      {
       "output_type": "stream",
       "stream": "stdout",
       "text": [
        "\n",
        "evaluating:\n",
        "  delta=0.556912155368\n",
        "  theta=3.86047310473\n",
        "  z_temp=0.0901933400621\n",
        "  pow_gain=0.651445740937\n",
        "  llh: 283.69547182"
       ]
      },
      {
       "output_type": "stream",
       "stream": "stdout",
       "text": [
        "\n",
        "evaluating:\n",
        "  delta=0.557969661682\n",
        "  theta=3.91024899497\n",
        "  z_temp=0.112913404103\n",
        "  pow_gain=0.656107552447\n",
        "  llh: 283.698177309"
       ]
      },
      {
       "output_type": "stream",
       "stream": "stdout",
       "text": [
        "\n",
        "evaluating:\n",
        "  delta=0.557227001524\n",
        "  theta=3.85498392317\n",
        "  z_temp=0.0878879079227\n",
        "  pow_gain=0.649207643217\n",
        "  llh: 283.69467629"
       ]
      },
      {
       "output_type": "stream",
       "stream": "stdout",
       "text": [
        "\n",
        "evaluating:\n",
        "  delta=0.552118472959\n",
        "  theta=3.84173781329\n",
        "  z_temp=0.0807608060897\n",
        "  pow_gain=0.637708073693\n",
        "  llh: 283.705789213"
       ]
      },
      {
       "output_type": "stream",
       "stream": "stdout",
       "text": [
        "\n",
        "evaluating:\n",
        "  delta=0.558751687051\n",
        "  theta=3.87671714124\n",
        "  z_temp=0.098011515441\n",
        "  pow_gain=0.654382505341\n",
        "  llh: 283.694971876"
       ]
      },
      {
       "output_type": "stream",
       "stream": "stdout",
       "text": [
        "\n",
        "evaluating:\n",
        "  delta=0.557088841848\n",
        "  theta=3.87776364404\n",
        "  z_temp=0.0982383056085\n",
        "  pow_gain=0.647671364183\n",
        "  llh: 283.696248216"
       ]
      },
      {
       "output_type": "stream",
       "stream": "stdout",
       "text": [
        "\n",
        "evaluating:\n",
        "  delta=0.556956326988\n",
        "  theta=3.86479573956\n",
        "  z_temp=0.0922045814487\n",
        "  pow_gain=0.650502146748\n",
        "  llh: 283.694743786"
       ]
      },
      {
       "output_type": "stream",
       "stream": "stdout",
       "text": [
        "\n",
        "evaluating:\n",
        "  delta=0.558866060089\n",
        "  theta=3.86768270709\n",
        "  z_temp=0.0937808105851\n",
        "  pow_gain=0.653716990636\n",
        "  llh: 283.694576022"
       ]
      },
      {
       "output_type": "stream",
       "stream": "stdout",
       "text": [
        "\n",
        "evaluating:\n",
        "  delta=0.560428056594\n",
        "  theta=3.86720675681\n",
        "  z_temp=0.0937535072744\n",
        "  pow_gain=0.657025090001\n",
        "  llh: 283.695398021"
       ]
      },
      {
       "output_type": "stream",
       "stream": "stdout",
       "text": [
        "\n",
        "evaluating:\n",
        "  delta=0.55961929905\n",
        "  theta=3.85595193004\n",
        "  z_temp=0.0888139569278\n",
        "  pow_gain=0.656361373196\n",
        "  llh: 283.695160854"
       ]
      },
      {
       "output_type": "stream",
       "stream": "stdout",
       "text": [
        "\n",
        "evaluating:\n",
        "  delta=0.557115753845\n",
        "  theta=3.87109135163\n",
        "  z_temp=0.0950498273102\n",
        "  pow_gain=0.649747795631\n",
        "  llh: 283.694453233"
       ]
      },
      {
       "output_type": "stream",
       "stream": "stdout",
       "text": [
        "\n",
        "evaluating:\n",
        "  delta=0.556330884172\n",
        "  theta=3.85255971948\n",
        "  z_temp=0.0864500481923\n",
        "  pow_gain=0.647204782774\n",
        "  llh: 283.695162395"
       ]
      },
      {
       "output_type": "stream",
       "stream": "stdout",
       "text": [
        "\n",
        "evaluating:\n",
        "  delta=0.558146486331\n",
        "  theta=3.8706777858\n",
        "  z_temp=0.0951211486288\n",
        "  pow_gain=0.6525880747\n",
        "  llh: 283.694415157"
       ]
      },
      {
       "output_type": "stream",
       "stream": "stdout",
       "text": [
        "\n",
        "evaluating:\n",
        "  delta=0.558721323907\n",
        "  theta=3.86742214428\n",
        "  z_temp=0.0937152657747\n",
        "  pow_gain=0.652128105343\n",
        "  llh: 283.695205426"
       ]
      },
      {
       "output_type": "stream",
       "stream": "stdout",
       "text": [
        "\n",
        "evaluating:\n",
        "  delta=0.557397576218\n",
        "  theta=3.86545234074\n",
        "  z_temp=0.0925822525302\n",
        "  pow_gain=0.650908636397\n",
        "  llh: 283.694357276"
       ]
      },
      {
       "output_type": "stream",
       "stream": "stdout",
       "text": [
        "\n",
        "evaluating:\n",
        "  delta=0.558535936717\n",
        "  theta=3.88246816945\n",
        "  z_temp=0.100379111604\n",
        "  pow_gain=0.654273105464\n",
        "  llh: 283.695195419"
       ]
      },
      {
       "output_type": "stream",
       "stream": "stdout",
       "text": [
        "\n",
        "evaluating:\n",
        "  delta=0.557554235322\n",
        "  theta=3.86185498474\n",
        "  z_temp=0.0910107088432\n",
        "  pow_gain=0.650474008779\n",
        "  llh: 283.694392619"
       ]
      },
      {
       "output_type": "stream",
       "stream": "stdout",
       "text": [
        "\n",
        "evaluating:\n",
        "  delta=0.556240965769\n",
        "  theta=3.86685552437\n",
        "  z_temp=0.0931011580711\n",
        "  pow_gain=0.648142267117\n",
        "  llh: 283.694762134"
       ]
      },
      {
       "output_type": "stream",
       "stream": "stdout",
       "text": [
        "\n",
        "evaluating:\n",
        "  delta=0.558209786509\n",
        "  theta=3.86747591141\n",
        "  z_temp=0.0936108974566\n",
        "  pow_gain=0.652323309756\n",
        "  llh: 283.694316583"
       ]
      },
      {
       "output_type": "stream",
       "stream": "stdout",
       "text": [
        "\n",
        "evaluating:\n",
        "  delta=0.558538288345\n",
        "  theta=3.86163915972\n",
        "  z_temp=0.0911126764192\n",
        "  pow_gain=0.653399219185\n",
        "  llh: 283.69440861"
       ]
      },
      {
       "output_type": "stream",
       "stream": "stdout",
       "text": [
        "\n",
        "evaluating:\n",
        "  delta=0.557703456866\n",
        "  theta=3.8575334125\n",
        "  z_temp=0.0890371189958\n",
        "  pow_gain=0.650964512359\n",
        "  llh: 283.694256327"
       ]
      },
      {
       "output_type": "stream",
       "stream": "stdout",
       "text": [
        "\n",
        "evaluating:\n",
        "  delta=0.557481942133\n",
        "  theta=3.85096122585\n",
        "  z_temp=0.0859951041792\n",
        "  pow_gain=0.650152731189\n",
        "  llh: 283.694402118"
       ]
      },
      {
       "output_type": "stream",
       "stream": "stdout",
       "text": [
        "\n",
        "evaluating:\n",
        "  delta=0.556894239112\n",
        "  theta=3.86451916498\n",
        "  z_temp=0.0920078124936\n",
        "  pow_gain=0.64893601446\n",
        "  llh: 283.694588688"
       ]
      },
      {
       "output_type": "stream",
       "stream": "stdout",
       "text": [
        "\n",
        "evaluating:\n",
        "  delta=0.558127276037\n",
        "  theta=3.86235916103\n",
        "  z_temp=0.0913364604378\n",
        "  pow_gain=0.652283418004\n",
        "  llh: 283.694178686"
       ]
      },
      {
       "output_type": "stream",
       "stream": "stdout",
       "text": [
        "\n",
        "evaluating:\n",
        "  delta=0.558164812493\n",
        "  theta=3.8645554281\n",
        "  z_temp=0.092272655867\n",
        "  pow_gain=0.652765929479\n",
        "  llh: 283.694413281"
       ]
      },
      {
       "output_type": "stream",
       "stream": "stdout",
       "text": [
        "\n",
        "evaluating:\n",
        "  delta=0.557706879615\n",
        "  theta=3.86253009558\n",
        "  z_temp=0.0913261955991\n",
        "  pow_gain=0.651046988954\n",
        "  llh: 283.694264689"
       ]
      },
      {
       "output_type": "stream",
       "stream": "stdout",
       "text": [
        "\n",
        "evaluating:\n",
        "  delta=0.558476123296\n",
        "  theta=3.85949694952\n",
        "  z_temp=0.0900730837144\n",
        "  pow_gain=0.65240047814\n",
        "  llh: 283.694595023"
       ]
      },
      {
       "output_type": "stream",
       "stream": "stdout",
       "text": [
        "\n",
        "evaluating:\n",
        "  delta=0.557667212987\n",
        "  theta=3.86396349294\n",
        "  z_temp=0.0919549603263\n",
        "  pow_gain=0.651281596833\n",
        "  llh: 283.694176241"
       ]
      },
      {
       "output_type": "stream",
       "stream": "stdout",
       "text": [
        "\n",
        "evaluating:\n",
        "  delta=0.557392626243\n",
        "  theta=3.85571716962\n",
        "  z_temp=0.0882164702229\n",
        "  pow_gain=0.650464948319\n",
        "  llh: 283.694196204"
       ]
      },
      {
       "output_type": "stream",
       "stream": "stdout",
       "text": [
        "\n",
        "evaluating:\n",
        "  delta=0.557738406452\n",
        "  theta=3.85725652247\n",
        "  z_temp=0.0889463093922\n",
        "  pow_gain=0.651450248803\n",
        "  llh: 283.694113802"
       ]
      },
      {
       "output_type": "stream",
       "stream": "stdout",
       "text": [
        "\n",
        "evaluating:\n",
        "  delta=0.557754169871\n",
        "  theta=3.85461973591\n",
        "  z_temp=0.0877563662888\n",
        "  pow_gain=0.651651878728\n",
        "  llh: 283.694189964"
       ]
      },
      {
       "output_type": "stream",
       "stream": "stdout",
       "text": [
        "\n",
        "evaluating:\n",
        "  delta=0.557759303994\n",
        "  theta=3.86211476053\n",
        "  z_temp=0.0911899811939\n",
        "  pow_gain=0.65177559362\n",
        "  llh: 283.694317617"
       ]
      },
      {
       "output_type": "stream",
       "stream": "stdout",
       "text": [
        "\n",
        "evaluating:\n",
        "  delta=0.557717418648\n",
        "  theta=3.85867874951\n",
        "  z_temp=0.0895753345453\n",
        "  pow_gain=0.651167282674\n",
        "  llh: 283.694182761"
       ]
      },
      {
       "output_type": "stream",
       "stream": "stdout",
       "text": [
        "\n",
        "evaluating:\n",
        "  delta=0.558232530819\n",
        "  theta=3.86541179335\n",
        "  z_temp=0.0926900621279\n",
        "  pow_gain=0.652626324838\n",
        "  llh: 283.694295932"
       ]
      },
      {
       "output_type": "stream",
       "stream": "stdout",
       "text": [
        "\n",
        "evaluating:\n",
        "  delta=0.557602602387\n",
        "  theta=3.85814082555\n",
        "  z_temp=0.0893348681991\n",
        "  pow_gain=0.651005292449\n",
        "  llh: 283.694055831"
       ]
      },
      {
       "output_type": "stream",
       "stream": "stdout",
       "text": [
        "\n",
        "evaluating:\n",
        "  delta=0.557850330284\n",
        "  theta=3.86218125149\n",
        "  z_temp=0.0912109646325\n",
        "  pow_gain=0.65184299537\n",
        "  llh: 283.694230206"
       ]
      },
      {
       "output_type": "stream",
       "stream": "stdout",
       "text": [
        "\n",
        "evaluating:\n",
        "  delta=0.557750646557\n",
        "  theta=3.859554375\n",
        "  z_temp=0.0899842420671\n",
        "  pow_gain=0.651336210848\n",
        "  llh: 283.694049737"
       ]
      },
      {
       "output_type": "stream",
       "stream": "stdout",
       "text": [
        "\n",
        "evaluating:\n",
        "  delta=0.557252158155\n",
        "  theta=3.85709844695\n",
        "  z_temp=0.0887737295545\n",
        "  pow_gain=0.650253256462\n",
        "  llh: 283.694118913"
       ]
      },
      {
       "output_type": "stream",
       "stream": "stdout",
       "text": [
        "\n",
        "evaluating:\n",
        "  delta=0.557504693788\n",
        "  theta=3.85206159205\n",
        "  z_temp=0.0865646142802\n",
        "  pow_gain=0.650740907449\n",
        "  llh: 283.694141892"
       ]
      },
      {
       "output_type": "stream",
       "stream": "stdout",
       "text": [
        "\n",
        "evaluating:\n",
        "  delta=0.557545323588\n",
        "  theta=3.85503706727\n",
        "  z_temp=0.0879122007917\n",
        "  pow_gain=0.650876079795\n",
        "  llh: 283.694039511"
       ]
      },
      {
       "output_type": "stream",
       "stream": "stdout",
       "text": [
        "\n",
        "evaluating:\n",
        "  delta=0.558066331337\n",
        "  theta=3.8578959482\n",
        "  z_temp=0.0893150806706\n",
        "  pow_gain=0.652080659485\n",
        "  llh: 283.694088621"
       ]
      },
      {
       "output_type": "stream",
       "stream": "stdout",
       "text": [
        "\n",
        "evaluating:\n",
        "  delta=0.557744045483\n",
        "  theta=3.85805758555\n",
        "  z_temp=0.089326886472\n",
        "  pow_gain=0.651198872485\n",
        "  llh: 283.694188119"
       ]
      },
      {
       "output_type": "stream",
       "stream": "stdout",
       "text": [
        "\n",
        "evaluating:\n",
        "  delta=0.55773981621\n",
        "  theta=3.85745678824\n",
        "  z_temp=0.0890414536622\n",
        "  pow_gain=0.651387404724\n",
        "  llh: 283.694077195"
       ]
      },
      {
       "output_type": "stream",
       "stream": "stdout",
       "text": [
        "\n",
        "evaluating:\n",
        "  delta=0.557252863033\n",
        "  theta=3.85719857983\n",
        "  z_temp=0.0888213016895\n",
        "  pow_gain=0.650221834423\n",
        "  llh: 283.694101544"
       ]
      },
      {
       "output_type": "stream",
       "stream": "stdout",
       "text": [
        "\n",
        "evaluating:\n",
        "  delta=0.557862964261\n",
        "  theta=3.85772160611\n",
        "  z_temp=0.0891916359253\n",
        "  pow_gain=0.65161595322\n",
        "  llh: 283.694040412"
       ]
      },
      {
       "output_type": "stream",
       "stream": "stdout",
       "text": [
        "\n",
        "evaluating:\n",
        "  delta=0.557640952187\n",
        "  theta=3.85777014873\n",
        "  z_temp=0.0891700198294\n",
        "  pow_gain=0.651029363432\n",
        "  llh: 283.694169864"
       ]
      },
      {
       "output_type": "stream",
       "stream": "stdout",
       "text": [
        "\n",
        "evaluating:\n",
        "  delta=0.557715100204\n",
        "  theta=3.85753512836\n",
        "  z_temp=0.089073595204\n",
        "  pow_gain=0.651297894401\n",
        "  llh: 283.694060806"
       ]
      },
      {
       "output_type": "stream",
       "stream": "stdout",
       "text": [
        "\n",
        "evaluating:\n",
        "  delta=0.557665668193\n",
        "  theta=3.85769180861\n",
        "  z_temp=0.0891378782876\n",
        "  pow_gain=0.651118873755\n",
        "  llh: 283.694028717"
       ]
      },
      {
       "output_type": "stream",
       "stream": "stdout",
       "text": [
        "\n",
        "evaluating:\n",
        "  delta=0.557640952187\n",
        "  theta=3.85777014873\n",
        "  z_temp=0.0891700198294\n",
        "  pow_gain=0.651029363432\n",
        "  llh: 283.694169864"
       ]
      },
      {
       "output_type": "stream",
       "stream": "stdout",
       "text": [
        "\n",
        "evaluating:\n",
        "  delta=0.557809698912\n",
        "  theta=3.85686160294\n",
        "  z_temp=0.0887781103367\n",
        "  pow_gain=0.65146826636\n",
        "  llh: 283.694021933"
       ]
      },
      {
       "output_type": "stream",
       "stream": "stdout",
       "text": [
        "\n",
        "evaluating:\n",
        "  delta=0.557913247175\n",
        "  theta=3.85622199163\n",
        "  z_temp=0.0884997314055\n",
        "  pow_gain=0.651699753316\n",
        "  llh: 283.694007572"
       ]
      },
      {
       "output_type": "stream",
       "stream": "stdout",
       "text": [
        "\n",
        "evaluating:\n",
        "  delta=0.557742955052\n",
        "  theta=3.85378186181\n",
        "  z_temp=0.087386481138\n",
        "  pow_gain=0.651319119194\n",
        "  llh: 283.694007384"
       ]
      },
      {
       "output_type": "stream",
       "stream": "stdout",
       "text": [
        "\n",
        "evaluating:\n",
        "  delta=0.557739109299\n",
        "  theta=3.85089560521\n",
        "  z_temp=0.0860876006735\n",
        "  pow_gain=0.651310573367\n",
        "  llh: 283.693990318"
       ]
      },
      {
       "output_type": "stream",
       "stream": "stdout",
       "text": [
        "\n",
        "evaluating:\n",
        "  delta=0.557568709866\n",
        "  theta=3.85220163025\n",
        "  z_temp=0.0866270696539\n",
        "  pow_gain=0.650886686896\n",
        "  llh: 283.694131973"
       ]
      },
      {
       "output_type": "stream",
       "stream": "stdout",
       "text": [
        "\n",
        "evaluating:\n",
        "  delta=0.557789400663\n",
        "  theta=3.85634161214\n",
        "  z_temp=0.0885504943575\n",
        "  pow_gain=0.651433636639\n",
        "  llh: 283.69402645"
       ]
      },
      {
       "output_type": "stream",
       "stream": "stdout",
       "text": [
        "\n",
        "evaluating:\n",
        "  delta=0.558008389076\n",
        "  theta=3.85553844153\n",
        "  z_temp=0.0882256515703\n",
        "  pow_gain=0.651905338743\n",
        "  llh: 283.694032104"
       ]
      },
      {
       "output_type": "stream",
       "stream": "stdout",
       "text": [
        "\n",
        "evaluating:\n",
        "  delta=0.557892622704\n",
        "  theta=3.85541309796\n",
        "  z_temp=0.0881472888757\n",
        "  pow_gain=0.651648024006\n",
        "  llh: 283.694000482"
       ]
      },
      {
       "output_type": "stream",
       "stream": "stdout",
       "text": [
        "\n",
        "evaluating:\n",
        "  delta=0.558001521728\n",
        "  theta=3.85174434487\n",
        "  z_temp=0.0865046793684\n",
        "  pow_gain=0.651927119909\n",
        "  llh: 283.694023498"
       ]
      },
      {
       "output_type": "stream",
       "stream": "stdout",
       "text": [
        "\n",
        "evaluating:\n",
        "  delta=0.55798384979\n",
        "  theta=3.85079590769\n",
        "  z_temp=0.0860691558041\n",
        "  pow_gain=0.65185909866\n",
        "  llh: 283.693967845"
       ]
      },
      {
       "output_type": "stream",
       "stream": "stdout",
       "text": [
        "\n",
        "evaluating:\n",
        "  delta=0.558081074354\n",
        "  theta=3.84802305547\n",
        "  z_temp=0.0848284865274\n",
        "  pow_gain=0.65207182967\n",
        "  llh: 283.694008942"
       ]
      },
      {
       "output_type": "stream",
       "stream": "stdout",
       "text": [
        "\n",
        "evaluating:\n",
        "  delta=0.557762892757\n",
        "  theta=3.85491895638\n",
        "  z_temp=0.087897209011\n",
        "  pow_gain=0.651331604765\n",
        "  llh: 283.693994373"
       ]
      },
      {
       "output_type": "stream",
       "stream": "stdout",
       "text": [
        "\n",
        "evaluating:\n",
        "  delta=0.5577759901\n",
        "  theta=3.84978979199\n",
        "  z_temp=0.0856008957766\n",
        "  pow_gain=0.651374897084\n",
        "  llh: 283.693969915"
       ]
      },
      {
       "output_type": "stream",
       "stream": "stdout",
       "text": [
        "\n",
        "evaluating:\n",
        "  delta=0.557738298269\n",
        "  theta=3.84778703267\n",
        "  z_temp=0.0846801417569\n",
        "  pow_gain=0.651290062932\n",
        "  llh: 283.693963374"
       ]
      },
      {
       "output_type": "stream",
       "stream": "stdout",
       "text": [
        "\n",
        "evaluating:\n",
        "  delta=0.557661136051\n",
        "  theta=3.84397400003\n",
        "  z_temp=0.0829465681975\n",
        "  pow_gain=0.651111082394\n",
        "  llh: 283.693952123"
       ]
      },
      {
       "output_type": "stream",
       "stream": "stdout",
       "text": [
        "\n",
        "evaluating:\n",
        "  delta=0.557817149863\n",
        "  theta=3.84280869608\n",
        "  z_temp=0.0824549012149\n",
        "  pow_gain=0.651496220987\n",
        "  llh: 283.693951211"
       ]
      },
      {
       "output_type": "stream",
       "stream": "stdout",
       "text": [
        "\n",
        "evaluating:\n",
        "  delta=0.557844278417\n",
        "  theta=3.83675356592\n",
        "  z_temp=0.0797337473169\n",
        "  pow_gain=0.651578529098\n",
        "  llh: 283.693942212"
       ]
      },
      {
       "output_type": "stream",
       "stream": "stdout",
       "text": [
        "\n",
        "evaluating:\n",
        "  delta=0.55789351788\n",
        "  theta=3.83976102761\n",
        "  z_temp=0.0810875828741\n",
        "  pow_gain=0.651651230251\n",
        "  llh: 283.693924543"
       ]
      },
      {
       "output_type": "stream",
       "stream": "stdout",
       "text": [
        "\n",
        "evaluating:\n",
        "  delta=0.557970722171\n",
        "  theta=3.83419373881\n",
        "  z_temp=0.0785875739744\n",
        "  pow_gain=0.651821558693\n",
        "  llh: 283.693901986"
       ]
      },
      {
       "output_type": "stream",
       "stream": "stdout",
       "text": [
        "\n",
        "evaluating:\n",
        "  delta=0.557954003114\n",
        "  theta=3.83306881424\n",
        "  z_temp=0.0780676268699\n",
        "  pow_gain=0.651810237339\n",
        "  llh: 283.69391607"
       ]
      },
      {
       "output_type": "stream",
       "stream": "stdout",
       "text": [
        "\n",
        "evaluating:\n",
        "  delta=0.557731220086\n",
        "  theta=3.82319915181\n",
        "  z_temp=0.0735986023752\n",
        "  pow_gain=0.651301605102\n",
        "  llh: 283.693916132"
       ]
      },
      {
       "output_type": "stream",
       "stream": "stdout",
       "text": [
        "\n",
        "evaluating:\n",
        "  delta=0.558088975843\n",
        "  theta=3.81963363536\n",
        "  z_temp=0.0720472070706\n",
        "  pow_gain=0.652144882722\n",
        "  llh: 283.693969849"
       ]
      },
      {
       "output_type": "stream",
       "stream": "stdout",
       "text": [
        "\n",
        "evaluating:\n",
        "  delta=0.557768095999\n",
        "  theta=3.83788890886\n",
        "  z_temp=0.0802217279158\n",
        "  pow_gain=0.651369532476\n",
        "  llh: 283.693930544"
       ]
      },
      {
       "output_type": "stream",
       "stream": "stdout",
       "text": [
        "\n",
        "evaluating:\n",
        "  delta=0.557867742268\n",
        "  theta=3.82742174093\n",
        "  z_temp=0.0755040182507\n",
        "  pow_gain=0.651572937708\n",
        "  llh: 283.693887742"
       ]
      },
      {
       "output_type": "stream",
       "stream": "stdout",
       "text": [
        "\n",
        "evaluating:\n",
        "  delta=0.557879474194\n",
        "  theta=3.82275582843\n",
        "  z_temp=0.0733891537177\n",
        "  pow_gain=0.651570142013\n",
        "  llh: 283.694011934"
       ]
      },
      {
       "output_type": "stream",
       "stream": "stdout",
       "text": [
        "\n",
        "evaluating:\n",
        "  delta=0.557993747821\n",
        "  theta=3.82105281403\n",
        "  z_temp=0.0726571828193\n",
        "  pow_gain=0.651883636945\n",
        "  llh: 283.693921203"
       ]
      },
      {
       "output_type": "stream",
       "stream": "stdout",
       "text": [
        "\n",
        "evaluating:\n",
        "  delta=0.557937334865\n",
        "  theta=3.82526183774\n",
        "  z_temp=0.0745483190934\n",
        "  pow_gain=0.651755110828\n",
        "  llh: 283.693894181"
       ]
      },
      {
       "output_type": "stream",
       "stream": "stdout",
       "text": [
        "\n",
        "evaluating:\n",
        "  delta=0.558133681123\n",
        "  theta=3.83677391405\n",
        "  z_temp=0.079755166719\n",
        "  pow_gain=0.652178317181\n",
        "  llh: 283.693976997"
       ]
      },
      {
       "output_type": "stream",
       "stream": "stdout",
       "text": [
        "\n",
        "evaluating:\n",
        "  delta=0.557831835345\n",
        "  theta=3.82659284237\n",
        "  z_temp=0.0751377434612\n",
        "  pow_gain=0.651520783122\n",
        "  llh: 283.693906341"
       ]
      },
      {
       "output_type": "stream",
       "stream": "stdout",
       "text": [
        "\n",
        "evaluating:\n",
        "  delta=0.557849814211\n",
        "  theta=3.82366626568\n",
        "  z_temp=0.07382120052\n",
        "  pow_gain=0.651524957836\n",
        "  llh: 283.693880139"
       ]
      },
      {
       "output_type": "stream",
       "stream": "stdout",
       "text": [
        "\n",
        "evaluating:\n",
        "  delta=0.557797719759\n",
        "  theta=3.81896499141\n",
        "  z_temp=0.071697987345\n",
        "  pow_gain=0.651382318085\n",
        "  llh: 283.694019504"
       ]
      },
      {
       "output_type": "stream",
       "stream": "stdout",
       "text": [
        "\n",
        "evaluating:\n",
        "  delta=0.557980971412\n",
        "  theta=3.82867894921\n",
        "  z_temp=0.0760928124581\n",
        "  pow_gain=0.65181649941\n",
        "  llh: 283.693908445"
       ]
      },
      {
       "output_type": "stream",
       "stream": "stdout",
       "text": [
        "\n",
        "evaluating:\n",
        "  delta=0.557869119362\n",
        "  theta=3.82711436908\n",
        "  z_temp=0.0753765107104\n",
        "  pow_gain=0.651594712194\n",
        "  llh: 283.693898045"
       ]
      },
      {
       "output_type": "stream",
       "stream": "stdout",
       "text": [
        "\n",
        "evaluating:\n",
        "  delta=0.557791283182\n",
        "  theta=3.81753836791\n",
        "  z_temp=0.0710374503129\n",
        "  pow_gain=0.65140230059\n",
        "  llh: 283.693885265"
       ]
      },
      {
       "output_type": "stream",
       "stream": "stdout",
       "text": [
        "\n",
        "evaluating:\n",
        "  delta=0.557853967901\n",
        "  theta=3.81982973705\n",
        "  z_temp=0.0720789833781\n",
        "  pow_gain=0.651532941286\n",
        "  llh: 283.693875214"
       ]
      },
      {
       "output_type": "stream",
       "stream": "stdout",
       "text": [
        "\n",
        "evaluating:\n",
        "  delta=0.55784639217\n",
        "  theta=3.81618742104\n",
        "  z_temp=0.070430219712\n",
        "  pow_gain=0.651502055833\n",
        "  llh: 283.694007179"
       ]
      },
      {
       "output_type": "stream",
       "stream": "stdout",
       "text": [
        "\n",
        "evaluating:\n",
        "  delta=0.557744068916\n",
        "  theta=3.81896621805\n",
        "  z_temp=0.0716725071374\n",
        "  pow_gain=0.651261457882\n",
        "  llh: 283.694026092"
       ]
      },
      {
       "output_type": "stream",
       "stream": "stdout",
       "text": [
        "\n",
        "evaluating:\n",
        "  delta=0.557889018378\n",
        "  theta=3.82368793282\n",
        "  z_temp=0.0738293661044\n",
        "  pow_gain=0.651631697591\n",
        "  llh: 283.693887526"
       ]
      },
      {
       "output_type": "stream",
       "stream": "stdout",
       "text": [
        "\n",
        "evaluating:\n",
        "  delta=0.557824299568\n",
        "  theta=3.8149394108\n",
        "  z_temp=0.069879481907\n",
        "  pow_gain=0.651473010944\n",
        "  llh: 283.693878408"
       ]
      },
      {
       "output_type": "stream",
       "stream": "stdout",
       "text": [
        "\n",
        "evaluating:\n",
        "  delta=0.557770664053\n",
        "  theta=3.81429895791\n",
        "  z_temp=0.0695791919545\n",
        "  pow_gain=0.651334907737\n",
        "  llh: 283.694013365"
       ]
      },
      {
       "output_type": "stream",
       "stream": "stdout",
       "text": [
        "\n",
        "evaluating:\n",
        "  delta=0.557859429797\n",
        "  theta=3.82134068909\n",
        "  z_temp=0.0727668225669\n",
        "  pow_gain=0.651557500128\n",
        "  llh: 283.693883193"
       ]
      },
      {
       "output_type": "stream",
       "stream": "stdout",
       "text": [
        "\n",
        "evaluating:\n",
        "  delta=0.557902472556\n",
        "  theta=3.8223496834\n",
        "  z_temp=0.0732357938731\n",
        "  pow_gain=0.651641904508\n",
        "  llh: 283.693873363"
       ]
      },
      {
       "output_type": "stream",
       "stream": "stdout",
       "text": [
        "\n",
        "evaluating:\n",
        "  delta=0.557958067243\n",
        "  theta=3.82475534115\n",
        "  z_temp=0.0743349656532\n",
        "  pow_gain=0.651761706467\n",
        "  llh: 283.693999649"
       ]
      },
      {
       "output_type": "stream",
       "stream": "stdout",
       "text": [
        "\n",
        "evaluating:\n",
        "  delta=0.557855847321\n",
        "  theta=3.81905185938\n",
        "  z_temp=0.0717409072721\n",
        "  pow_gain=0.651528907159\n",
        "  llh: 283.694005648"
       ]
      },
      {
       "output_type": "stream",
       "stream": "stdout",
       "text": [
        "\n",
        "evaluating:\n",
        "  delta=0.557858534178\n",
        "  theta=3.82076848166\n",
        "  z_temp=0.0725103437432\n",
        "  pow_gain=0.651550351886\n",
        "  llh: 283.693879775"
       ]
      },
      {
       "output_type": "stream",
       "stream": "stdout",
       "text": [
        "\n",
        "evaluating:\n",
        "  delta=0.557869822891\n",
        "  theta=3.81527739077\n",
        "  z_temp=0.0700311009307\n",
        "  pow_gain=0.651574146476\n",
        "  llh: 283.693873783"
       ]
      },
      {
       "output_type": "stream",
       "stream": "stdout",
       "text": [
        "\n",
        "evaluating:\n",
        "  delta=0.55786674728\n",
        "  theta=3.81542962935\n",
        "  z_temp=0.0701023363012\n",
        "  pow_gain=0.651560649721\n",
        "  llh: 283.693870336"
       ]
      },
      {
       "output_type": "stream",
       "stream": "stdout",
       "text": [
        "\n",
        "evaluating:\n",
        "  delta=0.557870853831\n",
        "  theta=3.8127602032\n",
        "  z_temp=0.0688983325802\n",
        "  pow_gain=0.651565798639\n",
        "  llh: 283.6939986"
       ]
      },
      {
       "output_type": "stream",
       "stream": "stdout",
       "text": [
        "\n",
        "evaluating:\n",
        "  delta=0.557922205746\n",
        "  theta=3.82150380949\n",
        "  z_temp=0.0728446253346\n",
        "  pow_gain=0.651681810051\n",
        "  llh: 283.693999206"
       ]
      },
      {
       "output_type": "stream",
       "stream": "stdout",
       "text": [
        "\n",
        "evaluating:\n",
        "  delta=0.557848776112\n",
        "  theta=3.81658051047\n",
        "  z_temp=0.0706207677639\n",
        "  pow_gain=0.651525210721\n",
        "  llh: 283.693875537"
       ]
      },
      {
       "output_type": "stream",
       "stream": "stdout",
       "text": [
        "\n",
        "evaluating:\n",
        "  delta=0.557897729201\n",
        "  theta=3.81986270982\n",
        "  z_temp=0.0721033394777\n",
        "  pow_gain=0.651629610275\n",
        "  llh: 283.693870473"
       ]
      },
      {
       "output_type": "stream",
       "stream": "stdout",
       "text": [
        "\n",
        "evaluating:\n",
        "  delta=0.557914418063\n",
        "  theta=3.81662996962\n",
        "  z_temp=0.0706573019133\n",
        "  pow_gain=0.651670214203\n",
        "  llh: 283.693868479"
       ]
      },
      {
       "output_type": "stream",
       "stream": "stdout",
       "text": [
        "\n",
        "evaluating:\n",
        "  delta=0.557944643144\n",
        "  theta=3.81503008591\n",
        "  z_temp=0.0699464611809\n",
        "  pow_gain=0.651738850662\n",
        "  llh: 283.693865518"
       ]
      },
      {
       "output_type": "stream",
       "stream": "stdout",
       "text": [
        "\n",
        "evaluating:\n",
        "  delta=0.5579359732\n",
        "  theta=3.82105866347\n",
        "  z_temp=0.0726628644857\n",
        "  pow_gain=0.651711361107\n",
        "  llh: 283.693998117"
       ]
      },
      {
       "output_type": "stream",
       "stream": "stdout",
       "text": [
        "\n",
        "evaluating:\n",
        "  delta=0.557886360468\n",
        "  theta=3.81672270895\n",
        "  z_temp=0.0706890418195\n",
        "  pow_gain=0.651608450133\n",
        "  llh: 283.693871614"
       ]
      },
      {
       "output_type": "stream",
       "stream": "stdout",
       "text": [
        "\n",
        "evaluating:\n",
        "  delta=0.557895267491\n",
        "  theta=3.81117288361\n",
        "  z_temp=0.0681847955165\n",
        "  pow_gain=0.651626875888\n",
        "  llh: 283.693866935"
       ]
      },
      {
       "output_type": "stream",
       "stream": "stdout",
       "text": [
        "\n",
        "evaluating:\n",
        "  delta=0.55791583309\n",
        "  theta=3.8140249454\n",
        "  z_temp=0.0694794244187\n",
        "  pow_gain=0.651669543139\n",
        "  llh: 283.693864555"
       ]
      },
      {
       "output_type": "stream",
       "stream": "stdout",
       "text": [
        "\n",
        "evaluating:\n",
        "  delta=0.557930569401\n",
        "  theta=3.81267606362\n",
        "  z_temp=0.0688746157183\n",
        "  pow_gain=0.651700089642\n",
        "  llh: 283.69399247"
       ]
      },
      {
       "output_type": "stream",
       "stream": "stdout",
       "text": [
        "\n",
        "evaluating:\n",
        "  delta=0.557913516301\n",
        "  theta=3.80796606232\n",
        "  z_temp=0.0667531692309\n",
        "  pow_gain=0.65166834943\n",
        "  llh: 283.693864504"
       ]
      },
      {
       "output_type": "stream",
       "stream": "stdout",
       "text": [
        "\n",
        "evaluating:\n",
        "  delta=0.55792140985\n",
        "  theta=3.80201773856\n",
        "  z_temp=0.0640780841075\n",
        "  pow_gain=0.651687719008\n",
        "  llh: 283.693863319"
       ]
      },
      {
       "output_type": "stream",
       "stream": "stdout",
       "text": [
        "\n",
        "evaluating:\n",
        "  delta=0.557971829507\n",
        "  theta=3.80569319739\n",
        "  z_temp=0.0657420463106\n",
        "  pow_gain=0.651800844627\n",
        "  llh: 283.693860193"
       ]
      },
      {
       "output_type": "stream",
       "stream": "stdout",
       "text": [
        "\n",
        "evaluating:\n",
        "  delta=0.558024370621\n",
        "  theta=3.8008249814\n",
        "  z_temp=0.0635619013153\n",
        "  pow_gain=0.65192094208\n",
        "  llh: 283.693904873"
       ]
      },
      {
       "output_type": "stream",
       "stream": "stdout",
       "text": [
        "\n",
        "evaluating:\n",
        "  delta=0.557981590305\n",
        "  theta=3.80721010002\n",
        "  z_temp=0.0664382124923\n",
        "  pow_gain=0.65182160283\n",
        "  llh: 283.693893185"
       ]
      },
      {
       "output_type": "stream",
       "stream": "stdout",
       "text": [
        "\n",
        "evaluating:\n",
        "  delta=0.557916848194\n",
        "  theta=3.81018218771\n",
        "  z_temp=0.0677481497605\n",
        "  pow_gain=0.651675557623\n",
        "  llh: 283.693864862"
       ]
      },
      {
       "output_type": "stream",
       "stream": "stdout",
       "text": [
        "\n",
        "evaluating:\n",
        "  delta=0.557918317177\n",
        "  theta=3.80092894862\n",
        "  z_temp=0.0635773911178\n",
        "  pow_gain=0.651677981537\n",
        "  llh: 283.693861748"
       ]
      },
      {
       "output_type": "stream",
       "stream": "stdout",
       "text": [
        "\n",
        "evaluating:\n",
        "  delta=0.557946846618\n",
        "  theta=3.80115022727\n",
        "  z_temp=0.0636903232168\n",
        "  pow_gain=0.651742486533\n",
        "  llh: 283.693859774"
       ]
      },
      {
       "output_type": "stream",
       "stream": "stdout",
       "text": [
        "\n",
        "evaluating:\n",
        "  delta=0.55796184583\n",
        "  theta=3.79663424705\n",
        "  z_temp=0.061661409945\n",
        "  pow_gain=0.651775950987\n",
        "  llh: 283.69385787"
       ]
      },
      {
       "output_type": "stream",
       "stream": "stdout",
       "text": [
        "\n",
        "evaluating:\n",
        "  delta=0.557970868093\n",
        "  theta=3.78861212042\n",
        "  z_temp=0.0580500413218\n",
        "  pow_gain=0.651801704941\n",
        "  llh: 283.693859816"
       ]
      },
      {
       "output_type": "stream",
       "stream": "stdout",
       "text": [
        "\n",
        "evaluating:\n",
        "  delta=0.557990020453\n",
        "  theta=3.79391651818\n",
        "  z_temp=0.06043736024\n",
        "  pow_gain=0.651840522038\n",
        "  llh: 283.693893116"
       ]
      },
      {
       "output_type": "stream",
       "stream": "stdout",
       "text": [
        "\n",
        "evaluating:\n",
        "  delta=0.557938562501\n",
        "  theta=3.79999243347\n",
        "  z_temp=0.0631679031407\n",
        "  pow_gain=0.651725919766\n",
        "  llh: 283.693861418"
       ]
      },
      {
       "output_type": "stream",
       "stream": "stdout",
       "text": [
        "\n",
        "evaluating:\n",
        "  delta=0.558003235788\n",
        "  theta=3.79453705054\n",
        "  z_temp=0.0607333092412\n",
        "  pow_gain=0.651874228623\n",
        "  llh: 283.693898695"
       ]
      },
      {
       "output_type": "stream",
       "stream": "stdout",
       "text": [
        "\n",
        "evaluating:\n",
        "  delta=0.55793954683\n",
        "  theta=3.7993309741\n",
        "  z_temp=0.0628663706486\n",
        "  pow_gain=0.651727043309\n",
        "  llh: 283.693860606"
       ]
      },
      {
       "output_type": "stream",
       "stream": "stdout",
       "text": [
        "\n",
        "evaluating:\n",
        "  delta=0.557983482629\n",
        "  theta=3.79514283601\n",
        "  z_temp=0.0609920309723\n",
        "  pow_gain=0.651826852166\n",
        "  llh: 283.693891962"
       ]
      },
      {
       "output_type": "stream",
       "stream": "stdout",
       "text": [
        "\n",
        "evaluating:\n",
        "  delta=0.557949792533\n",
        "  theta=3.7987800341\n",
        "  z_temp=0.0626239350986\n",
        "  pow_gain=0.651751152866\n",
        "  llh: 283.693860376"
       ]
      },
      {
       "output_type": "stream",
       "stream": "stdout",
       "text": [
        "\n",
        "evaluating:\n",
        "  delta=0.557987621152\n",
        "  theta=3.79552882538\n",
        "  z_temp=0.0611723456893\n",
        "  pow_gain=0.651837783402\n",
        "  llh: 283.693893905"
       ]
      },
      {
       "output_type": "stream",
       "stream": "stdout",
       "text": [
        "\n",
        "evaluating:\n",
        "  delta=0.55795156541\n",
        "  theta=3.79838043692\n",
        "  z_temp=0.0624428644088\n",
        "  pow_gain=0.651754728332\n",
        "  llh: 283.693859949"
       ]
      },
      {
       "output_type": "stream",
       "stream": "stdout",
       "text": [
        "\n",
        "evaluating:\n",
        "  delta=0.557978261887\n",
        "  theta=3.79587996679\n",
        "  z_temp=0.0613242458945\n",
        "  pow_gain=0.651815461578\n",
        "  llh: 283.6938908"
       ]
      },
      {
       "output_type": "stream",
       "stream": "stdout",
       "text": [
        "\n",
        "evaluating:\n",
        "  delta=0.557956909872\n",
        "  theta=3.79805501727\n",
        "  z_temp=0.0622990127976\n",
        "  pow_gain=0.651767230044\n",
        "  llh: 283.693859792"
       ]
      },
      {
       "output_type": "stream",
       "stream": "stdout",
       "text": [
        "\n",
        "evaluating:\n",
        "  delta=0.557948765095\n",
        "  theta=3.78514771345\n",
        "  z_temp=0.056484617926\n",
        "  pow_gain=0.651748962525\n",
        "  llh: 283.693859537"
       ]
      },
      {
       "output_type": "stream",
       "stream": "stdout",
       "text": [
        "\n",
        "evaluating:\n",
        "  delta=0.557967629034\n",
        "  theta=3.78584411217\n",
        "  z_temp=0.0568046765863\n",
        "  pow_gain=0.651792195916\n",
        "  llh: 283.693858641"
       ]
      },
      {
       "output_type": "stream",
       "stream": "stdout",
       "text": [
        "\n",
        "evaluating:\n",
        "  delta=0.557946706823\n",
        "  theta=3.79422842456\n",
        "  z_temp=0.0605748173057\n",
        "  pow_gain=0.651740464795\n",
        "  llh: 283.693857922"
       ]
      },
      {
       "output_type": "stream",
       "stream": "stdout",
       "text": [
        "\n",
        "evaluating:\n",
        "  delta=0.557955563519\n",
        "  theta=3.78287223134\n",
        "  z_temp=0.0554637480839\n",
        "  pow_gain=0.651761557068\n",
        "  llh: 283.693857398"
       ]
      },
      {
       "output_type": "stream",
       "stream": "stdout",
       "text": [
        "\n",
        "evaluating:\n",
        "  delta=0.557954890343\n",
        "  theta=3.77528083837\n",
        "  z_temp=0.0520461157271\n",
        "  pow_gain=0.65175872058\n",
        "  llh: 283.69385657"
       ]
      },
      {
       "output_type": "stream",
       "stream": "stdout",
       "text": [
        "\n",
        "evaluating:\n",
        "  delta=0.55796677092\n",
        "  theta=3.79084609763\n",
        "  z_temp=0.0590588918561\n",
        "  pow_gain=0.651784703614\n",
        "  llh: 283.693855676"
       ]
      },
      {
       "output_type": "stream",
       "stream": "stdout",
       "text": [
        "\n",
        "evaluating:\n",
        "  delta=0.557975773833\n",
        "  theta=3.79369528973\n",
        "  z_temp=0.0603460288211\n",
        "  pow_gain=0.651802574159\n",
        "  llh: 283.69401593"
       ]
      },
      {
       "output_type": "stream",
       "stream": "stdout",
       "text": [
        "\n",
        "evaluating:\n",
        "  delta=0.557947477924\n",
        "  theta=3.79265069164\n",
        "  z_temp=0.0598659408306\n",
        "  pow_gain=0.651737724072\n",
        "  llh: 283.693986484"
       ]
      },
      {
       "output_type": "stream",
       "stream": "stdout",
       "text": [
        "\n",
        "evaluating:\n",
        "  delta=0.557962591257\n",
        "  theta=3.78754575704\n",
        "  z_temp=0.0575699926474\n",
        "  pow_gain=0.651778577955\n",
        "  llh: 283.693857732"
       ]
      },
      {
       "output_type": "stream",
       "stream": "stdout",
       "text": [
        "\n",
        "evaluating:\n",
        "  delta=0.557976342352\n",
        "  theta=3.78092504549\n",
        "  z_temp=0.0545933877821\n",
        "  pow_gain=0.651808511773\n",
        "  llh: 283.69388827"
       ]
      },
      {
       "output_type": "stream",
       "stream": "stdout",
       "text": [
        "\n",
        "evaluating:\n",
        "  delta=0.557954115705\n",
        "  theta=3.79090257979\n",
        "  z_temp=0.0590794599248\n",
        "  pow_gain=0.65175747654\n",
        "  llh: 283.693857331"
       ]
      },
      {
       "output_type": "stream",
       "stream": "stdout",
       "text": [
        "\n",
        "evaluating:\n",
        "  delta=0.557957338283\n",
        "  theta=3.77565338937\n",
        "  z_temp=0.0522158201327\n",
        "  pow_gain=0.651763788357\n",
        "  llh: 283.693856136"
       ]
      },
      {
       "output_type": "stream",
       "stream": "stdout",
       "text": [
        "\n",
        "evaluating:\n",
        "  delta=0.557953966369\n",
        "  theta=3.77879569554\n",
        "  z_temp=0.0536301511729\n",
        "  pow_gain=0.65175376659\n",
        "  llh: 283.693984715"
       ]
      },
      {
       "output_type": "stream",
       "stream": "stdout",
       "text": [
        "\n",
        "evaluating:\n",
        "  delta=0.557960435035\n",
        "  theta=3.78535824167\n",
        "  z_temp=0.0565850322788\n",
        "  pow_gain=0.651772375114\n",
        "  llh: 283.693857023"
       ]
      },
      {
       "output_type": "stream",
       "stream": "stdout",
       "text": [
        "\n",
        "evaluating:\n",
        "  delta=0.557965601585\n",
        "  theta=3.77266670373\n",
        "  z_temp=0.0508734700725\n",
        "  pow_gain=0.651782317293\n",
        "  llh: 283.693855477"
       ]
      },
      {
       "output_type": "stream",
       "stream": "stdout",
       "text": [
        "\n",
        "evaluating:\n",
        "  delta=0.557971344526\n",
        "  theta=3.7635487657\n",
        "  z_temp=0.0467704751464\n",
        "  pow_gain=0.65179473767\n",
        "  llh: 283.693854747"
       ]
      },
      {
       "output_type": "stream",
       "stream": "stdout",
       "text": [
        "\n",
        "evaluating:\n",
        "  delta=0.557964737001\n",
        "  theta=3.76730630387\n",
        "  z_temp=0.0484606191524\n",
        "  pow_gain=0.651778599997\n",
        "  llh: 283.693854486"
       ]
      },
      {
       "output_type": "stream",
       "stream": "stdout",
       "text": [
        "\n",
        "evaluating:\n",
        "  delta=0.557966887985\n",
        "  theta=3.75828033497\n",
        "  z_temp=0.0443984125892\n",
        "  pow_gain=0.651781712438\n",
        "  llh: 283.69398393"
       ]
      },
      {
       "output_type": "stream",
       "stream": "stdout",
       "text": [
        "\n",
        "evaluating:\n",
        "  delta=0.557975205022\n",
        "  theta=3.77339643991\n",
        "  z_temp=0.0512067874167\n",
        "  pow_gain=0.651802194239\n",
        "  llh: 283.693886063"
       ]
      },
      {
       "output_type": "stream",
       "stream": "stdout",
       "text": [
        "\n",
        "evaluating:\n",
        "  delta=0.557959969013\n",
        "  theta=3.77480973876\n",
        "  z_temp=0.0518362836495\n",
        "  pow_gain=0.651769588995\n",
        "  llh: 283.693855867"
       ]
      },
      {
       "output_type": "stream",
       "stream": "stdout",
       "text": [
        "\n",
        "evaluating:\n",
        "  delta=0.557974072447\n",
        "  theta=3.77260206361\n",
        "  z_temp=0.0508473147695\n",
        "  pow_gain=0.651800026781\n",
        "  llh: 283.693885939"
       ]
      },
      {
       "output_type": "stream",
       "stream": "stdout",
       "text": [
        "\n",
        "evaluating:\n",
        "  delta=0.557961521824\n",
        "  theta=3.77489055793\n",
        "  z_temp=0.0518736937919\n",
        "  pow_gain=0.651772847963\n",
        "  llh: 283.693855618"
       ]
      },
      {
       "output_type": "stream",
       "stream": "stdout",
       "text": [
        "\n",
        "evaluating:\n",
        "  delta=0.557972218123\n",
        "  theta=3.77348612381\n",
        "  z_temp=0.0512455563239\n",
        "  pow_gain=0.651795855627\n",
        "  llh: 283.693854218"
       ]
      },
      {
       "output_type": "stream",
       "stream": "stdout",
       "text": [
        "\n",
        "evaluating:\n",
        "  delta=0.557978342677\n",
        "  theta=3.77282431633\n",
        "  z_temp=0.0509501926611\n",
        "  pow_gain=0.651808988944\n",
        "  llh: 283.693886774"
       ]
      },
      {
       "output_type": "stream",
       "stream": "stdout",
       "text": [
        "\n",
        "evaluating:\n",
        "  delta=0.557968139816\n",
        "  theta=3.74876977802\n",
        "  z_temp=0.0401162803512\n",
        "  pow_gain=0.651786317014\n",
        "  llh: 283.693854264"
       ]
      },
      {
       "output_type": "stream",
       "stream": "stdout",
       "text": [
        "\n",
        "evaluating:\n",
        "  delta=0.557976697909\n",
        "  theta=3.75166492777\n",
        "  z_temp=0.041422771695\n",
        "  pow_gain=0.651804907191\n",
        "  llh: 283.694015363"
       ]
      },
      {
       "output_type": "stream",
       "stream": "stdout",
       "text": [
        "\n",
        "evaluating:\n",
        "  delta=0.557965315845\n",
        "  theta=3.76908415039\n",
        "  z_temp=0.0492609632677\n",
        "  pow_gain=0.65178086277\n",
        "  llh: 283.693855009"
       ]
      },
      {
       "output_type": "stream",
       "stream": "stdout",
       "text": [
        "\n",
        "evaluating:\n",
        "  delta=0.557972903888\n",
        "  theta=3.75747133531\n",
        "  z_temp=0.0440355022193\n",
        "  pow_gain=0.651796892384\n",
        "  llh: 283.69385384"
       ]
      },
      {
       "output_type": "stream",
       "stream": "stdout",
       "text": [
        "\n",
        "evaluating:\n",
        "  delta=0.557976697909\n",
        "  theta=3.75166492777\n",
        "  z_temp=0.041422771695\n",
        "  pow_gain=0.651804907191\n",
        "  llh: 283.694015363"
       ]
      },
      {
       "output_type": "stream",
       "stream": "stdout",
       "text": [
        "\n",
        "evaluating:\n",
        "  delta=0.557967654888\n",
        "  theta=3.7599680048\n",
        "  z_temp=0.0451585038769\n",
        "  pow_gain=0.651784094841\n",
        "  llh: 283.69398356"
       ]
      },
      {
       "output_type": "stream",
       "stream": "stdout",
       "text": [
        "\n",
        "evaluating:\n",
        "  delta=0.557970422116\n",
        "  theta=3.76265357547\n",
        "  z_temp=0.046367482329\n",
        "  pow_gain=0.651792076963\n",
        "  llh: 283.69385447"
       ]
      },
      {
       "output_type": "stream",
       "stream": "stdout",
       "text": [
        "\n",
        "evaluating:\n",
        "  delta=0.55797710497\n",
        "  theta=3.75388410243\n",
        "  z_temp=0.0424217914593\n",
        "  pow_gain=0.651806970997\n",
        "  llh: 283.693886783"
       ]
      },
      {
       "output_type": "stream",
       "stream": "stdout",
       "text": [
        "\n",
        "evaluating:\n",
        "  delta=0.557967828994\n",
        "  theta=3.76395075351\n",
        "  z_temp=0.0469509122291\n",
        "  pow_gain=0.651785692747\n",
        "  llh: 283.693854336"
       ]
      },
      {
       "output_type": "stream",
       "stream": "stdout",
       "text": [
        "\n",
        "evaluating:\n",
        "  delta=0.557970123294\n",
        "  theta=3.75918541985\n",
        "  z_temp=0.0448066432327\n",
        "  pow_gain=0.651790301924\n",
        "  llh: 283.693853844"
       ]
      },
      {
       "output_type": "stream",
       "stream": "stdout",
       "text": [
        "\n",
        "evaluating:\n",
        "  delta=0.557973863567\n",
        "  theta=3.75550557498\n",
        "  z_temp=0.0431510788344\n",
        "  pow_gain=0.651798990728\n",
        "  llh: 283.69388558"
       ]
      },
      {
       "output_type": "stream",
       "stream": "stdout",
       "text": [
        "\n",
        "evaluating:\n",
        "  delta=0.557969337637\n",
        "  theta=3.76183945888\n",
        "  z_temp=0.0460009538804\n",
        "  pow_gain=0.651789017242\n",
        "  llh: 283.693854185"
       ]
      },
      {
       "output_type": "stream",
       "stream": "stdout",
       "text": [
        "\n",
        "evaluating:\n",
        "  delta=0.557974151654\n",
        "  theta=3.7772213909\n",
        "  z_temp=0.0529280474769\n",
        "  pow_gain=0.651799716574\n",
        "  llh: 283.693885759"
       ]
      },
      {
       "output_type": "stream",
       "stream": "stdout",
       "text": [
        "\n",
        "evaluating:\n",
        "  delta=0.557969642776\n",
        "  theta=3.75588268124\n",
        "  z_temp=0.0433192221326\n",
        "  pow_gain=0.651789666904\n",
        "  llh: 283.693854138"
       ]
      },
      {
       "output_type": "stream",
       "stream": "stdout",
       "text": [
        "\n",
        "evaluating:\n",
        "  delta=0.557968785674\n",
        "  theta=3.74370332383\n",
        "  z_temp=0.0378356044086\n",
        "  pow_gain=0.6517870836\n",
        "  llh: 283.693983251"
       ]
      },
      {
       "output_type": "stream",
       "stream": "stdout",
       "text": [
        "\n",
        "evaluating:\n",
        "  delta=0.557971360011\n",
        "  theta=3.76604042381\n",
        "  z_temp=0.0478930683451\n",
        "  pow_gain=0.65179366262\n",
        "  llh: 283.6938541"
       ]
      },
      {
       "output_type": "stream",
       "stream": "stdout",
       "text": [
        "\n",
        "evaluating:\n",
        "  delta=0.557972677347\n",
        "  theta=3.75745047123\n",
        "  z_temp=0.0440262640844\n",
        "  pow_gain=0.651796244674\n",
        "  llh: 283.693853776"
       ]
      },
      {
       "output_type": "stream",
       "stream": "stdout",
       "text": [
        "\n",
        "evaluating:\n",
        "  delta=0.557974347202\n",
        "  theta=3.7552559774\n",
        "  z_temp=0.0430389191864\n",
        "  pow_gain=0.65179985839\n",
        "  llh: 283.693885603"
       ]
      },
      {
       "output_type": "stream",
       "stream": "stdout",
       "text": [
        "\n",
        "evaluating:\n",
        "  delta=0.557973889494\n",
        "  theta=3.76419114386\n",
        "  z_temp=0.0470615168081\n",
        "  pow_gain=0.651798883897\n",
        "  llh: 283.693885512"
       ]
      },
      {
       "output_type": "stream",
       "stream": "stdout",
       "text": [
        "\n",
        "evaluating:\n",
        "  delta=0.557970704455\n",
        "  theta=3.75795979689\n",
        "  z_temp=0.0442547958015\n",
        "  pow_gain=0.651791971152\n",
        "  llh: 283.693854013"
       ]
      },
      {
       "output_type": "stream",
       "stream": "stdout",
       "text": [
        "\n",
        "evaluating:\n",
        "  delta=0.557971844481\n",
        "  theta=3.74999308782\n",
        "  z_temp=0.0406685343238\n",
        "  pow_gain=0.651794042447\n",
        "  llh: 283.693982932"
       ]
      },
      {
       "output_type": "stream",
       "stream": "stdout",
       "text": [
        "\n",
        "evaluating:\n",
        "  delta=0.557971481128\n",
        "  theta=3.76202858982\n",
        "  z_temp=0.0460869348398\n",
        "  pow_gain=0.651793757577\n",
        "  llh: 283.693853983"
       ]
      },
      {
       "output_type": "stream",
       "stream": "stdout",
       "text": [
        "\n",
        "evaluating:\n",
        "  delta=0.557972888373\n",
        "  theta=3.7601081112\n",
        "  z_temp=0.0452228763865\n",
        "  pow_gain=0.651796627127\n",
        "  llh: 283.693853708"
       ]
      },
      {
       "output_type": "stream",
       "stream": "stdout",
       "text": [
        "\n",
        "evaluating:\n",
        "  delta=0.557973980332\n",
        "  theta=3.76118226836\n",
        "  z_temp=0.0457069166791\n",
        "  pow_gain=0.651798955114\n",
        "  llh: 283.693885469"
       ]
      },
      {
       "output_type": "stream",
       "stream": "stdout",
       "text": [
        "\n",
        "evaluating:\n",
        "  delta=0.557972815323\n",
        "  theta=3.75507907898\n",
        "  z_temp=0.0429587081217\n",
        "  pow_gain=0.651796275477\n",
        "  llh: 283.693853602"
       ]
      },
      {
       "output_type": "stream",
       "stream": "stdout",
       "text": [
        "\n",
        "evaluating:\n",
        "  delta=0.55797348242\n",
        "  theta=3.75160432356\n",
        "  z_temp=0.0413945947626\n",
        "  pow_gain=0.651797534427\n",
        "  llh: 283.694014644"
       ]
      },
      {
       "output_type": "stream",
       "stream": "stdout",
       "text": [
        "\n",
        "evaluating:\n",
        "  delta=0.557975519172\n",
        "  theta=3.75586907851\n",
        "  z_temp=0.0433150321733\n",
        "  pow_gain=0.651802717908\n",
        "  llh: 283.693886026"
       ]
      },
      {
       "output_type": "stream",
       "stream": "stdout",
       "text": [
        "\n",
        "evaluating:\n",
        "  delta=0.557971472263\n",
        "  theta=3.75835633451\n",
        "  z_temp=0.0444337404678\n",
        "  pow_gain=0.65179340592\n",
        "  llh: 283.693853788"
       ]
      },
      {
       "output_type": "stream",
       "stream": "stdout",
       "text": [
        "\n",
        "evaluating:\n",
        "  delta=0.557972022765\n",
        "  theta=3.75802566265\n",
        "  z_temp=0.044285292311\n",
        "  pow_gain=0.651794384215\n",
        "  llh: 283.693982944"
       ]
      },
      {
       "output_type": "stream",
       "stream": "stdout",
       "text": [
        "\n",
        "evaluating:\n",
        "  delta=0.557972683607\n",
        "  theta=3.75760991714\n",
        "  z_temp=0.0440979497422\n",
        "  pow_gain=0.651796265342\n",
        "  llh: 283.693853779"
       ]
      },
      {
       "output_type": "stream",
       "stream": "stdout",
       "text": [
        "\n",
        "evaluating:\n",
        "  delta=0.557974060062\n",
        "  theta=3.75676745476\n",
        "  z_temp=0.0437191586996\n",
        "  pow_gain=0.65179930039\n",
        "  llh: 283.693885569"
       ]
      },
      {
       "output_type": "stream",
       "stream": "stdout",
       "text": [
        "\n",
        "evaluating:\n",
        "  delta=0.557972119213\n",
        "  theta=3.75795911458\n",
        "  z_temp=0.0442550950258\n",
        "  pow_gain=0.651794879537\n",
        "  llh: 283.693853752"
       ]
      },
      {
       "output_type": "stream",
       "stream": "stdout",
       "text": [
        "\n",
        "evaluating:\n",
        "  delta=0.557972566521\n",
        "  theta=3.75768847085\n",
        "  z_temp=0.044133522067\n",
        "  pow_gain=0.651795748066\n",
        "  llh: 283.693853639"
       ]
      },
      {
       "output_type": "stream",
       "stream": "stdout",
       "text": [
        "\n",
        "evaluating:\n",
        "  delta=0.557972517368\n",
        "  theta=3.75796691658\n",
        "  z_temp=0.0442588367161\n",
        "  pow_gain=0.65179552043\n",
        "  llh: 283.693982888"
       ]
      },
      {
       "output_type": "stream",
       "stream": "stdout",
       "text": [
        "\n",
        "evaluating:\n",
        "  delta=0.557972637352\n",
        "  theta=3.75757958256\n",
        "  z_temp=0.0440844072423\n",
        "  pow_gain=0.651796063613\n",
        "  llh: 283.693853725"
       ]
      },
      {
       "output_type": "stream",
       "stream": "stdout",
       "text": [
        "\n",
        "evaluating:\n",
        "  delta=0.557973334572\n",
        "  theta=3.75726850722\n",
        "  z_temp=0.043944661883\n",
        "  pow_gain=0.651797477604\n",
        "  llh: 283.693885283"
       ]
      },
      {
       "output_type": "stream",
       "stream": "stdout",
       "text": [
        "\n",
        "evaluating:\n",
        "  delta=0.557972423053\n",
        "  theta=3.75778646274\n",
        "  z_temp=0.0441774867401\n",
        "  pow_gain=0.651795529054\n",
        "  llh: 283.69385371"
       ]
      },
      {
       "output_type": "stream",
       "stream": "stdout",
       "text": [
        "\n",
        "evaluating:\n",
        "  delta=0.557972709282\n",
        "  theta=3.75775147932\n",
        "  z_temp=0.0441618894153\n",
        "  pow_gain=0.651796026249\n",
        "  llh: 283.693982836"
       ]
      },
      {
       "output_type": "stream",
       "stream": "stdout",
       "text": [
        "\n",
        "evaluating:\n",
        "  delta=0.557972655335\n",
        "  theta=3.75762255675\n",
        "  z_temp=0.0441037777856\n",
        "  pow_gain=0.651796054272\n",
        "  llh: 283.693853695"
       ]
      },
      {
       "output_type": "stream",
       "stream": "stdout",
       "text": [
        "\n",
        "evaluating:\n",
        "  delta=0.557973039723\n",
        "  theta=3.75746264615\n",
        "  z_temp=0.0440319554403\n",
        "  pow_gain=0.651796823417\n",
        "  llh: 283.693885208"
       ]
      },
      {
       "output_type": "stream",
       "stream": "stdout",
       "text": [
        "\n",
        "evaluating:\n",
        "  delta=0.55797257722\n",
        "  theta=3.75770550859\n",
        "  z_temp=0.0441411039151\n",
        "  pow_gain=0.651795852645\n",
        "  llh: 283.693853685"
       ]
      },
      {
       "output_type": "stream",
       "stream": "stdout",
       "text": [
        "\n",
        "evaluating:\n",
        "  delta=0.557972418826\n",
        "  theta=3.75393969638\n",
        "  z_temp=0.0424456795581\n",
        "  pow_gain=0.651795338103\n",
        "  llh: 283.693982878"
       ]
      },
      {
       "output_type": "stream",
       "stream": "stdout",
       "text": [
        "\n",
        "evaluating:\n",
        "  delta=0.557972770986\n",
        "  theta=3.7585660075\n",
        "  z_temp=0.0445285771794\n",
        "  pow_gain=0.651796304871\n",
        "  llh: 283.693853681"
       ]
      },
      {
       "output_type": "stream",
       "stream": "stdout",
       "text": [
        "\n",
        "evaluating:\n",
        "  delta=0.55797270969\n",
        "  theta=3.7568969762\n",
        "  z_temp=0.0437771778561\n",
        "  pow_gain=0.651796036258\n",
        "  llh: 283.693853609"
       ]
      },
      {
       "output_type": "stream",
       "stream": "stdout",
       "text": [
        "\n",
        "evaluating:\n",
        "  delta=0.55797285404\n",
        "  theta=3.75640975817\n",
        "  z_temp=0.043557888697\n",
        "  pow_gain=0.651796329691\n",
        "  llh: 283.694014374"
       ]
      },
      {
       "output_type": "stream",
       "stream": "stdout",
       "text": [
        "\n",
        "evaluating:\n",
        "  delta=0.557972646425\n",
        "  theta=3.75738157099\n",
        "  z_temp=0.0439953001106\n",
        "  pow_gain=0.651795971906\n",
        "  llh: 283.693853659"
       ]
      },
      {
       "output_type": "stream",
       "stream": "stdout",
       "text": [
        "\n",
        "evaluating:\n",
        "  delta=0.557972597993\n",
        "  theta=3.75495704101\n",
        "  z_temp=0.0429037768982\n",
        "  pow_gain=0.651795710983\n",
        "  llh: 283.693982875"
       ]
      },
      {
       "output_type": "stream",
       "stream": "stdout",
       "text": [
        "\n",
        "evaluating:\n",
        "  delta=0.557972727738\n",
        "  theta=3.75766376588\n",
        "  z_temp=0.0441223771091\n",
        "  pow_gain=0.651796156399\n",
        "  llh: 283.693853654"
       ]
      },
      {
       "output_type": "stream",
       "stream": "stdout",
       "text": [
        "\n",
        "evaluating:\n",
        "  delta=0.557972763211\n",
        "  theta=3.75628257497\n",
        "  z_temp=0.0435005924663\n",
        "  pow_gain=0.651796136193\n",
        "  llh: 283.693982836"
       ]
      },
      {
       "output_type": "stream",
       "stream": "stdout",
       "text": [
        "\n",
        "evaluating:\n",
        "  delta=0.557972675622\n",
        "  theta=3.75710682198\n",
        "  z_temp=0.0438716231995\n",
        "  pow_gain=0.651796012978\n",
        "  llh: 283.693853642"
       ]
      },
      {
       "output_type": "stream",
       "stream": "stdout",
       "text": [
        "\n",
        "evaluating:\n",
        "  delta=0.55797265584\n",
        "  theta=3.75572190813\n",
        "  z_temp=0.043248138513\n",
        "  pow_gain=0.651795879991\n",
        "  llh: 283.693982853"
       ]
      },
      {
       "output_type": "stream",
       "stream": "stdout",
       "text": [
        "\n",
        "evaluating:\n",
        "  delta=0.557972709763\n",
        "  theta=3.75717830144\n",
        "  z_temp=0.0439038174601\n",
        "  pow_gain=0.651796087297\n",
        "  llh: 283.693853639"
       ]
      },
      {
       "output_type": "stream",
       "stream": "stdout",
       "text": [
        "\n",
        "evaluating:\n",
        "  delta=0.557972725027\n",
        "  theta=3.75631459175\n",
        "  z_temp=0.0435149895529\n",
        "  pow_gain=0.651796060571\n",
        "  llh: 283.693982835"
       ]
      },
      {
       "output_type": "stream",
       "stream": "stdout",
       "text": [
        "\n",
        "evaluating:\n",
        "  delta=0.557972687973\n",
        "  theta=3.75690876442\n",
        "  z_temp=0.0437824647879\n",
        "  pow_gain=0.651796024876\n",
        "  llh: 283.693853632"
       ]
      },
      {
       "output_type": "stream",
       "stream": "stdout",
       "text": [
        "\n",
        "evaluating:\n",
        "  delta=0.557972894854\n",
        "  theta=3.75534308968\n",
        "  z_temp=0.0430775620459\n",
        "  pow_gain=0.651796463888\n",
        "  llh: 283.693885152"
       ]
      },
      {
       "output_type": "stream",
       "stream": "stdout",
       "text": [
        "\n",
        "evaluating:\n",
        "  delta=0.557972648604\n",
        "  theta=3.75710212555\n",
        "  z_temp=0.0438695320617\n",
        "  pow_gain=0.651795927021\n",
        "  llh: 283.69385363"
       ]
      },
      {
       "output_type": "stream",
       "stream": "stdout",
       "text": [
        "\n",
        "evaluating:\n",
        "  delta=0.557972721031\n",
        "  theta=3.75581517114\n",
        "  z_temp=0.0432901239536\n",
        "  pow_gain=0.651796044519\n",
        "  llh: 283.693982838"
       ]
      },
      {
       "output_type": "stream",
       "stream": "stdout",
       "text": [
        "\n",
        "evaluating:\n",
        "  delta=0.55797271258\n",
        "  theta=3.75683751887\n",
        "  z_temp=0.0437503940835\n",
        "  pow_gain=0.651796076602\n",
        "  llh: 283.693853628"
       ]
      },
      {
       "output_type": "stream",
       "stream": "stdout",
       "text": [
        "\n",
        "evaluating:\n",
        "  delta=0.557972755126\n",
        "  theta=3.75604908538\n",
        "  z_temp=0.0433954412736\n",
        "  pow_gain=0.651796132803\n",
        "  llh: 283.69398283"
       ]
      },
      {
       "output_type": "stream",
       "stream": "stdout",
       "text": [
        "\n",
        "evaluating:\n",
        "  delta=0.557972704761\n",
        "  theta=3.75669384466\n",
        "  z_temp=0.0436857089093\n",
        "  pow_gain=0.651796051858\n",
        "  llh: 283.693853625"
       ]
      },
      {
       "output_type": "stream",
       "stream": "stdout",
       "text": [
        "\n",
        "evaluating:\n",
        "  delta=0.557972822573\n",
        "  theta=3.7556515838\n",
        "  z_temp=0.0432164624235\n",
        "  pow_gain=0.651796293076\n",
        "  llh: 283.693853602"
       ]
      },
      {
       "output_type": "stream",
       "stream": "stdout",
       "text": [
        "\n",
        "evaluating:\n",
        "  delta=0.557972813593\n",
        "  theta=3.75532322296\n",
        "  z_temp=0.0430686345718\n",
        "  pow_gain=0.651796251732\n",
        "  llh: 283.69398283"
       ]
      },
      {
       "output_type": "stream",
       "stream": "stdout",
       "text": [
        "\n",
        "evaluating:\n",
        "  delta=0.557972737834\n",
        "  theta=3.75645894489\n",
        "  z_temp=0.0435799542056\n",
        "  pow_gain=0.651796120385\n",
        "  llh: 283.693853619"
       ]
      },
      {
       "output_type": "stream",
       "stream": "stdout",
       "text": [
        "\n",
        "evaluating:\n",
        "  delta=0.557972837949\n",
        "  theta=3.75534944727\n",
        "  z_temp=0.0430804423941\n",
        "  pow_gain=0.65179631074\n",
        "  llh: 283.69401436"
       ]
      },
      {
       "output_type": "stream",
       "stream": "stdout",
       "text": [
        "\n",
        "evaluating:\n",
        "  delta=0.557972738058\n",
        "  theta=3.75635774532\n",
        "  z_temp=0.0435343922805\n",
        "  pow_gain=0.651796116578\n",
        "  llh: 283.693853616"
       ]
      },
      {
       "output_type": "stream",
       "stream": "stdout",
       "text": [
        "\n",
        "evaluating:\n",
        "  delta=0.557972804988\n",
        "  theta=3.75553374726\n",
        "  z_temp=0.0431634161353\n",
        "  pow_gain=0.65179624031\n",
        "  llh: 283.693982828"
       ]
      },
      {
       "output_type": "stream",
       "stream": "stdout",
       "text": [
        "\n",
        "evaluating:\n",
        "  delta=0.557972754622\n",
        "  theta=3.75622764548\n",
        "  z_temp=0.043475819688\n",
        "  pow_gain=0.651796150366\n",
        "  llh: 283.693853613"
       ]
      },
      {
       "output_type": "stream",
       "stream": "stdout",
       "text": [
        "\n",
        "evaluating:\n",
        "  delta=0.557972813046\n",
        "  theta=3.75556989692\n",
        "  z_temp=0.0431796917641\n",
        "  pow_gain=0.65179626101\n",
        "  llh: 283.693982826"
       ]
      },
      {
       "output_type": "stream",
       "stream": "stdout",
       "text": [
        "\n",
        "evaluating:\n",
        "  delta=0.557972756805\n",
        "  theta=3.75616078322\n",
        "  z_temp=0.0434457171514\n",
        "  pow_gain=0.651796152686\n",
        "  llh: 283.693853611"
       ]
      },
      {
       "output_type": "stream",
       "stream": "stdout",
       "text": [
        "\n",
        "evaluating:\n",
        "  delta=0.557972797573\n",
        "  theta=3.75566656562\n",
        "  z_temp=0.0432232130883\n",
        "  pow_gain=0.651796228383\n",
        "  llh: 283.693982826"
       ]
      },
      {
       "output_type": "stream",
       "stream": "stdout",
       "text": [
        "\n",
        "evaluating:\n",
        "  delta=0.55797276536\n",
        "  theta=3.75608737552\n",
        "  z_temp=0.0434126680381\n",
        "  pow_gain=0.65179616987\n",
        "  llh: 283.693853609"
       ]
      },
      {
       "output_type": "stream",
       "stream": "stdout",
       "text": [
        "\n",
        "evaluating:\n",
        "  delta=0.557972799668\n",
        "  theta=3.75569672403\n",
        "  z_temp=0.0432367910683\n",
        "  pow_gain=0.651796234654\n",
        "  llh: 283.6938536"
       ]
      },
      {
       "output_type": "stream",
       "stream": "stdout",
       "text": [
        "\n",
        "evaluating:\n",
        "  delta=0.557972821099\n",
        "  theta=3.75546469444\n",
        "  z_temp=0.0431323280267\n",
        "  pow_gain=0.651796275638\n",
        "  llh: 283.693982826"
       ]
      },
      {
       "output_type": "stream",
       "stream": "stdout",
       "text": [
        "\n",
        "evaluating:\n",
        "  delta=0.557972808267\n",
        "  theta=3.75557480599\n",
        "  z_temp=0.0431819016967\n",
        "  pow_gain=0.651796249862\n",
        "  llh: 283.693982826"
       ]
      },
      {
       "output_type": "stream",
       "stream": "stdout",
       "text": [
        "\n",
        "evaluating:\n",
        "  delta=0.557972776087\n",
        "  theta=3.75595923313\n",
        "  z_temp=0.0433549764527\n",
        "  pow_gain=0.651796189868\n",
        "  llh: 283.693853606"
       ]
      },
      {
       "output_type": "stream",
       "stream": "stdout",
       "text": [
        "\n",
        "evaluating:\n",
        "  delta=0.557972897135\n",
        "  theta=3.75429633377\n",
        "  z_temp=0.042606291177\n",
        "  pow_gain=0.65179646028\n",
        "  llh: 283.693885149"
       ]
      },
      {
       "output_type": "stream",
       "stream": "stdout",
       "text": [
        "\n",
        "evaluating:\n",
        "  delta=0.557972756551\n",
        "  theta=3.7562468156\n",
        "  z_temp=0.0434844561863\n",
        "  pow_gain=0.651796142263\n",
        "  llh: 283.693853606"
       ]
      },
      {
       "output_type": "stream",
       "stream": "stdout",
       "text": [
        "\n",
        "evaluating:\n",
        "  delta=0.557972820971\n",
        "  theta=3.75537786807\n",
        "  z_temp=0.0430932324472\n",
        "  pow_gain=0.651796282867\n",
        "  llh: 283.693853598"
       ]
      },
      {
       "output_type": "stream",
       "stream": "stdout",
       "text": [
        "\n",
        "evaluating:\n",
        "  delta=0.557972843413\n",
        "  theta=3.75508718554\n",
        "  z_temp=0.0429623604444\n",
        "  pow_gain=0.651796329367\n",
        "  llh: 283.694014358"
       ]
      },
      {
       "output_type": "stream",
       "stream": "stdout",
       "text": [
        "\n",
        "evaluating:\n",
        "  delta=0.557972872716\n",
        "  theta=3.75465581184\n",
        "  z_temp=0.042768140844\n",
        "  pow_gain=0.651796400774\n",
        "  llh: 283.69388514"
       ]
      },
      {
       "output_type": "stream",
       "stream": "stdout",
       "text": [
        "\n",
        "evaluating:\n",
        "  delta=0.557972785593\n",
        "  theta=3.75584906466\n",
        "  z_temp=0.0433053773507\n",
        "  pow_gain=0.651796206891\n",
        "  llh: 283.693853603"
       ]
      },
      {
       "output_type": "stream",
       "stream": "stdout",
       "text": [
        "\n",
        "evaluating:\n",
        "  delta=0.557972843675\n",
        "  theta=3.75505356278\n",
        "  z_temp=0.0429472196796\n",
        "  pow_gain=0.651796336146\n",
        "  llh: 283.693885133"
       ]
      },
      {
       "output_type": "stream",
       "stream": "stdout",
       "text": [
        "\n",
        "evaluating:\n",
        "  delta=0.557972800113\n",
        "  theta=3.75565018919\n",
        "  z_temp=0.0432158379329\n",
        "  pow_gain=0.651796239205\n",
        "  llh: 283.693853602"
       ]
      },
      {
       "output_type": "stream",
       "stream": "stdout",
       "text": [
        "\n",
        "evaluating:\n",
        "  delta=0.557972795464\n",
        "  theta=3.75525034633\n",
        "  z_temp=0.0430358223615\n",
        "  pow_gain=0.651796223026\n",
        "  llh: 283.693982826"
       ]
      },
      {
       "output_type": "stream",
       "stream": "stdout",
       "text": [
        "\n",
        "evaluating:\n",
        "  delta=0.557972815796\n",
        "  theta=3.75555127443\n",
        "  z_temp=0.043171302408\n",
        "  pow_gain=0.651796275564\n",
        "  llh: 283.693853601"
       ]
      },
      {
       "output_type": "stream",
       "stream": "stdout",
       "text": [
        "\n",
        "evaluating:\n",
        "  delta=0.557972825766\n",
        "  theta=3.75520228357\n",
        "  z_temp=0.0430141790896\n",
        "  pow_gain=0.651796295076\n",
        "  llh: 283.693853599"
       ]
      },
      {
       "output_type": "stream",
       "stream": "stdout",
       "text": [
        "\n",
        "evaluating:\n",
        "  delta=0.557972815778\n",
        "  theta=3.75583499607\n",
        "  z_temp=0.0432990443849\n",
        "  pow_gain=0.651796268603\n",
        "  llh: 283.693982825"
       ]
      },
      {
       "output_type": "stream",
       "stream": "stdout",
       "text": [
        "\n",
        "evaluating:\n",
        "  delta=0.557972815436\n",
        "  theta=3.75526805825\n",
        "  z_temp=0.0430437921875\n",
        "  pow_gain=0.651796273759\n",
        "  llh: 283.693853601"
       ]
      },
      {
       "output_type": "stream",
       "stream": "stdout",
       "text": [
        "\n",
        "evaluating:\n",
        "  delta=0.557972815124\n",
        "  theta=3.75522119253\n",
        "  z_temp=0.0430226949882\n",
        "  pow_gain=0.651796267615\n",
        "  llh: 283.693982824"
       ]
      },
      {
       "output_type": "stream",
       "stream": "stdout",
       "text": [
        "\n",
        "evaluating:\n",
        "  delta=0.557972815628\n",
        "  theta=3.75546875396\n",
        "  z_temp=0.0431341505531\n",
        "  pow_gain=0.651796273576\n",
        "  llh: 283.6938536"
       ]
      },
      {
       "output_type": "stream",
       "stream": "stdout",
       "text": [
        "\n",
        "evaluating:\n",
        "  delta=0.55797281558\n",
        "  theta=3.75560475656\n",
        "  z_temp=0.0431953843916\n",
        "  pow_gain=0.651796269328\n",
        "  llh: 283.693982824"
       ]
      },
      {
       "output_type": "stream",
       "stream": "stdout",
       "text": [
        "\n",
        "evaluating:\n",
        "  delta=0.557972815472\n",
        "  theta=3.75535223283\n",
        "  z_temp=0.0430816902385\n",
        "  pow_gain=0.651796272651\n",
        "  llh: 283.6938536"
       ]
      },
      {
       "output_type": "stream",
       "stream": "stdout",
       "text": [
        "\n",
        "evaluating:\n",
        "  delta=0.55797281531\n",
        "  theta=3.75534580029\n",
        "  z_temp=0.0430787958687\n",
        "  pow_gain=0.651796269048\n",
        "  llh: 283.693982824"
       ]
      },
      {
       "output_type": "stream",
       "stream": "stdout",
       "text": [
        "\n",
        "evaluating:\n",
        "  delta=0.557972815549\n",
        "  theta=3.75543801554\n",
        "  z_temp=0.043120311882\n",
        "  pow_gain=0.651796272444\n",
        "  llh: 283.6938536"
       ]
      },
      {
       "output_type": "stream",
       "stream": "stdout",
       "text": [
        "\n",
        "evaluating:\n",
        "  delta=0.557972815504\n",
        "  theta=3.75550521278\n",
        "  z_temp=0.043150567005\n",
        "  pow_gain=0.65179626987\n",
        "  llh: 283.693853598"
       ]
      },
      {
       "output_type": "stream",
       "stream": "stdout",
       "text": [
        "\n",
        "evaluating:\n",
        "  delta=0.557972815406\n",
        "  theta=3.75545302868\n",
        "  z_temp=0.043127072923\n",
        "  pow_gain=0.651796268789\n",
        "  llh: 283.693982824"
       ]
      },
      {
       "output_type": "stream",
       "stream": "stdout",
       "text": [
        "\n",
        "evaluating:\n",
        "  delta=0.557972815513\n",
        "  theta=3.75544176883\n",
        "  z_temp=0.0431220021422\n",
        "  pow_gain=0.651796271531\n",
        "  llh: 283.693853599"
       ]
      },
      {
       "output_type": "stream",
       "stream": "stdout",
       "text": [
        "\n",
        "evaluating:\n",
        "  delta=0.557972839209\n",
        "  theta=3.75506684259\n",
        "  z_temp=0.0429531992737\n",
        "  pow_gain=0.651796325018\n",
        "  llh: 283.693885131"
       ]
      },
      {
       "output_type": "stream",
       "stream": "stdout",
       "text": [
        "\n",
        "evaluating:\n",
        "  delta=0.557972809553\n",
        "  theta=3.75553925367\n",
        "  z_temp=0.0431658931196\n",
        "  pow_gain=0.651796257245\n",
        "  llh: 283.693853599"
       ]
      },
      {
       "output_type": "stream",
       "stream": "stdout",
       "text": [
        "\n",
        "evaluating:\n",
        "  delta=0.557972820384\n",
        "  theta=3.75537054022\n",
        "  z_temp=0.0430899336885\n",
        "  pow_gain=0.651796280999\n",
        "  llh: 283.693853598"
       ]
      },
      {
       "output_type": "stream",
       "stream": "stdout",
       "text": [
        "\n",
        "evaluating:\n",
        "  delta=0.55797282282\n",
        "  theta=3.75533492591\n",
        "  z_temp=0.0430738994616\n",
        "  pow_gain=0.651796285733\n",
        "  llh: 283.693982823"
       ]
      },
      {
       "output_type": "stream",
       "stream": "stdout",
       "text": [
        "\n",
        "evaluating:\n",
        "  delta=0.557972831759\n",
        "  theta=3.75518869864\n",
        "  z_temp=0.0430080629955\n",
        "  pow_gain=0.651796307161\n",
        "  llh: 283.693853597"
       ]
      },
      {
       "output_type": "stream",
       "stream": "stdout",
       "text": [
        "\n",
        "evaluating:\n",
        "  delta=0.557972842862\n",
        "  theta=3.75501342113\n",
        "  z_temp=0.0429291479334\n",
        "  pow_gain=0.651796332119\n",
        "  llh: 283.693885131"
       ]
      },
      {
       "output_type": "stream",
       "stream": "stdout",
       "text": [
        "\n",
        "evaluating:\n",
        "  delta=0.557972818544\n",
        "  theta=3.75551887628\n",
        "  z_temp=0.0431567189784\n",
        "  pow_gain=0.651796275372\n",
        "  llh: 283.693982824"
       ]
      },
      {
       "output_type": "stream",
       "stream": "stdout",
       "text": [
        "\n",
        "evaluating:\n",
        "  delta=0.55797282396\n",
        "  theta=3.75528143175\n",
        "  z_temp=0.0430498140618\n",
        "  pow_gain=0.65179629015\n",
        "  llh: 283.693853598"
       ]
      },
      {
       "output_type": "stream",
       "stream": "stdout",
       "text": [
        "\n",
        "evaluating:\n",
        "  delta=0.557972820349\n",
        "  theta=3.75543972811\n",
        "  z_temp=0.0431210840062\n",
        "  pow_gain=0.651796280298\n",
        "  llh: 283.693982824"
       ]
      },
      {
       "output_type": "stream",
       "stream": "stdout",
       "text": [
        "\n",
        "evaluating:\n",
        "  delta=0.557972823057\n",
        "  theta=3.75532100584\n",
        "  z_temp=0.0430676315479\n",
        "  pow_gain=0.651796287687\n",
        "  llh: 283.693853598"
       ]
      },
      {
       "output_type": "stream",
       "stream": "stdout",
       "text": [
        "\n",
        "evaluating:\n",
        "  delta=0.557972832581\n",
        "  theta=3.75512384361\n",
        "  z_temp=0.0429788633345\n",
        "  pow_gain=0.651796309487\n",
        "  llh: 283.693853598"
       ]
      },
      {
       "output_type": "stream",
       "stream": "stdout",
       "text": [
        "\n",
        "evaluating:\n",
        "  delta=0.55797283292\n",
        "  theta=3.75512417608\n",
        "  z_temp=0.042979013336\n",
        "  pow_gain=0.6517963098\n",
        "  llh: 283.693853597"
       ]
      },
      {
       "output_type": "stream",
       "stream": "stdout",
       "text": [
        "\n",
        "evaluating:\n",
        "  delta=0.557972838895\n",
        "  theta=3.75499733009\n",
        "  z_temp=0.0429219037805\n",
        "  pow_gain=0.651796323266\n",
        "  llh: 283.69388513"
       ]
      },
      {
       "output_type": "stream",
       "stream": "stdout",
       "text": [
        "\n",
        "evaluating:\n",
        "  delta=0.557972835765\n",
        "  theta=3.75508262344\n",
        "  z_temp=0.0429603051293\n",
        "  pow_gain=0.651796316036\n",
        "  llh: 283.693885129"
       ]
      },
      {
       "output_type": "stream",
       "stream": "stdout",
       "text": [
        "\n",
        "evaluating:\n",
        "  delta=0.557972826234\n",
        "  theta=3.75526141024\n",
        "  z_temp=0.0430407999433\n",
        "  pow_gain=0.651796294774\n",
        "  llh: 283.693853598"
       ]
      },
      {
       "output_type": "stream",
       "stream": "stdout",
       "text": [
        "\n",
        "evaluating:\n",
        "  delta=0.557972841363\n",
        "  theta=3.75497852407\n",
        "  z_temp=0.0429134361162\n",
        "  pow_gain=0.651796329612\n",
        "  llh: 283.693885131"
       ]
      },
      {
       "output_type": "stream",
       "stream": "stdout",
       "text": [
        "\n",
        "evaluating:\n",
        "  delta=0.557972825629\n",
        "  theta=3.75527253618\n",
        "  z_temp=0.0430458092954\n",
        "  pow_gain=0.651796293152\n",
        "  llh: 283.693853598"
       ]
      },
      {
       "output_type": "stream",
       "stream": "stdout",
       "text": [
        "\n",
        "evaluating:\n",
        "  delta=0.557972835211\n",
        "  theta=3.75509321702\n",
        "  z_temp=0.0429650745374\n",
        "  pow_gain=0.651796315025\n",
        "  llh: 283.693885129"
       ]
      },
      {
       "output_type": "stream",
       "stream": "stdout",
       "text": [
        "\n",
        "evaluating:\n",
        "  delta=0.557972828478\n",
        "  theta=3.75521936193\n",
        "  z_temp=0.0430218685918\n",
        "  pow_gain=0.651796299837\n",
        "  llh: 283.693853598"
       ]
      },
      {
       "output_type": "stream",
       "stream": "stdout",
       "text": [
        "\n",
        "evaluating:\n",
        "  delta=0.557972837241\n",
        "  theta=3.75505550395\n",
        "  z_temp=0.0429480948335\n",
        "  pow_gain=0.65179631999\n",
        "  llh: 283.69388513"
       ]
      },
      {
       "output_type": "stream",
       "stream": "stdout",
       "text": [
        "\n",
        "evaluating:\n",
        "  delta=0.557972828532\n",
        "  theta=3.75521827812\n",
        "  z_temp=0.0430213806799\n",
        "  pow_gain=0.651796299862\n",
        "  llh: 283.693853598"
       ]
      },
      {
       "output_type": "stream",
       "stream": "stdout",
       "text": [
        "\n",
        "  status: 0\n",
        "    nfev: 526\n",
        " success: True\n",
        "     fun: 283.6938535973228\n",
        "       x: array([ 0.55797283,  3.75512418,  0.04297901,  0.65179631])\n",
        " message: 'Optimization terminated successfully.'\n",
        "     nit: 297\n"
       ]
      }
     ],
     "prompt_number": 243
    },
    {
     "cell_type": "code",
     "collapsed": false,
     "input": [
      "pars = {'data': fitdata,\n",
      "        'fitting': ['delta', 'theta', 'z_temp', 'p_switch', 'pow_gain'],\n",
      "        'verbose': True}\n",
      "init = [randstart(p) for p in pars['fitting']]\n",
      "model_rw_cpt_pswitch.loglik_across_gambles(init, pars)"
     ],
     "language": "python",
     "metadata": {},
     "outputs": [
      {
       "output_type": "stream",
       "stream": "stdout",
       "text": [
        "evaluating:\n",
        "  delta=1.0\n",
        "  theta=6\n",
        "  z_temp=0.893208240625\n",
        "  p_switch=0.5\n",
        "  pow_gain=0.588302525818\n",
        "  llh: 352.775687036"
       ]
      },
      {
       "output_type": "stream",
       "stream": "stdout",
       "text": [
        "\n"
       ]
      },
      {
       "metadata": {},
       "output_type": "pyout",
       "prompt_number": 244,
       "text": [
        "352.7756870360999"
       ]
      }
     ],
     "prompt_number": 244
    },
    {
     "cell_type": "code",
     "collapsed": false,
     "input": [
      "f = minimize(model_rw_cpt_pswitch.loglik_across_gambles, init, (pars,), method='Nelder-Mead')\n",
      "print f"
     ],
     "language": "python",
     "metadata": {},
     "outputs": [
      {
       "output_type": "stream",
       "stream": "stdout",
       "text": [
        "evaluating:\n",
        "  delta=1.0\n",
        "  theta=6.0\n",
        "  z_temp=0.893208240625\n",
        "  p_switch=0.5\n",
        "  pow_gain=0.588302525818\n",
        "  llh: 352.775687036"
       ]
      },
      {
       "output_type": "stream",
       "stream": "stdout",
       "text": [
        "\n",
        "evaluating:\n",
        "  delta=1.05\n",
        "  theta=6.0\n",
        "  z_temp=0.893208240625\n",
        "  p_switch=0.5\n",
        "  pow_gain=0.588302525818\n",
        "  llh: 353.287488355"
       ]
      },
      {
       "output_type": "stream",
       "stream": "stdout",
       "text": [
        "\n",
        "evaluating:\n",
        "  delta=1.0\n",
        "  theta=6.3\n",
        "  z_temp=0.893208240625\n",
        "  p_switch=0.5\n",
        "  pow_gain=0.588302525818\n",
        "  llh: 352.775687036"
       ]
      },
      {
       "output_type": "stream",
       "stream": "stdout",
       "text": [
        "\n",
        "evaluating:\n",
        "  delta=1.0\n",
        "  theta=6.0\n",
        "  z_temp=0.937868652656\n",
        "  p_switch=0.5\n",
        "  pow_gain=0.588302525818\n",
        "  llh: 352.536387961"
       ]
      },
      {
       "output_type": "stream",
       "stream": "stdout",
       "text": [
        "\n",
        "evaluating:\n",
        "  delta=1.0\n",
        "  theta=6.0\n",
        "  z_temp=0.893208240625\n",
        "  p_switch=0.525\n",
        "  pow_gain=0.588302525818\n",
        "  llh: 362.055287613"
       ]
      },
      {
       "output_type": "stream",
       "stream": "stdout",
       "text": [
        "\n",
        "evaluating:\n",
        "  delta=1.0\n",
        "  theta=6.0\n",
        "  z_temp=0.893208240625\n",
        "  p_switch=0.5\n",
        "  pow_gain=0.617717652109\n",
        "  llh: 352.605106518"
       ]
      },
      {
       "output_type": "stream",
       "stream": "stdout",
       "text": [
        "\n",
        "evaluating:\n",
        "  delta=1.02\n",
        "  theta=6.12\n",
        "  z_temp=0.911072405438\n",
        "  p_switch=0.475\n",
        "  pow_gain=0.600068576335\n",
        "  llh: 344.266723729"
       ]
      },
      {
       "output_type": "stream",
       "stream": "stdout",
       "text": [
        "\n",
        "evaluating:\n",
        "  delta=1.03\n",
        "  theta=6.18\n",
        "  z_temp=0.920004487844\n",
        "  p_switch=0.45\n",
        "  pow_gain=0.605951601593\n",
        "  llh: 336.530998602"
       ]
      },
      {
       "output_type": "stream",
       "stream": "stdout",
       "text": [
        "\n",
        "evaluating:\n",
        "  delta=0.962\n",
        "  theta=6.192\n",
        "  z_temp=0.921790904325\n",
        "  p_switch=0.48\n",
        "  pow_gain=0.607128206644\n",
        "  llh: 345.464204864"
       ]
      },
      {
       "output_type": "stream",
       "stream": "stdout",
       "text": [
        "\n",
        "evaluating:\n",
        "  delta=0.9968\n",
        "  theta=5.8488\n",
        "  z_temp=0.933223969805\n",
        "  p_switch=0.472\n",
        "  pow_gain=0.614658478975\n",
        "  llh: 343.050630979"
       ]
      },
      {
       "output_type": "stream",
       "stream": "stdout",
       "text": [
        "\n",
        "evaluating:\n",
        "  delta=0.99552\n",
        "  theta=6.08832\n",
        "  z_temp=0.949230261477\n",
        "  p_switch=0.4608\n",
        "  pow_gain=0.625200860238\n",
        "  llh: 339.430100535"
       ]
      },
      {
       "output_type": "stream",
       "stream": "stdout",
       "text": [
        "\n",
        "evaluating:\n",
        "  delta=0.993728\n",
        "  theta=6.123648\n",
        "  z_temp=0.971639069818\n",
        "  p_switch=0.44512\n",
        "  pow_gain=0.598779017198\n",
        "  llh: 334.965524213"
       ]
      },
      {
       "output_type": "stream",
       "stream": "stdout",
       "text": [
        "\n",
        "evaluating:\n",
        "  delta=0.990592\n",
        "  theta=6.185472\n",
        "  z_temp=1.01085448441\n",
        "  p_switch=0.41768\n",
        "  pow_gain=0.589309699742\n",
        "  llh: 327.596991656"
       ]
      },
      {
       "output_type": "stream",
       "stream": "stdout",
       "text": [
        "\n",
        "evaluating:\n",
        "  delta=0.9899648\n",
        "  theta=6.1978368\n",
        "  z_temp=0.95617299049\n",
        "  p_switch=0.412192\n",
        "  pow_gain=0.628597013059\n",
        "  llh: 325.756223654"
       ]
      },
      {
       "output_type": "stream",
       "stream": "stdout",
       "text": [
        "\n",
        "evaluating:\n",
        "  delta=0.9849472\n",
        "  theta=6.2967552\n",
        "  z_temp=0.965325159407\n",
        "  p_switch=0.368288\n",
        "  pow_gain=0.648744256679\n",
        "  llh: 315.141511472"
       ]
      },
      {
       "output_type": "stream",
       "stream": "stdout",
       "text": [
        "\n",
        "evaluating:\n",
        "  delta=1.03714368\n",
        "  theta=6.04773888\n",
        "  z_temp=0.989664440854\n",
        "  p_switch=0.3875072\n",
        "  pow_gain=0.626417752246\n",
        "  llh: 320.168674314"
       ]
      },
      {
       "output_type": "stream",
       "stream": "stdout",
       "text": [
        "\n",
        "evaluating:\n",
        "  delta=1.018481152\n",
        "  theta=6.470514432\n",
        "  z_temp=1.00080756379\n",
        "  p_switch=0.36171008\n",
        "  pow_gain=0.623591189224\n",
        "  llh: 314.45106767"
       ]
      },
      {
       "output_type": "stream",
       "stream": "stdout",
       "text": [
        "\n",
        "evaluating:\n",
        "  delta=1.029321728\n",
        "  theta=6.781371648\n",
        "  z_temp=1.03459936079\n",
        "  p_switch=0.30656512\n",
        "  pow_gain=0.628057544349\n",
        "  llh: 319.148418063"
       ]
      },
      {
       "output_type": "stream",
       "stream": "stdout",
       "text": [
        "\n",
        "evaluating:\n",
        "  delta=1.0289456128\n",
        "  theta=6.3838722048\n",
        "  z_temp=1.00543219305\n",
        "  p_switch=0.333274112\n",
        "  pow_gain=0.612404939556\n",
        "  llh: 308.93488283"
       ]
      },
      {
       "output_type": "stream",
       "stream": "stdout",
       "text": [
        "\n",
        "evaluating:\n",
        "  delta=1.0456584192\n",
        "  theta=6.5316483072\n",
        "  z_temp=1.03353315883\n",
        "  p_switch=0.269511168\n",
        "  pow_gain=0.606006979215\n",
        "  llh: 309.764985609"
       ]
      },
      {
       "output_type": "stream",
       "stream": "stdout",
       "text": [
        "\n",
        "evaluating:\n",
        "  delta=0.99404385792\n",
        "  theta=6.37374108672\n",
        "  z_temp=1.06882904876\n",
        "  p_switch=0.2973837568\n",
        "  pow_gain=0.634235533386\n",
        "  llh: 302.853708223"
       ]
      },
      {
       "output_type": "stream",
       "stream": "stdout",
       "text": [
        "\n",
        "evaluating:\n",
        "  delta=0.97606578688\n",
        "  theta=6.47061163008\n",
        "  z_temp=1.14324132922\n",
        "  p_switch=0.2210756352\n",
        "  pow_gain=0.648377499283\n",
        "  llh: 293.526233268"
       ]
      },
      {
       "output_type": "stream",
       "stream": "stdout",
       "text": [
        "\n",
        "evaluating:\n",
        "  delta=1.02764137267\n",
        "  theta=6.48232493875\n",
        "  z_temp=1.03093379011\n",
        "  p_switch=0.25106201088\n",
        "  pow_gain=0.674504555053\n",
        "  llh: 296.000647451"
       ]
      },
      {
       "output_type": "stream",
       "stream": "stdout",
       "text": [
        "\n",
        "evaluating:\n",
        "  delta=0.977288769741\n",
        "  theta=6.79389248225\n",
        "  z_temp=1.06863157338\n",
        "  p_switch=0.226656735232\n",
        "  pow_gain=0.656631223672\n",
        "  llh: 300.146491119"
       ]
      },
      {
       "output_type": "stream",
       "stream": "stdout",
       "text": [
        "\n",
        "evaluating:\n",
        "  delta=1.02642187764\n",
        "  theta=6.74373107515\n",
        "  z_temp=1.13429342042\n",
        "  p_switch=0.189223429325\n",
        "  pow_gain=0.637459506036\n",
        "  llh: 294.104227479"
       ]
      },
      {
       "output_type": "stream",
       "stream": "stdout",
       "text": [
        "\n",
        "evaluating:\n",
        "  delta=0.996064215892\n",
        "  theta=6.67925850042\n",
        "  z_temp=1.15220535868\n",
        "  p_switch=0.126806689055\n",
        "  pow_gain=0.668159900216\n",
        "  llh: 285.784213716"
       ]
      },
      {
       "output_type": "stream",
       "stream": "stdout",
       "text": [
        "\n",
        "evaluating:\n",
        "  delta=0.984855747838\n",
        "  theta=6.78363053462\n",
        "  z_temp=1.22790425612\n",
        "  p_switch=0.00935499358208\n",
        "  pow_gain=0.690444255712\n",
        "  llh: 316.516487164"
       ]
      },
      {
       "output_type": "stream",
       "stream": "stdout",
       "text": [
        "\n",
        "evaluating:\n",
        "  delta=0.972447196329\n",
        "  theta=6.88405524586\n",
        "  z_temp=1.20628999568\n",
        "  p_switch=0.0726556878766\n",
        "  pow_gain=0.701648134148\n",
        "  llh: 283.413528096"
       ]
      },
      {
       "output_type": "stream",
       "stream": "stdout",
       "text": [
        "\n",
        "evaluating:\n",
        "  delta=0.944197988093\n",
        "  theta=7.13414676639\n",
        "  z_temp=1.30671889699\n",
        "  p_switch=-0.0576535241851\n",
        "  pow_gain=0.746269731444\n",
        "evaluating:\n",
        "  delta=1.02216741002\n",
        "  theta=6.51010007385\n",
        "  z_temp=1.19815398426\n",
        "  p_switch=0.117672645702\n",
        "  pow_gain=0.675428614223\n",
        "  llh: 285.664642106"
       ]
      },
      {
       "output_type": "stream",
       "stream": "stdout",
       "text": [
        "\n",
        "evaluating:\n",
        "  delta=0.969625222032\n",
        "  theta=6.83277767139\n",
        "  z_temp=1.30273984519\n",
        "  p_switch=0.0399116239834\n",
        "  pow_gain=0.65792490651\n",
        "  llh: 290.66486857"
       ]
      },
      {
       "output_type": "stream",
       "stream": "stdout",
       "text": [
        "\n",
        "evaluating:\n",
        "  delta=0.948126054825\n",
        "  theta=6.60699017349\n",
        "  z_temp=1.26675878479\n",
        "  p_switch=0.0420254834021\n",
        "  pow_gain=0.703156115715\n",
        "  llh: 286.71213619"
       ]
      },
      {
       "output_type": "stream",
       "stream": "stdout",
       "text": [
        "\n",
        "evaluating:\n",
        "  delta=0.987306252761\n",
        "  theta=6.93466103592\n",
        "  z_temp=1.30721785822\n",
        "  p_switch=-0.0614467831923\n",
        "  pow_gain=0.714149569042\n",
        "evaluating:\n",
        "  delta=0.97887590335\n",
        "  theta=6.58662398154\n",
        "  z_temp=1.18423546147\n",
        "  p_switch=0.150445030602\n",
        "  pow_gain=0.664820516723\n",
        "  llh: 288.29527482"
       ]
      },
      {
       "output_type": "stream",
       "stream": "stdout",
       "text": [
        "\n",
        "evaluating:\n",
        "  delta=0.997447090135\n",
        "  theta=6.47403351867\n",
        "  z_temp=1.10031758877\n",
        "  p_switch=0.163930590672\n",
        "  pow_gain=0.7073604059\n",
        "  llh: 289.251442374"
       ]
      },
      {
       "output_type": "stream",
       "stream": "stdout",
       "text": [
        "\n",
        "evaluating:\n",
        "  delta=0.99049162311\n",
        "  theta=6.56371955685\n",
        "  z_temp=1.15092315287\n",
        "  p_switch=0.132925849\n",
        "  pow_gain=0.695001531053\n",
        "  llh: 285.918279486"
       ]
      },
      {
       "output_type": "stream",
       "stream": "stdout",
       "text": [
        "\n",
        "evaluating:\n",
        "  delta=0.992842696721\n",
        "  theta=6.71102543865\n",
        "  z_temp=1.20549704904\n",
        "  p_switch=0.0463895114123\n",
        "  pow_gain=0.712537201419\n",
        "  llh: 287.034419626"
       ]
      },
      {
       "output_type": "stream",
       "stream": "stdout",
       "text": [
        "\n",
        "evaluating:\n",
        "  delta=0.989350998379\n",
        "  theta=6.67992507437\n",
        "  z_temp=1.20018165215\n",
        "  p_switch=0.0724033912097\n",
        "  pow_gain=0.700608030245\n",
        "  llh: 283.915489634"
       ]
      },
      {
       "output_type": "stream",
       "stream": "stdout",
       "text": [
        "\n",
        "evaluating:\n",
        "  delta=1.04008252267\n",
        "  theta=6.71983320705\n",
        "  z_temp=1.09634287266\n",
        "  p_switch=0.166960221735\n",
        "  pow_gain=0.673182368238\n",
        "  llh: 290.287881748"
       ]
      },
      {
       "output_type": "stream",
       "stream": "stdout",
       "text": [
        "\n",
        "evaluating:\n",
        "  delta=0.971115171786\n",
        "  theta=6.63520093188\n",
        "  z_temp=1.22415480676\n",
        "  p_switch=0.0732591679853\n",
        "  pow_gain=0.695662678846\n",
        "  llh: 283.597194672"
       ]
      },
      {
       "output_type": "stream",
       "stream": "stdout",
       "text": [
        "\n",
        "evaluating:\n",
        "  delta=0.989966373854\n",
        "  theta=6.7916963737\n",
        "  z_temp=1.24147116614\n",
        "  p_switch=0.0521931837319\n",
        "  pow_gain=0.681601412019\n",
        "  llh: 287.115798932"
       ]
      },
      {
       "output_type": "stream",
       "stream": "stdout",
       "text": [
        "\n",
        "evaluating:\n",
        "  delta=0.990360310796\n",
        "  theta=6.62071376106\n",
        "  z_temp=1.17356015619\n",
        "  p_switch=0.112742682683\n",
        "  pow_gain=0.691651501294\n",
        "  llh: 284.451923267"
       ]
      },
      {
       "output_type": "stream",
       "stream": "stdout",
       "text": [
        "\n",
        "evaluating:\n",
        "  delta=0.982112219033\n",
        "  theta=6.65273953439\n",
        "  z_temp=1.24873087934\n",
        "  p_switch=0.052686741128\n",
        "  pow_gain=0.717839683286\n",
        "  llh: 285.378070812"
       ]
      },
      {
       "output_type": "stream",
       "stream": "stdout",
       "text": [
        "\n",
        "evaluating:\n",
        "  delta=0.939986948506\n",
        "  theta=6.87895374517\n",
        "  z_temp=1.22301301178\n",
        "  p_switch=0.0358264226505\n",
        "  pow_gain=0.727535396905\n",
        "  llh: 286.944885151"
       ]
      },
      {
       "output_type": "stream",
       "stream": "stdout",
       "text": [
        "\n",
        "evaluating:\n",
        "  delta=1.00162229464\n",
        "  theta=6.60231349168\n",
        "  z_temp=1.20436874114\n",
        "  p_switch=0.0972110899395\n",
        "  pow_gain=0.688455309893\n",
        "  llh: 284.212741439"
       ]
      },
      {
       "output_type": "stream",
       "stream": "stdout",
       "text": [
        "\n",
        "evaluating:\n",
        "  delta=0.98784616974\n",
        "  theta=6.71614386755\n",
        "  z_temp=1.15469126143\n",
        "  p_switch=0.11862206675\n",
        "  pow_gain=0.673370578484\n",
        "  llh: 284.973886488"
       ]
      },
      {
       "output_type": "stream",
       "stream": "stdout",
       "text": [
        "\n",
        "evaluating:\n",
        "  delta=0.986412682063\n",
        "  theta=6.70029278426\n",
        "  z_temp=1.17820116591\n",
        "  p_switch=0.102138235344\n",
        "  pow_gain=0.684487854685\n",
        "  llh: 283.997071483"
       ]
      },
      {
       "output_type": "stream",
       "stream": "stdout",
       "text": [
        "\n",
        "evaluating:\n",
        "  delta=0.978019026484\n",
        "  theta=6.78000125016\n",
        "  z_temp=1.23171838847\n",
        "  p_switch=0.0543243462594\n",
        "  pow_gain=0.696693301833\n",
        "  llh: 285.622759235"
       ]
      },
      {
       "output_type": "stream",
       "stream": "stdout",
       "text": [
        "\n",
        "evaluating:\n",
        "  delta=0.987274989718\n",
        "  theta=6.66053563334\n",
        "  z_temp=1.18809971426\n",
        "  p_switch=0.0981380985769\n",
        "  pow_gain=0.692911951429\n",
        "  llh: 283.773485407"
       ]
      },
      {
       "output_type": "stream",
       "stream": "stdout",
       "text": [
        "\n",
        "evaluating:\n",
        "  delta=0.961018120666\n",
        "  theta=6.8216903762\n",
        "  z_temp=1.19440219276\n",
        "  p_switch=0.0702267424576\n",
        "  pow_gain=0.701672149848\n",
        "  llh: 283.131241807"
       ]
      },
      {
       "output_type": "stream",
       "stream": "stdout",
       "text": [
        "\n",
        "evaluating:\n",
        "  delta=0.940716033677\n",
        "  theta=6.93137881846\n",
        "  z_temp=1.18941891857\n",
        "  p_switch=0.0567345687167\n",
        "  pow_gain=0.708280569825\n",
        "  llh: 283.314733174"
       ]
      },
      {
       "output_type": "stream",
       "stream": "stdout",
       "text": [
        "\n",
        "evaluating:\n",
        "  delta=0.966069908687\n",
        "  theta=6.7722701204\n",
        "  z_temp=1.22705017873\n",
        "  p_switch=0.0525349998983\n",
        "  pow_gain=0.712513323121\n",
        "  llh: 284.855527479"
       ]
      },
      {
       "output_type": "stream",
       "stream": "stdout",
       "text": [
        "\n",
        "evaluating:\n",
        "  delta=0.981326988719\n",
        "  theta=6.71828711829\n",
        "  z_temp=1.19041341911\n",
        "  p_switch=0.0897374264827\n",
        "  pow_gain=0.691494221794\n",
        "  llh: 283.522460723"
       ]
      },
      {
       "output_type": "stream",
       "stream": "stdout",
       "text": [
        "\n",
        "evaluating:\n",
        "  delta=0.959921988509\n",
        "  theta=6.80798264786\n",
        "  z_temp=1.20116239928\n",
        "  p_switch=0.089203458142\n",
        "  pow_gain=0.692747624181\n",
        "  llh: 283.067203554"
       ]
      },
      {
       "output_type": "stream",
       "stream": "stdout",
       "text": [
        "\n",
        "evaluating:\n",
        "  delta=0.945207483574\n",
        "  theta=6.8720114346\n",
        "  z_temp=1.20165277284\n",
        "  p_switch=0.0976034916081\n",
        "  pow_gain=0.688817421149\n",
        "  llh: 283.089843915"
       ]
      },
      {
       "output_type": "stream",
       "stream": "stdout",
       "text": [
        "\n",
        "evaluating:\n",
        "  delta=0.951056796686\n",
        "  theta=6.8863508947\n",
        "  z_temp=1.21846941118\n",
        "  p_switch=0.0598948946008\n",
        "  pow_gain=0.700377972098\n",
        "  llh: 283.722143352"
       ]
      },
      {
       "output_type": "stream",
       "stream": "stdout",
       "text": [
        "\n",
        "evaluating:\n",
        "  delta=0.960111344944\n",
        "  theta=6.82989707936\n",
        "  z_temp=1.21087698695\n",
        "  p_switch=0.0694556955948\n",
        "  pow_gain=0.698511466931\n",
        "  llh: 283.312576412"
       ]
      },
      {
       "output_type": "stream",
       "stream": "stdout",
       "text": [
        "\n",
        "evaluating:\n",
        "  delta=0.962815083881\n",
        "  theta=6.98956405515\n",
        "  z_temp=1.17710319075\n",
        "  p_switch=0.0832524362361\n",
        "  pow_gain=0.698766759914\n",
        "  llh: 282.831190338"
       ]
      },
      {
       "output_type": "stream",
       "stream": "stdout",
       "text": [
        "\n",
        "evaluating:\n",
        "  delta=0.958665039928\n",
        "  theta=7.16674561679\n",
        "  z_temp=1.15357738274\n",
        "  p_switch=0.0882490703615\n",
        "  pow_gain=0.700318800448\n",
        "  llh: 282.602970119"
       ]
      },
      {
       "output_type": "stream",
       "stream": "stdout",
       "text": [
        "\n",
        "evaluating:\n",
        "  delta=0.943538487431\n",
        "  theta=7.08586126813\n",
        "  z_temp=1.19611016385\n",
        "  p_switch=0.0661788352903\n",
        "  pow_gain=0.706465048428\n",
        "  llh: 282.708237148"
       ]
      },
      {
       "output_type": "stream",
       "stream": "stdout",
       "text": [
        "\n",
        "evaluating:\n",
        "  delta=0.940854796262\n",
        "  theta=7.00081554947\n",
        "  z_temp=1.17616165455\n",
        "  p_switch=0.0806698328619\n",
        "  pow_gain=0.698237901786\n",
        "  llh: 282.300303693"
       ]
      },
      {
       "output_type": "stream",
       "stream": "stdout",
       "text": [
        "\n",
        "evaluating:\n",
        "  delta=0.925058596229\n",
        "  theta=7.05919570128\n",
        "  z_temp=1.16109748399\n",
        "  p_switch=0.0846769053545\n",
        "  pow_gain=0.696532785606\n",
        "  llh: 281.922207359"
       ]
      },
      {
       "output_type": "stream",
       "stream": "stdout",
       "text": [
        "\n",
        "evaluating:\n",
        "  delta=0.939169548161\n",
        "  theta=7.14669316474\n",
        "  z_temp=1.1516628621\n",
        "  p_switch=0.0899583090475\n",
        "  pow_gain=0.700583096474\n",
        "  llh: 282.202779204"
       ]
      },
      {
       "output_type": "stream",
       "stream": "stdout",
       "text": [
        "\n",
        "evaluating:\n",
        "  delta=0.929523343437\n",
        "  theta=7.28490098332\n",
        "  z_temp=1.15104192402\n",
        "  p_switch=0.0970798888207\n",
        "  pow_gain=0.696986792207\n",
        "  llh: 282.348232659"
       ]
      },
      {
       "output_type": "stream",
       "stream": "stdout",
       "text": [
        "\n",
        "evaluating:\n",
        "  delta=0.918460017566\n",
        "  theta=7.48937604585\n",
        "  z_temp=1.1242335274\n",
        "  p_switch=0.0812537454079\n",
        "  pow_gain=0.707606985084\n",
        "  llh: 281.348289646"
       ]
      },
      {
       "output_type": "stream",
       "stream": "stdout",
       "text": [
        "\n",
        "evaluating:\n",
        "  delta=0.897729032094\n",
        "  theta=7.83007274484\n",
        "  z_temp=1.08576909146\n",
        "  p_switch=0.0772788890408\n",
        "  pow_gain=0.715036665536\n",
        "  llh: 273.330044878"
       ]
      },
      {
       "output_type": "stream",
       "stream": "stdout",
       "text": [
        "\n",
        "evaluating:\n",
        "  delta=0.916519736509\n",
        "  theta=7.50918201626\n",
        "  z_temp=1.08514933388\n",
        "  p_switch=0.10871838976\n",
        "  pow_gain=0.69731820768\n",
        "  llh: 280.032473074"
       ]
      },
      {
       "output_type": "stream",
       "stream": "stdout",
       "text": [
        "\n",
        "evaluating:\n",
        "  delta=0.884535062644\n",
        "  theta=7.56527222739\n",
        "  z_temp=1.10031089544\n",
        "  p_switch=0.0948358824478\n",
        "  pow_gain=0.702264218553\n",
        "  llh: 277.181052008"
       ]
      },
      {
       "output_type": "stream",
       "stream": "stdout",
       "text": [
        "\n",
        "evaluating:\n",
        "  delta=0.895681446818\n",
        "  theta=7.55926535848\n",
        "  z_temp=1.08255394273\n",
        "  p_switch=0.0851074614395\n",
        "  pow_gain=0.707707197332\n",
        "  llh: 274.896724952"
       ]
      },
      {
       "output_type": "stream",
       "stream": "stdout",
       "text": [
        "\n",
        "evaluating:\n",
        "  delta=0.868640001556\n",
        "  theta=7.86250205455\n",
        "  z_temp=1.0542894369\n",
        "  p_switch=0.0902887021694\n",
        "  pow_gain=0.706960533409\n",
        "  llh: 275.973421414"
       ]
      },
      {
       "output_type": "stream",
       "stream": "stdout",
       "text": [
        "\n",
        "evaluating:\n",
        "  delta=0.86018351562\n",
        "  theta=8.27132205933\n",
        "  z_temp=1.00213159617\n",
        "  p_switch=0.0978148245884\n",
        "  pow_gain=0.715181943399\n",
        "  llh: 277.521834549"
       ]
      },
      {
       "output_type": "stream",
       "stream": "stdout",
       "text": [
        "\n",
        "evaluating:\n",
        "  delta=0.846187886984\n",
        "  theta=8.12619176158\n",
        "  z_temp=1.0448726512\n",
        "  p_switch=0.0694119141146\n",
        "  pow_gain=0.721542015611\n",
        "  llh: 271.599413361"
       ]
      },
      {
       "output_type": "stream",
       "stream": "stdout",
       "text": [
        "\n",
        "evaluating:\n",
        "  delta=0.811021962221\n",
        "  theta=8.43469663424\n",
        "  z_temp=1.02473430986\n",
        "  p_switch=0.0497586762921\n",
        "  pow_gain=0.733653919577\n",
        "  llh: 267.807858764"
       ]
      },
      {
       "output_type": "stream",
       "stream": "stdout",
       "text": [
        "\n",
        "evaluating:\n",
        "  delta=0.882859486514\n",
        "  theta=7.42940154847\n",
        "  z_temp=1.13693147438\n",
        "  p_switch=0.0610930199675\n",
        "  pow_gain=0.711067070364\n",
        "  llh: 280.835180515"
       ]
      },
      {
       "output_type": "stream",
       "stream": "stdout",
       "text": [
        "\n",
        "evaluating:\n",
        "  delta=0.865852508343\n",
        "  theta=8.06084193161\n",
        "  z_temp=1.03583156573\n",
        "  p_switch=0.0886343734332\n",
        "  pow_gain=0.71415322514\n",
        "  llh: 275.54621112"
       ]
      },
      {
       "output_type": "stream",
       "stream": "stdout",
       "text": [
        "\n",
        "evaluating:\n",
        "  delta=0.851034917769\n",
        "  theta=8.33367926211\n",
        "  z_temp=1.01296044323\n",
        "  p_switch=0.0615913585022\n",
        "  pow_gain=0.728740397845\n",
        "  llh: 269.895581603"
       ]
      },
      {
       "output_type": "stream",
       "stream": "stdout",
       "text": [
        "\n",
        "evaluating:\n",
        "  delta=0.859887945342\n",
        "  theta=8.22492031796\n",
        "  z_temp=1.0424503043\n",
        "  p_switch=0.0546596013137\n",
        "  pow_gain=0.732756028763\n",
        "  llh: 268.876823144"
       ]
      },
      {
       "output_type": "stream",
       "stream": "stdout",
       "text": [
        "\n",
        "evaluating:\n",
        "  delta=0.860289613355\n",
        "  theta=8.09221179544\n",
        "  z_temp=1.06355567091\n",
        "  p_switch=0.0427240212021\n",
        "  pow_gain=0.733004458482\n",
        "  llh: 267.313782046"
       ]
      },
      {
       "output_type": "stream",
       "stream": "stdout",
       "text": [
        "\n",
        "evaluating:\n",
        "  delta=0.85750816586\n",
        "  theta=8.10789672735\n",
        "  z_temp=1.0774177235\n",
        "  p_switch=0.0197688450866\n",
        "  pow_gain=0.742430075153\n",
        "  llh: 266.899843872"
       ]
      },
      {
       "output_type": "stream",
       "stream": "stdout",
       "text": [
        "\n",
        "evaluating:\n",
        "  delta=0.815191362497\n",
        "  theta=8.81324091612\n",
        "  z_temp=1.01477880622\n",
        "  p_switch=0.0201154866547\n",
        "  pow_gain=0.753339637417\n",
        "  llh: 252.96303434"
       ]
      },
      {
       "output_type": "stream",
       "stream": "stdout",
       "text": [
        "\n",
        "evaluating:\n",
        "  delta=0.774946320336\n",
        "  theta=9.44022869494\n",
        "  z_temp=0.980891237966\n",
        "  p_switch=-0.0123805007377\n",
        "  pow_gain=0.77615585746\n",
        "evaluating:\n",
        "  delta=0.780128709382\n",
        "  theta=8.93570079827\n",
        "  z_temp=0.983167543384\n",
        "  p_switch=0.00507869809885\n",
        "  pow_gain=0.761331357966\n",
        "  llh: 251.821769341"
       ]
      },
      {
       "output_type": "stream",
       "stream": "stdout",
       "text": [
        "\n",
        "evaluating:\n",
        "  delta=0.721328548025\n",
        "  theta=9.48851482499\n",
        "  z_temp=0.931866769344\n",
        "  p_switch=-0.0310213973721\n",
        "  pow_gain=0.784478704181\n",
        "evaluating:\n",
        "  delta=0.798460340352\n",
        "  theta=8.67290289547\n",
        "  z_temp=1.04405903168\n",
        "  p_switch=-0.00183883552378\n",
        "  pow_gain=0.760664009705\n",
        "evaluating:\n",
        "  delta=0.837891273415\n",
        "  theta=8.41848517045\n",
        "  z_temp=1.02073509034\n",
        "  p_switch=0.0457338099957\n",
        "  pow_gain=0.73672130081\n",
        "  llh: 267.258977648"
       ]
      },
      {
       "output_type": "stream",
       "stream": "stdout",
       "text": [
        "\n",
        "evaluating:\n",
        "  delta=0.780808644008\n",
        "  theta=8.85908778061\n",
        "  z_temp=1.00588308502\n",
        "  p_switch=0.0015226051375\n",
        "  pow_gain=0.758234487606\n",
        "  llh: 255.755542529"
       ]
      },
      {
       "output_type": "stream",
       "stream": "stdout",
       "text": [
        "\n",
        "evaluating:\n",
        "  delta=0.817589299843\n",
        "  theta=8.81906792287\n",
        "  z_temp=1.01605858952\n",
        "  p_switch=-0.0128708983028\n",
        "  pow_gain=0.767168824004\n",
        "evaluating:\n",
        "  delta=0.812663796627\n",
        "  theta=8.5307894564\n",
        "  z_temp=1.02256537978\n",
        "  p_switch=0.0341012826434\n",
        "  pow_gain=0.742032645684\n",
        "  llh: 257.042275127"
       ]
      },
      {
       "output_type": "stream",
       "stream": "stdout",
       "text": [
        "\n",
        "evaluating:\n",
        "  delta=0.780628997935\n",
        "  theta=8.88020110105\n",
        "  z_temp=1.02078992482\n",
        "  p_switch=-0.0134990429473\n",
        "  pow_gain=0.76622598072\n",
        "evaluating:\n",
        "  delta=0.823575704545\n",
        "  theta=8.5339141531\n",
        "  z_temp=1.02074879896\n",
        "  p_switch=0.0309255967599\n",
        "  pow_gain=0.744097470788\n",
        "  llh: 255.775506079"
       ]
      },
      {
       "output_type": "stream",
       "stream": "stdout",
       "text": [
        "\n",
        "evaluating:\n",
        "  delta=0.747439120963\n",
        "  theta=9.36119651445\n",
        "  z_temp=0.941439721845\n",
        "  p_switch=0.0169286226311\n",
        "  pow_gain=0.761184164632\n",
        "  llh: 253.561580224"
       ]
      },
      {
       "output_type": "stream",
       "stream": "stdout",
       "text": [
        "\n",
        "evaluating:\n",
        "  delta=0.766193619931\n",
        "  theta=9.27046660862\n",
        "  z_temp=0.963841802394\n",
        "  p_switch=-0.00427287893053\n",
        "  pow_gain=0.76924220168\n",
        "evaluating:\n",
        "  delta=0.801046252453\n",
        "  theta=8.71570874446\n",
        "  z_temp=1.00788448543\n",
        "  p_switch=0.0245077422499\n",
        "  pow_gain=0.748835034683\n",
        "  llh: 254.300266451"
       ]
      },
      {
       "output_type": "stream",
       "stream": "stdout",
       "text": [
        "\n",
        "evaluating:\n",
        "  delta=0.746269931176\n",
        "  theta=9.34005974846\n",
        "  z_temp=0.960512657799\n",
        "  p_switch=-0.0036643348511\n",
        "  pow_gain=0.769072402134\n",
        "evaluating:\n",
        "  delta=0.804249261203\n",
        "  theta=8.73545055194\n",
        "  z_temp=1.00568976367\n",
        "  p_switch=0.0222781138572\n",
        "  pow_gain=0.750341203624\n",
        "  llh: 253.609646464"
       ]
      },
      {
       "output_type": "stream",
       "stream": "stdout",
       "text": [
        "\n",
        "evaluating:\n",
        "  delta=0.798413238591\n",
        "  theta=8.96543122948\n",
        "  z_temp=0.9753010432\n",
        "  p_switch=0.0340408602592\n",
        "  pow_gain=0.751778071723\n",
        "  llh: 257.313091042"
       ]
      },
      {
       "output_type": "stream",
       "stream": "stdout",
       "text": [
        "\n",
        "evaluating:\n",
        "  delta=0.785209792654\n",
        "  theta=8.88567364283\n",
        "  z_temp=0.998237574565\n",
        "  p_switch=0.00965216891793\n",
        "  pow_gain=0.756620383635\n",
        "  llh: 251.537703423"
       ]
      },
      {
       "output_type": "stream",
       "stream": "stdout",
       "text": [
        "\n",
        "evaluating:\n",
        "  delta=0.771841046226\n",
        "  theta=9.17679622499\n",
        "  z_temp=0.969440878442\n",
        "  p_switch=0.00511349381401\n",
        "  pow_gain=0.764291664227\n",
        "  llh: 251.774768198"
       ]
      },
      {
       "output_type": "stream",
       "stream": "stdout",
       "text": [
        "\n",
        "evaluating:\n",
        "  delta=0.755674751486\n",
        "  theta=9.33359268672\n",
        "  z_temp=0.957136046111\n",
        "  p_switch=0.000477274189475\n",
        "  pow_gain=0.768365679527\n",
        "  llh: 260.761757136"
       ]
      },
      {
       "output_type": "stream",
       "stream": "stdout",
       "text": [
        "\n",
        "evaluating:\n",
        "  delta=0.792105633773\n",
        "  theta=8.88498608564\n",
        "  z_temp=0.993551334281\n",
        "  p_switch=0.0168279039403\n",
        "  pow_gain=0.7548473226\n",
        "  llh: 252.490857049"
       ]
      },
      {
       "output_type": "stream",
       "stream": "stdout",
       "text": [
        "\n",
        "evaluating:\n",
        "  delta=0.83035149685\n",
        "  theta=8.51736255269\n",
        "  z_temp=1.04223073291\n",
        "  p_switch=0.00578647793915\n",
        "  pow_gain=0.754987981706\n",
        "  llh: 252.228287437"
       ]
      },
      {
       "output_type": "stream",
       "stream": "stdout",
       "text": [
        "\n",
        "evaluating:\n",
        "  delta=0.768663309057\n",
        "  theta=8.94696680565\n",
        "  z_temp=0.979872419214\n",
        "  p_switch=-0.00313198957062\n",
        "  pow_gain=0.763491846636\n",
        "evaluating:\n",
        "  delta=0.803559349137\n",
        "  theta=8.8466723885\n",
        "  z_temp=1.00605220947\n",
        "  p_switch=0.0143036175984\n",
        "  pow_gain=0.755877689722\n",
        "  llh: 251.905616747"
       ]
      },
      {
       "output_type": "stream",
       "stream": "stdout",
       "text": [
        "\n",
        "evaluating:\n",
        "  delta=0.796330523926\n",
        "  theta=8.85989615727\n",
        "  z_temp=1.00610024123\n",
        "  p_switch=-0.000854121392929\n",
        "  pow_gain=0.762396308303\n",
        "evaluating:\n",
        "  delta=0.793161856311\n",
        "  theta=8.87871360354\n",
        "  z_temp=0.996688561017\n",
        "  p_switch=0.012407397607\n",
        "  pow_gain=0.756734569026\n",
        "  llh: 251.716333856"
       ]
      },
      {
       "output_type": "stream",
       "stream": "stdout",
       "text": [
        "\n",
        "evaluating:\n",
        "  delta=0.743208804634\n",
        "  theta=9.37206011057\n",
        "  z_temp=0.93920397384\n",
        "  p_switch=0.0128356724753\n",
        "  pow_gain=0.762954284124\n",
        "  llh: 252.728065387"
       ]
      },
      {
       "output_type": "stream",
       "stream": "stdout",
       "text": [
        "\n",
        "evaluating:\n",
        "  delta=0.808565823796\n",
        "  theta=8.73103694216\n",
        "  z_temp=1.01647404314\n",
        "  p_switch=0.00754877657319\n",
        "  pow_gain=0.756979557311\n",
        "  llh: 251.558123558"
       ]
      },
      {
       "output_type": "stream",
       "stream": "stdout",
       "text": [
        "\n",
        "evaluating:\n",
        "  delta=0.772003542211\n",
        "  theta=8.99649609622\n",
        "  z_temp=0.979551230752\n",
        "  p_switch=0.00161659640601\n",
        "  pow_gain=0.762505323144\n",
        "  llh: 254.766190161"
       ]
      },
      {
       "output_type": "stream",
       "stream": "stdout",
       "text": [
        "\n",
        "evaluating:\n",
        "  delta=0.795670397405\n",
        "  theta=8.88412831543\n",
        "  z_temp=0.999426964789\n",
        "  p_switch=0.0111318623003\n",
        "  pow_gain=0.757534598078\n",
        "  llh: 251.573485654"
       ]
      },
      {
       "output_type": "stream",
       "stream": "stdout",
       "text": [
        "\n",
        "evaluating:\n",
        "  delta=0.801650857175\n",
        "  theta=8.88683869331\n",
        "  z_temp=1.0089396654\n",
        "  p_switch=0.0132627815861\n",
        "  pow_gain=0.755532950945\n",
        "  llh: 251.786948087"
       ]
      },
      {
       "output_type": "stream",
       "stream": "stdout",
       "text": [
        "\n",
        "evaluating:\n",
        "  delta=0.796270320227\n",
        "  theta=8.89905421955\n",
        "  z_temp=1.0024966349\n",
        "  p_switch=0.0112167607143\n",
        "  pow_gain=0.7569825527\n",
        "  llh: 251.591142077"
       ]
      },
      {
       "output_type": "stream",
       "stream": "stdout",
       "text": [
        "\n",
        "evaluating:\n",
        "  delta=0.819710229931\n",
        "  theta=8.53464646441\n",
        "  z_temp=1.03588863292\n",
        "  p_switch=0.015669292631\n",
        "  pow_gain=0.749649000073\n",
        "  llh: 252.081344062"
       ]
      },
      {
       "output_type": "stream",
       "stream": "stdout",
       "text": [
        "\n",
        "evaluating:\n",
        "  delta=0.783808342152\n",
        "  theta=9.01625878484\n",
        "  z_temp=0.986052817062\n",
        "  p_switch=0.00775244351827\n",
        "  pow_gain=0.760630998188\n",
        "  llh: 251.473550372"
       ]
      },
      {
       "output_type": "stream",
       "stream": "stdout",
       "text": [
        "\n",
        "evaluating:\n",
        "  delta=0.794648014182\n",
        "  theta=8.88774715838\n",
        "  z_temp=1.00438665276\n",
        "  p_switch=0.00651340720262\n",
        "  pow_gain=0.758764666939\n",
        "  llh: 251.668771581"
       ]
      },
      {
       "output_type": "stream",
       "stream": "stdout",
       "text": [
        "\n",
        "evaluating:\n",
        "  delta=0.794276474715\n",
        "  theta=8.88548876967\n",
        "  z_temp=1.00246212983\n",
        "  p_switch=0.00798690480371\n",
        "  pow_gain=0.758257142461\n",
        "  llh: 251.507191971"
       ]
      },
      {
       "output_type": "stream",
       "stream": "stdout",
       "text": [
        "\n",
        "evaluating:\n",
        "  delta=0.790742012062\n",
        "  theta=8.86198036242\n",
        "  z_temp=0.998564776859\n",
        "  p_switch=0.00641210173106\n",
        "  pow_gain=0.759026519169\n",
        "  llh: 251.63969482"
       ]
      },
      {
       "output_type": "stream",
       "stream": "stdout",
       "text": [
        "\n",
        "evaluating:\n",
        "  delta=0.794888243186\n",
        "  theta=8.88978575527\n",
        "  z_temp=1.00151367039\n",
        "  p_switch=0.0100155959685\n",
        "  pow_gain=0.757493544317\n",
        "  llh: 251.508959342"
       ]
      },
      {
       "output_type": "stream",
       "stream": "stdout",
       "text": [
        "\n",
        "evaluating:\n",
        "  delta=0.791029073196\n",
        "  theta=8.87916924248\n",
        "  z_temp=1.0024691292\n",
        "  p_switch=0.00605049361235\n",
        "  pow_gain=0.758458052287\n",
        "  llh: 251.732878436"
       ]
      },
      {
       "output_type": "stream",
       "stream": "stdout",
       "text": [
        "\n",
        "evaluating:\n",
        "  delta=0.794510066353\n",
        "  theta=8.88288854719\n",
        "  z_temp=1.00018750589\n",
        "  p_switch=0.0098615201283\n",
        "  pow_gain=0.75776546163\n",
        "  llh: 251.496909501"
       ]
      },
      {
       "output_type": "stream",
       "stream": "stdout",
       "text": [
        "\n",
        "evaluating:\n",
        "  delta=0.772511343828\n",
        "  theta=9.09300125776\n",
        "  z_temp=0.978907435951\n",
        "  p_switch=0.0105586767615\n",
        "  pow_gain=0.759327454782\n",
        "  llh: 251.697645215"
       ]
      },
      {
       "output_type": "stream",
       "stream": "stdout",
       "text": [
        "\n",
        "evaluating:\n",
        "  delta=0.799552203804\n",
        "  theta=8.82152802106\n",
        "  z_temp=1.00708239134\n",
        "  p_switch=0.00830125162026\n",
        "  pow_gain=0.757566531679\n",
        "  llh: 251.486779322"
       ]
      },
      {
       "output_type": "stream",
       "stream": "stdout",
       "text": [
        "\n",
        "evaluating:\n",
        "  delta=0.80160433943\n",
        "  theta=8.91270630838\n",
        "  z_temp=1.00068183124\n",
        "  p_switch=0.00791491749768\n",
        "  pow_gain=0.760065087675\n",
        "  llh: 251.460997077"
       ]
      },
      {
       "output_type": "stream",
       "stream": "stdout",
       "text": [
        "\n",
        "evaluating:\n",
        "  delta=0.809801612818\n",
        "  theta=8.92622264116\n",
        "  z_temp=1.00190395958\n",
        "  p_switch=0.00704629178755\n",
        "  pow_gain=0.761787439695\n",
        "  llh: 251.525781624"
       ]
      },
      {
       "output_type": "stream",
       "stream": "stdout",
       "text": [
        "\n",
        "evaluating:\n",
        "  delta=0.794612327396\n",
        "  theta=8.91776241719\n",
        "  z_temp=0.997072999761\n",
        "  p_switch=0.00671121905881\n",
        "  pow_gain=0.760220544336\n",
        "  llh: 251.587993803"
       ]
      },
      {
       "output_type": "stream",
       "stream": "stdout",
       "text": [
        "\n",
        "evaluating:\n",
        "  delta=0.794819264238\n",
        "  theta=8.89677992075\n",
        "  z_temp=1.00040350273\n",
        "  p_switch=0.00918950174106\n",
        "  pow_gain=0.758175294322\n",
        "  llh: 251.476801587"
       ]
      },
      {
       "output_type": "stream",
       "stream": "stdout",
       "text": [
        "\n",
        "evaluating:\n",
        "  delta=0.795441211676\n",
        "  theta=8.92657586322\n",
        "  z_temp=0.99530108948\n",
        "  p_switch=0.00922094899852\n",
        "  pow_gain=0.759424206937\n",
        "  llh: 251.450147388"
       ]
      },
      {
       "output_type": "stream",
       "stream": "stdout",
       "text": [
        "\n",
        "evaluating:\n",
        "  delta=0.796023580157\n",
        "  theta=8.94711941\n",
        "  z_temp=0.991720569306\n",
        "  p_switch=0.00983797109593\n",
        "  pow_gain=0.760007739175\n",
        "  llh: 251.45116927"
       ]
      },
      {
       "output_type": "stream",
       "stream": "stdout",
       "text": [
        "\n",
        "evaluating:\n",
        "  delta=0.795580078168\n",
        "  theta=8.94665101211\n",
        "  z_temp=0.99562114685\n",
        "  p_switch=0.00709010522202\n",
        "  pow_gain=0.76057938589\n",
        "  llh: 251.533561048"
       ]
      },
      {
       "output_type": "stream",
       "stream": "stdout",
       "text": [
        "\n",
        "evaluating:\n",
        "  delta=0.794777569307\n",
        "  theta=8.89882916342\n",
        "  z_temp=0.999045916132\n",
        "  p_switch=0.00916866640173\n",
        "  pow_gain=0.758468942695\n",
        "  llh: 251.469722063"
       ]
      },
      {
       "output_type": "stream",
       "stream": "stdout",
       "text": [
        "\n",
        "evaluating:\n",
        "  delta=0.788628086918\n",
        "  theta=9.03893199519\n",
        "  z_temp=0.985511671313\n",
        "  p_switch=0.00899733964264\n",
        "  pow_gain=0.761139280248\n",
        "  llh: 251.443026541"
       ]
      },
      {
       "output_type": "stream",
       "stream": "stdout",
       "text": [
        "\n",
        "evaluating:\n",
        "  delta=0.783166028475\n",
        "  theta=9.14763398225\n",
        "  z_temp=0.974726311297\n",
        "  p_switch=0.00934538365383\n",
        "  pow_gain=0.762925654533\n",
        "  llh: 251.458005868"
       ]
      },
      {
       "output_type": "stream",
       "stream": "stdout",
       "text": [
        "\n",
        "evaluating:\n",
        "  delta=0.790884555555\n",
        "  theta=9.02054092527\n",
        "  z_temp=0.986233827361\n",
        "  p_switch=0.00803222468247\n",
        "  pow_gain=0.761716111975\n",
        "  llh: 251.43352589"
       ]
      },
      {
       "output_type": "stream",
       "stream": "stdout",
       "text": [
        "\n",
        "evaluating:\n",
        "  delta=0.788917201214\n",
        "  theta=9.08242142754\n",
        "  z_temp=0.979148989676\n",
        "  p_switch=0.00745358615318\n",
        "  pow_gain=0.763486520802\n",
        "  llh: 251.430413759"
       ]
      },
      {
       "output_type": "stream",
       "stream": "stdout",
       "text": [
        "\n",
        "evaluating:\n",
        "  delta=0.803939021265\n",
        "  theta=8.92752711826\n",
        "  z_temp=0.997822982075\n",
        "  p_switch=0.00934973995923\n",
        "  pow_gain=0.760402617154\n",
        "  llh: 251.39784392"
       ]
      },
      {
       "output_type": "stream",
       "stream": "stdout",
       "text": [
        "\n",
        "evaluating:\n",
        "  delta=0.814004360822\n",
        "  theta=8.88316128496\n",
        "  z_temp=1.00370806458\n",
        "  p_switch=0.0101483881797\n",
        "  pow_gain=0.760288426637\n",
        "  llh: 251.390016994"
       ]
      },
      {
       "output_type": "stream",
       "stream": "stdout",
       "text": [
        "\n",
        "evaluating:\n",
        "  delta=0.800660510717\n",
        "  theta=9.0386895883\n",
        "  z_temp=0.986694742384\n",
        "  p_switch=0.00832540578696\n",
        "  pow_gain=0.763292466225\n",
        "  llh: 251.376862234"
       ]
      },
      {
       "output_type": "stream",
       "stream": "stdout",
       "text": [
        "\n",
        "evaluating:\n",
        "  delta=0.803601981423\n",
        "  theta=9.10861980073\n",
        "  z_temp=0.98051915551\n",
        "  p_switch=0.00790377547958\n",
        "  pow_gain=0.76570422799\n",
        "  llh: 251.344095831"
       ]
      },
      {
       "output_type": "stream",
       "stream": "stdout",
       "text": [
        "\n",
        "evaluating:\n",
        "  delta=0.794632797391\n",
        "  theta=9.10317784027\n",
        "  z_temp=0.976993756984\n",
        "  p_switch=0.00957469788378\n",
        "  pow_gain=0.763951977371\n",
        "  llh: 251.393228145"
       ]
      },
      {
       "output_type": "stream",
       "stream": "stdout",
       "text": [
        "\n",
        "evaluating:\n",
        "  delta=0.80047255943\n",
        "  theta=9.15994907626\n",
        "  z_temp=0.975051565746\n",
        "  p_switch=0.00841016593704\n",
        "  pow_gain=0.766403966282\n",
        "  llh: 251.325497778"
       ]
      },
      {
       "output_type": "stream",
       "stream": "stdout",
       "text": [
        "\n",
        "evaluating:\n",
        "  delta=0.802988233307\n",
        "  theta=9.27663568278\n",
        "  z_temp=0.964926803879\n",
        "  p_switch=0.00800477440629\n",
        "  pow_gain=0.769893845955\n",
        "  llh: 251.274523945"
       ]
      },
      {
       "output_type": "stream",
       "stream": "stdout",
       "text": [
        "\n",
        "evaluating:\n",
        "  delta=0.813029742745\n",
        "  theta=9.14267441932\n",
        "  z_temp=0.97660703694\n",
        "  p_switch=0.00823674919838\n",
        "  pow_gain=0.768190719254\n",
        "  llh: 251.269399126"
       ]
      },
      {
       "output_type": "stream",
       "stream": "stdout",
       "text": [
        "\n",
        "evaluating:\n",
        "  delta=0.825230570658\n",
        "  theta=9.19454563139\n",
        "  z_temp=0.972154719753\n",
        "  p_switch=0.00785645397624\n",
        "  pow_gain=0.771716438757\n",
        "  llh: 251.271124792"
       ]
      },
      {
       "output_type": "stream",
       "stream": "stdout",
       "text": [
        "\n",
        "evaluating:\n",
        "  delta=0.822385645061\n",
        "  theta=9.12328618369\n",
        "  z_temp=0.981952937481\n",
        "  p_switch=0.0100937679059\n",
        "  pow_gain=0.767725158081\n",
        "  llh: 251.271351492"
       ]
      },
      {
       "output_type": "stream",
       "stream": "stdout",
       "text": [
        "\n",
        "evaluating:\n",
        "  delta=0.827771187952\n",
        "  theta=9.11057310832\n",
        "  z_temp=0.986091842372\n",
        "  p_switch=0.00818028418417\n",
        "  pow_gain=0.768768973796\n",
        "  llh: 251.318268696"
       ]
      },
      {
       "output_type": "stream",
       "stream": "stdout",
       "text": [
        "\n",
        "evaluating:\n",
        "  delta=0.813906355373\n",
        "  theta=9.42155439298\n",
        "  z_temp=0.952331045892\n",
        "  p_switch=0.00681935229003\n",
        "  pow_gain=0.775824743393\n",
        "  llh: 251.25901445"
       ]
      },
      {
       "output_type": "stream",
       "stream": "stdout",
       "text": [
        "\n",
        "evaluating:\n",
        "  delta=0.813857352649\n",
        "  theta=9.69075094698\n",
        "  z_temp=0.926642536547\n",
        "  p_switch=0.00515483434519\n",
        "  pow_gain=0.78359290177\n",
        "  llh: 244.105277633"
       ]
      },
      {
       "output_type": "stream",
       "stream": "stdout",
       "text": [
        "\n",
        "evaluating:\n",
        "  delta=0.828410883263\n",
        "  theta=9.42894833571\n",
        "  z_temp=0.953969307377\n",
        "  p_switch=0.00796438853639\n",
        "  pow_gain=0.777564411553\n",
        "  llh: 251.168525215"
       ]
      },
      {
       "output_type": "stream",
       "stream": "stdout",
       "text": [
        "\n",
        "evaluating:\n",
        "  delta=0.804497554857\n",
        "  theta=9.55434511907\n",
        "  z_temp=0.935547606517\n",
        "  p_switch=0.00760152157269\n",
        "  pow_gain=0.778017840849\n",
        "  llh: 245.206820681"
       ]
      },
      {
       "output_type": "stream",
       "stream": "stdout",
       "text": [
        "\n",
        "evaluating:\n",
        "  delta=0.829884238123\n",
        "  theta=9.49936631913\n",
        "  z_temp=0.944960966066\n",
        "  p_switch=0.00761573021713\n",
        "  pow_gain=0.780142566647\n",
        "  llh: 251.14813675"
       ]
      },
      {
       "output_type": "stream",
       "stream": "stdout",
       "text": [
        "\n",
        "evaluating:\n",
        "  delta=0.813486263593\n",
        "  theta=9.8031478724\n",
        "  z_temp=0.913138043898\n",
        "  p_switch=0.004535521642\n",
        "  pow_gain=0.787278217949\n",
        "  llh: 244.036562263"
       ]
      },
      {
       "output_type": "stream",
       "stream": "stdout",
       "text": [
        "\n",
        "evaluating:\n",
        "  delta=0.80903657286\n",
        "  theta=10.1430787168\n",
        "  z_temp=0.878730597106\n",
        "  p_switch=0.00175639851004\n",
        "  pow_gain=0.797054747883\n",
        "  llh: 244.096878896"
       ]
      },
      {
       "output_type": "stream",
       "stream": "stdout",
       "text": [
        "\n",
        "evaluating:\n",
        "  delta=0.82302477425\n",
        "  theta=10.047949018\n",
        "  z_temp=0.893096347222\n",
        "  p_switch=0.00491204932698\n",
        "  pow_gain=0.794447656254\n",
        "  llh: 243.822259884"
       ]
      },
      {
       "output_type": "stream",
       "stream": "stdout",
       "text": [
        "\n",
        "evaluating:\n",
        "  delta=0.828022290002\n",
        "  theta=10.5005863173\n",
        "  z_temp=0.851341002364\n",
        "  p_switch=0.00324969939129\n",
        "  pow_gain=0.807576124754\n",
        "  llh: 248.397827614"
       ]
      },
      {
       "output_type": "stream",
       "stream": "stdout",
       "text": [
        "\n",
        "evaluating:\n",
        "  delta=0.805489190126\n",
        "  theta=10.0092753745\n",
        "  z_temp=0.891384892723\n",
        "  p_switch=0.0039634743052\n",
        "  pow_gain=0.791827261835\n",
        "  llh: 244.389814694"
       ]
      },
      {
       "output_type": "stream",
       "stream": "stdout",
       "text": [
        "\n",
        "evaluating:\n",
        "  delta=0.794257816067\n",
        "  theta=10.1428210133\n",
        "  z_temp=0.878962804697\n",
        "  p_switch=0.00285123025969\n",
        "  pow_gain=0.793922984816\n",
        "  llh: 244.817935658"
       ]
      },
      {
       "output_type": "stream",
       "stream": "stdout",
       "text": [
        "\n",
        "evaluating:\n",
        "  delta=0.815548603817\n",
        "  theta=10.323232571\n",
        "  z_temp=0.865742243517\n",
        "  p_switch=0.000965322378934\n",
        "  pow_gain=0.8024097682\n",
        "  llh: 244.137106906"
       ]
      },
      {
       "output_type": "stream",
       "stream": "stdout",
       "text": [
        "\n",
        "evaluating:\n",
        "  delta=0.834304657707\n",
        "  theta=9.8069212999\n",
        "  z_temp=0.917038820866\n",
        "  p_switch=0.00496125053963\n",
        "  pow_gain=0.789899337588\n",
        "  llh: 243.257637613"
       ]
      },
      {
       "output_type": "stream",
       "stream": "stdout",
       "text": [
        "\n",
        "evaluating:\n",
        "  delta=0.854328078526\n",
        "  theta=9.63897144322\n",
        "  z_temp=0.936076828951\n",
        "  p_switch=0.0060162606796\n",
        "  pow_gain=0.787887513974\n",
        "  llh: 242.744931888"
       ]
      },
      {
       "output_type": "stream",
       "stream": "stdout",
       "text": [
        "\n",
        "evaluating:\n",
        "  delta=0.842608839008\n",
        "  theta=9.79234536611\n",
        "  z_temp=0.922493507331\n",
        "  p_switch=0.00467012104388\n",
        "  pow_gain=0.790419161424\n",
        "  llh: 242.881169164"
       ]
      },
      {
       "output_type": "stream",
       "stream": "stdout",
       "text": [
        "\n",
        "evaluating:\n",
        "  delta=0.843373519394\n",
        "  theta=9.26603328769\n",
        "  z_temp=0.970836662062\n",
        "  p_switch=0.00915019243612\n",
        "  pow_gain=0.775040412348\n",
        "  llh: 251.183014467"
       ]
      },
      {
       "output_type": "stream",
       "stream": "stdout",
       "text": [
        "\n",
        "evaluating:\n",
        "  delta=0.822504832711\n",
        "  theta=10.0589327502\n",
        "  z_temp=0.892015848153\n",
        "  p_switch=0.00301153989323\n",
        "  pow_gain=0.795567429237\n",
        "  llh: 243.513840889"
       ]
      },
      {
       "output_type": "stream",
       "stream": "stdout",
       "text": [
        "\n",
        "evaluating:\n",
        "  delta=0.848523762586\n",
        "  theta=10.045787633\n",
        "  z_temp=0.896085693675\n",
        "  p_switch=0.00410336268909\n",
        "  pow_gain=0.798647089765\n",
        "  llh: 242.670880323"
       ]
      },
      {
       "output_type": "stream",
       "stream": "stdout",
       "text": [
        "\n",
        "evaluating:\n",
        "  delta=0.865856967555\n",
        "  theta=10.223305976\n",
        "  z_temp=0.88080727224\n",
        "  p_switch=0.00357762686104\n",
        "  pow_gain=0.806174183762\n",
        "  llh: 242.183337444"
       ]
      },
      {
       "output_type": "stream",
       "stream": "stdout",
       "text": [
        "\n",
        "evaluating:\n",
        "  delta=0.869843133226\n",
        "  theta=10.101453949\n",
        "  z_temp=0.896657877661\n",
        "  p_switch=0.00433951747989\n",
        "  pow_gain=0.802520159911\n",
        "  llh: 242.140648348"
       ]
      },
      {
       "output_type": "stream",
       "stream": "stdout",
       "text": [
        "\n",
        "evaluating:\n",
        "  delta=0.898021568043\n",
        "  theta=10.2506069873\n",
        "  z_temp=0.888417794543\n",
        "  p_switch=0.00424151539884\n",
        "  pow_gain=0.810141130892\n",
        "  llh: 241.633507947"
       ]
      },
      {
       "output_type": "stream",
       "stream": "stdout",
       "text": [
        "\n",
        "evaluating:\n",
        "  delta=0.890303340088\n",
        "  theta=9.93771599111\n",
        "  z_temp=0.914828153265\n",
        "  p_switch=0.00369477622365\n",
        "  pow_gain=0.801628111462\n",
        "  llh: 241.689279731"
       ]
      },
      {
       "output_type": "stream",
       "stream": "stdout",
       "text": [
        "\n",
        "evaluating:\n",
        "  delta=0.917942684577\n",
        "  theta=9.87824555531\n",
        "  z_temp=0.925033574378\n",
        "  p_switch=0.00586858018957\n",
        "  pow_gain=0.802932611368\n",
        "  llh: 241.526321097"
       ]
      },
      {
       "output_type": "stream",
       "stream": "stdout",
       "text": [
        "\n",
        "evaluating:\n",
        "  delta=0.96566161051\n",
        "  theta=9.78790195788\n",
        "  z_temp=0.941542437491\n",
        "  p_switch=0.00729710033773\n",
        "  pow_gain=0.806615202434\n",
        "  llh: 241.502292614"
       ]
      },
      {
       "output_type": "stream",
       "stream": "stdout",
       "text": [
        "\n",
        "evaluating:\n",
        "  delta=0.947059786881\n",
        "  theta=10.1430555761\n",
        "  z_temp=0.902175487265\n",
        "  p_switch=0.00526079075647\n",
        "  pow_gain=0.814559295586\n",
        "  llh: 241.298022792"
       ]
      },
      {
       "output_type": "stream",
       "stream": "stdout",
       "text": [
        "\n",
        "evaluating:\n",
        "  delta=0.999285260818\n",
        "  theta=10.3184106811\n",
        "  z_temp=0.892016477232\n",
        "  p_switch=0.00555612561276\n",
        "  pow_gain=0.826629362667\n",
        "  llh: 241.623386962"
       ]
      },
      {
       "output_type": "stream",
       "stream": "stdout",
       "text": [
        "\n",
        "evaluating:\n",
        "  delta=0.972433230704\n",
        "  theta=10.4980631521\n",
        "  z_temp=0.87503162897\n",
        "  p_switch=0.00361246315149\n",
        "  pow_gain=0.82775965568\n",
        "  llh: 241.505595465"
       ]
      },
      {
       "output_type": "stream",
       "stream": "stdout",
       "text": [
        "\n",
        "evaluating:\n",
        "  delta=1.00353484693\n",
        "  theta=10.0236314898\n",
        "  z_temp=0.927990928374\n",
        "  p_switch=0.00606503148624\n",
        "  pow_gain=0.81810717466\n",
        "  llh: 241.651786921"
       ]
      },
      {
       "output_type": "stream",
       "stream": "stdout",
       "text": [
        "\n",
        "evaluating:\n",
        "  delta=1.02438107714\n",
        "  theta=10.3435876741\n",
        "  z_temp=0.899235157392\n",
        "  p_switch=0.00689598422866\n",
        "  pow_gain=0.829244872239\n",
        "  llh: 241.530299289"
       ]
      },
      {
       "output_type": "stream",
       "stream": "stdout",
       "text": [
        "\n",
        "evaluating:\n",
        "  delta=0.919488062377\n",
        "  theta=10.3856546492\n",
        "  z_temp=0.874570073891\n",
        "  p_switch=0.00485811006304\n",
        "  pow_gain=0.817220888073\n",
        "  llh: 241.435591322"
       ]
      },
      {
       "output_type": "stream",
       "stream": "stdout",
       "text": [
        "\n",
        "evaluating:\n",
        "  delta=1.033587939\n",
        "  theta=10.2126982165\n",
        "  z_temp=0.908604119461\n",
        "  p_switch=0.00692826401612\n",
        "  pow_gain=0.828018834712\n",
        "  llh: 241.467974231"
       ]
      },
      {
       "output_type": "stream",
       "stream": "stdout",
       "text": [
        "\n",
        "evaluating:\n",
        "  delta=0.910911174648\n",
        "  theta=10.0673617465\n",
        "  z_temp=0.901534341439\n",
        "  p_switch=0.00428670710128\n",
        "  pow_gain=0.808424678355\n",
        "  llh: 241.467091001"
       ]
      },
      {
       "output_type": "stream",
       "stream": "stdout",
       "text": [
        "\n",
        "evaluating:\n",
        "  delta=0.938250198663\n",
        "  theta=9.74060570636\n",
        "  z_temp=0.936338954848\n",
        "  p_switch=0.00783992575836\n",
        "  pow_gain=0.802175903984\n",
        "  llh: 241.640055121"
       ]
      },
      {
       "output_type": "stream",
       "stream": "stdout",
       "text": [
        "\n",
        "evaluating:\n",
        "  delta=0.963887472694\n",
        "  theta=10.3086987907\n",
        "  z_temp=0.89035846044\n",
        "  p_switch=0.00466932880321\n",
        "  pow_gain=0.821363717756\n",
        "  llh: 241.317606037"
       ]
      },
      {
       "output_type": "stream",
       "stream": "stdout",
       "text": [
        "\n",
        "evaluating:\n",
        "  delta=0.944312163731\n",
        "  theta=10.6590856337\n",
        "  z_temp=0.849354555507\n",
        "  p_switch=0.00310417995831\n",
        "  pow_gain=0.829219763359\n",
        "  llh: 242.06470286"
       ]
      },
      {
       "output_type": "stream",
       "stream": "stdout",
       "text": [
        "\n",
        "evaluating:\n",
        "  delta=0.960324248815\n",
        "  theta=10.0056978768\n",
        "  z_temp=0.918495466995\n",
        "  p_switch=0.00624887024288\n",
        "  pow_gain=0.812266342665\n",
        "  llh: 241.359915307"
       ]
      },
      {
       "output_type": "stream",
       "stream": "stdout",
       "text": [
        "\n",
        "evaluating:\n",
        "  delta=0.847080359163\n",
        "  theta=10.1514892392\n",
        "  z_temp=0.886249412551\n",
        "  p_switch=0.00320125877063\n",
        "  pow_gain=0.801515134262\n",
        "  llh: 242.640362537"
       ]
      },
      {
       "output_type": "stream",
       "stream": "stdout",
       "text": [
        "\n",
        "evaluating:\n",
        "  delta=0.986961044043\n",
        "  theta=10.1973959722\n",
        "  z_temp=0.903015442733\n",
        "  p_switch=0.00599651270475\n",
        "  pow_gain=0.8213929096\n",
        "  llh: 241.548746733"
       ]
      },
      {
       "output_type": "stream",
       "stream": "stdout",
       "text": [
        "\n",
        "evaluating:\n",
        "  delta=0.955473629788\n",
        "  theta=10.2258771834\n",
        "  z_temp=0.896266973852\n",
        "  p_switch=0.00496505977984\n",
        "  pow_gain=0.817961506671\n",
        "  llh: 241.289186663"
       ]
      },
      {
       "output_type": "stream",
       "stream": "stdout",
       "text": [
        "\n",
        "evaluating:\n",
        "  delta=0.953692017848\n",
        "  theta=10.0743767265\n",
        "  z_temp=0.91033547713\n",
        "  p_switch=0.00575483049967\n",
        "  pow_gain=0.813412819125\n",
        "  llh: 241.319821471"
       ]
      },
      {
       "output_type": "stream",
       "stream": "stdout",
       "text": [
        "\n",
        "evaluating:\n",
        "  delta=0.933273924629\n",
        "  theta=10.2643551126\n",
        "  z_temp=0.888372780578\n",
        "  p_switch=0.00505945040975\n",
        "  pow_gain=0.815890091829\n",
        "  llh: 241.333984316"
       ]
      },
      {
       "output_type": "stream",
       "stream": "stdout",
       "text": [
        "\n",
        "evaluating:\n",
        "  delta=0.928985480765\n",
        "  theta=10.1052086613\n",
        "  z_temp=0.901854914352\n",
        "  p_switch=0.00477374892887\n",
        "  pow_gain=0.81149198697\n",
        "  llh: 241.346850282"
       ]
      },
      {
       "output_type": "stream",
       "stream": "stdout",
       "text": [
        "\n",
        "evaluating:\n",
        "  delta=0.990323862942\n",
        "  theta=10.1778768963\n",
        "  z_temp=0.905389803363\n",
        "  p_switch=0.00609452738629\n",
        "  pow_gain=0.821289065149\n",
        "  llh: 241.59477229"
       ]
      },
      {
       "output_type": "stream",
       "stream": "stdout",
       "text": [
        "\n",
        "evaluating:\n",
        "  delta=0.897070073022\n",
        "  theta=10.1472724077\n",
        "  z_temp=0.894212449908\n",
        "  p_switch=0.00423102476355\n",
        "  pow_gain=0.808037214924\n",
        "  llh: 241.633449793"
       ]
      },
      {
       "output_type": "stream",
       "stream": "stdout",
       "text": [
        "\n",
        "evaluating:\n",
        "  delta=0.967010415462\n",
        "  theta=10.1702257741\n",
        "  z_temp=0.902595464999\n",
        "  p_switch=0.00562865173061\n",
        "  pow_gain=0.817976102593\n",
        "  llh: 241.342184855"
       ]
      },
      {
       "output_type": "stream",
       "stream": "stdout",
       "text": [
        "\n",
        "evaluating:\n",
        "  delta=0.973618429078\n",
        "  theta=10.2459474878\n",
        "  z_temp=0.898043559178\n",
        "  p_switch=0.00589376434166\n",
        "  pow_gain=0.820427939351\n",
        "  llh: 241.392821584"
       ]
      },
      {
       "output_type": "stream",
       "stream": "stdout",
       "text": [
        "\n",
        "evaluating:\n",
        "  delta=0.940143717843\n",
        "  theta=10.1403933679\n",
        "  z_temp=0.900902075558\n",
        "  p_switch=0.00505375278207\n",
        "  pow_gain=0.813725975066\n",
        "  llh: 241.306604724"
       ]
      },
      {
       "output_type": "stream",
       "stream": "stdout",
       "text": [
        "\n",
        "evaluating:\n",
        "  delta=0.924846815334\n",
        "  theta=10.1689974125\n",
        "  z_temp=0.896625652754\n",
        "  p_switch=0.00480890196051\n",
        "  pow_gain=0.812243772718\n",
        "  llh: 241.375289107"
       ]
      },
      {
       "output_type": "stream",
       "stream": "stdout",
       "text": [
        "\n",
        "evaluating:\n",
        "  delta=0.95646951543\n",
        "  theta=10.1699186837\n",
        "  z_temp=0.901103011938\n",
        "  p_switch=0.00542371428808\n",
        "  pow_gain=0.816543020124\n",
        "  llh: 241.298295134"
       ]
      },
      {
       "output_type": "stream",
       "stream": "stdout",
       "text": [
        "\n",
        "evaluating:\n",
        "  delta=0.967861542487\n",
        "  theta=10.0370935024\n",
        "  z_temp=0.915940429719\n",
        "  p_switch=0.0055238088327\n",
        "  pow_gain=0.814590954799\n",
        "  llh: 241.372940617"
       ]
      },
      {
       "output_type": "stream",
       "stream": "stdout",
       "text": [
        "\n",
        "evaluating:\n",
        "  delta=0.941920829093\n",
        "  theta=10.2075397101\n",
        "  z_temp=0.895264692863\n",
        "  p_switch=0.00517554001549\n",
        "  pow_gain=0.815565307572\n",
        "  llh: 241.302308809"
       ]
      },
      {
       "output_type": "stream",
       "stream": "stdout",
       "text": [
        "\n",
        "evaluating:\n",
        "  delta=0.942734973766\n",
        "  theta=10.280337082\n",
        "  z_temp=0.887949419461\n",
        "  p_switch=0.00459671254911\n",
        "  pow_gain=0.817929222882\n",
        "  llh: 241.286881777"
       ]
      },
      {
       "output_type": "stream",
       "stream": "stdout",
       "text": [
        "\n",
        "evaluating:\n",
        "  delta=0.937256451725\n",
        "  theta=10.3833172598\n",
        "  z_temp=0.876756390626\n",
        "  p_switch=0.00401765357382\n",
        "  pow_gain=0.82018742476\n",
        "  llh: 241.307763303"
       ]
      },
      {
       "output_type": "stream",
       "stream": "stdout",
       "text": [
        "\n",
        "evaluating:\n",
        "  delta=0.95731977614\n",
        "  theta=10.2702979262\n",
        "  z_temp=0.892201758593\n",
        "  p_switch=0.00511497417352\n",
        "  pow_gain=0.819297366068\n",
        "  llh: 241.286119974"
       ]
      },
      {
       "output_type": "stream",
       "stream": "stdout",
       "text": [
        "\n",
        "evaluating:\n",
        "  delta=0.965907805288\n",
        "  theta=10.3352502053\n",
        "  z_temp=0.887851600111\n",
        "  p_switch=0.00514558486925\n",
        "  pow_gain=0.822083061569\n",
        "  llh: 241.313100154"
       ]
      },
      {
       "output_type": "stream",
       "stream": "stdout",
       "text": [
        "\n",
        "evaluating:\n",
        "  delta=0.961702243708\n",
        "  theta=10.2282548705\n",
        "  z_temp=0.89661396758\n",
        "  p_switch=0.00496896060332\n",
        "  pow_gain=0.81895085696\n",
        "  llh: 241.30397176"
       ]
      },
      {
       "output_type": "stream",
       "stream": "stdout",
       "text": [
        "\n",
        "evaluating:\n",
        "  delta=0.946866182747\n",
        "  theta=10.2127185002\n",
        "  z_temp=0.895602011542\n",
        "  p_switch=0.00512389516245\n",
        "  pow_gain=0.816411694919\n",
        "  llh: 241.289675054"
       ]
      },
      {
       "output_type": "stream",
       "stream": "stdout",
       "text": [
        "\n",
        "evaluating:\n",
        "  delta=0.943312224299\n",
        "  theta=10.2829958234\n",
        "  z_temp=0.888575248348\n",
        "  p_switch=0.00460085868047\n",
        "  pow_gain=0.817920614326\n",
        "  llh: 241.286607422"
       ]
      },
      {
       "output_type": "stream",
       "stream": "stdout",
       "text": [
        "\n",
        "evaluating:\n",
        "  delta=0.951222927815\n",
        "  theta=10.36583503\n",
        "  z_temp=0.882062677454\n",
        "  p_switch=0.00449980938169\n",
        "  pow_gain=0.821248866361\n",
        "  llh: 241.280507697"
       ]
      },
      {
       "output_type": "stream",
       "stream": "stdout",
       "text": [
        "\n",
        "evaluating:\n",
        "  delta=0.953304498281\n",
        "  theta=10.4772247569\n",
        "  z_temp=0.872006272548\n",
        "  p_switch=0.0041193186943\n",
        "  pow_gain=0.824593651748\n",
        "  llh: 241.294957478"
       ]
      },
      {
       "output_type": "stream",
       "stream": "stdout",
       "text": [
        "\n",
        "evaluating:\n",
        "  delta=0.953159229976\n",
        "  theta=10.3574187178\n",
        "  z_temp=0.883220419541\n",
        "  p_switch=0.0043870706634\n",
        "  pow_gain=0.821331335604\n",
        "  llh: 241.288397348"
       ]
      },
      {
       "output_type": "stream",
       "stream": "stdout",
       "text": [
        "\n",
        "evaluating:\n",
        "  delta=0.94362602301\n",
        "  theta=10.3968766484\n",
        "  z_temp=0.877336835506\n",
        "  p_switch=0.00431471039944\n",
        "  pow_gain=0.821129455425\n",
        "  llh: 241.285412564"
       ]
      },
      {
       "output_type": "stream",
       "stream": "stdout",
       "text": [
        "\n",
        "evaluating:\n",
        "  delta=0.942127140036\n",
        "  theta=10.2811182862\n",
        "  z_temp=0.888029956204\n",
        "  p_switch=0.00486375541029\n",
        "  pow_gain=0.817678874421\n",
        "  llh: 241.289702646"
       ]
      },
      {
       "output_type": "stream",
       "stream": "stdout",
       "text": [
        "\n",
        "evaluating:\n",
        "  delta=0.950401207491\n",
        "  theta=10.3383436099\n",
        "  z_temp=0.884422803706\n",
        "  p_switch=0.00450624185012\n",
        "  pow_gain=0.820418220308\n",
        "  llh: 241.28162492"
       ]
      },
      {
       "output_type": "stream",
       "stream": "stdout",
       "text": [
        "\n",
        "evaluating:\n",
        "  delta=0.955617889736\n",
        "  theta=10.3814025331\n",
        "  z_temp=0.881890309982\n",
        "  p_switch=0.00461792524499\n",
        "  pow_gain=0.822076586114\n",
        "  llh: 241.28157266"
       ]
      },
      {
       "output_type": "stream",
       "stream": "stdout",
       "text": [
        "\n",
        "evaluating:\n",
        "  delta=0.959962905378\n",
        "  theta=10.4181064756\n",
        "  z_temp=0.878590505749\n",
        "  p_switch=0.00462060573944\n",
        "  pow_gain=0.823747583384\n",
        "  llh: 241.287821284"
       ]
      },
      {
       "output_type": "stream",
       "stream": "stdout",
       "text": [
        "\n",
        "evaluating:\n",
        "  delta=0.947474894569\n",
        "  theta=10.3167734865\n",
        "  z_temp=0.886079062698\n",
        "  p_switch=0.00460579544521\n",
        "  pow_gain=0.819377356591\n",
        "  llh: 241.280505229"
       ]
      },
      {
       "output_type": "stream",
       "stream": "stdout",
       "text": [
        "\n",
        "evaluating:\n",
        "  delta=0.942017400908\n",
        "  theta=10.4493945969\n",
        "  z_temp=0.872514917145\n",
        "  p_switch=0.00390281875506\n",
        "  pow_gain=0.822402827851\n",
        "  llh: 241.304793482"
       ]
      },
      {
       "output_type": "stream",
       "stream": "stdout",
       "text": [
        "\n",
        "evaluating:\n",
        "  delta=0.953494182332\n",
        "  theta=10.3150720939\n",
        "  z_temp=0.887280048231\n",
        "  p_switch=0.00481193531891\n",
        "  pow_gain=0.820073731514\n",
        "  llh: 241.27911384"
       ]
      },
      {
       "output_type": "stream",
       "stream": "stdout",
       "text": [
        "\n",
        "evaluating:\n",
        "  delta=0.959658417766\n",
        "  theta=10.2900940529\n",
        "  z_temp=0.891357125323\n",
        "  p_switch=0.00490197249693\n",
        "  pow_gain=0.820148448929\n",
        "  llh: 241.292715129"
       ]
      },
      {
       "output_type": "stream",
       "stream": "stdout",
       "text": [
        "\n",
        "evaluating:\n",
        "  delta=0.947634121699\n",
        "  theta=10.3701809995\n",
        "  z_temp=0.88084190796\n",
        "  p_switch=0.00446152592381\n",
        "  pow_gain=0.820884203801\n",
        "  llh: 241.279963919"
       ]
      },
      {
       "output_type": "stream",
       "stream": "stdout",
       "text": [
        "\n",
        "evaluating:\n",
        "  delta=0.95177639897\n",
        "  theta=10.3613620473\n",
        "  z_temp=0.882838798824\n",
        "  p_switch=0.00469255467572\n",
        "  pow_gain=0.821046077444\n",
        "  llh: 241.276395522"
       ]
      },
      {
       "output_type": "stream",
       "stream": "stdout",
       "text": [
        "\n",
        "evaluating:\n",
        "  delta=0.952463994709\n",
        "  theta=10.372871266\n",
        "  z_temp=0.882046796382\n",
        "  p_switch=0.00478571108852\n",
        "  pow_gain=0.821360006012\n",
        "  llh: 241.274733148"
       ]
      },
      {
       "output_type": "stream",
       "stream": "stdout",
       "text": [
        "\n",
        "evaluating:\n",
        "  delta=0.945298158713\n",
        "  theta=10.3148906172\n",
        "  z_temp=0.885433887108\n",
        "  p_switch=0.00464798561826\n",
        "  pow_gain=0.819101079598\n",
        "  llh: 241.28135713"
       ]
      },
      {
       "output_type": "stream",
       "stream": "stdout",
       "text": [
        "\n",
        "evaluating:\n",
        "  delta=0.947878091469\n",
        "  theta=10.3315185962\n",
        "  z_temp=0.884547992827\n",
        "  p_switch=0.00464047052494\n",
        "  pow_gain=0.819844956227\n",
        "  llh: 241.278627896"
       ]
      },
      {
       "output_type": "stream",
       "stream": "stdout",
       "text": [
        "\n",
        "evaluating:\n",
        "  delta=0.948355186097\n",
        "  theta=10.3167315468\n",
        "  z_temp=0.886255645786\n",
        "  p_switch=0.00482236593887\n",
        "  pow_gain=0.819367235297\n",
        "  llh: 241.278028446"
       ]
      },
      {
       "output_type": "stream",
       "stream": "stdout",
       "text": [
        "\n",
        "evaluating:\n",
        "  delta=0.952455335954\n",
        "  theta=10.3657763145\n",
        "  z_temp=0.882309893776\n",
        "  p_switch=0.00480300807281\n",
        "  pow_gain=0.82123469655\n",
        "  llh: 241.2745033"
       ]
      },
      {
       "output_type": "stream",
       "stream": "stdout",
       "text": [
        "\n",
        "evaluating:\n",
        "  delta=0.954945556646\n",
        "  theta=10.3902777285\n",
        "  z_temp=0.880425309316\n",
        "  p_switch=0.00490161438661\n",
        "  pow_gain=0.822163366529\n",
        "  llh: 241.273531002"
       ]
      },
      {
       "output_type": "stream",
       "stream": "stdout",
       "text": [
        "\n",
        "evaluating:\n",
        "  delta=0.955220682802\n",
        "  theta=10.320407493\n",
        "  z_temp=0.887380409056\n",
        "  p_switch=0.00512331297932\n",
        "  pow_gain=0.82023951443\n",
        "  llh: 241.279421787"
       ]
      },
      {
       "output_type": "stream",
       "stream": "stdout",
       "text": [
        "\n",
        "evaluating:\n",
        "  delta=0.953324042526\n",
        "  theta=10.3328508696\n",
        "  z_temp=0.885745783782\n",
        "  p_switch=0.00495786621545\n",
        "  pow_gain=0.820400686773\n",
        "  llh: 241.276628989"
       ]
      },
      {
       "output_type": "stream",
       "stream": "stdout",
       "text": [
        "\n",
        "evaluating:\n",
        "  delta=0.949292566247\n",
        "  theta=10.382627909\n",
        "  z_temp=0.880328563006\n",
        "  p_switch=0.00483127594284\n",
        "  pow_gain=0.821180768821\n",
        "  llh: 241.273957023"
       ]
      },
      {
       "output_type": "stream",
       "stream": "stdout",
       "text": [
        "\n",
        "evaluating:\n",
        "  delta=0.955474447021\n",
        "  theta=10.3866251318\n",
        "  z_temp=0.881372846482\n",
        "  p_switch=0.00507906290397\n",
        "  pow_gain=0.821943869146\n",
        "  llh: 241.274556147"
       ]
      },
      {
       "output_type": "stream",
       "stream": "stdout",
       "text": [
        "\n",
        "evaluating:\n",
        "  delta=0.957845056763\n",
        "  theta=10.4293696151\n",
        "  z_temp=0.877712073802\n",
        "  p_switch=0.00499984627608\n",
        "  pow_gain=0.823452243615\n",
        "  llh: 241.274051303"
       ]
      },
      {
       "output_type": "stream",
       "stream": "stdout",
       "text": [
        "\n",
        "evaluating:\n",
        "  delta=0.954684606028\n",
        "  theta=10.4518577905\n",
        "  z_temp=0.875008451813\n",
        "  p_switch=0.00488113802376\n",
        "  pow_gain=0.823639414876\n",
        "  llh: 241.270130012"
       ]
      },
      {
       "output_type": "stream",
       "stream": "stdout",
       "text": [
        "\n",
        "evaluating:\n",
        "  delta=0.955364887779\n",
        "  theta=10.5113612509\n",
        "  z_temp=0.869639785828\n",
        "  p_switch=0.00484277392792\n",
        "  pow_gain=0.825258778928\n",
        "  llh: 242.120205584"
       ]
      },
      {
       "output_type": "stream",
       "stream": "stdout",
       "text": [
        "\n",
        "evaluating:\n",
        "  delta=0.956432898373\n",
        "  theta=10.443432004\n",
        "  z_temp=0.875892101385\n",
        "  p_switch=0.00509146392479\n",
        "  pow_gain=0.823591859183\n",
        "  llh: 241.271463464"
       ]
      },
      {
       "output_type": "stream",
       "stream": "stdout",
       "text": [
        "\n",
        "evaluating:\n",
        "  delta=0.953805826602\n",
        "  theta=10.452400887\n",
        "  z_temp=0.874373753246\n",
        "  p_switch=0.00480307251767\n",
        "  pow_gain=0.823667192064\n",
        "  llh: 241.269922577"
       ]
      },
      {
       "output_type": "stream",
       "stream": "stdout",
       "text": [
        "\n",
        "evaluating:\n",
        "  delta=0.952971516393\n",
        "  theta=10.4852887647\n",
        "  z_temp=0.870874206628\n",
        "  p_switch=0.00466507732452\n",
        "  pow_gain=0.824528853523\n",
        "  llh: 241.269753002"
       ]
      },
      {
       "output_type": "stream",
       "stream": "stdout",
       "text": [
        "\n",
        "evaluating:\n",
        "  delta=0.949485800712\n",
        "  theta=10.4320240635\n",
        "  z_temp=0.875299379057\n",
        "  p_switch=0.00474838156492\n",
        "  pow_gain=0.822589461558\n",
        "  llh: 241.271380998"
       ]
      },
      {
       "output_type": "stream",
       "stream": "stdout",
       "text": [
        "\n",
        "evaluating:\n",
        "  delta=0.958115585014\n",
        "  theta=10.4985242315\n",
        "  z_temp=0.870671216274\n",
        "  p_switch=0.00488379414699\n",
        "  pow_gain=0.825424413447\n",
        "  llh: 241.270353462"
       ]
      },
      {
       "output_type": "stream",
       "stream": "stdout",
       "text": [
        "\n",
        "evaluating:\n",
        "  delta=0.953730605962\n",
        "  theta=10.5341730132\n",
        "  z_temp=0.866672832747\n",
        "  p_switch=0.00480632760739\n",
        "  pow_gain=0.825746234506\n",
        "  llh: 242.190839373"
       ]
      },
      {
       "output_type": "stream",
       "stream": "stdout",
       "text": [
        "\n",
        "evaluating:\n",
        "  delta=0.954641818975\n",
        "  theta=10.4262515497\n",
        "  z_temp=0.876987190173\n",
        "  p_switch=0.0048777926918\n",
        "  pow_gain=0.823059083523\n",
        "  llh: 241.27115224"
       ]
      },
      {
       "output_type": "stream",
       "stream": "stdout",
       "text": [
        "\n",
        "evaluating:\n",
        "  delta=0.951526832476\n",
        "  theta=10.474146556\n",
        "  z_temp=0.871644076193\n",
        "  p_switch=0.00453100957601\n",
        "  pow_gain=0.824104631588\n",
        "  llh: 241.272704907"
       ]
      },
      {
       "output_type": "stream",
       "stream": "stdout",
       "text": [
        "\n",
        "evaluating:\n",
        "  delta=0.955206381899\n",
        "  theta=10.451110642\n",
        "  z_temp=0.874830095087\n",
        "  p_switch=0.00495135033759\n",
        "  pow_gain=0.823720052284\n",
        "  llh: 241.269858495"
       ]
      },
      {
       "output_type": "stream",
       "stream": "stdout",
       "text": [
        "\n",
        "evaluating:\n",
        "  delta=0.960762162612\n",
        "  theta=10.4931891278\n",
        "  z_temp=0.872049084933\n",
        "  p_switch=0.00495527944494\n",
        "  pow_gain=0.825559265504\n",
        "  llh: 241.274938286"
       ]
      },
      {
       "output_type": "stream",
       "stream": "stdout",
       "text": [
        "\n",
        "evaluating:\n",
        "  delta=0.952304891187\n",
        "  theta=10.4473153296\n",
        "  z_temp=0.874486805526\n",
        "  p_switch=0.00480010603493\n",
        "  pow_gain=0.823331912544\n",
        "  llh: 241.269663739"
       ]
      },
      {
       "output_type": "stream",
       "stream": "stdout",
       "text": [
        "\n",
        "evaluating:\n",
        "  delta=0.954671373233\n",
        "  theta=10.5073871536\n",
        "  z_temp=0.869361119957\n",
        "  p_switch=0.00479479365532\n",
        "  pow_gain=0.825198775147\n",
        "  llh: 242.125399091"
       ]
      },
      {
       "output_type": "stream",
       "stream": "stdout",
       "text": [
        "\n",
        "evaluating:\n",
        "  delta=0.95464920754\n",
        "  theta=10.4465354507\n",
        "  z_temp=0.875080672619\n",
        "  p_switch=0.00485704293268\n",
        "  pow_gain=0.823594006429\n",
        "  llh: 241.270156128"
       ]
      },
      {
       "output_type": "stream",
       "stream": "stdout",
       "text": [
        "\n",
        "evaluating:\n",
        "  delta=0.949811056204\n",
        "  theta=10.4143189595\n",
        "  z_temp=0.877440876396\n",
        "  p_switch=0.0047780917144\n",
        "  pow_gain=0.822101282416\n",
        "  llh: 241.272289651"
       ]
      },
      {
       "output_type": "stream",
       "stream": "stdout",
       "text": [
        "\n",
        "evaluating:\n",
        "  delta=0.956039452812\n",
        "  theta=10.4774729135\n",
        "  z_temp=0.872363631304\n",
        "  p_switch=0.00485736853884\n",
        "  pow_gain=0.824593630689\n",
        "  llh: 241.269488663"
       ]
      },
      {
       "output_type": "stream",
       "stream": "stdout",
       "text": [
        "\n",
        "evaluating:\n",
        "  delta=0.953833531788\n",
        "  theta=10.4786827254\n",
        "  z_temp=0.871944603524\n",
        "  p_switch=0.00480497317118\n",
        "  pow_gain=0.824331539138\n",
        "  llh: 241.268640443"
       ]
      },
      {
       "output_type": "stream",
       "stream": "stdout",
       "text": [
        "\n",
        "evaluating:\n",
        "  delta=0.953425693912\n",
        "  theta=10.4947563628\n",
        "  z_temp=0.870376568976\n",
        "  p_switch=0.00477893829043\n",
        "  pow_gain=0.824700305492\n",
        "  llh: 241.268108118"
       ]
      },
      {
       "output_type": "stream",
       "stream": "stdout",
       "text": [
        "\n",
        "evaluating:\n",
        "  delta=0.953294568453\n",
        "  theta=10.4905198145\n",
        "  z_temp=0.870164071196\n",
        "  p_switch=0.00473999818676\n",
        "  pow_gain=0.824710486937\n",
        "  llh: 241.26818111"
       ]
      },
      {
       "output_type": "stream",
       "stream": "stdout",
       "text": [
        "\n",
        "evaluating:\n",
        "  delta=0.952008067204\n",
        "  theta=10.5070306321\n",
        "  z_temp=0.868476018365\n",
        "  p_switch=0.0045852450126\n",
        "  pow_gain=0.82502602339\n",
        "  llh: 242.136913708"
       ]
      },
      {
       "output_type": "stream",
       "stream": "stdout",
       "text": [
        "\n",
        "evaluating:\n",
        "  delta=0.954406803225\n",
        "  theta=10.4650906395\n",
        "  z_temp=0.873241575906\n",
        "  p_switch=0.00485982400634\n",
        "  pow_gain=0.824046545061\n",
        "  llh: 241.268997561"
       ]
      },
      {
       "output_type": "stream",
       "stream": "stdout",
       "text": [
        "\n",
        "evaluating:\n",
        "  delta=0.954817047442\n",
        "  theta=10.4647732593\n",
        "  z_temp=0.873378854535\n",
        "  p_switch=0.00494941669841\n",
        "  pow_gain=0.824024298766\n",
        "  llh: 241.268837746"
       ]
      },
      {
       "output_type": "stream",
       "stream": "stdout",
       "text": [
        "\n",
        "evaluating:\n",
        "  delta=0.956488535151\n",
        "  theta=10.5097298663\n",
        "  z_temp=0.869323075241\n",
        "  p_switch=0.00487411225339\n",
        "  pow_gain=0.825498194234\n",
        "  llh: 242.100313048"
       ]
      },
      {
       "output_type": "stream",
       "stream": "stdout",
       "text": [
        "\n",
        "evaluating:\n",
        "  delta=0.953350802178\n",
        "  theta=10.4629189638\n",
        "  z_temp=0.873195872955\n",
        "  p_switch=0.00481860758954\n",
        "  pow_gain=0.823873482967\n",
        "  llh: 241.268945174"
       ]
      },
      {
       "output_type": "stream",
       "stream": "stdout",
       "text": [
        "\n",
        "evaluating:\n",
        "  delta=0.951678513272\n",
        "  theta=10.4737507025\n",
        "  z_temp=0.871779146123\n",
        "  p_switch=0.00480134536975\n",
        "  pow_gain=0.823948417\n",
        "  llh: 241.268590603"
       ]
      },
      {
       "output_type": "stream",
       "stream": "stdout",
       "text": [
        "\n",
        "evaluating:\n",
        "  delta=0.952219846878\n",
        "  theta=10.4895970017\n",
        "  z_temp=0.870316229607\n",
        "  p_switch=0.00477549844761\n",
        "  pow_gain=0.824456251404\n",
        "  llh: 241.267972693"
       ]
      },
      {
       "output_type": "stream",
       "stream": "stdout",
       "text": [
        "\n",
        "evaluating:\n",
        "  delta=0.951126368704\n",
        "  theta=10.5018501827\n",
        "  z_temp=0.868853556458\n",
        "  p_switch=0.00473333566824\n",
        "  pow_gain=0.824661104576\n",
        "  llh: 242.217745591"
       ]
      },
      {
       "output_type": "stream",
       "stream": "stdout",
       "text": [
        "\n",
        "evaluating:\n",
        "  delta=0.952823465805\n",
        "  theta=10.5024398926\n",
        "  z_temp=0.86921007522\n",
        "  p_switch=0.00479947120764\n",
        "  pow_gain=0.824862420873\n",
        "  llh: 242.186130813"
       ]
      },
      {
       "output_type": "stream",
       "stream": "stdout",
       "text": [
        "\n",
        "evaluating:\n",
        "  delta=0.953218968085\n",
        "  theta=10.472799196\n",
        "  z_temp=0.872199423521\n",
        "  p_switch=0.00481382349407\n",
        "  pow_gain=0.824120717443\n",
        "  llh: 241.268478078"
       ]
      },
      {
       "output_type": "stream",
       "stream": "stdout",
       "text": [
        "\n",
        "evaluating:\n",
        "  delta=0.950717988797\n",
        "  theta=10.5037959717\n",
        "  z_temp=0.868555321234\n",
        "  p_switch=0.00461442481704\n",
        "  pow_gain=0.824750172544\n",
        "  llh: 242.188213012"
       ]
      },
      {
       "output_type": "stream",
       "stream": "stdout",
       "text": [
        "\n",
        "evaluating:\n",
        "  delta=0.953792282781\n",
        "  theta=10.4745289374\n",
        "  z_temp=0.87217297121\n",
        "  p_switch=0.00486566872806\n",
        "  pow_gain=0.824205767211\n",
        "  llh: 241.268224075"
       ]
      },
      {
       "output_type": "stream",
       "stream": "stdout",
       "text": [
        "\n",
        "evaluating:\n",
        "  delta=0.954702030771\n",
        "  theta=10.4951298225\n",
        "  z_temp=0.870312559681\n",
        "  p_switch=0.00478822548902\n",
        "  pow_gain=0.824928994395\n",
        "  llh: 241.268242704"
       ]
      },
      {
       "output_type": "stream",
       "stream": "stdout",
       "text": [
        "\n",
        "evaluating:\n",
        "  delta=0.953754801033\n",
        "  theta=10.5050135796\n",
        "  z_temp=0.869137536747\n",
        "  p_switch=0.00476550816269\n",
        "  pow_gain=0.825080004732\n",
        "  llh: 242.14452948"
       ]
      },
      {
       "output_type": "stream",
       "stream": "stdout",
       "text": [
        "\n",
        "evaluating:\n",
        "  delta=0.953352926322\n",
        "  theta=10.4808527919\n",
        "  z_temp=0.871433951827\n",
        "  p_switch=0.00480174466122\n",
        "  pow_gain=0.824360539265\n",
        "  llh: 241.268227194"
       ]
      },
      {
       "output_type": "stream",
       "stream": "stdout",
       "text": [
        "\n",
        "evaluating:\n",
        "  delta=0.951732096567\n",
        "  theta=10.4769721408\n",
        "  z_temp=0.871472957445\n",
        "  p_switch=0.00479651383661\n",
        "  pow_gain=0.824044345729\n",
        "  llh: 241.268472759"
       ]
      },
      {
       "output_type": "stream",
       "stream": "stdout",
       "text": [
        "\n",
        "evaluating:\n",
        "  delta=0.95395954722\n",
        "  theta=10.4905904021\n",
        "  z_temp=0.870602659122\n",
        "  p_switch=0.00479029757592\n",
        "  pow_gain=0.824707832228\n",
        "  llh: 241.268067803"
       ]
      },
      {
       "output_type": "stream",
       "stream": "stdout",
       "text": [
        "\n",
        "evaluating:\n",
        "  delta=0.953323849376\n",
        "  theta=10.4951442155\n",
        "  z_temp=0.870019048217\n",
        "  p_switch=0.00477841583029\n",
        "  pow_gain=0.824751718043\n",
        "  llh: 241.26780195"
       ]
      },
      {
       "output_type": "stream",
       "stream": "stdout",
       "text": [
        "\n",
        "evaluating:\n",
        "  delta=0.953309310903\n",
        "  theta=10.5022899273\n",
        "  z_temp=0.869311596411\n",
        "  p_switch=0.00476675141483\n",
        "  pow_gain=0.824947307432\n",
        "  llh: 242.156905523"
       ]
      },
      {
       "output_type": "stream",
       "stream": "stdout",
       "text": [
        "\n",
        "evaluating:\n",
        "  delta=0.952697119554\n",
        "  theta=10.5097141812\n",
        "  z_temp=0.868418459637\n",
        "  p_switch=0.00467959060434\n",
        "  pow_gain=0.825124870431\n",
        "  llh: 242.152678742"
       ]
      },
      {
       "output_type": "stream",
       "stream": "stdout",
       "text": [
        "\n",
        "evaluating:\n",
        "  delta=0.953518491974\n",
        "  theta=10.4833252484\n",
        "  z_temp=0.871234343317\n",
        "  p_switch=0.00481914919713\n",
        "  pow_gain=0.824435543016\n",
        "  llh: 241.268020893"
       ]
      },
      {
       "output_type": "stream",
       "stream": "stdout",
       "text": [
        "\n",
        "evaluating:\n",
        "  delta=0.953284403291\n",
        "  theta=10.4908454776\n",
        "  z_temp=0.8708554685\n",
        "  p_switch=0.00483692154979\n",
        "  pow_gain=0.824510173137\n",
        "  llh: 241.267888582"
       ]
      },
      {
       "output_type": "stream",
       "stream": "stdout",
       "text": [
        "\n",
        "evaluating:\n",
        "  delta=0.953096761584\n",
        "  theta=10.4850445753\n",
        "  z_temp=0.870834530529\n",
        "  p_switch=0.00482117474987\n",
        "  pow_gain=0.824444301639\n",
        "  llh: 241.26771614"
       ]
      },
      {
       "output_type": "stream",
       "stream": "stdout",
       "text": [
        "\n",
        "evaluating:\n",
        "  delta=0.95293229542\n",
        "  theta=10.4801886815\n",
        "  z_temp=0.871063511306\n",
        "  p_switch=0.00484229297959\n",
        "  pow_gain=0.824316299713\n",
        "  llh: 241.267599226"
       ]
      },
      {
       "output_type": "stream",
       "stream": "stdout",
       "text": [
        "\n",
        "evaluating:\n",
        "  delta=0.952152007555\n",
        "  theta=10.4850498478\n",
        "  z_temp=0.870792781256\n",
        "  p_switch=0.00483061362585\n",
        "  pow_gain=0.824280161897\n",
        "  llh: 241.267891169"
       ]
      },
      {
       "output_type": "stream",
       "stream": "stdout",
       "text": [
        "\n",
        "evaluating:\n",
        "  delta=0.952046469033\n",
        "  theta=10.4930048413\n",
        "  z_temp=0.869984472238\n",
        "  p_switch=0.00480634777612\n",
        "  pow_gain=0.824490298661\n",
        "  llh: 241.267696654"
       ]
      },
      {
       "output_type": "stream",
       "stream": "stdout",
       "text": [
        "\n",
        "evaluating:\n",
        "  delta=0.953275762992\n",
        "  theta=10.4880962238\n",
        "  z_temp=0.870769882999\n",
        "  p_switch=0.00486233825705\n",
        "  pow_gain=0.824483209176\n",
        "  llh: 241.267569921"
       ]
      },
      {
       "output_type": "stream",
       "stream": "stdout",
       "text": [
        "\n",
        "evaluating:\n",
        "  delta=0.95380372105\n",
        "  theta=10.4873458349\n",
        "  z_temp=0.870996709695\n",
        "  p_switch=0.00490575816176\n",
        "  pow_gain=0.824496688062\n",
        "  llh: 241.267568211"
       ]
      },
      {
       "output_type": "stream",
       "stream": "stdout",
       "text": [
        "\n",
        "evaluating:\n",
        "  delta=0.954004287713\n",
        "  theta=10.4935617725\n",
        "  z_temp=0.870374902726\n",
        "  p_switch=0.00483728089318\n",
        "  pow_gain=0.82474590915\n",
        "  llh: 241.267563285"
       ]
      },
      {
       "output_type": "stream",
       "stream": "stdout",
       "text": [
        "\n",
        "evaluating:\n",
        "  delta=0.954930427791\n",
        "  theta=10.4978177349\n",
        "  z_temp=0.87016596346\n",
        "  p_switch=0.00484061452684\n",
        "  pow_gain=0.824978782777\n",
        "  llh: 241.2677389"
       ]
      },
      {
       "output_type": "stream",
       "stream": "stdout",
       "text": [
        "\n",
        "evaluating:\n",
        "  delta=0.953159845745\n",
        "  theta=10.4888526607\n",
        "  z_temp=0.870119989173\n",
        "  p_switch=0.00483111670659\n",
        "  pow_gain=0.824610192315\n",
        "  llh: 241.2671778"
       ]
      },
      {
       "output_type": "stream",
       "stream": "stdout",
       "text": [
        "\n",
        "evaluating:\n",
        "  delta=0.953097566972\n",
        "  theta=10.4878562522\n",
        "  z_temp=0.86975224951\n",
        "  p_switch=0.00482821428499\n",
        "  pow_gain=0.824660201905\n",
        "  llh: 241.266829412"
       ]
      },
      {
       "output_type": "stream",
       "stream": "stdout",
       "text": [
        "\n",
        "evaluating:\n",
        "  delta=0.953029886699\n",
        "  theta=10.4816387374\n",
        "  z_temp=0.870849689973\n",
        "  p_switch=0.00490954180797\n",
        "  pow_gain=0.824332040953\n",
        "  llh: 241.267302256"
       ]
      },
      {
       "output_type": "stream",
       "stream": "stdout",
       "text": [
        "\n",
        "evaluating:\n",
        "  delta=0.954700634108\n",
        "  theta=10.4792316701\n",
        "  z_temp=0.871230353046\n",
        "  p_switch=0.00492288747488\n",
        "  pow_gain=0.824530157252\n",
        "  llh: 241.267405569"
       ]
      },
      {
       "output_type": "stream",
       "stream": "stdout",
       "text": [
        "\n",
        "evaluating:\n",
        "  delta=0.954522143197\n",
        "  theta=10.4916650254\n",
        "  z_temp=0.870218050674\n",
        "  p_switch=0.00491918006952\n",
        "  pow_gain=0.824789699216\n",
        "  llh: 241.267018197"
       ]
      },
      {
       "output_type": "stream",
       "stream": "stdout",
       "text": [
        "\n",
        "evaluating:\n",
        "  delta=0.953938086426\n",
        "  theta=10.4862355482\n",
        "  z_temp=0.869973388676\n",
        "  p_switch=0.00486108365044\n",
        "  pow_gain=0.824726515328\n",
        "  llh: 241.26670178"
       ]
      },
      {
       "output_type": "stream",
       "stream": "stdout",
       "text": [
        "\n",
        "evaluating:\n",
        "  delta=0.954005269114\n",
        "  theta=10.4856804048\n",
        "  z_temp=0.869461728166\n",
        "  p_switch=0.00483874639478\n",
        "  pow_gain=0.824841428961\n",
        "  llh: 241.266339622"
       ]
      },
      {
       "output_type": "stream",
       "stream": "stdout",
       "text": [
        "\n",
        "evaluating:\n",
        "  delta=0.953737912324\n",
        "  theta=10.4768670634\n",
        "  z_temp=0.870229925822\n",
        "  p_switch=0.00493014711968\n",
        "  pow_gain=0.824515502165\n",
        "  llh: 241.266368406"
       ]
      },
      {
       "output_type": "stream",
       "stream": "stdout",
       "text": [
        "\n",
        "evaluating:\n",
        "  delta=0.952656477215\n",
        "  theta=10.4902513231\n",
        "  z_temp=0.868974304612\n",
        "  p_switch=0.00484744439589\n",
        "  pow_gain=0.824725392028\n",
        "  llh: 241.266273944"
       ]
      },
      {
       "output_type": "stream",
       "stream": "stdout",
       "text": [
        "\n",
        "evaluating:\n",
        "  delta=0.951634398768\n",
        "  theta=10.4957611496\n",
        "  z_temp=0.867846280395\n",
        "  p_switch=0.0048097228564\n",
        "  pow_gain=0.824823009416\n",
        "  llh: 241.266211456"
       ]
      },
      {
       "output_type": "stream",
       "stream": "stdout",
       "text": [
        "\n",
        "evaluating:\n",
        "  delta=0.953769029451\n",
        "  theta=10.4934932207\n",
        "  z_temp=0.868153603854\n",
        "  p_switch=0.00482086248218\n",
        "  pow_gain=0.825119895712\n",
        "  llh: 241.26567272"
       ]
      },
      {
       "output_type": "stream",
       "stream": "stdout",
       "text": [
        "\n",
        "evaluating:\n",
        "  delta=0.954138600827\n",
        "  theta=10.4994204624\n",
        "  z_temp=0.866805560794\n",
        "  p_switch=0.00477652281929\n",
        "  pow_gain=0.825513823091\n",
        "  llh: 241.265235684"
       ]
      },
      {
       "output_type": "stream",
       "stream": "stdout",
       "text": [
        "\n",
        "evaluating:\n",
        "  delta=0.952123356005\n",
        "  theta=10.4865691075\n",
        "  z_temp=0.8674202472\n",
        "  p_switch=0.00475416132054\n",
        "  pow_gain=0.824951886999\n",
        "  llh: 241.265513969"
       ]
      },
      {
       "output_type": "stream",
       "stream": "stdout",
       "text": [
        "\n",
        "evaluating:\n",
        "  delta=0.953158247843\n",
        "  theta=10.4898630229\n",
        "  z_temp=0.866953247441\n",
        "  p_switch=0.00481550591929\n",
        "  pow_gain=0.825198058348\n",
        "  llh: 241.264541186"
       ]
      },
      {
       "output_type": "stream",
       "stream": "stdout",
       "text": [
        "\n",
        "evaluating:\n",
        "  delta=0.953188588278\n",
        "  theta=10.4908664083\n",
        "  z_temp=0.865553746407\n",
        "  p_switch=0.00480915173644\n",
        "  pow_gain=0.825466986569\n",
        "  llh: 241.263465431"
       ]
      },
      {
       "output_type": "stream",
       "stream": "stdout",
       "text": [
        "\n",
        "evaluating:\n",
        "  delta=0.952298172873\n",
        "  theta=10.5064519496\n",
        "  z_temp=0.864605099363\n",
        "  p_switch=0.00466517493131\n",
        "  pow_gain=0.82572335185\n",
        "  llh: 242.194619175"
       ]
      },
      {
       "output_type": "stream",
       "stream": "stdout",
       "text": [
        "\n",
        "evaluating:\n",
        "  delta=0.953377977461\n",
        "  theta=10.484263285\n",
        "  z_temp=0.868823719207\n",
        "  p_switch=0.00486390407258\n",
        "  pow_gain=0.824817464586\n",
        "  llh: 241.265615745"
       ]
      },
      {
       "output_type": "stream",
       "stream": "stdout",
       "text": [
        "\n",
        "evaluating:\n",
        "  delta=0.951779899422\n",
        "  theta=10.4970717604\n",
        "  z_temp=0.865118093435\n",
        "  p_switch=0.00476663872732\n",
        "  pow_gain=0.825387839304\n",
        "  llh: 241.264254894"
       ]
      },
      {
       "output_type": "stream",
       "stream": "stdout",
       "text": [
        "\n",
        "evaluating:\n",
        "  delta=0.954208970029\n",
        "  theta=10.4875152598\n",
        "  z_temp=0.865642266423\n",
        "  p_switch=0.00477842861406\n",
        "  pow_gain=0.825632190803\n",
        "  llh: 241.263683877"
       ]
      },
      {
       "output_type": "stream",
       "stream": "stdout",
       "text": [
        "\n",
        "evaluating:\n",
        "  delta=0.952797788363\n",
        "  theta=10.5003139143\n",
        "  z_temp=0.863392246496\n",
        "  p_switch=0.00469005721448\n",
        "  pow_gain=0.825963626121\n",
        "  llh: 242.198307854"
       ]
      },
      {
       "output_type": "stream",
       "stream": "stdout",
       "text": [
        "\n",
        "evaluating:\n",
        "  delta=0.953232930187\n",
        "  theta=10.4882759423\n",
        "  z_temp=0.867465851029\n",
        "  p_switch=0.00482044235806\n",
        "  pow_gain=0.82510400497\n",
        "  llh: 241.264867323"
       ]
      },
      {
       "output_type": "stream",
       "stream": "stdout",
       "text": [
        "\n",
        "evaluating:\n",
        "  delta=0.954496239492\n",
        "  theta=10.4986908257\n",
        "  z_temp=0.864813960035\n",
        "  p_switch=0.00482631238153\n",
        "  pow_gain=0.825890050896\n",
        "  llh: 241.263101806"
       ]
      },
      {
       "output_type": "stream",
       "stream": "stdout",
       "text": [
        "\n",
        "evaluating:\n",
        "  delta=0.955682681235\n",
        "  theta=10.5047516848\n",
        "  z_temp=0.863510816452\n",
        "  p_switch=0.00486238791202\n",
        "  pow_gain=0.826359132845\n",
        "  llh: 242.173074647"
       ]
      },
      {
       "output_type": "stream",
       "stream": "stdout",
       "text": [
        "\n",
        "evaluating:\n",
        "  delta=0.952624050136\n",
        "  theta=10.4855476162\n",
        "  z_temp=0.864632006138\n",
        "  p_switch=0.00482386670767\n",
        "  pow_gain=0.825478605926\n",
        "  llh: 241.262592907"
       ]
      },
      {
       "output_type": "stream",
       "stream": "stdout",
       "text": [
        "\n",
        "evaluating:\n",
        "  delta=0.951866774791\n",
        "  theta=10.4786111932\n",
        "  z_temp=0.86354522881\n",
        "  p_switch=0.00484753865186\n",
        "  pow_gain=0.825460997343\n",
        "  llh: 241.261813868"
       ]
      },
      {
       "output_type": "stream",
       "stream": "stdout",
       "text": [
        "\n",
        "evaluating:\n",
        "  delta=0.952983258618\n",
        "  theta=10.4928262366\n",
        "  z_temp=0.862403467014\n",
        "  p_switch=0.00479078568643\n",
        "  pow_gain=0.826031220997\n",
        "  llh: 241.261332506"
       ]
      },
      {
       "output_type": "stream",
       "stream": "stdout",
       "text": [
        "\n",
        "evaluating:\n",
        "  delta=0.952858422834\n",
        "  theta=10.4951013837\n",
        "  z_temp=0.859872275007\n",
        "  p_switch=0.00477595735061\n",
        "  pow_gain=0.82649482901\n",
        "  llh: 241.259817496"
       ]
      },
      {
       "output_type": "stream",
       "stream": "stdout",
       "text": [
        "\n",
        "evaluating:\n",
        "  delta=0.954867698748\n",
        "  theta=10.4832422679\n",
        "  z_temp=0.862652897237\n",
        "  p_switch=0.00484831676648\n",
        "  pow_gain=0.826190182545\n",
        "  llh: 241.260548265"
       ]
      },
      {
       "output_type": "stream",
       "stream": "stdout",
       "text": [
        "\n",
        "evaluating:\n",
        "  delta=0.952702119628\n",
        "  theta=10.4910895718\n",
        "  z_temp=0.860932976576\n",
        "  p_switch=0.00486448214071\n",
        "  pow_gain=0.826169027742\n",
        "  llh: 241.260090358"
       ]
      },
      {
       "output_type": "stream",
       "stream": "stdout",
       "text": [
        "\n",
        "evaluating:\n",
        "  delta=0.953527913919\n",
        "  theta=10.4878276886\n",
        "  z_temp=0.859173188659\n",
        "  p_switch=0.00485589118004\n",
        "  pow_gain=0.826615048445\n",
        "  llh: 241.258415652"
       ]
      },
      {
       "output_type": "stream",
       "stream": "stdout",
       "text": [
        "\n",
        "evaluating:\n",
        "  delta=0.953697576739\n",
        "  theta=10.4863083288\n",
        "  z_temp=0.855982909785\n",
        "  p_switch=0.00487926090184\n",
        "  pow_gain=0.827189079384\n",
        "  llh: 241.256324129"
       ]
      },
      {
       "output_type": "stream",
       "stream": "stdout",
       "text": [
        "\n",
        "evaluating:\n",
        "  delta=0.951900797604\n",
        "  theta=10.4750502724\n",
        "  z_temp=0.856380554931\n",
        "  p_switch=0.00485990994308\n",
        "  pow_gain=0.826711595514\n",
        "  llh: 241.257102146"
       ]
      },
      {
       "output_type": "stream",
       "stream": "stdout",
       "text": [
        "\n",
        "evaluating:\n",
        "  delta=0.95454387143\n",
        "  theta=10.4937055367\n",
        "  z_temp=0.854783416604\n",
        "  p_switch=0.00484363218922\n",
        "  pow_gain=0.827640888335\n",
        "  llh: 241.255797136"
       ]
      },
      {
       "output_type": "stream",
       "stream": "stdout",
       "text": [
        "\n",
        "evaluating:\n",
        "  delta=0.955882419749\n",
        "  theta=10.5012527084\n",
        "  z_temp=0.850402510502\n",
        "  p_switch=0.0048416789579\n",
        "  pow_gain=0.82873083383\n",
        "  llh: 242.282301817"
       ]
      },
      {
       "output_type": "stream",
       "stream": "stdout",
       "text": [
        "\n",
        "evaluating:\n",
        "  delta=0.951413416546\n",
        "  theta=10.4932597694\n",
        "  z_temp=0.852527955923\n",
        "  p_switch=0.0048409802437\n",
        "  pow_gain=0.827491985449\n",
        "  llh: 241.256652077"
       ]
      },
      {
       "output_type": "stream",
       "stream": "stdout",
       "text": [
        "\n",
        "evaluating:\n",
        "  delta=0.953063514433\n",
        "  theta=10.4862805446\n",
        "  z_temp=0.850885868324\n",
        "  p_switch=0.00481541411068\n",
        "  pow_gain=0.828042323334\n",
        "  llh: 241.254109014"
       ]
      },
      {
       "output_type": "stream",
       "stream": "stdout",
       "text": [
        "\n",
        "evaluating:\n",
        "  delta=0.953244211835\n",
        "  theta=10.4838760311\n",
        "  z_temp=0.845862314199\n",
        "  p_switch=0.00479088009566\n",
        "  pow_gain=0.82897897113\n",
        "  llh: 241.251981182"
       ]
      },
      {
       "output_type": "stream",
       "stream": "stdout",
       "text": [
        "\n",
        "evaluating:\n",
        "  delta=0.953061526828\n",
        "  theta=10.4777785916\n",
        "  z_temp=0.84634258557\n",
        "  p_switch=0.00490990799879\n",
        "  pow_gain=0.828710178914\n",
        "  llh: 241.252120579"
       ]
      },
      {
       "output_type": "stream",
       "stream": "stdout",
       "text": [
        "\n",
        "evaluating:\n",
        "  delta=0.954483443747\n",
        "  theta=10.4989210306\n",
        "  z_temp=0.845819117901\n",
        "  p_switch=0.00484595462861\n",
        "  pow_gain=0.829292845771\n",
        "  llh: 241.251967392"
       ]
      },
      {
       "output_type": "stream",
       "stream": "stdout",
       "text": [
        "\n",
        "evaluating:\n",
        "  delta=0.955774766819\n",
        "  theta=10.5108564097\n",
        "  z_temp=0.840538399387\n",
        "  p_switch=0.00483897697137\n",
        "  pow_gain=0.830583470899\n",
        "  llh: 242.384520233"
       ]
      },
      {
       "output_type": "stream",
       "stream": "stdout",
       "text": [
        "\n",
        "evaluating:\n",
        "  delta=0.956198835686\n",
        "  theta=10.4829760381\n",
        "  z_temp=0.8469881817\n",
        "  p_switch=0.00486687408195\n",
        "  pow_gain=0.829232799965\n",
        "  llh: 241.251361848"
       ]
      },
      {
       "output_type": "stream",
       "stream": "stdout",
       "text": [
        "\n",
        "evaluating:\n",
        "  delta=0.958591545256\n",
        "  theta=10.4778341724\n",
        "  z_temp=0.844218294588\n",
        "  p_switch=0.00487982100107\n",
        "  pow_gain=0.830103207223\n",
        "  llh: 241.25098719"
       ]
      },
      {
       "output_type": "stream",
       "stream": "stdout",
       "text": [
        "\n",
        "evaluating:\n",
        "  delta=0.9558722629\n",
        "  theta=10.4865378162\n",
        "  z_temp=0.838827381761\n",
        "  p_switch=0.0048288174635\n",
        "  pow_gain=0.830701357165\n",
        "  llh: 241.249013867"
       ]
      },
      {
       "output_type": "stream",
       "stream": "stdout",
       "text": [
        "\n",
        "evaluating:\n",
        "  delta=0.95695960598\n",
        "  theta=10.4866525599\n",
        "  z_temp=0.830249617748\n",
        "  p_switch=0.00480359574433\n",
        "  pow_gain=0.832457496056\n",
        "  llh: 241.247898174"
       ]
      },
      {
       "output_type": "stream",
       "stream": "stdout",
       "text": [
        "\n",
        "evaluating:\n",
        "  delta=0.955992262028\n",
        "  theta=10.4763194176\n",
        "  z_temp=0.830213355398\n",
        "  p_switch=0.00484843159816\n",
        "  pow_gain=0.832176191303\n",
        "  llh: 241.247326352"
       ]
      },
      {
       "output_type": "stream",
       "stream": "stdout",
       "text": [
        "\n",
        "evaluating:\n",
        "  delta=0.956716457328\n",
        "  theta=10.467626358\n",
        "  z_temp=0.817928324796\n",
        "  p_switch=0.00485083130263\n",
        "  pow_gain=0.834443842787\n",
        "  llh: 241.247860426"
       ]
      },
      {
       "output_type": "stream",
       "stream": "stdout",
       "text": [
        "\n",
        "evaluating:\n",
        "  delta=0.958646900711\n",
        "  theta=10.491662693\n",
        "  z_temp=0.832202494364\n",
        "  p_switch=0.00475756522834\n",
        "  pow_gain=0.832493305679\n",
        "  llh: 241.249623785"
       ]
      },
      {
       "output_type": "stream",
       "stream": "stdout",
       "text": [
        "\n",
        "evaluating:\n",
        "  delta=0.960625291254\n",
        "  theta=10.4886799183\n",
        "  z_temp=0.827218837802\n",
        "  p_switch=0.00486326718454\n",
        "  pow_gain=0.833630247282\n",
        "  llh: 241.249240997"
       ]
      },
      {
       "output_type": "stream",
       "stream": "stdout",
       "text": [
        "\n",
        "evaluating:\n",
        "  delta=0.961842798344\n",
        "  theta=10.4695384739\n",
        "  z_temp=0.819821922059\n",
        "  p_switch=0.00481511767397\n",
        "  pow_gain=0.835051333246\n",
        "  llh: 241.250425245"
       ]
      },
      {
       "output_type": "stream",
       "stream": "stdout",
       "text": [
        "\n",
        "evaluating:\n",
        "  delta=0.959035198071\n",
        "  theta=10.4873070527\n",
        "  z_temp=0.81166419636\n",
        "  p_switch=0.00475536997067\n",
        "  pow_gain=0.836220222204\n",
        "  llh: 241.251055052"
       ]
      },
      {
       "output_type": "stream",
       "stream": "stdout",
       "text": [
        "\n",
        "evaluating:\n",
        "  delta=0.95870245846\n",
        "  theta=10.4802023925\n",
        "  z_temp=0.836079770031\n",
        "  p_switch=0.00484870824347\n",
        "  pow_gain=0.831632460968\n",
        "  llh: 241.248790674"
       ]
      },
      {
       "output_type": "stream",
       "stream": "stdout",
       "text": [
        "\n",
        "evaluating:\n",
        "  delta=0.954527809029\n",
        "  theta=10.4998683186\n",
        "  z_temp=0.842563708079\n",
        "  p_switch=0.00483350952557\n",
        "  pow_gain=0.829904547269\n",
        "  llh: 241.25098625"
       ]
      },
      {
       "output_type": "stream",
       "stream": "stdout",
       "text": [
        "\n",
        "evaluating:\n",
        "  delta=0.960014051015\n",
        "  theta=10.4771209351\n",
        "  z_temp=0.825507368564\n",
        "  p_switch=0.00481971563687\n",
        "  pow_gain=0.833764636752\n",
        "  llh: 241.248581836"
       ]
      },
      {
       "output_type": "stream",
       "stream": "stdout",
       "text": [
        "\n",
        "evaluating:\n",
        "  delta=0.958270566784\n",
        "  theta=10.4719273963\n",
        "  z_temp=0.827505085454\n",
        "  p_switch=0.00491592213461\n",
        "  pow_gain=0.832971107265\n",
        "  llh: 241.246763315"
       ]
      },
      {
       "output_type": "stream",
       "stream": "stdout",
       "text": [
        "\n",
        "evaluating:\n",
        "  delta=0.958082399821\n",
        "  theta=10.462059748\n",
        "  z_temp=0.825156380998\n",
        "  p_switch=0.00499510058774\n",
        "  pow_gain=0.833210008059\n",
        "  llh: 241.246453857"
       ]
      },
      {
       "output_type": "stream",
       "stream": "stdout",
       "text": [
        "\n",
        "evaluating:\n",
        "  delta=0.955275019668\n",
        "  theta=10.4642621029\n",
        "  z_temp=0.831663759294\n",
        "  p_switch=0.00486295353968\n",
        "  pow_gain=0.831666069973\n",
        "  llh: 241.247010035"
       ]
      },
      {
       "output_type": "stream",
       "stream": "stdout",
       "text": [
        "\n",
        "evaluating:\n",
        "  delta=0.955826876945\n",
        "  theta=10.4663635129\n",
        "  z_temp=0.82103642277\n",
        "  p_switch=0.00488321059924\n",
        "  pow_gain=0.833677299889\n",
        "  llh: 241.247556634"
       ]
      },
      {
       "output_type": "stream",
       "stream": "stdout",
       "text": [
        "\n",
        "evaluating:\n",
        "  delta=0.952840414762\n",
        "  theta=10.4651420014\n",
        "  z_temp=0.82982044592\n",
        "  p_switch=0.00493760119079\n",
        "  pow_gain=0.83151018936\n",
        "  llh: 241.249888412"
       ]
      },
      {
       "output_type": "stream",
       "stream": "stdout",
       "text": [
        "\n",
        "evaluating:\n",
        "  delta=0.958220641952\n",
        "  theta=10.4741262016\n",
        "  z_temp=0.826585637903\n",
        "  p_switch=0.00484918702535\n",
        "  pow_gain=0.833201024904\n",
        "  llh: 241.247114823"
       ]
      },
      {
       "output_type": "stream",
       "stream": "stdout",
       "text": [
        "\n",
        "evaluating:\n",
        "  delta=0.956399274186\n",
        "  theta=10.4505998333\n",
        "  z_temp=0.823612604797\n",
        "  p_switch=0.00497195759574\n",
        "  pow_gain=0.833114741595\n",
        "  llh: 241.246470299"
       ]
      },
      {
       "output_type": "stream",
       "stream": "stdout",
       "text": [
        "\n",
        "evaluating:\n",
        "  delta=0.957760962117\n",
        "  theta=10.4645834084\n",
        "  z_temp=0.833856272587\n",
        "  p_switch=0.00492784153942\n",
        "  pow_gain=0.831669914444\n",
        "  llh: 241.246869399"
       ]
      },
      {
       "output_type": "stream",
       "stream": "stdout",
       "text": [
        "\n",
        "evaluating:\n",
        "  delta=0.958303057069\n",
        "  theta=10.4499331001\n",
        "  z_temp=0.826136506833\n",
        "  p_switch=0.00499438451701\n",
        "  pow_gain=0.832968512287\n",
        "  llh: 241.2458203"
       ]
      },
      {
       "output_type": "stream",
       "stream": "stdout",
       "text": [
        "\n",
        "evaluating:\n",
        "  delta=0.959458454589\n",
        "  theta=10.4367399414\n",
        "  z_temp=0.824098082551\n",
        "  p_switch=0.00506736097644\n",
        "  pow_gain=0.833364672779\n",
        "  llh: 241.245796907"
       ]
      },
      {
       "output_type": "stream",
       "stream": "stdout",
       "text": [
        "\n",
        "evaluating:\n",
        "  delta=0.9565698022\n",
        "  theta=10.4371718119\n",
        "  z_temp=0.828769202188\n",
        "  p_switch=0.00508089867026\n",
        "  pow_gain=0.832009137836\n",
        "  llh: 241.246442978"
       ]
      },
      {
       "output_type": "stream",
       "stream": "stdout",
       "text": [
        "\n",
        "evaluating:\n",
        "  delta=0.960033337497\n",
        "  theta=10.4361997943\n",
        "  z_temp=0.822533257954\n",
        "  p_switch=0.00515431020816\n",
        "  pow_gain=0.833681319912\n",
        "  llh: 241.246880233"
       ]
      },
      {
       "output_type": "stream",
       "stream": "stdout",
       "text": [
        "\n",
        "evaluating:\n",
        "  delta=0.958843758039\n",
        "  theta=10.4432153714\n",
        "  z_temp=0.824815883289\n",
        "  p_switch=0.00508147104104\n",
        "  pow_gain=0.833177507427\n",
        "  llh: 241.246172306"
       ]
      },
      {
       "output_type": "stream",
       "stream": "stdout",
       "text": [
        "\n",
        "evaluating:\n",
        "  delta=0.957980513417\n",
        "  theta=10.4273312739\n",
        "  z_temp=0.816724588942\n",
        "  p_switch=0.00515087400906\n",
        "  pow_gain=0.834280512634\n",
        "  llh: 241.247813805"
       ]
      },
      {
       "output_type": "stream",
       "stream": "stdout",
       "text": [
        "\n",
        "evaluating:\n",
        "  delta=0.957815849942\n",
        "  theta=10.4552703748\n",
        "  z_temp=0.829573351675\n",
        "  p_switch=0.00498359965683\n",
        "  pow_gain=0.832322563992\n",
        "  llh: 241.246095417"
       ]
      },
      {
       "output_type": "stream",
       "stream": "stdout",
       "text": [
        "\n",
        "evaluating:\n",
        "  delta=0.95990883165\n",
        "  theta=10.4431830657\n",
        "  z_temp=0.829352555483\n",
        "  p_switch=0.00511141477719\n",
        "  pow_gain=0.832518814442\n",
        "  llh: 241.246639785"
       ]
      },
      {
       "output_type": "stream",
       "stream": "stdout",
       "text": [
        "\n",
        "evaluating:\n",
        "  delta=0.957276663552\n",
        "  theta=10.4487456414\n",
        "  z_temp=0.825047592469\n",
        "  p_switch=0.0050068218911\n",
        "  pow_gain=0.832965759806\n",
        "  llh: 241.246076528"
       ]
      },
      {
       "output_type": "stream",
       "stream": "stdout",
       "text": [
        "\n",
        "evaluating:\n",
        "  delta=0.957903411508\n",
        "  theta=10.4263975084\n",
        "  z_temp=0.82776526387\n",
        "  p_switch=0.00509296030653\n",
        "  pow_gain=0.832325848677\n",
        "  llh: 241.245514491"
       ]
      },
      {
       "output_type": "stream",
       "stream": "stdout",
       "text": [
        "\n",
        "evaluating:\n",
        "  delta=0.957813917352\n",
        "  theta=10.4085663887\n",
        "  z_temp=0.829069705306\n",
        "  p_switch=0.00514189016593\n",
        "  pow_gain=0.831883768987\n",
        "  llh: 241.245335012"
       ]
      },
      {
       "output_type": "stream",
       "stream": "stdout",
       "text": [
        "\n",
        "evaluating:\n",
        "  delta=0.95991365519\n",
        "  theta=10.4398432752\n",
        "  z_temp=0.824272643928\n",
        "  p_switch=0.00503155882228\n",
        "  pow_gain=0.833476571361\n",
        "  llh: 241.245914833"
       ]
      },
      {
       "output_type": "stream",
       "stream": "stdout",
       "text": [
        "\n",
        "evaluating:\n",
        "  delta=0.95806765821\n",
        "  theta=10.4324508771\n",
        "  z_temp=0.828008667083\n",
        "  p_switch=0.00501102156399\n",
        "  pow_gain=0.832427827342\n",
        "  llh: 241.245066376"
       ]
      },
      {
       "output_type": "stream",
       "stream": "stdout",
       "text": [
        "\n",
        "evaluating:\n",
        "  delta=0.957679608295\n",
        "  theta=10.4270686299\n",
        "  z_temp=0.82960505898\n",
        "  p_switch=0.00497579682547\n",
        "  pow_gain=0.8320529873\n",
        "  llh: 241.244698645"
       ]
      },
      {
       "output_type": "stream",
       "stream": "stdout",
       "text": [
        "\n",
        "evaluating:\n",
        "  delta=0.959041069649\n",
        "  theta=10.4091151758\n",
        "  z_temp=0.823263881618\n",
        "  p_switch=0.00510577181566\n",
        "  pow_gain=0.833174940102\n",
        "  llh: 241.244863278"
       ]
      },
      {
       "output_type": "stream",
       "stream": "stdout",
       "text": [
        "\n",
        "evaluating:\n",
        "  delta=0.960286018478\n",
        "  theta=10.399787723\n",
        "  z_temp=0.827076156485\n",
        "  p_switch=0.00512212955121\n",
        "  pow_gain=0.832615416405\n",
        "  llh: 241.244807863"
       ]
      },
      {
       "output_type": "stream",
       "stream": "stdout",
       "text": [
        "\n",
        "evaluating:\n",
        "  delta=0.957797972156\n",
        "  theta=10.3926678683\n",
        "  z_temp=0.828972510047\n",
        "  p_switch=0.00513362091161\n",
        "  pow_gain=0.831760142868\n",
        "  llh: 241.244382745"
       ]
      },
      {
       "output_type": "stream",
       "stream": "stdout",
       "text": [
        "\n",
        "evaluating:\n",
        "  delta=0.956740130639\n",
        "  theta=10.3690801649\n",
        "  z_temp=0.831322443107\n",
        "  p_switch=0.00518465195627\n",
        "  pow_gain=0.830901928622\n",
        "  llh: 241.244573011"
       ]
      },
      {
       "output_type": "stream",
       "stream": "stdout",
       "text": [
        "\n",
        "evaluating:\n",
        "  delta=0.957588979784\n",
        "  theta=10.3781423729\n",
        "  z_temp=0.831096842424\n",
        "  p_switch=0.00512432273151\n",
        "  pow_gain=0.831230229485\n",
        "  llh: 241.243710571"
       ]
      },
      {
       "output_type": "stream",
       "stream": "stdout",
       "text": [
        "\n",
        "evaluating:\n",
        "  delta=0.956654242381\n",
        "  theta=10.3488435887\n",
        "  z_temp=0.834596222361\n",
        "  p_switch=0.00515280360904\n",
        "  pow_gain=0.830163007839\n",
        "  llh: 241.243338411"
       ]
      },
      {
       "output_type": "stream",
       "stream": "stdout",
       "text": [
        "\n",
        "evaluating:\n",
        "  delta=0.958769647032\n",
        "  theta=10.3824268056\n",
        "  z_temp=0.82833582649\n",
        "  p_switch=0.00505415891927\n",
        "  pow_gain=0.832022828819\n",
        "  llh: 241.243012946"
       ]
      },
      {
       "output_type": "stream",
       "stream": "stdout",
       "text": [
        "\n",
        "evaluating:\n",
        "  delta=0.959247511872\n",
        "  theta=10.3693570141\n",
        "  z_temp=0.827968887082\n",
        "  p_switch=0.00501029329593\n",
        "  pow_gain=0.832092358735\n",
        "  llh: 241.242353005"
       ]
      },
      {
       "output_type": "stream",
       "stream": "stdout",
       "text": [
        "\n",
        "evaluating:\n",
        "  delta=0.957625071624\n",
        "  theta=10.3659747538\n",
        "  z_temp=0.836023652364\n",
        "  p_switch=0.00505208586165\n",
        "  pow_gain=0.830298625157\n",
        "  llh: 241.242945229"
       ]
      },
      {
       "output_type": "stream",
       "stream": "stdout",
       "text": [
        "\n",
        "evaluating:\n",
        "  delta=0.955315744053\n",
        "  theta=10.361777019\n",
        "  z_temp=0.835790375849\n",
        "  p_switch=0.00500771065027\n",
        "  pow_gain=0.829931432355\n",
        "  llh: 241.242833948"
       ]
      },
      {
       "output_type": "stream",
       "stream": "stdout",
       "text": [
        "\n",
        "evaluating:\n",
        "  delta=0.956976608539\n",
        "  theta=10.3083794676\n",
        "  z_temp=0.835735600101\n",
        "  p_switch=0.00516680890593\n",
        "  pow_gain=0.829645239481\n",
        "  llh: 241.241542289"
       ]
      },
      {
       "output_type": "stream",
       "stream": "stdout",
       "text": [
        "\n",
        "evaluating:\n",
        "  delta=0.95662510866\n",
        "  theta=10.2490348865\n",
        "  z_temp=0.838800870661\n",
        "  p_switch=0.00526231494616\n",
        "  pow_gain=0.828441365572\n",
        "  llh: 241.241145704"
       ]
      },
      {
       "output_type": "stream",
       "stream": "stdout",
       "text": [
        "\n",
        "evaluating:\n",
        "  delta=0.95638909928\n",
        "  theta=10.2853270365\n",
        "  z_temp=0.840299493279\n",
        "  p_switch=0.00506046243362\n",
        "  pow_gain=0.828610572995\n",
        "  llh: 241.240138272"
       ]
      },
      {
       "output_type": "stream",
       "stream": "stdout",
       "text": [
        "\n",
        "evaluating:\n",
        "  delta=0.955684662842\n",
        "  theta=10.2316566206\n",
        "  z_temp=0.845962984895\n",
        "  p_switch=0.00502388319462\n",
        "  pow_gain=0.827035788058\n",
        "  llh: 241.239188588"
       ]
      },
      {
       "output_type": "stream",
       "stream": "stdout",
       "text": [
        "\n",
        "evaluating:\n",
        "  delta=0.95714499724\n",
        "  theta=10.2822765289\n",
        "  z_temp=0.839222485979\n",
        "  p_switch=0.00498971157041\n",
        "  pow_gain=0.828956820112\n",
        "  llh: 241.239346507"
       ]
      },
      {
       "output_type": "stream",
       "stream": "stdout",
       "text": [
        "\n",
        "evaluating:\n",
        "  delta=0.955982138243\n",
        "  theta=10.2316660738\n",
        "  z_temp=0.839074589423\n",
        "  p_switch=0.00506547960131\n",
        "  pow_gain=0.828284480775\n",
        "  llh: 241.237283439"
       ]
      },
      {
       "output_type": "stream",
       "stream": "stdout",
       "text": [
        "\n",
        "evaluating:\n",
        "  delta=0.955160671553\n",
        "  theta=10.1645117338\n",
        "  z_temp=0.840600057952\n",
        "  p_switch=0.00507217647113\n",
        "  pow_gain=0.827277408584\n",
        "  llh: 241.234589342"
       ]
      },
      {
       "output_type": "stream",
       "stream": "stdout",
       "text": [
        "\n",
        "evaluating:\n",
        "  delta=0.958229436814\n",
        "  theta=10.1569576946\n",
        "  z_temp=0.841231738779\n",
        "  p_switch=0.00513564114103\n",
        "  pow_gain=0.827590064069\n",
        "  llh: 241.235608007"
       ]
      },
      {
       "output_type": "stream",
       "stream": "stdout",
       "text": [
        "\n",
        "evaluating:\n",
        "  delta=0.953890438972\n",
        "  theta=10.0644179716\n",
        "  z_temp=0.854358368225\n",
        "  p_switch=0.00518319763341\n",
        "  pow_gain=0.823628219823\n",
        "  llh: 241.237135846"
       ]
      },
      {
       "output_type": "stream",
       "stream": "stdout",
       "text": [
        "\n",
        "evaluating:\n",
        "  delta=0.955418974308\n",
        "  theta=10.1108933333\n",
        "  z_temp=0.849749383671\n",
        "  p_switch=0.00489952905808\n",
        "  pow_gain=0.825353954687\n",
        "  llh: 241.235211342"
       ]
      },
      {
       "output_type": "stream",
       "stream": "stdout",
       "text": [
        "\n",
        "evaluating:\n",
        "  delta=0.954208676556\n",
        "  theta=10.0090984126\n",
        "  z_temp=0.853538527429\n",
        "  p_switch=0.0051360594289\n",
        "  pow_gain=0.823397353977\n",
        "  llh: 241.233239469"
       ]
      },
      {
       "output_type": "stream",
       "stream": "stdout",
       "text": [
        "\n",
        "evaluating:\n",
        "  delta=0.952740516214\n",
        "  theta=9.87250935446\n",
        "  z_temp=0.860696548154\n",
        "  p_switch=0.00520923335814\n",
        "  pow_gain=0.82061762091\n",
        "  llh: 241.232462325"
       ]
      },
      {
       "output_type": "stream",
       "stream": "stdout",
       "text": [
        "\n",
        "evaluating:\n",
        "  delta=0.954491352302\n",
        "  theta=9.91605941452\n",
        "  z_temp=0.852691453818\n",
        "  p_switch=0.0051760278701\n",
        "  pow_gain=0.822751119172\n",
        "  llh: 241.22886934"
       ]
      },
      {
       "output_type": "stream",
       "stream": "stdout",
       "text": [
        "\n",
        "evaluating:\n",
        "  delta=0.953894697032\n",
        "  theta=9.7582608115\n",
        "  z_temp=0.85605568828\n",
        "  p_switch=0.00525210020784\n",
        "  pow_gain=0.820608784729\n",
        "  llh: 241.22459509"
       ]
      },
      {
       "output_type": "stream",
       "stream": "stdout",
       "text": [
        "\n",
        "evaluating:\n",
        "  delta=0.956287279396\n",
        "  theta=9.96083519943\n",
        "  z_temp=0.844974998509\n",
        "  p_switch=0.00504427446108\n",
        "  pow_gain=0.824950913368\n",
        "  llh: 241.226693051"
       ]
      },
      {
       "output_type": "stream",
       "stream": "stdout",
       "text": [
        "\n",
        "evaluating:\n",
        "  delta=0.951171418587\n",
        "  theta=9.78984647842\n",
        "  z_temp=0.859598931847\n",
        "  p_switch=0.00505528428148\n",
        "  pow_gain=0.819933408842\n",
        "  llh: 241.225818636"
       ]
      },
      {
       "output_type": "stream",
       "stream": "stdout",
       "text": [
        "\n",
        "evaluating:\n",
        "  delta=0.952282858805\n",
        "  theta=9.70749209773\n",
        "  z_temp=0.855021106226\n",
        "  p_switch=0.00535369845379\n",
        "  pow_gain=0.820001299887\n",
        "  llh: 241.22437094"
       ]
      },
      {
       "output_type": "stream",
       "stream": "stdout",
       "text": [
        "\n",
        "evaluating:\n",
        "  delta=0.950714801054\n",
        "  theta=9.50579147995\n",
        "  z_temp=0.857656967504\n",
        "  p_switch=0.00558078315164\n",
        "  pow_gain=0.817324972486\n",
        "  llh: 241.224918945"
       ]
      },
      {
       "output_type": "stream",
       "stream": "stdout",
       "text": [
        "\n",
        "evaluating:\n",
        "  delta=0.951390036461\n",
        "  theta=9.47106584283\n",
        "  z_temp=0.869938851254\n",
        "  p_switch=0.0052936598338\n",
        "  pow_gain=0.81516740251\n",
        "  llh: 253.276075944"
       ]
      },
      {
       "output_type": "stream",
       "stream": "stdout",
       "text": [
        "\n",
        "evaluating:\n",
        "  delta=0.95421801278\n",
        "  theta=9.99115026104\n",
        "  z_temp=0.847934756278\n",
        "  p_switch=0.0051275473118\n",
        "  pow_gain=0.824249907066\n",
        "  llh: 241.229505191"
       ]
      },
      {
       "output_type": "stream",
       "stream": "stdout",
       "text": [
        "\n",
        "evaluating:\n",
        "  delta=0.954401190426\n",
        "  theta=9.81052458479\n",
        "  z_temp=0.844737644302\n",
        "  p_switch=0.00512392852825\n",
        "  pow_gain=0.823280104647\n",
        "  llh: 241.219507266"
       ]
      },
      {
       "output_type": "stream",
       "stream": "stdout",
       "text": [
        "\n",
        "evaluating:\n",
        "  delta=0.955231527532\n",
        "  theta=9.77953219995\n",
        "  z_temp=0.836758192375\n",
        "  p_switch=0.00508127611331\n",
        "  pow_gain=0.824611346515\n",
        "  llh: 241.21534769"
       ]
      },
      {
       "output_type": "stream",
       "stream": "stdout",
       "text": [
        "\n",
        "evaluating:\n",
        "  delta=0.953329099761\n",
        "  theta=9.60723645377\n",
        "  z_temp=0.853028810617\n",
        "  p_switch=0.0051871060952\n",
        "  pow_gain=0.819792394271\n",
        "  llh: 241.214643517"
       ]
      },
      {
       "output_type": "stream",
       "stream": "stdout",
       "text": [
        "\n",
        "evaluating:\n",
        "  delta=0.952884643252\n",
        "  theta=9.41527955013\n",
        "  z_temp=0.855575837787\n",
        "  p_switch=0.0052168854869\n",
        "  pow_gain=0.817563637873\n",
        "  llh: 253.293012715"
       ]
      },
      {
       "output_type": "stream",
       "stream": "stdout",
       "text": [
        "\n",
        "evaluating:\n",
        "  delta=0.950076561291\n",
        "  theta=9.49611201712\n",
        "  z_temp=0.859210093229\n",
        "  p_switch=0.00532751159956\n",
        "  pow_gain=0.817027980329\n",
        "  llh: 253.149202383"
       ]
      },
      {
       "output_type": "stream",
       "stream": "stdout",
       "text": [
        "\n",
        "evaluating:\n",
        "  delta=0.95473459987\n",
        "  theta=9.84465440385\n",
        "  z_temp=0.848533772189\n",
        "  p_switch=0.0051150837457\n",
        "  pow_gain=0.822970180108\n",
        "  llh: 241.22276248"
       ]
      },
      {
       "output_type": "stream",
       "stream": "stdout",
       "text": [
        "\n",
        "evaluating:\n",
        "  delta=0.956617694613\n",
        "  theta=9.6890239083\n",
        "  z_temp=0.840160096028\n",
        "  p_switch=0.00534042156485\n",
        "  pow_gain=0.823260193362\n",
        "  llh: 241.216538163"
       ]
      },
      {
       "output_type": "stream",
       "stream": "stdout",
       "text": [
        "\n",
        "evaluating:\n",
        "  delta=0.954983615201\n",
        "  theta=9.69291481395\n",
        "  z_temp=0.837345102695\n",
        "  p_switch=0.0051789341813\n",
        "  pow_gain=0.823645380928\n",
        "  llh: 241.212537417"
       ]
      },
      {
       "output_type": "stream",
       "stream": "stdout",
       "text": [
        "\n",
        "evaluating:\n",
        "  delta=0.955528074286\n",
        "  theta=9.66024181517\n",
        "  z_temp=0.827989809902\n",
        "  p_switch=0.00514235116804\n",
        "  pow_gain=0.825163679028\n",
        "  llh: 241.209303656"
       ]
      },
      {
       "output_type": "stream",
       "stream": "stdout",
       "text": [
        "\n",
        "evaluating:\n",
        "  delta=0.95789353962\n",
        "  theta=9.72478341468\n",
        "  z_temp=0.827567166219\n",
        "  p_switch=0.00499279702105\n",
        "  pow_gain=0.826317817427\n",
        "  llh: 241.213334055"
       ]
      },
      {
       "output_type": "stream",
       "stream": "stdout",
       "text": [
        "\n",
        "evaluating:\n",
        "  delta=0.956705374455\n",
        "  theta=9.5396727129\n",
        "  z_temp=0.825667857867\n",
        "  p_switch=0.00518249703928\n",
        "  pow_gain=0.824687992132\n",
        "  llh: 241.204755456"
       ]
      },
      {
       "output_type": "stream",
       "stream": "stdout",
       "text": [
        "\n",
        "evaluating:\n",
        "  delta=0.957690761747\n",
        "  theta=9.38718186743\n",
        "  z_temp=0.814234900707\n",
        "  p_switch=0.00521620368607\n",
        "  pow_gain=0.825546898144\n",
        "  llh: 253.2602611"
       ]
      },
      {
       "output_type": "stream",
       "stream": "stdout",
       "text": [
        "\n",
        "evaluating:\n",
        "  delta=0.954857351649\n",
        "  theta=9.63556273029\n",
        "  z_temp=0.828244638765\n",
        "  p_switch=0.0048939894099\n",
        "  pow_gain=0.824969098387\n",
        "  llh: 241.207142096"
       ]
      },
      {
       "output_type": "stream",
       "stream": "stdout",
       "text": [
        "\n",
        "evaluating:\n",
        "  delta=0.956093848376\n",
        "  theta=9.48746665077\n",
        "  z_temp=0.828241120973\n",
        "  p_switch=0.00507822018008\n",
        "  pow_gain=0.823761045983\n",
        "  llh: 253.32458599"
       ]
      },
      {
       "output_type": "stream",
       "stream": "stdout",
       "text": [
        "\n",
        "evaluating:\n",
        "  delta=0.955447107743\n",
        "  theta=9.70651581266\n",
        "  z_temp=0.834628924525\n",
        "  p_switch=0.00508051213\n",
        "  pow_gain=0.824398771382\n",
        "  llh: 241.211668513"
       ]
      },
      {
       "output_type": "stream",
       "stream": "stdout",
       "text": [
        "\n",
        "evaluating:\n",
        "  delta=0.95884347934\n",
        "  theta=9.69947414051\n",
        "  z_temp=0.804610548294\n",
        "  p_switch=0.00492975261211\n",
        "  pow_gain=0.830422549072\n",
        "  llh: 241.216258851"
       ]
      },
      {
       "output_type": "stream",
       "stream": "stdout",
       "text": [
        "\n",
        "evaluating:\n",
        "  delta=0.954707694656\n",
        "  theta=9.63029587545\n",
        "  z_temp=0.840924245036\n",
        "  p_switch=0.00512276772443\n",
        "  pow_gain=0.822449932971\n",
        "  llh: 241.209957453"
       ]
      },
      {
       "output_type": "stream",
       "stream": "stdout",
       "text": [
        "\n",
        "evaluating:\n",
        "  delta=0.953004701496\n",
        "  theta=9.54413216391\n",
        "  z_temp=0.83541502422\n",
        "  p_switch=0.0051760499676\n",
        "  pow_gain=0.822349972133\n",
        "  llh: 241.204902298"
       ]
      },
      {
       "output_type": "stream",
       "stream": "stdout",
       "text": [
        "\n",
        "evaluating:\n",
        "  delta=0.954474170873\n",
        "  theta=9.49744630643\n",
        "  z_temp=0.828667705792\n",
        "  p_switch=0.0051265499937\n",
        "  pow_gain=0.823449498479\n",
        "  llh: 253.242284813"
       ]
      },
      {
       "output_type": "stream",
       "stream": "stdout",
       "text": [
        "\n",
        "evaluating:\n",
        "  delta=0.955203873526\n",
        "  theta=9.6542484361\n",
        "  z_temp=0.833138619841\n",
        "  p_switch=0.00509202159593\n",
        "  pow_gain=0.824161453156\n",
        "  llh: 241.208996706"
       ]
      },
      {
       "output_type": "stream",
       "stream": "stdout",
       "text": [
        "\n",
        "evaluating:\n",
        "  delta=0.955412055509\n",
        "  theta=9.58324726789\n",
        "  z_temp=0.819258135202\n",
        "  p_switch=0.00507199594787\n",
        "  pow_gain=0.826082944964\n",
        "  llh: 241.205233489"
       ]
      },
      {
       "output_type": "stream",
       "stream": "stdout",
       "text": [
        "\n",
        "evaluating:\n",
        "  delta=0.954545268368\n",
        "  theta=9.52250350926\n",
        "  z_temp=0.828699900456\n",
        "  p_switch=0.00502427041619\n",
        "  pow_gain=0.823736905281\n",
        "  llh: 241.20172993"
       ]
      },
      {
       "output_type": "stream",
       "stream": "stdout",
       "text": [
        "\n",
        "evaluating:\n",
        "  delta=0.954053865409\n",
        "  theta=9.45363435631\n",
        "  z_temp=0.829054945732\n",
        "  p_switch=0.00496523004027\n",
        "  pow_gain=0.823023518408\n",
        "  llh: 253.323109091"
       ]
      },
      {
       "output_type": "stream",
       "stream": "stdout",
       "text": [
        "\n",
        "evaluating:\n",
        "  delta=0.954606027065\n",
        "  theta=9.4757989176\n",
        "  z_temp=0.821775602762\n",
        "  p_switch=0.00504749951641\n",
        "  pow_gain=0.824569312003\n",
        "  llh: 253.259213996"
       ]
      },
      {
       "output_type": "stream",
       "stream": "stdout",
       "text": [
        "\n",
        "evaluating:\n",
        "  delta=0.955054411911\n",
        "  theta=9.60963605648\n",
        "  z_temp=0.830297865572\n",
        "  p_switch=0.00508089107605\n",
        "  pow_gain=0.824263417868\n",
        "  llh: 241.206402719"
       ]
      },
      {
       "output_type": "stream",
       "stream": "stdout",
       "text": [
        "\n",
        "evaluating:\n",
        "  delta=0.955031373046\n",
        "  theta=9.48411395389\n",
        "  z_temp=0.827490874562\n",
        "  p_switch=0.0053202923689\n",
        "  pow_gain=0.823479394564\n",
        "  llh: 253.159256034"
       ]
      },
      {
       "output_type": "stream",
       "stream": "stdout",
       "text": [
        "\n",
        "evaluating:\n",
        "  delta=0.954900856998\n",
        "  theta=9.59770053619\n",
        "  z_temp=0.828056197714\n",
        "  p_switch=0.00500056514965\n",
        "  pow_gain=0.824596672431\n",
        "  llh: 241.205225969"
       ]
      },
      {
       "output_type": "stream",
       "stream": "stdout",
       "text": [
        "\n",
        "evaluating:\n",
        "  delta=0.95477289082\n",
        "  theta=9.50526641959\n",
        "  z_temp=0.824540980612\n",
        "  p_switch=0.00510126033219\n",
        "  pow_gain=0.824318376909\n",
        "  llh: 241.201333356"
       ]
      },
      {
       "output_type": "stream",
       "stream": "stdout",
       "text": [
        "\n",
        "evaluating:\n",
        "  delta=0.954632130274\n",
        "  theta=9.45308160114\n",
        "  z_temp=0.821662538132\n",
        "  p_switch=0.00511144496026\n",
        "  pow_gain=0.82434585643\n",
        "  llh: 253.229459015"
       ]
      },
      {
       "output_type": "stream",
       "stream": "stdout",
       "text": [
        "\n",
        "evaluating:\n",
        "  delta=0.954159581346\n",
        "  theta=9.50046286884\n",
        "  z_temp=0.837693849146\n",
        "  p_switch=0.00512186121409\n",
        "  pow_gain=0.821793022591\n",
        "  llh: 241.202812861"
       ]
      },
      {
       "output_type": "stream",
       "stream": "stdout",
       "text": [
        "\n",
        "evaluating:\n",
        "  delta=0.954374269595\n",
        "  theta=9.44711453361\n",
        "  z_temp=0.832750847206\n",
        "  p_switch=0.0052418104381\n",
        "  pow_gain=0.822157835187\n",
        "  llh: 253.207123224"
       ]
      },
      {
       "output_type": "stream",
       "stream": "stdout",
       "text": [
        "\n",
        "evaluating:\n",
        "  delta=0.954769210147\n",
        "  theta=9.56005403554\n",
        "  z_temp=0.829229860087\n",
        "  p_switch=0.00506087647176\n",
        "  pow_gain=0.82398696312\n",
        "  llh: 241.203777197"
       ]
      },
      {
       "output_type": "stream",
       "stream": "stdout",
       "text": [
        "\n",
        "evaluating:\n",
        "  delta=0.956976228558\n",
        "  theta=9.50705165455\n",
        "  z_temp=0.822917955047\n",
        "  p_switch=0.0050202562218\n",
        "  pow_gain=0.82505933188\n",
        "  llh: 241.202805271"
       ]
      },
      {
       "output_type": "stream",
       "stream": "stdout",
       "text": [
        "\n",
        "evaluating:\n",
        "  delta=0.953383897241\n",
        "  theta=9.49846268221\n",
        "  z_temp=0.831565160272\n",
        "  p_switch=0.00494891282314\n",
        "  pow_gain=0.822869847781\n",
        "  llh: 253.313725334"
       ]
      },
      {
       "output_type": "stream",
       "stream": "stdout",
       "text": [
        "\n",
        "evaluating:\n",
        "  delta=0.955875005151\n",
        "  theta=9.52937020523\n",
        "  z_temp=0.827142183468\n",
        "  p_switch=0.00512410098524\n",
        "  pow_gain=0.824233456044\n",
        "  llh: 241.203271238"
       ]
      },
      {
       "output_type": "stream",
       "stream": "stdout",
       "text": [
        "\n",
        "evaluating:\n",
        "  delta=0.95576237955\n",
        "  theta=9.46580782744\n",
        "  z_temp=0.827168087405\n",
        "  p_switch=0.00509582319605\n",
        "  pow_gain=0.823669473962\n",
        "  llh: 253.302025627"
       ]
      },
      {
       "output_type": "stream",
       "stream": "stdout",
       "text": [
        "\n",
        "evaluating:\n",
        "  delta=0.955017502498\n",
        "  theta=9.53649248352\n",
        "  z_temp=0.828714416916\n",
        "  p_switch=0.00506961315283\n",
        "  pow_gain=0.823907590831\n",
        "  llh: 241.202833294"
       ]
      },
      {
       "output_type": "stream",
       "stream": "stdout",
       "text": [
        "\n",
        "evaluating:\n",
        "  delta=0.954313583484\n",
        "  theta=9.49934056908\n",
        "  z_temp=0.829884657402\n",
        "  p_switch=0.0050108035496\n",
        "  pow_gain=0.823292634953\n",
        "  llh: 253.304241078"
       ]
      },
      {
       "output_type": "stream",
       "stream": "stdout",
       "text": [
        "\n",
        "evaluating:\n",
        "  delta=0.955484649735\n",
        "  theta=9.52186279619\n",
        "  z_temp=0.827827801952\n",
        "  p_switch=0.00509577662633\n",
        "  pow_gain=0.823998250771\n",
        "  llh: 241.202533539"
       ]
      },
      {
       "output_type": "stream",
       "stream": "stdout",
       "text": [
        "\n",
        "evaluating:\n",
        "  delta=0.955357945032\n",
        "  theta=9.48636641585\n",
        "  z_temp=0.827957777969\n",
        "  p_switch=0.00507575677141\n",
        "  pow_gain=0.823654764142\n",
        "  llh: 253.298892874"
       ]
      },
      {
       "output_type": "stream",
       "stream": "stdout",
       "text": [
        "\n",
        "evaluating:\n",
        "  delta=0.955102613132\n",
        "  theta=9.5239609666\n",
        "  z_temp=0.828525257179\n",
        "  p_switch=0.00507114905748\n",
        "  pow_gain=0.823844384159\n",
        "  llh: 241.202308452"
       ]
      },
      {
       "output_type": "stream",
       "stream": "stdout",
       "text": [
        "\n",
        "evaluating:\n",
        "  delta=0.956593078899\n",
        "  theta=9.53179526963\n",
        "  z_temp=0.815310908953\n",
        "  p_switch=0.0050032238475\n",
        "  pow_gain=0.826589877009\n",
        "  llh: 241.203920944"
       ]
      },
      {
       "output_type": "stream",
       "stream": "stdout",
       "text": [
        "\n",
        "evaluating:\n",
        "  delta=0.954767955734\n",
        "  theta=9.50829596904\n",
        "  z_temp=0.832098114097\n",
        "  p_switch=0.00509220187245\n",
        "  pow_gain=0.822992236196\n",
        "  llh: 241.202010662"
       ]
      },
      {
       "output_type": "stream",
       "stream": "stdout",
       "text": [
        "\n",
        "evaluating:\n",
        "  delta=0.952893122557\n",
        "  theta=9.52570420972\n",
        "  z_temp=0.833758866671\n",
        "  p_switch=0.00513360710005\n",
        "  pow_gain=0.822496729446\n",
        "  llh: 241.203089621"
       ]
      },
      {
       "output_type": "stream",
       "stream": "stdout",
       "text": [
        "\n",
        "evaluating:\n",
        "  delta=0.955955452058\n",
        "  theta=9.51171479334\n",
        "  z_temp=0.825628182953\n",
        "  p_switch=0.00504859394137\n",
        "  pow_gain=0.824418681272\n",
        "  llh: 241.202081376"
       ]
      },
      {
       "output_type": "stream",
       "stream": "stdout",
       "text": [
        "\n",
        "evaluating:\n",
        "  delta=0.95457302231\n",
        "  theta=9.50683386694\n",
        "  z_temp=0.827969172167\n",
        "  p_switch=0.00503921362154\n",
        "  pow_gain=0.823725982755\n",
        "  llh: 241.201037254"
       ]
      },
      {
       "output_type": "stream",
       "stream": "stdout",
       "text": [
        "\n",
        "evaluating:\n",
        "  delta=0.954117208597\n",
        "  theta=9.49931940232\n",
        "  z_temp=0.828039857275\n",
        "  p_switch=0.00501093211914\n",
        "  pow_gain=0.823589848747\n",
        "  llh: 253.288108909"
       ]
      },
      {
       "output_type": "stream",
       "stream": "stdout",
       "text": [
        "\n",
        "evaluating:\n",
        "  delta=0.954743222584\n",
        "  theta=9.49788485667\n",
        "  z_temp=0.827049282935\n",
        "  p_switch=0.00505106701601\n",
        "  pow_gain=0.823832488806\n",
        "  llh: 253.284037552"
       ]
      },
      {
       "output_type": "stream",
       "stream": "stdout",
       "text": [
        "\n",
        "evaluating:\n",
        "  delta=0.955012765495\n",
        "  theta=9.51744193912\n",
        "  z_temp=0.828156263618\n",
        "  p_switch=0.00506612854711\n",
        "  pow_gain=0.823841410321\n",
        "  llh: 241.201901446"
       ]
      },
      {
       "output_type": "stream",
       "stream": "stdout",
       "text": [
        "\n",
        "evaluating:\n",
        "  delta=0.953513309032\n",
        "  theta=9.51242188824\n",
        "  z_temp=0.830957589427\n",
        "  p_switch=0.00508063597442\n",
        "  pow_gain=0.823027283313\n",
        "  llh: 241.201491904"
       ]
      },
      {
       "output_type": "stream",
       "stream": "stdout",
       "text": [
        "\n",
        "evaluating:\n",
        "  delta=0.954198946676\n",
        "  theta=9.51749108022\n",
        "  z_temp=0.824031448415\n",
        "  p_switch=0.00503240168413\n",
        "  pow_gain=0.824467747236\n",
        "  llh: 241.201218858"
       ]
      },
      {
       "output_type": "stream",
       "stream": "stdout",
       "text": [
        "\n",
        "evaluating:\n",
        "  delta=0.953628609387\n",
        "  theta=9.50836476658\n",
        "  z_temp=0.826323372812\n",
        "  p_switch=0.00504498426428\n",
        "  pow_gain=0.823869107877\n",
        "  llh: 241.200731368"
       ]
      },
      {
       "output_type": "stream",
       "stream": "stdout",
       "text": [
        "\n",
        "evaluating:\n",
        "  delta=0.952936531333\n",
        "  theta=9.50382618031\n",
        "  z_temp=0.825406927409\n",
        "  p_switch=0.00503441212286\n",
        "  pow_gain=0.823882956655\n",
        "  llh: 241.200387037"
       ]
      },
      {
       "output_type": "stream",
       "stream": "stdout",
       "text": [
        "\n",
        "evaluating:\n",
        "  delta=0.953452611701\n",
        "  theta=9.49583226486\n",
        "  z_temp=0.824462546756\n",
        "  p_switch=0.00509089907787\n",
        "  pow_gain=0.824032033466\n",
        "  llh: 253.205500891"
       ]
      },
      {
       "output_type": "stream",
       "stream": "stdout",
       "text": [
        "\n",
        "evaluating:\n",
        "  delta=0.954272104201\n",
        "  theta=9.51583569816\n",
        "  z_temp=0.827640562031\n",
        "  p_switch=0.00504092758161\n",
        "  pow_gain=0.823810687327\n",
        "  llh: 241.201288608"
       ]
      },
      {
       "output_type": "stream",
       "stream": "stdout",
       "text": [
        "\n",
        "evaluating:\n",
        "  delta=0.954788089103\n",
        "  theta=9.50727940985\n",
        "  z_temp=0.820878046827\n",
        "  p_switch=0.00501865016251\n",
        "  pow_gain=0.82505501704\n",
        "  llh: 241.201049139"
       ]
      },
      {
       "output_type": "stream",
       "stream": "stdout",
       "text": [
        "\n",
        "evaluating:\n",
        "  delta=0.95353458663\n",
        "  theta=9.51524007461\n",
        "  z_temp=0.825829482127\n",
        "  p_switch=0.00496498173687\n",
        "  pow_gain=0.824058579497\n",
        "  llh: 241.20066895"
       ]
      },
      {
       "output_type": "stream",
       "stream": "stdout",
       "text": [
        "\n",
        "evaluating:\n",
        "  delta=0.95374036622\n",
        "  theta=9.50443254661\n",
        "  z_temp=0.822005468747\n",
        "  p_switch=0.00499493614955\n",
        "  pow_gain=0.824665425946\n",
        "  llh: 241.200400844"
       ]
      },
      {
       "output_type": "stream",
       "stream": "stdout",
       "text": [
        "\n",
        "evaluating:\n",
        "  delta=0.953630091563\n",
        "  theta=9.49755375111\n",
        "  z_temp=0.824804190496\n",
        "  p_switch=0.0049884758332\n",
        "  pow_gain=0.824087437521\n",
        "  llh: 253.267571569"
       ]
      },
      {
       "output_type": "stream",
       "stream": "stdout",
       "text": [
        "\n",
        "evaluating:\n",
        "  delta=0.954056732897\n",
        "  theta=9.51250674794\n",
        "  z_temp=0.824224633935\n",
        "  p_switch=0.0050214202214\n",
        "  pow_gain=0.824372669807\n",
        "  llh: 241.20088377"
       ]
      },
      {
       "output_type": "stream",
       "stream": "stdout",
       "text": [
        "\n",
        "evaluating:\n",
        "  delta=0.952748406653\n",
        "  theta=9.50985635672\n",
        "  z_temp=0.829296226928\n",
        "  p_switch=0.00500333537838\n",
        "  pow_gain=0.823227228824\n",
        "  llh: 241.200556348"
       ]
      },
      {
       "output_type": "stream",
       "stream": "stdout",
       "text": [
        "\n",
        "evaluating:\n",
        "  delta=0.952233627183\n",
        "  theta=9.51151089553\n",
        "  z_temp=0.822735923491\n",
        "  p_switch=0.00496842062209\n",
        "  pow_gain=0.824356761536\n",
        "  llh: 241.200534052"
       ]
      },
      {
       "output_type": "stream",
       "stream": "stdout",
       "text": [
        "\n",
        "evaluating:\n",
        "  delta=0.95202067431\n",
        "  theta=9.50543967357\n",
        "  z_temp=0.825884977546\n",
        "  p_switch=0.0049650141825\n",
        "  pow_gain=0.823703711176\n",
        "  llh: 241.200083666"
       ]
      },
      {
       "output_type": "stream",
       "stream": "stdout",
       "text": [
        "\n",
        "evaluating:\n",
        "  delta=0.951002645017\n",
        "  theta=9.50190613638\n",
        "  z_temp=0.826715149352\n",
        "  p_switch=0.00493681116306\n",
        "  pow_gain=0.82336923186\n",
        "  llh: 241.20000941"
       ]
      },
      {
       "output_type": "stream",
       "stream": "stdout",
       "text": [
        "\n",
        "evaluating:\n",
        "  delta=0.951530043933\n",
        "  theta=9.49737277161\n",
        "  z_temp=0.824634396243\n",
        "  p_switch=0.00501018443751\n",
        "  pow_gain=0.823742062432\n",
        "  llh: 253.182138861"
       ]
      },
      {
       "output_type": "stream",
       "stream": "stdout",
       "text": [
        "\n",
        "evaluating:\n",
        "  delta=0.953033450955\n",
        "  theta=9.51077324886\n",
        "  z_temp=0.825530710656\n",
        "  p_switch=0.00497628241203\n",
        "  pow_gain=0.82397945023\n",
        "  llh: 241.200381054"
       ]
      },
      {
       "output_type": "stream",
       "stream": "stdout",
       "text": [
        "\n",
        "evaluating:\n",
        "  delta=0.952430241631\n",
        "  theta=9.50312324636\n",
        "  z_temp=0.819661444935\n",
        "  p_switch=0.00496100960946\n",
        "  pow_gain=0.824874301667\n",
        "  llh: 241.200405353"
       ]
      },
      {
       "output_type": "stream",
       "stream": "stdout",
       "text": [
        "\n",
        "evaluating:\n",
        "  delta=0.953023666879\n",
        "  theta=9.49811364788\n",
        "  z_temp=0.824991956948\n",
        "  p_switch=0.00499295996069\n",
        "  pow_gain=0.823951785007\n",
        "  llh: 253.244718216"
       ]
      },
      {
       "output_type": "stream",
       "stream": "stdout",
       "text": [
        "\n",
        "evaluating:\n",
        "  delta=0.952431137107\n",
        "  theta=9.50816158362\n",
        "  z_temp=0.823299931856\n",
        "  p_switch=0.00497455545674\n",
        "  pow_gain=0.824255517404\n",
        "  llh: 241.200328387"
       ]
      },
      {
       "output_type": "stream",
       "stream": "stdout",
       "text": [
        "\n",
        "evaluating:\n",
        "  delta=0.952827410622\n",
        "  theta=9.50851663195\n",
        "  z_temp=0.829521830273\n",
        "  p_switch=0.00500578931224\n",
        "  pow_gain=0.823186731171\n",
        "  llh: 241.20052871"
       ]
      },
      {
       "output_type": "stream",
       "stream": "stdout",
       "text": [
        "\n",
        "evaluating:\n",
        "  delta=0.952529533879\n",
        "  theta=9.50447159276\n",
        "  z_temp=0.822126541269\n",
        "  p_switch=0.00497220453515\n",
        "  pow_gain=0.824452409043\n",
        "  llh: 241.200218964"
       ]
      },
      {
       "output_type": "stream",
       "stream": "stdout",
       "text": [
        "\n",
        "evaluating:\n",
        "  delta=0.951032953097\n",
        "  theta=9.50722295016\n",
        "  z_temp=0.82722623547\n",
        "  p_switch=0.00496277012638\n",
        "  pow_gain=0.823310400131\n",
        "  llh: 241.200412167"
       ]
      },
      {
       "output_type": "stream",
       "stream": "stdout",
       "text": [
        "\n",
        "evaluating:\n",
        "  delta=0.953063512939\n",
        "  theta=9.5051301475\n",
        "  z_temp=0.823310660428\n",
        "  p_switch=0.00498689464376\n",
        "  pow_gain=0.824326669492\n",
        "  llh: 241.200225078"
       ]
      },
      {
       "output_type": "stream",
       "stream": "stdout",
       "text": [
        "\n",
        "evaluating:\n",
        "  delta=0.951887580625\n",
        "  theta=9.50835090334\n",
        "  z_temp=0.822986270015\n",
        "  p_switch=0.00490428716143\n",
        "  pow_gain=0.824270354557\n",
        "  llh: 241.20019325"
       ]
      },
      {
       "output_type": "stream",
       "stream": "stdout",
       "text": [
        "\n",
        "evaluating:\n",
        "  delta=0.951332312871\n",
        "  theta=9.50043489658\n",
        "  z_temp=0.821844710511\n",
        "  p_switch=0.00493361877203\n",
        "  pow_gain=0.824290222712\n",
        "  llh: 241.200147719"
       ]
      },
      {
       "output_type": "stream",
       "stream": "stdout",
       "text": [
        "\n",
        "evaluating:\n",
        "  delta=0.951495097025\n",
        "  theta=9.49995588701\n",
        "  z_temp=0.823493400775\n",
        "  p_switch=0.00491897105343\n",
        "  pow_gain=0.824028037662\n",
        "  llh: 253.223918503"
       ]
      },
      {
       "output_type": "stream",
       "stream": "stdout",
       "text": [
        "\n",
        "evaluating:\n",
        "  delta=0.952197127087\n",
        "  theta=9.50611015947\n",
        "  z_temp=0.823348299085\n",
        "  p_switch=0.00496065935591\n",
        "  pow_gain=0.824198647468\n",
        "  llh: 241.200185446"
       ]
      },
      {
       "output_type": "stream",
       "stream": "stdout",
       "text": [
        "\n",
        "evaluating:\n",
        "  delta=0.950516166852\n",
        "  theta=9.50337932791\n",
        "  z_temp=0.823497727665\n",
        "  p_switch=0.00489613775127\n",
        "  pow_gain=0.823905676764\n",
        "  llh: 241.200312872"
       ]
      },
      {
       "output_type": "stream",
       "stream": "stdout",
       "text": [
        "\n",
        "evaluating:\n",
        "  delta=0.952426676417\n",
        "  theta=9.5046924426\n",
        "  z_temp=0.823357427237\n",
        "  p_switch=0.00496420542064\n",
        "  pow_gain=0.82422142131\n",
        "  llh: 241.200105"
       ]
      },
      {
       "output_type": "stream",
       "stream": "stdout",
       "text": [
        "\n",
        "evaluating:\n",
        "  delta=0.951009002928\n",
        "  theta=9.50412622259\n",
        "  z_temp=0.825174201211\n",
        "  p_switch=0.00490762821408\n",
        "  pow_gain=0.82368754212\n",
        "  llh: 241.200055313"
       ]
      },
      {
       "output_type": "stream",
       "stream": "stdout",
       "text": [
        "\n",
        "evaluating:\n",
        "  delta=0.951299525103\n",
        "  theta=9.49855703971\n",
        "  z_temp=0.825189644944\n",
        "  p_switch=0.00497688200885\n",
        "  pow_gain=0.823636471632\n",
        "  llh: 253.194421665"
       ]
      },
      {
       "output_type": "stream",
       "stream": "stdout",
       "text": [
        "\n",
        "evaluating:\n",
        "  delta=0.951740566745\n",
        "  theta=9.50590243743\n",
        "  z_temp=0.823537113747\n",
        "  p_switch=0.00492243587329\n",
        "  pow_gain=0.824111883825\n",
        "  llh: 241.200093692"
       ]
      },
      {
       "output_type": "stream",
       "stream": "stdout",
       "text": [
        "\n",
        "evaluating:\n",
        "  delta=0.950807354505\n",
        "  theta=9.50071469477\n",
        "  z_temp=0.824903141738\n",
        "  p_switch=0.00490522042132\n",
        "  pow_gain=0.823673473263\n",
        "  llh: 241.199964599"
       ]
      },
      {
       "output_type": "stream",
       "stream": "stdout",
       "text": [
        "\n",
        "evaluating:\n",
        "  delta=0.950112468214\n",
        "  theta=9.49801696242\n",
        "  z_temp=0.825680563064\n",
        "  p_switch=0.00487750095403\n",
        "  pow_gain=0.82341088616\n",
        "  llh: 253.209714598"
       ]
      },
      {
       "output_type": "stream",
       "stream": "stdout",
       "text": [
        "\n",
        "evaluating:\n",
        "  delta=0.951462185373\n",
        "  theta=9.50650187693\n",
        "  z_temp=0.827630102803\n",
        "  p_switch=0.00492090166492\n",
        "  pow_gain=0.823335198239\n",
        "  llh: 241.200047783"
       ]
      },
      {
       "output_type": "stream",
       "stream": "stdout",
       "text": [
        "\n",
        "evaluating:\n",
        "  delta=0.94998202541\n",
        "  theta=9.50296810464\n",
        "  z_temp=0.827826456303\n",
        "  p_switch=0.00487299351403\n",
        "  pow_gain=0.823049510413\n",
        "  llh: 241.200246575"
       ]
      },
      {
       "output_type": "stream",
       "stream": "stdout",
       "text": [
        "\n",
        "evaluating:\n",
        "  delta=0.951815513665\n",
        "  theta=9.50426135811\n",
        "  z_temp=0.824474684504\n",
        "  p_switch=0.00494140244399\n",
        "  pow_gain=0.823928443586\n",
        "  llh: 241.200005117"
       ]
      },
      {
       "output_type": "stream",
       "stream": "stdout",
       "text": [
        "\n",
        "evaluating:\n",
        "  delta=0.950698113851\n",
        "  theta=9.50110167808\n",
        "  z_temp=0.828021798096\n",
        "  p_switch=0.00492234968966\n",
        "  pow_gain=0.823085671802\n",
        "  llh: 241.200002664"
       ]
      },
      {
       "output_type": "stream",
       "stream": "stdout",
       "text": [
        "\n",
        "evaluating:\n",
        "  delta=0.951305322036\n",
        "  theta=9.50166807512\n",
        "  z_temp=0.827523749386\n",
        "  p_switch=0.0049430459391\n",
        "  pow_gain=0.82326926538\n",
        "  llh: 241.199923895"
       ]
      },
      {
       "output_type": "stream",
       "stream": "stdout",
       "text": [
        "\n",
        "evaluating:\n",
        "  delta=0.95145348159\n",
        "  theta=9.50043900139\n",
        "  z_temp=0.828698523473\n",
        "  p_switch=0.00496075480161\n",
        "  pow_gain=0.82306012701\n",
        "  llh: 241.199934913"
       ]
      },
      {
       "output_type": "stream",
       "stream": "stdout",
       "text": [
        "\n",
        "evaluating:\n",
        "  delta=0.950789394256\n",
        "  theta=9.49735890006\n",
        "  z_temp=0.825025306427\n",
        "  p_switch=0.00493863019793\n",
        "  pow_gain=0.823595236117\n",
        "  llh: 253.196768299"
       ]
      },
      {
       "output_type": "stream",
       "stream": "stdout",
       "text": [
        "\n",
        "evaluating:\n",
        "  delta=0.951293987594\n",
        "  theta=9.50421613271\n",
        "  z_temp=0.826978903709\n",
        "  p_switch=0.00492533379817\n",
        "  pow_gain=0.823400207709\n",
        "  llh: 241.199982023"
       ]
      },
      {
       "output_type": "stream",
       "stream": "stdout",
       "text": [
        "\n",
        "evaluating:\n",
        "  delta=0.951365471644\n",
        "  theta=9.50287863913\n",
        "  z_temp=0.826045761621\n",
        "  p_switch=0.00491812975384\n",
        "  pow_gain=0.823573592835\n",
        "  llh: 241.199889887"
       ]
      },
      {
       "output_type": "stream",
       "stream": "stdout",
       "text": [
        "\n",
        "evaluating:\n",
        "  delta=0.951546884957\n",
        "  theta=9.50336489051\n",
        "  z_temp=0.825711067756\n",
        "  p_switch=0.00490878904923\n",
        "  pow_gain=0.823675773323\n",
        "  llh: 241.199864036"
       ]
      },
      {
       "output_type": "stream",
       "stream": "stdout",
       "text": [
        "\n",
        "evaluating:\n",
        "  delta=0.950445151511\n",
        "  theta=9.50016483037\n",
        "  z_temp=0.82878077977\n",
        "  p_switch=0.00490049311501\n",
        "  pow_gain=0.822913313004\n",
        "  llh: 241.19997725"
       ]
      },
      {
       "output_type": "stream",
       "stream": "stdout",
       "text": [
        "\n",
        "evaluating:\n",
        "  delta=0.951461366391\n",
        "  theta=9.50294977131\n",
        "  z_temp=0.825537258848\n",
        "  p_switch=0.00491080323948\n",
        "  pow_gain=0.82368714127\n",
        "  llh: 241.199867425"
       ]
      },
      {
       "output_type": "stream",
       "stream": "stdout",
       "text": [
        "\n",
        "evaluating:\n",
        "  delta=0.950932444166\n",
        "  theta=9.49932877212\n",
        "  z_temp=0.82600349529\n",
        "  p_switch=0.00490200690748\n",
        "  pow_gain=0.823487378787\n",
        "  llh: 253.22598683"
       ]
      },
      {
       "output_type": "stream",
       "stream": "stdout",
       "text": [
        "\n",
        "evaluating:\n",
        "  delta=0.951203601737\n",
        "  theta=9.50299429256\n",
        "  z_temp=0.826735051604\n",
        "  p_switch=0.0049195020755\n",
        "  pow_gain=0.823422000478\n",
        "  llh: 241.199926877"
       ]
      },
      {
       "output_type": "stream",
       "stream": "stdout",
       "text": [
        "\n",
        "evaluating:\n",
        "  delta=0.952084660339\n",
        "  theta=9.50451185934\n",
        "  z_temp=0.823383327963\n",
        "  p_switch=0.00493445117485\n",
        "  pow_gain=0.824177748481\n",
        "  llh: 241.200017603"
       ]
      },
      {
       "output_type": "stream",
       "stream": "stdout",
       "text": [
        "\n",
        "evaluating:\n",
        "  delta=0.950855028718\n",
        "  theta=9.50125158761\n",
        "  z_temp=0.827431416818\n",
        "  p_switch=0.00490898262997\n",
        "  pow_gain=0.823229421874\n",
        "  llh: 241.19990254"
       ]
      },
      {
       "output_type": "stream",
       "stream": "stdout",
       "text": [
        "\n",
        "evaluating:\n",
        "  delta=0.951741527031\n",
        "  theta=9.50417675208\n",
        "  z_temp=0.828272276026\n",
        "  p_switch=0.00493122875199\n",
        "  pow_gain=0.823239967667\n",
        "  llh: 241.199939679"
       ]
      },
      {
       "output_type": "stream",
       "stream": "stdout",
       "text": [
        "\n",
        "evaluating:\n",
        "  delta=0.951507983899\n",
        "  theta=9.50331123775\n",
        "  z_temp=0.827429992454\n",
        "  p_switch=0.00492472666932\n",
        "  pow_gain=0.823348344066\n",
        "  llh: 241.19989137"
       ]
      },
      {
       "output_type": "stream",
       "stream": "stdout",
       "text": [
        "\n",
        "evaluating:\n",
        "  delta=0.951467032663\n",
        "  theta=9.50202393236\n",
        "  z_temp=0.826718342501\n",
        "  p_switch=0.00491903693534\n",
        "  pow_gain=0.823461977887\n",
        "  llh: 241.199818357"
       ]
      },
      {
       "output_type": "stream",
       "stream": "stdout",
       "text": [
        "\n",
        "evaluating:\n",
        "  delta=0.951598748127\n",
        "  theta=9.50153875225\n",
        "  z_temp=0.826709987949\n",
        "  p_switch=0.00491880436526\n",
        "  pow_gain=0.823481966591\n",
        "  llh: 241.199772673"
       ]
      },
      {
       "output_type": "stream",
       "stream": "stdout",
       "text": [
        "\n",
        "evaluating:\n",
        "  delta=0.951482682801\n",
        "  theta=9.50329842065\n",
        "  z_temp=0.825604140144\n",
        "  p_switch=0.0048857964422\n",
        "  pow_gain=0.823699793469\n",
        "  llh: 241.199846909"
       ]
      },
      {
       "output_type": "stream",
       "stream": "stdout",
       "text": [
        "\n",
        "evaluating:\n",
        "  delta=0.952184037752\n",
        "  theta=9.50453364138\n",
        "  z_temp=0.824965562042\n",
        "  p_switch=0.00491058527623\n",
        "  pow_gain=0.823927785614\n",
        "  llh: 241.199893862"
       ]
      },
      {
       "output_type": "stream",
       "stream": "stdout",
       "text": [
        "\n",
        "evaluating:\n",
        "  delta=0.951851785493\n",
        "  theta=9.50371312794\n",
        "  z_temp=0.825582025736\n",
        "  p_switch=0.00491018461466\n",
        "  pow_gain=0.823753194679\n",
        "  llh: 241.199849874"
       ]
      },
      {
       "output_type": "stream",
       "stream": "stdout",
       "text": [
        "\n",
        "evaluating:\n",
        "  delta=0.951668603208\n",
        "  theta=9.50263474731\n",
        "  z_temp=0.824227799719\n",
        "  p_switch=0.00488902441501\n",
        "  pow_gain=0.823970803667\n",
        "  llh: 241.199846128"
       ]
      },
      {
       "output_type": "stream",
       "stream": "stdout",
       "text": [
        "\n",
        "evaluating:\n",
        "  delta=0.951798115444\n",
        "  theta=9.50287020416\n",
        "  z_temp=0.825596749674\n",
        "  p_switch=0.00489423631507\n",
        "  pow_gain=0.823745471421\n",
        "  llh: 241.199800245"
       ]
      },
      {
       "output_type": "stream",
       "stream": "stdout",
       "text": [
        "\n",
        "evaluating:\n",
        "  delta=0.951813089072\n",
        "  theta=9.50225721042\n",
        "  z_temp=0.825377213533\n",
        "  p_switch=0.00489042941165\n",
        "  pow_gain=0.823784718608\n",
        "  llh: 241.199773391"
       ]
      },
      {
       "output_type": "stream",
       "stream": "stdout",
       "text": [
        "\n",
        "evaluating:\n",
        "  delta=0.951492709967\n",
        "  theta=9.50132660598\n",
        "  z_temp=0.825424330671\n",
        "  p_switch=0.00488113176501\n",
        "  pow_gain=0.823719906823\n",
        "  llh: 241.19975316"
       ]
      },
      {
       "output_type": "stream",
       "stream": "stdout",
       "text": [
        "\n",
        "evaluating:\n",
        "  delta=0.951313172205\n",
        "  theta=9.500133345\n",
        "  z_temp=0.825345483138\n",
        "  p_switch=0.00486660534019\n",
        "  pow_gain=0.823703262896\n",
        "  llh: 241.199725439"
       ]
      },
      {
       "output_type": "stream",
       "stream": "stdout",
       "text": [
        "\n",
        "evaluating:\n",
        "  delta=0.951794008421\n",
        "  theta=9.50047528301\n",
        "  z_temp=0.825298753461\n",
        "  p_switch=0.00489784349667\n",
        "  pow_gain=0.823774695804\n",
        "  llh: 241.199691607"
       ]
      },
      {
       "output_type": "stream",
       "stream": "stdout",
       "text": [
        "\n",
        "evaluating:\n",
        "  delta=0.951949671231\n",
        "  theta=9.49906371418\n",
        "  z_temp=0.825146060119\n",
        "  p_switch=0.0049038670239\n",
        "  pow_gain=0.823812146971\n",
        "  llh: 253.256105856"
       ]
      },
      {
       "output_type": "stream",
       "stream": "stdout",
       "text": [
        "\n",
        "evaluating:\n",
        "  delta=0.951658250099\n",
        "  theta=9.50027517062\n",
        "  z_temp=0.827103475383\n",
        "  p_switch=0.00489814315652\n",
        "  pow_gain=0.823425242461\n",
        "  llh: 241.199677333"
       ]
      },
      {
       "output_type": "stream",
       "stream": "stdout",
       "text": [
        "\n",
        "evaluating:\n",
        "  delta=0.951653073545\n",
        "  theta=9.49909538227\n",
        "  z_temp=0.828541313215\n",
        "  p_switch=0.00490270252728\n",
        "  pow_gain=0.823152461859\n",
        "  llh: 253.263191624"
       ]
      },
      {
       "output_type": "stream",
       "stream": "stdout",
       "text": [
        "\n",
        "evaluating:\n",
        "  delta=0.951472791726\n",
        "  theta=9.49900170036\n",
        "  z_temp=0.826337215712\n",
        "  p_switch=0.00489449399305\n",
        "  pow_gain=0.823522483122\n",
        "  llh: 253.250498961"
       ]
      },
      {
       "output_type": "stream",
       "stream": "stdout",
       "text": [
        "\n",
        "evaluating:\n",
        "  delta=0.951716784514\n",
        "  theta=9.50190307821\n",
        "  z_temp=0.825781866183\n",
        "  p_switch=0.00489430073456\n",
        "  pow_gain=0.823689724347\n",
        "  llh: 241.199754646"
       ]
      },
      {
       "output_type": "stream",
       "stream": "stdout",
       "text": [
        "\n",
        "evaluating:\n",
        "  delta=0.951419296274\n",
        "  theta=9.49947304122\n",
        "  z_temp=0.826718612913\n",
        "  p_switch=0.00489984942563\n",
        "  pow_gain=0.823445238231\n",
        "  llh: 253.24751784"
       ]
      },
      {
       "output_type": "stream",
       "stream": "stdout",
       "text": [
        "\n",
        "evaluating:\n",
        "  delta=0.951714640873\n",
        "  theta=9.50156116812\n",
        "  z_temp=0.825712563378\n",
        "  p_switch=0.00489278441515\n",
        "  pow_gain=0.823699848514\n",
        "  llh: 241.199738572"
       ]
      },
      {
       "output_type": "stream",
       "stream": "stdout",
       "text": [
        "\n",
        "evaluating:\n",
        "  delta=0.951679994318\n",
        "  theta=9.50020046573\n",
        "  z_temp=0.824986868669\n",
        "  p_switch=0.00486106649198\n",
        "  pow_gain=0.823835143018\n",
        "  llh: 241.199718319"
       ]
      },
      {
       "output_type": "stream",
       "stream": "stdout",
       "text": [
        "\n",
        "evaluating:\n",
        "  delta=0.951547241852\n",
        "  theta=9.49915509478\n",
        "  z_temp=0.825596991428\n",
        "  p_switch=0.00487227642564\n",
        "  pow_gain=0.82368555273\n",
        "  llh: 253.2616111"
       ]
      },
      {
       "output_type": "stream",
       "stream": "stdout",
       "text": [
        "\n",
        "evaluating:\n",
        "  delta=0.951674398849\n",
        "  theta=9.50121608235\n",
        "  z_temp=0.825735647494\n",
        "  p_switch=0.00488879465733\n",
        "  pow_gain=0.823688681443\n",
        "  llh: 241.199723762"
       ]
      },
      {
       "output_type": "stream",
       "stream": "stdout",
       "text": [
        "\n",
        "evaluating:\n",
        "  delta=0.951533288684\n",
        "  theta=9.49935897056\n",
        "  z_temp=0.82567552788\n",
        "  p_switch=0.00487219684193\n",
        "  pow_gain=0.823670961735\n",
        "  llh: 253.261522904"
       ]
      },
      {
       "output_type": "stream",
       "stream": "stdout",
       "text": [
        "\n",
        "evaluating:\n",
        "  delta=0.951669302826\n",
        "  theta=9.50101061873\n",
        "  z_temp=0.825703304503\n",
        "  p_switch=0.00488763752184\n",
        "  pow_gain=0.823692626819\n",
        "  llh: 241.199714556"
       ]
      },
      {
       "output_type": "stream",
       "stream": "stdout",
       "text": [
        "\n",
        "evaluating:\n",
        "  delta=0.952077209601\n",
        "  theta=9.50113770317\n",
        "  z_temp=0.826185736666\n",
        "  p_switch=0.00490678878955\n",
        "  pow_gain=0.823663292922\n",
        "  llh: 241.199710404"
       ]
      },
      {
       "output_type": "stream",
       "stream": "stdout",
       "text": [
        "\n",
        "evaluating:\n",
        "  delta=0.951877107257\n",
        "  theta=9.50002361415\n",
        "  z_temp=0.825975607978\n",
        "  p_switch=0.00489179712529\n",
        "  pow_gain=0.823667718967\n",
        "  llh: 241.199654828"
       ]
      },
      {
       "output_type": "stream",
       "stream": "stdout",
       "text": [
        "\n",
        "evaluating:\n",
        "  delta=0.951978461461\n",
        "  theta=9.49942738005\n",
        "  z_temp=0.82609558822\n",
        "  p_switch=0.00489329835927\n",
        "  pow_gain=0.823657237729\n",
        "  llh: 253.267507075"
       ]
      },
      {
       "output_type": "stream",
       "stream": "stdout",
       "text": [
        "\n",
        "evaluating:\n",
        "  delta=0.951950356964\n",
        "  theta=9.50096849014\n",
        "  z_temp=0.827119882528\n",
        "  p_switch=0.00493181754397\n",
        "  pow_gain=0.823454287771\n",
        "  llh: 241.19974412"
       ]
      },
      {
       "output_type": "stream",
       "stream": "stdout",
       "text": [
        "\n",
        "evaluating:\n",
        "  delta=0.951747584979\n",
        "  theta=9.50039247183\n",
        "  z_temp=0.825520122133\n",
        "  p_switch=0.00487875425498\n",
        "  pow_gain=0.823739929206\n",
        "  llh: 241.199688214"
       ]
      },
      {
       "output_type": "stream",
       "stream": "stdout",
       "text": [
        "\n",
        "evaluating:\n",
        "  delta=0.951992361318\n",
        "  theta=9.49991107838\n",
        "  z_temp=0.826330173745\n",
        "  p_switch=0.00490169320736\n",
        "  pow_gain=0.823615724925\n",
        "  llh: 253.264468302"
       ]
      },
      {
       "output_type": "stream",
       "stream": "stdout",
       "text": [
        "\n",
        "evaluating:\n",
        "  delta=0.951750067449\n",
        "  theta=9.50073573364\n",
        "  z_temp=0.825860021814\n",
        "  p_switch=0.00489115144322\n",
        "  pow_gain=0.823673401345\n",
        "  llh: 241.199693995"
       ]
      },
      {
       "output_type": "stream",
       "stream": "stdout",
       "text": [
        "\n",
        "evaluating:\n",
        "  delta=0.951453597682\n",
        "  theta=9.49962320613\n",
        "  z_temp=0.825717455642\n",
        "  p_switch=0.00487628700112\n",
        "  pow_gain=0.823649102192\n",
        "  llh: 253.256665738"
       ]
      },
      {
       "output_type": "stream",
       "stream": "stdout",
       "text": [
        "\n",
        "evaluating:\n",
        "  delta=0.951921306621\n",
        "  theta=9.50075907891\n",
        "  z_temp=0.82606866641\n",
        "  p_switch=0.00489916334244\n",
        "  pow_gain=0.823659745239\n",
        "  llh: 241.19968915"
       ]
      },
      {
       "output_type": "stream",
       "stream": "stdout",
       "text": [
        "\n",
        "evaluating:\n",
        "  delta=0.951849235503\n",
        "  theta=9.50003451376\n",
        "  z_temp=0.826126628332\n",
        "  p_switch=0.00489512910714\n",
        "  pow_gain=0.823633531325\n",
        "  llh: 241.199654399"
       ]
      },
      {
       "output_type": "stream",
       "stream": "stdout",
       "text": [
        "\n",
        "evaluating:\n",
        "  delta=0.95189881953\n",
        "  theta=9.49968390382\n",
        "  z_temp=0.826259931591\n",
        "  p_switch=0.0048971179391\n",
        "  pow_gain=0.823613596315\n",
        "  llh: 253.263402131"
       ]
      },
      {
       "output_type": "stream",
       "stream": "stdout",
       "text": [
        "\n",
        "evaluating:\n",
        "  delta=0.951827385362\n",
        "  theta=9.5001186567\n",
        "  z_temp=0.827019046634\n",
        "  p_switch=0.00488735129788\n",
        "  pow_gain=0.823475771076\n",
        "  llh: 241.199665921"
       ]
      },
      {
       "output_type": "stream",
       "stream": "stdout",
       "text": [
        "\n",
        "evaluating:\n",
        "  delta=0.95166251866\n",
        "  theta=9.49957869192\n",
        "  z_temp=0.826629285774\n",
        "  p_switch=0.00488130663428\n",
        "  pow_gain=0.823517131975\n",
        "  llh: 253.265689662"
       ]
      },
      {
       "output_type": "stream",
       "stream": "stdout",
       "text": [
        "\n",
        "evaluating:\n",
        "  delta=0.951856609631\n",
        "  theta=9.50046398216\n",
        "  z_temp=0.826208821251\n",
        "  p_switch=0.0048946991654\n",
        "  pow_gain=0.823624091923\n",
        "  llh: 241.199674703"
       ]
      },
      {
       "output_type": "stream",
       "stream": "stdout",
       "text": [
        "\n",
        "evaluating:\n",
        "  delta=0.951879850161\n",
        "  theta=9.49997390313\n",
        "  z_temp=0.827453309698\n",
        "  p_switch=0.00490809368592\n",
        "  pow_gain=0.823390613095\n",
        "  llh: 253.262583573"
       ]
      },
      {
       "output_type": "stream",
       "stream": "stdout",
       "text": [
        "\n",
        "evaluating:\n",
        "  delta=0.951780651275\n",
        "  theta=9.50028782965\n",
        "  z_temp=0.826003419024\n",
        "  p_switch=0.00488608911271\n",
        "  pow_gain=0.823652600178\n",
        "  llh: 241.199670933"
       ]
      },
      {
       "output_type": "stream",
       "stream": "stdout",
       "text": [
        "\n",
        "evaluating:\n",
        "  delta=0.952018145512\n",
        "  theta=9.50009626795\n",
        "  z_temp=0.825429933905\n",
        "  p_switch=0.00488388316685\n",
        "  pow_gain=0.823796242927\n",
        "  llh: 241.199672371"
       ]
      },
      {
       "output_type": "stream",
       "stream": "stdout",
       "text": [
        "\n",
        "evaluating:\n",
        "  delta=0.951884400333\n",
        "  theta=9.49976037073\n",
        "  z_temp=0.826013033098\n",
        "  p_switch=0.00488300075854\n",
        "  pow_gain=0.823666253866\n",
        "  llh: 253.269423209"
       ]
      },
      {
       "output_type": "stream",
       "stream": "stdout",
       "text": [
        "\n",
        "evaluating:\n",
        "  delta=0.951863557306\n",
        "  theta=9.5002880793\n",
        "  z_temp=0.826159874213\n",
        "  p_switch=0.00489177456369\n",
        "  pow_gain=0.823634632409\n",
        "  llh: 241.199666759"
       ]
      },
      {
       "output_type": "stream",
       "stream": "stdout",
       "text": [
        "\n",
        "evaluating:\n",
        "  delta=0.95166102917\n",
        "  theta=9.50020480948\n",
        "  z_temp=0.827083896568\n",
        "  p_switch=0.00489697331584\n",
        "  pow_gain=0.823429458656\n",
        "  llh: 241.199672976"
       ]
      },
      {
       "output_type": "stream",
       "stream": "stdout",
       "text": [
        "\n",
        "evaluating:\n",
        "  delta=0.951928866426\n",
        "  theta=9.50012340333\n",
        "  z_temp=0.825843424571\n",
        "  p_switch=0.00488715570409\n",
        "  pow_gain=0.823704546859\n",
        "  llh: 241.19966334"
       ]
      },
      {
       "output_type": "stream",
       "stream": "stdout",
       "text": [
        "\n",
        "evaluating:\n",
        "  delta=0.951957809467\n",
        "  theta=9.49994747725\n",
        "  z_temp=0.826446413666\n",
        "  p_switch=0.00489519400653\n",
        "  pow_gain=0.823593880076\n",
        "  llh: 253.267395068"
       ]
      },
      {
       "output_type": "stream",
       "stream": "stdout",
       "text": [
        "\n",
        "evaluating:\n",
        "  delta=0.951824940823\n",
        "  theta=9.50020274155\n",
        "  z_temp=0.826114167685\n",
        "  p_switch=0.00488836533616\n",
        "  pow_gain=0.823637920153\n",
        "  llh: 241.199664342"
       ]
      },
      {
       "output_type": "stream",
       "stream": "stdout",
       "text": [
        "\n",
        "evaluating:\n",
        "  delta=0.951859456842\n",
        "  theta=9.4999130925\n",
        "  z_temp=0.826271675867\n",
        "  p_switch=0.00488814486454\n",
        "  pow_gain=0.823613162943\n",
        "  llh: 253.266976843"
       ]
      },
      {
       "output_type": "stream",
       "stream": "stdout",
       "text": [
        "\n",
        "evaluating:\n",
        "  delta=0.95186253219\n",
        "  theta=9.5001943326\n",
        "  z_temp=0.826187824626\n",
        "  p_switch=0.0048908671389\n",
        "  pow_gain=0.823629265042\n",
        "  llh: 241.199662432"
       ]
      },
      {
       "output_type": "stream",
       "stream": "stdout",
       "text": [
        "\n",
        "evaluating:\n",
        "  delta=0.951909687517\n",
        "  theta=9.50011278546\n",
        "  z_temp=0.825080014643\n",
        "  p_switch=0.00489397446676\n",
        "  pow_gain=0.823833421863\n",
        "  llh: 241.199673688"
       ]
      },
      {
       "output_type": "stream",
       "stream": "stdout",
       "text": [
        "\n",
        "evaluating:\n",
        "  delta=0.951847960901\n",
        "  theta=9.50011718889\n",
        "  z_temp=0.826534288636\n",
        "  p_switch=0.0048890070901\n",
        "  pow_gain=0.823565183773\n",
        "  llh: 241.199659942"
       ]
      },
      {
       "output_type": "stream",
       "stream": "stdout",
       "text": [
        "\n",
        "evaluating:\n",
        "  delta=0.951921340088\n",
        "  theta=9.49999447954\n",
        "  z_temp=0.826152941972\n",
        "  p_switch=0.00489321713004\n",
        "  pow_gain=0.823642178234\n",
        "  llh: 253.265751967"
       ]
      },
      {
       "output_type": "stream",
       "stream": "stdout",
       "text": [
        "\n",
        "evaluating:\n",
        "  delta=0.951849040639\n",
        "  theta=9.50015067605\n",
        "  z_temp=0.826123861257\n",
        "  p_switch=0.00488957828463\n",
        "  pow_gain=0.823638984673\n",
        "  llh: 241.19966108"
       ]
      },
      {
       "output_type": "stream",
       "stream": "stdout",
       "text": [
        "\n",
        "evaluating:\n",
        "  delta=0.95178548417\n",
        "  theta=9.50008472685\n",
        "  z_temp=0.826535859761\n",
        "  p_switch=0.00489539579433\n",
        "  pow_gain=0.823549326653\n",
        "  llh: 241.19965773"
       ]
      },
      {
       "output_type": "stream",
       "stream": "stdout",
       "text": [
        "\n",
        "evaluating:\n",
        "  delta=0.951820999198\n",
        "  theta=9.49996995528\n",
        "  z_temp=0.826330673759\n",
        "  p_switch=0.0048934958217\n",
        "  pow_gain=0.823592633114\n",
        "  llh: 253.262979905"
       ]
      },
      {
       "output_type": "stream",
       "stream": "stdout",
       "text": [
        "\n",
        "evaluating:\n",
        "  delta=0.951852148942\n",
        "  theta=9.50013823827\n",
        "  z_temp=0.82622353691\n",
        "  p_switch=0.0048915243096\n",
        "  pow_gain=0.82362010706\n",
        "  llh: 241.199659473"
       ]
      },
      {
       "output_type": "stream",
       "stream": "stdout",
       "text": [
        "\n",
        "evaluating:\n",
        "  delta=0.95183573407\n",
        "  theta=9.50000863672\n",
        "  z_temp=0.82643450739\n",
        "  p_switch=0.00489556308595\n",
        "  pow_gain=0.823575362438\n",
        "  llh: 241.199652771"
       ]
      },
      {
       "output_type": "stream",
       "stream": "stdout",
       "text": [
        "\n",
        "evaluating:\n",
        "  delta=0.951829080785\n",
        "  theta=9.49993761705\n",
        "  z_temp=0.826589830457\n",
        "  p_switch=0.00489855548661\n",
        "  pow_gain=0.823543551321\n",
        "  llh: 253.261771552"
       ]
      },
      {
       "output_type": "stream",
       "stream": "stdout",
       "text": [
        "\n",
        "evaluating:\n",
        "  delta=0.951831923076\n",
        "  theta=9.49999870301\n",
        "  z_temp=0.825984167512\n",
        "  p_switch=0.00489875667883\n",
        "  pow_gain=0.823653234805\n",
        "  llh: 253.258765065"
       ]
      },
      {
       "output_type": "stream",
       "stream": "stdout",
       "text": [
        "\n",
        "evaluating:\n",
        "  delta=0.951843951445\n",
        "  theta=9.50008756742\n",
        "  z_temp=0.826396758355\n",
        "  p_switch=0.00489144448728\n",
        "  pow_gain=0.823587196531\n",
        "  llh: 241.199657032"
       ]
      },
      {
       "output_type": "stream",
       "stream": "stdout",
       "text": [
        "\n",
        "evaluating:\n",
        "  delta=0.951824456036\n",
        "  theta=9.49995738529\n",
        "  z_temp=0.826364207817\n",
        "  p_switch=0.0048962075304\n",
        "  pow_gain=0.823585147306\n",
        "  llh: 253.261780607"
       ]
      },
      {
       "output_type": "stream",
       "stream": "stdout",
       "text": [
        "\n",
        "evaluating:\n",
        "  delta=0.951845225716\n",
        "  theta=9.50009302503\n",
        "  z_temp=0.826258704636\n",
        "  p_switch=0.0048926951148\n",
        "  pow_gain=0.823611367122\n",
        "  llh: 241.199656999"
       ]
      },
      {
       "output_type": "stream",
       "stream": "stdout",
       "text": [
        "\n",
        "evaluating:\n",
        "  delta=0.951915017426\n",
        "  theta=9.50001421598\n",
        "  z_temp=0.825941022916\n",
        "  p_switch=0.00489125577385\n",
        "  pow_gain=0.8236807439\n",
        "  llh: 241.199654859"
       ]
      },
      {
       "output_type": "stream",
       "stream": "stdout",
       "text": [
        "\n",
        "evaluating:\n",
        "  delta=0.951884976544\n",
        "  theta=9.49998203484\n",
        "  z_temp=0.825897830146\n",
        "  p_switch=0.00489513159553\n",
        "  pow_gain=0.82368029297\n",
        "  llh: 253.262178569"
       ]
      },
      {
       "output_type": "stream",
       "stream": "stdout",
       "text": [
        "\n",
        "evaluating:\n",
        "  delta=0.95185420772\n",
        "  theta=9.50006118427\n",
        "  z_temp=0.826272026303\n",
        "  p_switch=0.00489236626434\n",
        "  pow_gain=0.823610470641\n",
        "  llh: 241.199655434"
       ]
      },
      {
       "output_type": "stream",
       "stream": "stdout",
       "text": [
        "\n",
        "evaluating:\n",
        "  delta=0.951887295075\n",
        "  theta=9.49996384093\n",
        "  z_temp=0.826041212531\n",
        "  p_switch=0.00489374942783\n",
        "  pow_gain=0.823655763787\n",
        "  llh: 253.263726276"
       ]
      },
      {
       "output_type": "stream",
       "stream": "stdout",
       "text": [
        "\n",
        "evaluating:\n",
        "  delta=0.951855743055\n",
        "  theta=9.500060729\n",
        "  z_temp=0.82620433161\n",
        "  p_switch=0.00489295869306\n",
        "  pow_gain=0.823622466288\n",
        "  llh: 241.199655412"
       ]
      },
      {
       "output_type": "stream",
       "stream": "stdout",
       "text": [
        "\n",
        "evaluating:\n",
        "  delta=0.951878927205\n",
        "  theta=9.49999549957\n",
        "  z_temp=0.826000812988\n",
        "  p_switch=0.00489431524977\n",
        "  pow_gain=0.823661458527\n",
        "  llh: 253.262920135"
       ]
      },
      {
       "output_type": "stream",
       "stream": "stdout",
       "text": [
        "\n",
        "evaluating:\n",
        "  delta=0.951860387591\n",
        "  theta=9.5000447631\n",
        "  z_temp=0.826204222974\n",
        "  p_switch=0.0048928535107\n",
        "  pow_gain=0.823623217612\n",
        "  llh: 241.199654622"
       ]
      },
      {
       "output_type": "stream",
       "stream": "stdout",
       "text": [
        "\n",
        "evaluating:\n",
        "  delta=0.951879249683\n",
        "  theta=9.49998956848\n",
        "  z_temp=0.826068464226\n",
        "  p_switch=0.00489368074812\n",
        "  pow_gain=0.823649763409\n",
        "  llh: 253.263613594"
       ]
      },
      {
       "output_type": "stream",
       "stream": "stdout",
       "text": [
        "\n",
        "evaluating:\n",
        "  delta=0.951861619712\n",
        "  theta=9.50004293887\n",
        "  z_temp=0.826170364764\n",
        "  p_switch=0.00489313920682\n",
        "  pow_gain=0.823629290568\n",
        "  llh: 241.199654573"
       ]
      },
      {
       "output_type": "stream",
       "stream": "stdout",
       "text": [
        "\n",
        "evaluating:\n",
        "  delta=0.951798616227\n",
        "  theta=9.50004757066\n",
        "  z_temp=0.82642350966\n",
        "  p_switch=0.00489613704051\n",
        "  pow_gain=0.823570904465\n",
        "  llh: 241.199655516"
       ]
      },
      {
       "output_type": "stream",
       "stream": "stdout",
       "text": [
        "\n",
        "evaluating:\n",
        "  delta=0.951885917126\n",
        "  theta=9.50002255465\n",
        "  z_temp=0.826061644602\n",
        "  p_switch=0.00489247609052\n",
        "  pow_gain=0.823653284041\n",
        "  llh: 241.199654068"
       ]
      },
      {
       "output_type": "stream",
       "stream": "stdout",
       "text": [
        "\n",
        "evaluating:\n",
        "  delta=0.951840050344\n",
        "  theta=9.50003774869\n",
        "  z_temp=0.826423339247\n",
        "  p_switch=0.00489586727516\n",
        "  pow_gain=0.823578155427\n",
        "  llh: 241.199654163"
       ]
      },
      {
       "output_type": "stream",
       "stream": "stdout",
       "text": [
        "\n",
        "evaluating:\n",
        "  delta=0.951848635111\n",
        "  theta=9.50001379398\n",
        "  z_temp=0.82628237076\n",
        "  p_switch=0.00489601639553\n",
        "  pow_gain=0.823604631908\n",
        "  llh: 241.199652898"
       ]
      },
      {
       "output_type": "stream",
       "stream": "stdout",
       "text": [
        "\n",
        "evaluating:\n",
        "  delta=0.951842209149\n",
        "  theta=9.50000396025\n",
        "  z_temp=0.826361031368\n",
        "  p_switch=0.0048968815749\n",
        "  pow_gain=0.823588695488\n",
        "  llh: 241.199652542"
       ]
      },
      {
       "output_type": "stream",
       "stream": "stdout",
       "text": [
        "\n",
        "evaluating:\n",
        "  delta=0.951832503868\n",
        "  theta=9.49998447094\n",
        "  z_temp=0.82645636467\n",
        "  p_switch=0.00489875275894\n",
        "  pow_gain=0.823568397948\n",
        "  llh: 253.26111627"
       ]
      },
      {
       "output_type": "stream",
       "stream": "stdout",
       "text": [
        "\n",
        "evaluating:\n",
        "  delta=0.951851782818\n",
        "  theta=9.50000016396\n",
        "  z_temp=0.826498529014\n",
        "  p_switch=0.00489559266168\n",
        "  pow_gain=0.823566520396\n",
        "  llh: 241.199652336"
       ]
      },
      {
       "output_type": "stream",
       "stream": "stdout",
       "text": [
        "\n",
        "evaluating:\n",
        "  delta=0.951853056475\n",
        "  theta=9.49998298905\n",
        "  z_temp=0.826684479355\n",
        "  p_switch=0.00489582443896\n",
        "  pow_gain=0.823533014931\n",
        "  llh: 253.264565545"
       ]
      },
      {
       "output_type": "stream",
       "stream": "stdout",
       "text": [
        "\n",
        "evaluating:\n",
        "  delta=0.951865660966\n",
        "  theta=9.49998189513\n",
        "  z_temp=0.826231894007\n",
        "  p_switch=0.00489474464827\n",
        "  pow_gain=0.823617242281\n",
        "  llh: 253.263362909"
       ]
      },
      {
       "output_type": "stream",
       "stream": "stdout",
       "text": [
        "\n",
        "evaluating:\n",
        "  delta=0.951846452999\n",
        "  theta=9.5000237853\n",
        "  z_temp=0.826375477937\n",
        "  p_switch=0.00489558661844\n",
        "  pow_gain=0.823587927141\n",
        "  llh: 241.199653335"
       ]
      },
      {
       "output_type": "stream",
       "stream": "stdout",
       "text": [
        "\n",
        "evaluating:\n",
        "  delta=0.951804008533\n",
        "  theta=9.49999758143\n",
        "  z_temp=0.826719121986\n",
        "  p_switch=0.00489938004408\n",
        "  pow_gain=0.823515970907\n",
        "  llh: 253.261075269"
       ]
      },
      {
       "output_type": "stream",
       "stream": "stdout",
       "text": [
        "\n",
        "evaluating:\n",
        "  delta=0.951865439978\n",
        "  theta=9.50001631135\n",
        "  z_temp=0.826226013948\n",
        "  p_switch=0.00489420207891\n",
        "  pow_gain=0.823618955758\n",
        "  llh: 241.199652956"
       ]
      },
      {
       "output_type": "stream",
       "stream": "stdout",
       "text": [
        "\n",
        "evaluating:\n",
        "  delta=0.951851067451\n",
        "  theta=9.4999933612\n",
        "  z_temp=0.826345503055\n",
        "  p_switch=0.00489571570035\n",
        "  pow_gain=0.823593739254\n",
        "  llh: 253.262880013"
       ]
      },
      {
       "output_type": "stream",
       "stream": "stdout",
       "text": [
        "\n",
        "evaluating:\n",
        "  delta=0.951847606612\n",
        "  theta=9.50001617928\n",
        "  z_temp=0.826367984216\n",
        "  p_switch=0.00489561888892\n",
        "  pow_gain=0.823589380169\n",
        "  llh: 241.199652943"
       ]
      },
      {
       "output_type": "stream",
       "stream": "stdout",
       "text": [
        "\n",
        "evaluating:\n",
        "  delta=0.951824947126\n",
        "  theta=9.50000078233\n",
        "  z_temp=0.826551755152\n",
        "  p_switch=0.00489766696388\n",
        "  pow_gain=0.823550880402\n",
        "  llh: 241.199653126"
       ]
      },
      {
       "output_type": "stream",
       "stream": "stdout",
       "text": [
        "\n",
        "evaluating:\n",
        "  delta=0.951855316765\n",
        "  theta=9.50001242909\n",
        "  z_temp=0.826307449249\n",
        "  p_switch=0.00489506830015\n",
        "  pow_gain=0.823601936919\n",
        "  llh: 241.199652682"
       ]
      },
      {
       "output_type": "stream",
       "stream": "stdout",
       "text": [
        "\n",
        "evaluating:\n",
        "  delta=0.951845864553\n",
        "  theta=9.49999941432\n",
        "  z_temp=0.826385570896\n",
        "  p_switch=0.00489602991837\n",
        "  pow_gain=0.82358547869\n",
        "  llh: 253.262723047"
       ]
      },
      {
       "output_type": "stream",
       "stream": "stdout",
       "text": [
        "\n",
        "evaluating:\n",
        "  delta=0.951847171097\n",
        "  theta=9.50001198804\n",
        "  z_temp=0.826372380886\n",
        "  p_switch=0.00489572164628\n",
        "  pow_gain=0.823588404799\n",
        "  llh: 241.199652746"
       ]
      },
      {
       "output_type": "stream",
       "stream": "stdout",
       "text": [
        "\n",
        "evaluating:\n",
        "  delta=0.951844250449\n",
        "  theta=9.50000107724\n",
        "  z_temp=0.826507188403\n",
        "  p_switch=0.00489551451205\n",
        "  pow_gain=0.823563736108\n",
        "  llh: 241.199652476"
       ]
      },
      {
       "output_type": "stream",
       "stream": "stdout",
       "text": [
        "\n",
        "evaluating:\n",
        "  delta=0.951860558041\n",
        "  theta=9.50000321071\n",
        "  z_temp=0.826384124178\n",
        "  p_switch=0.00489594839208\n",
        "  pow_gain=0.823588355045\n",
        "  llh: 241.199652196"
       ]
      },
      {
       "output_type": "stream",
       "stream": "stdout",
       "text": [
        "\n",
        "evaluating:\n",
        "  delta=0.951872970027\n",
        "  theta=9.50000049771\n",
        "  z_temp=0.826358932572\n",
        "  p_switch=0.00489614104514\n",
        "  pow_gain=0.823594851349\n",
        "  llh: 241.199651967"
       ]
      },
      {
       "output_type": "stream",
       "stream": "stdout",
       "text": [
        "\n",
        "evaluating:\n",
        "  delta=0.951859440585\n",
        "  theta=9.49999526326\n",
        "  z_temp=0.826440871356\n",
        "  p_switch=0.00489595759129\n",
        "  pow_gain=0.823577891304\n",
        "  llh: 253.263509553"
       ]
      },
      {
       "output_type": "stream",
       "stream": "stdout",
       "text": [
        "\n",
        "evaluating:\n",
        "  delta=0.951850238469\n",
        "  theta=9.50000780684\n",
        "  z_temp=0.826389503504\n",
        "  p_switch=0.00489578063253\n",
        "  pow_gain=0.823585776426\n",
        "  llh: 241.199652517"
       ]
      },
      {
       "output_type": "stream",
       "stream": "stdout",
       "text": [
        "\n",
        "evaluating:\n",
        "  delta=0.9518492636\n",
        "  theta=9.49999297331\n",
        "  z_temp=0.826538624696\n",
        "  p_switch=0.00489689587037\n",
        "  pow_gain=0.823557894988\n",
        "  llh: 253.263123177"
       ]
      },
      {
       "output_type": "stream",
       "stream": "stdout",
       "text": [
        "\n",
        "evaluating:\n",
        "  delta=0.951853803474\n",
        "  theta=9.50000756515\n",
        "  z_temp=0.826365243111\n",
        "  p_switch=0.00489552519271\n",
        "  pow_gain=0.823590926436\n",
        "  llh: 241.199652446"
       ]
      },
      {
       "output_type": "stream",
       "stream": "stdout",
       "text": [
        "\n",
        "evaluating:\n",
        "  delta=0.951867008945\n",
        "  theta=9.50000288411\n",
        "  z_temp=0.826486727274\n",
        "  p_switch=0.00489454004275\n",
        "  pow_gain=0.823572028798\n",
        "  llh: 241.199652432"
       ]
      },
      {
       "output_type": "stream",
       "stream": "stdout",
       "text": [
        "\n",
        "evaluating:\n",
        "  delta=0.951865687815\n",
        "  theta=9.49999706842\n",
        "  z_temp=0.826497144646\n",
        "  p_switch=0.0048951447492\n",
        "  pow_gain=0.823569448809\n",
        "  llh: 253.264450917"
       ]
      },
      {
       "output_type": "stream",
       "stream": "stdout",
       "text": [
        "\n",
        "evaluating:\n",
        "  delta=0.951854100806\n",
        "  theta=9.50000512224\n",
        "  z_temp=0.826416413789\n",
        "  p_switch=0.0048956216617\n",
        "  pow_gain=0.823581694521\n",
        "  llh: 241.199652372"
       ]
      },
      {
       "output_type": "stream",
       "stream": "stdout",
       "text": [
        "\n",
        "evaluating:\n",
        "  delta=0.951875615979\n",
        "  theta=9.50000541602\n",
        "  z_temp=0.826343149901\n",
        "  p_switch=0.00489545372954\n",
        "  pow_gain=0.823598672492\n",
        "  llh: 241.199652186"
       ]
      },
      {
       "output_type": "stream",
       "stream": "stdout",
       "text": [
        "\n",
        "evaluating:\n",
        "  delta=0.951874787956\n",
        "  theta=9.49999806847\n",
        "  z_temp=0.82647625791\n",
        "  p_switch=0.00489541446362\n",
        "  pow_gain=0.823574580586\n",
        "  llh: 253.264516913"
       ]
      },
      {
       "output_type": "stream",
       "stream": "stdout",
       "text": [
        "\n",
        "evaluating:\n",
        "  delta=0.951859049594\n",
        "  theta=9.50000519098\n",
        "  z_temp=0.82639299681\n",
        "  p_switch=0.00489549751043\n",
        "  pow_gain=0.823586839974\n",
        "  llh: 241.199652304"
       ]
      },
      {
       "output_type": "stream",
       "stream": "stdout",
       "text": [
        "\n",
        "evaluating:\n",
        "  delta=0.951858398744\n",
        "  theta=9.50000367225\n",
        "  z_temp=0.826317281561\n",
        "  p_switch=0.00489678260065\n",
        "  pow_gain=0.823599402695\n",
        "  llh: 241.199652301"
       ]
      },
      {
       "output_type": "stream",
       "stream": "stdout",
       "text": [
        "\n",
        "evaluating:\n",
        "  delta=0.951873026059\n",
        "  theta=9.50000085413\n",
        "  z_temp=0.826347942154\n",
        "  p_switch=0.00489616535728\n",
        "  pow_gain=0.82359682024\n",
        "  llh: 241.199651974"
       ]
      },
      {
       "output_type": "stream",
       "stream": "stdout",
       "text": [
        "\n",
        "evaluating:\n",
        "  delta=0.951883841344\n",
        "  theta=9.50000608848\n",
        "  z_temp=0.826205592185\n",
        "  p_switch=0.00489642343553\n",
        "  pow_gain=0.823624114304\n",
        "  llh: 241.199652346"
       ]
      },
      {
       "output_type": "stream",
       "stream": "stdout",
       "text": [
        "\n",
        "evaluating:\n",
        "  delta=0.951859797449\n",
        "  theta=9.50000164509\n",
        "  z_temp=0.826425294807\n",
        "  p_switch=0.00489580035515\n",
        "  pow_gain=0.823580918873\n",
        "  llh: 241.199652171"
       ]
      },
      {
       "output_type": "stream",
       "stream": "stdout",
       "text": [
        "\n",
        "  status: 0\n",
        "    nfev: 589\n",
        " success: True\n",
        "     fun: 241.19965196697694\n",
        "       x: array([  9.51872970e-01,   9.50000050e+00,   8.26358933e-01,\n",
        "         4.89614105e-03,   8.23594851e-01])\n",
        " message: 'Optimization terminated successfully.'\n",
        "     nit: 355\n"
       ]
      }
     ],
     "prompt_number": 246
    },
    {
     "cell_type": "code",
     "collapsed": false,
     "input": [
      "rp = {}\n",
      "results = {}\n",
      "for fd in fitdata:\n",
      "    p = {'z_temp': 1.,\n",
      "         'options': fd['options']}\n",
      "    for i, parname in enumerate(pars['fitting']):\n",
      "        p[parname] = f['x'][i]\n",
      "    \n",
      "    results[fd['gid']] = model_rw_cpt_pswitch.run(p)\n",
      "    rp[fd['gid']] = results[fd['gid']]['resp_prob']"
     ],
     "language": "python",
     "metadata": {},
     "outputs": [],
     "prompt_number": 396
    },
    {
     "cell_type": "code",
     "collapsed": false,
     "input": [
      "predicted_L = [results[gid]['p_tsteps'][0] for gid in gamble_lab_srt]\n",
      "predicted_H = [results[gid]['p_tsteps'][1] for gid in gamble_lab_srt]"
     ],
     "language": "python",
     "metadata": {},
     "outputs": [],
     "prompt_number": 397
    },
    {
     "cell_type": "code",
     "collapsed": false,
     "input": [
      "arr = data[(data['partid']==sid)][['decision', 'samplesize']].values\n",
      "fig, ax = plt.subplots(1, 2, figsize=(20,5))\n",
      "for gid in gamble_lab_srt:\n",
      "    ax[0].plot(results[gid]['p_stop_t'][0], color='black', alpha=.1)\n",
      "    ax[1].plot(results[gid]['p_stop_t'][1], color='black', alpha=.1)\n",
      "\n",
      "chose_L = arr[arr[:,0]=='L'][:,1]\n",
      "ax[0].hist(chose_L, bins=10, alpha=0.5, weights=np.zeros_like(chose_L) + 1. / chose_L.size, color='gray')\n",
      "ax[0].set_xlim(0, 40)\n",
      "\n",
      "chose_H = arr[arr[:,0]=='H'][:,1]\n",
      "ax[1].hist(chose_H, bins=10, alpha=0.5, weights=np.zeros_like(chose_H) + 1. / chose_H.size, color='gray')\n",
      "ax[1].set_xlim(0, 40)\n",
      "\n",
      "plt.show()"
     ],
     "language": "python",
     "metadata": {},
     "outputs": [
      {
       "metadata": {},
       "output_type": "display_data",
       "png": "[encoded data removed]",
       "text": [
        "<matplotlib.figure.Figure at 0x112800c10>"
       ]
      }
     ],
     "prompt_number": 398
    },
    {
     "cell_type": "code",
     "collapsed": false,
     "input": [
      "dec = [[1 if dec=='H' else 0 for dec in data[(data['partid']==sid) & (data['gamble_lab']==gid)]['decision'].values] for gid in gamble_lab_srt]\n",
      "dec = np.array(dec).transpose()[0]\n",
      "\n",
      "arr = np.array([rp[gid][1] for gid in gamble_lab_srt]).transpose()"
     ],
     "language": "python",
     "metadata": {},
     "outputs": [],
     "prompt_number": 399
    },
    {
     "cell_type": "code",
     "collapsed": false,
     "input": [
      "rp_by_type = [np.mean(arr[:21]), np.mean(arr[21:42]), np.mean(arr[42:63]), np.mean(arr[63:])]\n",
      "dec_by_type = [np.mean(dec[:21]), np.mean(dec[21:42]), np.mean(dec[42:63]), np.mean(dec[63:])]"
     ],
     "language": "python",
     "metadata": {},
     "outputs": [],
     "prompt_number": 400
    },
    {
     "cell_type": "code",
     "collapsed": false,
     "input": [
      "fig, ax = plt.subplots(figsize=(5,5))\n",
      "ax.plot(rp_by_type, '-x', color='gray', label='predicted p(A)')\n",
      "ax.plot(dec_by_type, '-o', color='black', label='observed prop(A)')\n",
      "ax.set_ylim(0, 1)\n",
      "ax.set_xlim(-1, 4)\n",
      "ax.legend()\n",
      "plt.show()"
     ],
     "language": "python",
     "metadata": {},
     "outputs": [
      {
       "metadata": {},
       "output_type": "display_data",
       "png": "[encoded data removed]",
       "text": [
        "<matplotlib.figure.Figure at 0x11164e390>"
       ]
      }
     ],
     "prompt_number": 401
    },
    {
     "cell_type": "markdown",
     "metadata": {},
     "source": [
      "### All together"
     ]
    },
    {
     "cell_type": "code",
     "collapsed": false,
     "input": [
      "fitdata = []\n",
      "for gid in gamble_lab_srt:\n",
      "    gdata = data[data['gamble_lab']==gid]\n",
      "    \n",
      "    tofit = []\n",
      "    for obs in gdata[['decision', 'samplesize', 'group', 'partid']].values:\n",
      "        choice = 0 if obs[0]=='L' else 1\n",
      "        group = 0 if obs[2]=='old' else 1\n",
      "        samplesize = obs[1]\n",
      "        p_switch = switchfreq[obs[3]]\n",
      "        tofit.append([choice, samplesize, group, p_switch])\n",
      "    tofit = np.array(tofit)\n",
      "    \n",
      "    ss_A = tofit[np.where(tofit[:,0]==0)[0],1]\n",
      "    ss_B = tofit[np.where(tofit[:,0]==1)[0],1]\n",
      "    max_t = np.max([np.max(ss_A), np.max(ss_B)]) + 1\n",
      "    \n",
      "    fitdata.append({'gid': gid,\n",
      "                    'options': get_options(gid),\n",
      "                    'max_t': max_t,\n",
      "                    'data': tofit})"
     ],
     "language": "python",
     "metadata": {},
     "outputs": [],
     "prompt_number": 24
    },
    {
     "cell_type": "code",
     "collapsed": false,
     "input": [
      "gid = 'S1G1'\n",
      "pars = {'options': get_options(gid),\n",
      "        'gid': gid,\n",
      "        'p_switch': .2,\n",
      "        'max_t': 100,\n",
      "        'delta': .5,\n",
      "        'theta': 5}\n",
      "result = model_rw_cpt_pswitch.run(pars)"
     ],
     "language": "python",
     "metadata": {},
     "outputs": [],
     "prompt_number": 47
    },
    {
     "cell_type": "code",
     "collapsed": false,
     "input": [
      "result['resp_prob']"
     ],
     "language": "python",
     "metadata": {},
     "outputs": [
      {
       "metadata": {},
       "output_type": "pyout",
       "prompt_number": 48,
       "text": [
        "array([ 0.36671593,  0.1076411 ,  0.08098423,  0.44465874])"
       ]
      }
     ],
     "prompt_number": 48
    },
    {
     "cell_type": "code",
     "collapsed": false,
     "input": [
      "pars = {'data': fitdata,\n",
      "        'z_temp': 1.,\n",
      "        'fitting': ['delta', 'theta', 'pow_gain'],\n",
      "        'verbose': True}\n",
      "init = [1., 5., 1.]\n",
      "model_rw_cpt_pswitch.loglik_across_gambles_measured_switching(init, pars)"
     ],
     "language": "python",
     "metadata": {},
     "outputs": [
      {
       "output_type": "stream",
       "stream": "stdout",
       "text": [
        "evaluating:\n",
        "  delta=1.0\n",
        "  theta=5.0\n",
        "  pow_gain=1.0\n",
        "  llh: 43014.9006401"
       ]
      },
      {
       "output_type": "stream",
       "stream": "stdout",
       "text": [
        "\n",
        "time to evaluate: 202.340723038\n"
       ]
      },
      {
       "metadata": {},
       "output_type": "pyout",
       "prompt_number": 49,
       "text": [
        "43014.900640082778"
       ]
      }
     ],
     "prompt_number": 49
    },
    {
     "cell_type": "code",
     "collapsed": false,
     "input": [
      "f = minimize(model_rw_cpt_pswitch.loglik_across_gambles_measured_switching, init, (pars,), method='Nelder-Mead')\n",
      "print f\n",
      "print bic(f, pars)"
     ],
     "language": "python",
     "metadata": {},
     "outputs": [
      {
       "output_type": "stream",
       "stream": "stdout",
       "text": [
        "evaluating:\n",
        "  delta=1.0\n",
        "  theta=5.0\n",
        "  pow_gain=1.0\n",
        "  llh: 33444.6633689"
       ]
      },
      {
       "output_type": "stream",
       "stream": "stdout",
       "text": [
        "\n",
        "time to evaluate: 208.437556982\n",
        "evaluating:\n",
        "  delta=1.05\n",
        "  theta=5.0\n",
        "  pow_gain=1.0\n",
        "  llh: 33836.697515"
       ]
      },
      {
       "output_type": "stream",
       "stream": "stdout",
       "text": [
        "\n",
        "time to evaluate: 208.403973103\n",
        "evaluating:\n",
        "  delta=1.0\n",
        "  theta=5.25\n",
        "  pow_gain=1.0\n",
        "  llh: 33444.6633689"
       ]
      },
      {
       "output_type": "stream",
       "stream": "stdout",
       "text": [
        "\n",
        "time to evaluate: 207.84405899\n",
        "evaluating:\n",
        "  delta=1.0\n",
        "  theta=5.0\n",
        "  pow_gain=1.05\n",
        "  llh: 33134.9156722"
       ]
      },
      {
       "output_type": "stream",
       "stream": "stdout",
       "text": [
        "\n",
        "time to evaluate: 205.666394949\n",
        "evaluating:\n",
        "  delta=0.95\n",
        "  theta=5.16666666667\n",
        "  pow_gain=1.03333333333\n",
        "  llh: 32862.2003848"
       ]
      },
      {
       "output_type": "stream",
       "stream": "stdout",
       "text": [
        "\n",
        "time to evaluate: 211.55795908\n",
        "evaluating:\n",
        "  delta=0.9\n",
        "  theta=5.25\n",
        "  pow_gain=1.05\n",
        "  llh: 32415.1325286"
       ]
      },
      {
       "output_type": "stream",
       "stream": "stdout",
       "text": [
        "\n",
        "time to evaluate: 210.643759012\n",
        "evaluating:\n",
        "  delta=0.933333333333\n",
        "  theta=4.91666666667\n",
        "  pow_gain=1.06666666667\n",
        "  llh: 32566.69747"
       ]
      },
      {
       "output_type": "stream",
       "stream": "stdout",
       "text": [
        "\n",
        "time to evaluate: 215.969218969\n",
        "evaluating:\n",
        "  delta=0.888888888889\n",
        "  theta=5.11111111111\n",
        "  pow_gain=1.11111111111\n",
        "  llh: 32058.790465"
       ]
      },
      {
       "output_type": "stream",
       "stream": "stdout",
       "text": [
        "\n",
        "time to evaluate: 214.178615093\n",
        "evaluating:\n",
        "  delta=0.833333333333\n",
        "  theta=5.16666666667\n",
        "  pow_gain=1.16666666667\n",
        "  llh: 31498.3830091"
       ]
      },
      {
       "output_type": "stream",
       "stream": "stdout",
       "text": [
        "\n",
        "time to evaluate: 256.110758066\n",
        "evaluating:\n",
        "  delta=0.777777777778\n",
        "  theta=5.22222222222\n",
        "  pow_gain=1.13888888889\n",
        "  llh: 31255.9943862"
       ]
      },
      {
       "output_type": "stream",
       "stream": "stdout",
       "text": [
        "\n",
        "time to evaluate: 219.725638151\n",
        "evaluating:\n",
        "  delta=0.666666666667\n",
        "  theta=5.33333333333\n",
        "  pow_gain=1.18333333333\n",
        "  llh: 30604.665018"
       ]
      },
      {
       "output_type": "stream",
       "stream": "stdout",
       "text": [
        "\n",
        "time to evaluate: 232.272145033\n",
        "evaluating:\n",
        "  delta=0.666666666667\n",
        "  theta=5.58333333333\n",
        "  pow_gain=1.2\n",
        "  llh: 31093.0748586"
       ]
      },
      {
       "output_type": "stream",
       "stream": "stdout",
       "text": [
        "\n",
        "time to evaluate: 253.076983929\n",
        "evaluating:\n",
        "  delta=0.544444444444\n",
        "  theta=5.47222222222\n",
        "  pow_gain=1.31666666667\n",
        "  llh: 30108.6390731"
       ]
      },
      {
       "output_type": "stream",
       "stream": "stdout",
       "text": [
        "\n",
        "time to evaluate: 234.244293928\n",
        "evaluating:\n",
        "  delta=0.366666666667\n",
        "  theta=5.58333333333\n",
        "  pow_gain=1.45\n",
        "  llh: 31075.0965259"
       ]
      },
      {
       "output_type": "stream",
       "stream": "stdout",
       "text": [
        "\n",
        "time to evaluate: 248.782622099\n",
        "evaluating:\n",
        "  delta=0.418518518519\n",
        "  theta=5.75925925926\n",
        "  pow_gain=1.3\n",
        "  llh: 30977.7357714"
       ]
      },
      {
       "output_type": "stream",
       "stream": "stdout",
       "text": [
        "\n",
        "time to evaluate: 264.610301971\n",
        "evaluating:\n",
        "  delta=0.41975308642\n",
        "  theta=5.45987654321\n",
        "  pow_gain=1.33333333333\n",
        "  llh: 29865.8027772"
       ]
      },
      {
       "output_type": "stream",
       "stream": "stdout",
       "text": [
        "\n",
        "time to evaluate: 233.967872858\n",
        "evaluating:\n",
        "  delta=0.296296296296\n",
        "  theta=5.39814814815\n",
        "  pow_gain=1.4\n",
        "  llh: 29734.3259307"
       ]
      },
      {
       "output_type": "stream",
       "stream": "stdout",
       "text": [
        "\n",
        "time to evaluate: 221.637789965\n",
        "evaluating:\n",
        "  delta=0.586419753086\n",
        "  theta=5.04320987654\n",
        "  pow_gain=1.3\n",
        "  llh: 30222.8677257"
       ]
      },
      {
       "output_type": "stream",
       "stream": "stdout",
       "text": [
        "\n",
        "time to evaluate: 220.658643961\n",
        "evaluating:\n",
        "  delta=0.284773662551\n",
        "  theta=5.27572016461\n",
        "  pow_gain=1.49444444444\n",
        "  llh: 29746.2451374"
       ]
      },
      {
       "output_type": "stream",
       "stream": "stdout",
       "text": [
        "\n",
        "time to evaluate: 228.600723982\n",
        "evaluating:\n",
        "  delta=0.163923182442\n",
        "  theta=5.72085048011\n",
        "  pow_gain=1.50740740741\n",
        "  llh: 31143.2466636"
       ]
      },
      {
       "output_type": "stream",
       "stream": "stdout",
       "text": [
        "\n",
        "time to evaluate: 256.671573877\n",
        "evaluating:\n",
        "  delta=0.480795610425\n",
        "  theta=5.21262002743\n",
        "  pow_gain=1.35185185185\n",
        "  llh: 29970.446154"
       ]
      },
      {
       "output_type": "stream",
       "stream": "stdout",
       "text": [
        "\n",
        "time to evaluate: 224.705214024\n",
        "evaluating:\n",
        "  delta=0.163465935071\n",
        "  theta=5.11877000457\n",
        "  pow_gain=1.51419753086\n",
        "  llh: 29663.302108"
       ]
      },
      {
       "output_type": "stream",
       "stream": "stdout",
       "text": [
        "\n",
        "time to evaluate: 220.70676589\n",
        "evaluating:\n",
        "  delta=-0.0270233196159\n",
        "  theta=4.94204389575\n",
        "  pow_gain=1.61296296296\n",
        "evaluating:\n",
        "  delta=0.0155616521872\n",
        "  theta=5.31580551745\n",
        "  pow_gain=1.58724279835\n",
        "  llh: 29598.2958514"
       ]
      },
      {
       "output_type": "stream",
       "stream": "stdout",
       "text": [
        "\n",
        "time to evaluate: 228.265143871\n",
        "evaluating:\n",
        "  delta=-0.217055326932\n",
        "  theta=5.36739826246\n",
        "  pow_gain=1.7049382716\n",
        "evaluating:\n",
        "  delta=0.0321089264848\n",
        "  theta=5.27942894884\n",
        "  pow_gain=1.50651577503\n",
        "  llh: 29602.5009395"
       ]
      },
      {
       "output_type": "stream",
       "stream": "stdout",
       "text": [
        "\n",
        "time to evaluate: 221.764417171\n",
        "evaluating:\n",
        "  delta=-0.155538620468\n",
        "  theta=5.07785483243\n",
        "  pow_gain=1.67197073617\n",
        "evaluating:\n",
        "  delta=0.183337567105\n",
        "  theta=5.31807481922\n",
        "  pow_gain=1.46799268404\n",
        "  llh: 29667.5403858"
       ]
      },
      {
       "output_type": "stream",
       "stream": "stdout",
       "text": [
        "\n",
        "time to evaluate: 228.6841681\n",
        "evaluating:\n",
        "  delta=-0.0425798912767\n",
        "  theta=5.15792816136\n",
        "  pow_gain=1.60397805213\n",
        "evaluating:\n",
        "  delta=0.12685820251\n",
        "  theta=5.27803815475\n",
        "  pow_gain=1.50198902606\n",
        "  llh: 29641.8059141"
       ]
      },
      {
       "output_type": "stream",
       "stream": "stdout",
       "text": [
        "\n",
        "time to evaluate: 224.665915966\n",
        "evaluating:\n",
        "  delta=-0.0471134142831\n",
        "  theta=5.46341174279\n",
        "  pow_gain=1.5496342021\n",
        "evaluating:\n",
        "  delta=0.110821097732\n",
        "  theta=5.20493043913\n",
        "  pow_gain=1.52305669867\n",
        "  llh: 29636.0960805"
       ]
      },
      {
       "output_type": "stream",
       "stream": "stdout",
       "text": [
        "\n",
        "time to evaluate: 218.140596867\n",
        "evaluating:\n",
        "  delta=-0.0211970849069\n",
        "  theta=5.25540511553\n",
        "  pow_gain=1.57588782198\n",
        "evaluating:\n",
        "  delta=0.0898443806556\n",
        "  theta=5.27237989495\n",
        "  pow_gain=1.52046372504\n",
        "  llh: 29625.9387629"
       ]
      },
      {
       "output_type": "stream",
       "stream": "stdout",
       "text": [
        "\n",
        "time to evaluate: 217.463953018\n",
        "evaluating:\n",
        "  delta=-0.0191444581807\n",
        "  theta=5.37347913503\n",
        "  pow_gain=1.55309150028\n",
        "evaluating:\n",
        "  delta=0.0783297087541\n",
        "  theta=5.2470676131\n",
        "  pow_gain=1.53056539908\n",
        "  llh: 29621.5518493"
       ]
      },
      {
       "output_type": "stream",
       "stream": "stdout",
       "text": [
        "\n",
        "time to evaluate: 217.242717028\n",
        "evaluating:\n",
        "  delta=-0.00584418903823\n",
        "  theta=5.28915482465\n",
        "  pow_gain=1.56241892327\n",
        "evaluating:\n",
        "  delta=0.0659222382322\n",
        "  theta=5.27657362737\n",
        "  pow_gain=1.5309525246\n",
        "  llh: 29616.2510475"
       ]
      },
      {
       "output_type": "stream",
       "stream": "stdout",
       "text": [
        "\n",
        "time to evaluate: 221.607781172\n",
        "evaluating:\n",
        "  delta=-0.00260116415139\n",
        "  theta=5.33413778267\n",
        "  pow_gain=1.55257533292\n",
        "evaluating:\n",
        "  delta=0.0580969905277\n",
        "  theta=5.2688351555\n",
        "  pow_gain=1.53606788254\n"
       ]
      },
      {
       "ename": "KeyboardInterrupt",
       "evalue": "",
       "output_type": "pyerr",
       "traceback": [
        "\u001b[0;31m---------------------------------------------------------------------------\u001b[0m\n\u001b[0;31mKeyboardInterrupt\u001b[0m                         Traceback (most recent call last)",
        "\u001b[0;32m<ipython-input-27-8e515db07b06>\u001b[0m in \u001b[0;36m<module>\u001b[0;34m()\u001b[0m\n\u001b[0;32m----> 1\u001b[0;31m \u001b[0mf\u001b[0m \u001b[0;34m=\u001b[0m \u001b[0mminimize\u001b[0m\u001b[0;34m(\u001b[0m\u001b[0mmodel_rw_cpt_pswitch\u001b[0m\u001b[0;34m.\u001b[0m\u001b[0mloglik_across_gambles_measured_switching\u001b[0m\u001b[0;34m,\u001b[0m \u001b[0minit\u001b[0m\u001b[0;34m,\u001b[0m \u001b[0;34m(\u001b[0m\u001b[0mpars\u001b[0m\u001b[0;34m,\u001b[0m\u001b[0;34m)\u001b[0m\u001b[0;34m,\u001b[0m \u001b[0mmethod\u001b[0m\u001b[0;34m=\u001b[0m\u001b[0;34m'Nelder-Mead'\u001b[0m\u001b[0;34m)\u001b[0m\u001b[0;34m\u001b[0m\u001b[0m\n\u001b[0m\u001b[1;32m      2\u001b[0m \u001b[0;32mprint\u001b[0m \u001b[0mf\u001b[0m\u001b[0;34m\u001b[0m\u001b[0m\n\u001b[1;32m      3\u001b[0m \u001b[0;32mprint\u001b[0m \u001b[0mbic\u001b[0m\u001b[0;34m(\u001b[0m\u001b[0mf\u001b[0m\u001b[0;34m,\u001b[0m \u001b[0mpars\u001b[0m\u001b[0;34m)\u001b[0m\u001b[0;34m\u001b[0m\u001b[0m\n",
        "\u001b[0;32m/Users/doug/anaconda/lib/python2.7/site-packages/scipy/optimize/_minimize.pyc\u001b[0m in \u001b[0;36mminimize\u001b[0;34m(fun, x0, args, method, jac, hess, hessp, bounds, constraints, tol, callback, options)\u001b[0m\n\u001b[1;32m    411\u001b[0m                       callback=callback, **options)\n\u001b[1;32m    412\u001b[0m     \u001b[0;32melif\u001b[0m \u001b[0mmeth\u001b[0m \u001b[0;34m==\u001b[0m \u001b[0;34m'nelder-mead'\u001b[0m\u001b[0;34m:\u001b[0m\u001b[0;34m\u001b[0m\u001b[0m\n\u001b[0;32m--> 413\u001b[0;31m         \u001b[0;32mreturn\u001b[0m \u001b[0m_minimize_neldermead\u001b[0m\u001b[0;34m(\u001b[0m\u001b[0mfun\u001b[0m\u001b[0;34m,\u001b[0m \u001b[0mx0\u001b[0m\u001b[0;34m,\u001b[0m \u001b[0margs\u001b[0m\u001b[0;34m,\u001b[0m \u001b[0mcallback\u001b[0m\u001b[0;34m,\u001b[0m \u001b[0;34m**\u001b[0m\u001b[0moptions\u001b[0m\u001b[0;34m)\u001b[0m\u001b[0;34m\u001b[0m\u001b[0m\n\u001b[0m\u001b[1;32m    414\u001b[0m     \u001b[0;32melif\u001b[0m \u001b[0mmeth\u001b[0m \u001b[0;34m==\u001b[0m \u001b[0;34m'powell'\u001b[0m\u001b[0;34m:\u001b[0m\u001b[0;34m\u001b[0m\u001b[0m\n\u001b[1;32m    415\u001b[0m         \u001b[0;32mreturn\u001b[0m \u001b[0m_minimize_powell\u001b[0m\u001b[0;34m(\u001b[0m\u001b[0mfun\u001b[0m\u001b[0;34m,\u001b[0m \u001b[0mx0\u001b[0m\u001b[0;34m,\u001b[0m \u001b[0margs\u001b[0m\u001b[0;34m,\u001b[0m \u001b[0mcallback\u001b[0m\u001b[0;34m,\u001b[0m \u001b[0;34m**\u001b[0m\u001b[0moptions\u001b[0m\u001b[0;34m)\u001b[0m\u001b[0;34m\u001b[0m\u001b[0m\n",
        "\u001b[0;32m/Users/doug/anaconda/lib/python2.7/site-packages/scipy/optimize/optimize.pyc\u001b[0m in \u001b[0;36m_minimize_neldermead\u001b[0;34m(func, x0, args, callback, xtol, ftol, maxiter, maxfev, disp, return_all, **unknown_options)\u001b[0m\n\u001b[1;32m    495\u001b[0m                     \u001b[0;31m# Perform an inside contraction\u001b[0m\u001b[0;34m\u001b[0m\u001b[0;34m\u001b[0m\u001b[0m\n\u001b[1;32m    496\u001b[0m                     \u001b[0mxcc\u001b[0m \u001b[0;34m=\u001b[0m \u001b[0;34m(\u001b[0m\u001b[0;36m1\u001b[0m \u001b[0;34m-\u001b[0m \u001b[0mpsi\u001b[0m\u001b[0;34m)\u001b[0m \u001b[0;34m*\u001b[0m \u001b[0mxbar\u001b[0m \u001b[0;34m+\u001b[0m \u001b[0mpsi\u001b[0m \u001b[0;34m*\u001b[0m \u001b[0msim\u001b[0m\u001b[0;34m[\u001b[0m\u001b[0;34m-\u001b[0m\u001b[0;36m1\u001b[0m\u001b[0;34m]\u001b[0m\u001b[0;34m\u001b[0m\u001b[0m\n\u001b[0;32m--> 497\u001b[0;31m                     \u001b[0mfxcc\u001b[0m \u001b[0;34m=\u001b[0m \u001b[0mfunc\u001b[0m\u001b[0;34m(\u001b[0m\u001b[0mxcc\u001b[0m\u001b[0;34m)\u001b[0m\u001b[0;34m\u001b[0m\u001b[0m\n\u001b[0m\u001b[1;32m    498\u001b[0m \u001b[0;34m\u001b[0m\u001b[0m\n\u001b[1;32m    499\u001b[0m                     \u001b[0;32mif\u001b[0m \u001b[0mfxcc\u001b[0m \u001b[0;34m<\u001b[0m \u001b[0mfsim\u001b[0m\u001b[0;34m[\u001b[0m\u001b[0;34m-\u001b[0m\u001b[0;36m1\u001b[0m\u001b[0;34m]\u001b[0m\u001b[0;34m:\u001b[0m\u001b[0;34m\u001b[0m\u001b[0m\n",
        "\u001b[0;32m/Users/doug/anaconda/lib/python2.7/site-packages/scipy/optimize/optimize.pyc\u001b[0m in \u001b[0;36mfunction_wrapper\u001b[0;34m(*wrapper_args)\u001b[0m\n\u001b[1;32m    279\u001b[0m     \u001b[0;32mdef\u001b[0m \u001b[0mfunction_wrapper\u001b[0m\u001b[0;34m(\u001b[0m\u001b[0;34m*\u001b[0m\u001b[0mwrapper_args\u001b[0m\u001b[0;34m)\u001b[0m\u001b[0;34m:\u001b[0m\u001b[0;34m\u001b[0m\u001b[0m\n\u001b[1;32m    280\u001b[0m         \u001b[0mncalls\u001b[0m\u001b[0;34m[\u001b[0m\u001b[0;36m0\u001b[0m\u001b[0;34m]\u001b[0m \u001b[0;34m+=\u001b[0m \u001b[0;36m1\u001b[0m\u001b[0;34m\u001b[0m\u001b[0m\n\u001b[0;32m--> 281\u001b[0;31m         \u001b[0;32mreturn\u001b[0m \u001b[0mfunction\u001b[0m\u001b[0;34m(\u001b[0m\u001b[0;34m*\u001b[0m\u001b[0;34m(\u001b[0m\u001b[0mwrapper_args\u001b[0m \u001b[0;34m+\u001b[0m \u001b[0margs\u001b[0m\u001b[0;34m)\u001b[0m\u001b[0;34m)\u001b[0m\u001b[0;34m\u001b[0m\u001b[0m\n\u001b[0m\u001b[1;32m    282\u001b[0m \u001b[0;34m\u001b[0m\u001b[0m\n\u001b[1;32m    283\u001b[0m     \u001b[0;32mreturn\u001b[0m \u001b[0mncalls\u001b[0m\u001b[0;34m,\u001b[0m \u001b[0mfunction_wrapper\u001b[0m\u001b[0;34m\u001b[0m\u001b[0m\n",
        "\u001b[0;32m/Users/doug/code/SamplingDynamics/model_rw_cpt_pswitch/model_rw_cpt_pswitch.py\u001b[0m in \u001b[0;36mloglik_across_gambles_measured_switching\u001b[0;34m(value, args)\u001b[0m\n\u001b[1;32m    338\u001b[0m             \u001b[0mgpars\u001b[0m\u001b[0;34m[\u001b[0m\u001b[0;34m'p_switch'\u001b[0m\u001b[0;34m]\u001b[0m \u001b[0;34m=\u001b[0m \u001b[0mpswitch\u001b[0m\u001b[0;34m\u001b[0m\u001b[0m\n\u001b[1;32m    339\u001b[0m \u001b[0;34m\u001b[0m\u001b[0m\n\u001b[0;32m--> 340\u001b[0;31m             \u001b[0mresult\u001b[0m \u001b[0;34m=\u001b[0m \u001b[0mrun\u001b[0m\u001b[0;34m(\u001b[0m\u001b[0mgpars\u001b[0m\u001b[0;34m)\u001b[0m\u001b[0;34m\u001b[0m\u001b[0m\n\u001b[0m\u001b[1;32m    341\u001b[0m             \u001b[0mg_llh\u001b[0m \u001b[0;34m+=\u001b[0m \u001b[0;34m-\u001b[0m\u001b[0;36m1\u001b[0m \u001b[0;34m*\u001b[0m \u001b[0;34m(\u001b[0m\u001b[0mnp\u001b[0m\u001b[0;34m.\u001b[0m\u001b[0mlog\u001b[0m\u001b[0;34m(\u001b[0m\u001b[0mpfix\u001b[0m\u001b[0;34m(\u001b[0m\u001b[0mresult\u001b[0m\u001b[0;34m[\u001b[0m\u001b[0;34m'p_stop_t'\u001b[0m\u001b[0;34m]\u001b[0m\u001b[0;34m[\u001b[0m\u001b[0mchoice\u001b[0m\u001b[0;34m,\u001b[0m \u001b[0mt\u001b[0m\u001b[0;34m]\u001b[0m\u001b[0;34m)\u001b[0m\u001b[0;34m)\u001b[0m \u001b[0;34m+\u001b[0m \u001b[0mnp\u001b[0m\u001b[0;34m.\u001b[0m\u001b[0mlog\u001b[0m\u001b[0;34m(\u001b[0m\u001b[0mpfix\u001b[0m\u001b[0;34m(\u001b[0m\u001b[0mresult\u001b[0m\u001b[0;34m[\u001b[0m\u001b[0;34m'resp_prob'\u001b[0m\u001b[0;34m]\u001b[0m\u001b[0;34m[\u001b[0m\u001b[0mchoice\u001b[0m\u001b[0;34m]\u001b[0m\u001b[0;34m)\u001b[0m\u001b[0;34m)\u001b[0m\u001b[0;34m)\u001b[0m\u001b[0;34m\u001b[0m\u001b[0m\n\u001b[1;32m    342\u001b[0m \u001b[0;34m\u001b[0m\u001b[0m\n",
        "\u001b[0;32m/Users/doug/code/SamplingDynamics/model_rw_cpt_pswitch/model_rw_cpt_pswitch.py\u001b[0m in \u001b[0;36mrun\u001b[0;34m(pars)\u001b[0m\n\u001b[1;32m    148\u001b[0m     \u001b[0mdelta\u001b[0m \u001b[0;34m=\u001b[0m \u001b[0mpars\u001b[0m\u001b[0;34m.\u001b[0m\u001b[0mget\u001b[0m\u001b[0;34m(\u001b[0m\u001b[0;34m'delta'\u001b[0m\u001b[0;34m,\u001b[0m \u001b[0;36m1.\u001b[0m\u001b[0;34m)\u001b[0m    \u001b[0;31m# drift scaling factor\u001b[0m\u001b[0;34m\u001b[0m\u001b[0m\n\u001b[1;32m    149\u001b[0m \u001b[0;34m\u001b[0m\u001b[0m\n\u001b[0;32m--> 150\u001b[0;31m     \u001b[0mtheta\u001b[0m \u001b[0;34m=\u001b[0m \u001b[0mnp\u001b[0m\u001b[0;34m.\u001b[0m\u001b[0mfloat\u001b[0m\u001b[0;34m(\u001b[0m\u001b[0mnp\u001b[0m\u001b[0;34m.\u001b[0m\u001b[0mround\u001b[0m\u001b[0;34m(\u001b[0m\u001b[0mpars\u001b[0m\u001b[0;34m.\u001b[0m\u001b[0mget\u001b[0m\u001b[0;34m(\u001b[0m\u001b[0;34m'theta'\u001b[0m\u001b[0;34m,\u001b[0m \u001b[0;36m5\u001b[0m\u001b[0;34m)\u001b[0m\u001b[0;34m)\u001b[0m\u001b[0;34m)\u001b[0m     \u001b[0;31m# boundaries\u001b[0m\u001b[0;34m\u001b[0m\u001b[0m\n\u001b[0m\u001b[1;32m    151\u001b[0m \u001b[0;34m\u001b[0m\u001b[0m\n\u001b[1;32m    152\u001b[0m     \u001b[0msigma\u001b[0m \u001b[0;34m=\u001b[0m \u001b[0mpars\u001b[0m\u001b[0;34m.\u001b[0m\u001b[0mget\u001b[0m\u001b[0;34m(\u001b[0m\u001b[0;34m'sigma'\u001b[0m\u001b[0;34m,\u001b[0m \u001b[0;36m1.\u001b[0m\u001b[0;34m)\u001b[0m    \u001b[0;31m# diffusion parameter\u001b[0m\u001b[0;34m\u001b[0m\u001b[0m\n",
        "\u001b[0;32m/Users/doug/anaconda/lib/python2.7/site-packages/numpy/core/fromnumeric.pyc\u001b[0m in \u001b[0;36mround_\u001b[0;34m(a, decimals, out)\u001b[0m\n\u001b[1;32m   2627\u001b[0m     \u001b[0;32mexcept\u001b[0m \u001b[0mAttributeError\u001b[0m\u001b[0;34m:\u001b[0m\u001b[0;34m\u001b[0m\u001b[0m\n\u001b[1;32m   2628\u001b[0m         \u001b[0;32mreturn\u001b[0m \u001b[0m_wrapit\u001b[0m\u001b[0;34m(\u001b[0m\u001b[0ma\u001b[0m\u001b[0;34m,\u001b[0m \u001b[0;34m'round'\u001b[0m\u001b[0;34m,\u001b[0m \u001b[0mdecimals\u001b[0m\u001b[0;34m,\u001b[0m \u001b[0mout\u001b[0m\u001b[0;34m)\u001b[0m\u001b[0;34m\u001b[0m\u001b[0m\n\u001b[0;32m-> 2629\u001b[0;31m     \u001b[0;32mreturn\u001b[0m \u001b[0mround\u001b[0m\u001b[0;34m(\u001b[0m\u001b[0mdecimals\u001b[0m\u001b[0;34m,\u001b[0m \u001b[0mout\u001b[0m\u001b[0;34m)\u001b[0m\u001b[0;34m\u001b[0m\u001b[0m\n\u001b[0m\u001b[1;32m   2630\u001b[0m \u001b[0;34m\u001b[0m\u001b[0m\n\u001b[1;32m   2631\u001b[0m \u001b[0;34m\u001b[0m\u001b[0m\n",
        "\u001b[0;31mKeyboardInterrupt\u001b[0m: "
       ]
      }
     ],
     "prompt_number": 27
    },
    {
     "cell_type": "code",
     "collapsed": false,
     "input": [],
     "language": "python",
     "metadata": {},
     "outputs": []
    }
   ],
   "metadata": {}
  }
 ]
}